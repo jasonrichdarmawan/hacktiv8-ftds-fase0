{
 "cells": [
  {
   "cell_type": "markdown",
   "metadata": {},
   "source": [
    "# Proving hypothesis testing one sample"
   ]
  },
  {
   "cell_type": "code",
   "execution_count": 115,
   "metadata": {},
   "outputs": [],
   "source": [
    "import numpy as np\n",
    "import pandas as pd\n",
    "from scipy import stats\n",
    "import seaborn as sns\n",
    "import matplotlib.pyplot as plt"
   ]
  },
  {
   "cell_type": "code",
   "execution_count": 189,
   "metadata": {},
   "outputs": [],
   "source": [
    "x = np.linspace(stats.norm.ppf(0.01), stats.norm.ppf(0.99), 1600)\n",
    "population = pd.Series(stats.norm.pdf(x))"
   ]
  },
  {
   "cell_type": "code",
   "execution_count": 244,
   "metadata": {},
   "outputs": [
    {
     "data": {
      "text/plain": [
       "count    1600.000000\n",
       "mean        0.210516\n",
       "std         0.127380\n",
       "min         0.026652\n",
       "25%         0.087016\n",
       "50%         0.202651\n",
       "75%         0.336655\n",
       "max         0.398942\n",
       "dtype: float64"
      ]
     },
     "execution_count": 244,
     "metadata": {},
     "output_type": "execute_result"
    }
   ],
   "source": [
    "population.describe()"
   ]
  },
  {
   "cell_type": "code",
   "execution_count": 245,
   "metadata": {},
   "outputs": [
    {
     "name": "stdout",
     "output_type": "stream",
     "text": [
      "population skew: 0.08038656863163338\n",
      "population mean: 0.21051557382826455\n"
     ]
    }
   ],
   "source": [
    "print(\"population skew:\", population.skew())\n",
    "print(\"population mean:\", population.mean())"
   ]
  },
  {
   "cell_type": "code",
   "execution_count": 217,
   "metadata": {},
   "outputs": [],
   "source": [
    "sample = population[:-400]"
   ]
  },
  {
   "cell_type": "code",
   "execution_count": 243,
   "metadata": {},
   "outputs": [
    {
     "name": "stdout",
     "output_type": "stream",
     "text": [
      "Hypothesis Testing\n",
      "H0: μ <= 0.21\n",
      "H1: μ > 0.21\n",
      "sample mean: 0.24853389422796615\n",
      "t-statistic: 2.42 p-value: 0.01\n",
      "popmean argument is our estimation of the population mean. we can change the argumen as we like until we get enough evidence to reject the null hypothesis\n",
      "if we want the confidence interval to be 95%, therefore the critical value is 2.5%\n",
      "because p-value is below 0.025, we have enough evidence to reject the null hypothesis. therefore, we can conclude that the mean population is more than 0.24\n",
      "estimated population standard deviation 0.12\n",
      "if we imagine the sample as the weight of waste per day, the conclusion is, 95% of the time, the average weight of waste is less than 0.24. therefore, if we make a drop off site, the capacity per day should be estimated mean population + 3 * estimated mean standard deviation, which is: 0.24 + 3 * 0.12. with that capacity, the drop off site can handle 99.73% of waste delivery without issue.\n"
     ]
    }
   ],
   "source": [
    "print(\"Hypothesis Testing\\n\"\n",
    "      \"H0: μ <= 0.21\\n\"\n",
    "      \"H1: μ > 0.21\")\n",
    "\n",
    "t_stat, p_value = stats.ttest_1samp(a = sample, popmean=0.24, alternative=\"greater\")\n",
    "\n",
    "print(\"sample mean:\", sample.mean())\n",
    "print(\"t-statistic: {0:.2f} p-value: {1:.2f}\".format(t_stat, p_value))\n",
    "\n",
    "print(\"the popmean argument is our estimation of the population mean. \"\n",
    "      \"we can change the argumen as we like until we get enough evidence to reject \"\n",
    "      \"the null hypothesis.\")\n",
    "\n",
    "print(\"if we want the confidence interval to be 95%, \"\n",
    "      \"therefore the critical value is 2.5%\")\n",
    "\n",
    "print(\"because p-value is below 0.025, we have enough evidence to reject the null hypothesis. \"\n",
    "      \"therefore, we can conclude that the mean population is more than 0.24.\")\n",
    "\n",
    "print(\"estimated population standard deviation {0:.2f}\".format(sample.std(ddof=0)))\n",
    "\n",
    "print(\"if we imagine the sample as the weight of waste per day, the conclusion is, \"\n",
    "      \"95% of the time, the average weight of waste is less than 0.24. \"\n",
    "      \"therefore, if we make a drop off site, the capacity per day should be \"\n",
    "      \"estimated mean population + 3 * estimated mean standard deviation, \"\n",
    "      \"which is: 0.24 + 3 * 0.12. \"\n",
    "      \"with that capacity, the drop off site can handle 99.73% of the time without issue.\")"
   ]
  }
 ],
 "metadata": {
  "kernelspec": {
   "display_name": "Python 3.10.7 64-bit",
   "language": "python",
   "name": "python3"
  },
  "language_info": {
   "codemirror_mode": {
    "name": "ipython",
    "version": 3
   },
   "file_extension": ".py",
   "mimetype": "text/x-python",
   "name": "python",
   "nbconvert_exporter": "python",
   "pygments_lexer": "ipython3",
   "version": "3.10.7"
  },
  "orig_nbformat": 4,
  "vscode": {
   "interpreter": {
    "hash": "aee8b7b246df8f9039afb4144a1f6fd8d2ca17a180786b69acc140d282b71a49"
   }
  }
 },
 "nbformat": 4,
 "nbformat_minor": 2
}
