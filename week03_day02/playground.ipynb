{
 "cells": [
  {
   "cell_type": "markdown",
   "metadata": {},
   "source": [
    "# Proving hypothesis testing one sample"
   ]
  },
  {
   "cell_type": "code",
   "execution_count": 2,
   "metadata": {},
   "outputs": [],
   "source": [
    "import numpy as np\n",
    "import pandas as pd\n",
    "from scipy import stats\n",
    "import seaborn as sns\n",
    "import matplotlib.pyplot as plt"
   ]
  },
  {
   "cell_type": "code",
   "execution_count": 3,
   "metadata": {},
   "outputs": [],
   "source": [
    "x = np.linspace(stats.norm.ppf(0.01), stats.norm.ppf(0.99), 1600)\n",
    "population = pd.Series(stats.norm.pdf(x))"
   ]
  },
  {
   "cell_type": "code",
   "execution_count": 4,
   "metadata": {},
   "outputs": [
    {
     "data": {
      "text/plain": [
       "count    1600.000000\n",
       "mean        0.210516\n",
       "std         0.127380\n",
       "min         0.026652\n",
       "25%         0.087016\n",
       "50%         0.202651\n",
       "75%         0.336655\n",
       "max         0.398942\n",
       "dtype: float64"
      ]
     },
     "execution_count": 4,
     "metadata": {},
     "output_type": "execute_result"
    }
   ],
   "source": [
    "population.describe()"
   ]
  },
  {
   "cell_type": "code",
   "execution_count": 5,
   "metadata": {},
   "outputs": [
    {
     "name": "stdout",
     "output_type": "stream",
     "text": [
      "population skew: 0.08038656863163338\n",
      "population mean: 0.21051557382826455\n"
     ]
    }
   ],
   "source": [
    "print(\"population skew:\", population.skew())\n",
    "print(\"population mean:\", population.mean())"
   ]
  },
  {
   "cell_type": "code",
   "execution_count": 6,
   "metadata": {},
   "outputs": [],
   "source": [
    "# DO NOT DO THIS!\n",
    "# sample data should not be from the population data.\n",
    "# reference: https://stats.stackexchange.com/questions/592654/can-we-change-the-estimated-population-mean-in-hypothesis-testing?noredirect=1#comment1096571_592654\n",
    "sample = population[:-400]"
   ]
  },
  {
   "cell_type": "code",
   "execution_count": 7,
   "metadata": {},
   "outputs": [
    {
     "name": "stdout",
     "output_type": "stream",
     "text": [
      "Hypothesis Testing\n",
      "H0: μ <= 0.21\n",
      "H1: μ > 0.21\n",
      "sample mean: 0.24853389422796615\n",
      "t-statistic: 2.42 p-value: 0.01\n",
      "if we want the confidence interval to be 95%, therefore the critical value is 2.5%\n",
      "because p-value is below 0.025, we have enough evidence to reject the null hypothesis. therefore, we can conclude that the mean population is more than 0.24.\n",
      "estimated population standard deviation 0.12\n",
      "if we imagine the sample as the weight of waste per day, the conclusion is, 95% of the time, the average weight of waste is less than 0.24. therefore, if we make a drop off site, the capacity per day should be estimated mean population + 3 * estimated mean standard deviation, which is: 0.24 + 3 * 0.12. with that capacity, the drop off site can handle 99.73% of the time without issue.\n"
     ]
    }
   ],
   "source": [
    "print(\"Hypothesis Testing\\n\"\n",
    "      \"H0: μ <= 0.21\\n\"\n",
    "      \"H1: μ > 0.21\")\n",
    "\n",
    "t_stat, p_value = stats.ttest_1samp(a = sample, popmean=0.24, alternative=\"greater\")\n",
    "\n",
    "print(\"sample mean:\", sample.mean())\n",
    "print(\"t-statistic: {0:.2f} p-value: {1:.2f}\".format(t_stat, p_value))\n",
    "\n",
    "# WRONG! WRONG!\n",
    "# print(\"the popmean argument is our estimation of the population mean. \"\n",
    "#       \"we can change the argumen as we like until we get enough evidence to reject \"\n",
    "#       \"the null hypothesis.\")\n",
    "# the popmean is a priori. you should not change the popmean argument after the first test.\n",
    "# reference: https://stats.stackexchange.com/questions/592654/can-we-change-the-estimated-population-mean-in-hypothesis-testing?noredirect=1#comment1096571_592654\n",
    "\n",
    "print(\"if we want the confidence interval to be 95%, \"\n",
    "      \"therefore the critical value is 2.5%\")\n",
    "\n",
    "print(\"because p-value is below 0.025, we have enough evidence to reject the null hypothesis. \"\n",
    "      \"therefore, we can conclude that the mean population is more than 0.24.\")\n",
    "\n",
    "print(\"estimated population standard deviation {0:.2f}\".format(sample.std(ddof=0)))\n",
    "\n",
    "print(\"if we imagine the sample as the weight of waste per day, the conclusion is, \"\n",
    "      \"95% of the time, the average weight of waste is less than 0.24. \"\n",
    "      \"therefore, if we make a drop off site, the capacity per day should be \"\n",
    "      \"estimated mean population + 3 * estimated mean standard deviation, \"\n",
    "      \"which is: 0.24 + 3 * 0.12. \"\n",
    "      \"with that capacity, the drop off site can handle 99.73% of the time without issue.\")"
   ]
  },
  {
   "cell_type": "markdown",
   "metadata": {},
   "source": [
    "# Analytics Vidhya\n",
    "\n",
    "https://www.analyticsvidhya.com/blog/2021/05/detecting-and-treating-outliers-treating-the-odd-one-out/\n",
    "\n",
    "## Detecting outliers using Boxplot"
   ]
  },
  {
   "cell_type": "code",
   "execution_count": 8,
   "metadata": {},
   "outputs": [
    {
     "data": {
      "image/png": "[encoded data removed]",
      "text/plain": [
       "<Figure size 640x480 with 1 Axes>"
      ]
     },
     "metadata": {},
     "output_type": "display_data"
    }
   ],
   "source": [
    "sample = [15, 101, 18, 7, 13, 16, 11, 21, 5, 15, 10, 9]\n",
    "# vert=False to draw the box horizontally\n",
    "plt.boxplot(sample, vert=False)\n",
    "plt.title(\"Detecting outliers using Boxplot\")\n",
    "plt.xlabel(\"Sample\")\n",
    "plt.show()"
   ]
  },
  {
   "cell_type": "markdown",
   "metadata": {},
   "source": [
    "## Detecting outliers using the Z-scores"
   ]
  },
  {
   "cell_type": "code",
   "execution_count": 9,
   "metadata": {},
   "outputs": [
    {
     "name": "stdout",
     "output_type": "stream",
     "text": [
      "data point: 15, z_score: -0.21\n",
      "data point: 101, z_score: 3.26\n",
      "data point: 18, z_score: -0.08\n",
      "data point: 7, z_score: -0.53\n",
      "data point: 13, z_score: -0.29\n",
      "data point: 16, z_score: -0.16\n",
      "data point: 11, z_score: -0.37\n",
      "data point: 21, z_score: 0.04\n",
      "data point: 5, z_score: -0.61\n",
      "data point: 15, z_score: -0.21\n",
      "data point: 10, z_score: -0.41\n",
      "data point: 9, z_score: -0.45\n",
      "Outliers from Z-scores method:  [101]\n"
     ]
    }
   ],
   "source": [
    "sample = [15, 101, 18, 7, 13, 16, 11, 21, 5, 15, 10, 9]\n",
    "def detect_outliers_zscore(data):\n",
    "    outliers = []\n",
    "    thres = 3\n",
    "    mean = np.mean(data)\n",
    "    std = np.std(data)\n",
    "    for i in data:\n",
    "        z_score = (i-mean)/std\n",
    "        print(\"data point: {0}, z_score: {1:.2f}\".format(i, z_score))\n",
    "        if (np.abs(z_score) > thres):\n",
    "            outliers.append(i)\n",
    "    return outliers\n",
    "sample_outliers = detect_outliers_zscore(sample)\n",
    "print(\"Outliers from Z-scores method: \", sample_outliers)"
   ]
  },
  {
   "cell_type": "markdown",
   "metadata": {},
   "source": [
    "## Detecting outliers using the Interquartile Range (IQR)"
   ]
  },
  {
   "cell_type": "code",
   "execution_count": 10,
   "metadata": {},
   "outputs": [
    {
     "name": "stdout",
     "output_type": "stream",
     "text": [
      "Q1: 9.75, Q3: 16.5\n",
      "Lower limit: -0.375, Upper limit: 26.625\n",
      "Outliers from IQR method:  [101]\n"
     ]
    }
   ],
   "source": [
    "sample = [15, 101, 18, 7, 13, 16, 11, 21, 5, 15, 10, 9]\n",
    "def detect_outliers_iqr(data):\n",
    "    outliers = []\n",
    "    # numpy.percentile sort the array, so it is not necessary.\n",
    "    # data = sorted(data)\n",
    "    q1, q3 = np.percentile(data, [25, 75])\n",
    "    print(\"Q1: {0}, Q3: {1}\".format(q1, q3))\n",
    "    IQR = q3-q1\n",
    "    lwr_bound = q1-(1.5*IQR)\n",
    "    upr_bound = q3+(1.5*IQR)\n",
    "    print(\"Lower limit: {0}, Upper limit: {1}\".format(lwr_bound, upr_bound))\n",
    "    for i in data: \n",
    "        if (i<lwr_bound or i>upr_bound):\n",
    "            outliers.append(i)\n",
    "    return outliers\n",
    "sample_outliers = detect_outliers_iqr(sample)\n",
    "print(\"Outliers from IQR method: \", sample_outliers)"
   ]
  },
  {
   "cell_type": "markdown",
   "metadata": {},
   "source": [
    "## Trimming/Remove the outliers\n",
    "\n",
    "The article claimed that removing the outliers from the dataset is not a good practice."
   ]
  },
  {
   "cell_type": "code",
   "execution_count": 11,
   "metadata": {},
   "outputs": [
    {
     "name": "stdout",
     "output_type": "stream",
     "text": [
      "Q1: 9.75, Q3: 16.5\n",
      "Lower limit: -0.375, Upper limit: 26.625\n",
      "[15 18  7 13 16 11 21  5 15 10  9]\n"
     ]
    }
   ],
   "source": [
    "sample = np.array([15, 101, 18, 7, 13, 16, 11, 21, 5, 15, 10, 9])\n",
    "sample_outliers = detect_outliers_iqr(sample)\n",
    "# Trimming\n",
    "for i in sample_outliers:\n",
    "    a = np.delete(sample, np.where(sample==i))\n",
    "print(a)"
   ]
  },
  {
   "cell_type": "markdown",
   "metadata": {},
   "source": [
    "## Quantile based flooring and capping\n",
    "\n",
    "This one is weird. Must ask Instructor"
   ]
  },
  {
   "cell_type": "code",
   "execution_count": 12,
   "metadata": {},
   "outputs": [
    {
     "name": "stdout",
     "output_type": "stream",
     "text": [
      "7.2 20.700000000000003\n",
      "New array: [15.  20.7 18.   7.2 13.  16.  11.  20.7  7.2 15.  10.   9. ]\n"
     ]
    }
   ],
   "source": [
    "sample = [15, 101, 18, 7, 13, 16, 11, 21, 5, 15, 10, 9]\n",
    "# Computing 10th, 90th percentiles and replacing the outliers\n",
    "tenth_percentile = np.percentile(sample, 10)\n",
    "ninetieth_percentile = np.percentile(sample, 90)\n",
    "print(tenth_percentile, ninetieth_percentile)\n",
    "b = np.where(sample<tenth_percentile, tenth_percentile, sample)\n",
    "b = np.where(b>ninetieth_percentile, ninetieth_percentile, b)\n",
    "# print(\"Sample:\", sample)\n",
    "print(\"New array:\",b)"
   ]
  },
  {
   "cell_type": "markdown",
   "metadata": {},
   "source": [
    "## Mean/Median imputation"
   ]
  },
  {
   "cell_type": "code",
   "execution_count": 20,
   "metadata": {},
   "outputs": [
    {
     "name": "stdout",
     "output_type": "stream",
     "text": [
      "Sample:  3.268283609245737\n",
      "New array:  -0.030924904115496116\n"
     ]
    }
   ],
   "source": [
    "sample = np.array([15, 101, 18, 7, 13, 16, 11, 21, 5, 15, 10, 9])\n",
    "median = np.median(sample) # Replace with median\n",
    "for i in sample_outliers:\n",
    "    c = np.where(sample==i, median, sample)\n",
    "print(\"Sample: \", sample)\n",
    "print(\"New array: \", c)"
   ]
  }
 ],
 "metadata": {
  "kernelspec": {
   "display_name": "Python 3.10.7 64-bit",
   "language": "python",
   "name": "python3"
  },
  "language_info": {
   "codemirror_mode": {
    "name": "ipython",
    "version": 3
   },
   "file_extension": ".py",
   "mimetype": "text/x-python",
   "name": "python",
   "nbconvert_exporter": "python",
   "pygments_lexer": "ipython3",
   "version": "3.10.7"
  },
  "orig_nbformat": 4,
  "vscode": {
   "interpreter": {
    "hash": "aee8b7b246df8f9039afb4144a1f6fd8d2ca17a180786b69acc140d282b71a49"
   }
  }
 },
 "nbformat": 4,
 "nbformat_minor": 2
}
