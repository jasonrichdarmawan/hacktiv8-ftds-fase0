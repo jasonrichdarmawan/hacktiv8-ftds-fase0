{
 "cells": [
  {
   "cell_type": "markdown",
   "metadata": {},
   "source": [
    "![solving cases](./images/Screen%20Shot%202022-10-18%20at%2014.12.38.png)"
   ]
  }
 ],
 "metadata": {
  "kernelspec": {
   "display_name": "Python 3.10.7 64-bit",
   "language": "python",
   "name": "python3"
  },
  "language_info": {
   "name": "python",
   "version": "3.10.7"
  },
  "orig_nbformat": 4,
  "vscode": {
   "interpreter": {
    "hash": "aee8b7b246df8f9039afb4144a1f6fd8d2ca17a180786b69acc140d282b71a49"
   }
  }
 },
 "nbformat": 4,
 "nbformat_minor": 2
}
