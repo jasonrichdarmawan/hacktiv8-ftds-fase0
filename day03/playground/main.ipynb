{
 "cells": [
  {
   "cell_type": "markdown",
   "metadata": {},
   "source": [
    "# Condition"
   ]
  },
  {
   "cell_type": "code",
   "execution_count": 7,
   "metadata": {},
   "outputs": [
    {
     "name": "stdout",
     "output_type": "stream",
     "text": [
      "Hello\n",
      "3<5\n",
      "nilai c adalah 5 dan nilai d adalah 5\n"
     ]
    }
   ],
   "source": [
    "if True:\n",
    "    print(\"Hello\")\n",
    "\n",
    "b = 5\n",
    "if 3 < b:\n",
    "    print(f'3<{b}')\n",
    "\n",
    "c = 5\n",
    "d = 5\n",
    "if c<=d:\n",
    "    print(f'nilai c adalah {c} dan nilai d adalah {d}')"
   ]
  },
  {
   "cell_type": "markdown",
   "metadata": {},
   "source": [
    "# Latihan\n",
    "\n",
    "* nilai 80-100 -> A\n",
    "* nilai 70-80 -> B\n",
    "* nilai 60-70 -> C\n",
    "* nilai 50-60 -> D\n",
    "* nilai <50 -> E"
   ]
  },
  {
   "cell_type": "code",
   "execution_count": 33,
   "metadata": {},
   "outputs": [
    {
     "name": "stdout",
     "output_type": "stream",
     "text": [
      "error expected: error\n",
      "A expected: A\n",
      "A expected: A\n",
      "B expected: B\n",
      "B expected: B\n",
      "C expected: C\n",
      "C expected: C\n",
      "D expected: D\n",
      "D expected: D\n",
      "E expected: E\n",
      "E expected: E\n",
      "error expected: error\n"
     ]
    }
   ],
   "source": [
    "def NilaiGrade(nilai):\n",
    "    # guard clause\n",
    "    if nilai < 0 or nilai > 100:\n",
    "        return \"error\"\n",
    "\n",
    "    if nilai >= 80 and nilai <= 100:\n",
    "        return \"A\"\n",
    "    if nilai >= 70 and nilai <= 80:\n",
    "        return \"B\"\n",
    "    if nilai >= 60 and nilai < 70:\n",
    "        return \"C\"\n",
    "    if nilai >= 50 and nilai < 60:\n",
    "        return \"D\"\n",
    "    if nilai <50:\n",
    "        return \"E\"\n",
    "\n",
    "print(NilaiGrade(101), \"expected: error\")\n",
    "print(NilaiGrade(100), \"expected: A\")\n",
    "print(NilaiGrade(80), \"expected: A\")\n",
    "print(NilaiGrade(79), \"expected: B\")\n",
    "print(NilaiGrade(70), \"expected: B\")\n",
    "print(NilaiGrade(69), \"expected: C\")\n",
    "print(NilaiGrade(60), \"expected: C\")\n",
    "print(NilaiGrade(59), \"expected: D\")\n",
    "print(NilaiGrade(50), \"expected: D\")\n",
    "print(NilaiGrade(49), \"expected: E\")\n",
    "print(NilaiGrade(0), \"expected: E\")\n",
    "print(NilaiGrade(-1), \"expected: error\")"
   ]
  },
  {
   "cell_type": "markdown",
   "metadata": {},
   "source": [
    "# In"
   ]
  },
  {
   "cell_type": "code",
   "execution_count": 35,
   "metadata": {},
   "outputs": [
    {
     "name": "stdout",
     "output_type": "stream",
     "text": [
      "A merupakan bagian dari kota\n"
     ]
    }
   ],
   "source": [
    "kota = ['A', 'B', 'C']\n",
    "if 'A' in kota:\n",
    "    print('A merupakan bagian dari kota')"
   ]
  },
  {
   "cell_type": "code",
   "execution_count": 39,
   "metadata": {},
   "outputs": [
    {
     "name": "stdout",
     "output_type": "stream",
     "text": [
      "berhasil nilai a adalah 1\n",
      "berhasil nilai a adalah 2\n",
      "berhasil nilai a adalah 3\n",
      "berhasil nilai a adalah 4\n",
      "berhasil nilai a adalah 5\n",
      "berhasil nilai a adalah 6\n",
      "berhasil nilai a adalah 7\n",
      "berhasil nilai a adalah 8\n",
      "berhasil nilai a adalah 9\n"
     ]
    }
   ],
   "source": [
    "a = 1\n",
    "\n",
    "while a < 10:\n",
    "    print(f'berhasil nilai a adalah {a}')\n",
    "    a += 1"
   ]
  },
  {
   "cell_type": "markdown",
   "metadata": {},
   "source": [
    "# For Loop"
   ]
  },
  {
   "cell_type": "code",
   "execution_count": 41,
   "metadata": {},
   "outputs": [
    {
     "name": "stdout",
     "output_type": "stream",
     "text": [
      "A merupakan bagian dari kota\n",
      "B merupakan bagian dari kota\n",
      "C merupakan bagian dari kota\n",
      "berhasil nilai c adalah 1\n",
      "berhasil nilai c adalah 2\n"
     ]
    }
   ],
   "source": [
    "kota = ['A','B','C']\n",
    "for nama_kota in kota:\n",
    "    print(f'{nama_kota} merupakan bagian dari kota')\n",
    "\n",
    "for c in range (1,3):\n",
    "    print(f'berhasil nilai c adalah {c}')"
   ]
  },
  {
   "cell_type": "code",
   "execution_count": 48,
   "metadata": {},
   "outputs": [
    {
     "name": "stdout",
     "output_type": "stream",
     "text": [
      "1 x 1 = 1\n",
      "1 x 2 = 2\n",
      "1 x 3 = 3\n",
      "1 x 4 = 4\n",
      "1 x 5 = 5\n",
      "********************\n",
      "2 x 1 = 2\n",
      "2 x 2 = 4\n",
      "2 x 3 = 6\n",
      "2 x 4 = 8\n",
      "2 x 5 = 10\n",
      "********************\n",
      "3 x 1 = 3\n",
      "3 x 2 = 6\n",
      "3 x 3 = 9\n",
      "3 x 4 = 12\n",
      "3 x 5 = 15\n",
      "********************\n",
      "4 x 1 = 4\n",
      "4 x 2 = 8\n",
      "4 x 3 = 12\n",
      "4 x 4 = 16\n",
      "4 x 5 = 20\n",
      "********************\n"
     ]
    }
   ],
   "source": [
    "a = 1\n",
    "b = 1\n",
    "while a < 5:\n",
    "    while b < 6:\n",
    "        print(f'{a} x {b} = {a * b}')\n",
    "        b += 1\n",
    "    a += 1\n",
    "    b = 1\n",
    "    print('*'*20)"
   ]
  },
  {
   "cell_type": "code",
   "execution_count": 45,
   "metadata": {},
   "outputs": [
    {
     "name": "stdout",
     "output_type": "stream",
     "text": [
      "1 x 1 = 1\n",
      "1 x 2 = 2\n",
      "1 x 3 = 3\n",
      "1 x 4 = 4\n",
      "1 x 5 = 5\n",
      "********************\n",
      "2 x 1 = 2\n",
      "2 x 2 = 4\n",
      "2 x 3 = 6\n",
      "2 x 4 = 8\n",
      "2 x 5 = 10\n",
      "********************\n",
      "3 x 1 = 3\n",
      "3 x 2 = 6\n",
      "3 x 3 = 9\n",
      "3 x 4 = 12\n",
      "3 x 5 = 15\n",
      "********************\n",
      "4 x 1 = 4\n",
      "4 x 2 = 8\n",
      "4 x 3 = 12\n",
      "4 x 4 = 16\n",
      "4 x 5 = 20\n",
      "********************\n"
     ]
    }
   ],
   "source": [
    "for a in range(1,5):\n",
    "    for b in range(1,6):\n",
    "        print(f'{a} x {b} = {a * b}')\n",
    "    print('*'*20)"
   ]
  },
  {
   "cell_type": "markdown",
   "metadata": {},
   "source": [
    "# Flow Control Statement\n",
    "1. Continue\n",
    "2. Break"
   ]
  },
  {
   "cell_type": "code",
   "execution_count": 53,
   "metadata": {},
   "outputs": [
    {
     "name": "stdout",
     "output_type": "stream",
     "text": [
      "nilai 4\n"
     ]
    }
   ],
   "source": [
    "for b in range (1, 6):\n",
    "    if b in (1,2):\n",
    "        continue\n",
    "    if b == 3:\n",
    "        continue\n",
    "    if b == 5:\n",
    "        break\n",
    "    print(f'nilai {b}')"
   ]
  },
  {
   "cell_type": "markdown",
   "metadata": {},
   "source": [
    "# Latihan\n",
    "\n",
    "* nilai 80-100 -> A\n",
    "* nilai 70-80 -> B\n",
    "* nilai 60-70 -> C\n",
    "* nilai 50-60 -> D\n",
    "* nilai <50 -> E"
   ]
  },
  {
   "cell_type": "code",
   "execution_count": 61,
   "metadata": {},
   "outputs": [
    {
     "name": "stdout",
     "output_type": "stream",
     "text": [
      "Raka grade: A\n",
      "Hana grade: A\n",
      "Dian grade: D\n"
     ]
    }
   ],
   "source": [
    "def NilaiGrade(nilai: int):\n",
    "    # guard clause\n",
    "    if nilai < 0 or nilai > 100:\n",
    "        return \"error\"\n",
    "\n",
    "    if nilai >= 80 and nilai <= 100:\n",
    "        return \"A\"\n",
    "    if nilai >= 70 and nilai <= 80:\n",
    "        return \"B\"\n",
    "    if nilai >= 60 and nilai < 70:\n",
    "        return \"C\"\n",
    "    if nilai >= 50 and nilai < 60:\n",
    "        return \"D\"\n",
    "    if nilai <50:\n",
    "        return \"E\"\n",
    "\n",
    "kamus={'Raka':100,'Hana':90,'Dian':55}\n",
    "\n",
    "for key in kamus:\n",
    "    print(f'{key} grade: {NilaiGrade(kamus[key])}')"
   ]
  },
  {
   "cell_type": "code",
   "execution_count": 63,
   "metadata": {},
   "outputs": [
    {
     "name": "stdout",
     "output_type": "stream",
     "text": [
      "luas dari Persegi: 25\n"
     ]
    }
   ],
   "source": [
    "print(\"luas dari Persegi: %d\" % 25)"
   ]
  },
  {
   "cell_type": "markdown",
   "metadata": {},
   "source": [
    "# Latihan"
   ]
  },
  {
   "cell_type": "code",
   "execution_count": 77,
   "metadata": {},
   "outputs": [
    {
     "name": "stdout",
     "output_type": "stream",
     "text": [
      "error\n",
      "['Malang']\n",
      "['Malang', 'Jakarta', 'Riau']\n",
      "['Malang', 'Jakarta', 'Riau', 'Surabaya', 'Batam']\n",
      "['Malang', 'Riau', 'Surabaya', 'Batam']\n",
      "['Riau', 'Surabaya', 'Batam']\n"
     ]
    }
   ],
   "source": [
    "nama_kota: list[str] = []\n",
    "\n",
    "def insertKota(data: str):\n",
    "    for kota in nama_kota:\n",
    "        if kota == data:\n",
    "            print(\"error\")\n",
    "            return \"error\"\n",
    "    nama_kota.append(data)\n",
    "\n",
    "insertKota(\"Malang\")\n",
    "insertKota(\"Malang\")\n",
    "print(nama_kota)\n",
    "\n",
    "def insertKotaMany(*kotas: tuple[str]):\n",
    "    for kota in kotas:\n",
    "        insertKota(kota)\n",
    "\n",
    "def insertKotaList(kotas: list[str]):\n",
    "    for kota in kotas:\n",
    "        insertKota(kota)\n",
    "\n",
    "insertKotaMany('Jakarta', 'Riau')\n",
    "print(nama_kota)\n",
    "\n",
    "insertKotaList(['Surabaya', 'Batam'])\n",
    "print(nama_kota)\n",
    "\n",
    "def removeKota(kota: str):\n",
    "    nama_kota.remove(kota)\n",
    "\n",
    "removeKota('Jakarta')\n",
    "print(nama_kota)\n",
    "\n",
    "nama_kota.pop(0)\n",
    "print(nama_kota)"
   ]
  },
  {
   "cell_type": "markdown",
   "metadata": {},
   "source": [
    "# Embedding method to an existing class"
   ]
  },
  {
   "cell_type": "code",
   "execution_count": 93,
   "metadata": {},
   "outputs": [
    {
     "name": "stdout",
     "output_type": "stream",
     "text": [
      "['Malang']\n",
      "['Malang', 'Jakarta']\n",
      "duplicate\n",
      "['Malang', 'Jakarta']\n"
     ]
    }
   ],
   "source": [
    "class DuplicateError(BaseException): ...\n",
    "\n",
    "class Kota(list[str]):\n",
    "\n",
    "    def insertKota(self, input: str = \"Jakarta\"):\n",
    "        for kota in self:\n",
    "            if kota == input:\n",
    "                return DuplicateError(\"duplicate\")\n",
    "        self.append(input)\n",
    "\n",
    "d = Kota()\n",
    "\n",
    "d.insertKota(input = \"Malang\")\n",
    "print(d)\n",
    "\n",
    "d.insertKota()\n",
    "print(d)\n",
    "\n",
    "err = d.insertKota(\"Malang\")\n",
    "if err != None:\n",
    "    print(err)\n",
    "print(d)"
   ]
  },
  {
   "cell_type": "code",
   "execution_count": 94,
   "metadata": {},
   "outputs": [
    {
     "data": {
      "text/plain": [
       "['DuplicateError',\n",
       " 'In',\n",
       " 'Kota',\n",
       " 'NilaiGrade',\n",
       " 'Out',\n",
       " '_',\n",
       " '_10',\n",
       " '_11',\n",
       " '_12',\n",
       " '_13',\n",
       " '_14',\n",
       " '_15',\n",
       " '_16',\n",
       " '_17',\n",
       " '_18',\n",
       " '_19',\n",
       " '_20',\n",
       " '_21',\n",
       " '_22',\n",
       " '_23',\n",
       " '_25',\n",
       " '_8',\n",
       " '_9',\n",
       " '__',\n",
       " '___',\n",
       " '__annotations__',\n",
       " '__builtin__',\n",
       " '__builtins__',\n",
       " '__doc__',\n",
       " '__loader__',\n",
       " '__name__',\n",
       " '__package__',\n",
       " '__spec__',\n",
       " '__vsc_ipynb_file__',\n",
       " '_dh',\n",
       " '_i',\n",
       " '_i1',\n",
       " '_i10',\n",
       " '_i11',\n",
       " '_i12',\n",
       " '_i13',\n",
       " '_i14',\n",
       " '_i15',\n",
       " '_i16',\n",
       " '_i17',\n",
       " '_i18',\n",
       " '_i19',\n",
       " '_i2',\n",
       " '_i20',\n",
       " '_i21',\n",
       " '_i22',\n",
       " '_i23',\n",
       " '_i24',\n",
       " '_i25',\n",
       " '_i26',\n",
       " '_i27',\n",
       " '_i28',\n",
       " '_i29',\n",
       " '_i3',\n",
       " '_i30',\n",
       " '_i31',\n",
       " '_i32',\n",
       " '_i33',\n",
       " '_i34',\n",
       " '_i35',\n",
       " '_i36',\n",
       " '_i37',\n",
       " '_i38',\n",
       " '_i39',\n",
       " '_i4',\n",
       " '_i40',\n",
       " '_i41',\n",
       " '_i42',\n",
       " '_i43',\n",
       " '_i44',\n",
       " '_i45',\n",
       " '_i46',\n",
       " '_i47',\n",
       " '_i48',\n",
       " '_i49',\n",
       " '_i5',\n",
       " '_i50',\n",
       " '_i51',\n",
       " '_i52',\n",
       " '_i53',\n",
       " '_i54',\n",
       " '_i55',\n",
       " '_i56',\n",
       " '_i57',\n",
       " '_i58',\n",
       " '_i59',\n",
       " '_i6',\n",
       " '_i60',\n",
       " '_i61',\n",
       " '_i62',\n",
       " '_i63',\n",
       " '_i64',\n",
       " '_i65',\n",
       " '_i66',\n",
       " '_i67',\n",
       " '_i68',\n",
       " '_i69',\n",
       " '_i7',\n",
       " '_i70',\n",
       " '_i71',\n",
       " '_i72',\n",
       " '_i73',\n",
       " '_i74',\n",
       " '_i75',\n",
       " '_i76',\n",
       " '_i77',\n",
       " '_i78',\n",
       " '_i79',\n",
       " '_i8',\n",
       " '_i80',\n",
       " '_i81',\n",
       " '_i82',\n",
       " '_i83',\n",
       " '_i84',\n",
       " '_i85',\n",
       " '_i86',\n",
       " '_i87',\n",
       " '_i88',\n",
       " '_i89',\n",
       " '_i9',\n",
       " '_i90',\n",
       " '_i91',\n",
       " '_i92',\n",
       " '_i93',\n",
       " '_i94',\n",
       " '_ih',\n",
       " '_ii',\n",
       " '_iii',\n",
       " '_oh',\n",
       " 'a',\n",
       " 'b',\n",
       " 'c',\n",
       " 'd',\n",
       " 'err',\n",
       " 'exit',\n",
       " 'get_ipython',\n",
       " 'insertKota',\n",
       " 'insertKotaList',\n",
       " 'insertKotaMany',\n",
       " 'kamus',\n",
       " 'key',\n",
       " 'kota',\n",
       " 'nama',\n",
       " 'nama_kota',\n",
       " 'os',\n",
       " 'quit',\n",
       " 'removeKota',\n",
       " 'sys',\n",
       " 'test']"
      ]
     },
     "execution_count": 94,
     "metadata": {},
     "output_type": "execute_result"
    }
   ],
   "source": [
    "dir()"
   ]
  }
 ],
 "metadata": {
  "kernelspec": {
   "display_name": "Python 3.10.7 64-bit",
   "language": "python",
   "name": "python3"
  },
  "language_info": {
   "codemirror_mode": {
    "name": "ipython",
    "version": 3
   },
   "file_extension": ".py",
   "mimetype": "text/x-python",
   "name": "python",
   "nbconvert_exporter": "python",
   "pygments_lexer": "ipython3",
   "version": "3.10.7"
  },
  "orig_nbformat": 4,
  "vscode": {
   "interpreter": {
    "hash": "aee8b7b246df8f9039afb4144a1f6fd8d2ca17a180786b69acc140d282b71a49"
   }
  }
 },
 "nbformat": 4,
 "nbformat_minor": 2
}
