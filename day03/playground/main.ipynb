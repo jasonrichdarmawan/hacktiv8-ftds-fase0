{
 "cells": [
  {
   "cell_type": "markdown",
   "metadata": {},
   "source": [
    "# Condition"
   ]
  },
  {
   "cell_type": "code",
   "execution_count": 7,
   "metadata": {},
   "outputs": [
    {
     "name": "stdout",
     "output_type": "stream",
     "text": [
      "Hello\n",
      "3<5\n",
      "nilai c adalah 5 dan nilai d adalah 5\n"
     ]
    }
   ],
   "source": [
    "if True:\n",
    "    print(\"Hello\")\n",
    "\n",
    "b = 5\n",
    "if 3 < b:\n",
    "    print(f'3<{b}')\n",
    "\n",
    "c = 5\n",
    "d = 5\n",
    "if c<=d:\n",
    "    print(f'nilai c adalah {c} dan nilai d adalah {d}')"
   ]
  },
  {
   "cell_type": "markdown",
   "metadata": {},
   "source": [
    "# Latihan\n",
    "\n",
    "* nilai 80-100 -> A\n",
    "* nilai 70-80 -> B\n",
    "* nilai 60-70 -> C\n",
    "* nilai 50-60 -> D\n",
    "* nilai <50 -> E"
   ]
  },
  {
   "cell_type": "code",
   "execution_count": 33,
   "metadata": {},
   "outputs": [
    {
     "name": "stdout",
     "output_type": "stream",
     "text": [
      "error expected: error\n",
      "A expected: A\n",
      "A expected: A\n",
      "B expected: B\n",
      "B expected: B\n",
      "C expected: C\n",
      "C expected: C\n",
      "D expected: D\n",
      "D expected: D\n",
      "E expected: E\n",
      "E expected: E\n",
      "error expected: error\n"
     ]
    }
   ],
   "source": [
    "def NilaiGrade(nilai):\n",
    "    # guard clause\n",
    "    if nilai < 0 or nilai > 100:\n",
    "        return \"error\"\n",
    "\n",
    "    if nilai >= 80 and nilai <= 100:\n",
    "        return \"A\"\n",
    "    if nilai >= 70 and nilai <= 80:\n",
    "        return \"B\"\n",
    "    if nilai >= 60 and nilai < 70:\n",
    "        return \"C\"\n",
    "    if nilai >= 50 and nilai < 60:\n",
    "        return \"D\"\n",
    "    if nilai <50:\n",
    "        return \"E\"\n",
    "\n",
    "print(NilaiGrade(101), \"expected: error\")\n",
    "print(NilaiGrade(100), \"expected: A\")\n",
    "print(NilaiGrade(80), \"expected: A\")\n",
    "print(NilaiGrade(79), \"expected: B\")\n",
    "print(NilaiGrade(70), \"expected: B\")\n",
    "print(NilaiGrade(69), \"expected: C\")\n",
    "print(NilaiGrade(60), \"expected: C\")\n",
    "print(NilaiGrade(59), \"expected: D\")\n",
    "print(NilaiGrade(50), \"expected: D\")\n",
    "print(NilaiGrade(49), \"expected: E\")\n",
    "print(NilaiGrade(0), \"expected: E\")\n",
    "print(NilaiGrade(-1), \"expected: error\")"
   ]
  },
  {
   "cell_type": "markdown",
   "metadata": {},
   "source": [
    "# In"
   ]
  },
  {
   "cell_type": "code",
   "execution_count": 35,
   "metadata": {},
   "outputs": [
    {
     "name": "stdout",
     "output_type": "stream",
     "text": [
      "A merupakan bagian dari kota\n"
     ]
    }
   ],
   "source": [
    "kota = ['A', 'B', 'C']\n",
    "if 'A' in kota:\n",
    "    print('A merupakan bagian dari kota')"
   ]
  },
  {
   "cell_type": "code",
   "execution_count": 39,
   "metadata": {},
   "outputs": [
    {
     "name": "stdout",
     "output_type": "stream",
     "text": [
      "berhasil nilai a adalah 1\n",
      "berhasil nilai a adalah 2\n",
      "berhasil nilai a adalah 3\n",
      "berhasil nilai a adalah 4\n",
      "berhasil nilai a adalah 5\n",
      "berhasil nilai a adalah 6\n",
      "berhasil nilai a adalah 7\n",
      "berhasil nilai a adalah 8\n",
      "berhasil nilai a adalah 9\n"
     ]
    }
   ],
   "source": [
    "a = 1\n",
    "\n",
    "while a < 10:\n",
    "    print(f'berhasil nilai a adalah {a}')\n",
    "    a += 1"
   ]
  },
  {
   "cell_type": "markdown",
   "metadata": {},
   "source": [
    "# For Loop"
   ]
  },
  {
   "cell_type": "code",
   "execution_count": 41,
   "metadata": {},
   "outputs": [
    {
     "name": "stdout",
     "output_type": "stream",
     "text": [
      "A merupakan bagian dari kota\n",
      "B merupakan bagian dari kota\n",
      "C merupakan bagian dari kota\n",
      "berhasil nilai c adalah 1\n",
      "berhasil nilai c adalah 2\n"
     ]
    }
   ],
   "source": [
    "kota = ['A','B','C']\n",
    "for nama_kota in kota:\n",
    "    print(f'{nama_kota} merupakan bagian dari kota')\n",
    "\n",
    "for c in range (1,3):\n",
    "    print(f'berhasil nilai c adalah {c}')"
   ]
  },
  {
   "cell_type": "code",
   "execution_count": 48,
   "metadata": {},
   "outputs": [
    {
     "name": "stdout",
     "output_type": "stream",
     "text": [
      "1 x 1 = 1\n",
      "1 x 2 = 2\n",
      "1 x 3 = 3\n",
      "1 x 4 = 4\n",
      "1 x 5 = 5\n",
      "********************\n",
      "2 x 1 = 2\n",
      "2 x 2 = 4\n",
      "2 x 3 = 6\n",
      "2 x 4 = 8\n",
      "2 x 5 = 10\n",
      "********************\n",
      "3 x 1 = 3\n",
      "3 x 2 = 6\n",
      "3 x 3 = 9\n",
      "3 x 4 = 12\n",
      "3 x 5 = 15\n",
      "********************\n",
      "4 x 1 = 4\n",
      "4 x 2 = 8\n",
      "4 x 3 = 12\n",
      "4 x 4 = 16\n",
      "4 x 5 = 20\n",
      "********************\n"
     ]
    }
   ],
   "source": [
    "a = 1\n",
    "b = 1\n",
    "while a < 5:\n",
    "    while b < 6:\n",
    "        print(f'{a} x {b} = {a * b}')\n",
    "        b += 1\n",
    "    a += 1\n",
    "    b = 1\n",
    "    print('*'*20)"
   ]
  },
  {
   "cell_type": "code",
   "execution_count": 45,
   "metadata": {},
   "outputs": [
    {
     "name": "stdout",
     "output_type": "stream",
     "text": [
      "1 x 1 = 1\n",
      "1 x 2 = 2\n",
      "1 x 3 = 3\n",
      "1 x 4 = 4\n",
      "1 x 5 = 5\n",
      "********************\n",
      "2 x 1 = 2\n",
      "2 x 2 = 4\n",
      "2 x 3 = 6\n",
      "2 x 4 = 8\n",
      "2 x 5 = 10\n",
      "********************\n",
      "3 x 1 = 3\n",
      "3 x 2 = 6\n",
      "3 x 3 = 9\n",
      "3 x 4 = 12\n",
      "3 x 5 = 15\n",
      "********************\n",
      "4 x 1 = 4\n",
      "4 x 2 = 8\n",
      "4 x 3 = 12\n",
      "4 x 4 = 16\n",
      "4 x 5 = 20\n",
      "********************\n"
     ]
    }
   ],
   "source": [
    "for a in range(1,5):\n",
    "    for b in range(1,6):\n",
    "        print(f'{a} x {b} = {a * b}')\n",
    "    print('*'*20)"
   ]
  },
  {
   "cell_type": "markdown",
   "metadata": {},
   "source": [
    "# Flow Control Statement\n",
    "1. Continue\n",
    "2. Break"
   ]
  },
  {
   "cell_type": "code",
   "execution_count": 53,
   "metadata": {},
   "outputs": [
    {
     "name": "stdout",
     "output_type": "stream",
     "text": [
      "nilai 4\n"
     ]
    }
   ],
   "source": [
    "for b in range (1, 6):\n",
    "    if b in (1,2):\n",
    "        continue\n",
    "    if b == 3:\n",
    "        continue\n",
    "    if b == 5:\n",
    "        break\n",
    "    print(f'nilai {b}')"
   ]
  },
  {
   "cell_type": "markdown",
   "metadata": {},
   "source": [
    "# Latihan\n",
    "\n",
    "* nilai 80-100 -> A\n",
    "* nilai 70-80 -> B\n",
    "* nilai 60-70 -> C\n",
    "* nilai 50-60 -> D\n",
    "* nilai <50 -> E"
   ]
  },
  {
   "cell_type": "code",
   "execution_count": 61,
   "metadata": {},
   "outputs": [
    {
     "name": "stdout",
     "output_type": "stream",
     "text": [
      "Raka grade: A\n",
      "Hana grade: A\n",
      "Dian grade: D\n"
     ]
    }
   ],
   "source": [
    "def NilaiGrade(nilai: int):\n",
    "    # guard clause\n",
    "    if nilai < 0 or nilai > 100:\n",
    "        return \"error\"\n",
    "\n",
    "    if nilai >= 80 and nilai <= 100:\n",
    "        return \"A\"\n",
    "    if nilai >= 70 and nilai <= 80:\n",
    "        return \"B\"\n",
    "    if nilai >= 60 and nilai < 70:\n",
    "        return \"C\"\n",
    "    if nilai >= 50 and nilai < 60:\n",
    "        return \"D\"\n",
    "    if nilai <50:\n",
    "        return \"E\"\n",
    "\n",
    "kamus={'Raka':100,'Hana':90,'Dian':55}\n",
    "\n",
    "for key in kamus:\n",
    "    print(f'{key} grade: {NilaiGrade(kamus[key])}')"
   ]
  },
  {
   "cell_type": "code",
   "execution_count": 63,
   "metadata": {},
   "outputs": [
    {
     "name": "stdout",
     "output_type": "stream",
     "text": [
      "luas dari Persegi: 25\n"
     ]
    }
   ],
   "source": [
    "print(\"luas dari Persegi: %d\" % 25)"
   ]
  },
  {
   "cell_type": "markdown",
   "metadata": {},
   "source": [
    "# Latihan"
   ]
  },
  {
   "cell_type": "code",
   "execution_count": 77,
   "metadata": {},
   "outputs": [
    {
     "name": "stdout",
     "output_type": "stream",
     "text": [
      "error\n",
      "['Malang']\n",
      "['Malang', 'Jakarta', 'Riau']\n",
      "['Malang', 'Jakarta', 'Riau', 'Surabaya', 'Batam']\n",
      "['Malang', 'Riau', 'Surabaya', 'Batam']\n",
      "['Riau', 'Surabaya', 'Batam']\n"
     ]
    }
   ],
   "source": [
    "nama_kota: list[str] = []\n",
    "\n",
    "def insertKota(data: str):\n",
    "    for kota in nama_kota:\n",
    "        if kota == data:\n",
    "            print(\"error\")\n",
    "            return \"error\"\n",
    "    nama_kota.append(data)\n",
    "\n",
    "insertKota(\"Malang\")\n",
    "insertKota(\"Malang\")\n",
    "print(nama_kota)\n",
    "\n",
    "def insertKotaMany(*kotas: tuple[str]):\n",
    "    for kota in kotas:\n",
    "        insertKota(kota)\n",
    "\n",
    "def insertKotaList(kotas: list[str]):\n",
    "    for kota in kotas:\n",
    "        insertKota(kota)\n",
    "\n",
    "insertKotaMany('Jakarta', 'Riau')\n",
    "print(nama_kota)\n",
    "\n",
    "insertKotaList(['Surabaya', 'Batam'])\n",
    "print(nama_kota)\n",
    "\n",
    "def removeKota(kota: str):\n",
    "    nama_kota.remove(kota)\n",
    "\n",
    "removeKota('Jakarta')\n",
    "print(nama_kota)\n",
    "\n",
    "nama_kota.pop(0)\n",
    "print(nama_kota)"
   ]
  },
  {
   "cell_type": "markdown",
   "metadata": {},
   "source": [
    "# Embedding method to an existing class"
   ]
  },
  {
   "cell_type": "code",
   "execution_count": 93,
   "metadata": {},
   "outputs": [
    {
     "name": "stdout",
     "output_type": "stream",
     "text": [
      "['Malang']\n",
      "['Malang', 'Jakarta']\n",
      "duplicate\n",
      "['Malang', 'Jakarta']\n"
     ]
    }
   ],
   "source": [
    "class DuplicateError(BaseException): ...\n",
    "\n",
    "class Kota(list[str]):\n",
    "\n",
    "    def insertKota(self, input: str = \"Jakarta\") -> DuplicateError | None:\n",
    "        for kota in self:\n",
    "            if kota == input:\n",
    "                return DuplicateError(\"duplicate\")\n",
    "        self.append(input)\n",
    "\n",
    "d = Kota()\n",
    "\n",
    "d.insertKota(input = \"Malang\")\n",
    "print(d)\n",
    "\n",
    "d.insertKota()\n",
    "print(d)\n",
    "\n",
    "err = d.insertKota(\"Malang\")\n",
    "if err != None:\n",
    "    print(err)\n",
    "print(d)"
   ]
  }
 ],
 "metadata": {
  "kernelspec": {
   "display_name": "Python 3.10.7 64-bit",
   "language": "python",
   "name": "python3"
  },
  "language_info": {
   "codemirror_mode": {
    "name": "ipython",
    "version": 3
   },
   "file_extension": ".py",
   "mimetype": "text/x-python",
   "name": "python",
   "nbconvert_exporter": "python",
   "pygments_lexer": "ipython3",
   "version": "3.10.7"
  },
  "orig_nbformat": 4,
  "vscode": {
   "interpreter": {
    "hash": "aee8b7b246df8f9039afb4144a1f6fd8d2ca17a180786b69acc140d282b71a49"
   }
  }
 },
 "nbformat": 4,
 "nbformat_minor": 2
}
