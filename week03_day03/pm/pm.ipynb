{
 "cells": [
  {
   "cell_type": "markdown",
   "metadata": {},
   "source": [
    "# Statistika\n",
    "\n",
    "## Statistika deskriptif\n",
    "\n",
    "### Pendekatan**:\n",
    "1. Kuantitatif\n",
    "2. Grafik, Plot, Histogram, dst.\n",
    "\n",
    "### Fitur:\n",
    "1. Count\n",
    "2. Sum\n",
    "3. Mean: SUM kumpulan data dibagi jumlah pengamatan\n",
    "4. Median: nilai paling tengah setelah nilai diurutkan\n",
    "5. Mode: nilai yang paling sering muncul."
   ]
  },
  {
   "cell_type": "markdown",
   "metadata": {},
   "source": [
    "### Skewness\n",
    "\n",
    "![skewness](./Screen%20Shot%202022-10-12%20at%2013.50.40.png)\n",
    "![skewness formula](./Screen%20Shot%202022-10-12%20at%2013.55.56.png)"
   ]
  },
  {
   "cell_type": "markdown",
   "metadata": {},
   "source": [
    "### Kurtosis\n",
    "\n",
    "![kurtosis](./Screen%20Shot%202022-10-12%20at%2013.57.46.png)\n",
    "\n",
    "jika nilai kurtosis tinggi / platykurtic, cenderung ada banyak data outlier.\n",
    "\n",
    "![nilai kurtosis](./Screen%20Shot%202022-10-12%20at%2013.59.39.png)"
   ]
  },
  {
   "cell_type": "markdown",
   "metadata": {},
   "source": [
    "## Statistika Inferensial\n",
    "\n",
    "Kesimpulannya `forecasting`."
   ]
  },
  {
   "cell_type": "markdown",
   "metadata": {},
   "source": [
    "## Tipe Data\n",
    "\n",
    "1. Numerik Data (pakai line chart, histogram.)\n",
    "   1. Continuous: diukur.\n",
    "   2. Diskrit: jumlah\n",
    "2. Categorical Data (pakai bar chart)\n",
    "   1. Nominal: ga berutuan.\n",
    "   2. Ordinal: berurutan.`"
   ]
  },
  {
   "cell_type": "markdown",
   "metadata": {},
   "source": [
    "## Fitur Statistika Deskriptif"
   ]
  },
  {
   "cell_type": "code",
   "execution_count": 2,
   "metadata": {},
   "outputs": [
    {
     "data": {
      "text/plain": [
       "135"
      ]
     },
     "execution_count": 2,
     "metadata": {},
     "output_type": "execute_result"
    }
   ],
   "source": [
    "# Mean\n",
    "\n",
    "import numpy as np\n",
    "\n",
    "np.mean([65,70])"
   ]
  },
  {
   "cell_type": "code",
   "execution_count": 3,
   "metadata": {},
   "outputs": [
    {
     "data": {
      "text/plain": [
       "67.5"
      ]
     },
     "execution_count": 3,
     "metadata": {},
     "output_type": "execute_result"
    }
   ],
   "source": [
    "# Median\n",
    "\n",
    "import numpy as np\n",
    "\n",
    "np.median([65,70])"
   ]
  },
  {
   "cell_type": "code",
   "execution_count": 8,
   "metadata": {},
   "outputs": [
    {
     "data": {
      "text/plain": [
       "[60, 70]"
      ]
     },
     "execution_count": 8,
     "metadata": {},
     "output_type": "execute_result"
    }
   ],
   "source": [
    "# Modus\n",
    "\n",
    "import statistics\n",
    "\n",
    "# statistics.mode([60,80])\n",
    "statistics.multimode([60,70])"
   ]
  },
  {
   "cell_type": "code",
   "execution_count": 12,
   "metadata": {},
   "outputs": [
    {
     "data": {
      "text/plain": [
       "5.0"
      ]
     },
     "execution_count": 12,
     "metadata": {},
     "output_type": "execute_result"
    }
   ],
   "source": [
    "# Persentil\n",
    "\n",
    "import numpy as np\n",
    "\n",
    "np.percentile([5,5,6], .50)"
   ]
  },
  {
   "cell_type": "markdown",
   "metadata": {},
   "source": [
    "## Variance & Standard Deviation\n",
    "\n",
    "![standard deviation](./Screen%20Shot%202022-10-12%20at%2014.28.21.png)\n",
    "\n",
    "![variance formula](./Screen%20Shot%202022-10-12%20at%2014.35.39.png)"
   ]
  },
  {
   "cell_type": "code",
   "execution_count": 16,
   "metadata": {},
   "outputs": [
    {
     "name": "stdout",
     "output_type": "stream",
     "text": [
      "0.6666666666666666\n",
      "0.6666666666666666\n",
      "1.0\n",
      "1\n",
      "1.0\n",
      "1.0\n"
     ]
    }
   ],
   "source": [
    "import math\n",
    "import statistics\n",
    "\n",
    "def variance(data, ddof=0):\n",
    "    \"\"\"\n",
    "    ddof = degree of freedom\n",
    "    \"\"\"\n",
    "    n = len(data) # Number of obersevations\n",
    "    mean = sum(data) / n\n",
    "    return sum((x - mean)**2 for x in data) / (n - ddof)\n",
    "\n",
    "def std_dev(data, ddof=0):\n",
    "    var = variance(data, ddof)\n",
    "    std_dev = math.sqrt(var)\n",
    "    return std_dev\n",
    "\n",
    "print(variance([0,1,2],0)) # population\n",
    "print(statistics.pvariance([0,1,2]))\n",
    "\n",
    "print(variance([0,1,2],1)) # sample\n",
    "print(statistics.variance([0,1,2]))\n",
    "\n",
    "print(std_dev([0,1,2],1)) # sample\n",
    "print(statistics.stdev([0,1,2]))"
   ]
  },
  {
   "cell_type": "markdown",
   "metadata": {},
   "source": [
    "## Finding Outliers Using IQR / Interquartile Range\n",
    "\n",
    "![finding outliers using iqr](./Screen%20Shot%202022-10-12%20at%2014.41.20.png)\n",
    "\n",
    "data diluar `Q1 - 1,5 * IQR` / `Q3 + 1,5 * IQR` dianggap *outleir*.\n",
    "\n",
    "### with standard deviation\n",
    "\n",
    "data diluar `-3 * std` / `3 * std` dianggap *outlier*.\n",
    "\n",
    "normal distribusi yg skew nya -0,5 s/d 0,5 -> solusi outlier nya tadi pakai std / zscore, kalau yg skew nya diluar itu pakai iqr."
   ]
  },
  {
   "cell_type": "code",
   "execution_count": 53,
   "metadata": {},
   "outputs": [
    {
     "name": "stdout",
     "output_type": "stream",
     "text": [
      "0    1.759307\n",
      "dtype: float64\n",
      "0   -0.068352\n",
      "dtype: float64\n"
     ]
    }
   ],
   "source": [
    "import pandas as pd\n",
    "import numpy as np\n",
    "\n",
    "df = pd.DataFrame([45,47,52,52,53,55,56,58,62,80])\n",
    "df.isna()\n",
    "\n",
    "print(df.skew()) # distribusinya ga normal jadi pakai iqr.\n",
    "\n",
    "q3 = np.percentile(df, 75)\n",
    "q1 = np.percentile(df, 25)\n",
    "iqr = (q3 - q1)\n",
    "\n",
    "df2 = df.loc[(df[0] > (q1 - 1.5*iqr)) & (df[0] < (q3 + 1.5*iqr))].copy()"
   ]
  },
  {
   "cell_type": "markdown",
   "metadata": {},
   "source": [
    "## Replace missing value\n",
    "\n",
    "Kalau normal distribusion pakai median, kalau ga normal pakaki mean / median"
   ]
  }
 ],
 "metadata": {
  "kernelspec": {
   "display_name": "Python 3.10.7 64-bit",
   "language": "python",
   "name": "python3"
  },
  "language_info": {
   "codemirror_mode": {
    "name": "ipython",
    "version": 3
   },
   "file_extension": ".py",
   "mimetype": "text/x-python",
   "name": "python",
   "nbconvert_exporter": "python",
   "pygments_lexer": "ipython3",
   "version": "3.10.7"
  },
  "orig_nbformat": 4,
  "vscode": {
   "interpreter": {
    "hash": "aee8b7b246df8f9039afb4144a1f6fd8d2ca17a180786b69acc140d282b71a49"
   }
  }
 },
 "nbformat": 4,
 "nbformat_minor": 2
}
