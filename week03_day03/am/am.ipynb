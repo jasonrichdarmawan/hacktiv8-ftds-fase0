{
 "cells": [
  {
   "cell_type": "markdown",
   "metadata": {},
   "source": [
    "![Example](./Screen%20Shot%202022-10-12%20at%2009.59.20.png)"
   ]
  },
  {
   "cell_type": "markdown",
   "metadata": {},
   "source": [
    "![Complement](./Screen%20Shot%202022-10-12%20at%2010.06.43.png)"
   ]
  },
  {
   "cell_type": "markdown",
   "metadata": {},
   "source": [
    "![Conditional Probability](./Screen%20Shot%202022-10-12%20at%2010.17.05.png)\n",
    "\n",
    "P(B|A) -> berapa probabilitas B bila diketahui event A sudah diketahui."
   ]
  },
  {
   "cell_type": "markdown",
   "metadata": {},
   "source": [
    "![Independent, Deppendent Events](./Screen%20Shot%202022-10-12%20at%2010.30.44.png)"
   ]
  },
  {
   "cell_type": "markdown",
   "metadata": {},
   "source": [
    "![Multiplication Rule](./Screen%20Shot%202022-10-12%20at%2010.35.57.png)"
   ]
  },
  {
   "cell_type": "markdown",
   "metadata": {},
   "source": [
    "![Binomial Distribution](./Screen%20Shot%202022-10-12%20at%2010.49.19.png)"
   ]
  },
  {
   "cell_type": "code",
   "execution_count": null,
   "metadata": {},
   "outputs": [],
   "source": [
    "import random\n",
    "\n",
    "heads_tail = [0,0]\n",
    "\n",
    "for i in range(10000):\n",
    "    toss = random.randint(0,1)\n",
    "    heads_tail[toss] = heads_tail[toss] + 1\n",
    "\n",
    "print(heads_tail)\n",
    "\n",
    "from matplotlib import pyplot as plt\n",
    "plt.pie(heads_tail, labels=['heads', 'tails'])\n",
    "plt.legend()"
   ]
  },
  {
   "cell_type": "markdown",
   "metadata": {},
   "source": [
    "# List Comprehension\n",
    "\n",
    "```\n",
    "    result = ['H' if random.randint(0,1) == 0 else 'T',\n",
    "              'H' if random.randint(0,1) == 0 else 'T',\n",
    "              'H' if random.randint(0,1) == 0 else 'T']\n",
    "```"
   ]
  },
  {
   "cell_type": "code",
   "execution_count": null,
   "metadata": {},
   "outputs": [],
   "source": [
    "import random\n",
    "\n",
    "# Count the number of 3xHeads results\n",
    "h3 = 0\n",
    "\n",
    "# Create a list of all results\n",
    "results = []\n",
    "\n",
    "# loop through 10000 trials\n",
    "trials = 10000\n",
    "trial = 0\n",
    "while trial < trials:\n",
    "    trial = trial + 1\n",
    "    # Flip three coins\n",
    "    result = ['H' if random.randint(0,1) == 0 else 'T',\n",
    "              'H' if random.randint(0,1) == 0 else 'T',\n",
    "              'H' if random.randint(0,1) == 0 else 'T']\n",
    "    results.append(result)\n",
    "    # If it's three heads, add it to the count\n",
    "    h3 = h3 + int(result == ['H','H','H'])\n",
    "    \n",
    "# What proportion of trials produced 3x heads\n",
    "print (\"%.2f%%\" % ((h3/trials)*100))\n",
    "\n",
    "# Show all the results\n",
    "# print (results)"
   ]
  }
 ],
 "metadata": {
  "kernelspec": {
   "display_name": "Python 3.10.7 64-bit",
   "language": "python",
   "name": "python3"
  },
  "language_info": {
   "codemirror_mode": {
    "name": "ipython",
    "version": 3
   },
   "file_extension": ".py",
   "mimetype": "text/x-python",
   "name": "python",
   "nbconvert_exporter": "python",
   "pygments_lexer": "ipython3",
   "version": "3.10.7"
  },
  "orig_nbformat": 4,
  "vscode": {
   "interpreter": {
    "hash": "aee8b7b246df8f9039afb4144a1f6fd8d2ca17a180786b69acc140d282b71a49"
   }
  }
 },
 "nbformat": 4,
 "nbformat_minor": 2
}
