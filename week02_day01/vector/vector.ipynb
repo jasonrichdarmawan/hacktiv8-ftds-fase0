{
 "cells": [
  {
   "cell_type": "code",
   "execution_count": 59,
   "metadata": {},
   "outputs": [],
   "source": [
    "# Import Library\n",
    "import numpy as np"
   ]
  },
  {
   "cell_type": "code",
   "execution_count": 60,
   "metadata": {},
   "outputs": [],
   "source": [
    "# Pendefinisian Array\n",
    "a = [1,2,3]\n",
    "vect_a = np.array(a)"
   ]
  },
  {
   "cell_type": "code",
   "execution_count": 61,
   "metadata": {},
   "outputs": [
    {
     "data": {
      "text/plain": [
       "array([3, 4, 5])"
      ]
     },
     "metadata": {},
     "output_type": "display_data"
    },
    {
     "data": {
      "text/plain": [
       "array([-1,  0,  1])"
      ]
     },
     "metadata": {},
     "output_type": "display_data"
    },
    {
     "data": {
      "text/plain": [
       "array([0.5, 1. , 1.5])"
      ]
     },
     "metadata": {},
     "output_type": "display_data"
    }
   ],
   "source": [
    "# Operasi Aritmatika dengan Bilangan\n",
    "\n",
    "display(vect_a + 2)\n",
    "display(vect_a - 2)\n",
    "display(vect_a / 2)"
   ]
  },
  {
   "cell_type": "code",
   "execution_count": 62,
   "metadata": {},
   "outputs": [
    {
     "data": {
      "text/plain": [
       "'dengan vector'"
      ]
     },
     "metadata": {},
     "output_type": "display_data"
    },
    {
     "data": {
      "text/plain": [
       "array([5, 7, 9])"
      ]
     },
     "metadata": {},
     "output_type": "display_data"
    },
    {
     "data": {
      "text/plain": [
       "'dengan vector'"
      ]
     },
     "metadata": {},
     "output_type": "display_data"
    },
    {
     "data": {
      "text/plain": [
       "array([-3, -3, -3])"
      ]
     },
     "metadata": {},
     "output_type": "display_data"
    },
    {
     "data": {
      "text/plain": [
       "'element wise'"
      ]
     },
     "metadata": {},
     "output_type": "display_data"
    },
    {
     "data": {
      "text/plain": [
       "array([0.25, 0.4 , 0.5 ])"
      ]
     },
     "metadata": {},
     "output_type": "display_data"
    },
    {
     "data": {
      "text/plain": [
       "'element wise'"
      ]
     },
     "metadata": {},
     "output_type": "display_data"
    },
    {
     "data": {
      "text/plain": [
       "array([ 4, 10, 18])"
      ]
     },
     "metadata": {},
     "output_type": "display_data"
    },
    {
     "data": {
      "text/plain": [
       "'dot product'"
      ]
     },
     "metadata": {},
     "output_type": "display_data"
    },
    {
     "data": {
      "text/plain": [
       "32"
      ]
     },
     "metadata": {},
     "output_type": "display_data"
    }
   ],
   "source": [
    "# Operasi Aritmatika dengan Vector\n",
    "\n",
    "# tensorflow -> tensor -> 3D\n",
    "# vector -> 1D [1,2,3]\n",
    "# matrix -> 2D [[1,2,3],[4,5,6]]\n",
    "# tensor -> 3D\n",
    "\n",
    "# vector?\n",
    "# ->          ->\n",
    "# a = ( 1 ) ; a + 2 = ( 1 + 2 ) = ( 3 )\n",
    "#     ( 2 )           ( 2 + 2 )   ( 4 )\n",
    "#     ( 3 )           ( 3 + 2 )   ( 5 )\n",
    "# ->          ->  ->\n",
    "# b = ( 4 ) ; a + b = ( 1 + 4 ) = ( 5 )\n",
    "#     ( 5 )           ( 2 + 5 )   ( 7 )\n",
    "#     ( 6 )           ( 3 + 6 )   ( 9 )\n",
    "\n",
    "vect_b = np.array([4,5,6])\n",
    "\n",
    "display(\"dengan vector\",vect_a + vect_b)\n",
    "display(\"dengan vector\", vect_a - vect_b)\n",
    "display(\"element wise\", vect_a / vect_b)\n",
    "display(\"element wise\", vect_a * vect_b)\n",
    "# dot product\n",
    "# tidak dimutlakkan, jadi jika vector memiliki angka negatif, hasilnya akan negatif.\n",
    "display(\"dot product\", vect_a.dot(vect_b))"
   ]
  },
  {
   "cell_type": "code",
   "execution_count": 63,
   "metadata": {},
   "outputs": [],
   "source": [
    "# L1 - manhattan distance\n",
    "# ||u|| = |u1| + |u2| + ... + |un|\n",
    "# L2 - euclidean distance\n",
    "# ||u|| = √(u1^2 + u2^2 + ... + un^2)\n",
    "# ||u|| -> disebut sebagai Vector Norm u."
   ]
  },
  {
   "cell_type": "code",
   "execution_count": 64,
   "metadata": {},
   "outputs": [
    {
     "name": "stdout",
     "output_type": "stream",
     "text": [
      "L1 - Manhattan Distance 14.0\n",
      "L2 - Euclidean Distance 10.0\n"
     ]
    }
   ],
   "source": [
    "# Mencari Vector Norm\n",
    "d = [8,6]\n",
    "vect_d = np.array(d)\n",
    "print('L1 - Manhattan Distance', np.linalg.norm(vect_d, 1))\n",
    "print('L2 - Euclidean Distance', np.linalg.norm(vect_d)) # ord = 2"
   ]
  },
  {
   "cell_type": "code",
   "execution_count": 65,
   "metadata": {},
   "outputs": [
    {
     "data": {
      "text/plain": [
       "array([2, 4, 6])"
      ]
     },
     "metadata": {},
     "output_type": "display_data"
    }
   ],
   "source": [
    "# Operasi Perkalian dengan Bilangan\n",
    "\n",
    "e = [1,2,3]\n",
    "vect_e = np.array(e)\n",
    "\n",
    "display(vect_e * 2)"
   ]
  },
  {
   "cell_type": "code",
   "execution_count": 66,
   "metadata": {},
   "outputs": [
    {
     "data": {
      "text/plain": [
       "'Hasil Perkalian - Element Wise'"
      ]
     },
     "metadata": {},
     "output_type": "display_data"
    },
    {
     "data": {
      "text/plain": [
       "array([ 4, 10, 18])"
      ]
     },
     "metadata": {},
     "output_type": "display_data"
    },
    {
     "data": {
      "text/plain": [
       "'Hasil Perkalian - Dot Product'"
      ]
     },
     "metadata": {},
     "output_type": "display_data"
    },
    {
     "data": {
      "text/plain": [
       "32"
      ]
     },
     "metadata": {},
     "output_type": "display_data"
    },
    {
     "data": {
      "text/plain": [
       "32"
      ]
     },
     "metadata": {},
     "output_type": "display_data"
    },
    {
     "data": {
      "text/plain": [
       "32"
      ]
     },
     "metadata": {},
     "output_type": "display_data"
    }
   ],
   "source": [
    "# Operasi Perkalian dengan Sesama Vector (Element Wise)\n",
    "\n",
    "f = [1,2,3]\n",
    "g = [4,5,6]\n",
    "\n",
    "vect_f = np.array(f)\n",
    "vect_g = np.array(g)\n",
    "\n",
    "display('Hasil Perkalian - Element Wise',vect_f * vect_g)\n",
    "# dot product sama seperti vector_f * vect_g, kemudian dijumlahkan\n",
    "# tapi angkanya tidak dimutlakkan sehingga hasilnya dapat negatif.\n",
    "display('Hasil Perkalian - Dot Product',\n",
    "    vect_f @ vect_g,\n",
    "    vect_f.dot(vect_g),\n",
    "    np.dot(vect_f, vect_g))"
   ]
  },
  {
   "cell_type": "markdown",
   "metadata": {},
   "source": [
    "![cosline similarity](./Screen%20Shot%202022-10-10%20at%2014.40.21.png)\n",
    "![cos theta](./Screen%20Shot%202022-10-10%20at%2014.45.15.png)"
   ]
  },
  {
   "cell_type": "code",
   "execution_count": 67,
   "metadata": {},
   "outputs": [
    {
     "data": {
      "text/plain": [
       "0.9486832980505138"
      ]
     },
     "execution_count": 67,
     "metadata": {},
     "output_type": "execute_result"
    }
   ],
   "source": [
    "# Cosline similarity\n",
    "\n",
    "k = [8,0]\n",
    "m = [6,2]\n",
    "\n",
    "vect_k = np.array(k)\n",
    "vect_m = np.array(m)\n",
    "\n",
    "cos_theta = (vect_k @ vect_m) / (np.linalg.norm(vect_k) * np.linalg.norm(vect_m))\n",
    "cos_theta # expected output: >= 0.8 == similiar vector\n",
    "# cos_theta == ini cosine similarity"
   ]
  },
  {
   "cell_type": "code",
   "execution_count": 68,
   "metadata": {},
   "outputs": [
    {
     "name": "stdout",
     "output_type": "stream",
     "text": [
      "Radian:  0.3217505543966423\n",
      "Degree:  18.434948822922017\n"
     ]
    }
   ],
   "source": [
    "# Mencari radian dan degree\n",
    "\n",
    "# cosine similarity\n",
    "# |\n",
    "# v\n",
    "# radian ( 0 - 2pi )\n",
    "# |\n",
    "# v\n",
    "# sudut ( 0 - 360 derajat )\n",
    "\n",
    "radian = np.arccos(cos_theta)\n",
    "degree = np.degrees(radian)\n",
    "print('Radian: ', radian)\n",
    "print('Degree: ', degree)"
   ]
  },
  {
   "cell_type": "markdown",
   "metadata": {},
   "source": [
    "# text similarity\n",
    "\n",
    "## metode: term frequency\n",
    "\n",
    "kelemahan -> ga bisa membedakan positioning text `kucing mengejar tikus`, `tikus mengejar kucing`\n",
    "\n",
    "![disadvantage](./Screen%20Shot%202022-10-10%20at%2015.05.32.png)\n",
    "\n",
    "### studi kasus\n",
    "\n",
    "teks_1 = \"saya pergi ke rumah kakak saya\"\n",
    "\n",
    "teks_2 = \"saya perrgi ke rumah nenek saya\"\n",
    "\n",
    "![text similarity](./Screen%20Shot%202022-10-10%20at%2015.02.03.png)"
   ]
  },
  {
   "cell_type": "code",
   "execution_count": 69,
   "metadata": {},
   "outputs": [
    {
     "data": {
      "text/plain": [
       "0.8749999999999998"
      ]
     },
     "execution_count": 69,
     "metadata": {},
     "output_type": "execute_result"
    }
   ],
   "source": [
    "# Pendefinisian Vector\n",
    "\n",
    "t1 = [2,1,1,1,1,0]\n",
    "t2 = [2,1,1,1,0,1]\n",
    "\n",
    "vect_t1 = np.array(t1)\n",
    "vect_t2 = np.array(t2)\n",
    "\n",
    "cos_theta = (vect_t1 @ vect_t2) / (np.linalg.norm(vect_t1) * np.linalg.norm(vect_t2))\n",
    "cos_theta"
   ]
  },
  {
   "cell_type": "markdown",
   "metadata": {},
   "source": [
    "## Matrix"
   ]
  },
  {
   "cell_type": "code",
   "execution_count": 70,
   "metadata": {},
   "outputs": [
    {
     "data": {
      "text/plain": [
       "array([[1, 2, 3],\n",
       "       [4, 5, 6]])"
      ]
     },
     "execution_count": 70,
     "metadata": {},
     "output_type": "execute_result"
    }
   ],
   "source": [
    "# Pendefinisian Matrix\n",
    "\n",
    "A = [[1,2,3],\n",
    "     [4,5,6]]\n",
    "\n",
    "matrix_A = np.array(A)\n",
    "matrix_A"
   ]
  },
  {
   "cell_type": "code",
   "execution_count": 71,
   "metadata": {},
   "outputs": [
    {
     "data": {
      "text/plain": [
       "(2, 3)"
      ]
     },
     "execution_count": 71,
     "metadata": {},
     "output_type": "execute_result"
    }
   ],
   "source": [
    "matrix_A.shape # (2,3) -> 2 baris, 3 kolom"
   ]
  },
  {
   "cell_type": "code",
   "execution_count": 72,
   "metadata": {},
   "outputs": [
    {
     "name": "stdout",
     "output_type": "stream",
     "text": [
      "[[3 4 5]\n",
      " [6 7 8]]\n",
      "[[-1  0  1]\n",
      " [ 2  3  4]]\n",
      "[[ 2  4  6]\n",
      " [ 8 10 12]]\n",
      "[[0.5 1.  1.5]\n",
      " [2.  2.5 3. ]]\n"
     ]
    }
   ],
   "source": [
    "# Operasi Aritmatika terhadap Matrix dengan Bilangan\n",
    "print(matrix_A + 2)\n",
    "print(matrix_A - 2)\n",
    "print(matrix_A * 2)\n",
    "print(matrix_A / 2)"
   ]
  },
  {
   "cell_type": "code",
   "execution_count": 73,
   "metadata": {},
   "outputs": [
    {
     "data": {
      "text/plain": [
       "array([[ 7,  8,  9],\n",
       "       [10, 11, 12]])"
      ]
     },
     "execution_count": 73,
     "metadata": {},
     "output_type": "execute_result"
    }
   ],
   "source": [
    "# Pendefinisian Matrix B\n",
    "\n",
    "B = [[7,8,9],\n",
    "     [10,11,12]]\n",
    "\n",
    "matrix_B = np.array(B)\n",
    "matrix_B"
   ]
  },
  {
   "cell_type": "code",
   "execution_count": 74,
   "metadata": {},
   "outputs": [
    {
     "name": "stdout",
     "output_type": "stream",
     "text": [
      "matrix_A [[1 2 3]\n",
      " [4 5 6]] \n",
      "matrix_B [[ 7  8  9]\n",
      " [10 11 12]]\n",
      "+ [[ 8 10 12]\n",
      " [14 16 18]]\n",
      "- [[-6 -6 -6]\n",
      " [-6 -6 -6]]\n",
      "* [[ 7 16 27]\n",
      " [40 55 72]]\n",
      "/ [[0.14285714 0.25       0.33333333]\n",
      " [0.4        0.45454545 0.5       ]]\n"
     ]
    }
   ],
   "source": [
    "# Operasi Aritmatika Antar Sesama Matrix\n",
    "\n",
    "print(\"matrix_A\", matrix_A, \"\\nmatrix_B\", matrix_B)\n",
    "print(\"+\", matrix_A + matrix_B)\n",
    "print(\"-\",matrix_A - matrix_B)\n",
    "print(\"*\",matrix_A * matrix_B)\n",
    "print(\"/\",matrix_A / matrix_B)"
   ]
  },
  {
   "cell_type": "markdown",
   "metadata": {},
   "source": [
    "#### Matrix Multiplication\n",
    "\n",
    "![matrix multiplication](./Screen%20Shot%202022-10-10%20at%2015.19.50.png)"
   ]
  },
  {
   "cell_type": "code",
   "execution_count": 75,
   "metadata": {},
   "outputs": [
    {
     "name": "stdout",
     "output_type": "stream",
     "text": [
      "[[ 7 10]\n",
      " [15 22]\n",
      " [23 34]]\n"
     ]
    }
   ],
   "source": [
    "# Perkalian Vector (Matrix Multiplication)\n",
    "\n",
    "A = [[1,2],\n",
    "     [3,4],\n",
    "     [5,6]]\n",
    "\n",
    "B = [[1,2],\n",
    "     [3,4]]\n",
    "\n",
    "matrix_A = np.array(A)\n",
    "matrix_B = np.array(B)\n",
    "\n",
    "print(matrix_A @ matrix_B)"
   ]
  },
  {
   "cell_type": "markdown",
   "metadata": {},
   "source": [
    "```\n",
    "Matrix @ ? == Matrix itu sendiri\n",
    "         ? == Identitas.\n",
    "```\n",
    "\n",
    "![pembuktian matrix identitas](./Screen%20Shot%202022-10-10%20at%2015.29.14.png)"
   ]
  },
  {
   "cell_type": "code",
   "execution_count": 76,
   "metadata": {},
   "outputs": [
    {
     "name": "stdout",
     "output_type": "stream",
     "text": [
      "[[1 2 3]\n",
      " [4 5 6]\n",
      " [7 8 9]]\n",
      "[[1. 0. 0.]\n",
      " [0. 1. 0.]\n",
      " [0. 0. 1.]]\n",
      "[[1. 2. 3.]\n",
      " [4. 5. 6.]\n",
      " [7. 8. 9.]]\n"
     ]
    }
   ],
   "source": [
    "# Pembuktian Matrix Identitas\n",
    "\n",
    "C = [[1,2,3],\n",
    "     [4,5,6],\n",
    "     [7,8,9]]\n",
    "\n",
    "matrix_C = np.array(C)\n",
    "print(matrix_C)\n",
    "\n",
    "matrix_D = np.eye(3,3)\n",
    "print(matrix_D)\n",
    "\n",
    "print(matrix_C @ matrix_D)"
   ]
  }
 ],
 "metadata": {
  "kernelspec": {
   "display_name": "Python 3.10.7 64-bit",
   "language": "python",
   "name": "python3"
  },
  "language_info": {
   "codemirror_mode": {
    "name": "ipython",
    "version": 3
   },
   "file_extension": ".py",
   "mimetype": "text/x-python",
   "name": "python",
   "nbconvert_exporter": "python",
   "pygments_lexer": "ipython3",
   "version": "3.10.7"
  },
  "orig_nbformat": 4,
  "vscode": {
   "interpreter": {
    "hash": "aee8b7b246df8f9039afb4144a1f6fd8d2ca17a180786b69acc140d282b71a49"
   }
  }
 },
 "nbformat": 4,
 "nbformat_minor": 2
}
