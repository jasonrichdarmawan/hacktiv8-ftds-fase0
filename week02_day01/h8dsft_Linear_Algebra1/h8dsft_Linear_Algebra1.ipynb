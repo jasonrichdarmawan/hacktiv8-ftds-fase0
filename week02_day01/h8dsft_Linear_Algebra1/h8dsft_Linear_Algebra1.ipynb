{
 "cells": [
  {
   "cell_type": "code",
   "execution_count": 2,
   "metadata": {},
   "outputs": [],
   "source": [
    "import numpy as np"
   ]
  },
  {
   "cell_type": "code",
   "execution_count": 5,
   "metadata": {},
   "outputs": [
    {
     "data": {
      "text/plain": [
       "array([17, 22, 19])"
      ]
     },
     "execution_count": 5,
     "metadata": {},
     "output_type": "execute_result"
    }
   ],
   "source": [
    "# Problems 1\n",
    "vector_1 = np.array([17, 22, 19])\n",
    "vector_1\n"
   ]
  },
  {
   "cell_type": "code",
   "execution_count": 11,
   "metadata": {},
   "outputs": [
    {
     "name": "stdout",
     "output_type": "stream",
     "text": [
      "A + B [27 42 30]\n",
      "B - C [5 8 2]\n",
      "A . C 520\n",
      "A x B [170 440 209]\n",
      "norm A 33.67491648096547\n",
      "cos theta A B 0.9759590023331435\n"
     ]
    }
   ],
   "source": [
    "# Problems 2\n",
    "vector_A = np.array([17,22,19])\n",
    "vector_B = np.array([10,20,11])\n",
    "vector_C = np.array([5,12,9])\n",
    "\n",
    "print(\"A + B\",vector_A + vector_B)\n",
    "print(\"B - C\", vector_B - vector_C)\n",
    "print(\"A . C\", vector_A @ vector_C)\n",
    "print(\"A x B\", vector_A * vector_B)\n",
    "print(\"norm A\", np.linalg.norm(vector_A))\n",
    "\n",
    "def findCosTheta(vector_A: np.ndarray, vector_B: np.ndarray) -> np.float64:\n",
    "    return (vector_A @ vector_B) / (np.linalg.norm(vector_A) * np.linalg.norm(vector_B))\n",
    "\n",
    "print(\"cos theta A B\",findCosTheta(vector_A, vector_B))"
   ]
  },
  {
   "cell_type": "code",
   "execution_count": 19,
   "metadata": {},
   "outputs": [
    {
     "data": {
      "text/plain": [
       "array([[2, 3],\n",
       "       [5, 1]])"
      ]
     },
     "execution_count": 19,
     "metadata": {},
     "output_type": "execute_result"
    }
   ],
   "source": [
    "# Problems 3\n",
    "vector_u = np.array([2,5])\n",
    "vector_v = np.array([3,1])\n",
    "\n",
    "matrix_uv = np.column_stack((vector_u, vector_v))\n",
    "matrix_uv"
   ]
  }
 ],
 "metadata": {
  "kernelspec": {
   "display_name": "Python 3.10.7 64-bit",
   "language": "python",
   "name": "python3"
  },
  "language_info": {
   "codemirror_mode": {
    "name": "ipython",
    "version": 3
   },
   "file_extension": ".py",
   "mimetype": "text/x-python",
   "name": "python",
   "nbconvert_exporter": "python",
   "pygments_lexer": "ipython3",
   "version": "3.10.7"
  },
  "orig_nbformat": 4,
  "vscode": {
   "interpreter": {
    "hash": "aee8b7b246df8f9039afb4144a1f6fd8d2ca17a180786b69acc140d282b71a49"
   }
  }
 },
 "nbformat": 4,
 "nbformat_minor": 2
}
