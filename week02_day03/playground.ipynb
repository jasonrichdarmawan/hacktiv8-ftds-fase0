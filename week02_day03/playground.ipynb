{
 "cells": [
  {
   "cell_type": "code",
   "execution_count": 1,
   "metadata": {},
   "outputs": [
    {
     "data": {
      "text/plain": [
       "array([[ 7, 10],\n",
       "       [15, 22]])"
      ]
     },
     "execution_count": 1,
     "metadata": {},
     "output_type": "execute_result"
    }
   ],
   "source": [
    "import numpy as np\n",
    "# [[1,2], @ [[1,2], = [[7,10],\n",
    "#  [3,4]]    [3,4]]    [15,22]]\n",
    "# [[1,2], * [[1,2], = [[1,4],\n",
    "#  [3,4]]    [3,4]]    [9,6]]\n",
    "A = np.array([[1,2],[3,4]])\n",
    "B = np.array([[1,2],[3,4]])\n",
    "display(A @ B)\n",
    "display(A * B)"
   ]
  },
  {
   "cell_type": "code",
   "execution_count": 14,
   "metadata": {},
   "outputs": [
    {
     "data": {
      "text/plain": [
       "0.24333333333333332"
      ]
     },
     "execution_count": 14,
     "metadata": {},
     "output_type": "execute_result"
    }
   ],
   "source": [
    "import pandas as pd\n",
    "\n",
    "df = pd.DataFrame([\"1\",\"10%\", \"20%\"])\n",
    "\n",
    "# only convert rows that contain `%`, \n",
    "# to prevent dividing everything by 100\n",
    "pct = df[0].str.contains('%')\n",
    "df.loc[pct,0] = df.loc[pct,0].str.rstrip('%').astype('float') / 100.0\n",
    "\n",
    "# DataFrame.var() refuses to output if it's an object type.\n",
    "df[0] = df[0].astype('float') \n",
    "\n",
    "df[0].var()"
   ]
  }
 ],
 "metadata": {
  "kernelspec": {
   "display_name": "Python 3.10.7 64-bit",
   "language": "python",
   "name": "python3"
  },
  "language_info": {
   "codemirror_mode": {
    "name": "ipython",
    "version": 3
   },
   "file_extension": ".py",
   "mimetype": "text/x-python",
   "name": "python",
   "nbconvert_exporter": "python",
   "pygments_lexer": "ipython3",
   "version": "3.10.7"
  },
  "orig_nbformat": 4,
  "vscode": {
   "interpreter": {
    "hash": "aee8b7b246df8f9039afb4144a1f6fd8d2ca17a180786b69acc140d282b71a49"
   }
  }
 },
 "nbformat": 4,
 "nbformat_minor": 2
}
