{
  "cells": [
    {
      "cell_type": "markdown",
      "metadata": {
        "id": "q9lOjL1Mso9u"
      },
      "source": [
        "# Soal latihan untuk persiapan Live Code 1\n",
        "\n",
        "Kisi-kisi apa saja yang akan keluar:\n",
        "- Load data pandas menggunakan pd.read_csv, pd.read_excel.\n",
        "- Pembuatan dan penggunaan fungsi \n",
        "- Pandas Query/Filtering\n",
        "- For loop dan conditional if yang diterapkan pada pandas\n",
        "- Akses row dataframe pandas menggunakan loc/iloc\n",
        "- Akses kolom dataframe pandas\n",
        "- Penggunaan method di dataframe/series pandas terutama method agregat (rata-rata, min, max, count, std, dll)"
      ]
    },
    {
      "cell_type": "code",
      "execution_count": 2,
      "metadata": {
        "colab": {
          "base_uri": "https://localhost:8080/",
          "height": 677
        },
        "id": "tSITOEnxo1aN",
        "outputId": "cb694585-bec4-415c-e34b-de712a68a45f"
      },
      "outputs": [
        {
          "data": {
            "text/html": [
              "<div>\n",
              "<style scoped>\n",
              "    .dataframe tbody tr th:only-of-type {\n",
              "        vertical-align: middle;\n",
              "    }\n",
              "\n",
              "    .dataframe tbody tr th {\n",
              "        vertical-align: top;\n",
              "    }\n",
              "\n",
              "    .dataframe thead th {\n",
              "        text-align: right;\n",
              "    }\n",
              "</style>\n",
              "<table border=\"1\" class=\"dataframe\">\n",
              "  <thead>\n",
              "    <tr style=\"text-align: right;\">\n",
              "      <th></th>\n",
              "      <th>sisi1</th>\n",
              "      <th>sisi2</th>\n",
              "    </tr>\n",
              "  </thead>\n",
              "  <tbody>\n",
              "    <tr>\n",
              "      <th>0</th>\n",
              "      <td>22</td>\n",
              "      <td>10</td>\n",
              "    </tr>\n",
              "    <tr>\n",
              "      <th>1</th>\n",
              "      <td>15</td>\n",
              "      <td>5</td>\n",
              "    </tr>\n",
              "    <tr>\n",
              "      <th>2</th>\n",
              "      <td>9</td>\n",
              "      <td>5</td>\n",
              "    </tr>\n",
              "    <tr>\n",
              "      <th>3</th>\n",
              "      <td>5</td>\n",
              "      <td>13</td>\n",
              "    </tr>\n",
              "    <tr>\n",
              "      <th>4</th>\n",
              "      <td>17</td>\n",
              "      <td>6</td>\n",
              "    </tr>\n",
              "    <tr>\n",
              "      <th>5</th>\n",
              "      <td>22</td>\n",
              "      <td>12</td>\n",
              "    </tr>\n",
              "    <tr>\n",
              "      <th>6</th>\n",
              "      <td>16</td>\n",
              "      <td>8</td>\n",
              "    </tr>\n",
              "    <tr>\n",
              "      <th>7</th>\n",
              "      <td>6</td>\n",
              "      <td>5</td>\n",
              "    </tr>\n",
              "    <tr>\n",
              "      <th>8</th>\n",
              "      <td>6</td>\n",
              "      <td>16</td>\n",
              "    </tr>\n",
              "    <tr>\n",
              "      <th>9</th>\n",
              "      <td>20</td>\n",
              "      <td>17</td>\n",
              "    </tr>\n",
              "    <tr>\n",
              "      <th>10</th>\n",
              "      <td>8</td>\n",
              "      <td>5</td>\n",
              "    </tr>\n",
              "    <tr>\n",
              "      <th>11</th>\n",
              "      <td>30</td>\n",
              "      <td>22</td>\n",
              "    </tr>\n",
              "    <tr>\n",
              "      <th>12</th>\n",
              "      <td>9</td>\n",
              "      <td>12</td>\n",
              "    </tr>\n",
              "    <tr>\n",
              "      <th>13</th>\n",
              "      <td>15</td>\n",
              "      <td>10</td>\n",
              "    </tr>\n",
              "    <tr>\n",
              "      <th>14</th>\n",
              "      <td>11</td>\n",
              "      <td>15</td>\n",
              "    </tr>\n",
              "    <tr>\n",
              "      <th>15</th>\n",
              "      <td>17</td>\n",
              "      <td>3</td>\n",
              "    </tr>\n",
              "    <tr>\n",
              "      <th>16</th>\n",
              "      <td>5</td>\n",
              "      <td>6</td>\n",
              "    </tr>\n",
              "    <tr>\n",
              "      <th>17</th>\n",
              "      <td>16</td>\n",
              "      <td>13</td>\n",
              "    </tr>\n",
              "    <tr>\n",
              "      <th>18</th>\n",
              "      <td>9</td>\n",
              "      <td>15</td>\n",
              "    </tr>\n",
              "    <tr>\n",
              "      <th>19</th>\n",
              "      <td>26</td>\n",
              "      <td>5</td>\n",
              "    </tr>\n",
              "  </tbody>\n",
              "</table>\n",
              "</div>"
            ],
            "text/plain": [
              "    sisi1  sisi2\n",
              "0      22     10\n",
              "1      15      5\n",
              "2       9      5\n",
              "3       5     13\n",
              "4      17      6\n",
              "5      22     12\n",
              "6      16      8\n",
              "7       6      5\n",
              "8       6     16\n",
              "9      20     17\n",
              "10      8      5\n",
              "11     30     22\n",
              "12      9     12\n",
              "13     15     10\n",
              "14     11     15\n",
              "15     17      3\n",
              "16      5      6\n",
              "17     16     13\n",
              "18      9     15\n",
              "19     26      5"
            ]
          },
          "execution_count": 2,
          "metadata": {},
          "output_type": "execute_result"
        }
      ],
      "source": [
        "import pandas as pd\n",
        "\n",
        "sisi_1 = [22, 15, 9, 5, 17, 22, 16, 6, 6, 20, 8, 30, 9, 15, 11, 17, 5, 16, 9, 26]\n",
        "sisi_2 = [10, 5, 5, 13, 6, 12, 8, 5, 16, 17, 5, 22, 12, 10, 15, 3, 6, 13, 15, 5]\n",
        "\n",
        "df = pd.DataFrame({'sisi1': sisi_1, 'sisi2': sisi_2})\n",
        "df"
      ]
    },
    {
      "cell_type": "markdown",
      "metadata": {
        "id": "Z0Z8LCVRXMkg"
      },
      "source": [
        "1. Buatlah dua fungsi untuk menghitung luas persegi dan jajargenjang"
      ]
    },
    {
      "cell_type": "code",
      "execution_count": 5,
      "metadata": {
        "id": "M_GV53OD-JEO"
      },
      "outputs": [
        {
          "name": "stdout",
          "output_type": "stream",
          "text": [
            "<class 'pandas.core.frame.DataFrame'>\n",
            "RangeIndex: 20 entries, 0 to 19\n",
            "Data columns (total 2 columns):\n",
            " #   Column  Non-Null Count  Dtype\n",
            "---  ------  --------------  -----\n",
            " 0   sisi1   20 non-null     int64\n",
            " 1   sisi2   20 non-null     int64\n",
            "dtypes: int64(2)\n",
            "memory usage: 448.0 bytes\n"
          ]
        },
        {
          "data": {
            "text/plain": [
              "None"
            ]
          },
          "metadata": {},
          "output_type": "display_data"
        }
      ],
      "source": [
        "display(df.info())\n",
        "\n",
        "def hitungLuasPersegi(x: int, y: int) -> int:\n",
        "    return x * y\n",
        "\n",
        "def hitungLuasJajarGenjang(x: int, y: int) -> int:\n",
        "    return x * y"
      ]
    },
    {
      "cell_type": "markdown",
      "metadata": {
        "id": "qSoPnMpeo6Vk"
      },
      "source": [
        "2. Dengan data berikut, buatlah kolom baru yang bernama `luas` yang menyimpan hasil perhitungan luas persegi dan jajargenjang, dimana untuk kolom sisi1 yang nilainya lebih dari 10 akan dihitung luas persegi, dan kurang dari 10 dihitung jajargenjang. **(Hint: Gunakan for loop dan if statement untuk mengerjakan nomor 2, kamu bisa menggunakan list untuk menyimpan perhitungan sementara, setelahnya dapat dimasukkan ke kolom luas)**."
      ]
    },
    {
      "cell_type": "code",
      "execution_count": 36,
      "metadata": {},
      "outputs": [
        {
          "ename": "IndexError",
          "evalue": "only integers, slices (`:`), ellipsis (`...`), numpy.newaxis (`None`) and integer or boolean arrays are valid indices",
          "output_type": "error",
          "traceback": [
            "\u001b[0;31m---------------------------------------------------------------------------\u001b[0m",
            "\u001b[0;31mIndexError\u001b[0m                                Traceback (most recent call last)",
            "Cell \u001b[0;32mIn [36], line 3\u001b[0m\n\u001b[1;32m      1\u001b[0m \u001b[39mfor\u001b[39;00m index, row \u001b[39min\u001b[39;00m df\u001b[39m.\u001b[39miterrows():\n\u001b[1;32m      2\u001b[0m     \u001b[39mif\u001b[39;00m row[\u001b[39m'\u001b[39m\u001b[39msisi1\u001b[39m\u001b[39m'\u001b[39m] \u001b[39m>\u001b[39m \u001b[39m10\u001b[39m:\n\u001b[0;32m----> 3\u001b[0m         df\u001b[39m.\u001b[39miloc[index, \u001b[39m'\u001b[39m\u001b[39mluas\u001b[39m\u001b[39m'\u001b[39m] \u001b[39m=\u001b[39m hitungLuasPersegi(row[\u001b[39m'\u001b[39m\u001b[39msisi1\u001b[39m\u001b[39m'\u001b[39m], row[\u001b[39m'\u001b[39m\u001b[39msisi2\u001b[39m\u001b[39m'\u001b[39m])\n\u001b[1;32m      4\u001b[0m     df\u001b[39m.\u001b[39miloc[index, \u001b[39m'\u001b[39m\u001b[39mluas\u001b[39m\u001b[39m'\u001b[39m] \u001b[39m=\u001b[39m hitungLuasJajarGenjang(row[\u001b[39m'\u001b[39m\u001b[39msisi1\u001b[39m\u001b[39m'\u001b[39m], row[\u001b[39m'\u001b[39m\u001b[39msisi2\u001b[39m\u001b[39m'\u001b[39m])\n\u001b[1;32m      5\u001b[0m display(df)\n",
            "File \u001b[0;32m/Library/Frameworks/Python.framework/Versions/3.10/lib/python3.10/site-packages/pandas/core/indexing.py:819\u001b[0m, in \u001b[0;36m_LocationIndexer.__setitem__\u001b[0;34m(self, key, value)\u001b[0m\n\u001b[1;32m    816\u001b[0m \u001b[39mself\u001b[39m\u001b[39m.\u001b[39m_has_valid_setitem_indexer(key)\n\u001b[1;32m    818\u001b[0m iloc \u001b[39m=\u001b[39m \u001b[39mself\u001b[39m \u001b[39mif\u001b[39;00m \u001b[39mself\u001b[39m\u001b[39m.\u001b[39mname \u001b[39m==\u001b[39m \u001b[39m\"\u001b[39m\u001b[39miloc\u001b[39m\u001b[39m\"\u001b[39m \u001b[39melse\u001b[39;00m \u001b[39mself\u001b[39m\u001b[39m.\u001b[39mobj\u001b[39m.\u001b[39miloc\n\u001b[0;32m--> 819\u001b[0m iloc\u001b[39m.\u001b[39;49m_setitem_with_indexer(indexer, value, \u001b[39mself\u001b[39;49m\u001b[39m.\u001b[39;49mname)\n",
            "File \u001b[0;32m/Library/Frameworks/Python.framework/Versions/3.10/lib/python3.10/site-packages/pandas/core/indexing.py:1796\u001b[0m, in \u001b[0;36m_iLocIndexer._setitem_with_indexer\u001b[0;34m(self, indexer, value, name)\u001b[0m\n\u001b[1;32m   1793\u001b[0m \u001b[39m# align and set the values\u001b[39;00m\n\u001b[1;32m   1794\u001b[0m \u001b[39mif\u001b[39;00m take_split_path:\n\u001b[1;32m   1795\u001b[0m     \u001b[39m# We have to operate column-wise\u001b[39;00m\n\u001b[0;32m-> 1796\u001b[0m     \u001b[39mself\u001b[39;49m\u001b[39m.\u001b[39;49m_setitem_with_indexer_split_path(indexer, value, name)\n\u001b[1;32m   1797\u001b[0m \u001b[39melse\u001b[39;00m:\n\u001b[1;32m   1798\u001b[0m     \u001b[39mself\u001b[39m\u001b[39m.\u001b[39m_setitem_single_block(indexer, value, name)\n",
            "File \u001b[0;32m/Library/Frameworks/Python.framework/Versions/3.10/lib/python3.10/site-packages/pandas/core/indexing.py:1889\u001b[0m, in \u001b[0;36m_iLocIndexer._setitem_with_indexer_split_path\u001b[0;34m(self, indexer, value, name)\u001b[0m\n\u001b[1;32m   1885\u001b[0m \u001b[39melse\u001b[39;00m:\n\u001b[1;32m   1886\u001b[0m \n\u001b[1;32m   1887\u001b[0m     \u001b[39m# scalar value\u001b[39;00m\n\u001b[1;32m   1888\u001b[0m     \u001b[39mfor\u001b[39;00m loc \u001b[39min\u001b[39;00m ilocs:\n\u001b[0;32m-> 1889\u001b[0m         \u001b[39mself\u001b[39;49m\u001b[39m.\u001b[39;49m_setitem_single_column(loc, value, pi)\n",
            "File \u001b[0;32m/Library/Frameworks/Python.framework/Versions/3.10/lib/python3.10/site-packages/pandas/core/indexing.py:1970\u001b[0m, in \u001b[0;36m_iLocIndexer._setitem_single_column\u001b[0;34m(self, loc, value, plane_indexer)\u001b[0m\n\u001b[1;32m   1959\u001b[0m \u001b[39m\"\"\"\u001b[39;00m\n\u001b[1;32m   1960\u001b[0m \n\u001b[1;32m   1961\u001b[0m \u001b[39mParameters\u001b[39;00m\n\u001b[0;32m   (...)\u001b[0m\n\u001b[1;32m   1966\u001b[0m \u001b[39m    The indexer we use for setitem along axis=0.\u001b[39;00m\n\u001b[1;32m   1967\u001b[0m \u001b[39m\"\"\"\u001b[39;00m\n\u001b[1;32m   1968\u001b[0m pi \u001b[39m=\u001b[39m plane_indexer\n\u001b[0;32m-> 1970\u001b[0m orig_values \u001b[39m=\u001b[39m \u001b[39mself\u001b[39;49m\u001b[39m.\u001b[39;49mobj\u001b[39m.\u001b[39;49m_get_column_array(loc)\n\u001b[1;32m   1972\u001b[0m \u001b[39m# perform the equivalent of a setitem on the info axis\u001b[39;00m\n\u001b[1;32m   1973\u001b[0m \u001b[39m# as we have a null slice or a slice with full bounds\u001b[39;00m\n\u001b[1;32m   1974\u001b[0m \u001b[39m# which means essentially reassign to the columns of a\u001b[39;00m\n\u001b[1;32m   1975\u001b[0m \u001b[39m# multi-dim object\u001b[39;00m\n\u001b[1;32m   1976\u001b[0m \u001b[39m# GH#6149 (null slice), GH#10408 (full bounds)\u001b[39;00m\n\u001b[1;32m   1977\u001b[0m \u001b[39mif\u001b[39;00m com\u001b[39m.\u001b[39mis_null_slice(pi) \u001b[39mor\u001b[39;00m com\u001b[39m.\u001b[39mis_full_slice(pi, \u001b[39mlen\u001b[39m(\u001b[39mself\u001b[39m\u001b[39m.\u001b[39mobj)):\n",
            "File \u001b[0;32m/Library/Frameworks/Python.framework/Versions/3.10/lib/python3.10/site-packages/pandas/core/frame.py:3743\u001b[0m, in \u001b[0;36mDataFrame._get_column_array\u001b[0;34m(self, i)\u001b[0m\n\u001b[1;32m   3735\u001b[0m \u001b[39mdef\u001b[39;00m \u001b[39m_get_column_array\u001b[39m(\u001b[39mself\u001b[39m, i: \u001b[39mint\u001b[39m) \u001b[39m-\u001b[39m\u001b[39m>\u001b[39m ArrayLike:\n\u001b[1;32m   3736\u001b[0m     \u001b[39m\"\"\"\u001b[39;00m\n\u001b[1;32m   3737\u001b[0m \u001b[39m    Get the values of the i'th column (ndarray or ExtensionArray, as stored\u001b[39;00m\n\u001b[1;32m   3738\u001b[0m \u001b[39m    in the Block)\u001b[39;00m\n\u001b[0;32m   (...)\u001b[0m\n\u001b[1;32m   3741\u001b[0m \u001b[39m    so this should be used with caution (for read-only purposes).\u001b[39;00m\n\u001b[1;32m   3742\u001b[0m \u001b[39m    \"\"\"\u001b[39;00m\n\u001b[0;32m-> 3743\u001b[0m     \u001b[39mreturn\u001b[39;00m \u001b[39mself\u001b[39;49m\u001b[39m.\u001b[39;49m_mgr\u001b[39m.\u001b[39;49miget_values(i)\n",
            "File \u001b[0;32m/Library/Frameworks/Python.framework/Versions/3.10/lib/python3.10/site-packages/pandas/core/internals/managers.py:1137\u001b[0m, in \u001b[0;36mBlockManager.iget_values\u001b[0;34m(self, i)\u001b[0m\n\u001b[1;32m   1130\u001b[0m \u001b[39m\"\"\"\u001b[39;00m\n\u001b[1;32m   1131\u001b[0m \u001b[39mReturn the data for column i as the values (ndarray or ExtensionArray).\u001b[39;00m\n\u001b[1;32m   1132\u001b[0m \n\u001b[1;32m   1133\u001b[0m \u001b[39mWarning! The returned array is a view but doesn't handle Copy-on-Write,\u001b[39;00m\n\u001b[1;32m   1134\u001b[0m \u001b[39mso this should be used with caution.\u001b[39;00m\n\u001b[1;32m   1135\u001b[0m \u001b[39m\"\"\"\u001b[39;00m\n\u001b[1;32m   1136\u001b[0m \u001b[39m# TODO(CoW) making the arrays read-only might make this safer to use?\u001b[39;00m\n\u001b[0;32m-> 1137\u001b[0m block \u001b[39m=\u001b[39m \u001b[39mself\u001b[39m\u001b[39m.\u001b[39mblocks[\u001b[39mself\u001b[39;49m\u001b[39m.\u001b[39;49mblknos[i]]\n\u001b[1;32m   1138\u001b[0m values \u001b[39m=\u001b[39m block\u001b[39m.\u001b[39miget(\u001b[39mself\u001b[39m\u001b[39m.\u001b[39mblklocs[i])\n\u001b[1;32m   1139\u001b[0m \u001b[39mreturn\u001b[39;00m values\n",
            "\u001b[0;31mIndexError\u001b[0m: only integers, slices (`:`), ellipsis (`...`), numpy.newaxis (`None`) and integer or boolean arrays are valid indices"
          ]
        }
      ],
      "source": [
        "for index, row in df.iterrows():\n",
        "    if row['sisi1'] > 10:\n",
        "        # Similar to loc, in that both provide label-based lookups\n",
        "        # Use at if you only need to get or set a single value in a DataFrame or Series.\n",
        "        df.at[index, 'luas'] = hitungLuasPersegi(row['sisi1'], row['sisi2'])\n",
        "    df.at[index, 'luas'] = hitungLuasJajarGenjang(row['sisi1'], row['sisi2'])\n",
        "display(df)"
      ]
    },
    {
      "cell_type": "markdown",
      "metadata": {
        "id": "TyDEajOjqY6S"
      },
      "source": [
        "3. Hitung standar deviasi (.std) kolom luas dimana sisi1 lebih dari 10 atau sisi 2 ganjil"
      ]
    },
    {
      "cell_type": "code",
      "execution_count": 33,
      "metadata": {
        "id": "_QGxle0IB9F7"
      },
      "outputs": [
        {
          "name": "stdout",
          "output_type": "stream",
          "text": [
            "mean    165.176471\n",
            "std     153.573775\n",
            "Name: luas, dtype: float64\n"
          ]
        },
        {
          "data": {
            "text/plain": [
              "'\\nNew knowledge:\\nThe `or` and `and` python statements require truth-values. For `pandas`, these are considered ambigious so you should use \"bitwise\" `|` (or) or `&` (and) operations\\n'"
            ]
          },
          "execution_count": 33,
          "metadata": {},
          "output_type": "execute_result"
        }
      ],
      "source": [
        "print(df.loc[(df['sisi1'] > 10) | (df['sisi2'] % 2 != 0),'luas'].agg(['mean', 'std']))\n",
        "\"\"\"\n",
        "New knowledge:\n",
        "The `or` and `and` python statements require truth-values. For `pandas`, these are considered ambigious so you should use \"bitwise\" `|` (or) or `&` (and) operations\n",
        "\"\"\""
      ]
    }
  ],
  "metadata": {
    "colab": {
      "provenance": []
    },
    "kernelspec": {
      "display_name": "Python 3.10.7 64-bit",
      "language": "python",
      "name": "python3"
    },
    "language_info": {
      "codemirror_mode": {
        "name": "ipython",
        "version": 3
      },
      "file_extension": ".py",
      "mimetype": "text/x-python",
      "name": "python",
      "nbconvert_exporter": "python",
      "pygments_lexer": "ipython3",
      "version": "3.10.7"
    },
    "vscode": {
      "interpreter": {
        "hash": "aee8b7b246df8f9039afb4144a1f6fd8d2ca17a180786b69acc140d282b71a49"
      }
    }
  },
  "nbformat": 4,
  "nbformat_minor": 0
}
