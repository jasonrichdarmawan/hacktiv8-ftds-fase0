{
 "cells": [
  {
   "cell_type": "markdown",
   "metadata": {},
   "source": [
    "![gradient of a function](./Screen%20Shot%202022-10-11%20at%2022.05.09.png)"
   ]
  },
  {
   "cell_type": "code",
   "execution_count": 18,
   "metadata": {},
   "outputs": [
    {
     "data": {
      "text/plain": [
       "array([3, 4], dtype=object)"
      ]
     },
     "metadata": {},
     "output_type": "display_data"
    }
   ],
   "source": [
    "import sympy as sy\n",
    "import numpy as np\n",
    "\n",
    "x, y = sy.symbols('x,y')\n",
    "\n",
    "# Problems 1\n",
    "\n",
    "# 3x + 4y = 5\n",
    "f = 3*x + 4*y\n",
    "\n",
    "df_dx = f.diff(x) # df/dx\n",
    "df_dy = f.diff(y) # df/dy\n",
    "display(np.array([df_dx, df_dy]))"
   ]
  }
 ],
 "metadata": {
  "kernelspec": {
   "display_name": "Python 3.10.7 64-bit",
   "language": "python",
   "name": "python3"
  },
  "language_info": {
   "codemirror_mode": {
    "name": "ipython",
    "version": 3
   },
   "file_extension": ".py",
   "mimetype": "text/x-python",
   "name": "python",
   "nbconvert_exporter": "python",
   "pygments_lexer": "ipython3",
   "version": "3.10.7"
  },
  "orig_nbformat": 4,
  "vscode": {
   "interpreter": {
    "hash": "aee8b7b246df8f9039afb4144a1f6fd8d2ca17a180786b69acc140d282b71a49"
   }
  }
 },
 "nbformat": 4,
 "nbformat_minor": 2
}
