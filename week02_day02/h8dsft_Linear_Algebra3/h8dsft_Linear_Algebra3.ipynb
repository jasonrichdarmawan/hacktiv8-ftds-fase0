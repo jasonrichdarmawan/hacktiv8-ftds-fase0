{
 "cells": [
  {
   "cell_type": "code",
   "execution_count": 88,
   "metadata": {},
   "outputs": [],
   "source": [
    "import numpy as np"
   ]
  },
  {
   "cell_type": "markdown",
   "metadata": {},
   "source": [
    "reference: https://mathsolver.microsoft.com/id/solve-problem/%7B%20x%20%20%7D%5E%7B%202%20%20%7D%20%20-5x%2B10%20%3D%20%200\n",
    "![persamaan kaudrat](./Screen%20Shot%202022-10-11%20at%2021.23.20.png)\n",
    "\n",
    "reference: https://byjus.com/jee/normalized-and-decomposition-of-eigenvectors/#:~:text=Normalized%20eigenvector%20is%20nothing%20but,the%20vector%20of%20length%20one.\n",
    "![normalized eigen vector](./Screen%20Shot%202022-10-11%20at%2021.34.31.png)"
   ]
  },
  {
   "cell_type": "markdown",
   "metadata": {},
   "source": [
    "# Problems 1\n",
    "\n",
    "Is `[1,3]` an eigen vector of `[[1,-1],[6,4]]`\n",
    "```\n",
    "λ = (A @ x) /  x\n",
    "  = [-2]    / [1]\n",
    "    [18]      [3]\n",
    "  = [-2]\n",
    "    [ 6]\n",
    "  A    @  x       λ  *  x \n",
    "[1 -1] . [1]  = [-2] x [1]\n",
    "[6  4]   [3]    [ 6]   [3]\n",
    "\n",
    "         [-2] = [-2]\n",
    "         [18]   [18]\n",
    "```\n",
    "\n",
    "Yes, `[1,3]` is an eigen vector of `[[1,-1],[6,4]]`"
   ]
  },
  {
   "cell_type": "code",
   "execution_count": 89,
   "metadata": {},
   "outputs": [
    {
     "name": "stdout",
     "output_type": "stream",
     "text": [
      "[ True  True]\n"
     ]
    }
   ],
   "source": [
    "# Problems 1\n",
    "A = np.array([[1,-1],\n",
    "              [6, 4]])\n",
    "x = np.array([1,3])\n",
    "# A . x = λ * x\n",
    "# λ     = A . x / x\n",
    "λ = A @ x / x\n",
    "\n",
    "print(A @ x == λ * x)"
   ]
  },
  {
   "cell_type": "markdown",
   "metadata": {},
   "source": [
    "# Playground\n",
    "\n",
    "![contoh eigen vector](./Screen%20Shot%202022-10-11%20at%2022.14.37.png)"
   ]
  },
  {
   "cell_type": "markdown",
   "metadata": {},
   "source": [
    "## Prove that np.linalg.eig return normalized vector"
   ]
  },
  {
   "cell_type": "code",
   "execution_count": 90,
   "metadata": {},
   "outputs": [
    {
     "data": {
      "text/plain": [
       "array([0., 5.])"
      ]
     },
     "metadata": {},
     "output_type": "display_data"
    },
    {
     "data": {
      "text/plain": [
       "array([[-0.89442719, -0.4472136 ],\n",
       "       [ 0.4472136 , -0.89442719]])"
      ]
     },
     "metadata": {},
     "output_type": "display_data"
    },
    {
     "data": {
      "text/plain": [
       "array([0.4472136 , 0.89442719])"
      ]
     },
     "metadata": {},
     "output_type": "display_data"
    },
    {
     "data": {
      "text/plain": [
       "True"
      ]
     },
     "execution_count": 90,
     "metadata": {},
     "output_type": "execute_result"
    }
   ],
   "source": [
    "A = np.array([[1,2],[2,4]])\n",
    "x = np.array([1,2])\n",
    "eigvalues, eigvectors = np.linalg.eig(A)\n",
    "display(eigvalues, eigvectors)\n",
    "\n",
    "# normalized eigen vector = [ x1 / np.sqrt(x1^2 + x2^2 + ... +xn^2) ]\n",
    "#                           [ x2 / np.sqrt(x1^2 + x2^2 + ... +xn^2) ]\n",
    "#                           [ ...                                   ]\n",
    "#                           [ xn / np.sqrt(x1^2 + x2^2 + ... +xn^2) ]\n",
    "# reminder: np.linalg.eig return normalized eigen vector.\n",
    "#                                     np.sqrt( 1 + 4 ) is just a quick way.\n",
    "#           actual real life use cae: np.sqrt( np.ones( len(x) ) @ x**2 )\n",
    "normalized_eigvector = x / np.sqrt(1+4)\n",
    "display(normalized_eigvector)\n",
    "\n",
    "# prove that np.linalg.eig return normalized eigen vector\n",
    "np.array_equal(normalized_eigvector, np.absolute(eigvectors[1]))"
   ]
  },
  {
   "cell_type": "markdown",
   "metadata": {},
   "source": [
    "## Prove the eigendecomposition formula\n",
    "\n",
    "```\n",
    "A.x           = λ * x\n",
    "A.x           = λ.I * x\n",
    "A.x - λ.Ix    = 0\n",
    "(A - λ*I) @ x = 0\n",
    "det(A - λ*I)  = 0\n",
    "```"
   ]
  },
  {
   "cell_type": "code",
   "execution_count": 96,
   "metadata": {},
   "outputs": [
    {
     "name": "stdout",
     "output_type": "stream",
     "text": [
      "[ True  True]\n",
      "[ 5. 10.]\n",
      "[ 5. 10.]\n",
      "[[-4.  2.]\n",
      " [ 2. -1.]]\n",
      "0.0\n"
     ]
    }
   ],
   "source": [
    "A = np.array([[1,2],[2,4]])\n",
    "x = np.array([1,2])\n",
    "λ = A @ x / x\n",
    "\n",
    "# prove: A . x = λ.I * x\n",
    "print(A @ x == λ @ np.identity(2) * x)\n",
    "\n",
    "# prove: λ.Ix = λI.x\n",
    "print(λ @ np.identity(2) * x)\n",
    "print(λ * np.identity(2) @ x)\n",
    "\n",
    "# prove: det(A - λ*I) = 0\n",
    "# det([a b]) = a*d - b*c\n",
    "#    ([c d])\n",
    "print(A - λ*np.identity(2))\n",
    "print(np.linalg.det(A - λ*np.identity(2))) # expected = 0"
   ]
  },
  {
   "cell_type": "code",
   "execution_count": 92,
   "metadata": {},
   "outputs": [
    {
     "data": {
      "text/plain": [
       "array([[1., 0.],\n",
       "       [0., 1.]])"
      ]
     },
     "metadata": {},
     "output_type": "display_data"
    },
    {
     "data": {
      "text/plain": [
       "array([0., 0.])"
      ]
     },
     "metadata": {},
     "output_type": "display_data"
    }
   ],
   "source": [
    "A = np.array([[1,2],[2,4]])\n",
    "x = np.array([1,2])\n",
    "\n",
    "display(np.identity(2))\n",
    "\n",
    "# prove: (A - λ*I) . x = 0\n",
    "display(\n",
    "    (A - (eigvalues[1] * np.identity(2))) @ np.array([1,2])\n",
    ") # expected [0,0]"
   ]
  }
 ],
 "metadata": {
  "kernelspec": {
   "display_name": "Python 3.10.7 64-bit",
   "language": "python",
   "name": "python3"
  },
  "language_info": {
   "codemirror_mode": {
    "name": "ipython",
    "version": 3
   },
   "file_extension": ".py",
   "mimetype": "text/x-python",
   "name": "python",
   "nbconvert_exporter": "python",
   "pygments_lexer": "ipython3",
   "version": "3.10.7"
  },
  "orig_nbformat": 4,
  "vscode": {
   "interpreter": {
    "hash": "aee8b7b246df8f9039afb4144a1f6fd8d2ca17a180786b69acc140d282b71a49"
   }
  }
 },
 "nbformat": 4,
 "nbformat_minor": 2
}
