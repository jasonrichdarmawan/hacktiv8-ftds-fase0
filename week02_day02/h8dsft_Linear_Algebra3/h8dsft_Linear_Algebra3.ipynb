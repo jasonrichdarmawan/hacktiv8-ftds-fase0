{
 "cells": [
  {
   "cell_type": "code",
   "execution_count": 37,
   "metadata": {},
   "outputs": [],
   "source": [
    "import numpy as np"
   ]
  },
  {
   "cell_type": "markdown",
   "metadata": {},
   "source": [
    "reference: https://mathsolver.microsoft.com/id/solve-problem/%7B%20x%20%20%7D%5E%7B%202%20%20%7D%20%20-5x%2B10%20%3D%20%200\n",
    "![persamaan kaudrat](./Screen%20Shot%202022-10-11%20at%2021.23.20.png)\n",
    "\n",
    "reference: https://byjus.com/jee/normalized-and-decomposition-of-eigenvectors/#:~:text=Normalized%20eigenvector%20is%20nothing%20but,the%20vector%20of%20length%20one.\n",
    "![normalized eigen vector](./Screen%20Shot%202022-10-11%20at%2021.34.31.png)"
   ]
  },
  {
   "cell_type": "code",
   "execution_count": 38,
   "metadata": {},
   "outputs": [
    {
     "data": {
      "text/plain": [
       "array([[ 1, -1],\n",
       "       [ 6,  4]])"
      ]
     },
     "metadata": {},
     "output_type": "display_data"
    },
    {
     "data": {
      "text/plain": [
       "False"
      ]
     },
     "metadata": {},
     "output_type": "display_data"
    },
    {
     "data": {
      "text/plain": [
       "False"
      ]
     },
     "metadata": {},
     "output_type": "display_data"
    }
   ],
   "source": [
    "# Problems 1\n",
    "# Ax = lamda x\n",
    "# [1 -1 [1  = lamda [ 1 ] \n",
    "#  6 4]  3]           3\n",
    "A = np.array([[1,-1],[6,4]])\n",
    "display(A)\n",
    "eigvalues, eigvectors = np.linalg.eig(A)\n",
    "\n",
    "normalized_eigvector = np.array([1,3]) * np.sqrt(1 + 9)\n",
    "\n",
    "eigvector_absolute = np.absolute(eigvectors[0])\n",
    "display(np.array_equal(normalized_eigvector, eigvector_absolute))\n",
    "eigvector_absolute = np.absolute(eigvectors[1])\n",
    "display(np.array_equal(normalized_eigvector, eigvector_absolute))\n",
    "\n",
    "# jawabannya bukan.\n",
    "# apa ini cara membandingkan normalized eigvector dengan eigvector?"
   ]
  },
  {
   "cell_type": "markdown",
   "metadata": {},
   "source": [
    "# Playground\n",
    "\n",
    "![contoh eigen vector](./Screen%20Shot%202022-10-11%20at%2022.14.37.png)"
   ]
  },
  {
   "cell_type": "code",
   "execution_count": 39,
   "metadata": {},
   "outputs": [
    {
     "data": {
      "text/plain": [
       "array([0., 5.])"
      ]
     },
     "metadata": {},
     "output_type": "display_data"
    },
    {
     "data": {
      "text/plain": [
       "array([[-0.89442719, -0.4472136 ],\n",
       "       [ 0.4472136 , -0.89442719]])"
      ]
     },
     "metadata": {},
     "output_type": "display_data"
    },
    {
     "data": {
      "text/plain": [
       "True"
      ]
     },
     "execution_count": 39,
     "metadata": {},
     "output_type": "execute_result"
    }
   ],
   "source": [
    "A = np.array([[1,2],[2,4]])\n",
    "eigvalues, eigvectors = np.linalg.eig(A)\n",
    "display(eigvalues, eigvectors)\n",
    "\n",
    "normalized_eigvector = np.array([1,2]) / np.sqrt(1+4)\n",
    "\n",
    "eigvector_absolute = np.absolute(eigvectors[1])\n",
    "\n",
    "np.array_equal(normalized_eigvector, eigvector_absolute)"
   ]
  }
 ],
 "metadata": {
  "kernelspec": {
   "display_name": "Python 3.10.7 64-bit",
   "language": "python",
   "name": "python3"
  },
  "language_info": {
   "codemirror_mode": {
    "name": "ipython",
    "version": 3
   },
   "file_extension": ".py",
   "mimetype": "text/x-python",
   "name": "python",
   "nbconvert_exporter": "python",
   "pygments_lexer": "ipython3",
   "version": "3.10.7"
  },
  "orig_nbformat": 4,
  "vscode": {
   "interpreter": {
    "hash": "aee8b7b246df8f9039afb4144a1f6fd8d2ca17a180786b69acc140d282b71a49"
   }
  }
 },
 "nbformat": 4,
 "nbformat_minor": 2
}
