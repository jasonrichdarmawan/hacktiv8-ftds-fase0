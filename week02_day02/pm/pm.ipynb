{
 "cells": [
  {
   "cell_type": "code",
   "execution_count": 2,
   "metadata": {},
   "outputs": [],
   "source": [
    "import sympy as sy"
   ]
  },
  {
   "cell_type": "code",
   "execution_count": 3,
   "metadata": {},
   "outputs": [],
   "source": [
    "x = sy.Symbol('x')"
   ]
  },
  {
   "cell_type": "code",
   "execution_count": 4,
   "metadata": {},
   "outputs": [
    {
     "data": {
      "text/latex": [
       "$\\displaystyle 2 x^{2} + 4 x - 1$"
      ],
      "text/plain": [
       "2*x**2 + 4*x - 1"
      ]
     },
     "metadata": {},
     "output_type": "display_data"
    }
   ],
   "source": [
    "# 2x^2 + 4x - 1\n",
    "y = 2*(x)**2 + 4*x - 1\n",
    "display(y)"
   ]
  },
  {
   "cell_type": "code",
   "execution_count": 5,
   "metadata": {},
   "outputs": [
    {
     "data": {
      "text/latex": [
       "$\\displaystyle 4 x + 4$"
      ],
      "text/plain": [
       "4*x + 4"
      ]
     },
     "metadata": {},
     "output_type": "display_data"
    }
   ],
   "source": [
    "y_=y.diff(x)\n",
    "display(y_)"
   ]
  },
  {
   "cell_type": "code",
   "execution_count": 6,
   "metadata": {},
   "outputs": [
    {
     "data": {
      "text/latex": [
       "$\\displaystyle 4$"
      ],
      "text/plain": [
       "4"
      ]
     },
     "metadata": {},
     "output_type": "display_data"
    }
   ],
   "source": [
    "display(y_.diff(x))"
   ]
  },
  {
   "cell_type": "markdown",
   "metadata": {},
   "source": [
    "# Derivative"
   ]
  },
  {
   "cell_type": "code",
   "execution_count": 7,
   "metadata": {},
   "outputs": [],
   "source": [
    "import numpy as np"
   ]
  },
  {
   "cell_type": "code",
   "execution_count": 8,
   "metadata": {},
   "outputs": [
    {
     "data": {
      "text/plain": [
       "array([ 0.        ,  0.40816327,  0.81632653,  1.2244898 ,  1.63265306,\n",
       "        2.04081633,  2.44897959,  2.85714286,  3.26530612,  3.67346939,\n",
       "        4.08163265,  4.48979592,  4.89795918,  5.30612245,  5.71428571,\n",
       "        6.12244898,  6.53061224,  6.93877551,  7.34693878,  7.75510204,\n",
       "        8.16326531,  8.57142857,  8.97959184,  9.3877551 ,  9.79591837,\n",
       "       10.20408163, 10.6122449 , 11.02040816, 11.42857143, 11.83673469,\n",
       "       12.24489796, 12.65306122, 13.06122449, 13.46938776, 13.87755102,\n",
       "       14.28571429, 14.69387755, 15.10204082, 15.51020408, 15.91836735,\n",
       "       16.32653061, 16.73469388, 17.14285714, 17.55102041, 17.95918367,\n",
       "       18.36734694, 18.7755102 , 19.18367347, 19.59183673, 20.        ])"
      ]
     },
     "metadata": {},
     "output_type": "display_data"
    }
   ],
   "source": [
    "x = np.linspace(0,20)\n",
    "display(x)"
   ]
  },
  {
   "cell_type": "code",
   "execution_count": 9,
   "metadata": {},
   "outputs": [
    {
     "data": {
      "text/plain": [
       "array([ -1.        ,   0.96584756,   3.59808413,   6.8967097 ,\n",
       "        10.86172428,  15.49312786,  20.79092045,  26.75510204,\n",
       "        33.38567264,  40.68263224,  48.64598084,  57.27571845,\n",
       "        66.57184506,  76.53436068,  87.16326531,  98.45855893,\n",
       "       110.42024157, 123.0483132 , 136.34277384, 150.30362349,\n",
       "       164.93086214, 180.2244898 , 196.18450646, 212.81091212,\n",
       "       230.10370679, 248.06289046, 266.68846314, 285.98042482,\n",
       "       305.93877551, 326.5635152 , 347.8546439 , 369.8121616 ,\n",
       "       392.4360683 , 415.72636401, 439.68304873, 464.30612245,\n",
       "       489.59558517, 515.5514369 , 542.17367763, 569.46230737,\n",
       "       597.41732611, 626.03873386, 655.32653061, 685.28071637,\n",
       "       715.90129113, 747.18825489, 779.14160766, 811.76134944,\n",
       "       845.04748022, 879.        ])"
      ]
     },
     "metadata": {},
     "output_type": "display_data"
    }
   ],
   "source": [
    "y = 2*x**2 + 4*x - 1\n",
    "display(y)"
   ]
  },
  {
   "cell_type": "code",
   "execution_count": 10,
   "metadata": {},
   "outputs": [
    {
     "data": {
      "text/plain": [
       "array([ 4.81632653,  6.44897959,  8.08163265,  9.71428571, 11.34693878,\n",
       "       12.97959184, 14.6122449 , 16.24489796, 17.87755102, 19.51020408,\n",
       "       21.14285714, 22.7755102 , 24.40816327, 26.04081633, 27.67346939,\n",
       "       29.30612245, 30.93877551, 32.57142857, 34.20408163, 35.83673469,\n",
       "       37.46938776, 39.10204082, 40.73469388, 42.36734694, 44.        ,\n",
       "       45.63265306, 47.26530612, 48.89795918, 50.53061224, 52.16326531,\n",
       "       53.79591837, 55.42857143, 57.06122449, 58.69387755, 60.32653061,\n",
       "       61.95918367, 63.59183673, 65.2244898 , 66.85714286, 68.48979592,\n",
       "       70.12244898, 71.75510204, 73.3877551 , 75.02040816, 76.65306122,\n",
       "       78.28571429, 79.91836735, 81.55102041, 83.18367347])"
      ]
     },
     "metadata": {},
     "output_type": "display_data"
    }
   ],
   "source": [
    "df = np.diff(y)/np.diff(x)\n",
    "display(df)"
   ]
  },
  {
   "cell_type": "code",
   "execution_count": 11,
   "metadata": {},
   "outputs": [
    {
     "data": {
      "text/plain": [
       "array([ 4.81632653,  5.63265306,  7.26530612,  8.89795918, 10.53061224,\n",
       "       12.16326531, 13.79591837, 15.42857143, 17.06122449, 18.69387755,\n",
       "       20.32653061, 21.95918367, 23.59183673, 25.2244898 , 26.85714286,\n",
       "       28.48979592, 30.12244898, 31.75510204, 33.3877551 , 35.02040816,\n",
       "       36.65306122, 38.28571429, 39.91836735, 41.55102041, 43.18367347,\n",
       "       44.81632653, 46.44897959, 48.08163265, 49.71428571, 51.34693878,\n",
       "       52.97959184, 54.6122449 , 56.24489796, 57.87755102, 59.51020408,\n",
       "       61.14285714, 62.7755102 , 64.40816327, 66.04081633, 67.67346939,\n",
       "       69.30612245, 70.93877551, 72.57142857, 74.20408163, 75.83673469,\n",
       "       77.46938776, 79.10204082, 80.73469388, 82.36734694, 83.18367347])"
      ]
     },
     "metadata": {},
     "output_type": "display_data"
    }
   ],
   "source": [
    "display(np.gradient(y,x))"
   ]
  },
  {
   "cell_type": "markdown",
   "metadata": {},
   "source": [
    "# Partial Derivative\n",
    "\n",
    "![partial derivative](./Screen%20Shot%202022-10-11%20at%2014.59.05.png)"
   ]
  },
  {
   "cell_type": "code",
   "execution_count": 12,
   "metadata": {},
   "outputs": [
    {
     "data": {
      "text/latex": [
       "$\\displaystyle x^{3} + x y^{2}$"
      ],
      "text/plain": [
       "x**3 + x*y**2"
      ]
     },
     "metadata": {},
     "output_type": "display_data"
    }
   ],
   "source": [
    "x, y = sy.symbols(['x', 'y'])\n",
    "f = x*(y)**2 + x**3\n",
    "display(f)"
   ]
  },
  {
   "cell_type": "code",
   "execution_count": 13,
   "metadata": {},
   "outputs": [
    {
     "data": {
      "text/latex": [
       "$\\displaystyle 3 x^{2} + y^{2}$"
      ],
      "text/plain": [
       "3*x**2 + y**2"
      ]
     },
     "metadata": {},
     "output_type": "display_data"
    }
   ],
   "source": [
    "f_x = f.diff(x)\n",
    "display(f_x)"
   ]
  },
  {
   "cell_type": "code",
   "execution_count": 14,
   "metadata": {},
   "outputs": [
    {
     "data": {
      "text/latex": [
       "$\\displaystyle 2 y$"
      ],
      "text/plain": [
       "2*y"
      ]
     },
     "metadata": {},
     "output_type": "display_data"
    }
   ],
   "source": [
    "f_x_y = f_x.diff(y)\n",
    "# 3x^2 + y^2\n",
    "# |\n",
    "# v\n",
    "# (3x^2 * 0y^-1) + 2y == 2y\n",
    "display(f_x_y)"
   ]
  },
  {
   "cell_type": "markdown",
   "metadata": {},
   "source": [
    "# Jacobian"
   ]
  },
  {
   "cell_type": "code",
   "execution_count": 15,
   "metadata": {},
   "outputs": [
    {
     "data": {
      "text/latex": [
       "$\\displaystyle \\left[\\begin{matrix}x^{2} y + y\\\\2 x y - 2\\end{matrix}\\right]$"
      ],
      "text/plain": [
       "Matrix([\n",
       "[x**2*y + y],\n",
       "[ 2*x*y - 2]])"
      ]
     },
     "metadata": {},
     "output_type": "display_data"
    }
   ],
   "source": [
    "x, y = sy.symbols(['x', 'y'])\n",
    "j = sy.Matrix([x**2*y+y,2*x*y-2])\n",
    "display(j)"
   ]
  },
  {
   "cell_type": "code",
   "execution_count": 16,
   "metadata": {},
   "outputs": [
    {
     "data": {
      "text/latex": [
       "$\\displaystyle \\left[\\begin{matrix}2 x y & x^{2} + 1\\\\2 y & 2 x\\end{matrix}\\right]$"
      ],
      "text/plain": [
       "Matrix([\n",
       "[2*x*y, x**2 + 1],\n",
       "[  2*y,      2*x]])"
      ]
     },
     "execution_count": 16,
     "metadata": {},
     "output_type": "execute_result"
    }
   ],
   "source": [
    "j.jacobian((x,y))"
   ]
  },
  {
   "cell_type": "markdown",
   "metadata": {},
   "source": [
    "# Hessian"
   ]
  },
  {
   "cell_type": "code",
   "execution_count": 17,
   "metadata": {},
   "outputs": [
    {
     "data": {
      "text/latex": [
       "$\\displaystyle x^{3} + x y^{2}$"
      ],
      "text/plain": [
       "x**3 + x*y**2"
      ]
     },
     "execution_count": 17,
     "metadata": {},
     "output_type": "execute_result"
    }
   ],
   "source": [
    "x, y = sy.symbols(['x', 'y'])\n",
    "eq = x*(y)**2 + x**3\n",
    "eq"
   ]
  },
  {
   "cell_type": "code",
   "execution_count": 18,
   "metadata": {},
   "outputs": [
    {
     "data": {
      "text/latex": [
       "$\\displaystyle \\left[\\begin{matrix}6 x & 2 y\\\\2 y & 2 x\\end{matrix}\\right]$"
      ],
      "text/plain": [
       "Matrix([\n",
       "[6*x, 2*y],\n",
       "[2*y, 2*x]])"
      ]
     },
     "execution_count": 18,
     "metadata": {},
     "output_type": "execute_result"
    }
   ],
   "source": [
    "sy.hessian(eq,(x,y))"
   ]
  }
 ],
 "metadata": {
  "kernelspec": {
   "display_name": "Python 3.10.7 64-bit",
   "language": "python",
   "name": "python3"
  },
  "language_info": {
   "codemirror_mode": {
    "name": "ipython",
    "version": 3
   },
   "file_extension": ".py",
   "mimetype": "text/x-python",
   "name": "python",
   "nbconvert_exporter": "python",
   "pygments_lexer": "ipython3",
   "version": "3.10.7"
  },
  "orig_nbformat": 4,
  "vscode": {
   "interpreter": {
    "hash": "aee8b7b246df8f9039afb4144a1f6fd8d2ca17a180786b69acc140d282b71a49"
   }
  }
 },
 "nbformat": 4,
 "nbformat_minor": 2
}
