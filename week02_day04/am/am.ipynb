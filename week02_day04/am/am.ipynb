{
 "cells": [
  {
   "cell_type": "markdown",
   "metadata": {},
   "source": [
    "# Statistics Inferential\n",
    "\n",
    "## Hypothesis Testing\n",
    "\n",
    "Tujuannya adalah untuk `reject` H0\n",
    "\n",
    "1. pusat tata surya\n",
    "```\n",
    "H0 = bumi pusat tata surya (hipotesis yang saat ini berlaku)\n",
    "H1 = matahari pusat tata surya (hipotesis yang baru)\n",
    "```\n",
    "\n",
    "2. coklat silverqueen\n",
    "```\n",
    "H0 = panjang coklat == 15 cm\n",
    "H1 = panjang coklat != 15 cm\n",
    "```\n",
    "\n",
    "3. tidur\n",
    "```\n",
    "H0 = rata-rata tidur <= 8 jam\n",
    "H1 = rata-rata tidur >= 8 jam\n",
    "```"
   ]
  },
  {
   "cell_type": "markdown",
   "metadata": {},
   "source": [
    "## p-value vs critical value\n",
    "\n",
    "1. p-value (probability value)\n",
    "2. critical value (threshold)\n",
    "\n",
    "Rules:\n",
    "```\n",
    "H0 reject: pv <= cv\n",
    "H0 accept: pv > cv\n",
    "```\n",
    "\n",
    "Catatan: dalam dunia statistik, tidak ada istilah `H0 accept`, yg ada `H0 gagal ditolak.`"
   ]
  },
  {
   "cell_type": "markdown",
   "metadata": {},
   "source": [
    "## critical value vs confidence internal\n",
    "\n",
    "contoh:\n",
    "```\n",
    "critical value = 0,05 = 5%\n",
    "confidence interval = 1 - cv = 95%\n",
    "```"
   ]
  },
  {
   "cell_type": "markdown",
   "metadata": {},
   "source": [
    "## Template penulisan kesimpulan\n",
    "\n",
    "1. Oleh karena `p-value` tidak lebih besar dibandingkan `critical value`\n",
    "2. Maka, tidak cukup bukti untuk menolak H0\n",
    "3. Sehingga,"
   ]
  },
  {
   "cell_type": "markdown",
   "metadata": {},
   "source": [
    "## perbandingan sample dan populasi\n",
    "\n",
    "![kesimpulan](./Screen%20Shot%202022-10-13%20at%2010.20.42.png)\n",
    "\n",
    "gambar di atas kebalik.\n",
    "\n",
    "mu = `theoretical mean` / rata-rata populasi\n",
    "\n",
    "x = rata-rata sampel\n",
    "\n",
    "1. t-test two sample independent misal `efektivitas vaksin pfizer vs vaksin moderna`\n",
    "\n",
    "2. t-test two sample dependent (paired test atau A/B testing) misal `efektivitas vaksin pfizer di china vs vaksin pfizer di indonesia`"
   ]
  },
  {
   "cell_type": "markdown",
   "metadata": {},
   "source": [
    "### one sided/tailed\n",
    "\n",
    "![](./Screen%20Shot%202022-10-13%20at%2010.26.15.png)"
   ]
  }
 ],
 "metadata": {
  "kernelspec": {
   "display_name": "Python 3.10.7 64-bit",
   "language": "python",
   "name": "python3"
  },
  "language_info": {
   "name": "python",
   "version": "3.10.7"
  },
  "orig_nbformat": 4,
  "vscode": {
   "interpreter": {
    "hash": "aee8b7b246df8f9039afb4144a1f6fd8d2ca17a180786b69acc140d282b71a49"
   }
  }
 },
 "nbformat": 4,
 "nbformat_minor": 2
}
