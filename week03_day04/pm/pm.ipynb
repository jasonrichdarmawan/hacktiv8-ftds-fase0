{
 "cells": [
  {
   "cell_type": "code",
   "execution_count": 2,
   "metadata": {},
   "outputs": [],
   "source": [
    "import mysql.connector\n",
    "\n",
    "cnx = mysql.connector.connect(\n",
    "    user='root', \n",
    "    password='my-secret-pw',\n",
    "    host='localhost')"
   ]
  },
  {
   "cell_type": "code",
   "execution_count": 4,
   "metadata": {},
   "outputs": [],
   "source": [
    "# get cursor from connection\n",
    "cur = cnx.cursor()\n",
    "\n",
    "# Query to execute\n",
    "\n",
    "query = \"\"\"select * \n",
    "from hacktiv8.players\n",
    "limit 5\"\"\"\n",
    "\n",
    "#  execute this query \n",
    "cur.execute(query)\n",
    "\n",
    "# get rows\n",
    "rows  = cur.fetchall()"
   ]
  },
  {
   "cell_type": "code",
   "execution_count": 5,
   "metadata": {},
   "outputs": [
    {
     "name": "stdout",
     "output_type": "stream",
     "text": [
      "('Cincinnati Bearcats', 'Cincinnati', 'Ralph Abernathy', 'RB', 67.0, 161.0, 'JR', 'ATLANTA, GA', 'GA', 1)\n",
      "('Cincinnati Bearcats', 'Cincinnati', 'Mekale McKay', 'WR', 78.0, 195.0, 'SO', 'LOUISVILLE, KY', 'KY', 2)\n",
      "('Cincinnati Bearcats', 'Cincinnati', 'Trenier Orr', 'CB', 71.0, 177.0, 'SO', 'WINTER GARDEN, FL', 'FL', 3)\n",
      "('Cincinnati Bearcats', 'Cincinnati', 'Bennie Coney', 'QB', 75.0, 216.0, 'FR', 'PLANT CITY, FL', 'FL', 4)\n",
      "('Cincinnati Bearcats', 'Cincinnati', 'Johnny Holton', 'WR', 75.0, 190.0, 'JR', 'MIAMI, FL', 'FL', 5)\n"
     ]
    }
   ],
   "source": [
    "for r in rows:\n",
    "    print(r)"
   ]
  }
 ],
 "metadata": {
  "kernelspec": {
   "display_name": "Python 3.10.7 64-bit",
   "language": "python",
   "name": "python3"
  },
  "language_info": {
   "codemirror_mode": {
    "name": "ipython",
    "version": 3
   },
   "file_extension": ".py",
   "mimetype": "text/x-python",
   "name": "python",
   "nbconvert_exporter": "python",
   "pygments_lexer": "ipython3",
   "version": "3.10.7"
  },
  "orig_nbformat": 4,
  "vscode": {
   "interpreter": {
    "hash": "aee8b7b246df8f9039afb4144a1f6fd8d2ca17a180786b69acc140d282b71a49"
   }
  }
 },
 "nbformat": 4,
 "nbformat_minor": 2
}
