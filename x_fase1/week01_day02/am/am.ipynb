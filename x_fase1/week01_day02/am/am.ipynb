{
 "cells": [
  {
   "cell_type": "code",
   "execution_count": 2,
   "metadata": {},
   "outputs": [],
   "source": [
    "import pandas as pd\n",
    "import numpy as np"
   ]
  },
  {
   "cell_type": "markdown",
   "metadata": {},
   "source": [
    "# 1 - Feature Selection\n",
    "\n",
    "## PENTING \n",
    "\n",
    "lihat jenis pesebaran datanya (linear / non linear) sebelum feature selection dengan heatmap (pandas.DataFrame.corr) karena jenis pesebaran data juga mempengaruhi. Dampaknya adalah jika menggunakan standard correlation coefficient pearson pada pesebaran data yang non-linear, bisa jadi kita salah menganalisis (dikira tidak ada relationship, padahal sebenarnya ada relationship).\n",
    "\n",
    "Untuk jenis pesebaran data yang non-linear, gunakan spearmen standard correlation coefficient.\n",
    "\n",
    "![decision](./images/How-to-Choose-Feature-Selection-Methods-For-Machine-Learning.webp)\n",
    "\n",
    "input = X\n",
    "output = y"
   ]
  },
  {
   "cell_type": "markdown",
   "metadata": {},
   "source": [
    "# 2 - Feature Scaling\n",
    "\n",
    "`sklearn.preprocessing.MinMaxScaler` untuk data tidak Gaussian.\n",
    "\n",
    "`sklearn.preprocessing.StandardScaler` untuk data terdistribusi normal.\n",
    "\n",
    "tapi bukan aturan Paten ya, Data Scientist bisa coba2 agar dapat model yang performa terbaik.\n",
    "\n",
    "# 3 - Missing Values"
   ]
  },
  {
   "cell_type": "code",
   "execution_count": 4,
   "metadata": {},
   "outputs": [
    {
     "data": {
      "text/plain": [
       "0.3333333333333333"
      ]
     },
     "execution_count": 4,
     "metadata": {},
     "output_type": "execute_result"
    }
   ],
   "source": [
    "# how many data is null? (in percentage)\n",
    "pd.Series([1,2,np.nan]).isnull().mean()"
   ]
  },
  {
   "cell_type": "code",
   "execution_count": 13,
   "metadata": {},
   "outputs": [
    {
     "data": {
      "text/plain": [
       "survive\n",
       "0    1.000000\n",
       "1    0.333333\n",
       "Name: cabin_null, dtype: float64"
      ]
     },
     "execution_count": 13,
     "metadata": {},
     "output_type": "execute_result"
    }
   ],
   "source": [
    "# how many data is null? (in percentage)\n",
    "pd.DataFrame({'survive':    [0      , 1   , 1     , 1], \n",
    "              'cabin':      [np.nan , 'C1', np.nan, 'C2'],\n",
    "              'cabin_null': [1      , 0   , 1     , 0]}) \\\n",
    "  .groupby('survive')['cabin_null'] \\\n",
    "  .mean()"
   ]
  }
 ],
 "metadata": {
  "kernelspec": {
   "display_name": "Python 3.10.8 64-bit",
   "language": "python",
   "name": "python3"
  },
  "language_info": {
   "codemirror_mode": {
    "name": "ipython",
    "version": 3
   },
   "file_extension": ".py",
   "mimetype": "text/x-python",
   "name": "python",
   "nbconvert_exporter": "python",
   "pygments_lexer": "ipython3",
   "version": "3.10.8"
  },
  "orig_nbformat": 4,
  "vscode": {
   "interpreter": {
    "hash": "aee8b7b246df8f9039afb4144a1f6fd8d2ca17a180786b69acc140d282b71a49"
   }
  }
 },
 "nbformat": 4,
 "nbformat_minor": 2
}
