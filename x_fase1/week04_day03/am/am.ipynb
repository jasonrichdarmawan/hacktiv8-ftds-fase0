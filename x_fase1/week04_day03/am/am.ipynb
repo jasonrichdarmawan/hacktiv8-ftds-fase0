{
 "cells": [
  {
   "cell_type": "markdown",
   "metadata": {},
   "source": [
    "# Problem 1 - Find the first and latest transactions based on purchase_time of each buyer_idin each store_id and sort by buyer_id and store_id.\n",
    "```\n",
    "SELECT *\n",
    "FROM (\n",
    "  SELECT *, MAX(rank) OVER (PARTITION BY buyer_id, store_id) AS last\n",
    "  FROM (\n",
    "   SELECT *,\n",
    "    ROW_NUMBER() OVER (PARTITION BY buyer_id, store_id\n",
    "                      ORDER BY purchase_time) AS rank\n",
    "   FROM `jason-366210.ftds_p1_w4_d3_am.purchase`\n",
    "  )\n",
    ")\n",
    "WHERE rank=1 OR rank=last\n",
    "ORDER BY buyer_id, store_id;\n",
    "```\n",
    "\n",
    "option 2\n",
    "\n",
    "```\n",
    "SELECT buyer_id, store_id,\n",
    " MIN(purchase_time) AS start_date,\n",
    " MAX(purchase_time) AS end_date\n",
    "FROM `jason-366210.ftds_p1_w4_d3_am.purchase`\n",
    "GROUP BY buyer_id, store_id;\n",
    "```"
   ]
  },
  {
   "cell_type": "markdown",
   "metadata": {},
   "source": [
    "# Problem 2 - Find buyers that make more than 1 order in 1 month. Show buyer_id, year  of  purchase,  month  of  purchase, and total order in that month.\n",
    "\n",
    "```\n",
    "SELECT buyer_id, year, month, count\n",
    "FROM (\n",
    "  SELECT *, MAX(count) OVER (PARTITION BY buyer_id, month) AS last\n",
    "  FROM (\n",
    "   SELECT *,\n",
    "    ROW_NUMBER() OVER (PARTITION BY buyer_id, month) AS count\n",
    "   FROM (\n",
    "    SELECT *, EXTRACT(YEAR FROM purchase_time) AS year, \n",
    "     EXTRACT(MONTH FROM purchase_time) AS month\n",
    "    FROM `jason-366210.ftds_p1_w4_d3_am.purchase`\n",
    "   )\n",
    "  )\n",
    ")\n",
    "WHERE count > 1 AND count=last\n",
    "ORDER BY buyer_id, year, month;\n",
    "```\n",
    "\n",
    "option 2\n",
    "\n",
    "```\n",
    "SELECT buyer_id, year, month,\n",
    " COUNT(*) AS total_order\n",
    "FROM (\n",
    "  SELECT *,\n",
    "   EXTRACT(YEAR FROM purchase_time) AS year,\n",
    "   EXTRACT(MONTH FROM purchase_time) AS month\n",
    "   FROM `jason-366210.ftds_p1_w4_d3_am.purchase`\n",
    ")\n",
    "GROUP BY buyer_id, year, month\n",
    " HAVING total_order > 1;\n",
    "```"
   ]
  },
  {
   "cell_type": "markdown",
   "metadata": {},
   "source": [
    "# Problem 3 - Get all transactions with purchase_price lower than average purchase_price in each buyer_location. Show buyer_location, product_id, category_name, purchase_price,  and average purchase_price\n",
    "```\n",
    "SELECT *\n",
    "FROM (\n",
    "  SELECT a.buyer_location, b.product_id, c.category_name, \n",
    "   b.purchase_price,\n",
    "   AVG(purchase_price) \n",
    "    OVER (PARTITION BY a.buyer_location) AS avg_purchase_price\n",
    "  FROM `jason-366210.ftds_p1_w4_d3_am.buyer` AS a\n",
    "  JOIN `jason-366210.ftds_p1_w4_d3_am.purchase` AS b\n",
    "   ON a.buyer_id=b.buyer_id\n",
    "  JOIN `jason-366210.ftds_p1_w4_d3_am.product` AS c\n",
    "   ON b.product_id=c.product_id\n",
    ")\n",
    "WHERE purchase_price < avg_purchase_price;\n",
    "```"
   ]
  },
  {
   "cell_type": "markdown",
   "metadata": {},
   "source": [
    "# Problem 4 - Get all transactions with purchase_price lower than average purchase_price of products within the corresponding category. Show category_name, product_id, purchase_id, purchase_price,  and  average purchase_price  in  corresponding  category  with  sorted  by purchase_id andproduct_id.\n",
    "```\n",
    "SELECT *\n",
    "FROM (\n",
    "  SELECT c.category_name, b.product_id, b.purchase_id, b.purchase_price,\n",
    "   AVG(purchase_price) \n",
    "    OVER (PARTITION BY c.category_name) AS avg_purchase_price\n",
    "  FROM `jason-366210.ftds_p1_w4_d3_am.purchase` AS b\n",
    "  JOIN `jason-366210.ftds_p1_w4_d3_am.product` AS c\n",
    "   ON b.product_id=c.product_id\n",
    ")\n",
    "WHERE purchase_price < avg_purchase_price\n",
    "ORDER BY purchase_id, product_id;\n",
    "```"
   ]
  },
  {
   "cell_type": "markdown",
   "metadata": {},
   "source": [
    "# Problem 5 - Get top 3 products from successful transactions with the highest purchase_price in October 2021 in each category. Show the category_name, product_id, purchase_time, and purchase_price.\n",
    "\n",
    "```\n",
    "SELECT *\n",
    "FROM (\n",
    "  SELECT *,\n",
    "   ROW_NUMBER() OVER (PARTITION BY year, month, category_name \n",
    "                      ORDER BY purchase_time) AS rank\n",
    "  FROM (\n",
    "   SELECT c.category_name, b.product_id, b.purchase_time, \n",
    "    b.purchase_price,\n",
    "    EXTRACT(YEAR FROM b.purchase_time) AS year, \n",
    "    EXTRACT(MONTH FROM b.purchase_time) AS month,\n",
    "   FROM `jason-366210.ftds_p1_w4_d3_am.purchase` AS b\n",
    "   JOIN `jason-366210.ftds_p1_w4_d3_am.product` AS c\n",
    "    ON b.product_id=c.product_id\n",
    "   WHERE b.payment_status='paid'\n",
    "  )\n",
    ")\n",
    "WHERE rank <= 3 AND year=2021 AND month=10;\n",
    "```"
   ]
  },
  {
   "cell_type": "markdown",
   "metadata": {},
   "source": [
    "# Problem 6 - Find the top  10  buyers  on  a  per-purchase  basis with the highest price from location Jakarta & Malang. Hint  : To  find  these  buyers,  you  don't  need  to  sum  up  their  transactions  per  each  buyer. Based on the question, you just find transactions with the highest purchase_price.\n",
    "```\n",
    "SELECT *\n",
    "FROM (\n",
    "  SELECT a.buyer_id, a.buyer_location, b.purchase_price,\n",
    "   ROW_NUMBER() OVER (PARTITION BY a.buyer_location \n",
    "                      ORDER BY purchase_price DESC) AS rank\n",
    "  FROM `jason-366210.ftds_p1_w4_d3_am.buyer` AS a\n",
    "  JOIN `jason-366210.ftds_p1_w4_d3_am.purchase` AS b\n",
    "   ON a.buyer_id=b.buyer_id\n",
    "  WHERE a.buyer_location IN (\"Jakarta\", \"Malang\")\n",
    ")\n",
    "WHERE rank <= 10;\n",
    "```"
   ]
  },
  {
   "cell_type": "markdown",
   "metadata": {},
   "source": [
    "# Problem 7 - Get  top  3 store_id  with  the  highest purchase_price  from  a purchase/transaction in each buyer_location. Show the store_id, buyer_location, purchase_price.(Hint : only select transactions with payment_status is paid)\n",
    "```\n",
    "SELECT *\n",
    "FROM (\n",
    "  SELECT b.store_id, a.buyer_location, b.purchase_price,\n",
    "   ROW_NUMBER() OVER (PARTITION BY a.buyer_location\n",
    "                      ORDER BY b.purchase_price DESC) AS rank\n",
    "  FROM `jason-366210.ftds_p1_w4_d3_am.buyer` AS a\n",
    "  JOIN `jason-366210.ftds_p1_w4_d3_am.purchase`AS b\n",
    "   ON a.buyer_id=b.buyer_id\n",
    "  WHERE b.payment_status='paid'\n",
    ")\n",
    "WHERE rank <= 3\n",
    "ORDER BY buyer_location, rank;\n",
    "```"
   ]
  }
 ],
 "metadata": {
  "kernelspec": {
   "display_name": "Python 3.10.8 64-bit",
   "language": "python",
   "name": "python3"
  },
  "language_info": {
   "name": "python",
   "version": "3.10.8"
  },
  "orig_nbformat": 4,
  "vscode": {
   "interpreter": {
    "hash": "aee8b7b246df8f9039afb4144a1f6fd8d2ca17a180786b69acc140d282b71a49"
   }
  }
 },
 "nbformat": 4,
 "nbformat_minor": 2
}
