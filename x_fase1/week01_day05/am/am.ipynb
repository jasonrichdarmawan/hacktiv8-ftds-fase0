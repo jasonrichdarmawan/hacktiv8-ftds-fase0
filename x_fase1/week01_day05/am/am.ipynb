{
 "cells": [
  {
   "cell_type": "markdown",
   "metadata": {},
   "source": [
    "# 1 - Bias and Variance\n",
    "\n",
    "![bias and variance](./images/Screen%20Shot%202022-11-04%20at%2009.48.58.png)\n",
    "\n",
    "high bias -> underfitted\n",
    "\n",
    "high variance -> overfitted"
   ]
  },
  {
   "cell_type": "markdown",
   "metadata": {},
   "source": [
    "## 1.1 - High Bias and High Variance\n",
    "\n",
    "![high bias and high variance](./images/Screen%20Shot%202022-11-04%20at%2009.53.14.png)"
   ]
  },
  {
   "cell_type": "markdown",
   "metadata": {},
   "source": [
    "# 2 - Underfitting and Overffiting\n",
    "\n",
    "![underfitting and overfitting](./images/Screen%20Shot%202022-11-04%20at%2009.55.59.png)"
   ]
  },
  {
   "cell_type": "markdown",
   "metadata": {},
   "source": [
    "# 3 - Precision and Recall\n",
    "\n",
    "![precision and recall](./images/Screen%20Shot%202022-11-04%20at%2010.14.16.png)\n",
    "\n",
    "precision: lebih penting jika False Positif (diprediksi terkena kanker, sebenarnya terkena kanker. dampaknya pasien dibom dengan pengobatan kanker, rambut rontok) berbahaya.\n",
    "\n",
    "recall: lebih penting jika False Negative (diprediksi tidak terkena kanker, sebenarnya terkena kanker. dampaknya pasien tersebut tidak ditangani) berbahaya."
   ]
  },
  {
   "cell_type": "markdown",
   "metadata": {},
   "source": [
    "## 3.1 - Solusi Dilema Precision and Recall"
   ]
  },
  {
   "cell_type": "markdown",
   "metadata": {},
   "source": [
    "### 3.1.1 - F1 Score\n",
    "\n",
    "![dilema precision and recall](./images/Screen%20Shot%202022-11-04%20at%2010.25.51.png)"
   ]
  },
  {
   "cell_type": "markdown",
   "metadata": {},
   "source": [
    "### 3.1.2 - ROC-AUC Score\n",
    "\n",
    "![roc-auc score](./images/Screen%20Shot%202022-11-04%20at%2010.28.01.png)"
   ]
  },
  {
   "cell_type": "markdown",
   "metadata": {},
   "source": [
    "# 4 - Metrics"
   ]
  },
  {
   "cell_type": "markdown",
   "metadata": {},
   "source": [
    "## 4.1 - Mean Squared Error\n",
    "\n",
    "![mean squared error](./images/Screen%20Shot%202022-11-04%20at%2010.38.08.png)"
   ]
  },
  {
   "cell_type": "markdown",
   "metadata": {},
   "source": [
    "## 4.2 - Root Mean Squared Error\n",
    "\n",
    "![root mean squared error](./images/Screen%20Shot%202022-11-04%20at%2010.39.38.png)"
   ]
  },
  {
   "cell_type": "markdown",
   "metadata": {},
   "source": [
    "## 4.3 Kesimpulan Evaluasi Regresi\n",
    "\n",
    "![mae, mse, rmse, mape, mpe](./images/Screen%20Shot%202022-11-04%20at%2010.44.10.png)"
   ]
  },
  {
   "cell_type": "markdown",
   "metadata": {},
   "source": [
    "## 4.4 sklearn.metrics.classification_report\n",
    "\n",
    "weighted average -> label_1 * (support label_1 / total support) * label_2 * (support label_2 / total support)\n",
    "\n",
    "![cassification_report](./images/Screen%20Shot%202022-11-04%20at%2011.12.20.png)"
   ]
  }
 ],
 "metadata": {
  "kernelspec": {
   "display_name": "Python 3.10.8 64-bit",
   "language": "python",
   "name": "python3"
  },
  "language_info": {
   "name": "python",
   "version": "3.10.8"
  },
  "orig_nbformat": 4,
  "vscode": {
   "interpreter": {
    "hash": "aee8b7b246df8f9039afb4144a1f6fd8d2ca17a180786b69acc140d282b71a49"
   }
  }
 },
 "nbformat": 4,
 "nbformat_minor": 2
}
