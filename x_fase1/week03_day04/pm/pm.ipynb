{
 "cells": [
  {
   "cell_type": "markdown",
   "metadata": {},
   "source": [
    "![stasioner, non-stasioner](./images/Screen%20Shot%202022-11-17%20at%2013.35.42.png)"
   ]
  },
  {
   "cell_type": "markdown",
   "metadata": {},
   "source": [
    "![acf dan pacf](./images/Screen%20Shot%202022-11-17%20at%2013.56.49.png)"
   ]
  },
  {
   "cell_type": "markdown",
   "metadata": {},
   "source": [
    "![acf: tails off, pacf: cuts off](./images/Screen%20Shot%202022-11-17%20at%2013.59.04.png)"
   ]
  },
  {
   "cell_type": "markdown",
   "metadata": {},
   "source": [
    "![MA](./images/Screen%20Shot%202022-11-17%20at%2014.03.04.png)"
   ]
  },
  {
   "cell_type": "markdown",
   "metadata": {},
   "source": [
    "autocorrelation untuk menentukan order moving average\n",
    "\n",
    "partial autocorrelation untuk tentukan order autoregressive \n",
    "\n",
    "ARIMA( autoregressive, difference, moving average)"
   ]
  }
 ],
 "metadata": {
  "kernelspec": {
   "display_name": "Python 3.10.8 64-bit",
   "language": "python",
   "name": "python3"
  },
  "language_info": {
   "name": "python",
   "version": "3.10.8"
  },
  "orig_nbformat": 4,
  "vscode": {
   "interpreter": {
    "hash": "aee8b7b246df8f9039afb4144a1f6fd8d2ca17a180786b69acc140d282b71a49"
   }
  }
 },
 "nbformat": 4,
 "nbformat_minor": 2
}
