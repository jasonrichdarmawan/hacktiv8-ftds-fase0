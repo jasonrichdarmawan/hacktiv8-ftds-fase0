{
 "cells": [
  {
   "cell_type": "markdown",
   "metadata": {},
   "source": [
    "![am](./images/Screen%20Shot%202022-11-17%20at%2010.21.53.png)\n",
    "\n",
    "season itu jika dalam periode diatasnya sama (misal 2020 vs 2021, di setiap bulan lebaran, ada kenaikan harga barang)"
   ]
  },
  {
   "cell_type": "markdown",
   "metadata": {},
   "source": [
    "![additive vs multiplicative](./images/Screen%20Shot%202022-11-17%20at%2010.43.48.png)"
   ]
  }
 ],
 "metadata": {
  "kernelspec": {
   "display_name": "Python 3.10.8 64-bit",
   "language": "python",
   "name": "python3"
  },
  "language_info": {
   "name": "python",
   "version": "3.10.8"
  },
  "orig_nbformat": 4,
  "vscode": {
   "interpreter": {
    "hash": "aee8b7b246df8f9039afb4144a1f6fd8d2ca17a180786b69acc140d282b71a49"
   }
  }
 },
 "nbformat": 4,
 "nbformat_minor": 2
}
