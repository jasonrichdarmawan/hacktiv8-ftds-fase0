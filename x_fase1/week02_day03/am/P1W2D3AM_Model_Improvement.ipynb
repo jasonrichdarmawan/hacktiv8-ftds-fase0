{
  "cells": [
    {
      "cell_type": "markdown",
      "metadata": {
        "id": "t9ppxXxr4Qmf"
      },
      "source": [
        "# P1W2D3AM - Model Improvement"
      ]
    },
    {
      "cell_type": "markdown",
      "metadata": {
        "id": "ETOh-eDV-Uqe"
      },
      "source": [
        "> **For simplicity only, in this notebook there are no handling outliers and handling missing values. The purpose of this notebook is just to demonstrate how to use Model Improvement/Hyperparameter Tuning.**"
      ]
    },
    {
      "cell_type": "markdown",
      "metadata": {
        "id": "e70LtIsuBidr"
      },
      "source": [
        "## Import Libraries & Data Loading"
      ]
    },
    {
      "cell_type": "code",
      "execution_count": 86,
      "metadata": {
        "id": "ywrlHAVxtb8X"
      },
      "outputs": [],
      "source": [
        "# Import Libraries\n",
        "\n",
        "import numpy as np\n",
        "import pandas as pd\n",
        "import seaborn as sns\n",
        "import matplotlib.pyplot as plt\n",
        "\n",
        "from sklearn.model_selection import train_test_split\n",
        "from sklearn.preprocessing import MinMaxScaler, StandardScaler, OneHotEncoder\n",
        "from sklearn.ensemble import RandomForestClassifier\n",
        "from sklearn.metrics import confusion_matrix, classification_report, precision_score, recall_score, accuracy_score, f1_score, ConfusionMatrixDisplay"
      ]
    },
    {
      "cell_type": "code",
      "execution_count": 87,
      "metadata": {
        "colab": {
          "base_uri": "https://localhost:8080/"
        },
        "id": "1fK3IflLa_b-",
        "outputId": "218614fc-d3c7-4656-a7e0-ef19a8dc95f2"
      },
      "outputs": [
        {
          "data": {
            "text/html": [
              "<div>\n",
              "<style scoped>\n",
              "    .dataframe tbody tr th:only-of-type {\n",
              "        vertical-align: middle;\n",
              "    }\n",
              "\n",
              "    .dataframe tbody tr th {\n",
              "        vertical-align: top;\n",
              "    }\n",
              "\n",
              "    .dataframe thead th {\n",
              "        text-align: right;\n",
              "    }\n",
              "</style>\n",
              "<table border=\"1\" class=\"dataframe\">\n",
              "  <thead>\n",
              "    <tr style=\"text-align: right;\">\n",
              "      <th></th>\n",
              "      <th>UserID</th>\n",
              "      <th>Kelamin</th>\n",
              "      <th>Usia</th>\n",
              "      <th>EstimasiGaji</th>\n",
              "      <th>Beli</th>\n",
              "    </tr>\n",
              "  </thead>\n",
              "  <tbody>\n",
              "    <tr>\n",
              "      <th>0</th>\n",
              "      <td>15624510</td>\n",
              "      <td>Laki</td>\n",
              "      <td>19</td>\n",
              "      <td>19000</td>\n",
              "      <td>0</td>\n",
              "    </tr>\n",
              "    <tr>\n",
              "      <th>1</th>\n",
              "      <td>15810944</td>\n",
              "      <td>Laki</td>\n",
              "      <td>35</td>\n",
              "      <td>20000</td>\n",
              "      <td>0</td>\n",
              "    </tr>\n",
              "    <tr>\n",
              "      <th>2</th>\n",
              "      <td>15668575</td>\n",
              "      <td>Perempuan</td>\n",
              "      <td>26</td>\n",
              "      <td>43000</td>\n",
              "      <td>0</td>\n",
              "    </tr>\n",
              "    <tr>\n",
              "      <th>3</th>\n",
              "      <td>15603246</td>\n",
              "      <td>Perempuan</td>\n",
              "      <td>27</td>\n",
              "      <td>57000</td>\n",
              "      <td>0</td>\n",
              "    </tr>\n",
              "    <tr>\n",
              "      <th>4</th>\n",
              "      <td>15804002</td>\n",
              "      <td>Laki</td>\n",
              "      <td>19</td>\n",
              "      <td>76000</td>\n",
              "      <td>0</td>\n",
              "    </tr>\n",
              "  </tbody>\n",
              "</table>\n",
              "</div>"
            ],
            "text/plain": [
              "     UserID    Kelamin  Usia  EstimasiGaji  Beli\n",
              "0  15624510       Laki    19         19000     0\n",
              "1  15810944       Laki    35         20000     0\n",
              "2  15668575  Perempuan    26         43000     0\n",
              "3  15603246  Perempuan    27         57000     0\n",
              "4  15804002       Laki    19         76000     0"
            ]
          },
          "execution_count": 87,
          "metadata": {},
          "output_type": "execute_result"
        }
      ],
      "source": [
        "# Data Loading\n",
        "\n",
        "df = pd.read_csv('https://raw.githubusercontent.com/ardhiraka/FSDS_Guidelines/master/p1/v3/w2/P1W2D3AM%20-%20Model%20Improvement%20-%20Iklan_sosmed.csv')\n",
        "df.head()"
      ]
    },
    {
      "cell_type": "markdown",
      "metadata": {
        "id": "xn-YqBhsBs3T"
      },
      "source": [
        "## Exploratory Data Analysis (EDA)"
      ]
    },
    {
      "cell_type": "code",
      "execution_count": 88,
      "metadata": {
        "colab": {
          "base_uri": "https://localhost:8080/"
        },
        "id": "Q9Z1kHo_u0GC",
        "outputId": "d62bd455-1049-4b28-dbec-8449e69a65ee"
      },
      "outputs": [
        {
          "name": "stdout",
          "output_type": "stream",
          "text": [
            "Shape of Dataset :  (400, 5)\n",
            "\n",
            "Col :  UserID\n",
            "Length Unique Value :  400\n",
            "\n",
            "Col :  Kelamin\n",
            "Length Unique Value :  2\n",
            "\n",
            "Col :  Usia\n",
            "Length Unique Value :  43\n",
            "\n",
            "Col :  EstimasiGaji\n",
            "Length Unique Value :  117\n",
            "\n",
            "Col :  Beli\n",
            "Length Unique Value :  2\n",
            "\n"
          ]
        }
      ],
      "source": [
        "# Cardinality Check\n",
        "\n",
        "print('Shape of Dataset : ', df.shape)\n",
        "print('')\n",
        "\n",
        "for col in df.columns.tolist():\n",
        "  print('Col : ', col)\n",
        "  print('Length Unique Value : ', df[col].nunique())\n",
        "  print('')"
      ]
    },
    {
      "cell_type": "markdown",
      "metadata": {
        "id": "5Pm7FE_XvXN-"
      },
      "source": [
        "Since the number of unique value of column `User ID` is equal to the length of dataset, we can remove this feature. Also, it seems that we can't reduce the cardinality of this column  because there is no information that can be used from this column or from other columns."
      ]
    },
    {
      "cell_type": "markdown",
      "metadata": {
        "id": "fN8q-rzuBxni"
      },
      "source": [
        "## Data Preprocessing"
      ]
    },
    {
      "cell_type": "code",
      "execution_count": 89,
      "metadata": {
        "colab": {
          "base_uri": "https://localhost:8080/"
        },
        "id": "6HI53sM_btlA",
        "outputId": "5935ced1-505e-42d2-90e6-66bec917c48d"
      },
      "outputs": [
        {
          "data": {
            "text/html": [
              "<div>\n",
              "<style scoped>\n",
              "    .dataframe tbody tr th:only-of-type {\n",
              "        vertical-align: middle;\n",
              "    }\n",
              "\n",
              "    .dataframe tbody tr th {\n",
              "        vertical-align: top;\n",
              "    }\n",
              "\n",
              "    .dataframe thead th {\n",
              "        text-align: right;\n",
              "    }\n",
              "</style>\n",
              "<table border=\"1\" class=\"dataframe\">\n",
              "  <thead>\n",
              "    <tr style=\"text-align: right;\">\n",
              "      <th></th>\n",
              "      <th>UserID</th>\n",
              "      <th>Kelamin</th>\n",
              "      <th>Usia</th>\n",
              "      <th>EstimasiGaji</th>\n",
              "    </tr>\n",
              "  </thead>\n",
              "  <tbody>\n",
              "    <tr>\n",
              "      <th>0</th>\n",
              "      <td>15624510</td>\n",
              "      <td>Laki</td>\n",
              "      <td>19</td>\n",
              "      <td>19000</td>\n",
              "    </tr>\n",
              "    <tr>\n",
              "      <th>1</th>\n",
              "      <td>15810944</td>\n",
              "      <td>Laki</td>\n",
              "      <td>35</td>\n",
              "      <td>20000</td>\n",
              "    </tr>\n",
              "    <tr>\n",
              "      <th>2</th>\n",
              "      <td>15668575</td>\n",
              "      <td>Perempuan</td>\n",
              "      <td>26</td>\n",
              "      <td>43000</td>\n",
              "    </tr>\n",
              "    <tr>\n",
              "      <th>3</th>\n",
              "      <td>15603246</td>\n",
              "      <td>Perempuan</td>\n",
              "      <td>27</td>\n",
              "      <td>57000</td>\n",
              "    </tr>\n",
              "    <tr>\n",
              "      <th>4</th>\n",
              "      <td>15804002</td>\n",
              "      <td>Laki</td>\n",
              "      <td>19</td>\n",
              "      <td>76000</td>\n",
              "    </tr>\n",
              "  </tbody>\n",
              "</table>\n",
              "</div>"
            ],
            "text/plain": [
              "     UserID    Kelamin  Usia  EstimasiGaji\n",
              "0  15624510       Laki    19         19000\n",
              "1  15810944       Laki    35         20000\n",
              "2  15668575  Perempuan    26         43000\n",
              "3  15603246  Perempuan    27         57000\n",
              "4  15804002       Laki    19         76000"
            ]
          },
          "execution_count": 89,
          "metadata": {},
          "output_type": "execute_result"
        }
      ],
      "source": [
        "# Split between `X` (Features) and `y` (Target)\n",
        "\n",
        "X = df.drop('Beli', axis=1)\n",
        "y = df['Beli']\n",
        "X.head()"
      ]
    },
    {
      "cell_type": "code",
      "execution_count": 90,
      "metadata": {
        "colab": {
          "base_uri": "https://localhost:8080/"
        },
        "id": "waeKQ6p2cST2",
        "outputId": "2394afc3-6332-4aaf-98b9-5c583779cf65"
      },
      "outputs": [
        {
          "name": "stdout",
          "output_type": "stream",
          "text": [
            "0    257\n",
            "1    143\n",
            "Name: Beli, dtype: int64\n",
            "\n"
          ]
        },
        {
          "data": {
            "text/plain": [
              "<AxesSubplot: xlabel='Target Class', ylabel='Count'>"
            ]
          },
          "execution_count": 90,
          "metadata": {},
          "output_type": "execute_result"
        },
        {
          "data": {
            "image/png": "[encoded data removed]",
            "text/plain": [
              "<Figure size 640x480 with 1 Axes>"
            ]
          },
          "metadata": {},
          "output_type": "display_data"
        }
      ],
      "source": [
        "# Check Target Class\n",
        "\n",
        "print(y.value_counts())\n",
        "print('')\n",
        "\n",
        "y.value_counts().plot.bar(xlabel='Target Class', ylabel='Count', legend=True)"
      ]
    },
    {
      "cell_type": "markdown",
      "metadata": {
        "id": "Je3c_7dq7fKy"
      },
      "source": [
        "The dataset contains **64.25 % of class `0`** and **35.75 % of class `1`**. It's still classified as balanced dataset although the composition tends to class `0`."
      ]
    },
    {
      "cell_type": "code",
      "execution_count": 91,
      "metadata": {
        "colab": {
          "base_uri": "https://localhost:8080/"
        },
        "id": "Fz6cDjIhcDj9",
        "outputId": "ac8b5191-1e0f-4a2c-91d3-ca661c036e78"
      },
      "outputs": [
        {
          "name": "stdout",
          "output_type": "stream",
          "text": [
            "Size of Train-Set :  (280, 4)\n",
            "Size of Test-Set  :  (120, 4)\n"
          ]
        }
      ],
      "source": [
        "# Split between Train-Set and Test-Set\n",
        "\n",
        "X_train, X_test, y_train, y_test = train_test_split(X, y, test_size=0.3, stratify=y, random_state=8)\n",
        "\n",
        "print('Size of Train-Set : ', X_train.shape)\n",
        "print('Size of Test-Set  : ', X_test.shape)"
      ]
    },
    {
      "cell_type": "code",
      "execution_count": 92,
      "metadata": {
        "colab": {
          "base_uri": "https://localhost:8080/"
        },
        "id": "1M0YLirK-ntj",
        "outputId": "b0f62720-6b1e-4c37-d3a3-44ee6287e651"
      },
      "outputs": [
        {
          "data": {
            "text/html": [
              "<div>\n",
              "<style scoped>\n",
              "    .dataframe tbody tr th:only-of-type {\n",
              "        vertical-align: middle;\n",
              "    }\n",
              "\n",
              "    .dataframe tbody tr th {\n",
              "        vertical-align: top;\n",
              "    }\n",
              "\n",
              "    .dataframe thead th {\n",
              "        text-align: right;\n",
              "    }\n",
              "</style>\n",
              "<table border=\"1\" class=\"dataframe\">\n",
              "  <thead>\n",
              "    <tr style=\"text-align: right;\">\n",
              "      <th></th>\n",
              "      <th>Kelamin</th>\n",
              "      <th>Usia</th>\n",
              "      <th>EstimasiGaji</th>\n",
              "    </tr>\n",
              "  </thead>\n",
              "  <tbody>\n",
              "    <tr>\n",
              "      <th>71</th>\n",
              "      <td>Perempuan</td>\n",
              "      <td>24</td>\n",
              "      <td>27000</td>\n",
              "    </tr>\n",
              "    <tr>\n",
              "      <th>11</th>\n",
              "      <td>Perempuan</td>\n",
              "      <td>26</td>\n",
              "      <td>52000</td>\n",
              "    </tr>\n",
              "    <tr>\n",
              "      <th>248</th>\n",
              "      <td>Laki</td>\n",
              "      <td>41</td>\n",
              "      <td>52000</td>\n",
              "    </tr>\n",
              "    <tr>\n",
              "      <th>241</th>\n",
              "      <td>Laki</td>\n",
              "      <td>38</td>\n",
              "      <td>59000</td>\n",
              "    </tr>\n",
              "    <tr>\n",
              "      <th>399</th>\n",
              "      <td>Perempuan</td>\n",
              "      <td>49</td>\n",
              "      <td>36000</td>\n",
              "    </tr>\n",
              "    <tr>\n",
              "      <th>...</th>\n",
              "      <td>...</td>\n",
              "      <td>...</td>\n",
              "      <td>...</td>\n",
              "    </tr>\n",
              "    <tr>\n",
              "      <th>368</th>\n",
              "      <td>Laki</td>\n",
              "      <td>38</td>\n",
              "      <td>71000</td>\n",
              "    </tr>\n",
              "    <tr>\n",
              "      <th>315</th>\n",
              "      <td>Perempuan</td>\n",
              "      <td>39</td>\n",
              "      <td>75000</td>\n",
              "    </tr>\n",
              "    <tr>\n",
              "      <th>99</th>\n",
              "      <td>Perempuan</td>\n",
              "      <td>28</td>\n",
              "      <td>37000</td>\n",
              "    </tr>\n",
              "    <tr>\n",
              "      <th>363</th>\n",
              "      <td>Perempuan</td>\n",
              "      <td>42</td>\n",
              "      <td>79000</td>\n",
              "    </tr>\n",
              "    <tr>\n",
              "      <th>185</th>\n",
              "      <td>Laki</td>\n",
              "      <td>31</td>\n",
              "      <td>66000</td>\n",
              "    </tr>\n",
              "  </tbody>\n",
              "</table>\n",
              "<p>280 rows × 3 columns</p>\n",
              "</div>"
            ],
            "text/plain": [
              "       Kelamin  Usia  EstimasiGaji\n",
              "71   Perempuan    24         27000\n",
              "11   Perempuan    26         52000\n",
              "248       Laki    41         52000\n",
              "241       Laki    38         59000\n",
              "399  Perempuan    49         36000\n",
              "..         ...   ...           ...\n",
              "368       Laki    38         71000\n",
              "315  Perempuan    39         75000\n",
              "99   Perempuan    28         37000\n",
              "363  Perempuan    42         79000\n",
              "185       Laki    31         66000\n",
              "\n",
              "[280 rows x 3 columns]"
            ]
          },
          "execution_count": 92,
          "metadata": {},
          "output_type": "execute_result"
        }
      ],
      "source": [
        "# Drop column `User ID`\n",
        "\n",
        "X_train = X_train.drop('UserID', axis=1)\n",
        "X_test = X_test.drop('UserID', axis=1)\n",
        "X_train"
      ]
    },
    {
      "cell_type": "code",
      "execution_count": 93,
      "metadata": {
        "id": "p4n5lOHx_00X"
      },
      "outputs": [],
      "source": [
        "# Split between Numerical Columns and Categorical Columns\n",
        "\n",
        "X_train_num = X_train[['Usia', 'EstimasiGaji']]\n",
        "X_test_num = X_test[['Usia', 'EstimasiGaji']]\n",
        "\n",
        "X_train_cat = X_train[['Kelamin']]\n",
        "X_test_cat = X_test[['Kelamin']]"
      ]
    },
    {
      "cell_type": "code",
      "execution_count": 94,
      "metadata": {
        "id": "I7kXJon3YrD9"
      },
      "outputs": [],
      "source": [
        "# Feature Scaling & Feature Encoding\n",
        "\n",
        "minmax = MinMaxScaler()\n",
        "ohe = OneHotEncoder()\n",
        "\n",
        "minmax.fit(X_train_num)\n",
        "ohe.fit(X_train_cat)\n",
        "\n",
        "X_train_num = minmax.transform(X_train_num)\n",
        "X_test_num = minmax.transform(X_test_num)\n",
        "\n",
        "X_train_cat = ohe.transform(X_train_cat)\n",
        "X_test_cat = ohe.transform(X_test_cat)"
      ]
    },
    {
      "cell_type": "code",
      "execution_count": 95,
      "metadata": {
        "colab": {
          "base_uri": "https://localhost:8080/"
        },
        "id": "sMEAspOPAha9",
        "outputId": "79b24b87-e4f9-4140-82aa-e4f4abc4cbf0"
      },
      "outputs": [
        {
          "data": {
            "text/plain": [
              "array([[0.14285714, 0.08888889, 0.        , 1.        ],\n",
              "       [0.19047619, 0.27407407, 0.        , 1.        ],\n",
              "       [0.54761905, 0.27407407, 1.        , 0.        ],\n",
              "       ...,\n",
              "       [0.23809524, 0.16296296, 0.        , 1.        ],\n",
              "       [0.57142857, 0.47407407, 0.        , 1.        ],\n",
              "       [0.30952381, 0.37777778, 1.        , 0.        ]])"
            ]
          },
          "execution_count": 95,
          "metadata": {},
          "output_type": "execute_result"
        }
      ],
      "source": [
        "# Merge Numerical Columns and Categorical Columns\n",
        "\n",
        "X_train_final = np.concatenate([X_train_num, X_train_cat.toarray()], axis=1)\n",
        "X_test_final = np.concatenate([X_test_num, X_test_cat.toarray()], axis=1)\n",
        "X_train_final"
      ]
    },
    {
      "cell_type": "markdown",
      "metadata": {
        "id": "PVqYltSmB5Wb"
      },
      "source": [
        "## Modeling"
      ]
    },
    {
      "cell_type": "markdown",
      "metadata": {
        "id": "ooBApDn5BGIT"
      },
      "source": [
        "Let's create baseline model. Baseline model is a model that is trained using default parameters"
      ]
    },
    {
      "cell_type": "code",
      "execution_count": 96,
      "metadata": {
        "colab": {
          "base_uri": "https://localhost:8080/"
        },
        "id": "0GRTG3GIcfUD",
        "outputId": "725bae32-0635-4e94-df1c-04a22927aa8a"
      },
      "outputs": [
        {
          "data": {
            "text/html": [
              "<style>#sk-container-id-12 {color: black;background-color: white;}#sk-container-id-12 pre{padding: 0;}#sk-container-id-12 div.sk-toggleable {background-color: white;}#sk-container-id-12 label.sk-toggleable__label {cursor: pointer;display: block;width: 100%;margin-bottom: 0;padding: 0.3em;box-sizing: border-box;text-align: center;}#sk-container-id-12 label.sk-toggleable__label-arrow:before {content: \"▸\";float: left;margin-right: 0.25em;color: #696969;}#sk-container-id-12 label.sk-toggleable__label-arrow:hover:before {color: black;}#sk-container-id-12 div.sk-estimator:hover label.sk-toggleable__label-arrow:before {color: black;}#sk-container-id-12 div.sk-toggleable__content {max-height: 0;max-width: 0;overflow: hidden;text-align: left;background-color: #f0f8ff;}#sk-container-id-12 div.sk-toggleable__content pre {margin: 0.2em;color: black;border-radius: 0.25em;background-color: #f0f8ff;}#sk-container-id-12 input.sk-toggleable__control:checked~div.sk-toggleable__content {max-height: 200px;max-width: 100%;overflow: auto;}#sk-container-id-12 input.sk-toggleable__control:checked~label.sk-toggleable__label-arrow:before {content: \"▾\";}#sk-container-id-12 div.sk-estimator input.sk-toggleable__control:checked~label.sk-toggleable__label {background-color: #d4ebff;}#sk-container-id-12 div.sk-label input.sk-toggleable__control:checked~label.sk-toggleable__label {background-color: #d4ebff;}#sk-container-id-12 input.sk-hidden--visually {border: 0;clip: rect(1px 1px 1px 1px);clip: rect(1px, 1px, 1px, 1px);height: 1px;margin: -1px;overflow: hidden;padding: 0;position: absolute;width: 1px;}#sk-container-id-12 div.sk-estimator {font-family: monospace;background-color: #f0f8ff;border: 1px dotted black;border-radius: 0.25em;box-sizing: border-box;margin-bottom: 0.5em;}#sk-container-id-12 div.sk-estimator:hover {background-color: #d4ebff;}#sk-container-id-12 div.sk-parallel-item::after {content: \"\";width: 100%;border-bottom: 1px solid gray;flex-grow: 1;}#sk-container-id-12 div.sk-label:hover label.sk-toggleable__label {background-color: #d4ebff;}#sk-container-id-12 div.sk-serial::before {content: \"\";position: absolute;border-left: 1px solid gray;box-sizing: border-box;top: 0;bottom: 0;left: 50%;z-index: 0;}#sk-container-id-12 div.sk-serial {display: flex;flex-direction: column;align-items: center;background-color: white;padding-right: 0.2em;padding-left: 0.2em;position: relative;}#sk-container-id-12 div.sk-item {position: relative;z-index: 1;}#sk-container-id-12 div.sk-parallel {display: flex;align-items: stretch;justify-content: center;background-color: white;position: relative;}#sk-container-id-12 div.sk-item::before, #sk-container-id-12 div.sk-parallel-item::before {content: \"\";position: absolute;border-left: 1px solid gray;box-sizing: border-box;top: 0;bottom: 0;left: 50%;z-index: -1;}#sk-container-id-12 div.sk-parallel-item {display: flex;flex-direction: column;z-index: 1;position: relative;background-color: white;}#sk-container-id-12 div.sk-parallel-item:first-child::after {align-self: flex-end;width: 50%;}#sk-container-id-12 div.sk-parallel-item:last-child::after {align-self: flex-start;width: 50%;}#sk-container-id-12 div.sk-parallel-item:only-child::after {width: 0;}#sk-container-id-12 div.sk-dashed-wrapped {border: 1px dashed gray;margin: 0 0.4em 0.5em 0.4em;box-sizing: border-box;padding-bottom: 0.4em;background-color: white;}#sk-container-id-12 div.sk-label label {font-family: monospace;font-weight: bold;display: inline-block;line-height: 1.2em;}#sk-container-id-12 div.sk-label-container {text-align: center;}#sk-container-id-12 div.sk-container {/* jupyter's `normalize.less` sets `[hidden] { display: none; }` but bootstrap.min.css set `[hidden] { display: none !important; }` so we also need the `!important` here to be able to override the default hidden behavior on the sphinx rendered scikit-learn.org. See: https://github.com/scikit-learn/scikit-learn/issues/21755 */display: inline-block !important;position: relative;}#sk-container-id-12 div.sk-text-repr-fallback {display: none;}</style><div id=\"sk-container-id-12\" class=\"sk-top-container\"><div class=\"sk-text-repr-fallback\"><pre>RandomForestClassifier()</pre><b>In a Jupyter environment, please rerun this cell to show the HTML representation or trust the notebook. <br />On GitHub, the HTML representation is unable to render, please try loading this page with nbviewer.org.</b></div><div class=\"sk-container\" hidden><div class=\"sk-item\"><div class=\"sk-estimator sk-toggleable\"><input class=\"sk-toggleable__control sk-hidden--visually\" id=\"sk-estimator-id-22\" type=\"checkbox\" checked><label for=\"sk-estimator-id-22\" class=\"sk-toggleable__label sk-toggleable__label-arrow\">RandomForestClassifier</label><div class=\"sk-toggleable__content\"><pre>RandomForestClassifier()</pre></div></div></div></div></div>"
            ],
            "text/plain": [
              "RandomForestClassifier()"
            ]
          },
          "execution_count": 96,
          "metadata": {},
          "output_type": "execute_result"
        }
      ],
      "source": [
        "# Baseline Model using Random Forest Algorithm\n",
        "\n",
        "rf = RandomForestClassifier()\n",
        "rf.fit(X_train_final, y_train)"
      ]
    },
    {
      "cell_type": "code",
      "execution_count": 97,
      "metadata": {
        "colab": {
          "base_uri": "https://localhost:8080/"
        },
        "id": "r2_5-pnSCGYt",
        "outputId": "a16f6b32-2408-463b-e8eb-f6574e7e4c1d"
      },
      "outputs": [
        {
          "name": "stdout",
          "output_type": "stream",
          "text": [
            "F1 Score - Train Set  :  0.9950248756218906 \n",
            "\n",
            "Classification Report : \n",
            "               precision    recall  f1-score   support\n",
            "\n",
            "           0       1.00      0.99      1.00       180\n",
            "           1       0.99      1.00      1.00       100\n",
            "\n",
            "    accuracy                           1.00       280\n",
            "   macro avg       1.00      1.00      1.00       280\n",
            "weighted avg       1.00      1.00      1.00       280\n",
            " \n",
            "\n",
            "Confusion Matrix      : \n",
            " <sklearn.metrics._plot.confusion_matrix.ConfusionMatrixDisplay object at 0x2858ff9d0>\n"
          ]
        },
        {
          "data": {
            "image/png": "[encoded data removed]",
            "text/plain": [
              "<Figure size 640x480 with 2 Axes>"
            ]
          },
          "metadata": {},
          "output_type": "display_data"
        }
      ],
      "source": [
        "# Check Performance Model against Train-Set\n",
        "\n",
        "y_pred_train = rf.predict(X_train_final)\n",
        "\n",
        "print('F1 Score - Train Set  : ', f1_score(y_train, y_pred_train), '\\n')\n",
        "print('Classification Report : \\n', classification_report(y_train, y_pred_train), '\\n')\n",
        "print('Confusion Matrix      : \\n', ConfusionMatrixDisplay.from_estimator(rf, X_train_final, y_train, cmap='Reds'))"
      ]
    },
    {
      "cell_type": "markdown",
      "metadata": {
        "id": "cKeqLC9xHQQ6"
      },
      "source": [
        "## Cross Validation"
      ]
    },
    {
      "cell_type": "markdown",
      "metadata": {
        "id": "gY8L2FSAFz50"
      },
      "source": [
        "Wow ! Our model achieve 99% on F1-Score for the training-set, only one data is predicted wrong. \n",
        "\n",
        "* Is this just a coincidence? \n",
        "* Is this score valid? \n",
        "* How if the model gets data that is easy to learn on the train-set while later on the test-set contain data that is difficult to learn/predict?\n",
        "\n",
        "To answer these questions, we are gonna use Cross Validation. Cross-validation systematically creates and evaluates multiple models on multiple subsets of the dataset. Cross-validation provides performance measurements such as mean and standard deviation.\n",
        "\n",
        "* Mean : **how well** the procedure performs on average.\n",
        "* Standard deviation : **how much** the procedure is expected to vary in practice.\n",
        "\n",
        "Mean and standard deviation can be used to give a confidence interval on the expected performance on a machine learning procedure in practice."
      ]
    },
    {
      "cell_type": "code",
      "execution_count": 98,
      "metadata": {
        "colab": {
          "base_uri": "https://localhost:8080/"
        },
        "id": "HieuIE9aG_ri",
        "outputId": "0b38671b-3d65-4dde-9d40-20b6072a7d93"
      },
      "outputs": [
        {
          "name": "stdout",
          "output_type": "stream",
          "text": [
            "F1 Score - All - Cross Validation  :  [0.86956522 0.81967213 0.84931507]\n",
            "F1 Score - Mean - Cross Validation :  0.8461841390106654\n",
            "F1 Score - Std - Cross Validation  :  0.020488729475821962\n",
            "F1 Score - Range of Test-Set       :  0.8256954095348434 - 0.8666728684864873\n"
          ]
        }
      ],
      "source": [
        "# Cross Validation using `cross_val_score`\n",
        "\n",
        "from sklearn.model_selection import cross_val_score\n",
        "\n",
        "f1_score_train_cross_val = cross_val_score(rf, \n",
        "                                           X_train_final, \n",
        "                                           y_train, \n",
        "                                           cv=3, \n",
        "                                           scoring='f1')\n",
        "\n",
        "print('F1 Score - All - Cross Validation  : ', f1_score_train_cross_val)\n",
        "print('F1 Score - Mean - Cross Validation : ', f1_score_train_cross_val.mean())\n",
        "print('F1 Score - Std - Cross Validation  : ', f1_score_train_cross_val.std())\n",
        "print('F1 Score - Range of Test-Set       : ', (f1_score_train_cross_val.mean()-f1_score_train_cross_val.std()) , '-', (f1_score_train_cross_val.mean()+f1_score_train_cross_val.std()))"
      ]
    },
    {
      "cell_type": "code",
      "execution_count": 99,
      "metadata": {
        "colab": {
          "base_uri": "https://localhost:8080/"
        },
        "id": "ISenwWVyW-a8",
        "outputId": "c6aa25f4-4b2a-4338-a77f-d44010717918"
      },
      "outputs": [
        {
          "name": "stdout",
          "output_type": "stream",
          "text": [
            "F1 Score - Test Set   :  0.8695652173913043 \n",
            "\n",
            "Classification Report : \n",
            "               precision    recall  f1-score   support\n",
            "\n",
            "           0       0.96      0.88      0.92        77\n",
            "           1       0.82      0.93      0.87        43\n",
            "\n",
            "    accuracy                           0.90       120\n",
            "   macro avg       0.89      0.91      0.89       120\n",
            "weighted avg       0.91      0.90      0.90       120\n",
            " \n",
            "\n",
            "Confusion Matrix      : \n",
            " <sklearn.metrics._plot.confusion_matrix.ConfusionMatrixDisplay object at 0x285d3b0d0>\n"
          ]
        },
        {
          "data": {
            "image/png": "[encoded data removed]",
            "text/plain": [
              "<Figure size 640x480 with 2 Axes>"
            ]
          },
          "metadata": {},
          "output_type": "display_data"
        }
      ],
      "source": [
        "# Check Performance Model against Test-Set\n",
        "\n",
        "y_pred_test = rf.predict(X_test_final)\n",
        "\n",
        "print('F1 Score - Test Set   : ', f1_score(y_test, y_pred_test), '\\n')\n",
        "print('Classification Report : \\n', classification_report(y_test, y_pred_test), '\\n')\n",
        "print('Confusion Matrix      : \\n', ConfusionMatrixDisplay.from_estimator(rf, X_test_final, y_test, cmap='Reds'))"
      ]
    },
    {
      "cell_type": "code",
      "execution_count": 100,
      "metadata": {
        "colab": {
          "base_uri": "https://localhost:8080/"
        },
        "id": "_h-A-b5WfvEJ",
        "outputId": "7ed1d0a8-54cd-4843-dbab-e8af01c1d55e"
      },
      "outputs": [
        {
          "data": {
            "text/html": [
              "<div>\n",
              "<style scoped>\n",
              "    .dataframe tbody tr th:only-of-type {\n",
              "        vertical-align: middle;\n",
              "    }\n",
              "\n",
              "    .dataframe tbody tr th {\n",
              "        vertical-align: top;\n",
              "    }\n",
              "\n",
              "    .dataframe thead th {\n",
              "        text-align: right;\n",
              "    }\n",
              "</style>\n",
              "<table border=\"1\" class=\"dataframe\">\n",
              "  <thead>\n",
              "    <tr style=\"text-align: right;\">\n",
              "      <th></th>\n",
              "      <th>Baseline (Default Hyperparameter)</th>\n",
              "    </tr>\n",
              "  </thead>\n",
              "  <tbody>\n",
              "    <tr>\n",
              "      <th>test - accuracy_score</th>\n",
              "      <td>0.900000</td>\n",
              "    </tr>\n",
              "    <tr>\n",
              "      <th>test - f1_score</th>\n",
              "      <td>0.869565</td>\n",
              "    </tr>\n",
              "    <tr>\n",
              "      <th>test - precision</th>\n",
              "      <td>0.816327</td>\n",
              "    </tr>\n",
              "    <tr>\n",
              "      <th>test - recall</th>\n",
              "      <td>0.930233</td>\n",
              "    </tr>\n",
              "    <tr>\n",
              "      <th>train - accuracy</th>\n",
              "      <td>0.996429</td>\n",
              "    </tr>\n",
              "    <tr>\n",
              "      <th>train - f1_score</th>\n",
              "      <td>0.995025</td>\n",
              "    </tr>\n",
              "    <tr>\n",
              "      <th>train - precision</th>\n",
              "      <td>0.990099</td>\n",
              "    </tr>\n",
              "    <tr>\n",
              "      <th>train - recall</th>\n",
              "      <td>1.000000</td>\n",
              "    </tr>\n",
              "  </tbody>\n",
              "</table>\n",
              "</div>"
            ],
            "text/plain": [
              "                       Baseline (Default Hyperparameter)\n",
              "test - accuracy_score                           0.900000\n",
              "test - f1_score                                 0.869565\n",
              "test - precision                                0.816327\n",
              "test - recall                                   0.930233\n",
              "train - accuracy                                0.996429\n",
              "train - f1_score                                0.995025\n",
              "train - precision                               0.990099\n",
              "train - recall                                  1.000000"
            ]
          },
          "execution_count": 100,
          "metadata": {},
          "output_type": "execute_result"
        }
      ],
      "source": [
        "# Save Classification Report into a Dictionary\n",
        "\n",
        "all_reports = {}\n",
        "score_reports = {\n",
        "    'train - precision' : precision_score(y_train, y_pred_train),\n",
        "    'train - recall' : recall_score(y_train, y_pred_train),\n",
        "    'train - accuracy' : accuracy_score(y_train, y_pred_train),\n",
        "    'train - f1_score' : f1_score(y_train, y_pred_train),\n",
        "    'test - precision' : precision_score(y_test, y_pred_test),\n",
        "    'test - recall' : recall_score(y_test, y_pred_test),\n",
        "    'test - accuracy_score' : accuracy_score(y_test, y_pred_test),\n",
        "    'test - f1_score' : f1_score(y_test, y_pred_test),\n",
        "}\n",
        "all_reports['Baseline (Default Hyperparameter)'] = score_reports\n",
        "pd.DataFrame(all_reports)"
      ]
    },
    {
      "cell_type": "markdown",
      "metadata": {
        "id": "mq40CmiMYdec"
      },
      "source": [
        "## Model Improvement (Hyperparameter Tuning)"
      ]
    },
    {
      "cell_type": "markdown",
      "metadata": {
        "id": "u8_D1yvXYh9I"
      },
      "source": [
        "### Manual Search"
      ]
    },
    {
      "cell_type": "code",
      "execution_count": 101,
      "metadata": {
        "colab": {
          "base_uri": "https://localhost:8080/"
        },
        "id": "fE3HoBXbddI6",
        "outputId": "fa5bb8d1-3331-4446-e06d-a9e9163913de"
      },
      "outputs": [
        {
          "data": {
            "text/html": [
              "<style>#sk-container-id-13 {color: black;background-color: white;}#sk-container-id-13 pre{padding: 0;}#sk-container-id-13 div.sk-toggleable {background-color: white;}#sk-container-id-13 label.sk-toggleable__label {cursor: pointer;display: block;width: 100%;margin-bottom: 0;padding: 0.3em;box-sizing: border-box;text-align: center;}#sk-container-id-13 label.sk-toggleable__label-arrow:before {content: \"▸\";float: left;margin-right: 0.25em;color: #696969;}#sk-container-id-13 label.sk-toggleable__label-arrow:hover:before {color: black;}#sk-container-id-13 div.sk-estimator:hover label.sk-toggleable__label-arrow:before {color: black;}#sk-container-id-13 div.sk-toggleable__content {max-height: 0;max-width: 0;overflow: hidden;text-align: left;background-color: #f0f8ff;}#sk-container-id-13 div.sk-toggleable__content pre {margin: 0.2em;color: black;border-radius: 0.25em;background-color: #f0f8ff;}#sk-container-id-13 input.sk-toggleable__control:checked~div.sk-toggleable__content {max-height: 200px;max-width: 100%;overflow: auto;}#sk-container-id-13 input.sk-toggleable__control:checked~label.sk-toggleable__label-arrow:before {content: \"▾\";}#sk-container-id-13 div.sk-estimator input.sk-toggleable__control:checked~label.sk-toggleable__label {background-color: #d4ebff;}#sk-container-id-13 div.sk-label input.sk-toggleable__control:checked~label.sk-toggleable__label {background-color: #d4ebff;}#sk-container-id-13 input.sk-hidden--visually {border: 0;clip: rect(1px 1px 1px 1px);clip: rect(1px, 1px, 1px, 1px);height: 1px;margin: -1px;overflow: hidden;padding: 0;position: absolute;width: 1px;}#sk-container-id-13 div.sk-estimator {font-family: monospace;background-color: #f0f8ff;border: 1px dotted black;border-radius: 0.25em;box-sizing: border-box;margin-bottom: 0.5em;}#sk-container-id-13 div.sk-estimator:hover {background-color: #d4ebff;}#sk-container-id-13 div.sk-parallel-item::after {content: \"\";width: 100%;border-bottom: 1px solid gray;flex-grow: 1;}#sk-container-id-13 div.sk-label:hover label.sk-toggleable__label {background-color: #d4ebff;}#sk-container-id-13 div.sk-serial::before {content: \"\";position: absolute;border-left: 1px solid gray;box-sizing: border-box;top: 0;bottom: 0;left: 50%;z-index: 0;}#sk-container-id-13 div.sk-serial {display: flex;flex-direction: column;align-items: center;background-color: white;padding-right: 0.2em;padding-left: 0.2em;position: relative;}#sk-container-id-13 div.sk-item {position: relative;z-index: 1;}#sk-container-id-13 div.sk-parallel {display: flex;align-items: stretch;justify-content: center;background-color: white;position: relative;}#sk-container-id-13 div.sk-item::before, #sk-container-id-13 div.sk-parallel-item::before {content: \"\";position: absolute;border-left: 1px solid gray;box-sizing: border-box;top: 0;bottom: 0;left: 50%;z-index: -1;}#sk-container-id-13 div.sk-parallel-item {display: flex;flex-direction: column;z-index: 1;position: relative;background-color: white;}#sk-container-id-13 div.sk-parallel-item:first-child::after {align-self: flex-end;width: 50%;}#sk-container-id-13 div.sk-parallel-item:last-child::after {align-self: flex-start;width: 50%;}#sk-container-id-13 div.sk-parallel-item:only-child::after {width: 0;}#sk-container-id-13 div.sk-dashed-wrapped {border: 1px dashed gray;margin: 0 0.4em 0.5em 0.4em;box-sizing: border-box;padding-bottom: 0.4em;background-color: white;}#sk-container-id-13 div.sk-label label {font-family: monospace;font-weight: bold;display: inline-block;line-height: 1.2em;}#sk-container-id-13 div.sk-label-container {text-align: center;}#sk-container-id-13 div.sk-container {/* jupyter's `normalize.less` sets `[hidden] { display: none; }` but bootstrap.min.css set `[hidden] { display: none !important; }` so we also need the `!important` here to be able to override the default hidden behavior on the sphinx rendered scikit-learn.org. See: https://github.com/scikit-learn/scikit-learn/issues/21755 */display: inline-block !important;position: relative;}#sk-container-id-13 div.sk-text-repr-fallback {display: none;}</style><div id=\"sk-container-id-13\" class=\"sk-top-container\"><div class=\"sk-text-repr-fallback\"><pre>RandomForestClassifier(criterion=&#x27;entropy&#x27;, max_depth=100, n_estimators=150)</pre><b>In a Jupyter environment, please rerun this cell to show the HTML representation or trust the notebook. <br />On GitHub, the HTML representation is unable to render, please try loading this page with nbviewer.org.</b></div><div class=\"sk-container\" hidden><div class=\"sk-item\"><div class=\"sk-estimator sk-toggleable\"><input class=\"sk-toggleable__control sk-hidden--visually\" id=\"sk-estimator-id-23\" type=\"checkbox\" checked><label for=\"sk-estimator-id-23\" class=\"sk-toggleable__label sk-toggleable__label-arrow\">RandomForestClassifier</label><div class=\"sk-toggleable__content\"><pre>RandomForestClassifier(criterion=&#x27;entropy&#x27;, max_depth=100, n_estimators=150)</pre></div></div></div></div></div>"
            ],
            "text/plain": [
              "RandomForestClassifier(criterion='entropy', max_depth=100, n_estimators=150)"
            ]
          },
          "execution_count": 101,
          "metadata": {},
          "output_type": "execute_result"
        }
      ],
      "source": [
        "# Hyperparameter Tuning : Manual Search\n",
        "\n",
        "rf_ms_1 = RandomForestClassifier(n_estimators=150,\n",
        "                                 criterion='entropy',\n",
        "                                 max_depth=100)\n",
        "rf_ms_1.fit(X_train_final, y_train)"
      ]
    },
    {
      "cell_type": "code",
      "execution_count": 102,
      "metadata": {
        "colab": {
          "base_uri": "https://localhost:8080/",
          "height": 545
        },
        "id": "4FXB_zf0ZBRV",
        "outputId": "710304c1-46ed-4b7a-952f-d865aaaf6e55"
      },
      "outputs": [
        {
          "name": "stdout",
          "output_type": "stream",
          "text": [
            "F1 Score - Train Set  :  0.9950248756218906 \n",
            "\n",
            "Classification Report : \n",
            "               precision    recall  f1-score   support\n",
            "\n",
            "           0       1.00      0.99      1.00       180\n",
            "           1       0.99      1.00      1.00       100\n",
            "\n",
            "    accuracy                           1.00       280\n",
            "   macro avg       1.00      1.00      1.00       280\n",
            "weighted avg       1.00      1.00      1.00       280\n",
            " \n",
            "\n",
            "Confusion Matrix      : \n",
            " <sklearn.metrics._plot.confusion_matrix.ConfusionMatrixDisplay object at 0x282bf9900>\n"
          ]
        },
        {
          "data": {
            "image/png": "[encoded data removed]",
            "text/plain": [
              "<Figure size 640x480 with 2 Axes>"
            ]
          },
          "metadata": {},
          "output_type": "display_data"
        }
      ],
      "source": [
        "# Check Performance Model against Train-Set\n",
        "\n",
        "y_pred_train = rf_ms_1.predict(X_train_final)\n",
        "\n",
        "print('F1 Score - Train Set  : ', f1_score(y_train, y_pred_train), '\\n')\n",
        "print('Classification Report : \\n', classification_report(y_train, y_pred_train), '\\n')\n",
        "print('Confusion Matrix      : \\n', ConfusionMatrixDisplay.from_estimator(rf_ms_1, X_train_final, y_train, cmap='Reds'))"
      ]
    },
    {
      "cell_type": "code",
      "execution_count": 103,
      "metadata": {
        "colab": {
          "base_uri": "https://localhost:8080/"
        },
        "id": "Ad9NykQ_ZTKP",
        "outputId": "34f9adc6-7c0d-4aa7-fa64-9676348eae98"
      },
      "outputs": [
        {
          "name": "stdout",
          "output_type": "stream",
          "text": [
            "F1 Score - All - Cross Validation  :  [0.86956522 0.80645161 0.84931507]\n",
            "F1 Score - Mean - Cross Validation :  0.8417772995958938\n",
            "F1 Score - Std - Cross Validation  :  0.026311534071971128\n",
            "F1 Score - Range of Test-Set       :  0.8154657655239226 - 0.8680888336678649\n"
          ]
        }
      ],
      "source": [
        "# Cross Validation using `cross_val_score`\n",
        "\n",
        "from sklearn.model_selection import cross_val_score\n",
        "\n",
        "f1_score_train_cross_val = cross_val_score(rf_ms_1, \n",
        "                                           X_train_final, \n",
        "                                           y_train, \n",
        "                                           cv=3, \n",
        "                                           scoring='f1')\n",
        "\n",
        "print('F1 Score - All - Cross Validation  : ', f1_score_train_cross_val)\n",
        "print('F1 Score - Mean - Cross Validation : ', f1_score_train_cross_val.mean())\n",
        "print('F1 Score - Std - Cross Validation  : ', f1_score_train_cross_val.std())\n",
        "print('F1 Score - Range of Test-Set       : ', (f1_score_train_cross_val.mean()-f1_score_train_cross_val.std()) , '-', (f1_score_train_cross_val.mean()+f1_score_train_cross_val.std()))"
      ]
    },
    {
      "cell_type": "markdown",
      "metadata": {
        "id": "uqkoaLiGaQMB"
      },
      "source": [
        "We can see that the mean-accuracy of Cross Validation from model `rf_ms_1` (with new hyperparameter) is higher than model `rf` (using default parameter). \n",
        "\n",
        "We also can expect that the performance of test-set using `rf_ms_1` is higher (or at least still in range) than `rf`. Let's prove this!"
      ]
    },
    {
      "cell_type": "code",
      "execution_count": 104,
      "metadata": {
        "colab": {
          "base_uri": "https://localhost:8080/",
          "height": 545
        },
        "id": "fRbZys4jbH4O",
        "outputId": "cba6318f-af80-45bd-d62f-163f88a9fc9a"
      },
      "outputs": [
        {
          "name": "stdout",
          "output_type": "stream",
          "text": [
            "F1 Score - Test Set   :  0.8695652173913043 \n",
            "\n",
            "Classification Report : \n",
            "               precision    recall  f1-score   support\n",
            "\n",
            "           0       0.96      0.88      0.92        77\n",
            "           1       0.82      0.93      0.87        43\n",
            "\n",
            "    accuracy                           0.90       120\n",
            "   macro avg       0.89      0.91      0.89       120\n",
            "weighted avg       0.91      0.90      0.90       120\n",
            " \n",
            "\n",
            "Confusion Matrix      : \n",
            " <sklearn.metrics._plot.confusion_matrix.ConfusionMatrixDisplay object at 0x282a7d210>\n"
          ]
        },
        {
          "data": {
            "image/png": "[encoded data removed]",
            "text/plain": [
              "<Figure size 640x480 with 2 Axes>"
            ]
          },
          "metadata": {},
          "output_type": "display_data"
        }
      ],
      "source": [
        "# Check Performance Model against Test-Set\n",
        "\n",
        "y_pred_test = rf_ms_1.predict(X_test_final)\n",
        "\n",
        "print('F1 Score - Test Set   : ', f1_score(y_test, y_pred_test), '\\n')\n",
        "print('Classification Report : \\n', classification_report(y_test, y_pred_test), '\\n')\n",
        "print('Confusion Matrix      : \\n', ConfusionMatrixDisplay.from_estimator(rf_ms_1, X_test_final, y_test, cmap='Reds'))"
      ]
    },
    {
      "cell_type": "code",
      "execution_count": 105,
      "metadata": {
        "colab": {
          "base_uri": "https://localhost:8080/",
          "height": 300
        },
        "id": "HLoi9gkCjxdL",
        "outputId": "7294b6cc-dd88-4c33-8d89-d62143e82e89"
      },
      "outputs": [
        {
          "data": {
            "text/html": [
              "<div>\n",
              "<style scoped>\n",
              "    .dataframe tbody tr th:only-of-type {\n",
              "        vertical-align: middle;\n",
              "    }\n",
              "\n",
              "    .dataframe tbody tr th {\n",
              "        vertical-align: top;\n",
              "    }\n",
              "\n",
              "    .dataframe thead th {\n",
              "        text-align: right;\n",
              "    }\n",
              "</style>\n",
              "<table border=\"1\" class=\"dataframe\">\n",
              "  <thead>\n",
              "    <tr style=\"text-align: right;\">\n",
              "      <th></th>\n",
              "      <th>Baseline (Default Hyperparameter)</th>\n",
              "      <th>Manual Search</th>\n",
              "    </tr>\n",
              "  </thead>\n",
              "  <tbody>\n",
              "    <tr>\n",
              "      <th>train - precision</th>\n",
              "      <td>0.990099</td>\n",
              "      <td>0.990099</td>\n",
              "    </tr>\n",
              "    <tr>\n",
              "      <th>train - recall</th>\n",
              "      <td>1.000000</td>\n",
              "      <td>1.000000</td>\n",
              "    </tr>\n",
              "    <tr>\n",
              "      <th>train - accuracy</th>\n",
              "      <td>0.996429</td>\n",
              "      <td>0.996429</td>\n",
              "    </tr>\n",
              "    <tr>\n",
              "      <th>train - f1_score</th>\n",
              "      <td>0.995025</td>\n",
              "      <td>0.995025</td>\n",
              "    </tr>\n",
              "    <tr>\n",
              "      <th>test - precision</th>\n",
              "      <td>0.816327</td>\n",
              "      <td>0.816327</td>\n",
              "    </tr>\n",
              "    <tr>\n",
              "      <th>test - recall</th>\n",
              "      <td>0.930233</td>\n",
              "      <td>0.930233</td>\n",
              "    </tr>\n",
              "    <tr>\n",
              "      <th>test - accuracy_score</th>\n",
              "      <td>0.900000</td>\n",
              "      <td>0.900000</td>\n",
              "    </tr>\n",
              "    <tr>\n",
              "      <th>test - f1_score</th>\n",
              "      <td>0.869565</td>\n",
              "      <td>0.869565</td>\n",
              "    </tr>\n",
              "  </tbody>\n",
              "</table>\n",
              "</div>"
            ],
            "text/plain": [
              "                       Baseline (Default Hyperparameter)  Manual Search\n",
              "train - precision                               0.990099       0.990099\n",
              "train - recall                                  1.000000       1.000000\n",
              "train - accuracy                                0.996429       0.996429\n",
              "train - f1_score                                0.995025       0.995025\n",
              "test - precision                                0.816327       0.816327\n",
              "test - recall                                   0.930233       0.930233\n",
              "test - accuracy_score                           0.900000       0.900000\n",
              "test - f1_score                                 0.869565       0.869565"
            ]
          },
          "execution_count": 105,
          "metadata": {},
          "output_type": "execute_result"
        }
      ],
      "source": [
        "# Save Classification Report into a Dictionary\n",
        "\n",
        "score_reports = {\n",
        "    'train - precision' : precision_score(y_train, y_pred_train),\n",
        "    'train - recall' : recall_score(y_train, y_pred_train),\n",
        "    'train - accuracy' : accuracy_score(y_train, y_pred_train),\n",
        "    'train - f1_score' : f1_score(y_train, y_pred_train),\n",
        "    'test - precision' : precision_score(y_test, y_pred_test),\n",
        "    'test - recall' : recall_score(y_test, y_pred_test),\n",
        "    'test - accuracy_score' : accuracy_score(y_test, y_pred_test),\n",
        "    'test - f1_score' : f1_score(y_test, y_pred_test),\n",
        "}\n",
        "all_reports['Manual Search'] = score_reports\n",
        "pd.DataFrame(all_reports)"
      ]
    },
    {
      "cell_type": "markdown",
      "metadata": {
        "id": "Wrtk2CjpkJ6T"
      },
      "source": [
        "As we can see from above table, our model performance is improve both in train and test. \n",
        "\n",
        "Of course, we can try another hyperparameter manually and do Cross Validation. **But, what if we want to try many configurations of hyperparameters ? Should we input manual the configurations and run manually? NO.** In the following, we will use `RandomSearchCV` and `GridSearchCV` to optimize this process."
      ]
    },
    {
      "cell_type": "markdown",
      "metadata": {
        "id": "_9Ujgfqubgbc"
      },
      "source": [
        "### Random Search"
      ]
    },
    {
      "cell_type": "code",
      "execution_count": 106,
      "metadata": {
        "colab": {
          "base_uri": "https://localhost:8080/"
        },
        "id": "SXl7DZboeTWt",
        "outputId": "9919c543-419d-47ec-c9ad-a1d61e127ab1"
      },
      "outputs": [
        {
          "data": {
            "text/plain": [
              "{'n_estimators': [200, 400, 600, 800, 1000, 1200, 1400, 1600, 1800, 2000],\n",
              " 'max_features': ['sqrt', 'log2'],\n",
              " 'max_depth': [10, 120, 230, 340, 450, 560, 670, 780, 890, 1000],\n",
              " 'min_samples_split': [2, 5, 10, 14],\n",
              " 'min_samples_leaf': [1, 2, 4, 6, 8],\n",
              " 'criterion': ['entropy', 'gini']}"
            ]
          },
          "execution_count": 106,
          "metadata": {},
          "output_type": "execute_result"
        }
      ],
      "source": [
        "# Hyperparameter Tuning : Random Search\n",
        "\n",
        "from sklearn.model_selection import RandomizedSearchCV\n",
        "\n",
        "# Define Hyperparameters\n",
        "n_estimators = [int(x) for x in np.linspace(start=200, stop=2000, num = 10)]\n",
        "max_features = ['sqrt', 'log2']\n",
        "max_depth = [int(x) for x in np.linspace(10, 1000, 10)]\n",
        "min_samples_split = [2, 5, 10, 14]\n",
        "min_samples_leaf = [1, 2, 4, 6, 8]\n",
        "random_grid = {'n_estimators': n_estimators,\n",
        "               'max_features':max_features,\n",
        "               'max_depth':max_depth,\n",
        "               'min_samples_split':min_samples_split,\n",
        "               'min_samples_leaf':min_samples_leaf,\n",
        "               'criterion':['entropy','gini']}\n",
        "random_grid"
      ]
    },
    {
      "cell_type": "code",
      "execution_count": 107,
      "metadata": {
        "colab": {
          "base_uri": "https://localhost:8080/"
        },
        "id": "2s3_jshxfzuj",
        "outputId": "8b5708c1-ce19-4d2e-deaa-0674ff8362f7"
      },
      "outputs": [
        {
          "data": {
            "text/html": [
              "<style>#sk-container-id-14 {color: black;background-color: white;}#sk-container-id-14 pre{padding: 0;}#sk-container-id-14 div.sk-toggleable {background-color: white;}#sk-container-id-14 label.sk-toggleable__label {cursor: pointer;display: block;width: 100%;margin-bottom: 0;padding: 0.3em;box-sizing: border-box;text-align: center;}#sk-container-id-14 label.sk-toggleable__label-arrow:before {content: \"▸\";float: left;margin-right: 0.25em;color: #696969;}#sk-container-id-14 label.sk-toggleable__label-arrow:hover:before {color: black;}#sk-container-id-14 div.sk-estimator:hover label.sk-toggleable__label-arrow:before {color: black;}#sk-container-id-14 div.sk-toggleable__content {max-height: 0;max-width: 0;overflow: hidden;text-align: left;background-color: #f0f8ff;}#sk-container-id-14 div.sk-toggleable__content pre {margin: 0.2em;color: black;border-radius: 0.25em;background-color: #f0f8ff;}#sk-container-id-14 input.sk-toggleable__control:checked~div.sk-toggleable__content {max-height: 200px;max-width: 100%;overflow: auto;}#sk-container-id-14 input.sk-toggleable__control:checked~label.sk-toggleable__label-arrow:before {content: \"▾\";}#sk-container-id-14 div.sk-estimator input.sk-toggleable__control:checked~label.sk-toggleable__label {background-color: #d4ebff;}#sk-container-id-14 div.sk-label input.sk-toggleable__control:checked~label.sk-toggleable__label {background-color: #d4ebff;}#sk-container-id-14 input.sk-hidden--visually {border: 0;clip: rect(1px 1px 1px 1px);clip: rect(1px, 1px, 1px, 1px);height: 1px;margin: -1px;overflow: hidden;padding: 0;position: absolute;width: 1px;}#sk-container-id-14 div.sk-estimator {font-family: monospace;background-color: #f0f8ff;border: 1px dotted black;border-radius: 0.25em;box-sizing: border-box;margin-bottom: 0.5em;}#sk-container-id-14 div.sk-estimator:hover {background-color: #d4ebff;}#sk-container-id-14 div.sk-parallel-item::after {content: \"\";width: 100%;border-bottom: 1px solid gray;flex-grow: 1;}#sk-container-id-14 div.sk-label:hover label.sk-toggleable__label {background-color: #d4ebff;}#sk-container-id-14 div.sk-serial::before {content: \"\";position: absolute;border-left: 1px solid gray;box-sizing: border-box;top: 0;bottom: 0;left: 50%;z-index: 0;}#sk-container-id-14 div.sk-serial {display: flex;flex-direction: column;align-items: center;background-color: white;padding-right: 0.2em;padding-left: 0.2em;position: relative;}#sk-container-id-14 div.sk-item {position: relative;z-index: 1;}#sk-container-id-14 div.sk-parallel {display: flex;align-items: stretch;justify-content: center;background-color: white;position: relative;}#sk-container-id-14 div.sk-item::before, #sk-container-id-14 div.sk-parallel-item::before {content: \"\";position: absolute;border-left: 1px solid gray;box-sizing: border-box;top: 0;bottom: 0;left: 50%;z-index: -1;}#sk-container-id-14 div.sk-parallel-item {display: flex;flex-direction: column;z-index: 1;position: relative;background-color: white;}#sk-container-id-14 div.sk-parallel-item:first-child::after {align-self: flex-end;width: 50%;}#sk-container-id-14 div.sk-parallel-item:last-child::after {align-self: flex-start;width: 50%;}#sk-container-id-14 div.sk-parallel-item:only-child::after {width: 0;}#sk-container-id-14 div.sk-dashed-wrapped {border: 1px dashed gray;margin: 0 0.4em 0.5em 0.4em;box-sizing: border-box;padding-bottom: 0.4em;background-color: white;}#sk-container-id-14 div.sk-label label {font-family: monospace;font-weight: bold;display: inline-block;line-height: 1.2em;}#sk-container-id-14 div.sk-label-container {text-align: center;}#sk-container-id-14 div.sk-container {/* jupyter's `normalize.less` sets `[hidden] { display: none; }` but bootstrap.min.css set `[hidden] { display: none !important; }` so we also need the `!important` here to be able to override the default hidden behavior on the sphinx rendered scikit-learn.org. See: https://github.com/scikit-learn/scikit-learn/issues/21755 */display: inline-block !important;position: relative;}#sk-container-id-14 div.sk-text-repr-fallback {display: none;}</style><div id=\"sk-container-id-14\" class=\"sk-top-container\"><div class=\"sk-text-repr-fallback\"><pre>RandomizedSearchCV(cv=5, estimator=RandomForestClassifier(), n_iter=50,\n",
              "                   n_jobs=-1,\n",
              "                   param_distributions={&#x27;criterion&#x27;: [&#x27;entropy&#x27;, &#x27;gini&#x27;],\n",
              "                                        &#x27;max_depth&#x27;: [10, 120, 230, 340, 450,\n",
              "                                                      560, 670, 780, 890,\n",
              "                                                      1000],\n",
              "                                        &#x27;max_features&#x27;: [&#x27;sqrt&#x27;, &#x27;log2&#x27;],\n",
              "                                        &#x27;min_samples_leaf&#x27;: [1, 2, 4, 6, 8],\n",
              "                                        &#x27;min_samples_split&#x27;: [2, 5, 10, 14],\n",
              "                                        &#x27;n_estimators&#x27;: [200, 400, 600, 800,\n",
              "                                                         1000, 1200, 1400, 1600,\n",
              "                                                         1800, 2000]},\n",
              "                   random_state=46, scoring=&#x27;f1&#x27;)</pre><b>In a Jupyter environment, please rerun this cell to show the HTML representation or trust the notebook. <br />On GitHub, the HTML representation is unable to render, please try loading this page with nbviewer.org.</b></div><div class=\"sk-container\" hidden><div class=\"sk-item sk-dashed-wrapped\"><div class=\"sk-label-container\"><div class=\"sk-label sk-toggleable\"><input class=\"sk-toggleable__control sk-hidden--visually\" id=\"sk-estimator-id-24\" type=\"checkbox\" ><label for=\"sk-estimator-id-24\" class=\"sk-toggleable__label sk-toggleable__label-arrow\">RandomizedSearchCV</label><div class=\"sk-toggleable__content\"><pre>RandomizedSearchCV(cv=5, estimator=RandomForestClassifier(), n_iter=50,\n",
              "                   n_jobs=-1,\n",
              "                   param_distributions={&#x27;criterion&#x27;: [&#x27;entropy&#x27;, &#x27;gini&#x27;],\n",
              "                                        &#x27;max_depth&#x27;: [10, 120, 230, 340, 450,\n",
              "                                                      560, 670, 780, 890,\n",
              "                                                      1000],\n",
              "                                        &#x27;max_features&#x27;: [&#x27;sqrt&#x27;, &#x27;log2&#x27;],\n",
              "                                        &#x27;min_samples_leaf&#x27;: [1, 2, 4, 6, 8],\n",
              "                                        &#x27;min_samples_split&#x27;: [2, 5, 10, 14],\n",
              "                                        &#x27;n_estimators&#x27;: [200, 400, 600, 800,\n",
              "                                                         1000, 1200, 1400, 1600,\n",
              "                                                         1800, 2000]},\n",
              "                   random_state=46, scoring=&#x27;f1&#x27;)</pre></div></div></div><div class=\"sk-parallel\"><div class=\"sk-parallel-item\"><div class=\"sk-item\"><div class=\"sk-label-container\"><div class=\"sk-label sk-toggleable\"><input class=\"sk-toggleable__control sk-hidden--visually\" id=\"sk-estimator-id-25\" type=\"checkbox\" ><label for=\"sk-estimator-id-25\" class=\"sk-toggleable__label sk-toggleable__label-arrow\">estimator: RandomForestClassifier</label><div class=\"sk-toggleable__content\"><pre>RandomForestClassifier()</pre></div></div></div><div class=\"sk-serial\"><div class=\"sk-item\"><div class=\"sk-estimator sk-toggleable\"><input class=\"sk-toggleable__control sk-hidden--visually\" id=\"sk-estimator-id-26\" type=\"checkbox\" ><label for=\"sk-estimator-id-26\" class=\"sk-toggleable__label sk-toggleable__label-arrow\">RandomForestClassifier</label><div class=\"sk-toggleable__content\"><pre>RandomForestClassifier()</pre></div></div></div></div></div></div></div></div></div></div>"
            ],
            "text/plain": [
              "RandomizedSearchCV(cv=5, estimator=RandomForestClassifier(), n_iter=50,\n",
              "                   n_jobs=-1,\n",
              "                   param_distributions={'criterion': ['entropy', 'gini'],\n",
              "                                        'max_depth': [10, 120, 230, 340, 450,\n",
              "                                                      560, 670, 780, 890,\n",
              "                                                      1000],\n",
              "                                        'max_features': ['sqrt', 'log2'],\n",
              "                                        'min_samples_leaf': [1, 2, 4, 6, 8],\n",
              "                                        'min_samples_split': [2, 5, 10, 14],\n",
              "                                        'n_estimators': [200, 400, 600, 800,\n",
              "                                                         1000, 1200, 1400, 1600,\n",
              "                                                         1800, 2000]},\n",
              "                   random_state=46, scoring='f1')"
            ]
          },
          "execution_count": 107,
          "metadata": {},
          "output_type": "execute_result"
        }
      ],
      "source": [
        "# Train with Random Search\n",
        "\n",
        "rf_randomcv = RandomizedSearchCV(estimator=RandomForestClassifier(), \n",
        "                                 param_distributions=random_grid,\n",
        "                                 n_iter=50,\n",
        "                                 cv=5, \n",
        "                                 random_state=46, \n",
        "                                 n_jobs=-1, \n",
        "                                 scoring='f1')\n",
        "rf_randomcv.fit(X_train_final, y_train)"
      ]
    },
    {
      "cell_type": "code",
      "execution_count": 108,
      "metadata": {
        "colab": {
          "base_uri": "https://localhost:8080/"
        },
        "id": "Aa4qMWLCgyAQ",
        "outputId": "938a3f16-5b64-4d78-c8c8-e10cd8766990"
      },
      "outputs": [
        {
          "data": {
            "text/plain": [
              "{'n_estimators': 400,\n",
              " 'min_samples_split': 10,\n",
              " 'min_samples_leaf': 8,\n",
              " 'max_features': 'sqrt',\n",
              " 'max_depth': 780,\n",
              " 'criterion': 'gini'}"
            ]
          },
          "execution_count": 108,
          "metadata": {},
          "output_type": "execute_result"
        }
      ],
      "source": [
        "# Get Best Hyperparameters\n",
        "\n",
        "rf_randomcv.best_params_"
      ]
    },
    {
      "cell_type": "code",
      "execution_count": 109,
      "metadata": {
        "id": "IV2gZOKjc-sg"
      },
      "outputs": [],
      "source": [
        "# Get Best Estimator\n",
        "\n",
        "rf_randomcv_best = rf_randomcv.best_estimator_"
      ]
    },
    {
      "cell_type": "code",
      "execution_count": 110,
      "metadata": {
        "colab": {
          "base_uri": "https://localhost:8080/",
          "height": 545
        },
        "id": "jML0NpwBcO9q",
        "outputId": "963a628b-9277-4a42-b8f4-d60171b22b69"
      },
      "outputs": [
        {
          "name": "stdout",
          "output_type": "stream",
          "text": [
            "F1 Score - Test Set   :  0.8842105263157894 \n",
            "\n",
            "Classification Report : \n",
            "               precision    recall  f1-score   support\n",
            "\n",
            "           0       0.99      0.87      0.92        77\n",
            "           1       0.81      0.98      0.88        43\n",
            "\n",
            "    accuracy                           0.91       120\n",
            "   macro avg       0.90      0.92      0.90       120\n",
            "weighted avg       0.92      0.91      0.91       120\n",
            " \n",
            "\n",
            "Confusion Matrix      : \n",
            " <sklearn.metrics._plot.confusion_matrix.ConfusionMatrixDisplay object at 0x285d17790>\n"
          ]
        },
        {
          "data": {
            "image/png": "[encoded data removed]",
            "text/plain": [
              "<Figure size 640x480 with 2 Axes>"
            ]
          },
          "metadata": {},
          "output_type": "display_data"
        }
      ],
      "source": [
        "# Check Performance Model against Test-Set\n",
        "\n",
        "y_pred_test = rf_randomcv_best.predict(X_test_final)\n",
        "\n",
        "print('F1 Score - Test Set   : ', f1_score(y_test, y_pred_test), '\\n')\n",
        "print('Classification Report : \\n', classification_report(y_test, y_pred_test), '\\n')\n",
        "print('Confusion Matrix      : \\n', ConfusionMatrixDisplay.from_estimator(rf_randomcv_best, X_test_final, y_test, cmap='Reds'))"
      ]
    },
    {
      "cell_type": "code",
      "execution_count": 111,
      "metadata": {
        "colab": {
          "base_uri": "https://localhost:8080/",
          "height": 300
        },
        "id": "rFSJnqBBlqWF",
        "outputId": "06a119f0-8c8d-4438-a148-52f23a5e566b"
      },
      "outputs": [
        {
          "data": {
            "text/html": [
              "<div>\n",
              "<style scoped>\n",
              "    .dataframe tbody tr th:only-of-type {\n",
              "        vertical-align: middle;\n",
              "    }\n",
              "\n",
              "    .dataframe tbody tr th {\n",
              "        vertical-align: top;\n",
              "    }\n",
              "\n",
              "    .dataframe thead th {\n",
              "        text-align: right;\n",
              "    }\n",
              "</style>\n",
              "<table border=\"1\" class=\"dataframe\">\n",
              "  <thead>\n",
              "    <tr style=\"text-align: right;\">\n",
              "      <th></th>\n",
              "      <th>Baseline (Default Hyperparameter)</th>\n",
              "      <th>Manual Search</th>\n",
              "      <th>Random Search</th>\n",
              "    </tr>\n",
              "  </thead>\n",
              "  <tbody>\n",
              "    <tr>\n",
              "      <th>train - precision</th>\n",
              "      <td>0.990099</td>\n",
              "      <td>0.990099</td>\n",
              "      <td>0.990099</td>\n",
              "    </tr>\n",
              "    <tr>\n",
              "      <th>train - recall</th>\n",
              "      <td>1.000000</td>\n",
              "      <td>1.000000</td>\n",
              "      <td>1.000000</td>\n",
              "    </tr>\n",
              "    <tr>\n",
              "      <th>train - accuracy</th>\n",
              "      <td>0.996429</td>\n",
              "      <td>0.996429</td>\n",
              "      <td>0.996429</td>\n",
              "    </tr>\n",
              "    <tr>\n",
              "      <th>train - f1_score</th>\n",
              "      <td>0.995025</td>\n",
              "      <td>0.995025</td>\n",
              "      <td>0.995025</td>\n",
              "    </tr>\n",
              "    <tr>\n",
              "      <th>test - precision</th>\n",
              "      <td>0.816327</td>\n",
              "      <td>0.816327</td>\n",
              "      <td>0.807692</td>\n",
              "    </tr>\n",
              "    <tr>\n",
              "      <th>test - recall</th>\n",
              "      <td>0.930233</td>\n",
              "      <td>0.930233</td>\n",
              "      <td>0.976744</td>\n",
              "    </tr>\n",
              "    <tr>\n",
              "      <th>test - accuracy_score</th>\n",
              "      <td>0.900000</td>\n",
              "      <td>0.900000</td>\n",
              "      <td>0.908333</td>\n",
              "    </tr>\n",
              "    <tr>\n",
              "      <th>test - f1_score</th>\n",
              "      <td>0.869565</td>\n",
              "      <td>0.869565</td>\n",
              "      <td>0.884211</td>\n",
              "    </tr>\n",
              "  </tbody>\n",
              "</table>\n",
              "</div>"
            ],
            "text/plain": [
              "                       Baseline (Default Hyperparameter)  Manual Search  \\\n",
              "train - precision                               0.990099       0.990099   \n",
              "train - recall                                  1.000000       1.000000   \n",
              "train - accuracy                                0.996429       0.996429   \n",
              "train - f1_score                                0.995025       0.995025   \n",
              "test - precision                                0.816327       0.816327   \n",
              "test - recall                                   0.930233       0.930233   \n",
              "test - accuracy_score                           0.900000       0.900000   \n",
              "test - f1_score                                 0.869565       0.869565   \n",
              "\n",
              "                       Random Search  \n",
              "train - precision           0.990099  \n",
              "train - recall              1.000000  \n",
              "train - accuracy            0.996429  \n",
              "train - f1_score            0.995025  \n",
              "test - precision            0.807692  \n",
              "test - recall               0.976744  \n",
              "test - accuracy_score       0.908333  \n",
              "test - f1_score             0.884211  "
            ]
          },
          "execution_count": 111,
          "metadata": {},
          "output_type": "execute_result"
        }
      ],
      "source": [
        "# Save Classification Report into a Dictionary\n",
        "\n",
        "score_reports = {\n",
        "    'train - precision' : precision_score(y_train, y_pred_train),\n",
        "    'train - recall' : recall_score(y_train, y_pred_train),\n",
        "    'train - accuracy' : accuracy_score(y_train, y_pred_train),\n",
        "    'train - f1_score' : f1_score(y_train, y_pred_train),\n",
        "    'test - precision' : precision_score(y_test, y_pred_test),\n",
        "    'test - recall' : recall_score(y_test, y_pred_test),\n",
        "    'test - accuracy_score' : accuracy_score(y_test, y_pred_test),\n",
        "    'test - f1_score' : f1_score(y_test, y_pred_test),\n",
        "}\n",
        "all_reports['Random Search'] = score_reports\n",
        "pd.DataFrame(all_reports)"
      ]
    },
    {
      "cell_type": "markdown",
      "metadata": {
        "id": "YgfBdguScYBn"
      },
      "source": [
        "### Grid Search"
      ]
    },
    {
      "cell_type": "code",
      "execution_count": 112,
      "metadata": {
        "colab": {
          "base_uri": "https://localhost:8080/"
        },
        "id": "npXbzn-D5qAz",
        "outputId": "af202977-d867-4fe4-a53f-2f3666a8bb57"
      },
      "outputs": [
        {
          "data": {
            "text/plain": [
              "{'criterion': ['gini'],\n",
              " 'max_depth': [780],\n",
              " 'max_features': ['sqrt'],\n",
              " 'min_samples_leaf': [8, 10, 12],\n",
              " 'min_samples_split': [8, 9, 10, 11, 12],\n",
              " 'n_estimators': [200, 300, 400, 500, 600]}"
            ]
          },
          "execution_count": 112,
          "metadata": {},
          "output_type": "execute_result"
        }
      ],
      "source": [
        "# Hyperparameter Tuning : Grid Search\n",
        "from sklearn.model_selection import GridSearchCV\n",
        "\n",
        "# Reuse best hyperparameters from Random Search for efficiency\n",
        "param_grid = {\n",
        "    'criterion': [rf_randomcv.best_params_['criterion']],\n",
        "    'max_depth': [rf_randomcv.best_params_['max_depth']],\n",
        "    'max_features': [rf_randomcv.best_params_['max_features']],\n",
        "    'min_samples_leaf': [rf_randomcv.best_params_['min_samples_leaf'], \n",
        "                         rf_randomcv.best_params_['min_samples_leaf']+2, \n",
        "                         rf_randomcv.best_params_['min_samples_leaf'] + 4],\n",
        "    'min_samples_split': [rf_randomcv.best_params_['min_samples_split'] - 2,\n",
        "                          rf_randomcv.best_params_['min_samples_split'] - 1,\n",
        "                          rf_randomcv.best_params_['min_samples_split'], \n",
        "                          rf_randomcv.best_params_['min_samples_split'] +1,\n",
        "                          rf_randomcv.best_params_['min_samples_split'] + 2],\n",
        "    'n_estimators': [rf_randomcv.best_params_['n_estimators'] - 200, \n",
        "                     rf_randomcv.best_params_['n_estimators'] - 100, \n",
        "                     rf_randomcv.best_params_['n_estimators'], \n",
        "                     rf_randomcv.best_params_['n_estimators'] + 100, \n",
        "                     rf_randomcv.best_params_['n_estimators'] + 200]\n",
        "}\n",
        "\n",
        "param_grid"
      ]
    },
    {
      "cell_type": "code",
      "execution_count": 113,
      "metadata": {
        "colab": {
          "base_uri": "https://localhost:8080/"
        },
        "id": "9f_sUpaTFjzt",
        "outputId": "92f43d22-cf4c-44c0-eea5-cef899d6d6bb"
      },
      "outputs": [
        {
          "data": {
            "text/plain": [
              "{'n_estimators': 400,\n",
              " 'min_samples_split': 10,\n",
              " 'min_samples_leaf': 8,\n",
              " 'max_features': 'sqrt',\n",
              " 'max_depth': 780,\n",
              " 'criterion': 'gini'}"
            ]
          },
          "execution_count": 113,
          "metadata": {},
          "output_type": "execute_result"
        }
      ],
      "source": [
        "# Display Best Hyperparamters from Random Search\n",
        "\n",
        "rf_randomcv.best_params_"
      ]
    },
    {
      "cell_type": "code",
      "execution_count": 114,
      "metadata": {
        "colab": {
          "base_uri": "https://localhost:8080/"
        },
        "id": "tcHzeWN86Jxd",
        "outputId": "8bd29286-ae7a-4daf-9dbc-efe65f61ec1b"
      },
      "outputs": [
        {
          "name": "stdout",
          "output_type": "stream",
          "text": [
            "Fitting 5 folds for each of 75 candidates, totalling 375 fits\n",
            "[CV] END criterion=gini, max_depth=780, max_features=sqrt, min_samples_leaf=8, min_samples_split=8, n_estimators=200; total time=   0.2s\n",
            "[CV] END criterion=gini, max_depth=780, max_features=sqrt, min_samples_leaf=8, min_samples_split=8, n_estimators=200; total time=   0.2s\n",
            "[CV] END criterion=gini, max_depth=780, max_features=sqrt, min_samples_leaf=8, min_samples_split=8, n_estimators=200; total time=   0.2s\n",
            "[CV] END criterion=gini, max_depth=780, max_features=sqrt, min_samples_leaf=8, min_samples_split=8, n_estimators=200; total time=   0.2s\n",
            "[CV] END criterion=gini, max_depth=780, max_features=sqrt, min_samples_leaf=8, min_samples_split=8, n_estimators=200; total time=   0.2s\n",
            "[CV] END criterion=gini, max_depth=780, max_features=sqrt, min_samples_leaf=8, min_samples_split=8, n_estimators=300; total time=   0.3s\n",
            "[CV] END criterion=gini, max_depth=780, max_features=sqrt, min_samples_leaf=8, min_samples_split=8, n_estimators=300; total time=   0.2s\n",
            "[CV] END criterion=gini, max_depth=780, max_features=sqrt, min_samples_leaf=8, min_samples_split=8, n_estimators=300; total time=   0.3s\n",
            "[CV] END criterion=gini, max_depth=780, max_features=sqrt, min_samples_leaf=8, min_samples_split=8, n_estimators=300; total time=   0.3s\n",
            "[CV] END criterion=gini, max_depth=780, max_features=sqrt, min_samples_leaf=8, min_samples_split=8, n_estimators=300; total time=   0.3s\n",
            "[CV] END criterion=gini, max_depth=780, max_features=sqrt, min_samples_leaf=8, min_samples_split=8, n_estimators=400; total time=   0.4s\n",
            "[CV] END criterion=gini, max_depth=780, max_features=sqrt, min_samples_leaf=8, min_samples_split=8, n_estimators=400; total time=   0.4s\n",
            "[CV] END criterion=gini, max_depth=780, max_features=sqrt, min_samples_leaf=8, min_samples_split=8, n_estimators=400; total time=   0.4s\n",
            "[CV] END criterion=gini, max_depth=780, max_features=sqrt, min_samples_leaf=8, min_samples_split=8, n_estimators=400; total time=   0.4s\n",
            "[CV] END criterion=gini, max_depth=780, max_features=sqrt, min_samples_leaf=8, min_samples_split=8, n_estimators=400; total time=   0.4s\n",
            "[CV] END criterion=gini, max_depth=780, max_features=sqrt, min_samples_leaf=8, min_samples_split=8, n_estimators=500; total time=   0.5s\n",
            "[CV] END criterion=gini, max_depth=780, max_features=sqrt, min_samples_leaf=8, min_samples_split=8, n_estimators=500; total time=   0.5s\n",
            "[CV] END criterion=gini, max_depth=780, max_features=sqrt, min_samples_leaf=8, min_samples_split=8, n_estimators=500; total time=   0.5s\n",
            "[CV] END criterion=gini, max_depth=780, max_features=sqrt, min_samples_leaf=8, min_samples_split=8, n_estimators=500; total time=   0.5s\n",
            "[CV] END criterion=gini, max_depth=780, max_features=sqrt, min_samples_leaf=8, min_samples_split=8, n_estimators=500; total time=   0.6s\n",
            "[CV] END criterion=gini, max_depth=780, max_features=sqrt, min_samples_leaf=8, min_samples_split=9, n_estimators=200; total time=   0.2s\n",
            "[CV] END criterion=gini, max_depth=780, max_features=sqrt, min_samples_leaf=8, min_samples_split=8, n_estimators=600; total time=   0.6s\n",
            "[CV] END criterion=gini, max_depth=780, max_features=sqrt, min_samples_leaf=8, min_samples_split=8, n_estimators=600; total time=   0.6s\n",
            "[CV] END criterion=gini, max_depth=780, max_features=sqrt, min_samples_leaf=8, min_samples_split=8, n_estimators=600; total time=   0.6s\n",
            "[CV] END criterion=gini, max_depth=780, max_features=sqrt, min_samples_leaf=8, min_samples_split=9, n_estimators=200; total time=   0.2s\n",
            "[CV] END criterion=gini, max_depth=780, max_features=sqrt, min_samples_leaf=8, min_samples_split=9, n_estimators=200; total time=   0.2s\n",
            "[CV] END criterion=gini, max_depth=780, max_features=sqrt, min_samples_leaf=8, min_samples_split=8, n_estimators=600; total time=   0.6s\n",
            "[CV] END criterion=gini, max_depth=780, max_features=sqrt, min_samples_leaf=8, min_samples_split=9, n_estimators=200; total time=   0.2s\n",
            "[CV] END criterion=gini, max_depth=780, max_features=sqrt, min_samples_leaf=8, min_samples_split=9, n_estimators=200; total time=   0.2s\n",
            "[CV] END criterion=gini, max_depth=780, max_features=sqrt, min_samples_leaf=8, min_samples_split=9, n_estimators=300; total time=   0.3s\n",
            "[CV] END criterion=gini, max_depth=780, max_features=sqrt, min_samples_leaf=8, min_samples_split=9, n_estimators=300; total time=   0.3s\n",
            "[CV] END criterion=gini, max_depth=780, max_features=sqrt, min_samples_leaf=8, min_samples_split=9, n_estimators=300; total time=   0.3s\n",
            "[CV] END criterion=gini, max_depth=780, max_features=sqrt, min_samples_leaf=8, min_samples_split=8, n_estimators=600; total time=   0.6s\n",
            "[CV] END criterion=gini, max_depth=780, max_features=sqrt, min_samples_leaf=8, min_samples_split=9, n_estimators=300; total time=   0.3s\n",
            "[CV] END criterion=gini, max_depth=780, max_features=sqrt, min_samples_leaf=8, min_samples_split=9, n_estimators=300; total time=   0.3s\n",
            "[CV] END criterion=gini, max_depth=780, max_features=sqrt, min_samples_leaf=8, min_samples_split=9, n_estimators=400; total time=   0.4s\n",
            "[CV] END criterion=gini, max_depth=780, max_features=sqrt, min_samples_leaf=8, min_samples_split=9, n_estimators=400; total time=   0.4s\n",
            "[CV] END criterion=gini, max_depth=780, max_features=sqrt, min_samples_leaf=8, min_samples_split=9, n_estimators=400; total time=   0.4s\n",
            "[CV] END criterion=gini, max_depth=780, max_features=sqrt, min_samples_leaf=8, min_samples_split=9, n_estimators=400; total time=   0.4s\n",
            "[CV] END criterion=gini, max_depth=780, max_features=sqrt, min_samples_leaf=8, min_samples_split=9, n_estimators=400; total time=   0.4s\n",
            "[CV] END criterion=gini, max_depth=780, max_features=sqrt, min_samples_leaf=8, min_samples_split=9, n_estimators=500; total time=   0.4s\n",
            "[CV] END criterion=gini, max_depth=780, max_features=sqrt, min_samples_leaf=8, min_samples_split=9, n_estimators=500; total time=   0.5s\n",
            "[CV] END criterion=gini, max_depth=780, max_features=sqrt, min_samples_leaf=8, min_samples_split=9, n_estimators=500; total time=   0.5s\n",
            "[CV] END criterion=gini, max_depth=780, max_features=sqrt, min_samples_leaf=8, min_samples_split=9, n_estimators=500; total time=   0.4s\n",
            "[CV] END criterion=gini, max_depth=780, max_features=sqrt, min_samples_leaf=8, min_samples_split=9, n_estimators=500; total time=   0.5s\n",
            "[CV] END criterion=gini, max_depth=780, max_features=sqrt, min_samples_leaf=8, min_samples_split=10, n_estimators=200; total time=   0.2s\n",
            "[CV] END criterion=gini, max_depth=780, max_features=sqrt, min_samples_leaf=8, min_samples_split=10, n_estimators=200; total time=   0.1s\n",
            "[CV] END criterion=gini, max_depth=780, max_features=sqrt, min_samples_leaf=8, min_samples_split=10, n_estimators=200; total time=   0.2s\n",
            "[CV] END criterion=gini, max_depth=780, max_features=sqrt, min_samples_leaf=8, min_samples_split=10, n_estimators=200; total time=   0.2s\n",
            "[CV] END criterion=gini, max_depth=780, max_features=sqrt, min_samples_leaf=8, min_samples_split=10, n_estimators=200; total time=   0.2s\n",
            "[CV] END criterion=gini, max_depth=780, max_features=sqrt, min_samples_leaf=8, min_samples_split=9, n_estimators=600; total time=   0.6s\n",
            "[CV] END criterion=gini, max_depth=780, max_features=sqrt, min_samples_leaf=8, min_samples_split=9, n_estimators=600; total time=   0.6s\n",
            "[CV] END criterion=gini, max_depth=780, max_features=sqrt, min_samples_leaf=8, min_samples_split=9, n_estimators=600; total time=   0.7s\n",
            "[CV] END criterion=gini, max_depth=780, max_features=sqrt, min_samples_leaf=8, min_samples_split=9, n_estimators=600; total time=   0.7s\n",
            "[CV] END criterion=gini, max_depth=780, max_features=sqrt, min_samples_leaf=8, min_samples_split=10, n_estimators=300; total time=   0.3s\n",
            "[CV] END criterion=gini, max_depth=780, max_features=sqrt, min_samples_leaf=8, min_samples_split=10, n_estimators=300; total time=   0.3s\n",
            "[CV] END criterion=gini, max_depth=780, max_features=sqrt, min_samples_leaf=8, min_samples_split=10, n_estimators=300; total time=   0.3s\n",
            "[CV] END criterion=gini, max_depth=780, max_features=sqrt, min_samples_leaf=8, min_samples_split=9, n_estimators=600; total time=   0.7s\n",
            "[CV] END criterion=gini, max_depth=780, max_features=sqrt, min_samples_leaf=8, min_samples_split=10, n_estimators=300; total time=   0.3s\n",
            "[CV] END criterion=gini, max_depth=780, max_features=sqrt, min_samples_leaf=8, min_samples_split=10, n_estimators=300; total time=   0.3s\n",
            "[CV] END criterion=gini, max_depth=780, max_features=sqrt, min_samples_leaf=8, min_samples_split=10, n_estimators=400; total time=   0.4s\n",
            "[CV] END criterion=gini, max_depth=780, max_features=sqrt, min_samples_leaf=8, min_samples_split=10, n_estimators=400; total time=   0.5s\n",
            "[CV] END criterion=gini, max_depth=780, max_features=sqrt, min_samples_leaf=8, min_samples_split=10, n_estimators=400; total time=   0.4s\n",
            "[CV] END criterion=gini, max_depth=780, max_features=sqrt, min_samples_leaf=8, min_samples_split=10, n_estimators=400; total time=   0.4s\n",
            "[CV] END criterion=gini, max_depth=780, max_features=sqrt, min_samples_leaf=8, min_samples_split=10, n_estimators=400; total time=   0.4s\n",
            "[CV] END criterion=gini, max_depth=780, max_features=sqrt, min_samples_leaf=8, min_samples_split=10, n_estimators=500; total time=   0.5s\n",
            "[CV] END criterion=gini, max_depth=780, max_features=sqrt, min_samples_leaf=8, min_samples_split=10, n_estimators=500; total time=   0.5s\n",
            "[CV] END criterion=gini, max_depth=780, max_features=sqrt, min_samples_leaf=8, min_samples_split=10, n_estimators=500; total time=   0.5s\n",
            "[CV] END criterion=gini, max_depth=780, max_features=sqrt, min_samples_leaf=8, min_samples_split=10, n_estimators=500; total time=   0.5s\n",
            "[CV] END criterion=gini, max_depth=780, max_features=sqrt, min_samples_leaf=8, min_samples_split=10, n_estimators=600; total time=   0.4s\n",
            "[CV] END criterion=gini, max_depth=780, max_features=sqrt, min_samples_leaf=8, min_samples_split=11, n_estimators=200; total time=   0.3s\n",
            "[CV] END criterion=gini, max_depth=780, max_features=sqrt, min_samples_leaf=8, min_samples_split=10, n_estimators=500; total time=   0.6s\n",
            "[CV] END criterion=gini, max_depth=780, max_features=sqrt, min_samples_leaf=8, min_samples_split=11, n_estimators=200; total time=   0.2s\n",
            "[CV] END criterion=gini, max_depth=780, max_features=sqrt, min_samples_leaf=8, min_samples_split=11, n_estimators=200; total time=   0.2s\n",
            "[CV] END criterion=gini, max_depth=780, max_features=sqrt, min_samples_leaf=8, min_samples_split=11, n_estimators=200; total time=   0.2s\n",
            "[CV] END criterion=gini, max_depth=780, max_features=sqrt, min_samples_leaf=8, min_samples_split=10, n_estimators=600; total time=   0.6s\n",
            "[CV] END criterion=gini, max_depth=780, max_features=sqrt, min_samples_leaf=8, min_samples_split=10, n_estimators=600; total time=   0.7s\n",
            "[CV] END criterion=gini, max_depth=780, max_features=sqrt, min_samples_leaf=8, min_samples_split=11, n_estimators=200; total time=   0.2s\n",
            "[CV] END criterion=gini, max_depth=780, max_features=sqrt, min_samples_leaf=8, min_samples_split=10, n_estimators=600; total time=   0.7s\n",
            "[CV] END criterion=gini, max_depth=780, max_features=sqrt, min_samples_leaf=8, min_samples_split=10, n_estimators=600; total time=   0.7s\n",
            "[CV] END criterion=gini, max_depth=780, max_features=sqrt, min_samples_leaf=8, min_samples_split=11, n_estimators=300; total time=   0.3s\n",
            "[CV] END criterion=gini, max_depth=780, max_features=sqrt, min_samples_leaf=8, min_samples_split=11, n_estimators=300; total time=   0.3s\n",
            "[CV] END criterion=gini, max_depth=780, max_features=sqrt, min_samples_leaf=8, min_samples_split=11, n_estimators=300; total time=   0.4s\n",
            "[CV] END criterion=gini, max_depth=780, max_features=sqrt, min_samples_leaf=8, min_samples_split=11, n_estimators=300; total time=   0.4s\n",
            "[CV] END criterion=gini, max_depth=780, max_features=sqrt, min_samples_leaf=8, min_samples_split=11, n_estimators=300; total time=   0.4s\n",
            "[CV] END criterion=gini, max_depth=780, max_features=sqrt, min_samples_leaf=8, min_samples_split=11, n_estimators=400; total time=   0.4s\n",
            "[CV] END criterion=gini, max_depth=780, max_features=sqrt, min_samples_leaf=8, min_samples_split=11, n_estimators=400; total time=   0.4s\n",
            "[CV] END criterion=gini, max_depth=780, max_features=sqrt, min_samples_leaf=8, min_samples_split=11, n_estimators=400; total time=   0.4s\n",
            "[CV] END criterion=gini, max_depth=780, max_features=sqrt, min_samples_leaf=8, min_samples_split=11, n_estimators=400; total time=   0.6s\n",
            "[CV] END criterion=gini, max_depth=780, max_features=sqrt, min_samples_leaf=8, min_samples_split=11, n_estimators=400; total time=   0.5s\n",
            "[CV] END criterion=gini, max_depth=780, max_features=sqrt, min_samples_leaf=8, min_samples_split=11, n_estimators=500; total time=   0.5s\n",
            "[CV] END criterion=gini, max_depth=780, max_features=sqrt, min_samples_leaf=8, min_samples_split=11, n_estimators=500; total time=   0.5s\n",
            "[CV] END criterion=gini, max_depth=780, max_features=sqrt, min_samples_leaf=8, min_samples_split=11, n_estimators=500; total time=   0.5s\n",
            "[CV] END criterion=gini, max_depth=780, max_features=sqrt, min_samples_leaf=8, min_samples_split=11, n_estimators=500; total time=   0.5s\n",
            "[CV] END criterion=gini, max_depth=780, max_features=sqrt, min_samples_leaf=8, min_samples_split=11, n_estimators=500; total time=   0.5s\n",
            "[CV] END criterion=gini, max_depth=780, max_features=sqrt, min_samples_leaf=8, min_samples_split=12, n_estimators=200; total time=   0.2s\n",
            "[CV] END criterion=gini, max_depth=780, max_features=sqrt, min_samples_leaf=8, min_samples_split=12, n_estimators=200; total time=   0.3s\n",
            "[CV] END criterion=gini, max_depth=780, max_features=sqrt, min_samples_leaf=8, min_samples_split=11, n_estimators=600; total time=   0.6s\n",
            "[CV] END criterion=gini, max_depth=780, max_features=sqrt, min_samples_leaf=8, min_samples_split=11, n_estimators=600; total time=   0.6s\n",
            "[CV] END criterion=gini, max_depth=780, max_features=sqrt, min_samples_leaf=8, min_samples_split=12, n_estimators=200; total time=   0.2s\n",
            "[CV] END criterion=gini, max_depth=780, max_features=sqrt, min_samples_leaf=8, min_samples_split=12, n_estimators=200; total time=   0.2s\n",
            "[CV] END criterion=gini, max_depth=780, max_features=sqrt, min_samples_leaf=8, min_samples_split=12, n_estimators=200; total time=   0.2s\n",
            "[CV] END criterion=gini, max_depth=780, max_features=sqrt, min_samples_leaf=8, min_samples_split=11, n_estimators=600; total time=   0.6s\n",
            "[CV] END criterion=gini, max_depth=780, max_features=sqrt, min_samples_leaf=8, min_samples_split=11, n_estimators=600; total time=   0.8s\n",
            "[CV] END criterion=gini, max_depth=780, max_features=sqrt, min_samples_leaf=8, min_samples_split=12, n_estimators=300; total time=   0.3s\n",
            "[CV] END criterion=gini, max_depth=780, max_features=sqrt, min_samples_leaf=8, min_samples_split=12, n_estimators=300; total time=   0.3s\n",
            "[CV] END criterion=gini, max_depth=780, max_features=sqrt, min_samples_leaf=8, min_samples_split=11, n_estimators=600; total time=   0.7s\n",
            "[CV] END criterion=gini, max_depth=780, max_features=sqrt, min_samples_leaf=8, min_samples_split=12, n_estimators=300; total time=   0.3s\n",
            "[CV] END criterion=gini, max_depth=780, max_features=sqrt, min_samples_leaf=8, min_samples_split=12, n_estimators=300; total time=   0.3s\n",
            "[CV] END criterion=gini, max_depth=780, max_features=sqrt, min_samples_leaf=8, min_samples_split=12, n_estimators=300; total time=   0.3s\n",
            "[CV] END criterion=gini, max_depth=780, max_features=sqrt, min_samples_leaf=8, min_samples_split=12, n_estimators=400; total time=   0.4s\n",
            "[CV] END criterion=gini, max_depth=780, max_features=sqrt, min_samples_leaf=8, min_samples_split=12, n_estimators=400; total time=   0.4s\n",
            "[CV] END criterion=gini, max_depth=780, max_features=sqrt, min_samples_leaf=8, min_samples_split=12, n_estimators=400; total time=   0.4s\n",
            "[CV] END criterion=gini, max_depth=780, max_features=sqrt, min_samples_leaf=8, min_samples_split=12, n_estimators=400; total time=   0.4s\n",
            "[CV] END criterion=gini, max_depth=780, max_features=sqrt, min_samples_leaf=8, min_samples_split=12, n_estimators=400; total time=   0.4s\n",
            "[CV] END criterion=gini, max_depth=780, max_features=sqrt, min_samples_leaf=8, min_samples_split=12, n_estimators=500; total time=   0.5s\n",
            "[CV] END criterion=gini, max_depth=780, max_features=sqrt, min_samples_leaf=8, min_samples_split=12, n_estimators=500; total time=   0.5s\n",
            "[CV] END criterion=gini, max_depth=780, max_features=sqrt, min_samples_leaf=8, min_samples_split=12, n_estimators=500; total time=   0.3s\n",
            "[CV] END criterion=gini, max_depth=780, max_features=sqrt, min_samples_leaf=8, min_samples_split=12, n_estimators=500; total time=   0.5s\n",
            "[CV] END criterion=gini, max_depth=780, max_features=sqrt, min_samples_leaf=8, min_samples_split=12, n_estimators=500; total time=   0.5s\n",
            "[CV] END criterion=gini, max_depth=780, max_features=sqrt, min_samples_leaf=10, min_samples_split=8, n_estimators=200; total time=   0.2s\n",
            "[CV] END criterion=gini, max_depth=780, max_features=sqrt, min_samples_leaf=10, min_samples_split=8, n_estimators=200; total time=   0.2s\n",
            "[CV] END criterion=gini, max_depth=780, max_features=sqrt, min_samples_leaf=10, min_samples_split=8, n_estimators=200; total time=   0.2s\n",
            "[CV] END criterion=gini, max_depth=780, max_features=sqrt, min_samples_leaf=8, min_samples_split=12, n_estimators=600; total time=   0.6s\n",
            "[CV] END criterion=gini, max_depth=780, max_features=sqrt, min_samples_leaf=8, min_samples_split=12, n_estimators=600; total time=   0.6s\n",
            "[CV] END criterion=gini, max_depth=780, max_features=sqrt, min_samples_leaf=8, min_samples_split=12, n_estimators=600; total time=   0.6s\n",
            "[CV] END criterion=gini, max_depth=780, max_features=sqrt, min_samples_leaf=10, min_samples_split=8, n_estimators=200; total time=   0.2s\n",
            "[CV] END criterion=gini, max_depth=780, max_features=sqrt, min_samples_leaf=10, min_samples_split=8, n_estimators=200; total time=   0.2s\n",
            "[CV] END criterion=gini, max_depth=780, max_features=sqrt, min_samples_leaf=8, min_samples_split=12, n_estimators=600; total time=   0.6s\n",
            "[CV] END criterion=gini, max_depth=780, max_features=sqrt, min_samples_leaf=8, min_samples_split=12, n_estimators=600; total time=   0.6s\n",
            "[CV] END criterion=gini, max_depth=780, max_features=sqrt, min_samples_leaf=10, min_samples_split=8, n_estimators=300; total time=   0.3s\n",
            "[CV] END criterion=gini, max_depth=780, max_features=sqrt, min_samples_leaf=10, min_samples_split=8, n_estimators=300; total time=   0.3s\n",
            "[CV] END criterion=gini, max_depth=780, max_features=sqrt, min_samples_leaf=10, min_samples_split=8, n_estimators=300; total time=   0.3s\n",
            "[CV] END criterion=gini, max_depth=780, max_features=sqrt, min_samples_leaf=10, min_samples_split=8, n_estimators=300; total time=   0.3s\n",
            "[CV] END criterion=gini, max_depth=780, max_features=sqrt, min_samples_leaf=10, min_samples_split=8, n_estimators=300; total time=   0.3s\n",
            "[CV] END criterion=gini, max_depth=780, max_features=sqrt, min_samples_leaf=10, min_samples_split=8, n_estimators=400; total time=   0.4s\n",
            "[CV] END criterion=gini, max_depth=780, max_features=sqrt, min_samples_leaf=10, min_samples_split=8, n_estimators=400; total time=   0.4s\n",
            "[CV] END criterion=gini, max_depth=780, max_features=sqrt, min_samples_leaf=10, min_samples_split=8, n_estimators=400; total time=   0.4s\n",
            "[CV] END criterion=gini, max_depth=780, max_features=sqrt, min_samples_leaf=10, min_samples_split=8, n_estimators=400; total time=   0.4s\n",
            "[CV] END criterion=gini, max_depth=780, max_features=sqrt, min_samples_leaf=10, min_samples_split=8, n_estimators=400; total time=   0.4s\n",
            "[CV] END criterion=gini, max_depth=780, max_features=sqrt, min_samples_leaf=10, min_samples_split=8, n_estimators=500; total time=   0.5s\n",
            "[CV] END criterion=gini, max_depth=780, max_features=sqrt, min_samples_leaf=10, min_samples_split=8, n_estimators=500; total time=   0.5s\n",
            "[CV] END criterion=gini, max_depth=780, max_features=sqrt, min_samples_leaf=10, min_samples_split=8, n_estimators=500; total time=   0.5s\n",
            "[CV] END criterion=gini, max_depth=780, max_features=sqrt, min_samples_leaf=10, min_samples_split=8, n_estimators=500; total time=   0.5s\n",
            "[CV] END criterion=gini, max_depth=780, max_features=sqrt, min_samples_leaf=10, min_samples_split=8, n_estimators=500; total time=   0.5s\n",
            "[CV] END criterion=gini, max_depth=780, max_features=sqrt, min_samples_leaf=10, min_samples_split=9, n_estimators=200; total time=   0.2s\n",
            "[CV] END criterion=gini, max_depth=780, max_features=sqrt, min_samples_leaf=10, min_samples_split=9, n_estimators=200; total time=   0.2s\n",
            "[CV] END criterion=gini, max_depth=780, max_features=sqrt, min_samples_leaf=10, min_samples_split=9, n_estimators=200; total time=   0.2s\n",
            "[CV] END criterion=gini, max_depth=780, max_features=sqrt, min_samples_leaf=10, min_samples_split=8, n_estimators=600; total time=   0.6s\n",
            "[CV] END criterion=gini, max_depth=780, max_features=sqrt, min_samples_leaf=10, min_samples_split=9, n_estimators=200; total time=   0.2s\n",
            "[CV] END criterion=gini, max_depth=780, max_features=sqrt, min_samples_leaf=10, min_samples_split=8, n_estimators=600; total time=   0.6s\n",
            "[CV] END criterion=gini, max_depth=780, max_features=sqrt, min_samples_leaf=10, min_samples_split=8, n_estimators=600; total time=   0.6s\n",
            "[CV] END criterion=gini, max_depth=780, max_features=sqrt, min_samples_leaf=10, min_samples_split=9, n_estimators=200; total time=   0.2s\n",
            "[CV] END criterion=gini, max_depth=780, max_features=sqrt, min_samples_leaf=10, min_samples_split=8, n_estimators=600; total time=   0.6s\n",
            "[CV] END criterion=gini, max_depth=780, max_features=sqrt, min_samples_leaf=10, min_samples_split=8, n_estimators=600; total time=   0.6s\n",
            "[CV] END criterion=gini, max_depth=780, max_features=sqrt, min_samples_leaf=10, min_samples_split=9, n_estimators=300; total time=   0.2s\n",
            "[CV] END criterion=gini, max_depth=780, max_features=sqrt, min_samples_leaf=10, min_samples_split=9, n_estimators=300; total time=   0.3s\n",
            "[CV] END criterion=gini, max_depth=780, max_features=sqrt, min_samples_leaf=10, min_samples_split=9, n_estimators=300; total time=   0.3s\n",
            "[CV] END criterion=gini, max_depth=780, max_features=sqrt, min_samples_leaf=10, min_samples_split=9, n_estimators=300; total time=   0.4s\n",
            "[CV] END criterion=gini, max_depth=780, max_features=sqrt, min_samples_leaf=10, min_samples_split=9, n_estimators=400; total time=   0.3s\n",
            "[CV] END criterion=gini, max_depth=780, max_features=sqrt, min_samples_leaf=10, min_samples_split=9, n_estimators=300; total time=   0.5s\n",
            "[CV] END criterion=gini, max_depth=780, max_features=sqrt, min_samples_leaf=10, min_samples_split=9, n_estimators=400; total time=   0.3s\n",
            "[CV] END criterion=gini, max_depth=780, max_features=sqrt, min_samples_leaf=10, min_samples_split=9, n_estimators=400; total time=   0.3s\n",
            "[CV] END criterion=gini, max_depth=780, max_features=sqrt, min_samples_leaf=10, min_samples_split=9, n_estimators=500; total time=   0.3s\n",
            "[CV] END criterion=gini, max_depth=780, max_features=sqrt, min_samples_leaf=10, min_samples_split=9, n_estimators=400; total time=   0.4s\n",
            "[CV] END criterion=gini, max_depth=780, max_features=sqrt, min_samples_leaf=10, min_samples_split=9, n_estimators=400; total time=   0.4s\n",
            "[CV] END criterion=gini, max_depth=780, max_features=sqrt, min_samples_leaf=10, min_samples_split=9, n_estimators=500; total time=   0.5s\n",
            "[CV] END criterion=gini, max_depth=780, max_features=sqrt, min_samples_leaf=10, min_samples_split=9, n_estimators=500; total time=   0.5s\n",
            "[CV] END criterion=gini, max_depth=780, max_features=sqrt, min_samples_leaf=10, min_samples_split=9, n_estimators=500; total time=   0.5s\n",
            "[CV] END criterion=gini, max_depth=780, max_features=sqrt, min_samples_leaf=10, min_samples_split=9, n_estimators=500; total time=   0.5s\n",
            "[CV] END criterion=gini, max_depth=780, max_features=sqrt, min_samples_leaf=10, min_samples_split=9, n_estimators=600; total time=   0.6s\n",
            "[CV] END criterion=gini, max_depth=780, max_features=sqrt, min_samples_leaf=10, min_samples_split=10, n_estimators=200; total time=   0.2s\n",
            "[CV] END criterion=gini, max_depth=780, max_features=sqrt, min_samples_leaf=10, min_samples_split=9, n_estimators=600; total time=   0.6s\n",
            "[CV] END criterion=gini, max_depth=780, max_features=sqrt, min_samples_leaf=10, min_samples_split=10, n_estimators=200; total time=   0.2s\n",
            "[CV] END criterion=gini, max_depth=780, max_features=sqrt, min_samples_leaf=10, min_samples_split=9, n_estimators=600; total time=   0.5s\n",
            "[CV] END criterion=gini, max_depth=780, max_features=sqrt, min_samples_leaf=10, min_samples_split=9, n_estimators=600; total time=   0.6s\n",
            "[CV] END criterion=gini, max_depth=780, max_features=sqrt, min_samples_leaf=10, min_samples_split=10, n_estimators=200; total time=   0.2s\n",
            "[CV] END criterion=gini, max_depth=780, max_features=sqrt, min_samples_leaf=10, min_samples_split=10, n_estimators=200; total time=   0.2s\n",
            "[CV] END criterion=gini, max_depth=780, max_features=sqrt, min_samples_leaf=10, min_samples_split=10, n_estimators=300; total time=   0.2s\n",
            "[CV] END criterion=gini, max_depth=780, max_features=sqrt, min_samples_leaf=10, min_samples_split=10, n_estimators=300; total time=   0.3s\n",
            "[CV] END criterion=gini, max_depth=780, max_features=sqrt, min_samples_leaf=10, min_samples_split=10, n_estimators=300; total time=   0.3s\n",
            "[CV] END criterion=gini, max_depth=780, max_features=sqrt, min_samples_leaf=10, min_samples_split=10, n_estimators=200; total time=   0.3s\n",
            "[CV] END criterion=gini, max_depth=780, max_features=sqrt, min_samples_leaf=10, min_samples_split=10, n_estimators=300; total time=   0.3s\n",
            "[CV] END criterion=gini, max_depth=780, max_features=sqrt, min_samples_leaf=10, min_samples_split=10, n_estimators=300; total time=   0.3s\n",
            "[CV] END criterion=gini, max_depth=780, max_features=sqrt, min_samples_leaf=10, min_samples_split=9, n_estimators=600; total time=   0.6s\n",
            "[CV] END criterion=gini, max_depth=780, max_features=sqrt, min_samples_leaf=10, min_samples_split=10, n_estimators=400; total time=   0.4s\n",
            "[CV] END criterion=gini, max_depth=780, max_features=sqrt, min_samples_leaf=10, min_samples_split=10, n_estimators=400; total time=   0.4s\n",
            "[CV] END criterion=gini, max_depth=780, max_features=sqrt, min_samples_leaf=10, min_samples_split=10, n_estimators=400; total time=   0.4s\n",
            "[CV] END criterion=gini, max_depth=780, max_features=sqrt, min_samples_leaf=10, min_samples_split=10, n_estimators=400; total time=   0.5s\n",
            "[CV] END criterion=gini, max_depth=780, max_features=sqrt, min_samples_leaf=10, min_samples_split=10, n_estimators=400; total time=   0.4s\n",
            "[CV] END criterion=gini, max_depth=780, max_features=sqrt, min_samples_leaf=10, min_samples_split=10, n_estimators=500; total time=   0.5s\n",
            "[CV] END criterion=gini, max_depth=780, max_features=sqrt, min_samples_leaf=10, min_samples_split=10, n_estimators=500; total time=   0.5s\n",
            "[CV] END criterion=gini, max_depth=780, max_features=sqrt, min_samples_leaf=10, min_samples_split=10, n_estimators=500; total time=   0.5s\n",
            "[CV] END criterion=gini, max_depth=780, max_features=sqrt, min_samples_leaf=10, min_samples_split=10, n_estimators=500; total time=   0.5s\n",
            "[CV] END criterion=gini, max_depth=780, max_features=sqrt, min_samples_leaf=10, min_samples_split=11, n_estimators=200; total time=   0.2s\n",
            "[CV] END criterion=gini, max_depth=780, max_features=sqrt, min_samples_leaf=10, min_samples_split=11, n_estimators=200; total time=   0.2s\n",
            "[CV] END criterion=gini, max_depth=780, max_features=sqrt, min_samples_leaf=10, min_samples_split=10, n_estimators=500; total time=   0.5s\n",
            "[CV] END criterion=gini, max_depth=780, max_features=sqrt, min_samples_leaf=10, min_samples_split=10, n_estimators=600; total time=   0.6s\n",
            "[CV] END criterion=gini, max_depth=780, max_features=sqrt, min_samples_leaf=10, min_samples_split=10, n_estimators=600; total time=   0.6s\n",
            "[CV] END criterion=gini, max_depth=780, max_features=sqrt, min_samples_leaf=10, min_samples_split=11, n_estimators=200; total time=   0.2s\n",
            "[CV] END criterion=gini, max_depth=780, max_features=sqrt, min_samples_leaf=10, min_samples_split=11, n_estimators=200; total time=   0.2s\n",
            "[CV] END criterion=gini, max_depth=780, max_features=sqrt, min_samples_leaf=10, min_samples_split=11, n_estimators=200; total time=   0.2s\n",
            "[CV] END criterion=gini, max_depth=780, max_features=sqrt, min_samples_leaf=10, min_samples_split=10, n_estimators=600; total time=   0.6s\n",
            "[CV] END criterion=gini, max_depth=780, max_features=sqrt, min_samples_leaf=10, min_samples_split=10, n_estimators=600; total time=   0.6s\n",
            "[CV] END criterion=gini, max_depth=780, max_features=sqrt, min_samples_leaf=10, min_samples_split=10, n_estimators=600; total time=   0.6s\n",
            "[CV] END criterion=gini, max_depth=780, max_features=sqrt, min_samples_leaf=10, min_samples_split=11, n_estimators=300; total time=   0.3s\n",
            "[CV] END criterion=gini, max_depth=780, max_features=sqrt, min_samples_leaf=10, min_samples_split=11, n_estimators=300; total time=   0.3s\n",
            "[CV] END criterion=gini, max_depth=780, max_features=sqrt, min_samples_leaf=10, min_samples_split=11, n_estimators=300; total time=   0.3s\n",
            "[CV] END criterion=gini, max_depth=780, max_features=sqrt, min_samples_leaf=10, min_samples_split=11, n_estimators=300; total time=   0.4s\n",
            "[CV] END criterion=gini, max_depth=780, max_features=sqrt, min_samples_leaf=10, min_samples_split=11, n_estimators=300; total time=   0.4s\n",
            "[CV] END criterion=gini, max_depth=780, max_features=sqrt, min_samples_leaf=10, min_samples_split=11, n_estimators=400; total time=   0.4s\n",
            "[CV] END criterion=gini, max_depth=780, max_features=sqrt, min_samples_leaf=10, min_samples_split=11, n_estimators=400; total time=   0.4s\n",
            "[CV] END criterion=gini, max_depth=780, max_features=sqrt, min_samples_leaf=10, min_samples_split=11, n_estimators=400; total time=   0.4s\n",
            "[CV] END criterion=gini, max_depth=780, max_features=sqrt, min_samples_leaf=10, min_samples_split=11, n_estimators=400; total time=   0.4s\n",
            "[CV] END criterion=gini, max_depth=780, max_features=sqrt, min_samples_leaf=10, min_samples_split=11, n_estimators=400; total time=   0.4s\n",
            "[CV] END criterion=gini, max_depth=780, max_features=sqrt, min_samples_leaf=10, min_samples_split=11, n_estimators=500; total time=   0.5s\n",
            "[CV] END criterion=gini, max_depth=780, max_features=sqrt, min_samples_leaf=10, min_samples_split=11, n_estimators=500; total time=   0.5s\n",
            "[CV] END criterion=gini, max_depth=780, max_features=sqrt, min_samples_leaf=10, min_samples_split=11, n_estimators=500; total time=   0.5s\n",
            "[CV] END criterion=gini, max_depth=780, max_features=sqrt, min_samples_leaf=10, min_samples_split=11, n_estimators=500; total time=   0.5s\n",
            "[CV] END criterion=gini, max_depth=780, max_features=sqrt, min_samples_leaf=10, min_samples_split=11, n_estimators=500; total time=   0.5s\n",
            "[CV] END criterion=gini, max_depth=780, max_features=sqrt, min_samples_leaf=10, min_samples_split=12, n_estimators=200; total time=   0.2s\n",
            "[CV] END criterion=gini, max_depth=780, max_features=sqrt, min_samples_leaf=10, min_samples_split=11, n_estimators=600; total time=   0.6s\n",
            "[CV] END criterion=gini, max_depth=780, max_features=sqrt, min_samples_leaf=10, min_samples_split=12, n_estimators=200; total time=   0.2s\n",
            "[CV] END criterion=gini, max_depth=780, max_features=sqrt, min_samples_leaf=10, min_samples_split=12, n_estimators=200; total time=   0.2s\n",
            "[CV] END criterion=gini, max_depth=780, max_features=sqrt, min_samples_leaf=10, min_samples_split=11, n_estimators=600; total time=   0.6s\n",
            "[CV] END criterion=gini, max_depth=780, max_features=sqrt, min_samples_leaf=10, min_samples_split=11, n_estimators=600; total time=   0.6s\n",
            "[CV] END criterion=gini, max_depth=780, max_features=sqrt, min_samples_leaf=10, min_samples_split=12, n_estimators=200; total time=   0.2s\n",
            "[CV] END criterion=gini, max_depth=780, max_features=sqrt, min_samples_leaf=10, min_samples_split=12, n_estimators=200; total time=   0.2s\n",
            "[CV] END criterion=gini, max_depth=780, max_features=sqrt, min_samples_leaf=10, min_samples_split=11, n_estimators=600; total time=   0.6s\n",
            "[CV] END criterion=gini, max_depth=780, max_features=sqrt, min_samples_leaf=10, min_samples_split=11, n_estimators=600; total time=   0.6s\n",
            "[CV] END criterion=gini, max_depth=780, max_features=sqrt, min_samples_leaf=10, min_samples_split=12, n_estimators=300; total time=   0.3s\n",
            "[CV] END criterion=gini, max_depth=780, max_features=sqrt, min_samples_leaf=10, min_samples_split=12, n_estimators=300; total time=   0.3s\n",
            "[CV] END criterion=gini, max_depth=780, max_features=sqrt, min_samples_leaf=10, min_samples_split=12, n_estimators=300; total time=   0.3s\n",
            "[CV] END criterion=gini, max_depth=780, max_features=sqrt, min_samples_leaf=10, min_samples_split=12, n_estimators=300; total time=   0.3s\n",
            "[CV] END criterion=gini, max_depth=780, max_features=sqrt, min_samples_leaf=10, min_samples_split=12, n_estimators=300; total time=   0.3s\n",
            "[CV] END criterion=gini, max_depth=780, max_features=sqrt, min_samples_leaf=10, min_samples_split=12, n_estimators=400; total time=   0.4s\n",
            "[CV] END criterion=gini, max_depth=780, max_features=sqrt, min_samples_leaf=10, min_samples_split=12, n_estimators=400; total time=   0.4s\n",
            "[CV] END criterion=gini, max_depth=780, max_features=sqrt, min_samples_leaf=10, min_samples_split=12, n_estimators=400; total time=   0.5s\n",
            "[CV] END criterion=gini, max_depth=780, max_features=sqrt, min_samples_leaf=10, min_samples_split=12, n_estimators=400; total time=   0.4s\n",
            "[CV] END criterion=gini, max_depth=780, max_features=sqrt, min_samples_leaf=10, min_samples_split=12, n_estimators=400; total time=   0.4s\n",
            "[CV] END criterion=gini, max_depth=780, max_features=sqrt, min_samples_leaf=10, min_samples_split=12, n_estimators=500; total time=   0.5s\n",
            "[CV] END criterion=gini, max_depth=780, max_features=sqrt, min_samples_leaf=10, min_samples_split=12, n_estimators=500; total time=   0.5s\n",
            "[CV] END criterion=gini, max_depth=780, max_features=sqrt, min_samples_leaf=10, min_samples_split=12, n_estimators=500; total time=   0.6s\n",
            "[CV] END criterion=gini, max_depth=780, max_features=sqrt, min_samples_leaf=10, min_samples_split=12, n_estimators=500; total time=   0.5s\n",
            "[CV] END criterion=gini, max_depth=780, max_features=sqrt, min_samples_leaf=12, min_samples_split=8, n_estimators=200; total time=   0.2s\n",
            "[CV] END criterion=gini, max_depth=780, max_features=sqrt, min_samples_leaf=10, min_samples_split=12, n_estimators=500; total time=   0.6s\n",
            "[CV] END criterion=gini, max_depth=780, max_features=sqrt, min_samples_leaf=12, min_samples_split=8, n_estimators=200; total time=   0.2s\n",
            "[CV] END criterion=gini, max_depth=780, max_features=sqrt, min_samples_leaf=10, min_samples_split=12, n_estimators=600; total time=   0.6s\n",
            "[CV] END criterion=gini, max_depth=780, max_features=sqrt, min_samples_leaf=10, min_samples_split=12, n_estimators=600; total time=   0.6s\n",
            "[CV] END criterion=gini, max_depth=780, max_features=sqrt, min_samples_leaf=10, min_samples_split=12, n_estimators=600; total time=   0.6s\n",
            "[CV] END criterion=gini, max_depth=780, max_features=sqrt, min_samples_leaf=12, min_samples_split=8, n_estimators=200; total time=   0.2s\n",
            "[CV] END criterion=gini, max_depth=780, max_features=sqrt, min_samples_leaf=12, min_samples_split=8, n_estimators=200; total time=   0.2s\n",
            "[CV] END criterion=gini, max_depth=780, max_features=sqrt, min_samples_leaf=12, min_samples_split=8, n_estimators=200; total time=   0.2s\n",
            "[CV] END criterion=gini, max_depth=780, max_features=sqrt, min_samples_leaf=10, min_samples_split=12, n_estimators=600; total time=   0.6s\n",
            "[CV] END criterion=gini, max_depth=780, max_features=sqrt, min_samples_leaf=10, min_samples_split=12, n_estimators=600; total time=   0.6s\n",
            "[CV] END criterion=gini, max_depth=780, max_features=sqrt, min_samples_leaf=12, min_samples_split=8, n_estimators=300; total time=   0.3s\n",
            "[CV] END criterion=gini, max_depth=780, max_features=sqrt, min_samples_leaf=12, min_samples_split=8, n_estimators=300; total time=   0.3s\n",
            "[CV] END criterion=gini, max_depth=780, max_features=sqrt, min_samples_leaf=12, min_samples_split=8, n_estimators=300; total time=   0.3s\n",
            "[CV] END criterion=gini, max_depth=780, max_features=sqrt, min_samples_leaf=12, min_samples_split=8, n_estimators=300; total time=   0.3s\n",
            "[CV] END criterion=gini, max_depth=780, max_features=sqrt, min_samples_leaf=12, min_samples_split=8, n_estimators=300; total time=   0.3s\n",
            "[CV] END criterion=gini, max_depth=780, max_features=sqrt, min_samples_leaf=12, min_samples_split=8, n_estimators=400; total time=   0.4s\n",
            "[CV] END criterion=gini, max_depth=780, max_features=sqrt, min_samples_leaf=12, min_samples_split=8, n_estimators=400; total time=   0.4s\n",
            "[CV] END criterion=gini, max_depth=780, max_features=sqrt, min_samples_leaf=12, min_samples_split=8, n_estimators=400; total time=   0.4s\n",
            "[CV] END criterion=gini, max_depth=780, max_features=sqrt, min_samples_leaf=12, min_samples_split=8, n_estimators=400; total time=   0.4s\n",
            "[CV] END criterion=gini, max_depth=780, max_features=sqrt, min_samples_leaf=12, min_samples_split=8, n_estimators=400; total time=   0.4s\n",
            "[CV] END criterion=gini, max_depth=780, max_features=sqrt, min_samples_leaf=12, min_samples_split=8, n_estimators=500; total time=   0.5s\n",
            "[CV] END criterion=gini, max_depth=780, max_features=sqrt, min_samples_leaf=12, min_samples_split=8, n_estimators=500; total time=   0.5s\n",
            "[CV] END criterion=gini, max_depth=780, max_features=sqrt, min_samples_leaf=12, min_samples_split=8, n_estimators=500; total time=   0.5s\n",
            "[CV] END criterion=gini, max_depth=780, max_features=sqrt, min_samples_leaf=12, min_samples_split=8, n_estimators=500; total time=   0.4s\n",
            "[CV] END criterion=gini, max_depth=780, max_features=sqrt, min_samples_leaf=12, min_samples_split=9, n_estimators=200; total time=   0.2s\n",
            "[CV] END criterion=gini, max_depth=780, max_features=sqrt, min_samples_leaf=12, min_samples_split=8, n_estimators=500; total time=   0.5s\n",
            "[CV] END criterion=gini, max_depth=780, max_features=sqrt, min_samples_leaf=12, min_samples_split=8, n_estimators=600; total time=   0.6s\n",
            "[CV] END criterion=gini, max_depth=780, max_features=sqrt, min_samples_leaf=12, min_samples_split=9, n_estimators=200; total time=   0.2s\n",
            "[CV] END criterion=gini, max_depth=780, max_features=sqrt, min_samples_leaf=12, min_samples_split=9, n_estimators=200; total time=   0.2s\n",
            "[CV] END criterion=gini, max_depth=780, max_features=sqrt, min_samples_leaf=12, min_samples_split=9, n_estimators=200; total time=   0.2s\n",
            "[CV] END criterion=gini, max_depth=780, max_features=sqrt, min_samples_leaf=12, min_samples_split=9, n_estimators=200; total time=   0.2s\n",
            "[CV] END criterion=gini, max_depth=780, max_features=sqrt, min_samples_leaf=12, min_samples_split=8, n_estimators=600; total time=   0.6s\n",
            "[CV] END criterion=gini, max_depth=780, max_features=sqrt, min_samples_leaf=12, min_samples_split=8, n_estimators=600; total time=   0.6s\n",
            "[CV] END criterion=gini, max_depth=780, max_features=sqrt, min_samples_leaf=12, min_samples_split=8, n_estimators=600; total time=   0.6s\n",
            "[CV] END criterion=gini, max_depth=780, max_features=sqrt, min_samples_leaf=12, min_samples_split=9, n_estimators=300; total time=   0.4s\n",
            "[CV] END criterion=gini, max_depth=780, max_features=sqrt, min_samples_leaf=12, min_samples_split=8, n_estimators=600; total time=   0.7s\n",
            "[CV] END criterion=gini, max_depth=780, max_features=sqrt, min_samples_leaf=12, min_samples_split=9, n_estimators=300; total time=   0.3s\n",
            "[CV] END criterion=gini, max_depth=780, max_features=sqrt, min_samples_leaf=12, min_samples_split=9, n_estimators=300; total time=   0.3s\n",
            "[CV] END criterion=gini, max_depth=780, max_features=sqrt, min_samples_leaf=12, min_samples_split=9, n_estimators=300; total time=   0.3s\n",
            "[CV] END criterion=gini, max_depth=780, max_features=sqrt, min_samples_leaf=12, min_samples_split=9, n_estimators=300; total time=   0.3s\n",
            "[CV] END criterion=gini, max_depth=780, max_features=sqrt, min_samples_leaf=12, min_samples_split=9, n_estimators=400; total time=   0.3s\n",
            "[CV] END criterion=gini, max_depth=780, max_features=sqrt, min_samples_leaf=12, min_samples_split=9, n_estimators=400; total time=   0.4s\n",
            "[CV] END criterion=gini, max_depth=780, max_features=sqrt, min_samples_leaf=12, min_samples_split=9, n_estimators=400; total time=   0.4s\n",
            "[CV] END criterion=gini, max_depth=780, max_features=sqrt, min_samples_leaf=12, min_samples_split=9, n_estimators=400; total time=   0.4s\n",
            "[CV] END criterion=gini, max_depth=780, max_features=sqrt, min_samples_leaf=12, min_samples_split=9, n_estimators=400; total time=   0.4s\n",
            "[CV] END criterion=gini, max_depth=780, max_features=sqrt, min_samples_leaf=12, min_samples_split=9, n_estimators=500; total time=   0.5s\n",
            "[CV] END criterion=gini, max_depth=780, max_features=sqrt, min_samples_leaf=12, min_samples_split=9, n_estimators=500; total time=   0.5s\n",
            "[CV] END criterion=gini, max_depth=780, max_features=sqrt, min_samples_leaf=12, min_samples_split=9, n_estimators=500; total time=   0.5s\n",
            "[CV] END criterion=gini, max_depth=780, max_features=sqrt, min_samples_leaf=12, min_samples_split=9, n_estimators=500; total time=   0.5s\n",
            "[CV] END criterion=gini, max_depth=780, max_features=sqrt, min_samples_leaf=12, min_samples_split=9, n_estimators=500; total time=   0.5s\n",
            "[CV] END criterion=gini, max_depth=780, max_features=sqrt, min_samples_leaf=12, min_samples_split=10, n_estimators=200; total time=   0.2s\n",
            "[CV] END criterion=gini, max_depth=780, max_features=sqrt, min_samples_leaf=12, min_samples_split=10, n_estimators=200; total time=   0.2s\n",
            "[CV] END criterion=gini, max_depth=780, max_features=sqrt, min_samples_leaf=12, min_samples_split=10, n_estimators=200; total time=   0.2s\n",
            "[CV] END criterion=gini, max_depth=780, max_features=sqrt, min_samples_leaf=12, min_samples_split=10, n_estimators=200; total time=   0.2s\n",
            "[CV] END criterion=gini, max_depth=780, max_features=sqrt, min_samples_leaf=12, min_samples_split=9, n_estimators=600; total time=   0.6s\n",
            "[CV] END criterion=gini, max_depth=780, max_features=sqrt, min_samples_leaf=12, min_samples_split=9, n_estimators=600; total time=   0.6s\n",
            "[CV] END criterion=gini, max_depth=780, max_features=sqrt, min_samples_leaf=12, min_samples_split=10, n_estimators=200; total time=   0.2s\n",
            "[CV] END criterion=gini, max_depth=780, max_features=sqrt, min_samples_leaf=12, min_samples_split=9, n_estimators=600; total time=   0.6s\n",
            "[CV] END criterion=gini, max_depth=780, max_features=sqrt, min_samples_leaf=12, min_samples_split=9, n_estimators=600; total time=   0.5s\n",
            "[CV] END criterion=gini, max_depth=780, max_features=sqrt, min_samples_leaf=12, min_samples_split=10, n_estimators=300; total time=   0.1s\n",
            "[CV] END criterion=gini, max_depth=780, max_features=sqrt, min_samples_leaf=12, min_samples_split=9, n_estimators=600; total time=   0.6s\n",
            "[CV] END criterion=gini, max_depth=780, max_features=sqrt, min_samples_leaf=12, min_samples_split=10, n_estimators=300; total time=   0.3s\n",
            "[CV] END criterion=gini, max_depth=780, max_features=sqrt, min_samples_leaf=12, min_samples_split=10, n_estimators=300; total time=   0.3s\n",
            "[CV] END criterion=gini, max_depth=780, max_features=sqrt, min_samples_leaf=12, min_samples_split=10, n_estimators=300; total time=   0.3s\n",
            "[CV] END criterion=gini, max_depth=780, max_features=sqrt, min_samples_leaf=12, min_samples_split=10, n_estimators=300; total time=   0.4s\n",
            "[CV] END criterion=gini, max_depth=780, max_features=sqrt, min_samples_leaf=12, min_samples_split=10, n_estimators=400; total time=   0.4s\n",
            "[CV] END criterion=gini, max_depth=780, max_features=sqrt, min_samples_leaf=12, min_samples_split=10, n_estimators=400; total time=   0.3s\n",
            "[CV] END criterion=gini, max_depth=780, max_features=sqrt, min_samples_leaf=12, min_samples_split=10, n_estimators=400; total time=   0.4s\n",
            "[CV] END criterion=gini, max_depth=780, max_features=sqrt, min_samples_leaf=12, min_samples_split=10, n_estimators=400; total time=   0.4s\n",
            "[CV] END criterion=gini, max_depth=780, max_features=sqrt, min_samples_leaf=12, min_samples_split=10, n_estimators=400; total time=   0.5s\n",
            "[CV] END criterion=gini, max_depth=780, max_features=sqrt, min_samples_leaf=12, min_samples_split=10, n_estimators=500; total time=   0.6s\n",
            "[CV] END criterion=gini, max_depth=780, max_features=sqrt, min_samples_leaf=12, min_samples_split=10, n_estimators=500; total time=   0.5s\n",
            "[CV] END criterion=gini, max_depth=780, max_features=sqrt, min_samples_leaf=12, min_samples_split=10, n_estimators=500; total time=   0.5s\n",
            "[CV] END criterion=gini, max_depth=780, max_features=sqrt, min_samples_leaf=12, min_samples_split=10, n_estimators=500; total time=   0.5s\n",
            "[CV] END criterion=gini, max_depth=780, max_features=sqrt, min_samples_leaf=12, min_samples_split=10, n_estimators=500; total time=   0.5s\n",
            "[CV] END criterion=gini, max_depth=780, max_features=sqrt, min_samples_leaf=12, min_samples_split=11, n_estimators=200; total time=   0.2s\n",
            "[CV] END criterion=gini, max_depth=780, max_features=sqrt, min_samples_leaf=12, min_samples_split=11, n_estimators=200; total time=   0.2s\n",
            "[CV] END criterion=gini, max_depth=780, max_features=sqrt, min_samples_leaf=12, min_samples_split=10, n_estimators=600; total time=   0.6s\n",
            "[CV] END criterion=gini, max_depth=780, max_features=sqrt, min_samples_leaf=12, min_samples_split=10, n_estimators=600; total time=   0.5s\n",
            "[CV] END criterion=gini, max_depth=780, max_features=sqrt, min_samples_leaf=12, min_samples_split=11, n_estimators=200; total time=   0.2s\n",
            "[CV] END criterion=gini, max_depth=780, max_features=sqrt, min_samples_leaf=12, min_samples_split=10, n_estimators=600; total time=   0.7s\n",
            "[CV] END criterion=gini, max_depth=780, max_features=sqrt, min_samples_leaf=12, min_samples_split=11, n_estimators=200; total time=   0.2s\n",
            "[CV] END criterion=gini, max_depth=780, max_features=sqrt, min_samples_leaf=12, min_samples_split=11, n_estimators=200; total time=   0.3s\n",
            "[CV] END criterion=gini, max_depth=780, max_features=sqrt, min_samples_leaf=12, min_samples_split=11, n_estimators=300; total time=   0.2s\n",
            "[CV] END criterion=gini, max_depth=780, max_features=sqrt, min_samples_leaf=12, min_samples_split=10, n_estimators=600; total time=   0.6s\n",
            "[CV] END criterion=gini, max_depth=780, max_features=sqrt, min_samples_leaf=12, min_samples_split=10, n_estimators=600; total time=   0.7s\n",
            "[CV] END criterion=gini, max_depth=780, max_features=sqrt, min_samples_leaf=12, min_samples_split=11, n_estimators=300; total time=   0.3s\n",
            "[CV] END criterion=gini, max_depth=780, max_features=sqrt, min_samples_leaf=12, min_samples_split=11, n_estimators=300; total time=   0.3s\n",
            "[CV] END criterion=gini, max_depth=780, max_features=sqrt, min_samples_leaf=12, min_samples_split=11, n_estimators=300; total time=   0.4s\n",
            "[CV] END criterion=gini, max_depth=780, max_features=sqrt, min_samples_leaf=12, min_samples_split=11, n_estimators=300; total time=   0.3s\n",
            "[CV] END criterion=gini, max_depth=780, max_features=sqrt, min_samples_leaf=12, min_samples_split=11, n_estimators=400; total time=   0.4s\n",
            "[CV] END criterion=gini, max_depth=780, max_features=sqrt, min_samples_leaf=12, min_samples_split=11, n_estimators=400; total time=   0.4s\n",
            "[CV] END criterion=gini, max_depth=780, max_features=sqrt, min_samples_leaf=12, min_samples_split=11, n_estimators=500; total time=   0.3s\n",
            "[CV] END criterion=gini, max_depth=780, max_features=sqrt, min_samples_leaf=12, min_samples_split=11, n_estimators=400; total time=   0.4s\n",
            "[CV] END criterion=gini, max_depth=780, max_features=sqrt, min_samples_leaf=12, min_samples_split=11, n_estimators=400; total time=   0.4s\n",
            "[CV] END criterion=gini, max_depth=780, max_features=sqrt, min_samples_leaf=12, min_samples_split=11, n_estimators=400; total time=   0.4s\n",
            "[CV] END criterion=gini, max_depth=780, max_features=sqrt, min_samples_leaf=12, min_samples_split=11, n_estimators=500; total time=   0.5s\n",
            "[CV] END criterion=gini, max_depth=780, max_features=sqrt, min_samples_leaf=12, min_samples_split=11, n_estimators=500; total time=   0.5s\n",
            "[CV] END criterion=gini, max_depth=780, max_features=sqrt, min_samples_leaf=12, min_samples_split=11, n_estimators=500; total time=   0.5s\n",
            "[CV] END criterion=gini, max_depth=780, max_features=sqrt, min_samples_leaf=12, min_samples_split=11, n_estimators=500; total time=   0.5s\n",
            "[CV] END criterion=gini, max_depth=780, max_features=sqrt, min_samples_leaf=12, min_samples_split=12, n_estimators=200; total time=   0.2s\n",
            "[CV] END criterion=gini, max_depth=780, max_features=sqrt, min_samples_leaf=12, min_samples_split=12, n_estimators=200; total time=   0.2s\n",
            "[CV] END criterion=gini, max_depth=780, max_features=sqrt, min_samples_leaf=12, min_samples_split=11, n_estimators=600; total time=   0.5s\n",
            "[CV] END criterion=gini, max_depth=780, max_features=sqrt, min_samples_leaf=12, min_samples_split=11, n_estimators=600; total time=   0.6s\n",
            "[CV] END criterion=gini, max_depth=780, max_features=sqrt, min_samples_leaf=12, min_samples_split=12, n_estimators=200; total time=   0.2s\n",
            "[CV] END criterion=gini, max_depth=780, max_features=sqrt, min_samples_leaf=12, min_samples_split=11, n_estimators=600; total time=   0.6s\n",
            "[CV] END criterion=gini, max_depth=780, max_features=sqrt, min_samples_leaf=12, min_samples_split=11, n_estimators=600; total time=   0.6s\n",
            "[CV] END criterion=gini, max_depth=780, max_features=sqrt, min_samples_leaf=12, min_samples_split=12, n_estimators=200; total time=   0.2s\n",
            "[CV] END criterion=gini, max_depth=780, max_features=sqrt, min_samples_leaf=12, min_samples_split=12, n_estimators=200; total time=   0.2s\n",
            "[CV] END criterion=gini, max_depth=780, max_features=sqrt, min_samples_leaf=12, min_samples_split=12, n_estimators=300; total time=   0.3s\n",
            "[CV] END criterion=gini, max_depth=780, max_features=sqrt, min_samples_leaf=12, min_samples_split=12, n_estimators=300; total time=   0.3s\n",
            "[CV] END criterion=gini, max_depth=780, max_features=sqrt, min_samples_leaf=12, min_samples_split=11, n_estimators=600; total time=   0.6s\n",
            "[CV] END criterion=gini, max_depth=780, max_features=sqrt, min_samples_leaf=12, min_samples_split=12, n_estimators=300; total time=   0.3s\n",
            "[CV] END criterion=gini, max_depth=780, max_features=sqrt, min_samples_leaf=12, min_samples_split=12, n_estimators=300; total time=   0.3s\n",
            "[CV] END criterion=gini, max_depth=780, max_features=sqrt, min_samples_leaf=12, min_samples_split=12, n_estimators=300; total time=   0.3s\n",
            "[CV] END criterion=gini, max_depth=780, max_features=sqrt, min_samples_leaf=12, min_samples_split=12, n_estimators=400; total time=   0.4s\n",
            "[CV] END criterion=gini, max_depth=780, max_features=sqrt, min_samples_leaf=12, min_samples_split=12, n_estimators=400; total time=   0.4s\n",
            "[CV] END criterion=gini, max_depth=780, max_features=sqrt, min_samples_leaf=12, min_samples_split=12, n_estimators=400; total time=   0.4s\n",
            "[CV] END criterion=gini, max_depth=780, max_features=sqrt, min_samples_leaf=12, min_samples_split=12, n_estimators=400; total time=   0.4s\n",
            "[CV] END criterion=gini, max_depth=780, max_features=sqrt, min_samples_leaf=12, min_samples_split=12, n_estimators=400; total time=   0.4s\n",
            "[CV] END criterion=gini, max_depth=780, max_features=sqrt, min_samples_leaf=12, min_samples_split=12, n_estimators=500; total time=   0.5s\n",
            "[CV] END criterion=gini, max_depth=780, max_features=sqrt, min_samples_leaf=12, min_samples_split=12, n_estimators=500; total time=   0.5s\n",
            "[CV] END criterion=gini, max_depth=780, max_features=sqrt, min_samples_leaf=12, min_samples_split=12, n_estimators=500; total time=   0.5s\n",
            "[CV] END criterion=gini, max_depth=780, max_features=sqrt, min_samples_leaf=12, min_samples_split=12, n_estimators=500; total time=   0.5s\n",
            "[CV] END criterion=gini, max_depth=780, max_features=sqrt, min_samples_leaf=12, min_samples_split=12, n_estimators=500; total time=   0.5s\n",
            "[CV] END criterion=gini, max_depth=780, max_features=sqrt, min_samples_leaf=12, min_samples_split=12, n_estimators=600; total time=   0.5s\n",
            "[CV] END criterion=gini, max_depth=780, max_features=sqrt, min_samples_leaf=12, min_samples_split=12, n_estimators=600; total time=   0.5s\n",
            "[CV] END criterion=gini, max_depth=780, max_features=sqrt, min_samples_leaf=12, min_samples_split=12, n_estimators=600; total time=   0.5s\n",
            "[CV] END criterion=gini, max_depth=780, max_features=sqrt, min_samples_leaf=12, min_samples_split=12, n_estimators=600; total time=   0.5s\n",
            "[CV] END criterion=gini, max_depth=780, max_features=sqrt, min_samples_leaf=12, min_samples_split=12, n_estimators=600; total time=   0.6s\n"
          ]
        },
        {
          "data": {
            "text/html": [
              "<style>#sk-container-id-15 {color: black;background-color: white;}#sk-container-id-15 pre{padding: 0;}#sk-container-id-15 div.sk-toggleable {background-color: white;}#sk-container-id-15 label.sk-toggleable__label {cursor: pointer;display: block;width: 100%;margin-bottom: 0;padding: 0.3em;box-sizing: border-box;text-align: center;}#sk-container-id-15 label.sk-toggleable__label-arrow:before {content: \"▸\";float: left;margin-right: 0.25em;color: #696969;}#sk-container-id-15 label.sk-toggleable__label-arrow:hover:before {color: black;}#sk-container-id-15 div.sk-estimator:hover label.sk-toggleable__label-arrow:before {color: black;}#sk-container-id-15 div.sk-toggleable__content {max-height: 0;max-width: 0;overflow: hidden;text-align: left;background-color: #f0f8ff;}#sk-container-id-15 div.sk-toggleable__content pre {margin: 0.2em;color: black;border-radius: 0.25em;background-color: #f0f8ff;}#sk-container-id-15 input.sk-toggleable__control:checked~div.sk-toggleable__content {max-height: 200px;max-width: 100%;overflow: auto;}#sk-container-id-15 input.sk-toggleable__control:checked~label.sk-toggleable__label-arrow:before {content: \"▾\";}#sk-container-id-15 div.sk-estimator input.sk-toggleable__control:checked~label.sk-toggleable__label {background-color: #d4ebff;}#sk-container-id-15 div.sk-label input.sk-toggleable__control:checked~label.sk-toggleable__label {background-color: #d4ebff;}#sk-container-id-15 input.sk-hidden--visually {border: 0;clip: rect(1px 1px 1px 1px);clip: rect(1px, 1px, 1px, 1px);height: 1px;margin: -1px;overflow: hidden;padding: 0;position: absolute;width: 1px;}#sk-container-id-15 div.sk-estimator {font-family: monospace;background-color: #f0f8ff;border: 1px dotted black;border-radius: 0.25em;box-sizing: border-box;margin-bottom: 0.5em;}#sk-container-id-15 div.sk-estimator:hover {background-color: #d4ebff;}#sk-container-id-15 div.sk-parallel-item::after {content: \"\";width: 100%;border-bottom: 1px solid gray;flex-grow: 1;}#sk-container-id-15 div.sk-label:hover label.sk-toggleable__label {background-color: #d4ebff;}#sk-container-id-15 div.sk-serial::before {content: \"\";position: absolute;border-left: 1px solid gray;box-sizing: border-box;top: 0;bottom: 0;left: 50%;z-index: 0;}#sk-container-id-15 div.sk-serial {display: flex;flex-direction: column;align-items: center;background-color: white;padding-right: 0.2em;padding-left: 0.2em;position: relative;}#sk-container-id-15 div.sk-item {position: relative;z-index: 1;}#sk-container-id-15 div.sk-parallel {display: flex;align-items: stretch;justify-content: center;background-color: white;position: relative;}#sk-container-id-15 div.sk-item::before, #sk-container-id-15 div.sk-parallel-item::before {content: \"\";position: absolute;border-left: 1px solid gray;box-sizing: border-box;top: 0;bottom: 0;left: 50%;z-index: -1;}#sk-container-id-15 div.sk-parallel-item {display: flex;flex-direction: column;z-index: 1;position: relative;background-color: white;}#sk-container-id-15 div.sk-parallel-item:first-child::after {align-self: flex-end;width: 50%;}#sk-container-id-15 div.sk-parallel-item:last-child::after {align-self: flex-start;width: 50%;}#sk-container-id-15 div.sk-parallel-item:only-child::after {width: 0;}#sk-container-id-15 div.sk-dashed-wrapped {border: 1px dashed gray;margin: 0 0.4em 0.5em 0.4em;box-sizing: border-box;padding-bottom: 0.4em;background-color: white;}#sk-container-id-15 div.sk-label label {font-family: monospace;font-weight: bold;display: inline-block;line-height: 1.2em;}#sk-container-id-15 div.sk-label-container {text-align: center;}#sk-container-id-15 div.sk-container {/* jupyter's `normalize.less` sets `[hidden] { display: none; }` but bootstrap.min.css set `[hidden] { display: none !important; }` so we also need the `!important` here to be able to override the default hidden behavior on the sphinx rendered scikit-learn.org. See: https://github.com/scikit-learn/scikit-learn/issues/21755 */display: inline-block !important;position: relative;}#sk-container-id-15 div.sk-text-repr-fallback {display: none;}</style><div id=\"sk-container-id-15\" class=\"sk-top-container\"><div class=\"sk-text-repr-fallback\"><pre>GridSearchCV(cv=5, estimator=RandomForestClassifier(), n_jobs=-1,\n",
              "             param_grid={&#x27;criterion&#x27;: [&#x27;gini&#x27;], &#x27;max_depth&#x27;: [780],\n",
              "                         &#x27;max_features&#x27;: [&#x27;sqrt&#x27;],\n",
              "                         &#x27;min_samples_leaf&#x27;: [8, 10, 12],\n",
              "                         &#x27;min_samples_split&#x27;: [8, 9, 10, 11, 12],\n",
              "                         &#x27;n_estimators&#x27;: [200, 300, 400, 500, 600]},\n",
              "             scoring=&#x27;f1&#x27;, verbose=2)</pre><b>In a Jupyter environment, please rerun this cell to show the HTML representation or trust the notebook. <br />On GitHub, the HTML representation is unable to render, please try loading this page with nbviewer.org.</b></div><div class=\"sk-container\" hidden><div class=\"sk-item sk-dashed-wrapped\"><div class=\"sk-label-container\"><div class=\"sk-label sk-toggleable\"><input class=\"sk-toggleable__control sk-hidden--visually\" id=\"sk-estimator-id-27\" type=\"checkbox\" ><label for=\"sk-estimator-id-27\" class=\"sk-toggleable__label sk-toggleable__label-arrow\">GridSearchCV</label><div class=\"sk-toggleable__content\"><pre>GridSearchCV(cv=5, estimator=RandomForestClassifier(), n_jobs=-1,\n",
              "             param_grid={&#x27;criterion&#x27;: [&#x27;gini&#x27;], &#x27;max_depth&#x27;: [780],\n",
              "                         &#x27;max_features&#x27;: [&#x27;sqrt&#x27;],\n",
              "                         &#x27;min_samples_leaf&#x27;: [8, 10, 12],\n",
              "                         &#x27;min_samples_split&#x27;: [8, 9, 10, 11, 12],\n",
              "                         &#x27;n_estimators&#x27;: [200, 300, 400, 500, 600]},\n",
              "             scoring=&#x27;f1&#x27;, verbose=2)</pre></div></div></div><div class=\"sk-parallel\"><div class=\"sk-parallel-item\"><div class=\"sk-item\"><div class=\"sk-label-container\"><div class=\"sk-label sk-toggleable\"><input class=\"sk-toggleable__control sk-hidden--visually\" id=\"sk-estimator-id-28\" type=\"checkbox\" ><label for=\"sk-estimator-id-28\" class=\"sk-toggleable__label sk-toggleable__label-arrow\">estimator: RandomForestClassifier</label><div class=\"sk-toggleable__content\"><pre>RandomForestClassifier()</pre></div></div></div><div class=\"sk-serial\"><div class=\"sk-item\"><div class=\"sk-estimator sk-toggleable\"><input class=\"sk-toggleable__control sk-hidden--visually\" id=\"sk-estimator-id-29\" type=\"checkbox\" ><label for=\"sk-estimator-id-29\" class=\"sk-toggleable__label sk-toggleable__label-arrow\">RandomForestClassifier</label><div class=\"sk-toggleable__content\"><pre>RandomForestClassifier()</pre></div></div></div></div></div></div></div></div></div></div>"
            ],
            "text/plain": [
              "GridSearchCV(cv=5, estimator=RandomForestClassifier(), n_jobs=-1,\n",
              "             param_grid={'criterion': ['gini'], 'max_depth': [780],\n",
              "                         'max_features': ['sqrt'],\n",
              "                         'min_samples_leaf': [8, 10, 12],\n",
              "                         'min_samples_split': [8, 9, 10, 11, 12],\n",
              "                         'n_estimators': [200, 300, 400, 500, 600]},\n",
              "             scoring='f1', verbose=2)"
            ]
          },
          "execution_count": 114,
          "metadata": {},
          "output_type": "execute_result"
        }
      ],
      "source": [
        "# Train with Grid Search\n",
        "\n",
        "rf_gridcv = GridSearchCV(estimator=RandomForestClassifier(),\n",
        "                         param_grid=param_grid,\n",
        "                         cv=5,\n",
        "                         n_jobs=-1,\n",
        "                         verbose=2, \n",
        "                         scoring='f1')\n",
        "\n",
        "rf_gridcv.fit(X_train_final, y_train)"
      ]
    },
    {
      "cell_type": "code",
      "execution_count": 115,
      "metadata": {
        "colab": {
          "base_uri": "https://localhost:8080/"
        },
        "id": "vEj-QKdsfKrk",
        "outputId": "cd214d9c-9c9a-4c9c-d40b-b8a6641a989a"
      },
      "outputs": [
        {
          "data": {
            "text/plain": [
              "{'criterion': 'gini',\n",
              " 'max_depth': 780,\n",
              " 'max_features': 'sqrt',\n",
              " 'min_samples_leaf': 8,\n",
              " 'min_samples_split': 8,\n",
              " 'n_estimators': 200}"
            ]
          },
          "execution_count": 115,
          "metadata": {},
          "output_type": "execute_result"
        }
      ],
      "source": [
        "# Get Best Hyperparameters\n",
        "\n",
        "rf_gridcv.best_params_"
      ]
    },
    {
      "cell_type": "code",
      "execution_count": 116,
      "metadata": {
        "id": "XDLq4T_JfO2r"
      },
      "outputs": [],
      "source": [
        "# Get Best Estimator\n",
        "\n",
        "rf_gridcv_best = rf_gridcv.best_estimator_"
      ]
    },
    {
      "cell_type": "code",
      "execution_count": 117,
      "metadata": {
        "colab": {
          "base_uri": "https://localhost:8080/",
          "height": 545
        },
        "id": "N4UhYZxD9cWY",
        "outputId": "c764ab37-7fdd-4c3a-fc39-2fd53d5a9113"
      },
      "outputs": [
        {
          "name": "stdout",
          "output_type": "stream",
          "text": [
            "F1 Score - Test Set   :  0.8842105263157894 \n",
            "\n",
            "Classification Report : \n",
            "               precision    recall  f1-score   support\n",
            "\n",
            "           0       0.99      0.87      0.92        77\n",
            "           1       0.81      0.98      0.88        43\n",
            "\n",
            "    accuracy                           0.91       120\n",
            "   macro avg       0.90      0.92      0.90       120\n",
            "weighted avg       0.92      0.91      0.91       120\n",
            " \n",
            "\n",
            "Confusion Matrix      : \n",
            " <sklearn.metrics._plot.confusion_matrix.ConfusionMatrixDisplay object at 0x172fe58a0>\n"
          ]
        },
        {
          "data": {
            "image/png": "[encoded data removed]",
            "text/plain": [
              "<Figure size 640x480 with 2 Axes>"
            ]
          },
          "metadata": {},
          "output_type": "display_data"
        }
      ],
      "source": [
        "# Check Performance Model against Test-Set\n",
        "\n",
        "y_pred_test = rf_gridcv_best.predict(X_test_final)\n",
        "\n",
        "print('F1 Score - Test Set   : ', f1_score(y_test, y_pred_test), '\\n')\n",
        "print('Classification Report : \\n', classification_report(y_test, y_pred_test), '\\n')\n",
        "print('Confusion Matrix      : \\n', ConfusionMatrixDisplay.from_estimator(rf_gridcv_best, X_test_final, y_test, cmap='Reds'))"
      ]
    },
    {
      "cell_type": "code",
      "execution_count": 118,
      "metadata": {
        "colab": {
          "base_uri": "https://localhost:8080/",
          "height": 300
        },
        "id": "VVAGlsYUmOvw",
        "outputId": "348bdaaf-b03a-4c4a-879f-17f3ea43db72"
      },
      "outputs": [
        {
          "data": {
            "text/html": [
              "<div>\n",
              "<style scoped>\n",
              "    .dataframe tbody tr th:only-of-type {\n",
              "        vertical-align: middle;\n",
              "    }\n",
              "\n",
              "    .dataframe tbody tr th {\n",
              "        vertical-align: top;\n",
              "    }\n",
              "\n",
              "    .dataframe thead th {\n",
              "        text-align: right;\n",
              "    }\n",
              "</style>\n",
              "<table border=\"1\" class=\"dataframe\">\n",
              "  <thead>\n",
              "    <tr style=\"text-align: right;\">\n",
              "      <th></th>\n",
              "      <th>Baseline (Default Hyperparameter)</th>\n",
              "      <th>Manual Search</th>\n",
              "      <th>Random Search</th>\n",
              "      <th>Grid Search</th>\n",
              "    </tr>\n",
              "  </thead>\n",
              "  <tbody>\n",
              "    <tr>\n",
              "      <th>train - precision</th>\n",
              "      <td>0.990099</td>\n",
              "      <td>0.990099</td>\n",
              "      <td>0.990099</td>\n",
              "      <td>0.990099</td>\n",
              "    </tr>\n",
              "    <tr>\n",
              "      <th>train - recall</th>\n",
              "      <td>1.000000</td>\n",
              "      <td>1.000000</td>\n",
              "      <td>1.000000</td>\n",
              "      <td>1.000000</td>\n",
              "    </tr>\n",
              "    <tr>\n",
              "      <th>train - accuracy</th>\n",
              "      <td>0.996429</td>\n",
              "      <td>0.996429</td>\n",
              "      <td>0.996429</td>\n",
              "      <td>0.996429</td>\n",
              "    </tr>\n",
              "    <tr>\n",
              "      <th>train - f1_score</th>\n",
              "      <td>0.995025</td>\n",
              "      <td>0.995025</td>\n",
              "      <td>0.995025</td>\n",
              "      <td>0.995025</td>\n",
              "    </tr>\n",
              "    <tr>\n",
              "      <th>test - precision</th>\n",
              "      <td>0.816327</td>\n",
              "      <td>0.816327</td>\n",
              "      <td>0.807692</td>\n",
              "      <td>0.807692</td>\n",
              "    </tr>\n",
              "    <tr>\n",
              "      <th>test - recall</th>\n",
              "      <td>0.930233</td>\n",
              "      <td>0.930233</td>\n",
              "      <td>0.976744</td>\n",
              "      <td>0.976744</td>\n",
              "    </tr>\n",
              "    <tr>\n",
              "      <th>test - accuracy_score</th>\n",
              "      <td>0.900000</td>\n",
              "      <td>0.900000</td>\n",
              "      <td>0.908333</td>\n",
              "      <td>0.908333</td>\n",
              "    </tr>\n",
              "    <tr>\n",
              "      <th>test - f1_score</th>\n",
              "      <td>0.869565</td>\n",
              "      <td>0.869565</td>\n",
              "      <td>0.884211</td>\n",
              "      <td>0.884211</td>\n",
              "    </tr>\n",
              "  </tbody>\n",
              "</table>\n",
              "</div>"
            ],
            "text/plain": [
              "                       Baseline (Default Hyperparameter)  Manual Search  \\\n",
              "train - precision                               0.990099       0.990099   \n",
              "train - recall                                  1.000000       1.000000   \n",
              "train - accuracy                                0.996429       0.996429   \n",
              "train - f1_score                                0.995025       0.995025   \n",
              "test - precision                                0.816327       0.816327   \n",
              "test - recall                                   0.930233       0.930233   \n",
              "test - accuracy_score                           0.900000       0.900000   \n",
              "test - f1_score                                 0.869565       0.869565   \n",
              "\n",
              "                       Random Search  Grid Search  \n",
              "train - precision           0.990099     0.990099  \n",
              "train - recall              1.000000     1.000000  \n",
              "train - accuracy            0.996429     0.996429  \n",
              "train - f1_score            0.995025     0.995025  \n",
              "test - precision            0.807692     0.807692  \n",
              "test - recall               0.976744     0.976744  \n",
              "test - accuracy_score       0.908333     0.908333  \n",
              "test - f1_score             0.884211     0.884211  "
            ]
          },
          "execution_count": 118,
          "metadata": {},
          "output_type": "execute_result"
        }
      ],
      "source": [
        "# Save Classification Report into a Dictionary\n",
        "\n",
        "score_reports = {\n",
        "    'train - precision' : precision_score(y_train, y_pred_train),\n",
        "    'train - recall' : recall_score(y_train, y_pred_train),\n",
        "    'train - accuracy' : accuracy_score(y_train, y_pred_train),\n",
        "    'train - f1_score' : f1_score(y_train, y_pred_train),\n",
        "    'test - precision' : precision_score(y_test, y_pred_test),\n",
        "    'test - recall' : recall_score(y_test, y_pred_test),\n",
        "    'test - accuracy_score' : accuracy_score(y_test, y_pred_test),\n",
        "    'test - f1_score' : f1_score(y_test, y_pred_test),\n",
        "}\n",
        "all_reports['Grid Search'] = score_reports\n",
        "pd.DataFrame(all_reports)"
      ]
    },
    {
      "cell_type": "markdown",
      "metadata": {
        "id": "hp08AHuPoMke"
      },
      "source": [
        "Even though `RandomSearchCV` and `GridSearchCV` produce same performance, but the best hyperparameter is different.\n",
        "\n",
        "From `RandomSearchCV` : \n",
        "```\n",
        "'n_estimators': 600,\n",
        "'min_samples_split': 10,\n",
        "'min_samples_leaf': 8,\n",
        "'max_features': 'log2',\n",
        "'max_depth': 450,\n",
        "'criterion': 'gini'\n",
        "```\n",
        "\n",
        "From `GridSearchCV` : \n",
        "```\n",
        "'criterion': 'gini',\n",
        "'max_depth': 450,\n",
        "'max_features': 'log2',\n",
        "'min_samples_leaf': 8,\n",
        "'min_samples_split': 8,\n",
        "'n_estimators': 400\n",
        "```"
      ]
    }
  ],
  "metadata": {
    "colab": {
      "collapsed_sections": [
        "e70LtIsuBidr",
        "xn-YqBhsBs3T",
        "fN8q-rzuBxni",
        "PVqYltSmB5Wb",
        "cKeqLC9xHQQ6"
      ],
      "provenance": []
    },
    "kernelspec": {
      "display_name": "Python 3.10.8 64-bit",
      "language": "python",
      "name": "python3"
    },
    "language_info": {
      "codemirror_mode": {
        "name": "ipython",
        "version": 3
      },
      "file_extension": ".py",
      "mimetype": "text/x-python",
      "name": "python",
      "nbconvert_exporter": "python",
      "pygments_lexer": "ipython3",
      "version": "3.10.8"
    },
    "vscode": {
      "interpreter": {
        "hash": "aee8b7b246df8f9039afb4144a1f6fd8d2ca17a180786b69acc140d282b71a49"
      }
    }
  },
  "nbformat": 4,
  "nbformat_minor": 0
}
