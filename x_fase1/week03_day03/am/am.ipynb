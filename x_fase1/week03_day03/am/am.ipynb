{
 "cells": [
  {
   "cell_type": "markdown",
   "metadata": {},
   "source": [
    "![k means, gaussian mixtures](./images/Screen%20Shot%202022-11-16%20at%2009.33.59.png)\n",
    "\n",
    "< k means | gaussian mixtures >\n",
    "\n",
    "Gaussian Mixtures, K-means, PCA untuk numerical-numerical."
   ]
  },
  {
   "cell_type": "markdown",
   "metadata": {},
   "source": [
    "![gaussianmixture](./images/Screen%20Shot%202022-11-16%20at%2010.29.41.png)\n",
    "\n",
    "`np.round(bgm.weights_, 2)` -> round to two digits. result nya dari `n_components=10` parameter yg oke adalah `n_components=3`."
   ]
  }
 ],
 "metadata": {
  "kernelspec": {
   "display_name": "Python 3.10.8 64-bit",
   "language": "python",
   "name": "python3"
  },
  "language_info": {
   "name": "python",
   "version": "3.10.8"
  },
  "orig_nbformat": 4,
  "vscode": {
   "interpreter": {
    "hash": "aee8b7b246df8f9039afb4144a1f6fd8d2ca17a180786b69acc140d282b71a49"
   }
  }
 },
 "nbformat": 4,
 "nbformat_minor": 2
}
