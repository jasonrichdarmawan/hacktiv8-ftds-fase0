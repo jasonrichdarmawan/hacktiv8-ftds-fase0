{
 "cells": [
  {
   "cell_type": "markdown",
   "metadata": {},
   "source": [
    "![svm](./images/Screen%20Shot%202022-11-07%20at%2013.58.52.png)\n",
    "\n",
    "Maximize the margin antara O dan X"
   ]
  },
  {
   "cell_type": "markdown",
   "metadata": {},
   "source": [
    "![](./images/Screen%20Shot%202022-11-07%20at%2014.10.53.png)\n",
    "\n",
    "linear = perlu diPCA terlebih dahulu (PCA belum belajar)\n",
    "\n",
    "rbf = dipetakan ke infinite dimension\n"
   ]
  },
  {
   "cell_type": "markdown",
   "metadata": {},
   "source": [
    "[reference](https://towardsdatascience.com/svm-and-kernel-svm-fed02bef1200)\n",
    "\n",
    "![C](./images/Screen%20Shot%202022-11-07%20at%2014.19.58.png)\n",
    "\n",
    "C makin tinggi makin overfitting"
   ]
  },
  {
   "cell_type": "markdown",
   "metadata": {},
   "source": [
    "![gamma](./images/Screen%20Shot%202022-11-07%20at%2014.18.07.png)\n",
    "\n",
    "gamma semakin besar, hyperplane akan mempertimbangkan lebih banyak titik."
   ]
  },
  {
   "cell_type": "markdown",
   "metadata": {},
   "source": [
    "![under the hood](./images/Screen%20Shot%202022-11-07%20at%2014.38.25.png)"
   ]
  }
 ],
 "metadata": {
  "kernelspec": {
   "display_name": "Python 3.10.8 64-bit",
   "language": "python",
   "name": "python3"
  },
  "language_info": {
   "name": "python",
   "version": "3.10.8"
  },
  "orig_nbformat": 4,
  "vscode": {
   "interpreter": {
    "hash": "aee8b7b246df8f9039afb4144a1f6fd8d2ca17a180786b69acc140d282b71a49"
   }
  }
 },
 "nbformat": 4,
 "nbformat_minor": 2
}
