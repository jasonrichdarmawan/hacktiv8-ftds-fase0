{
 "cells": [
  {
   "cell_type": "markdown",
   "metadata": {},
   "source": [
    "![iris dataset](./images/Screen%20Shot%202022-11-08%20at%2009.42.04.png)"
   ]
  },
  {
   "cell_type": "markdown",
   "metadata": {},
   "source": [
    "# 1. Decision Tree disadvantage:\n",
    "1. cenderung Overfitting.\n",
    "2. sangat tidak stabil -> tambah 1 data menyebabkan pembuatan decision tree."
   ]
  },
  {
   "cell_type": "markdown",
   "metadata": {},
   "source": [
    "# 2. Gain (entropy), Gini Index\n",
    "\n",
    "![overview](./images/Screen%20Shot%202022-11-08%20at%2009.57.50.png)"
   ]
  },
  {
   "cell_type": "markdown",
   "metadata": {},
   "source": [
    "## 2.1 - Information Gain\n",
    "\n",
    "![information gain](./images/Screen%20Shot%202022-11-08%20at%2010.01.18.png)"
   ]
  },
  {
   "cell_type": "markdown",
   "metadata": {},
   "source": [
    "![contoh](./images/Screen%20Shot%202022-11-08%20at%2010.10.40.png)"
   ]
  },
  {
   "cell_type": "markdown",
   "metadata": {},
   "source": [
    "![gain](./images/Screen%20Shot%202022-11-08%20at%2010.14.02.png)"
   ]
  },
  {
   "cell_type": "markdown",
   "metadata": {},
   "source": [
    "![gain age tertinggi](./images/Screen%20Shot%202022-11-08%20at%2010.14.52.png)"
   ]
  },
  {
   "cell_type": "markdown",
   "metadata": {},
   "source": [
    "![turunan pertama adalah age](./images/Screen%20Shot%202022-11-08%20at%2010.15.49.png)"
   ]
  },
  {
   "cell_type": "markdown",
   "metadata": {},
   "source": [
    "![depth 1](./images/Screen%20Shot%202022-11-08%20at%2010.16.28.png)\n",
    "\n",
    "hitung ulang entropy berdasarkan age =<30 -> entropy yg tertinggi selanjutnya adalah student"
   ]
  },
  {
   "cell_type": "markdown",
   "metadata": {},
   "source": [
    "![2nd depth](./images/Screen%20Shot%202022-11-08%20at%2010.19.10.png)"
   ]
  },
  {
   "cell_type": "markdown",
   "metadata": {},
   "source": [
    "![final](./images/Screen%20Shot%202022-11-08%20at%2010.20.50.png)"
   ]
  },
  {
   "cell_type": "markdown",
   "metadata": {},
   "source": [
    "## 2.2 Gini Index\n",
    "\n",
    "![gini index](./images/Screen%20Shot%202022-11-08%20at%2010.22.45.png)"
   ]
  },
  {
   "cell_type": "markdown",
   "metadata": {},
   "source": [
    "![ruas kanan](./images/Screen%20Shot%202022-11-08%20at%2010.26.21.png)"
   ]
  },
  {
   "cell_type": "markdown",
   "metadata": {},
   "source": [
    "# pre-pruning & post-pruning\n",
    "\n",
    "![pre-pruning](./images/Screen%20Shot%202022-11-08%20at%2010.31.12.png)\n",
    "\n",
    "pre-pruning: max-depthnya 2, harusnya 3 kalau mau dapat accuracy yang bagus.\n",
    "post-pruning: max-depthnya 4, harusnya 3. dampaknya overfitting"
   ]
  },
  {
   "cell_type": "markdown",
   "metadata": {},
   "source": [
    "![regularization hperparameters](./images/Screen%20Shot%202022-11-08%20at%2010.34.02.png)\n",
    "\n",
    "![2](./images/Screen%20Shot%202022-11-08%20at%2010.35.56.png)\n",
    "\n",
    "![3](./images/Screen%20Shot%202022-11-08%20at%2010.36.19.png)"
   ]
  }
 ],
 "metadata": {
  "kernelspec": {
   "display_name": "Python 3.10.8 64-bit",
   "language": "python",
   "name": "python3"
  },
  "language_info": {
   "name": "python",
   "version": "3.10.8"
  },
  "orig_nbformat": 4,
  "vscode": {
   "interpreter": {
    "hash": "aee8b7b246df8f9039afb4144a1f6fd8d2ca17a180786b69acc140d282b71a49"
   }
  }
 },
 "nbformat": 4,
 "nbformat_minor": 2
}
