{
 "cells": [
  {
   "cell_type": "markdown",
   "metadata": {},
   "source": [
    "# 1 - ensemble learning\n",
    "\n",
    "![overview](./images/Screen%20Shot%202022-11-08%20at%2013.39.40.png)"
   ]
  },
  {
   "cell_type": "markdown",
   "metadata": {},
   "source": [
    "## 1.1 - stacking\n",
    "\n",
    "1. decision tree A -> prediksi 0\n",
    "2. decision tree B -> prediksi 1\n",
    "3. decision tree C -> prediksi 1\n",
    "\n",
    "^ berdasarkan ensemble learning, yang dipilih dalah decision tree B, C\n",
    "\n",
    "![voting ensemble](./images/Screen%20Shot%202022-11-08%20at%2013.44.24.png)"
   ]
  },
  {
   "cell_type": "markdown",
   "metadata": {},
   "source": [
    "![soft voting](./images/Screen%20Shot%202022-11-08%20at%2013.47.44.png)"
   ]
  },
  {
   "cell_type": "markdown",
   "metadata": {},
   "source": [
    "## 1.2 - bagging / parallel\n",
    "\n",
    "![bagging](./images/Screen%20Shot%202022-11-08%20at%2013.52.56.png)\n",
    "\n",
    "100 Random Forest -> 100 Model (contoh Decision Tree)"
   ]
  },
  {
   "cell_type": "markdown",
   "metadata": {},
   "source": [
    "## 1.3 - boosting / sequential\n",
    "\n",
    "![sequential](./images/Screen%20Shot%202022-11-08%20at%2013.58.03.png)"
   ]
  },
  {
   "cell_type": "markdown",
   "metadata": {},
   "source": [
    "![parallel vs sequential](./images/Screen%20Shot%202022-11-08%20at%2014.03.45.png)"
   ]
  }
 ],
 "metadata": {
  "kernelspec": {
   "display_name": "Python 3.10.8 64-bit",
   "language": "python",
   "name": "python3"
  },
  "language_info": {
   "name": "python",
   "version": "3.10.8"
  },
  "orig_nbformat": 4,
  "vscode": {
   "interpreter": {
    "hash": "aee8b7b246df8f9039afb4144a1f6fd8d2ca17a180786b69acc140d282b71a49"
   }
  }
 },
 "nbformat": 4,
 "nbformat_minor": 2
}
