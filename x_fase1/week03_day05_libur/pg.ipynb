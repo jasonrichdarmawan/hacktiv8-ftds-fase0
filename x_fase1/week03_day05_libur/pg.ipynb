{
 "cells": [
  {
   "cell_type": "markdown",
   "metadata": {},
   "source": [
    "Imbalanced dataset:\n",
    "1. Use macro average if you want to treat all classes equally.\n",
    "2. Use weighted average if you want to give greater weight to the majority class."
   ]
  },
  {
   "cell_type": "code",
   "execution_count": 13,
   "metadata": {},
   "outputs": [
    {
     "name": "stdout",
     "output_type": "stream",
     "text": [
      "[[1 0 0]\n",
      " [1 0 0]\n",
      " [0 1 2]]\n",
      "              precision    recall  f1-score   support\n",
      "\n",
      "     class 0       0.50      1.00      0.67         1\n",
      "     class 1       0.00      0.00      0.00         1\n",
      "     class 2       1.00      0.67      0.80         3\n",
      "\n",
      "    accuracy                           0.60         5\n",
      "   macro avg       0.50      0.56      0.49         5\n",
      "weighted avg       0.70      0.60      0.61         5\n",
      "\n"
     ]
    }
   ],
   "source": [
    "from sklearn.metrics import classification_report, confusion_matrix\n",
    "\n",
    "y_true = [0, 1, 2, 2, 2]\n",
    "y_pred = [0, 0, 2, 2, 1]\n",
    "target_names = ['class 0', 'class 1', 'class 2']\n",
    "\n",
    "print(confusion_matrix(y_true, y_pred))\n",
    "\n",
    "print(classification_report(y_true, y_pred, target_names=target_names))"
   ]
  },
  {
   "cell_type": "markdown",
   "metadata": {},
   "source": [
    "**Support**\n",
    "> [Support is the number of actual occurrences of the class in the specified dataset. Imbalanced support in the training data may indicate structural weaknesses in the reported scores of the classifier and could indicate the need for stratified sampling or rebalancing.](https://www.scikit-yb.org/en/latest/api/classifier/classification_report.html#:~:text=not%20global%20accuracy.-,support,for%20stratified%20sampling%20or%20rebalancing.)"
   ]
  },
  {
   "cell_type": "markdown",
   "metadata": {},
   "source": [
    "![screen](./images/Screen%20Shot%202022-11-18%20at%2015.22.19.png)"
   ]
  },
  {
   "cell_type": "code",
   "execution_count": 53,
   "metadata": {},
   "outputs": [
    {
     "name": "stdout",
     "output_type": "stream",
     "text": [
      "            precision   recall  f1-score\n",
      "\n",
      "     class 0     0.50     1.00      0.67\n",
      "     class 1     0.00     0.00      0.00\n",
      "     class 2     1.00     0.67      0.80\n",
      "\n",
      "    accuracy                        0.60\n",
      "   macro avg     0.50     0.56      0.49\n",
      "weighted avg     0.70     0.60      0.61\n"
     ]
    }
   ],
   "source": [
    "# False Positive is you GUESS it as Positive but it actually Negative.\n",
    "# False Negative is you fail to FIND it as Positive.\n",
    "# Precision is how many of your GUESS for Positive is correct / sum guess of positive.\n",
    "# Recall is how many that of Positive did you FIND / sum Positive. \n",
    "print(\"            precision   recall  f1-score\")\n",
    "print(\"\")\n",
    "print(\"     class 0     %.2f     %.2f      %.2f\" % ( 1/2,\n",
    "                                                     1/1,\n",
    "                                                     (1 / (1 + 1/2*(1+0))) ) )\n",
    "print(\"     class 1     %.2f     %.2f      %.2f\" % ( 0/1,\n",
    "                                                     0/1,\n",
    "                                                     (0 / (0 + 1/2*(1+1))) ) )\n",
    "print(\"     class 2     %.2f     %.2f      %.2f\" % ( 2/2, \n",
    "                                                     2/3, \n",
    "                                                     (2 / (2 + 1/2*(0+1))) ) )\n",
    "print(\"\")\n",
    "# accuracy is accuracy (if you guess it correct 1 out of 2, then it's 0.5)\n",
    "# or in more complex way:\n",
    "# Corrected guess / (sum guess related to that class including False Positive and False Negative)\n",
    "# True Positive / ( TP + 1/2*( FP + FN ) )\n",
    "print(\"    accuracy                        %.2f\" % ( (1+0+2) / 5 ) )\n",
    "# macro avg is arithmetic mean\n",
    "# macro avg treats all classes equally.\n",
    "print(\"   macro avg     %.2f     %.2f      %.2f\" % ( ((0.50 + 0 + 1) / 3), \n",
    "                                                     ((1 + 0 + 0.67) / 3), \n",
    "                                                     ((0.67 + 0 +0.8)/3) ) )\n",
    "# weighted average is calculated against the support proportion\n",
    "print(\"weighted avg     %.2f     %.2f      %.2f\" % ( ((0.50 * 1/5) + (0 * 1/5) + (1 * 3/5)),\n",
    "                                                     ((1 * 1/5) + (0 * 1/5) + (0.67 * 3/5)), \n",
    "                                                     ((0.67 * 1/5) + (0 * 1/5) + (0.8 * 3/5)) ) )"
   ]
  }
 ],
 "metadata": {
  "kernelspec": {
   "display_name": "Python 3.10.8 64-bit",
   "language": "python",
   "name": "python3"
  },
  "language_info": {
   "codemirror_mode": {
    "name": "ipython",
    "version": 3
   },
   "file_extension": ".py",
   "mimetype": "text/x-python",
   "name": "python",
   "nbconvert_exporter": "python",
   "pygments_lexer": "ipython3",
   "version": "3.10.8"
  },
  "orig_nbformat": 4,
  "vscode": {
   "interpreter": {
    "hash": "aee8b7b246df8f9039afb4144a1f6fd8d2ca17a180786b69acc140d282b71a49"
   }
  }
 },
 "nbformat": 4,
 "nbformat_minor": 2
}
