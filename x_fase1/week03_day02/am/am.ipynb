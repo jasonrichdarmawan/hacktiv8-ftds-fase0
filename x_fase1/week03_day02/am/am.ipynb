{
 "cells": [
  {
   "cell_type": "markdown",
   "metadata": {},
   "source": [
    "![hard and soft clustering](./images/Screen%20Shot%202022-11-15%20at%2009.59.33.png)"
   ]
  },
  {
   "cell_type": "markdown",
   "metadata": {},
   "source": [
    "![centroid-based clustering](./images/Screen%20Shot%202022-11-15%20at%2010.01.39.png)\n",
    "\n",
    "outliers akan mempegaruhi cluster."
   ]
  },
  {
   "cell_type": "markdown",
   "metadata": {},
   "source": [
    "![density-based clustering](./images/Screen%20Shot%202022-11-15%20at%2010.05.21.png)\n",
    "\n",
    "outliers tidak aka menjadi cluster."
   ]
  },
  {
   "cell_type": "markdown",
   "metadata": {},
   "source": [
    "![distribution-based clustering](./images/Screen%20Shot%202022-11-15%20at%2010.08.43.png)"
   ]
  },
  {
   "cell_type": "markdown",
   "metadata": {},
   "source": [
    "![hierarchical clustering](./images/Screen%20Shot%202022-11-15%20at%2010.10.02.png)"
   ]
  },
  {
   "cell_type": "markdown",
   "metadata": {},
   "source": [
    "![elbow method](./images/Screen%20Shot%202022-11-15%20at%2010.12.01.png)"
   ]
  },
  {
   "cell_type": "markdown",
   "metadata": {},
   "source": [
    "![silhouette vallues](./images/Screen%20Shot%202022-11-15%20at%2010.18.05.png)"
   ]
  },
  {
   "cell_type": "markdown",
   "metadata": {},
   "source": [
    "![silhouette score](./images/Screen%20Shot%202022-11-15%20at%2010.22.13.png)\n",
    "\n",
    "harus divisualisasikan!"
   ]
  },
  {
   "cell_type": "markdown",
   "metadata": {},
   "source": [
    "![disadvantage of k-means](./images/Screen%20Shot%202022-11-15%20at%2010.31.41.png)"
   ]
  },
  {
   "cell_type": "markdown",
   "metadata": {},
   "source": [
    "![k means++](./images/Screen%20Shot%202022-11-15%20at%2010.32.58.png)"
   ]
  },
  {
   "cell_type": "markdown",
   "metadata": {},
   "source": [
    "![k-means advantages](./images/Screen%20Shot%202022-11-15%20at%2010.34.32.png)"
   ]
  }
 ],
 "metadata": {
  "kernelspec": {
   "display_name": "Python 3.10.8 64-bit",
   "language": "python",
   "name": "python3"
  },
  "language_info": {
   "name": "python",
   "version": "3.10.8"
  },
  "orig_nbformat": 4,
  "vscode": {
   "interpreter": {
    "hash": "aee8b7b246df8f9039afb4144a1f6fd8d2ca17a180786b69acc140d282b71a49"
   }
  }
 },
 "nbformat": 4,
 "nbformat_minor": 2
}
