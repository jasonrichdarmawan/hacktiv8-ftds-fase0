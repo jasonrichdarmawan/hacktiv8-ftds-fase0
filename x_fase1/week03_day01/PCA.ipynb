{
  "cells": [
    {
      "cell_type": "code",
      "execution_count": 1,
      "metadata": {
        "id": "KPivIma_Yydu"
      },
      "outputs": [],
      "source": [
        "import numpy as np\n",
        "import pandas as pd\n",
        "import matplotlib.pyplot as plt\n",
        "import seaborn as sns"
      ]
    },
    {
      "cell_type": "code",
      "execution_count": 3,
      "metadata": {
        "id": "TI2xIMgIY3PI"
      },
      "outputs": [],
      "source": [
        "df = pd.read_csv(\"https://raw.githubusercontent.com/DianCA26/Dataset/main/CarPrice_Assignment.csv\")"
      ]
    },
    {
      "cell_type": "code",
      "execution_count": 4,
      "metadata": {
        "colab": {
          "base_uri": "https://localhost:8080/"
        },
        "id": "GREee6MUgM-H",
        "outputId": "9353100a-d755-4301-b9e5-3c14132c492d"
      },
      "outputs": [
        {
          "data": {
            "text/plain": [
              "['car_ID',\n",
              " 'symboling',\n",
              " 'wheelbase',\n",
              " 'carlength',\n",
              " 'carwidth',\n",
              " 'carheight',\n",
              " 'curbweight',\n",
              " 'enginesize',\n",
              " 'boreratio',\n",
              " 'stroke',\n",
              " 'compressionratio',\n",
              " 'horsepower',\n",
              " 'peakrpm',\n",
              " 'citympg',\n",
              " 'highwaympg',\n",
              " 'price']"
            ]
          },
          "execution_count": 4,
          "metadata": {},
          "output_type": "execute_result"
        }
      ],
      "source": [
        "df.select_dtypes(include=np.number).columns.tolist()"
      ]
    },
    {
      "cell_type": "code",
      "execution_count": 5,
      "metadata": {
        "id": "Z1s_g6FNY7Aw"
      },
      "outputs": [],
      "source": [
        "X = df[['symboling',\n",
        " 'wheelbase',\n",
        " 'carlength',\n",
        " 'carwidth',\n",
        " 'carheight',\n",
        " 'curbweight',\n",
        " 'enginesize',\n",
        " 'boreratio',\n",
        " 'stroke',\n",
        " 'compressionratio',\n",
        " 'horsepower',\n",
        " 'peakrpm',\n",
        " 'citympg',\n",
        " 'highwaympg']]\n",
        "y = df['price']"
      ]
    },
    {
      "cell_type": "code",
      "execution_count": 6,
      "metadata": {
        "id": "pF_n8PulY_gR"
      },
      "outputs": [],
      "source": [
        "from sklearn.model_selection import train_test_split\n",
        "X_train, X_test, y_train, y_test = train_test_split(X, y, test_size=0.2, random_state=26)"
      ]
    },
    {
      "cell_type": "code",
      "execution_count": 7,
      "metadata": {
        "id": "w5IOTx9TZQ4B"
      },
      "outputs": [],
      "source": [
        "from sklearn.preprocessing import StandardScaler\n",
        "sc=StandardScaler()\n",
        "sc.fit(X_train)\n",
        "X_train_sc=sc.transform(X_train)\n",
        "X_test_sc=sc.transform(X_test)"
      ]
    },
    {
      "cell_type": "code",
      "execution_count": 8,
      "metadata": {
        "id": "M9GSBzrAkZXo"
      },
      "outputs": [],
      "source": [
        "from sklearn.decomposition import PCA\n",
        "pca = PCA()\n",
        "pca.fit(X_train_sc)\n",
        "cumsum = np.cumsum(pca.explained_variance_ratio_)\n",
        "d = np.argmax(cumsum >= 0.95) + 1"
      ]
    },
    {
      "cell_type": "code",
      "execution_count": 9,
      "metadata": {
        "colab": {
          "base_uri": "https://localhost:8080/",
          "height": 283
        },
        "id": "P33QoarnkVMf",
        "outputId": "69223fa6-4c22-4c7d-833c-f6f541aff6eb"
      },
      "outputs": [
        {
          "data": {
            "image/png": "[encoded data removed]",
            "text/plain": [
              "<Figure size 600x400 with 1 Axes>"
            ]
          },
          "metadata": {},
          "output_type": "display_data"
        }
      ],
      "source": [
        "plt.figure(figsize=(6,4))\n",
        "plt.plot(cumsum, linewidth=3)\n",
        "plt.axis([0, 14, 0, 1])\n",
        "plt.xlabel(\"Dimensions\")\n",
        "plt.ylabel(\"Explained Variance\")\n",
        "plt.plot([d, d], [0, 0.95], \"k:\")\n",
        "plt.plot([0, d], [0.95, 0.95], \"k:\")\n",
        "plt.plot(d, 0.95, \"ko\")\n",
        "plt.grid(True)\n",
        "plt.show()"
      ]
    },
    {
      "cell_type": "code",
      "execution_count": 10,
      "metadata": {
        "id": "12HeODghiMbC"
      },
      "outputs": [],
      "source": [
        "pca = PCA(n_components=8)\n",
        "pca.fit(X_train_sc)\n",
        "X_reduced = pca.transform(X_train_sc)\n",
        "X_reduced_test = pca.transform(X_test_sc)"
      ]
    },
    {
      "cell_type": "code",
      "execution_count": 11,
      "metadata": {
        "id": "U7uKxyyKZCj-"
      },
      "outputs": [],
      "source": [
        "from sklearn.svm import SVR\n",
        "model = SVR(kernel=\"poly\", degree=3,C=1000,epsilon=0.01)\n",
        "model.fit(X_reduced, y_train)\n",
        "y_train_pred = model.predict(X_reduced)\n",
        "y_test_pred = model.predict(X_reduced_test)"
      ]
    },
    {
      "cell_type": "code",
      "execution_count": 12,
      "metadata": {
        "colab": {
          "base_uri": "https://localhost:8080/"
        },
        "id": "2yZf-srFlKSR",
        "outputId": "ded0b933-c34b-475e-b6d2-cee3ec6900d1"
      },
      "outputs": [
        {
          "name": "stdout",
          "output_type": "stream",
          "text": [
            "MAE train =  2410.9832381191927\n",
            "MAE test =  2451.112221547899\n",
            "MSE train =  18225706.135280546\n",
            "MSE test =  21976605.659454495\n",
            "RMSE train =  4269.157543975221\n",
            "RMSE test =  4687.921251413519\n",
            "r2score train =  0.7308656593123928\n",
            "r2score test =  0.5144144708544596\n"
          ]
        }
      ],
      "source": [
        "from sklearn.metrics import mean_absolute_error,mean_squared_error,r2_score\n",
        "\n",
        "print('MAE train = ', mean_absolute_error(y_train, y_train_pred))\n",
        "print('MAE test = ', mean_absolute_error(y_test, y_test_pred))\n",
        "\n",
        "print('MSE train = ', mean_squared_error(y_train, y_train_pred))\n",
        "print('MSE test = ', mean_squared_error(y_test, y_test_pred))\n",
        "\n",
        "print('RMSE train = ', np.sqrt(mean_squared_error(y_train, y_train_pred)))\n",
        "print('RMSE test = ', np.sqrt(mean_squared_error(y_test, y_test_pred)))\n",
        "\n",
        "print('r2score train = ', r2_score(y_train, y_train_pred))\n",
        "print('r2score test = ', r2_score(y_test, y_test_pred))\n"
      ]
    },
    {
      "cell_type": "markdown",
      "metadata": {
        "id": "AQrrUn2FiNYJ"
      },
      "source": [
        "# **Pipeline**"
      ]
    },
    {
      "cell_type": "code",
      "execution_count": null,
      "metadata": {
        "id": "hbP4LqeRnwLe"
      },
      "outputs": [],
      "source": [
        "from sklearn.pipeline import Pipeline"
      ]
    },
    {
      "cell_type": "code",
      "execution_count": null,
      "metadata": {
        "colab": {
          "base_uri": "https://localhost:8080/"
        },
        "id": "OZK3jMhkZDSe",
        "outputId": "03b81b68-7a73-4f8f-ab4c-66718fed63b8"
      },
      "outputs": [
        {
          "data": {
            "text/plain": [
              "Pipeline(steps=[('scale', StandardScaler()), ('pca', PCA(n_components=8)),\n",
              "                ('svr', SVR(C=1000, epsilon=0.01, kernel='poly'))])"
            ]
          },
          "execution_count": 13,
          "metadata": {},
          "output_type": "execute_result"
        }
      ],
      "source": [
        "pipe = Pipeline([(\"scale\", StandardScaler()),\n",
        "                 (\"pca\",PCA(n_components=8)),\n",
        "                 (\"svr\", SVR(kernel='poly',degree=3,C=1000,epsilon=0.01))])\n",
        "pipe.fit(X_train,y_train)"
      ]
    },
    {
      "cell_type": "code",
      "execution_count": null,
      "metadata": {
        "id": "7dw-Lk_sohuA"
      },
      "outputs": [],
      "source": [
        "y_train_pred = pipe.predict(X_train)\n",
        "y_test_pred = pipe.predict(X_test)"
      ]
    },
    {
      "cell_type": "code",
      "execution_count": null,
      "metadata": {
        "colab": {
          "base_uri": "https://localhost:8080/"
        },
        "id": "f_XYfycKozx-",
        "outputId": "55a7215a-1aea-4be6-f6bf-6eeb8418a93c"
      },
      "outputs": [
        {
          "name": "stdout",
          "output_type": "stream",
          "text": [
            "MAE train =  2410.9832381191945\n",
            "MAE test =  2451.1122215479027\n",
            "MSE train =  18225706.135280598\n",
            "MSE test =  21976605.65945438\n",
            "RMSE train =  4269.157543975228\n",
            "RMSE test =  4687.921251413507\n",
            "r2score train =  0.7308656593123919\n",
            "r2score test =  0.514414470854462\n"
          ]
        }
      ],
      "source": [
        "print('MAE train = ', mean_absolute_error(y_train, y_train_pred))\n",
        "print('MAE test = ', mean_absolute_error(y_test, y_test_pred))\n",
        "\n",
        "print('MSE train = ', mean_squared_error(y_train, y_train_pred))\n",
        "print('MSE test = ', mean_squared_error(y_test, y_test_pred))\n",
        "\n",
        "print('RMSE train = ', np.sqrt(mean_squared_error(y_train, y_train_pred)))\n",
        "print('RMSE test = ', np.sqrt(mean_squared_error(y_test, y_test_pred)))\n",
        "\n",
        "print('r2score train = ', r2_score(y_train, y_train_pred))\n",
        "print('r2score test = ', r2_score(y_test, y_test_pred))\n"
      ]
    },
    {
      "cell_type": "markdown",
      "metadata": {
        "id": "s42ZIJhOoNRc"
      },
      "source": [
        "# **GridSearch**"
      ]
    },
    {
      "cell_type": "code",
      "execution_count": null,
      "metadata": {
        "id": "H3baX726l03A"
      },
      "outputs": [],
      "source": [
        "from sklearn.model_selection import GridSearchCV"
      ]
    },
    {
      "cell_type": "code",
      "execution_count": null,
      "metadata": {
        "id": "_uHaiElLl5YZ"
      },
      "outputs": [],
      "source": [
        "param_grid = [{'kernel': ['rbf'],\n",
        "               'C': [0.001, 0.01, 0.1, 1, 10, 100],\n",
        "               'gamma': [0.001, 0.01, 0.1, 1, 10, 100]},\n",
        "              {'kernel': ['linear'],\n",
        "               'C': [0.001, 0.01, 0.1, 1, 10, 100]},\n",
        "              {'kernel': ['poly'],\n",
        "               'degree': [2,3,4,5,6,7,8],\n",
        "               'epsilon': [0.01, 0.02, 0.05, 1, 10, 100, 1000],\n",
        "               'C': [0.001, 0.01, 0.1, 1, 10, 100, 1000, 10000, 100000]}]"
      ]
    },
    {
      "cell_type": "code",
      "execution_count": null,
      "metadata": {
        "colab": {
          "base_uri": "https://localhost:8080/"
        },
        "id": "FIkvF2iil95C",
        "outputId": "6d232bb3-705b-4a51-f229-49286482fb51"
      },
      "outputs": [
        {
          "name": "stdout",
          "output_type": "stream",
          "text": [
            "Best parameters: {'C': 100, 'kernel': 'linear'}\n",
            "Best cross-validation score: 0.71\n"
          ]
        }
      ],
      "source": [
        "grid_search = GridSearchCV(SVR(), param_grid, cv=5, scoring=\"r2\")\n",
        "grid_search.fit(X_reduced, y_train)\n",
        "print(\"Best parameters: {}\".format(grid_search.best_params_))\n",
        "print(\"Best cross-validation score: {:.2f}\".format(grid_search.best_score_))"
      ]
    },
    {
      "cell_type": "code",
      "execution_count": null,
      "metadata": {
        "id": "S1wPVKEUnSsy"
      },
      "outputs": [],
      "source": [
        "y_train_pred=grid_search.best_estimator_.predict(X_reduced)\n",
        "y_test_pred=grid_search.best_estimator_.predict(X_reduced_test)"
      ]
    },
    {
      "cell_type": "code",
      "execution_count": null,
      "metadata": {
        "colab": {
          "base_uri": "https://localhost:8080/"
        },
        "id": "8rUOHpJ5nZDV",
        "outputId": "95759eef-f415-41fb-f67a-f787aef5c261"
      },
      "outputs": [
        {
          "name": "stdout",
          "output_type": "stream",
          "text": [
            "MAE train =  2338.9558006691095\n",
            "MAE test =  2264.5186700664467\n",
            "MSE train =  17041363.439304013\n",
            "MSE test =  8920244.142359426\n",
            "RMSE train =  4128.118631931986\n",
            "RMSE test =  2986.6777767880194\n",
            "r2score train =  0.7483545449700413\n",
            "r2score test =  0.8029021615487035\n"
          ]
        }
      ],
      "source": [
        "print('MAE train = ', mean_absolute_error(y_train, y_train_pred))\n",
        "print('MAE test = ', mean_absolute_error(y_test, y_test_pred))\n",
        "\n",
        "print('MSE train = ', mean_squared_error(y_train, y_train_pred))\n",
        "print('MSE test = ', mean_squared_error(y_test, y_test_pred))\n",
        "\n",
        "print('RMSE train = ', np.sqrt(mean_squared_error(y_train, y_train_pred)))\n",
        "print('RMSE test = ', np.sqrt(mean_squared_error(y_test, y_test_pred)))\n",
        "\n",
        "print('r2score train = ', r2_score(y_train, y_train_pred))\n",
        "print('r2score test = ', r2_score(y_test, y_test_pred))"
      ]
    },
    {
      "cell_type": "markdown",
      "metadata": {
        "id": "GBSt7PvRrTiH"
      },
      "source": [
        "# **Gridsearch_pipe**"
      ]
    },
    {
      "cell_type": "code",
      "execution_count": null,
      "metadata": {
        "id": "8SDvbUgHGsrL"
      },
      "outputs": [],
      "source": [
        "pipe = Pipeline([(\"scale\", StandardScaler()),\n",
        "                 (\"pca\",PCA(n_components=8)),\n",
        "                 (\"clf\", SVR(kernel='poly',degree=3,C=1000,epsilon=0.01))])"
      ]
    },
    {
      "cell_type": "code",
      "execution_count": null,
      "metadata": {
        "id": "SBmxIk9DGk4G"
      },
      "outputs": [],
      "source": [
        "param_grid = [{'kernel': ['rbf'],\n",
        "               'C': [0.001, 0.01, 0.1, 1, 10, 100],\n",
        "               'gamma': [0.001, 0.01, 0.1, 1, 10, 100]},\n",
        "              {'kernel': ['linear'],\n",
        "               'C': [0.001, 0.01, 0.1, 1, 10, 100]},\n",
        "              {'kernel': ['poly'],\n",
        "               'degree': [2,3,4,5,6,7,8],\n",
        "               'epsilon': [0.01, 0.02, 0.05, 1, 10, 100, 1000],\n",
        "               'C': [0.001, 0.01, 0.1, 1, 10, 100, 1000, 10000, 100000]}]"
      ]
    },
    {
      "cell_type": "code",
      "execution_count": null,
      "metadata": {
        "id": "GTL0FMjsq8ZY"
      },
      "outputs": [],
      "source": [
        "param_grid2 = [{'pca__kernel': [\"rbf\", \"sigmoid\"]},\n",
        "               {'svr__kernel': ['rbf'],\n",
        "               'svr__C': [0.001, 0.01, 0.1, 1, 10, 100],\n",
        "               'svr__gamma': [0.001, 0.01, 0.1, 1, 10, 100]},\n",
        "              {'svr__kernel': ['linear'],\n",
        "               'svr__C': [0.001, 0.01, 0.1, 1, 10, 100]},\n",
        "              {'svr__kernel': ['poly'],\n",
        "               'svr__degree': [2,3,4,5,6,7,8],\n",
        "               'svr__epsilon': [0.01, 0.02, 0.05, 1, 10, 100, 1000],\n",
        "               'svr__C': [0.001, 0.01, 0.1, 1, 10, 100, 1000, 10000, 100000]}]"
      ]
    },
    {
      "cell_type": "code",
      "execution_count": null,
      "metadata": {
        "colab": {
          "base_uri": "https://localhost:8080/"
        },
        "id": "iIWBC-enquVF",
        "outputId": "0f9b7058-731a-4dc4-f9c2-d08e6d49d5df"
      },
      "outputs": [
        {
          "data": {
            "text/plain": [
              "GridSearchCV(cv=5,\n",
              "             estimator=Pipeline(steps=[('scale', StandardScaler()),\n",
              "                                       ('pca', PCA(n_components=8)),\n",
              "                                       ('svr',\n",
              "                                        SVR(C=1000, epsilon=0.01,\n",
              "                                            kernel='poly'))]),\n",
              "             param_grid=[{'svr__C': [0.001, 0.01, 0.1, 1, 10, 100],\n",
              "                          'svr__gamma': [0.001, 0.01, 0.1, 1, 10, 100],\n",
              "                          'svr__kernel': ['rbf']},\n",
              "                         {'svr__C': [0.001, 0.01, 0.1, 1, 10, 100],\n",
              "                          'svr__kernel': ['linear']},\n",
              "                         {'svr__C': [0.001, 0.01, 0.1, 1, 10, 100, 1000, 10000,\n",
              "                                     100000],\n",
              "                          'svr__degree': [2, 3, 4, 5, 6, 7, 8],\n",
              "                          'svr__epsilon': [0.01, 0.02, 0.05, 1, 10, 100, 1000],\n",
              "                          'svr__kernel': ['poly']}])"
            ]
          },
          "execution_count": 29,
          "metadata": {},
          "output_type": "execute_result"
        }
      ],
      "source": [
        "grid_search_pipe = GridSearchCV(pipe, param_grid=param_grid2, cv=5, scoring=\"r2\")\n",
        "grid_search_pipe.fit(X_train,y_train)"
      ]
    },
    {
      "cell_type": "code",
      "execution_count": null,
      "metadata": {
        "colab": {
          "base_uri": "https://localhost:8080/"
        },
        "id": "c2fWSvdtsTFA",
        "outputId": "36aa0d87-0104-4176-9c16-64288cc6449e"
      },
      "outputs": [
        {
          "name": "stdout",
          "output_type": "stream",
          "text": [
            "Best parameters: {'svr__C': 100, 'svr__kernel': 'linear'}\n",
            "Best cross-validation score: 0.71\n"
          ]
        }
      ],
      "source": [
        "print(\"Best parameters: {}\".format(grid_search_pipe.best_params_))\n",
        "print(\"Best cross-validation score: {:.2f}\".format(grid_search_pipe.best_score_))"
      ]
    },
    {
      "cell_type": "code",
      "execution_count": null,
      "metadata": {
        "id": "XveCH6BOcfOR"
      },
      "outputs": [],
      "source": [
        "new=grid_search_pipe.best_estimator_"
      ]
    },
    {
      "cell_type": "code",
      "execution_count": null,
      "metadata": {
        "colab": {
          "base_uri": "https://localhost:8080/"
        },
        "id": "hfmVX3m3cssT",
        "outputId": "932e179f-a9db-41c2-a515-d600736f5c45"
      },
      "outputs": [
        {
          "data": {
            "text/plain": [
              "array([ 7897.98970275, 14065.36598204, 19059.71391289, 19699.01033502,\n",
              "        9894.65160838, 13839.41907445,  5464.8594931 , 10032.37557718,\n",
              "       11269.10283482, 17204.57701979, 17992.9935276 , 26041.77676377,\n",
              "       10000.38132417,  5076.20806581,  7692.93581211, 10866.72564361,\n",
              "       14112.07217582, 16500.00956966, 11875.05765166,  9428.23896047,\n",
              "        6541.44625615,  8191.57572317, 12638.98644882, 10948.64050751,\n",
              "       -1745.61494804,  5370.84288165, 12498.28038882, 15877.02040635,\n",
              "       14726.37950186, 14489.01004559, 23585.24545243, 10546.93388755,\n",
              "       15769.30427601, 14163.73800673, 12813.90703425, 10779.6626553 ,\n",
              "       20292.63143176, 21441.54942911, 18187.04445574, 24967.68339055,\n",
              "        7154.30363345,  7649.51806192, 18651.12916834, 12292.51113628,\n",
              "        6785.52108785,  7295.01034559,  8422.85892853, 30656.1238376 ,\n",
              "        6328.21446533,  6258.06915665, 16169.08944951, 18571.10260305,\n",
              "        5029.32332207,  9451.19879385, 19195.73797946, 29064.86398852,\n",
              "       11518.25904579,  9563.85641081,  6196.42630964,  9403.95882587,\n",
              "       19035.75549821, 20083.39181506, 17563.071288  , 33972.16128069,\n",
              "       12022.6359419 , 18164.10474791, 13648.25948627,  8782.94169502,\n",
              "       21554.0867149 , 15112.03171134, 18571.10260305, 10905.43336368,\n",
              "        9968.92769928,  6300.58146494, 13973.33284555, 11802.99896902,\n",
              "        6228.99008104, 22405.99234755, 20350.98566945,  4515.35500103,\n",
              "       11904.79674906,  7751.21430147, 10916.85975524,  5217.93867538,\n",
              "        9270.04505476, 17124.04523039, 10666.60246219, 15811.58262139,\n",
              "        8429.23577477,  6661.26864531, 10930.60476178, 18452.93004318,\n",
              "       19348.3890933 , 10117.40019376, 10941.12218311,  8643.27559523,\n",
              "       12103.49527928, 10814.07493447, 10927.48783231, 10666.60246219,\n",
              "        6029.80674965, 18998.55541565,  6228.99008104,  5942.92661054,\n",
              "        6326.55361384,  7880.6817523 ,  6771.51568638, 10795.01029027,\n",
              "       12260.62690506,  8961.14971597, 11251.77257984,  7918.94282976,\n",
              "        7377.18441488,  5934.91356477,  8627.02315812, 18273.50443194,\n",
              "        8643.27559523,  6370.72677362,  6512.14044633, 18664.62968128,\n",
              "       24120.90680713, 16660.46282043, 16845.00924636,  5029.32332207,\n",
              "        9818.65665839,  7369.31030931, 10047.14486328,  5924.28548769,\n",
              "        7434.57986959, 11215.74083904, 14478.38196852,  5581.09780529,\n",
              "       19105.09727961, 11020.2793747 , 22597.96434616, 19227.18123774,\n",
              "       14609.47065407, 18054.70337669, 26041.77676377, 14309.36355778,\n",
              "       10916.85975524, 10926.75229646,  5996.0669959 , 12564.58990932,\n",
              "       10758.44616984,  8946.76035772, 12592.28238248, 18988.18843182,\n",
              "       19412.7962818 , 17662.1812408 , 16007.89326584,  9263.66820852,\n",
              "       11649.58525308, 10376.99543621,  6269.13444125, 15735.75072227,\n",
              "        5892.12342426,  6384.60352147, 19542.48164507, 12319.45340039,\n",
              "       10897.99065307, 18219.11234759, 10782.19070326,  6406.10426541])"
            ]
          },
          "execution_count": 27,
          "metadata": {},
          "output_type": "execute_result"
        }
      ],
      "source": [
        "new.predict(X_train)"
      ]
    },
    {
      "cell_type": "code",
      "execution_count": null,
      "metadata": {
        "id": "1CwufXl2rtaF"
      },
      "outputs": [],
      "source": [
        "y_train_pred=grid_search_pipe.best_estimator_.predict(X_train)\n",
        "y_test_pred=grid_search_pipe.best_estimator_.predict(X_test)"
      ]
    },
    {
      "cell_type": "code",
      "execution_count": null,
      "metadata": {
        "colab": {
          "base_uri": "https://localhost:8080/"
        },
        "id": "sr2M7iitrxLD",
        "outputId": "6552f028-690c-4758-e1d8-795b21caab5c"
      },
      "outputs": [
        {
          "name": "stdout",
          "output_type": "stream",
          "text": [
            "MAE train =  2338.9623180063136\n",
            "MAE test =  2264.525915413965\n",
            "MSE train =  17041668.43784135\n",
            "MSE test =  8920326.329595285\n",
            "RMSE train =  4128.15557335735\n",
            "RMSE test =  2986.6915357290054\n",
            "r2score train =  0.7483500411346538\n",
            "r2score test =  0.8029003455752528\n"
          ]
        }
      ],
      "source": [
        "print('MAE train = ', mean_absolute_error(y_train, y_train_pred))\n",
        "print('MAE test = ', mean_absolute_error(y_test, y_test_pred))\n",
        "\n",
        "print('MSE train = ', mean_squared_error(y_train, y_train_pred))\n",
        "print('MSE test = ', mean_squared_error(y_test, y_test_pred))\n",
        "\n",
        "print('RMSE train = ', np.sqrt(mean_squared_error(y_train, y_train_pred)))\n",
        "print('RMSE test = ', np.sqrt(mean_squared_error(y_test, y_test_pred)))\n",
        "\n",
        "print('r2score train = ', r2_score(y_train, y_train_pred))\n",
        "print('r2score test = ', r2_score(y_test, y_test_pred))"
      ]
    }
  ],
  "metadata": {
    "colab": {
      "collapsed_sections": [],
      "provenance": []
    },
    "kernelspec": {
      "display_name": "Python 3.10.8 64-bit",
      "language": "python",
      "name": "python3"
    },
    "language_info": {
      "codemirror_mode": {
        "name": "ipython",
        "version": 3
      },
      "file_extension": ".py",
      "mimetype": "text/x-python",
      "name": "python",
      "nbconvert_exporter": "python",
      "pygments_lexer": "ipython3",
      "version": "3.10.8"
    },
    "vscode": {
      "interpreter": {
        "hash": "aee8b7b246df8f9039afb4144a1f6fd8d2ca17a180786b69acc140d282b71a49"
      }
    }
  },
  "nbformat": 4,
  "nbformat_minor": 0
}
