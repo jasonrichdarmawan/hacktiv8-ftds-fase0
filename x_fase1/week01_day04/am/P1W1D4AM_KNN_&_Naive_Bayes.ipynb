{
  "cells": [
    {
      "cell_type": "markdown",
      "metadata": {
        "id": "ivMftTmJje1x"
      },
      "source": [
        "# A. KNN"
      ]
    },
    {
      "cell_type": "markdown",
      "metadata": {
        "id": "6WC2oegIIUwh"
      },
      "source": [
        "## A.1. Introduction"
      ]
    },
    {
      "cell_type": "markdown",
      "metadata": {
        "id": "y3E2WH6Bje1y"
      },
      "source": [
        "### Import Libraries"
      ]
    },
    {
      "cell_type": "markdown",
      "metadata": {
        "id": "95Y6FT3lhGG2"
      },
      "source": [
        "First, let's import some libraries that we will use to demonstrate K - Nearest Neighbor."
      ]
    },
    {
      "cell_type": "code",
      "execution_count": 202,
      "metadata": {
        "id": "wj6Cw5Kfje1y"
      },
      "outputs": [],
      "source": [
        "# Import Libraris\n",
        "\n",
        "import time\n",
        "import pandas as pd\n",
        "import numpy as np\n",
        "import matplotlib.pyplot as plt\n",
        "from sklearn.neighbors import NearestNeighbors, KNeighborsClassifier\n",
        "from sklearn.linear_model import LogisticRegression\n",
        "from sklearn.preprocessing import StandardScaler\n",
        "from sklearn.model_selection import train_test_split\n",
        "from sklearn.metrics import roc_curve, auc,roc_auc_score\n",
        "\n",
        "%matplotlib inline"
      ]
    },
    {
      "cell_type": "markdown",
      "metadata": {
        "id": "Stq11cE2je1z"
      },
      "source": [
        "### Generate sample data"
      ]
    },
    {
      "cell_type": "code",
      "execution_count": 203,
      "metadata": {
        "id": "nek0Tci2je10"
      },
      "outputs": [],
      "source": [
        "# Function for Generate Data that will be Used by KNN\n",
        "\n",
        "def generate_sample(x1_center, x2_center, max_radius, num_samples, ymax=999, ymin=-999):\n",
        "    i = 0\n",
        "    x1_list = []\n",
        "    x2_list = []\n",
        "    x1_min = x1_center - max_radius\n",
        "    x1_max = x1_center + max_radius\n",
        "    x2_min = x2_center - max_radius\n",
        "    x2_max = x2_center + max_radius\n",
        "    while i < num_samples:\n",
        "        x1 = np.random.uniform(x1_min, x1_max)\n",
        "        x2 = np.random.uniform(x2_min, x2_max)\n",
        "        mag_data = np.power(x1 - x1_center, 2) + np.power(x2 - x2_center, 2)\n",
        "        if (\n",
        "            (mag_data <= np.power(max_radius, 2))\n",
        "            & (x2 > ymin)\n",
        "            & (x2 < ymax)\n",
        "        ):\n",
        "            x1_list.append(x1)\n",
        "            x2_list.append(x2)\n",
        "            i = i + 1\n",
        "        else:\n",
        "            continue\n",
        "\n",
        "    return np.vstack((x1_list, x2_list)).T"
      ]
    },
    {
      "cell_type": "code",
      "execution_count": 204,
      "metadata": {
        "id": "ILPXiIS4je11"
      },
      "outputs": [],
      "source": [
        "# Generate Dataset\n",
        "\n",
        "x1_centers = [0, 0, 2]\n",
        "x2_centers = [0, 2, 0]\n",
        "num_data = 50\n",
        "\n",
        "datas = []\n",
        "for i in range(0,len(x1_centers)):\n",
        "    datas.append(generate_sample(x1_centers[i], x2_centers[i], 1.5, num_data))\n",
        "    \n",
        "X = np.vstack(datas)\n",
        "y = list(np.hstack([[1] * num_data,[2] * num_data,[3] * num_data]))"
      ]
    },
    {
      "cell_type": "code",
      "execution_count": 205,
      "metadata": {
        "colab": {
          "base_uri": "https://localhost:8080/"
        },
        "id": "HCAWi8nxccVp",
        "outputId": "e8f21c5e-de96-408e-c4b2-8cfa3e14ae21"
      },
      "outputs": [
        {
          "name": "stdout",
          "output_type": "stream",
          "text": [
            "First 10 Data\n",
            "X :  [[ 9.57104381e-01 -2.00918959e-01]\n",
            " [-6.59892027e-01 -1.99526573e-01]\n",
            " [ 1.24275927e+00  8.75647008e-02]\n",
            " [-1.22035564e+00 -8.51380537e-01]\n",
            " [ 1.17328868e+00 -3.05098173e-01]\n",
            " [ 5.50768468e-01 -6.24355410e-01]\n",
            " [ 9.73978447e-04  1.37417569e+00]\n",
            " [ 1.43002640e+00  2.57704934e-01]\n",
            " [ 1.53649787e-01  1.12098831e+00]\n",
            " [-6.32735505e-01  1.70286260e-01]]\n",
            "y :  [1, 1, 1, 1, 1, 1, 1, 1, 1, 1]\n",
            "\n",
            "Number of Total Data per Class\n",
            "Class :  1  - Count :  50\n",
            "Class :  2  - Count :  50\n",
            "Class :  3  - Count :  50\n"
          ]
        }
      ],
      "source": [
        "# Display Data\n",
        "\n",
        "## Display First 10 Data from X and y\n",
        "print('First 10 Data')\n",
        "print('X : ', X[:10])\n",
        "print('y : ', y[:10])\n",
        "print('')\n",
        "\n",
        "## Display Number of Total Data per Class\n",
        "print('Number of Total Data per Class')\n",
        "for cls in list(set(y)):\n",
        "  print('Class : ', cls, ' - Count : ', y.count(cls))"
      ]
    },
    {
      "cell_type": "code",
      "execution_count": 206,
      "metadata": {
        "colab": {
          "base_uri": "https://localhost:8080/",
          "height": 286
        },
        "id": "-rByGvt3je12",
        "outputId": "6bd3c0e2-7e81-492c-ed5d-14f4704a9368"
      },
      "outputs": [
        {
          "data": {
            "text/plain": [
              "(-2.0, 4.0)"
            ]
          },
          "execution_count": 206,
          "metadata": {},
          "output_type": "execute_result"
        },
        {
          "data": {
            "image/png": "[encoded data removed]",
            "text/plain": [
              "<Figure size 640x480 with 1 Axes>"
            ]
          },
          "metadata": {},
          "output_type": "display_data"
        }
      ],
      "source": [
        "# Visualization of Dataset\n",
        "\n",
        "plt.scatter(X[:,0], X[:,1], c=y)\n",
        "plt.xlim(-2,4)\n",
        "plt.ylim(-2,4)"
      ]
    },
    {
      "cell_type": "markdown",
      "metadata": {
        "id": "wN3o7M5Ckbqk"
      },
      "source": [
        "Color description from above graph :\n",
        "* Class `1` : Purple\n",
        "* Class `2` : Green\n",
        "* Class `3` : Yellow"
      ]
    },
    {
      "cell_type": "code",
      "execution_count": 207,
      "metadata": {
        "id": "mHI177_An43B"
      },
      "outputs": [],
      "source": [
        "# Save the Colors into a Dictionary\n",
        "\n",
        "class_colors = {\n",
        "    '1': 'purple',\n",
        "    '2': 'green',\n",
        "    '3': 'yellow'\n",
        "}"
      ]
    },
    {
      "cell_type": "markdown",
      "metadata": {
        "id": "5H2Lv1uQje13"
      },
      "source": [
        "### Nearest Neighbors\n",
        "\n",
        "Let's find the neighbors of two test data on the previously created dataset. To do that, we are going to implement module `NearestNeighbors` from Scikit-learn."
      ]
    },
    {
      "cell_type": "code",
      "execution_count": 208,
      "metadata": {
        "id": "cemsK1Wrje14"
      },
      "outputs": [],
      "source": [
        "# Define Two Test Data\n",
        "\n",
        "X_sample = np.array(([0,1],[1,0]))"
      ]
    },
    {
      "cell_type": "code",
      "execution_count": 209,
      "metadata": {
        "colab": {
          "base_uri": "https://localhost:8080/"
        },
        "id": "yDknxYDqje13",
        "outputId": "cf79f578-4d89-448a-889a-e9a20f9c2c2b"
      },
      "outputs": [
        {
          "data": {
            "text/html": [
              "<style>#sk-container-id-25 {color: black;background-color: white;}#sk-container-id-25 pre{padding: 0;}#sk-container-id-25 div.sk-toggleable {background-color: white;}#sk-container-id-25 label.sk-toggleable__label {cursor: pointer;display: block;width: 100%;margin-bottom: 0;padding: 0.3em;box-sizing: border-box;text-align: center;}#sk-container-id-25 label.sk-toggleable__label-arrow:before {content: \"▸\";float: left;margin-right: 0.25em;color: #696969;}#sk-container-id-25 label.sk-toggleable__label-arrow:hover:before {color: black;}#sk-container-id-25 div.sk-estimator:hover label.sk-toggleable__label-arrow:before {color: black;}#sk-container-id-25 div.sk-toggleable__content {max-height: 0;max-width: 0;overflow: hidden;text-align: left;background-color: #f0f8ff;}#sk-container-id-25 div.sk-toggleable__content pre {margin: 0.2em;color: black;border-radius: 0.25em;background-color: #f0f8ff;}#sk-container-id-25 input.sk-toggleable__control:checked~div.sk-toggleable__content {max-height: 200px;max-width: 100%;overflow: auto;}#sk-container-id-25 input.sk-toggleable__control:checked~label.sk-toggleable__label-arrow:before {content: \"▾\";}#sk-container-id-25 div.sk-estimator input.sk-toggleable__control:checked~label.sk-toggleable__label {background-color: #d4ebff;}#sk-container-id-25 div.sk-label input.sk-toggleable__control:checked~label.sk-toggleable__label {background-color: #d4ebff;}#sk-container-id-25 input.sk-hidden--visually {border: 0;clip: rect(1px 1px 1px 1px);clip: rect(1px, 1px, 1px, 1px);height: 1px;margin: -1px;overflow: hidden;padding: 0;position: absolute;width: 1px;}#sk-container-id-25 div.sk-estimator {font-family: monospace;background-color: #f0f8ff;border: 1px dotted black;border-radius: 0.25em;box-sizing: border-box;margin-bottom: 0.5em;}#sk-container-id-25 div.sk-estimator:hover {background-color: #d4ebff;}#sk-container-id-25 div.sk-parallel-item::after {content: \"\";width: 100%;border-bottom: 1px solid gray;flex-grow: 1;}#sk-container-id-25 div.sk-label:hover label.sk-toggleable__label {background-color: #d4ebff;}#sk-container-id-25 div.sk-serial::before {content: \"\";position: absolute;border-left: 1px solid gray;box-sizing: border-box;top: 0;bottom: 0;left: 50%;z-index: 0;}#sk-container-id-25 div.sk-serial {display: flex;flex-direction: column;align-items: center;background-color: white;padding-right: 0.2em;padding-left: 0.2em;position: relative;}#sk-container-id-25 div.sk-item {position: relative;z-index: 1;}#sk-container-id-25 div.sk-parallel {display: flex;align-items: stretch;justify-content: center;background-color: white;position: relative;}#sk-container-id-25 div.sk-item::before, #sk-container-id-25 div.sk-parallel-item::before {content: \"\";position: absolute;border-left: 1px solid gray;box-sizing: border-box;top: 0;bottom: 0;left: 50%;z-index: -1;}#sk-container-id-25 div.sk-parallel-item {display: flex;flex-direction: column;z-index: 1;position: relative;background-color: white;}#sk-container-id-25 div.sk-parallel-item:first-child::after {align-self: flex-end;width: 50%;}#sk-container-id-25 div.sk-parallel-item:last-child::after {align-self: flex-start;width: 50%;}#sk-container-id-25 div.sk-parallel-item:only-child::after {width: 0;}#sk-container-id-25 div.sk-dashed-wrapped {border: 1px dashed gray;margin: 0 0.4em 0.5em 0.4em;box-sizing: border-box;padding-bottom: 0.4em;background-color: white;}#sk-container-id-25 div.sk-label label {font-family: monospace;font-weight: bold;display: inline-block;line-height: 1.2em;}#sk-container-id-25 div.sk-label-container {text-align: center;}#sk-container-id-25 div.sk-container {/* jupyter's `normalize.less` sets `[hidden] { display: none; }` but bootstrap.min.css set `[hidden] { display: none !important; }` so we also need the `!important` here to be able to override the default hidden behavior on the sphinx rendered scikit-learn.org. See: https://github.com/scikit-learn/scikit-learn/issues/21755 */display: inline-block !important;position: relative;}#sk-container-id-25 div.sk-text-repr-fallback {display: none;}</style><div id=\"sk-container-id-25\" class=\"sk-top-container\"><div class=\"sk-text-repr-fallback\"><pre>NearestNeighbors(n_neighbors=15)</pre><b>In a Jupyter environment, please rerun this cell to show the HTML representation or trust the notebook. <br />On GitHub, the HTML representation is unable to render, please try loading this page with nbviewer.org.</b></div><div class=\"sk-container\" hidden><div class=\"sk-item\"><div class=\"sk-estimator sk-toggleable\"><input class=\"sk-toggleable__control sk-hidden--visually\" id=\"sk-estimator-id-25\" type=\"checkbox\" checked><label for=\"sk-estimator-id-25\" class=\"sk-toggleable__label sk-toggleable__label-arrow\">NearestNeighbors</label><div class=\"sk-toggleable__content\"><pre>NearestNeighbors(n_neighbors=15)</pre></div></div></div></div></div>"
            ],
            "text/plain": [
              "NearestNeighbors(n_neighbors=15)"
            ]
          },
          "execution_count": 209,
          "metadata": {},
          "output_type": "execute_result"
        }
      ],
      "source": [
        "# Create Object of NearestNeighbors and Enter Dataset into this Object\n",
        "\n",
        "neigh = NearestNeighbors(n_neighbors=15)\n",
        "neigh.fit(X,y)"
      ]
    },
    {
      "cell_type": "code",
      "execution_count": 210,
      "metadata": {
        "colab": {
          "base_uri": "https://localhost:8080/"
        },
        "id": "ERkhbBjZR_xI",
        "outputId": "5fe7daee-789b-43e9-89a5-0a8529a251b8"
      },
      "outputs": [
        {
          "name": "stdout",
          "output_type": "stream",
          "text": [
            "X_sample[0]               :  [0 1]\n",
            "Neighbors Distance        :  [0.1096280823001748, 0.19556694154383653, 0.3577751513979959, 0.37112705675187657, 0.3741769598731395, 0.40017956507189173, 0.429372779854178, 0.45907304416056877, 0.4714217688275612, 0.6515068600765475, 0.661084046869637, 0.6707039908031752, 0.6831249038104233, 0.6839300227594035, 0.7463532287222168]\n",
            "Neighbors Index           :  [25  8 74 17  6 68 46 16 26 72 96 37 97 50 10]\n",
            "Neighbors Class           :  [1 1 2 1 1 2 1 1 1 2 2 1 2 2 1]\n",
            "Neighbors Class (Counter) :  [(1, 9), (2, 6), (3, 0)]\n",
            "Max Class                 :  1\n",
            "Class Color               :  purple\n",
            "\n",
            "X_sample[1]               :  [1 0]\n",
            "Neighbors Distance        :  [0.20544698112603396, 0.25806905656886836, 0.26439655951667673, 0.3294419958836975, 0.3389067484414817, 0.3494552936590025, 0.35087585194061127, 0.37517130207603233, 0.4070003108527817, 0.43131293284158784, 0.46755674353602855, 0.4923355275037765, 0.5013327618459711, 0.5658099618334025, 0.6058136521830232]\n",
            "Neighbors Index           :  [  0   2  33 123  48  14   4  36 113 146 119 143   7 120  27]\n",
            "Neighbors Class           :  [1 1 1 3 1 1 1 1 3 3 3 3 1 3 1]\n",
            "Neighbors Class (Counter) :  [(1, 9), (2, 0), (3, 6)]\n",
            "Max Class                 :  1\n",
            "Class Color               :  purple\n",
            "\n"
          ]
        }
      ],
      "source": [
        "# Get the Neighbors for Test Data\n",
        "\n",
        "neighbors_distances, neighbors_indices = neigh.kneighbors(X_sample)\n",
        "y = np.array(y)\n",
        "\n",
        "print('X_sample[0]               : ', X_sample[0])\n",
        "print('Neighbors Distance        : ', neighbors_distances[0].tolist())\n",
        "print('Neighbors Index           : ', neighbors_indices[0])\n",
        "print('Neighbors Class           : ', y[neighbors_indices[0]])\n",
        "print('Neighbors Class (Counter) : ', [(cls, list(y[neighbors_indices[0]]).count(cls)) for cls in list(set(y))])\n",
        "print('Max Class                 : ', max(list(y[neighbors_indices[0]]), key=list(y[neighbors_indices[0]]).count))\n",
        "print('Class Color               : ', class_colors[str(max(list(y[neighbors_indices[0]]), key=list(y[neighbors_indices[0]]).count))])\n",
        "print('')\n",
        "\n",
        "print('X_sample[1]               : ', X_sample[1])\n",
        "print('Neighbors Distance        : ', neighbors_distances[1].tolist())\n",
        "print('Neighbors Index           : ', neighbors_indices[1])\n",
        "print('Neighbors Class           : ', y[neighbors_indices[1]])\n",
        "print('Neighbors Class (Counter) : ', [(cls, list(y[neighbors_indices[1]]).count(cls)) for cls in list(set(y))])\n",
        "print('Max Class                 : ', max(list(y[neighbors_indices[1]]), key=list(y[neighbors_indices[1]]).count))\n",
        "print('Class Color               : ', class_colors[str(max(list(y[neighbors_indices[1]]), key=list(y[neighbors_indices[1]]).count))])\n",
        "print('')"
      ]
    },
    {
      "cell_type": "code",
      "execution_count": 211,
      "metadata": {
        "colab": {
          "base_uri": "https://localhost:8080/",
          "height": 282
        },
        "id": "Ak1JE9PIduCb",
        "outputId": "fa62a664-a95a-40b6-ec13-7f1da9b67504"
      },
      "outputs": [
        {
          "data": {
            "text/plain": [
              "<matplotlib.collections.PathCollection at 0x28945d150>"
            ]
          },
          "execution_count": 211,
          "metadata": {},
          "output_type": "execute_result"
        },
        {
          "data": {
            "image/png": "[encoded data removed]",
            "text/plain": [
              "<Figure size 640x480 with 1 Axes>"
            ]
          },
          "metadata": {},
          "output_type": "display_data"
        }
      ],
      "source": [
        "# Visualization of the Neighbors of Test Data\n",
        "\n",
        "neighbors_indices = neighbors_indices.flatten().tolist()\n",
        "\n",
        "X_neighbors =  X[neighbors_indices]\n",
        "y_neighbors = y[neighbors_indices]\n",
        "X_not_neighbors = np.array([element for i, element in enumerate(X) if i not in neighbors_indices])\n",
        "\n",
        "\n",
        "plt.scatter(X_neighbors[:,0], X_neighbors[:,1], c=y_neighbors)\n",
        "plt.scatter(X_sample[:,0], X_sample[:,1], marker='x', c='k')\n",
        "plt.scatter(X_not_neighbors[:,0], X_not_neighbors[:,1], c='k', alpha=0.1)"
      ]
    },
    {
      "cell_type": "markdown",
      "metadata": {
        "id": "Qmn0ez3hje15"
      },
      "source": [
        "As we see, there are data points that are closer to our sample points compared to other neighbors. Currently, those close data points will have the same vote weight as the one that is farther. We can modify this charactheristic by using euclidean distance as weight factor on majority vote to reflect that closer data points have closer resemblance."
      ]
    },
    {
      "cell_type": "markdown",
      "metadata": {
        "id": "v1DtgN_re1uC"
      },
      "source": [
        "### Using K-Nearest Neighbor Classifier\n",
        "\n",
        "In the code above, we see the neighbors for test data. But we must compute manually the maximum class to get the prediction class. Let's use module `KNeighborsClassifier` from Scikit Learn to get automatically our class prediction."
      ]
    },
    {
      "cell_type": "code",
      "execution_count": 212,
      "metadata": {
        "colab": {
          "base_uri": "https://localhost:8080/"
        },
        "id": "r9NDvhY4e03p",
        "outputId": "1dcb4dff-e88b-4e86-9d14-3e122c867083"
      },
      "outputs": [
        {
          "data": {
            "text/html": [
              "<style>#sk-container-id-26 {color: black;background-color: white;}#sk-container-id-26 pre{padding: 0;}#sk-container-id-26 div.sk-toggleable {background-color: white;}#sk-container-id-26 label.sk-toggleable__label {cursor: pointer;display: block;width: 100%;margin-bottom: 0;padding: 0.3em;box-sizing: border-box;text-align: center;}#sk-container-id-26 label.sk-toggleable__label-arrow:before {content: \"▸\";float: left;margin-right: 0.25em;color: #696969;}#sk-container-id-26 label.sk-toggleable__label-arrow:hover:before {color: black;}#sk-container-id-26 div.sk-estimator:hover label.sk-toggleable__label-arrow:before {color: black;}#sk-container-id-26 div.sk-toggleable__content {max-height: 0;max-width: 0;overflow: hidden;text-align: left;background-color: #f0f8ff;}#sk-container-id-26 div.sk-toggleable__content pre {margin: 0.2em;color: black;border-radius: 0.25em;background-color: #f0f8ff;}#sk-container-id-26 input.sk-toggleable__control:checked~div.sk-toggleable__content {max-height: 200px;max-width: 100%;overflow: auto;}#sk-container-id-26 input.sk-toggleable__control:checked~label.sk-toggleable__label-arrow:before {content: \"▾\";}#sk-container-id-26 div.sk-estimator input.sk-toggleable__control:checked~label.sk-toggleable__label {background-color: #d4ebff;}#sk-container-id-26 div.sk-label input.sk-toggleable__control:checked~label.sk-toggleable__label {background-color: #d4ebff;}#sk-container-id-26 input.sk-hidden--visually {border: 0;clip: rect(1px 1px 1px 1px);clip: rect(1px, 1px, 1px, 1px);height: 1px;margin: -1px;overflow: hidden;padding: 0;position: absolute;width: 1px;}#sk-container-id-26 div.sk-estimator {font-family: monospace;background-color: #f0f8ff;border: 1px dotted black;border-radius: 0.25em;box-sizing: border-box;margin-bottom: 0.5em;}#sk-container-id-26 div.sk-estimator:hover {background-color: #d4ebff;}#sk-container-id-26 div.sk-parallel-item::after {content: \"\";width: 100%;border-bottom: 1px solid gray;flex-grow: 1;}#sk-container-id-26 div.sk-label:hover label.sk-toggleable__label {background-color: #d4ebff;}#sk-container-id-26 div.sk-serial::before {content: \"\";position: absolute;border-left: 1px solid gray;box-sizing: border-box;top: 0;bottom: 0;left: 50%;z-index: 0;}#sk-container-id-26 div.sk-serial {display: flex;flex-direction: column;align-items: center;background-color: white;padding-right: 0.2em;padding-left: 0.2em;position: relative;}#sk-container-id-26 div.sk-item {position: relative;z-index: 1;}#sk-container-id-26 div.sk-parallel {display: flex;align-items: stretch;justify-content: center;background-color: white;position: relative;}#sk-container-id-26 div.sk-item::before, #sk-container-id-26 div.sk-parallel-item::before {content: \"\";position: absolute;border-left: 1px solid gray;box-sizing: border-box;top: 0;bottom: 0;left: 50%;z-index: -1;}#sk-container-id-26 div.sk-parallel-item {display: flex;flex-direction: column;z-index: 1;position: relative;background-color: white;}#sk-container-id-26 div.sk-parallel-item:first-child::after {align-self: flex-end;width: 50%;}#sk-container-id-26 div.sk-parallel-item:last-child::after {align-self: flex-start;width: 50%;}#sk-container-id-26 div.sk-parallel-item:only-child::after {width: 0;}#sk-container-id-26 div.sk-dashed-wrapped {border: 1px dashed gray;margin: 0 0.4em 0.5em 0.4em;box-sizing: border-box;padding-bottom: 0.4em;background-color: white;}#sk-container-id-26 div.sk-label label {font-family: monospace;font-weight: bold;display: inline-block;line-height: 1.2em;}#sk-container-id-26 div.sk-label-container {text-align: center;}#sk-container-id-26 div.sk-container {/* jupyter's `normalize.less` sets `[hidden] { display: none; }` but bootstrap.min.css set `[hidden] { display: none !important; }` so we also need the `!important` here to be able to override the default hidden behavior on the sphinx rendered scikit-learn.org. See: https://github.com/scikit-learn/scikit-learn/issues/21755 */display: inline-block !important;position: relative;}#sk-container-id-26 div.sk-text-repr-fallback {display: none;}</style><div id=\"sk-container-id-26\" class=\"sk-top-container\"><div class=\"sk-text-repr-fallback\"><pre>KNeighborsClassifier(n_neighbors=15)</pre><b>In a Jupyter environment, please rerun this cell to show the HTML representation or trust the notebook. <br />On GitHub, the HTML representation is unable to render, please try loading this page with nbviewer.org.</b></div><div class=\"sk-container\" hidden><div class=\"sk-item\"><div class=\"sk-estimator sk-toggleable\"><input class=\"sk-toggleable__control sk-hidden--visually\" id=\"sk-estimator-id-26\" type=\"checkbox\" checked><label for=\"sk-estimator-id-26\" class=\"sk-toggleable__label sk-toggleable__label-arrow\">KNeighborsClassifier</label><div class=\"sk-toggleable__content\"><pre>KNeighborsClassifier(n_neighbors=15)</pre></div></div></div></div></div>"
            ],
            "text/plain": [
              "KNeighborsClassifier(n_neighbors=15)"
            ]
          },
          "execution_count": 212,
          "metadata": {},
          "output_type": "execute_result"
        }
      ],
      "source": [
        "# Create Object of KNeighborsClassifier and Enter Dataset into this Object\n",
        "\n",
        "neigh = KNeighborsClassifier(n_neighbors=15)\n",
        "neigh.fit(X, y)"
      ]
    },
    {
      "cell_type": "code",
      "execution_count": 213,
      "metadata": {
        "colab": {
          "base_uri": "https://localhost:8080/"
        },
        "id": "WeJEnFjMfZXz",
        "outputId": "a2c3e8e1-ffcf-41cc-a7e6-ace26a03c6c8"
      },
      "outputs": [
        {
          "name": "stdout",
          "output_type": "stream",
          "text": [
            "Predictions - X_sample[0] :  1\n",
            "Predictions - X_sample[1] :  1\n"
          ]
        }
      ],
      "source": [
        "# Predict Test Data\n",
        "\n",
        "y_predictions = neigh.predict(X_sample)\n",
        "\n",
        "print('Predictions - X_sample[0] : ', y_predictions[0])\n",
        "print('Predictions - X_sample[1] : ', y_predictions[1])"
      ]
    },
    {
      "cell_type": "markdown",
      "metadata": {
        "id": "jDHvZkIOje15"
      },
      "source": [
        "### Effect of distance functions"
      ]
    },
    {
      "cell_type": "markdown",
      "metadata": {
        "id": "Xki0nYKlje16"
      },
      "source": [
        "We can use different type of distances function, which may results to different nearest neighbors. For example, let's try using 4 different distances type:  \n",
        "- Euclidean \n",
        "- Minkowski\n",
        "- Manhattan\n",
        "- Mahalanobis"
      ]
    },
    {
      "cell_type": "code",
      "execution_count": 214,
      "metadata": {
        "colab": {
          "base_uri": "https://localhost:8080/",
          "height": 424
        },
        "id": "kJd41Cn4je16",
        "outputId": "939e8c92-4cc1-4d4e-c5f5-a74438e3ea74"
      },
      "outputs": [
        {
          "data": {
            "image/png": "[encoded data removed]",
            "text/plain": [
              "<Figure size 2000x1200 with 4 Axes>"
            ]
          },
          "metadata": {},
          "output_type": "display_data"
        }
      ],
      "source": [
        "metrictypes=['euclidean','minkowski','manhattan','mahalanobis']\n",
        "fig, axs = plt.subplots(int(len(metrictypes)/2), 2, figsize=(20, 12))\n",
        "for i,metrictype in enumerate(metrictypes):\n",
        "    if(metrictype=='mahalanobis'):\n",
        "        neigh = NearestNeighbors(n_neighbors=15,algorithm='brute', metric=metrictype,metric_params={'VI': np.cov(X)})\n",
        "    else:\n",
        "        neigh = NearestNeighbors(n_neighbors=15,metric=metrictype)\n",
        "    neigh.fit(X,y)\n",
        "    neighbors=neigh.kneighbors(X_sample)\n",
        "    id_arr = neighbors[1]\n",
        "    id_arr = id_arr.flatten().tolist()\n",
        "\n",
        "    arr =  X[id_arr]\n",
        "    y = np.array(y)\n",
        "    arr_y = y[id_arr]\n",
        "    arr_ex = np.array([element for i, element in enumerate(X) if i not in id_arr])\n",
        "\n",
        "    axs[int(i/2),i%2].scatter(arr[:,0],arr[:,1],c=arr_y)\n",
        "    axs[int(i/2),i%2].scatter(X_sample[:,0],X_sample[:,1],marker='x',c='k')\n",
        "    axs[int(i/2),i%2].scatter(arr_ex[:,0],arr_ex[:,1],c='k',alpha=0.1)\n",
        "    axs[int(i/2),i%2].set_title(metrictype)"
      ]
    },
    {
      "cell_type": "markdown",
      "metadata": {
        "id": "XGbls9wpje16"
      },
      "source": [
        "We can see there are changes at the edges point due to how the distance calculated differently"
      ]
    },
    {
      "cell_type": "markdown",
      "metadata": {
        "id": "1UpsAqvdje16"
      },
      "source": [
        "---\n",
        "## A.2. KNN on Real Dataset"
      ]
    },
    {
      "cell_type": "markdown",
      "metadata": {
        "id": "1RNiCJ7Bny_8"
      },
      "source": [
        "Let's try to use KNN Classifier on real world data. This dataset is originally from the National Institute of Diabetes and Digestive and Kidney Diseases. \n",
        "\n",
        "The objective of the dataset is to diagnostically predict whether or not a patient has diabetes, based on certain diagnostic measurements included in the dataset. Several constraints were placed on the selection of these instances from a larger database. In particular, all patients here are females at least 21 years old of Pima Indian heritage.\n",
        "\n",
        "The datasets consists of several medical predictor variables and one target variable, `Outcome`. Predictor variables includes the number of pregnancies the patient has had, their BMI, insulin level, age, and so on.\n",
        "\n",
        "\n",
        "URL = [Prima Indians Diabetes Dataset](https://www.kaggle.com/uciml/pima-indians-diabetes-database)"
      ]
    },
    {
      "cell_type": "code",
      "execution_count": 215,
      "metadata": {
        "colab": {
          "base_uri": "https://localhost:8080/",
          "height": 270
        },
        "id": "cN0JZuC-oWP4",
        "outputId": "d1cd4ad6-5a03-41a6-82b6-47c738f07e28"
      },
      "outputs": [
        {
          "data": {
            "text/html": [
              "<div>\n",
              "<style scoped>\n",
              "    .dataframe tbody tr th:only-of-type {\n",
              "        vertical-align: middle;\n",
              "    }\n",
              "\n",
              "    .dataframe tbody tr th {\n",
              "        vertical-align: top;\n",
              "    }\n",
              "\n",
              "    .dataframe thead th {\n",
              "        text-align: right;\n",
              "    }\n",
              "</style>\n",
              "<table border=\"1\" class=\"dataframe\">\n",
              "  <thead>\n",
              "    <tr style=\"text-align: right;\">\n",
              "      <th></th>\n",
              "      <th>Pregnancies</th>\n",
              "      <th>Glucose</th>\n",
              "      <th>BloodPressure</th>\n",
              "      <th>SkinThickness</th>\n",
              "      <th>Insulin</th>\n",
              "      <th>BMI</th>\n",
              "      <th>DiabetesPedigreeFunction</th>\n",
              "      <th>Age</th>\n",
              "      <th>Outcome</th>\n",
              "    </tr>\n",
              "  </thead>\n",
              "  <tbody>\n",
              "    <tr>\n",
              "      <th>0</th>\n",
              "      <td>6</td>\n",
              "      <td>148</td>\n",
              "      <td>72</td>\n",
              "      <td>35</td>\n",
              "      <td>0</td>\n",
              "      <td>33.6</td>\n",
              "      <td>0.627</td>\n",
              "      <td>50</td>\n",
              "      <td>1</td>\n",
              "    </tr>\n",
              "    <tr>\n",
              "      <th>1</th>\n",
              "      <td>1</td>\n",
              "      <td>85</td>\n",
              "      <td>66</td>\n",
              "      <td>29</td>\n",
              "      <td>0</td>\n",
              "      <td>26.6</td>\n",
              "      <td>0.351</td>\n",
              "      <td>31</td>\n",
              "      <td>0</td>\n",
              "    </tr>\n",
              "    <tr>\n",
              "      <th>2</th>\n",
              "      <td>8</td>\n",
              "      <td>183</td>\n",
              "      <td>64</td>\n",
              "      <td>0</td>\n",
              "      <td>0</td>\n",
              "      <td>23.3</td>\n",
              "      <td>0.672</td>\n",
              "      <td>32</td>\n",
              "      <td>1</td>\n",
              "    </tr>\n",
              "    <tr>\n",
              "      <th>3</th>\n",
              "      <td>1</td>\n",
              "      <td>89</td>\n",
              "      <td>66</td>\n",
              "      <td>23</td>\n",
              "      <td>94</td>\n",
              "      <td>28.1</td>\n",
              "      <td>0.167</td>\n",
              "      <td>21</td>\n",
              "      <td>0</td>\n",
              "    </tr>\n",
              "    <tr>\n",
              "      <th>4</th>\n",
              "      <td>0</td>\n",
              "      <td>137</td>\n",
              "      <td>40</td>\n",
              "      <td>35</td>\n",
              "      <td>168</td>\n",
              "      <td>43.1</td>\n",
              "      <td>2.288</td>\n",
              "      <td>33</td>\n",
              "      <td>1</td>\n",
              "    </tr>\n",
              "  </tbody>\n",
              "</table>\n",
              "</div>"
            ],
            "text/plain": [
              "   Pregnancies  Glucose  BloodPressure  SkinThickness  Insulin   BMI  \\\n",
              "0            6      148             72             35        0  33.6   \n",
              "1            1       85             66             29        0  26.6   \n",
              "2            8      183             64              0        0  23.3   \n",
              "3            1       89             66             23       94  28.1   \n",
              "4            0      137             40             35      168  43.1   \n",
              "\n",
              "   DiabetesPedigreeFunction  Age  Outcome  \n",
              "0                     0.627   50        1  \n",
              "1                     0.351   31        0  \n",
              "2                     0.672   32        1  \n",
              "3                     0.167   21        0  \n",
              "4                     2.288   33        1  "
            ]
          },
          "execution_count": 215,
          "metadata": {},
          "output_type": "execute_result"
        }
      ],
      "source": [
        "# Load Dataset\n",
        "\n",
        "df = pd.read_csv('https://raw.githubusercontent.com/ardhiraka/FSDS_Guidelines/master/p1/v3/w1/P1W1D4AM%20-%20KNN%20%26%20Naive%20Bayes.csv')\n",
        "df.head()"
      ]
    },
    {
      "cell_type": "code",
      "execution_count": 216,
      "metadata": {
        "colab": {
          "base_uri": "https://localhost:8080/"
        },
        "id": "B0CNkZ_jo4X4",
        "outputId": "9c3c4fba-9272-4fd2-9861-55467c1bd9b2"
      },
      "outputs": [
        {
          "name": "stdout",
          "output_type": "stream",
          "text": [
            "<class 'pandas.core.frame.DataFrame'>\n",
            "RangeIndex: 768 entries, 0 to 767\n",
            "Data columns (total 9 columns):\n",
            " #   Column                    Non-Null Count  Dtype  \n",
            "---  ------                    --------------  -----  \n",
            " 0   Pregnancies               768 non-null    int64  \n",
            " 1   Glucose                   768 non-null    int64  \n",
            " 2   BloodPressure             768 non-null    int64  \n",
            " 3   SkinThickness             768 non-null    int64  \n",
            " 4   Insulin                   768 non-null    int64  \n",
            " 5   BMI                       768 non-null    float64\n",
            " 6   DiabetesPedigreeFunction  768 non-null    float64\n",
            " 7   Age                       768 non-null    int64  \n",
            " 8   Outcome                   768 non-null    int64  \n",
            "dtypes: float64(2), int64(7)\n",
            "memory usage: 54.1 KB\n"
          ]
        }
      ],
      "source": [
        "# Check Features of Dataset\n",
        "\n",
        "df.info()"
      ]
    },
    {
      "cell_type": "markdown",
      "metadata": {
        "id": "RNGO0PSIosmz"
      },
      "source": [
        "We can see that the dataset has no missing values."
      ]
    },
    {
      "cell_type": "code",
      "execution_count": 217,
      "metadata": {
        "id": "XzM4DEk8owV4"
      },
      "outputs": [],
      "source": [
        "# Create Final Dataset\n",
        "\n",
        "X = df.drop('Outcome',axis=1).values\n",
        "y = df['Outcome'].values"
      ]
    },
    {
      "cell_type": "code",
      "execution_count": 218,
      "metadata": {
        "colab": {
          "base_uri": "https://localhost:8080/"
        },
        "id": "K8cAyZaAwQLV",
        "outputId": "b4628f03-400e-4d65-d47e-3c0f48995df7"
      },
      "outputs": [
        {
          "name": "stdout",
          "output_type": "stream",
          "text": [
            "Total Data Train :  537\n",
            "Total Data Test  :  231\n"
          ]
        }
      ],
      "source": [
        "# Split Dataset into Train Data and Test Data\n",
        "\n",
        "X_train, X_test, y_train, y_test = train_test_split(X, y, test_size=0.3, random_state=10, stratify=y)\n",
        "\n",
        "print('Total Data Train : ', X_train.shape[0])\n",
        "print('Total Data Test  : ', X_test.shape[0])\n",
        "\n",
        "# Normalization\n",
        "scaler = StandardScaler()\n",
        "X_train = scaler.fit_transform(X_train)\n",
        "X_test = scaler.transform(X_test)"
      ]
    },
    {
      "cell_type": "code",
      "execution_count": 219,
      "metadata": {
        "colab": {
          "base_uri": "https://localhost:8080/"
        },
        "id": "rQiFEafjxEWt",
        "outputId": "e3763f87-0f62-4fed-a9a2-0c1d58405d30"
      },
      "outputs": [
        {
          "data": {
            "text/html": [
              "<style>#sk-container-id-27 {color: black;background-color: white;}#sk-container-id-27 pre{padding: 0;}#sk-container-id-27 div.sk-toggleable {background-color: white;}#sk-container-id-27 label.sk-toggleable__label {cursor: pointer;display: block;width: 100%;margin-bottom: 0;padding: 0.3em;box-sizing: border-box;text-align: center;}#sk-container-id-27 label.sk-toggleable__label-arrow:before {content: \"▸\";float: left;margin-right: 0.25em;color: #696969;}#sk-container-id-27 label.sk-toggleable__label-arrow:hover:before {color: black;}#sk-container-id-27 div.sk-estimator:hover label.sk-toggleable__label-arrow:before {color: black;}#sk-container-id-27 div.sk-toggleable__content {max-height: 0;max-width: 0;overflow: hidden;text-align: left;background-color: #f0f8ff;}#sk-container-id-27 div.sk-toggleable__content pre {margin: 0.2em;color: black;border-radius: 0.25em;background-color: #f0f8ff;}#sk-container-id-27 input.sk-toggleable__control:checked~div.sk-toggleable__content {max-height: 200px;max-width: 100%;overflow: auto;}#sk-container-id-27 input.sk-toggleable__control:checked~label.sk-toggleable__label-arrow:before {content: \"▾\";}#sk-container-id-27 div.sk-estimator input.sk-toggleable__control:checked~label.sk-toggleable__label {background-color: #d4ebff;}#sk-container-id-27 div.sk-label input.sk-toggleable__control:checked~label.sk-toggleable__label {background-color: #d4ebff;}#sk-container-id-27 input.sk-hidden--visually {border: 0;clip: rect(1px 1px 1px 1px);clip: rect(1px, 1px, 1px, 1px);height: 1px;margin: -1px;overflow: hidden;padding: 0;position: absolute;width: 1px;}#sk-container-id-27 div.sk-estimator {font-family: monospace;background-color: #f0f8ff;border: 1px dotted black;border-radius: 0.25em;box-sizing: border-box;margin-bottom: 0.5em;}#sk-container-id-27 div.sk-estimator:hover {background-color: #d4ebff;}#sk-container-id-27 div.sk-parallel-item::after {content: \"\";width: 100%;border-bottom: 1px solid gray;flex-grow: 1;}#sk-container-id-27 div.sk-label:hover label.sk-toggleable__label {background-color: #d4ebff;}#sk-container-id-27 div.sk-serial::before {content: \"\";position: absolute;border-left: 1px solid gray;box-sizing: border-box;top: 0;bottom: 0;left: 50%;z-index: 0;}#sk-container-id-27 div.sk-serial {display: flex;flex-direction: column;align-items: center;background-color: white;padding-right: 0.2em;padding-left: 0.2em;position: relative;}#sk-container-id-27 div.sk-item {position: relative;z-index: 1;}#sk-container-id-27 div.sk-parallel {display: flex;align-items: stretch;justify-content: center;background-color: white;position: relative;}#sk-container-id-27 div.sk-item::before, #sk-container-id-27 div.sk-parallel-item::before {content: \"\";position: absolute;border-left: 1px solid gray;box-sizing: border-box;top: 0;bottom: 0;left: 50%;z-index: -1;}#sk-container-id-27 div.sk-parallel-item {display: flex;flex-direction: column;z-index: 1;position: relative;background-color: white;}#sk-container-id-27 div.sk-parallel-item:first-child::after {align-self: flex-end;width: 50%;}#sk-container-id-27 div.sk-parallel-item:last-child::after {align-self: flex-start;width: 50%;}#sk-container-id-27 div.sk-parallel-item:only-child::after {width: 0;}#sk-container-id-27 div.sk-dashed-wrapped {border: 1px dashed gray;margin: 0 0.4em 0.5em 0.4em;box-sizing: border-box;padding-bottom: 0.4em;background-color: white;}#sk-container-id-27 div.sk-label label {font-family: monospace;font-weight: bold;display: inline-block;line-height: 1.2em;}#sk-container-id-27 div.sk-label-container {text-align: center;}#sk-container-id-27 div.sk-container {/* jupyter's `normalize.less` sets `[hidden] { display: none; }` but bootstrap.min.css set `[hidden] { display: none !important; }` so we also need the `!important` here to be able to override the default hidden behavior on the sphinx rendered scikit-learn.org. See: https://github.com/scikit-learn/scikit-learn/issues/21755 */display: inline-block !important;position: relative;}#sk-container-id-27 div.sk-text-repr-fallback {display: none;}</style><div id=\"sk-container-id-27\" class=\"sk-top-container\"><div class=\"sk-text-repr-fallback\"><pre>KNeighborsClassifier(metric=&#x27;manhattan&#x27;)</pre><b>In a Jupyter environment, please rerun this cell to show the HTML representation or trust the notebook. <br />On GitHub, the HTML representation is unable to render, please try loading this page with nbviewer.org.</b></div><div class=\"sk-container\" hidden><div class=\"sk-item\"><div class=\"sk-estimator sk-toggleable\"><input class=\"sk-toggleable__control sk-hidden--visually\" id=\"sk-estimator-id-27\" type=\"checkbox\" checked><label for=\"sk-estimator-id-27\" class=\"sk-toggleable__label sk-toggleable__label-arrow\">KNeighborsClassifier</label><div class=\"sk-toggleable__content\"><pre>KNeighborsClassifier(metric=&#x27;manhattan&#x27;)</pre></div></div></div></div></div>"
            ],
            "text/plain": [
              "KNeighborsClassifier(metric='manhattan')"
            ]
          },
          "execution_count": 219,
          "metadata": {},
          "output_type": "execute_result"
        }
      ],
      "source": [
        "# Train\n",
        "\n",
        "cls_knn_euclidean = KNeighborsClassifier(n_neighbors=5)\n",
        "cls_knn_manhattan = KNeighborsClassifier(n_neighbors=5, metric='manhattan')\n",
        "\n",
        "cls_knn_euclidean.fit(X_train, y_train)\n",
        "cls_knn_manhattan.fit(X_train, y_train)"
      ]
    },
    {
      "cell_type": "code",
      "execution_count": 220,
      "metadata": {
        "colab": {
          "base_uri": "https://localhost:8080/"
        },
        "id": "QSGHK1eDxcmO",
        "outputId": "e0f58891-cb26-4df6-947d-5d429f2e25ec"
      },
      "outputs": [
        {
          "name": "stdout",
          "output_type": "stream",
          "text": [
            "Accuracy - KNN - Euclidean :  0.7229437229437229\n",
            "Accuracy - KNN - Manhattan :  0.6796536796536796\n"
          ]
        }
      ],
      "source": [
        "# Check Accuracy of Test Data\n",
        "\n",
        "acc_knn_euclidean = cls_knn_euclidean.score(X_test, y_test)\n",
        "acc_knn_manhattan = cls_knn_manhattan.score(X_test, y_test)\n",
        "\n",
        "print('Accuracy - KNN - Euclidean : ', acc_knn_euclidean)\n",
        "print('Accuracy - KNN - Manhattan : ', acc_knn_manhattan)"
      ]
    },
    {
      "cell_type": "markdown",
      "metadata": {
        "id": "hblzAbzenyF_"
      },
      "source": [
        "---\n",
        "\n",
        "Let's check the effect of `k` on the accuracy of Train Data and Test Data."
      ]
    },
    {
      "cell_type": "code",
      "execution_count": 221,
      "metadata": {
        "colab": {
          "base_uri": "https://localhost:8080/"
        },
        "id": "epxOB7Dk3nUY",
        "outputId": "1f50ad20-f84b-4652-c9dc-c29d0f96f7a8"
      },
      "outputs": [
        {
          "name": "stdout",
          "output_type": "stream",
          "text": [
            "Train Accuracy - Euclidean :  [1.0, 0.8286778398510242, 0.8230912476722533, 0.7914338919925512, 0.8044692737430168, 0.7746741154562383, 0.7877094972067039, 0.7783985102420856, 0.7914338919925512, 0.7635009310986964, 0.7728119180633147, 0.7653631284916201, 0.7746741154562383, 0.7728119180633147, 0.7690875232774674]\n",
            "Test Accuracy - Euclidean  :  [0.7056277056277056, 0.70995670995671, 0.7229437229437229, 0.7402597402597403, 0.7229437229437229, 0.7186147186147186, 0.7056277056277056, 0.6926406926406926, 0.7186147186147186, 0.7142857142857143, 0.7359307359307359, 0.7489177489177489, 0.7619047619047619, 0.7575757575757576, 0.7662337662337663] \n",
            "\n",
            "Train Accuracy - Manhattan :  [1.0, 0.8119180633147114, 0.8175046554934823, 0.8044692737430168, 0.8026070763500931, 0.7932960893854749, 0.7932960893854749, 0.7728119180633147, 0.7877094972067039, 0.7746741154562383, 0.7746741154562383, 0.7467411545623837, 0.7653631284916201, 0.7616387337057728, 0.7821229050279329]\n",
            "Test Accuracy - Manhattan  :  [0.7012987012987013, 0.696969696969697, 0.6753246753246753, 0.6666666666666666, 0.6796536796536796, 0.683982683982684, 0.7142857142857143, 0.7142857142857143, 0.7142857142857143, 0.683982683982684, 0.7272727272727273, 0.70995670995671, 0.7532467532467533, 0.7142857142857143, 0.7359307359307359] \n",
            "\n"
          ]
        }
      ],
      "source": [
        "# Get Accuracy from k = 1 to k = 15\n",
        "\n",
        "max_k = 15\n",
        "\n",
        "train_acc_euclidean = []\n",
        "test_acc_euclidean = []\n",
        "\n",
        "train_acc_manhattan = []\n",
        "test_acc_manhattan = []\n",
        "\n",
        "for ii in range (1, max_k+1):\n",
        "  # With Euclidean Distance\n",
        "  cls_knn_euclidean = KNeighborsClassifier(n_neighbors = ii)\n",
        "  cls_knn_euclidean.fit(X_train, y_train)\n",
        "\n",
        "  train_acc_euclidean.append(cls_knn_euclidean.score(X_train, y_train))\n",
        "  test_acc_euclidean.append(cls_knn_euclidean.score(X_test, y_test))\n",
        "\n",
        "  # With Manhattan Distance\n",
        "  cls_knn_manhattan = KNeighborsClassifier(n_neighbors = ii, metric='manhattan')\n",
        "  cls_knn_manhattan.fit(X_train, y_train)\n",
        "\n",
        "  train_acc_manhattan.append(cls_knn_manhattan.score(X_train, y_train))\n",
        "  test_acc_manhattan.append(cls_knn_manhattan.score(X_test, y_test))\n",
        "\n",
        "print('Train Accuracy - Euclidean : ', train_acc_euclidean)\n",
        "print('Test Accuracy - Euclidean  : ', test_acc_euclidean, '\\n')\n",
        "\n",
        "print('Train Accuracy - Manhattan : ', train_acc_manhattan)\n",
        "print('Test Accuracy - Manhattan  : ', test_acc_manhattan, '\\n')\n"
      ]
    },
    {
      "cell_type": "code",
      "execution_count": 251,
      "metadata": {
        "colab": {
          "base_uri": "https://localhost:8080/",
          "height": 210
        },
        "id": "TP_oVpLp4t9Y",
        "outputId": "39fac33a-8995-4f17-a118-ad48143413ed"
      },
      "outputs": [
        {
          "data": {
            "image/png": "[encoded data removed]",
            "text/plain": [
              "<Figure size 1000x500 with 2 Axes>"
            ]
          },
          "metadata": {},
          "output_type": "display_data"
        }
      ],
      "source": [
        "# Visualization of Accuracy\n",
        "\n",
        "plt.figure(figsize=(10,5))\n",
        "plt.subplot(1, 2, 1)\n",
        "plt.title('Effect of Value k on Accuracy - Euclidean Distance')\n",
        "plt.plot(range(1, max_k+1), test_acc_euclidean, label='Testing Accuracy')\n",
        "plt.plot(range(1, max_k+1), train_acc_euclidean, label='Training accuracy')\n",
        "\n",
        "plt.subplot(1, 2, 2)\n",
        "plt.title('Effect of Value k on Accuracy - Manhattan Distance')\n",
        "plt.plot(range(1, max_k+1), test_acc_manhattan, label='Testing Accuracy')\n",
        "plt.plot(range(1, max_k+1), train_acc_manhattan, label='Training accuracy')\n",
        "\n",
        "plt.legend()\n",
        "plt.xlabel('Number of k')\n",
        "plt.ylabel('Accuracy')\n",
        "plt.show()"
      ]
    },
    {
      "cell_type": "markdown",
      "metadata": {
        "id": "yaLky2HEje19"
      },
      "source": [
        "`kNN Classifier` is a lazy learning method, thus **time to predict is relatively slower compared to time to fit/train**. This is contrast to model like `Logistic Regression`, `Decision Tree`, or `Artifical Neural Network`.\n",
        "\n",
        "---"
      ]
    },
    {
      "cell_type": "markdown",
      "metadata": {
        "id": "AwmqI68xje19"
      },
      "source": [
        "Let's compare its performance with logistic regression that we have previously learned"
      ]
    },
    {
      "cell_type": "code",
      "execution_count": 223,
      "metadata": {
        "colab": {
          "base_uri": "https://localhost:8080/"
        },
        "id": "vjfEzyW9je1-",
        "outputId": "44740290-927d-43b2-e5d3-4f5257031993"
      },
      "outputs": [
        {
          "data": {
            "text/html": [
              "<style>#sk-container-id-28 {color: black;background-color: white;}#sk-container-id-28 pre{padding: 0;}#sk-container-id-28 div.sk-toggleable {background-color: white;}#sk-container-id-28 label.sk-toggleable__label {cursor: pointer;display: block;width: 100%;margin-bottom: 0;padding: 0.3em;box-sizing: border-box;text-align: center;}#sk-container-id-28 label.sk-toggleable__label-arrow:before {content: \"▸\";float: left;margin-right: 0.25em;color: #696969;}#sk-container-id-28 label.sk-toggleable__label-arrow:hover:before {color: black;}#sk-container-id-28 div.sk-estimator:hover label.sk-toggleable__label-arrow:before {color: black;}#sk-container-id-28 div.sk-toggleable__content {max-height: 0;max-width: 0;overflow: hidden;text-align: left;background-color: #f0f8ff;}#sk-container-id-28 div.sk-toggleable__content pre {margin: 0.2em;color: black;border-radius: 0.25em;background-color: #f0f8ff;}#sk-container-id-28 input.sk-toggleable__control:checked~div.sk-toggleable__content {max-height: 200px;max-width: 100%;overflow: auto;}#sk-container-id-28 input.sk-toggleable__control:checked~label.sk-toggleable__label-arrow:before {content: \"▾\";}#sk-container-id-28 div.sk-estimator input.sk-toggleable__control:checked~label.sk-toggleable__label {background-color: #d4ebff;}#sk-container-id-28 div.sk-label input.sk-toggleable__control:checked~label.sk-toggleable__label {background-color: #d4ebff;}#sk-container-id-28 input.sk-hidden--visually {border: 0;clip: rect(1px 1px 1px 1px);clip: rect(1px, 1px, 1px, 1px);height: 1px;margin: -1px;overflow: hidden;padding: 0;position: absolute;width: 1px;}#sk-container-id-28 div.sk-estimator {font-family: monospace;background-color: #f0f8ff;border: 1px dotted black;border-radius: 0.25em;box-sizing: border-box;margin-bottom: 0.5em;}#sk-container-id-28 div.sk-estimator:hover {background-color: #d4ebff;}#sk-container-id-28 div.sk-parallel-item::after {content: \"\";width: 100%;border-bottom: 1px solid gray;flex-grow: 1;}#sk-container-id-28 div.sk-label:hover label.sk-toggleable__label {background-color: #d4ebff;}#sk-container-id-28 div.sk-serial::before {content: \"\";position: absolute;border-left: 1px solid gray;box-sizing: border-box;top: 0;bottom: 0;left: 50%;z-index: 0;}#sk-container-id-28 div.sk-serial {display: flex;flex-direction: column;align-items: center;background-color: white;padding-right: 0.2em;padding-left: 0.2em;position: relative;}#sk-container-id-28 div.sk-item {position: relative;z-index: 1;}#sk-container-id-28 div.sk-parallel {display: flex;align-items: stretch;justify-content: center;background-color: white;position: relative;}#sk-container-id-28 div.sk-item::before, #sk-container-id-28 div.sk-parallel-item::before {content: \"\";position: absolute;border-left: 1px solid gray;box-sizing: border-box;top: 0;bottom: 0;left: 50%;z-index: -1;}#sk-container-id-28 div.sk-parallel-item {display: flex;flex-direction: column;z-index: 1;position: relative;background-color: white;}#sk-container-id-28 div.sk-parallel-item:first-child::after {align-self: flex-end;width: 50%;}#sk-container-id-28 div.sk-parallel-item:last-child::after {align-self: flex-start;width: 50%;}#sk-container-id-28 div.sk-parallel-item:only-child::after {width: 0;}#sk-container-id-28 div.sk-dashed-wrapped {border: 1px dashed gray;margin: 0 0.4em 0.5em 0.4em;box-sizing: border-box;padding-bottom: 0.4em;background-color: white;}#sk-container-id-28 div.sk-label label {font-family: monospace;font-weight: bold;display: inline-block;line-height: 1.2em;}#sk-container-id-28 div.sk-label-container {text-align: center;}#sk-container-id-28 div.sk-container {/* jupyter's `normalize.less` sets `[hidden] { display: none; }` but bootstrap.min.css set `[hidden] { display: none !important; }` so we also need the `!important` here to be able to override the default hidden behavior on the sphinx rendered scikit-learn.org. See: https://github.com/scikit-learn/scikit-learn/issues/21755 */display: inline-block !important;position: relative;}#sk-container-id-28 div.sk-text-repr-fallback {display: none;}</style><div id=\"sk-container-id-28\" class=\"sk-top-container\"><div class=\"sk-text-repr-fallback\"><pre>LogisticRegression(random_state=10)</pre><b>In a Jupyter environment, please rerun this cell to show the HTML representation or trust the notebook. <br />On GitHub, the HTML representation is unable to render, please try loading this page with nbviewer.org.</b></div><div class=\"sk-container\" hidden><div class=\"sk-item\"><div class=\"sk-estimator sk-toggleable\"><input class=\"sk-toggleable__control sk-hidden--visually\" id=\"sk-estimator-id-28\" type=\"checkbox\" checked><label for=\"sk-estimator-id-28\" class=\"sk-toggleable__label sk-toggleable__label-arrow\">LogisticRegression</label><div class=\"sk-toggleable__content\"><pre>LogisticRegression(random_state=10)</pre></div></div></div></div></div>"
            ],
            "text/plain": [
              "LogisticRegression(random_state=10)"
            ]
          },
          "execution_count": 223,
          "metadata": {},
          "output_type": "execute_result"
        }
      ],
      "source": [
        "# Train with Logistic Regression\n",
        "\n",
        "logreg = LogisticRegression(random_state=10)\n",
        "logreg.fit(X_train, y_train)"
      ]
    },
    {
      "cell_type": "code",
      "execution_count": 224,
      "metadata": {
        "colab": {
          "base_uri": "https://localhost:8080/"
        },
        "id": "1x602Okcje1-",
        "outputId": "8eb042e7-2a5a-4a3a-e19d-332ea226059a"
      },
      "outputs": [
        {
          "name": "stdout",
          "output_type": "stream",
          "text": [
            "Accuracy - KNN - Euclidean     :  0.7229437229437229\n",
            "Accuracy - KNN - Manhattan     :  0.6796536796536796\n",
            "Accuracy - Logistic Regression :  0.8095238095238095\n"
          ]
        }
      ],
      "source": [
        "# Check Accuracy of Test Data\n",
        "\n",
        "acc_logreg = logreg.score(X_test, y_test)\n",
        "\n",
        "print('Accuracy - KNN - Euclidean     : ', acc_knn_euclidean)\n",
        "print('Accuracy - KNN - Manhattan     : ', acc_knn_manhattan)\n",
        "print('Accuracy - Logistic Regression : ', acc_logreg)"
      ]
    },
    {
      "cell_type": "markdown",
      "metadata": {
        "id": "3W01yjKQETsb"
      },
      "source": [
        "---\n",
        "# B. Naive Bayes"
      ]
    },
    {
      "cell_type": "markdown",
      "metadata": {
        "id": "NXWztxWREl7m"
      },
      "source": [
        "Naive Bayes employ bayesian logic and theorem to infer probability given hypotheses and their evidences."
      ]
    },
    {
      "cell_type": "code",
      "execution_count": 225,
      "metadata": {
        "id": "_zxc0NsqETsi"
      },
      "outputs": [],
      "source": [
        "# Import Libraries\n",
        "\n",
        "import numpy as np\n",
        "import matplotlib.pyplot as plt\n",
        "from matplotlib.colors import ListedColormap\n",
        "from sklearn.datasets import make_moons, make_circles, make_classification\n",
        "from sklearn.naive_bayes import GaussianNB\n",
        "from sklearn.preprocessing import StandardScaler\n",
        "from sklearn.model_selection import train_test_split\n",
        "from sklearn.metrics import roc_curve, auc,roc_auc_score\n",
        "import time\n",
        "import pandas as pd\n",
        "\n",
        "%matplotlib inline"
      ]
    },
    {
      "cell_type": "markdown",
      "metadata": {
        "id": "b4ONKih9E6HT"
      },
      "source": [
        "To solidify our understanding of Bayes Theorem and Naive Bayes, we will manually implement Bayes Theorem by `Pandas` and compare it with `Scikit-Learn` utility.\n",
        "\n",
        "We will intialize a toy dataset containing **whether a family buy a car given their family structure, age group, and income**."
      ]
    },
    {
      "cell_type": "code",
      "execution_count": 226,
      "metadata": {
        "id": "kWaFXOxzE5jP"
      },
      "outputs": [],
      "source": [
        "# Assigning features and label variables\n",
        "\n",
        "family_struct = ['Nuclear','Extended','Childless','Childless','Single Parent','Childless','Nuclear','Nuclear','Extended','Single Parent']\n",
        "age_group = ['Young','Old','Middle-aged','Young','Middle-aged','Young','Old','Middle-aged','Middle-aged','Old']\n",
        "income = ['Low','Low','Low','Medium','Medium','Low','High','Medium','High','Low']\n",
        "buy_car = ['Yes','No','No','Yes','Yes','No','Yes','Yes','Yes','No']"
      ]
    },
    {
      "cell_type": "code",
      "execution_count": 227,
      "metadata": {
        "id": "CKxGN8amFczV"
      },
      "outputs": [],
      "source": [
        "# Convert to Pandas Dataframe\n",
        "\n",
        "dict = {'family_struct': family_struct,'age_group':age_group,'income':income,'buy_car':buy_car} \n",
        "    \n",
        "df = pd.DataFrame(dict)\n",
        "df.columns=list(df.columns[:-1])+['label'] "
      ]
    },
    {
      "cell_type": "code",
      "execution_count": 228,
      "metadata": {
        "colab": {
          "base_uri": "https://localhost:8080/",
          "height": 363
        },
        "id": "fNibvy7mFhYn",
        "outputId": "e32326c6-4c13-48bb-e6f4-b176b4a34560"
      },
      "outputs": [
        {
          "data": {
            "text/html": [
              "<div>\n",
              "<style scoped>\n",
              "    .dataframe tbody tr th:only-of-type {\n",
              "        vertical-align: middle;\n",
              "    }\n",
              "\n",
              "    .dataframe tbody tr th {\n",
              "        vertical-align: top;\n",
              "    }\n",
              "\n",
              "    .dataframe thead th {\n",
              "        text-align: right;\n",
              "    }\n",
              "</style>\n",
              "<table border=\"1\" class=\"dataframe\">\n",
              "  <thead>\n",
              "    <tr style=\"text-align: right;\">\n",
              "      <th></th>\n",
              "      <th>family_struct</th>\n",
              "      <th>age_group</th>\n",
              "      <th>income</th>\n",
              "      <th>label</th>\n",
              "    </tr>\n",
              "  </thead>\n",
              "  <tbody>\n",
              "    <tr>\n",
              "      <th>0</th>\n",
              "      <td>Nuclear</td>\n",
              "      <td>Young</td>\n",
              "      <td>Low</td>\n",
              "      <td>Yes</td>\n",
              "    </tr>\n",
              "    <tr>\n",
              "      <th>1</th>\n",
              "      <td>Extended</td>\n",
              "      <td>Old</td>\n",
              "      <td>Low</td>\n",
              "      <td>No</td>\n",
              "    </tr>\n",
              "    <tr>\n",
              "      <th>2</th>\n",
              "      <td>Childless</td>\n",
              "      <td>Middle-aged</td>\n",
              "      <td>Low</td>\n",
              "      <td>No</td>\n",
              "    </tr>\n",
              "    <tr>\n",
              "      <th>3</th>\n",
              "      <td>Childless</td>\n",
              "      <td>Young</td>\n",
              "      <td>Medium</td>\n",
              "      <td>Yes</td>\n",
              "    </tr>\n",
              "    <tr>\n",
              "      <th>4</th>\n",
              "      <td>Single Parent</td>\n",
              "      <td>Middle-aged</td>\n",
              "      <td>Medium</td>\n",
              "      <td>Yes</td>\n",
              "    </tr>\n",
              "    <tr>\n",
              "      <th>5</th>\n",
              "      <td>Childless</td>\n",
              "      <td>Young</td>\n",
              "      <td>Low</td>\n",
              "      <td>No</td>\n",
              "    </tr>\n",
              "    <tr>\n",
              "      <th>6</th>\n",
              "      <td>Nuclear</td>\n",
              "      <td>Old</td>\n",
              "      <td>High</td>\n",
              "      <td>Yes</td>\n",
              "    </tr>\n",
              "    <tr>\n",
              "      <th>7</th>\n",
              "      <td>Nuclear</td>\n",
              "      <td>Middle-aged</td>\n",
              "      <td>Medium</td>\n",
              "      <td>Yes</td>\n",
              "    </tr>\n",
              "    <tr>\n",
              "      <th>8</th>\n",
              "      <td>Extended</td>\n",
              "      <td>Middle-aged</td>\n",
              "      <td>High</td>\n",
              "      <td>Yes</td>\n",
              "    </tr>\n",
              "    <tr>\n",
              "      <th>9</th>\n",
              "      <td>Single Parent</td>\n",
              "      <td>Old</td>\n",
              "      <td>Low</td>\n",
              "      <td>No</td>\n",
              "    </tr>\n",
              "  </tbody>\n",
              "</table>\n",
              "</div>"
            ],
            "text/plain": [
              "   family_struct    age_group  income label\n",
              "0        Nuclear        Young     Low   Yes\n",
              "1       Extended          Old     Low    No\n",
              "2      Childless  Middle-aged     Low    No\n",
              "3      Childless        Young  Medium   Yes\n",
              "4  Single Parent  Middle-aged  Medium   Yes\n",
              "5      Childless        Young     Low    No\n",
              "6        Nuclear          Old    High   Yes\n",
              "7        Nuclear  Middle-aged  Medium   Yes\n",
              "8       Extended  Middle-aged    High   Yes\n",
              "9  Single Parent          Old     Low    No"
            ]
          },
          "execution_count": 228,
          "metadata": {},
          "output_type": "execute_result"
        }
      ],
      "source": [
        "# Display Pandas Dataframe\n",
        "\n",
        "df"
      ]
    },
    {
      "cell_type": "markdown",
      "metadata": {
        "id": "kXWytegWFo0F"
      },
      "source": [
        "---\n",
        "First, we **count the probability of our class/label**."
      ]
    },
    {
      "cell_type": "code",
      "execution_count": 275,
      "metadata": {
        "id": "m5YzyMtzFwXO"
      },
      "outputs": [],
      "source": [
        "# Create Frequency and Probability Each Label\n",
        "\n",
        "df_grp_lbl=df.groupby('label').count().reset_index()[['label','income']]\n",
        "df_grp_lbl.rename({'income': 'f_h'}, axis=1, inplace=True)\n",
        "df_grp_lbl['p_h']=df_grp_lbl['f_h']/df_grp_lbl['f_h'].sum()"
      ]
    },
    {
      "cell_type": "code",
      "execution_count": 276,
      "metadata": {
        "colab": {
          "base_uri": "https://localhost:8080/",
          "height": 112
        },
        "id": "yui5OC5rF6b_",
        "outputId": "e47c1238-4ab4-4f66-8f4c-5197823d2fed"
      },
      "outputs": [
        {
          "data": {
            "text/html": [
              "<div>\n",
              "<style scoped>\n",
              "    .dataframe tbody tr th:only-of-type {\n",
              "        vertical-align: middle;\n",
              "    }\n",
              "\n",
              "    .dataframe tbody tr th {\n",
              "        vertical-align: top;\n",
              "    }\n",
              "\n",
              "    .dataframe thead th {\n",
              "        text-align: right;\n",
              "    }\n",
              "</style>\n",
              "<table border=\"1\" class=\"dataframe\">\n",
              "  <thead>\n",
              "    <tr style=\"text-align: right;\">\n",
              "      <th></th>\n",
              "      <th>label</th>\n",
              "      <th>f_h</th>\n",
              "      <th>p_h</th>\n",
              "    </tr>\n",
              "  </thead>\n",
              "  <tbody>\n",
              "    <tr>\n",
              "      <th>0</th>\n",
              "      <td>No</td>\n",
              "      <td>4</td>\n",
              "      <td>0.4</td>\n",
              "    </tr>\n",
              "    <tr>\n",
              "      <th>1</th>\n",
              "      <td>Yes</td>\n",
              "      <td>6</td>\n",
              "      <td>0.6</td>\n",
              "    </tr>\n",
              "  </tbody>\n",
              "</table>\n",
              "</div>"
            ],
            "text/plain": [
              "  label  f_h  p_h\n",
              "0    No    4  0.4\n",
              "1   Yes    6  0.6"
            ]
          },
          "execution_count": 276,
          "metadata": {},
          "output_type": "execute_result"
        }
      ],
      "source": [
        "# Display Frequency and Probability for Each Label\n",
        "\n",
        "df_grp_lbl"
      ]
    },
    {
      "cell_type": "markdown",
      "metadata": {
        "id": "RQnvkS2SMbaB"
      },
      "source": [
        "Notes : \n",
        "* `f_h` : Frequency of a label.\n",
        "* `p_h` : Probability of a label."
      ]
    },
    {
      "cell_type": "markdown",
      "metadata": {
        "id": "Dw7IkhxPGCxd"
      },
      "source": [
        "---\n",
        "Next, **we count the frequency of each events**. We will need this to count the conditional probability."
      ]
    },
    {
      "cell_type": "code",
      "execution_count": 280,
      "metadata": {
        "id": "tAdq_yfHF6x3"
      },
      "outputs": [],
      "source": [
        "# Create a dataframe that contains chopped of a features and its label\n",
        "\n",
        "df_melt = df.melt(id_vars=['label'],var_name='features',value_name='value')\n",
        "df_melt.columns=['label']+list(df_melt.columns[1:])"
      ]
    },
    {
      "cell_type": "code",
      "execution_count": 232,
      "metadata": {
        "colab": {
          "base_uri": "https://localhost:8080/"
        },
        "id": "iIHI3Qewrs8k",
        "outputId": "3f6bfc78-e1cb-4e59-91b0-1cd850e4d1d1"
      },
      "outputs": [
        {
          "name": "stdout",
          "output_type": "stream",
          "text": [
            "Original Dataframe\n",
            "   family_struct    age_group  income label\n",
            "0        Nuclear        Young     Low   Yes\n",
            "1       Extended          Old     Low    No\n",
            "2      Childless  Middle-aged     Low    No\n",
            "3      Childless        Young  Medium   Yes\n",
            "4  Single Parent  Middle-aged  Medium   Yes\n",
            "5      Childless        Young     Low    No\n",
            "6        Nuclear          Old    High   Yes\n",
            "7        Nuclear  Middle-aged  Medium   Yes\n",
            "8       Extended  Middle-aged    High   Yes\n",
            "9  Single Parent          Old     Low    No\n",
            "\n",
            "Chopped Datafram\n",
            "   label       features          value\n",
            "0    Yes  family_struct        Nuclear\n",
            "1     No  family_struct       Extended\n",
            "2     No  family_struct      Childless\n",
            "3    Yes  family_struct      Childless\n",
            "4    Yes  family_struct  Single Parent\n",
            "5     No  family_struct      Childless\n",
            "6    Yes  family_struct        Nuclear\n",
            "7    Yes  family_struct        Nuclear\n",
            "8    Yes  family_struct       Extended\n",
            "9     No  family_struct  Single Parent\n",
            "10   Yes      age_group          Young\n",
            "11    No      age_group            Old\n",
            "12    No      age_group    Middle-aged\n",
            "13   Yes      age_group          Young\n",
            "14   Yes      age_group    Middle-aged\n",
            "15    No      age_group          Young\n",
            "16   Yes      age_group            Old\n",
            "17   Yes      age_group    Middle-aged\n",
            "18   Yes      age_group    Middle-aged\n",
            "19    No      age_group            Old\n",
            "20   Yes         income            Low\n",
            "21    No         income            Low\n",
            "22    No         income            Low\n",
            "23   Yes         income         Medium\n",
            "24   Yes         income         Medium\n",
            "25    No         income            Low\n",
            "26   Yes         income           High\n",
            "27   Yes         income         Medium\n",
            "28   Yes         income           High\n",
            "29    No         income            Low\n"
          ]
        }
      ],
      "source": [
        "# Addition - Display `df_melt`\n",
        "\n",
        "print('Original Dataframe')\n",
        "print(df)\n",
        "print('')\n",
        "print('Chopped Datafram')\n",
        "print(df_melt)"
      ]
    },
    {
      "cell_type": "code",
      "execution_count": 233,
      "metadata": {
        "colab": {
          "base_uri": "https://localhost:8080/"
        },
        "id": "LxTr_hqqGN0f",
        "outputId": "3ba97595-5171-47b5-e999-b1c5248839c8"
      },
      "outputs": [
        {
          "name": "stdout",
          "output_type": "stream",
          "text": [
            "   label       features          value  f_e_given_h\n",
            "0     No      age_group    Middle-aged            1\n",
            "1     No      age_group            Old            2\n",
            "2     No      age_group          Young            1\n",
            "3     No  family_struct      Childless            2\n",
            "4     No  family_struct       Extended            1\n",
            "5     No  family_struct  Single Parent            1\n",
            "6     No         income            Low            4\n",
            "7    Yes      age_group    Middle-aged            3\n",
            "8    Yes      age_group            Old            1\n",
            "9    Yes      age_group          Young            2\n",
            "10   Yes  family_struct      Childless            1\n",
            "11   Yes  family_struct       Extended            1\n",
            "12   Yes  family_struct        Nuclear            3\n",
            "13   Yes  family_struct  Single Parent            1\n",
            "14   Yes         income           High            2\n",
            "15   Yes         income            Low            1\n",
            "16   Yes         income         Medium            3\n"
          ]
        }
      ],
      "source": [
        "# Let's group it and get its frequencies\n",
        "\n",
        "df_grp=df_melt.groupby(['label','features','value']).size().reset_index(name='count')\n",
        "df_grp.columns=list(df_grp.columns[:-1])+['f_e_given_h']\n",
        "\n",
        "print(df_grp)"
      ]
    },
    {
      "cell_type": "code",
      "execution_count": 234,
      "metadata": {
        "colab": {
          "base_uri": "https://localhost:8080/",
          "height": 112
        },
        "id": "nWgoCUiZOIWW",
        "outputId": "f4786e5c-031b-4af3-92fb-6b6d522770c1"
      },
      "outputs": [
        {
          "data": {
            "text/html": [
              "<div>\n",
              "<style scoped>\n",
              "    .dataframe tbody tr th:only-of-type {\n",
              "        vertical-align: middle;\n",
              "    }\n",
              "\n",
              "    .dataframe tbody tr th {\n",
              "        vertical-align: top;\n",
              "    }\n",
              "\n",
              "    .dataframe thead th {\n",
              "        text-align: right;\n",
              "    }\n",
              "</style>\n",
              "<table border=\"1\" class=\"dataframe\">\n",
              "  <thead>\n",
              "    <tr style=\"text-align: right;\">\n",
              "      <th></th>\n",
              "      <th>label</th>\n",
              "      <th>features</th>\n",
              "      <th>value</th>\n",
              "      <th>f_e_given_h</th>\n",
              "    </tr>\n",
              "  </thead>\n",
              "  <tbody>\n",
              "    <tr>\n",
              "      <th>6</th>\n",
              "      <td>No</td>\n",
              "      <td>income</td>\n",
              "      <td>Low</td>\n",
              "      <td>4</td>\n",
              "    </tr>\n",
              "    <tr>\n",
              "      <th>15</th>\n",
              "      <td>Yes</td>\n",
              "      <td>income</td>\n",
              "      <td>Low</td>\n",
              "      <td>1</td>\n",
              "    </tr>\n",
              "  </tbody>\n",
              "</table>\n",
              "</div>"
            ],
            "text/plain": [
              "   label features value  f_e_given_h\n",
              "6     No   income   Low            4\n",
              "15   Yes   income   Low            1"
            ]
          },
          "execution_count": 234,
          "metadata": {},
          "output_type": "execute_result"
        }
      ],
      "source": [
        "# Now, we can filter the data based on whatever condition we like. Let's display rows that contains value == `Low`\n",
        "# f_h = frequency of Yes/No (regardless of attributes)\n",
        "# p_h = probabilty of Yes/No (regardless of attributes) (P(Yes) or P(No))\n",
        "\n",
        "# f_e_given_h = frequency of Yes/No given a specific attribute\n",
        "# p_e_given_h = probability of Yes/No given a specific attribute (P(attribute | Yes/No))\n",
        "\n",
        "df_grp[df_grp['value']=='Low'].head(5)"
      ]
    },
    {
      "cell_type": "code",
      "execution_count": 235,
      "metadata": {
        "colab": {
          "base_uri": "https://localhost:8080/"
        },
        "id": "YDzzDOrEGO2P",
        "outputId": "8879d0f7-f8f9-4db4-f96b-29895715e317"
      },
      "outputs": [
        {
          "name": "stdout",
          "output_type": "stream",
          "text": [
            "         features          value label  f_h  p_h\n",
            "0       age_group    Middle-aged    No    4  0.4\n",
            "1       age_group    Middle-aged   Yes    6  0.6\n",
            "2       age_group            Old    No    4  0.4\n",
            "3       age_group            Old   Yes    6  0.6\n",
            "4       age_group          Young    No    4  0.4\n",
            "5       age_group          Young   Yes    6  0.6\n",
            "6   family_struct      Childless    No    4  0.4\n",
            "7   family_struct      Childless   Yes    6  0.6\n",
            "8   family_struct       Extended    No    4  0.4\n",
            "9   family_struct       Extended   Yes    6  0.6\n",
            "10  family_struct        Nuclear    No    4  0.4\n",
            "11  family_struct        Nuclear   Yes    6  0.6\n",
            "12  family_struct  Single Parent    No    4  0.4\n",
            "13  family_struct  Single Parent   Yes    6  0.6\n",
            "14         income           High    No    4  0.4\n",
            "15         income           High   Yes    6  0.6\n",
            "16         income            Low    No    4  0.4\n",
            "17         income            Low   Yes    6  0.6\n",
            "18         income         Medium    No    4  0.4\n",
            "19         income         Medium   Yes    6  0.6\n"
          ]
        },
        {
          "name": "stderr",
          "output_type": "stream",
          "text": [
            "/var/folders/w9/5lrd8m1x4f586v9ynn8xrryw0000gn/T/ipykernel_71512/3916930899.py:7: FutureWarning: In a future version of pandas all arguments of DataFrame.drop except for the argument 'labels' will be keyword-only.\n",
            "  df_feat=pd.merge(df_a, df_b, on ='key').drop(\"key\", 1)\n"
          ]
        }
      ],
      "source": [
        "# Merging chopped dataframe with frequency and probability of label\n",
        "\n",
        "df_a=df_grp.groupby((['features','value'])).count().reset_index()[['features','value']]\n",
        "df_a['key']=1\n",
        "df_b = df_grp_lbl\n",
        "df_b['key']=1\n",
        "df_feat=pd.merge(df_a, df_b, on ='key').drop(\"key\", 1)\n",
        "\n",
        "print(df_feat)"
      ]
    },
    {
      "cell_type": "markdown",
      "metadata": {
        "id": "rRn2ybpLGTw1"
      },
      "source": [
        "---\n",
        "Then, we built the conditional probability table. In case there is a combination of event and hypotheses that never happened, i.e. Nuclei family size not buying car, we will fill the conditional probability with the prior probability of given class."
      ]
    },
    {
      "cell_type": "code",
      "execution_count": 236,
      "metadata": {
        "colab": {
          "base_uri": "https://localhost:8080/"
        },
        "id": "2NzN5uCPGQ_3",
        "outputId": "93bbc6d6-d061-435a-bca4-ccd40917f78a"
      },
      "outputs": [
        {
          "name": "stdout",
          "output_type": "stream",
          "text": [
            "         features          value label  f_h  p_h  f_e_given_h  p_e_given_h\n",
            "0       age_group    Middle-aged    No    4  0.4          1.0     0.250000\n",
            "1       age_group    Middle-aged   Yes    6  0.6          3.0     0.500000\n",
            "2       age_group            Old    No    4  0.4          2.0     0.500000\n",
            "3       age_group            Old   Yes    6  0.6          1.0     0.166667\n",
            "4       age_group          Young    No    4  0.4          1.0     0.250000\n",
            "5       age_group          Young   Yes    6  0.6          2.0     0.333333\n",
            "6   family_struct      Childless    No    4  0.4          2.0     0.500000\n",
            "7   family_struct      Childless   Yes    6  0.6          1.0     0.166667\n",
            "8   family_struct       Extended    No    4  0.4          1.0     0.250000\n",
            "9   family_struct       Extended   Yes    6  0.6          1.0     0.166667\n",
            "10  family_struct        Nuclear    No    4  0.4          NaN     0.000000\n",
            "11  family_struct        Nuclear   Yes    6  0.6          3.0     0.500000\n",
            "12  family_struct  Single Parent    No    4  0.4          1.0     0.250000\n",
            "13  family_struct  Single Parent   Yes    6  0.6          1.0     0.166667\n",
            "14         income           High    No    4  0.4          NaN     0.000000\n",
            "15         income           High   Yes    6  0.6          2.0     0.333333\n",
            "16         income            Low    No    4  0.4          4.0     1.000000\n",
            "17         income            Low   Yes    6  0.6          1.0     0.166667\n",
            "18         income         Medium    No    4  0.4          NaN     0.000000\n",
            "19         income         Medium   Yes    6  0.6          3.0     0.500000\n"
          ]
        }
      ],
      "source": [
        "# Combine all dataframe into one big dataframe with its frequencies and probabilities\n",
        "\n",
        "df_prob=df_feat.merge(df_grp,on=['label','features','value'], how='outer')\n",
        "df_prob['p_e_given_h']=df_prob['f_e_given_h']/df_prob['f_h']\n",
        "df_prob['p_e_given_h']=df_prob['p_e_given_h'].fillna(0)\n",
        "\n",
        "print(df_prob)"
      ]
    },
    {
      "cell_type": "markdown",
      "metadata": {
        "id": "t4eMvAMAKy1k"
      },
      "source": [
        "Notes : \n",
        "\n",
        "```\n",
        "f_h = frequency of Yes/No (regardless of attributes)\n",
        "p_h = probabilty of Yes/No (regardless of attributes) (P(Yes) or P(No))\n",
        "\n",
        "f_e_given_h = frequency of Yes/No given a specific attribute\n",
        "p_e_given_h = probability of Yes/No given a specific attribute (P(attribute | Yes/No))\n",
        "```"
      ]
    },
    {
      "cell_type": "markdown",
      "metadata": {
        "id": "0Uo9kvs_HSiG"
      },
      "source": [
        "---\n",
        "We can then use this table as a lookup to infer our data. As example, lets try to infer a family which is **Single Parent, Young, with Low income**."
      ]
    },
    {
      "cell_type": "code",
      "execution_count": 237,
      "metadata": {
        "colab": {
          "base_uri": "https://localhost:8080/"
        },
        "id": "R9x1Y0uVG_pf",
        "outputId": "07abe247-6002-45d1-f0c4-f74280227139"
      },
      "outputs": [
        {
          "name": "stdout",
          "output_type": "stream",
          "text": [
            "Step 1\n",
            "         features          value label  f_h  p_h  f_e_given_h  p_e_given_h\n",
            "4       age_group          Young    No    4  0.4          1.0     0.250000\n",
            "5       age_group          Young   Yes    6  0.6          2.0     0.333333\n",
            "12  family_struct  Single Parent    No    4  0.4          1.0     0.250000\n",
            "13  family_struct  Single Parent   Yes    6  0.6          1.0     0.166667\n",
            "16         income            Low    No    4  0.4          4.0     1.000000\n",
            "17         income            Low   Yes    6  0.6          1.0     0.166667\n",
            "\n",
            "Step 2\n",
            "  label  p_e_given_h\n",
            "0    No     0.062500\n",
            "1   Yes     0.009259\n",
            "\n",
            "Step 3\n",
            "Total Probability :  0.07175925925925926\n",
            "\n",
            "Step 4\n",
            "  label  p_e_given_h  norm_prob\n",
            "0    No     0.062500   0.870968\n",
            "1   Yes     0.009259   0.129032\n"
          ]
        }
      ],
      "source": [
        "# Step 1 : Get all data with attributes where `family_struct=Single Parent`, or `age_group=Young`, or `income=Low` regardless its label/target.\n",
        "df_ext = df_prob[(df_prob['value'].isin(['Single Parent','Young','Low']))]\n",
        "print('Step 1')\n",
        "print(df_ext)\n",
        "print('')\n",
        "\n",
        "# Step 2 : Get probability based on filtered data from Step 1 for each label (`Yes` and `No`).\n",
        "# How ? By multiply all probability values (`p_e_given_h`) based on the label/target ('Yes` and `No`)\n",
        "df_ext = df_ext.groupby('label').agg({'p_e_given_h':np.prod}).reset_index()\n",
        "print('Step 2')\n",
        "print(df_ext)\n",
        "print('')\n",
        "\n",
        "# Step 3 : Get sum/total of this two probabilities values.\n",
        "total_prob = df_ext['p_e_given_h'].sum()\n",
        "print('Step 3')\n",
        "print('Total Probability : ', total_prob)\n",
        "print('')\n",
        "\n",
        "# Step 4 : Divide `p_e_given_h` with `total_prob`\n",
        "print('Step 4')\n",
        "df_ext['norm_prob']=df_ext['p_e_given_h']/total_prob\n",
        "print(df_ext)"
      ]
    },
    {
      "cell_type": "markdown",
      "metadata": {
        "id": "gmTMKYfQHndP"
      },
      "source": [
        "---\n",
        "Let's inference all our training data"
      ]
    },
    {
      "cell_type": "code",
      "execution_count": 238,
      "metadata": {
        "colab": {
          "base_uri": "https://localhost:8080/"
        },
        "id": "UKZHbGp5HZnu",
        "outputId": "40fe3f06-c860-4212-ff55-a042ce29155e"
      },
      "outputs": [
        {
          "name": "stderr",
          "output_type": "stream",
          "text": [
            "/var/folders/w9/5lrd8m1x4f586v9ynn8xrryw0000gn/T/ipykernel_71512/4276635477.py:12: SettingWithCopyWarning: \n",
            "A value is trying to be set on a copy of a slice from a DataFrame.\n",
            "Try using .loc[row_indexer,col_indexer] = value instead\n",
            "\n",
            "See the caveats in the documentation: https://pandas.pydata.org/pandas-docs/stable/user_guide/indexing.html#returning-a-view-versus-a-copy\n",
            "  df_select['prob_no']=df_ext[df_ext['label']=='No']['norm_prob'].values[0]\n",
            "/var/folders/w9/5lrd8m1x4f586v9ynn8xrryw0000gn/T/ipykernel_71512/4276635477.py:13: SettingWithCopyWarning: \n",
            "A value is trying to be set on a copy of a slice from a DataFrame.\n",
            "Try using .loc[row_indexer,col_indexer] = value instead\n",
            "\n",
            "See the caveats in the documentation: https://pandas.pydata.org/pandas-docs/stable/user_guide/indexing.html#returning-a-view-versus-a-copy\n",
            "  df_select['prob_yes']=df_ext[df_ext['label']=='Yes']['norm_prob'].values[0]\n",
            "/var/folders/w9/5lrd8m1x4f586v9ynn8xrryw0000gn/T/ipykernel_71512/4276635477.py:12: SettingWithCopyWarning: \n",
            "A value is trying to be set on a copy of a slice from a DataFrame.\n",
            "Try using .loc[row_indexer,col_indexer] = value instead\n",
            "\n",
            "See the caveats in the documentation: https://pandas.pydata.org/pandas-docs/stable/user_guide/indexing.html#returning-a-view-versus-a-copy\n",
            "  df_select['prob_no']=df_ext[df_ext['label']=='No']['norm_prob'].values[0]\n",
            "/var/folders/w9/5lrd8m1x4f586v9ynn8xrryw0000gn/T/ipykernel_71512/4276635477.py:13: SettingWithCopyWarning: \n",
            "A value is trying to be set on a copy of a slice from a DataFrame.\n",
            "Try using .loc[row_indexer,col_indexer] = value instead\n",
            "\n",
            "See the caveats in the documentation: https://pandas.pydata.org/pandas-docs/stable/user_guide/indexing.html#returning-a-view-versus-a-copy\n",
            "  df_select['prob_yes']=df_ext[df_ext['label']=='Yes']['norm_prob'].values[0]\n",
            "/var/folders/w9/5lrd8m1x4f586v9ynn8xrryw0000gn/T/ipykernel_71512/4276635477.py:12: SettingWithCopyWarning: \n",
            "A value is trying to be set on a copy of a slice from a DataFrame.\n",
            "Try using .loc[row_indexer,col_indexer] = value instead\n",
            "\n",
            "See the caveats in the documentation: https://pandas.pydata.org/pandas-docs/stable/user_guide/indexing.html#returning-a-view-versus-a-copy\n",
            "  df_select['prob_no']=df_ext[df_ext['label']=='No']['norm_prob'].values[0]\n",
            "/var/folders/w9/5lrd8m1x4f586v9ynn8xrryw0000gn/T/ipykernel_71512/4276635477.py:13: SettingWithCopyWarning: \n",
            "A value is trying to be set on a copy of a slice from a DataFrame.\n",
            "Try using .loc[row_indexer,col_indexer] = value instead\n",
            "\n",
            "See the caveats in the documentation: https://pandas.pydata.org/pandas-docs/stable/user_guide/indexing.html#returning-a-view-versus-a-copy\n",
            "  df_select['prob_yes']=df_ext[df_ext['label']=='Yes']['norm_prob'].values[0]\n",
            "/var/folders/w9/5lrd8m1x4f586v9ynn8xrryw0000gn/T/ipykernel_71512/4276635477.py:12: SettingWithCopyWarning: \n",
            "A value is trying to be set on a copy of a slice from a DataFrame.\n",
            "Try using .loc[row_indexer,col_indexer] = value instead\n",
            "\n",
            "See the caveats in the documentation: https://pandas.pydata.org/pandas-docs/stable/user_guide/indexing.html#returning-a-view-versus-a-copy\n",
            "  df_select['prob_no']=df_ext[df_ext['label']=='No']['norm_prob'].values[0]\n",
            "/var/folders/w9/5lrd8m1x4f586v9ynn8xrryw0000gn/T/ipykernel_71512/4276635477.py:13: SettingWithCopyWarning: \n",
            "A value is trying to be set on a copy of a slice from a DataFrame.\n",
            "Try using .loc[row_indexer,col_indexer] = value instead\n",
            "\n",
            "See the caveats in the documentation: https://pandas.pydata.org/pandas-docs/stable/user_guide/indexing.html#returning-a-view-versus-a-copy\n",
            "  df_select['prob_yes']=df_ext[df_ext['label']=='Yes']['norm_prob'].values[0]\n",
            "/var/folders/w9/5lrd8m1x4f586v9ynn8xrryw0000gn/T/ipykernel_71512/4276635477.py:12: SettingWithCopyWarning: \n",
            "A value is trying to be set on a copy of a slice from a DataFrame.\n",
            "Try using .loc[row_indexer,col_indexer] = value instead\n",
            "\n",
            "See the caveats in the documentation: https://pandas.pydata.org/pandas-docs/stable/user_guide/indexing.html#returning-a-view-versus-a-copy\n",
            "  df_select['prob_no']=df_ext[df_ext['label']=='No']['norm_prob'].values[0]\n",
            "/var/folders/w9/5lrd8m1x4f586v9ynn8xrryw0000gn/T/ipykernel_71512/4276635477.py:13: SettingWithCopyWarning: \n",
            "A value is trying to be set on a copy of a slice from a DataFrame.\n",
            "Try using .loc[row_indexer,col_indexer] = value instead\n",
            "\n",
            "See the caveats in the documentation: https://pandas.pydata.org/pandas-docs/stable/user_guide/indexing.html#returning-a-view-versus-a-copy\n",
            "  df_select['prob_yes']=df_ext[df_ext['label']=='Yes']['norm_prob'].values[0]\n",
            "/var/folders/w9/5lrd8m1x4f586v9ynn8xrryw0000gn/T/ipykernel_71512/4276635477.py:12: SettingWithCopyWarning: \n",
            "A value is trying to be set on a copy of a slice from a DataFrame.\n",
            "Try using .loc[row_indexer,col_indexer] = value instead\n",
            "\n",
            "See the caveats in the documentation: https://pandas.pydata.org/pandas-docs/stable/user_guide/indexing.html#returning-a-view-versus-a-copy\n",
            "  df_select['prob_no']=df_ext[df_ext['label']=='No']['norm_prob'].values[0]\n",
            "/var/folders/w9/5lrd8m1x4f586v9ynn8xrryw0000gn/T/ipykernel_71512/4276635477.py:13: SettingWithCopyWarning: \n",
            "A value is trying to be set on a copy of a slice from a DataFrame.\n",
            "Try using .loc[row_indexer,col_indexer] = value instead\n",
            "\n",
            "See the caveats in the documentation: https://pandas.pydata.org/pandas-docs/stable/user_guide/indexing.html#returning-a-view-versus-a-copy\n",
            "  df_select['prob_yes']=df_ext[df_ext['label']=='Yes']['norm_prob'].values[0]\n",
            "/var/folders/w9/5lrd8m1x4f586v9ynn8xrryw0000gn/T/ipykernel_71512/4276635477.py:12: SettingWithCopyWarning: \n",
            "A value is trying to be set on a copy of a slice from a DataFrame.\n",
            "Try using .loc[row_indexer,col_indexer] = value instead\n",
            "\n",
            "See the caveats in the documentation: https://pandas.pydata.org/pandas-docs/stable/user_guide/indexing.html#returning-a-view-versus-a-copy\n",
            "  df_select['prob_no']=df_ext[df_ext['label']=='No']['norm_prob'].values[0]\n",
            "/var/folders/w9/5lrd8m1x4f586v9ynn8xrryw0000gn/T/ipykernel_71512/4276635477.py:13: SettingWithCopyWarning: \n",
            "A value is trying to be set on a copy of a slice from a DataFrame.\n",
            "Try using .loc[row_indexer,col_indexer] = value instead\n",
            "\n",
            "See the caveats in the documentation: https://pandas.pydata.org/pandas-docs/stable/user_guide/indexing.html#returning-a-view-versus-a-copy\n",
            "  df_select['prob_yes']=df_ext[df_ext['label']=='Yes']['norm_prob'].values[0]\n",
            "/var/folders/w9/5lrd8m1x4f586v9ynn8xrryw0000gn/T/ipykernel_71512/4276635477.py:12: SettingWithCopyWarning: \n",
            "A value is trying to be set on a copy of a slice from a DataFrame.\n",
            "Try using .loc[row_indexer,col_indexer] = value instead\n",
            "\n",
            "See the caveats in the documentation: https://pandas.pydata.org/pandas-docs/stable/user_guide/indexing.html#returning-a-view-versus-a-copy\n",
            "  df_select['prob_no']=df_ext[df_ext['label']=='No']['norm_prob'].values[0]\n",
            "/var/folders/w9/5lrd8m1x4f586v9ynn8xrryw0000gn/T/ipykernel_71512/4276635477.py:13: SettingWithCopyWarning: \n",
            "A value is trying to be set on a copy of a slice from a DataFrame.\n",
            "Try using .loc[row_indexer,col_indexer] = value instead\n",
            "\n",
            "See the caveats in the documentation: https://pandas.pydata.org/pandas-docs/stable/user_guide/indexing.html#returning-a-view-versus-a-copy\n",
            "  df_select['prob_yes']=df_ext[df_ext['label']=='Yes']['norm_prob'].values[0]\n",
            "/var/folders/w9/5lrd8m1x4f586v9ynn8xrryw0000gn/T/ipykernel_71512/4276635477.py:12: SettingWithCopyWarning: \n",
            "A value is trying to be set on a copy of a slice from a DataFrame.\n",
            "Try using .loc[row_indexer,col_indexer] = value instead\n",
            "\n",
            "See the caveats in the documentation: https://pandas.pydata.org/pandas-docs/stable/user_guide/indexing.html#returning-a-view-versus-a-copy\n",
            "  df_select['prob_no']=df_ext[df_ext['label']=='No']['norm_prob'].values[0]\n",
            "/var/folders/w9/5lrd8m1x4f586v9ynn8xrryw0000gn/T/ipykernel_71512/4276635477.py:13: SettingWithCopyWarning: \n",
            "A value is trying to be set on a copy of a slice from a DataFrame.\n",
            "Try using .loc[row_indexer,col_indexer] = value instead\n",
            "\n",
            "See the caveats in the documentation: https://pandas.pydata.org/pandas-docs/stable/user_guide/indexing.html#returning-a-view-versus-a-copy\n",
            "  df_select['prob_yes']=df_ext[df_ext['label']=='Yes']['norm_prob'].values[0]\n",
            "/var/folders/w9/5lrd8m1x4f586v9ynn8xrryw0000gn/T/ipykernel_71512/4276635477.py:12: SettingWithCopyWarning: \n",
            "A value is trying to be set on a copy of a slice from a DataFrame.\n",
            "Try using .loc[row_indexer,col_indexer] = value instead\n",
            "\n",
            "See the caveats in the documentation: https://pandas.pydata.org/pandas-docs/stable/user_guide/indexing.html#returning-a-view-versus-a-copy\n",
            "  df_select['prob_no']=df_ext[df_ext['label']=='No']['norm_prob'].values[0]\n",
            "/var/folders/w9/5lrd8m1x4f586v9ynn8xrryw0000gn/T/ipykernel_71512/4276635477.py:13: SettingWithCopyWarning: \n",
            "A value is trying to be set on a copy of a slice from a DataFrame.\n",
            "Try using .loc[row_indexer,col_indexer] = value instead\n",
            "\n",
            "See the caveats in the documentation: https://pandas.pydata.org/pandas-docs/stable/user_guide/indexing.html#returning-a-view-versus-a-copy\n",
            "  df_select['prob_yes']=df_ext[df_ext['label']=='Yes']['norm_prob'].values[0]\n"
          ]
        }
      ],
      "source": [
        "# Inferencing all possibilities of features based on given dataset\n",
        "\n",
        "small_dfs = []\n",
        "X=df[df.columns[:-1]]\n",
        "for idx in range(len(X)):\n",
        "    df_select = X.iloc[[idx]]\n",
        "    df_ext=df_prob[df_prob['value'].isin(df_select.values[0])]\n",
        "    df_ext=df_ext.groupby('label').agg({'p_e_given_h':np.prod}).reset_index()\n",
        "    df_ext.columns=['label','p_h']\n",
        "    df_ext['total_prob']=df_ext['p_h'].sum()\n",
        "    df_ext['norm_prob']=df_ext['p_h']/df_ext['total_prob']\n",
        "    df_select['prob_no']=df_ext[df_ext['label']=='No']['norm_prob'].values[0]\n",
        "    df_select['prob_yes']=df_ext[df_ext['label']=='Yes']['norm_prob'].values[0]\n",
        "    small_dfs.append(df_select)\n",
        "    \n",
        "df_infer = pd.concat(small_dfs, ignore_index=True)"
      ]
    },
    {
      "cell_type": "code",
      "execution_count": 239,
      "metadata": {
        "colab": {
          "base_uri": "https://localhost:8080/",
          "height": 363
        },
        "id": "1Flp_cTKHycG",
        "outputId": "564277e1-6584-4090-b8e9-84a3525ee3d3"
      },
      "outputs": [
        {
          "data": {
            "text/html": [
              "<div>\n",
              "<style scoped>\n",
              "    .dataframe tbody tr th:only-of-type {\n",
              "        vertical-align: middle;\n",
              "    }\n",
              "\n",
              "    .dataframe tbody tr th {\n",
              "        vertical-align: top;\n",
              "    }\n",
              "\n",
              "    .dataframe thead th {\n",
              "        text-align: right;\n",
              "    }\n",
              "</style>\n",
              "<table border=\"1\" class=\"dataframe\">\n",
              "  <thead>\n",
              "    <tr style=\"text-align: right;\">\n",
              "      <th></th>\n",
              "      <th>family_struct</th>\n",
              "      <th>age_group</th>\n",
              "      <th>income</th>\n",
              "      <th>prob_no</th>\n",
              "      <th>prob_yes</th>\n",
              "    </tr>\n",
              "  </thead>\n",
              "  <tbody>\n",
              "    <tr>\n",
              "      <th>0</th>\n",
              "      <td>Nuclear</td>\n",
              "      <td>Young</td>\n",
              "      <td>Low</td>\n",
              "      <td>0.000000</td>\n",
              "      <td>1.000000</td>\n",
              "    </tr>\n",
              "    <tr>\n",
              "      <th>1</th>\n",
              "      <td>Extended</td>\n",
              "      <td>Old</td>\n",
              "      <td>Low</td>\n",
              "      <td>0.964286</td>\n",
              "      <td>0.035714</td>\n",
              "    </tr>\n",
              "    <tr>\n",
              "      <th>2</th>\n",
              "      <td>Childless</td>\n",
              "      <td>Middle-aged</td>\n",
              "      <td>Low</td>\n",
              "      <td>0.900000</td>\n",
              "      <td>0.100000</td>\n",
              "    </tr>\n",
              "    <tr>\n",
              "      <th>3</th>\n",
              "      <td>Childless</td>\n",
              "      <td>Young</td>\n",
              "      <td>Medium</td>\n",
              "      <td>0.000000</td>\n",
              "      <td>1.000000</td>\n",
              "    </tr>\n",
              "    <tr>\n",
              "      <th>4</th>\n",
              "      <td>Single Parent</td>\n",
              "      <td>Middle-aged</td>\n",
              "      <td>Medium</td>\n",
              "      <td>0.000000</td>\n",
              "      <td>1.000000</td>\n",
              "    </tr>\n",
              "    <tr>\n",
              "      <th>5</th>\n",
              "      <td>Childless</td>\n",
              "      <td>Young</td>\n",
              "      <td>Low</td>\n",
              "      <td>0.931034</td>\n",
              "      <td>0.068966</td>\n",
              "    </tr>\n",
              "    <tr>\n",
              "      <th>6</th>\n",
              "      <td>Nuclear</td>\n",
              "      <td>Old</td>\n",
              "      <td>High</td>\n",
              "      <td>0.000000</td>\n",
              "      <td>1.000000</td>\n",
              "    </tr>\n",
              "    <tr>\n",
              "      <th>7</th>\n",
              "      <td>Nuclear</td>\n",
              "      <td>Middle-aged</td>\n",
              "      <td>Medium</td>\n",
              "      <td>0.000000</td>\n",
              "      <td>1.000000</td>\n",
              "    </tr>\n",
              "    <tr>\n",
              "      <th>8</th>\n",
              "      <td>Extended</td>\n",
              "      <td>Middle-aged</td>\n",
              "      <td>High</td>\n",
              "      <td>0.000000</td>\n",
              "      <td>1.000000</td>\n",
              "    </tr>\n",
              "    <tr>\n",
              "      <th>9</th>\n",
              "      <td>Single Parent</td>\n",
              "      <td>Old</td>\n",
              "      <td>Low</td>\n",
              "      <td>0.964286</td>\n",
              "      <td>0.035714</td>\n",
              "    </tr>\n",
              "  </tbody>\n",
              "</table>\n",
              "</div>"
            ],
            "text/plain": [
              "   family_struct    age_group  income   prob_no  prob_yes\n",
              "0        Nuclear        Young     Low  0.000000  1.000000\n",
              "1       Extended          Old     Low  0.964286  0.035714\n",
              "2      Childless  Middle-aged     Low  0.900000  0.100000\n",
              "3      Childless        Young  Medium  0.000000  1.000000\n",
              "4  Single Parent  Middle-aged  Medium  0.000000  1.000000\n",
              "5      Childless        Young     Low  0.931034  0.068966\n",
              "6        Nuclear          Old    High  0.000000  1.000000\n",
              "7        Nuclear  Middle-aged  Medium  0.000000  1.000000\n",
              "8       Extended  Middle-aged    High  0.000000  1.000000\n",
              "9  Single Parent          Old     Low  0.964286  0.035714"
            ]
          },
          "execution_count": 239,
          "metadata": {},
          "output_type": "execute_result"
        }
      ],
      "source": [
        "# Display probabilities for given dataset\n",
        "\n",
        "df_infer"
      ]
    },
    {
      "cell_type": "markdown",
      "metadata": {
        "id": "6FfgAIICIQ0A"
      },
      "source": [
        "---\n",
        "Let's compare it with Scikit-Learn implementation"
      ]
    },
    {
      "cell_type": "code",
      "execution_count": 240,
      "metadata": {
        "id": "pFtFqwbCH1Om"
      },
      "outputs": [],
      "source": [
        "# First, we must encode the dataset into numeric. Let's use One Hot Encoding for Features and Label Encoder for Target.\n",
        "\n",
        "from sklearn.preprocessing import OneHotEncoder,LabelEncoder\n",
        "enc = OneHotEncoder()\n",
        "\n",
        "X = df[df.columns[:-1]]\n",
        "enc.fit(X)\n",
        "X_enc=enc.transform(X).toarray()"
      ]
    },
    {
      "cell_type": "code",
      "execution_count": 241,
      "metadata": {
        "colab": {
          "base_uri": "https://localhost:8080/"
        },
        "id": "ToFnO8I318fU",
        "outputId": "156e74b6-1a39-490b-9036-73bfb704e413"
      },
      "outputs": [
        {
          "name": "stdout",
          "output_type": "stream",
          "text": [
            "X : \n",
            "    family_struct    age_group  income\n",
            "0        Nuclear        Young     Low\n",
            "1       Extended          Old     Low\n",
            "2      Childless  Middle-aged     Low\n",
            "3      Childless        Young  Medium\n",
            "4  Single Parent  Middle-aged  Medium\n",
            "5      Childless        Young     Low\n",
            "6        Nuclear          Old    High\n",
            "7        Nuclear  Middle-aged  Medium\n",
            "8       Extended  Middle-aged    High\n",
            "9  Single Parent          Old     Low \n",
            "\n",
            "One Hot Encoding : \n",
            " [[0. 0. 1. 0. 0. 0. 1. 0. 1. 0.]\n",
            " [0. 1. 0. 0. 0. 1. 0. 0. 1. 0.]\n",
            " [1. 0. 0. 0. 1. 0. 0. 0. 1. 0.]\n",
            " [1. 0. 0. 0. 0. 0. 1. 0. 0. 1.]\n",
            " [0. 0. 0. 1. 1. 0. 0. 0. 0. 1.]\n",
            " [1. 0. 0. 0. 0. 0. 1. 0. 1. 0.]\n",
            " [0. 0. 1. 0. 0. 1. 0. 1. 0. 0.]\n",
            " [0. 0. 1. 0. 1. 0. 0. 0. 0. 1.]\n",
            " [0. 1. 0. 0. 1. 0. 0. 1. 0. 0.]\n",
            " [0. 0. 0. 1. 0. 1. 0. 0. 1. 0.]]\n"
          ]
        }
      ],
      "source": [
        "# Display `X`\n",
        "\n",
        "print('X : \\n', X, '\\n')\n",
        "print('One Hot Encoding : \\n', X_enc)"
      ]
    },
    {
      "cell_type": "code",
      "execution_count": 242,
      "metadata": {
        "colab": {
          "base_uri": "https://localhost:8080/"
        },
        "id": "7k6u6ceZIZSf",
        "outputId": "0cf700c4-e1ec-4389-a951-1bd99e10a161"
      },
      "outputs": [
        {
          "name": "stdout",
          "output_type": "stream",
          "text": [
            "Label: [1 0 0 1 1 0 1 1 1 0]\n"
          ]
        }
      ],
      "source": [
        "# Encode Target into numeric\n",
        "\n",
        "le = LabelEncoder()\n",
        "label_encoded=le.fit_transform(df['label'])\n",
        "print(\"Label:\",label_encoded)"
      ]
    },
    {
      "cell_type": "code",
      "execution_count": 243,
      "metadata": {
        "colab": {
          "base_uri": "https://localhost:8080/"
        },
        "id": "pNSihtABIcB-",
        "outputId": "e3c49987-bc1b-407b-a7d2-fa217fb5c2d4"
      },
      "outputs": [
        {
          "data": {
            "text/html": [
              "<style>#sk-container-id-29 {color: black;background-color: white;}#sk-container-id-29 pre{padding: 0;}#sk-container-id-29 div.sk-toggleable {background-color: white;}#sk-container-id-29 label.sk-toggleable__label {cursor: pointer;display: block;width: 100%;margin-bottom: 0;padding: 0.3em;box-sizing: border-box;text-align: center;}#sk-container-id-29 label.sk-toggleable__label-arrow:before {content: \"▸\";float: left;margin-right: 0.25em;color: #696969;}#sk-container-id-29 label.sk-toggleable__label-arrow:hover:before {color: black;}#sk-container-id-29 div.sk-estimator:hover label.sk-toggleable__label-arrow:before {color: black;}#sk-container-id-29 div.sk-toggleable__content {max-height: 0;max-width: 0;overflow: hidden;text-align: left;background-color: #f0f8ff;}#sk-container-id-29 div.sk-toggleable__content pre {margin: 0.2em;color: black;border-radius: 0.25em;background-color: #f0f8ff;}#sk-container-id-29 input.sk-toggleable__control:checked~div.sk-toggleable__content {max-height: 200px;max-width: 100%;overflow: auto;}#sk-container-id-29 input.sk-toggleable__control:checked~label.sk-toggleable__label-arrow:before {content: \"▾\";}#sk-container-id-29 div.sk-estimator input.sk-toggleable__control:checked~label.sk-toggleable__label {background-color: #d4ebff;}#sk-container-id-29 div.sk-label input.sk-toggleable__control:checked~label.sk-toggleable__label {background-color: #d4ebff;}#sk-container-id-29 input.sk-hidden--visually {border: 0;clip: rect(1px 1px 1px 1px);clip: rect(1px, 1px, 1px, 1px);height: 1px;margin: -1px;overflow: hidden;padding: 0;position: absolute;width: 1px;}#sk-container-id-29 div.sk-estimator {font-family: monospace;background-color: #f0f8ff;border: 1px dotted black;border-radius: 0.25em;box-sizing: border-box;margin-bottom: 0.5em;}#sk-container-id-29 div.sk-estimator:hover {background-color: #d4ebff;}#sk-container-id-29 div.sk-parallel-item::after {content: \"\";width: 100%;border-bottom: 1px solid gray;flex-grow: 1;}#sk-container-id-29 div.sk-label:hover label.sk-toggleable__label {background-color: #d4ebff;}#sk-container-id-29 div.sk-serial::before {content: \"\";position: absolute;border-left: 1px solid gray;box-sizing: border-box;top: 0;bottom: 0;left: 50%;z-index: 0;}#sk-container-id-29 div.sk-serial {display: flex;flex-direction: column;align-items: center;background-color: white;padding-right: 0.2em;padding-left: 0.2em;position: relative;}#sk-container-id-29 div.sk-item {position: relative;z-index: 1;}#sk-container-id-29 div.sk-parallel {display: flex;align-items: stretch;justify-content: center;background-color: white;position: relative;}#sk-container-id-29 div.sk-item::before, #sk-container-id-29 div.sk-parallel-item::before {content: \"\";position: absolute;border-left: 1px solid gray;box-sizing: border-box;top: 0;bottom: 0;left: 50%;z-index: -1;}#sk-container-id-29 div.sk-parallel-item {display: flex;flex-direction: column;z-index: 1;position: relative;background-color: white;}#sk-container-id-29 div.sk-parallel-item:first-child::after {align-self: flex-end;width: 50%;}#sk-container-id-29 div.sk-parallel-item:last-child::after {align-self: flex-start;width: 50%;}#sk-container-id-29 div.sk-parallel-item:only-child::after {width: 0;}#sk-container-id-29 div.sk-dashed-wrapped {border: 1px dashed gray;margin: 0 0.4em 0.5em 0.4em;box-sizing: border-box;padding-bottom: 0.4em;background-color: white;}#sk-container-id-29 div.sk-label label {font-family: monospace;font-weight: bold;display: inline-block;line-height: 1.2em;}#sk-container-id-29 div.sk-label-container {text-align: center;}#sk-container-id-29 div.sk-container {/* jupyter's `normalize.less` sets `[hidden] { display: none; }` but bootstrap.min.css set `[hidden] { display: none !important; }` so we also need the `!important` here to be able to override the default hidden behavior on the sphinx rendered scikit-learn.org. See: https://github.com/scikit-learn/scikit-learn/issues/21755 */display: inline-block !important;position: relative;}#sk-container-id-29 div.sk-text-repr-fallback {display: none;}</style><div id=\"sk-container-id-29\" class=\"sk-top-container\"><div class=\"sk-text-repr-fallback\"><pre>GaussianNB()</pre><b>In a Jupyter environment, please rerun this cell to show the HTML representation or trust the notebook. <br />On GitHub, the HTML representation is unable to render, please try loading this page with nbviewer.org.</b></div><div class=\"sk-container\" hidden><div class=\"sk-item\"><div class=\"sk-estimator sk-toggleable\"><input class=\"sk-toggleable__control sk-hidden--visually\" id=\"sk-estimator-id-29\" type=\"checkbox\" checked><label for=\"sk-estimator-id-29\" class=\"sk-toggleable__label sk-toggleable__label-arrow\">GaussianNB</label><div class=\"sk-toggleable__content\"><pre>GaussianNB()</pre></div></div></div></div></div>"
            ],
            "text/plain": [
              "GaussianNB()"
            ]
          },
          "execution_count": 243,
          "metadata": {},
          "output_type": "execute_result"
        }
      ],
      "source": [
        "# Import Gaussian Naive Bayes model\n",
        "from sklearn.naive_bayes import GaussianNB\n",
        "\n",
        "# Create a Gaussian Classifier\n",
        "model = GaussianNB()\n",
        "\n",
        "# Train the model using the training sets\n",
        "model.fit(X_enc,label_encoded)"
      ]
    },
    {
      "cell_type": "code",
      "execution_count": 244,
      "metadata": {
        "colab": {
          "base_uri": "https://localhost:8080/",
          "height": 496
        },
        "id": "Ix5nFvLEIdUT",
        "outputId": "0b87acf0-596e-4690-935e-269716d2074c"
      },
      "outputs": [
        {
          "data": {
            "text/html": [
              "<div>\n",
              "<style scoped>\n",
              "    .dataframe tbody tr th:only-of-type {\n",
              "        vertical-align: middle;\n",
              "    }\n",
              "\n",
              "    .dataframe tbody tr th {\n",
              "        vertical-align: top;\n",
              "    }\n",
              "\n",
              "    .dataframe thead th {\n",
              "        text-align: right;\n",
              "    }\n",
              "</style>\n",
              "<table border=\"1\" class=\"dataframe\">\n",
              "  <thead>\n",
              "    <tr style=\"text-align: right;\">\n",
              "      <th></th>\n",
              "      <th>family_struct</th>\n",
              "      <th>age_group</th>\n",
              "      <th>income</th>\n",
              "      <th>prob_no</th>\n",
              "      <th>prob_yes</th>\n",
              "      <th>prob_no_sklearn</th>\n",
              "      <th>prob_yes_sklearn</th>\n",
              "    </tr>\n",
              "  </thead>\n",
              "  <tbody>\n",
              "    <tr>\n",
              "      <th>0</th>\n",
              "      <td>Nuclear</td>\n",
              "      <td>Young</td>\n",
              "      <td>Low</td>\n",
              "      <td>0.000000</td>\n",
              "      <td>1.000000</td>\n",
              "      <td>0.0</td>\n",
              "      <td>1.000000e+00</td>\n",
              "    </tr>\n",
              "    <tr>\n",
              "      <th>1</th>\n",
              "      <td>Extended</td>\n",
              "      <td>Old</td>\n",
              "      <td>Low</td>\n",
              "      <td>0.964286</td>\n",
              "      <td>0.035714</td>\n",
              "      <td>1.0</td>\n",
              "      <td>5.078957e-21</td>\n",
              "    </tr>\n",
              "    <tr>\n",
              "      <th>2</th>\n",
              "      <td>Childless</td>\n",
              "      <td>Middle-aged</td>\n",
              "      <td>Low</td>\n",
              "      <td>0.900000</td>\n",
              "      <td>0.100000</td>\n",
              "      <td>1.0</td>\n",
              "      <td>5.598624e-20</td>\n",
              "    </tr>\n",
              "    <tr>\n",
              "      <th>3</th>\n",
              "      <td>Childless</td>\n",
              "      <td>Young</td>\n",
              "      <td>Medium</td>\n",
              "      <td>0.000000</td>\n",
              "      <td>1.000000</td>\n",
              "      <td>0.0</td>\n",
              "      <td>1.000000e+00</td>\n",
              "    </tr>\n",
              "    <tr>\n",
              "      <th>4</th>\n",
              "      <td>Single Parent</td>\n",
              "      <td>Middle-aged</td>\n",
              "      <td>Medium</td>\n",
              "      <td>0.000000</td>\n",
              "      <td>1.000000</td>\n",
              "      <td>0.0</td>\n",
              "      <td>1.000000e+00</td>\n",
              "    </tr>\n",
              "    <tr>\n",
              "      <th>5</th>\n",
              "      <td>Childless</td>\n",
              "      <td>Young</td>\n",
              "      <td>Low</td>\n",
              "      <td>0.931034</td>\n",
              "      <td>0.068966</td>\n",
              "      <td>1.0</td>\n",
              "      <td>2.644603e-20</td>\n",
              "    </tr>\n",
              "    <tr>\n",
              "      <th>6</th>\n",
              "      <td>Nuclear</td>\n",
              "      <td>Old</td>\n",
              "      <td>High</td>\n",
              "      <td>0.000000</td>\n",
              "      <td>1.000000</td>\n",
              "      <td>0.0</td>\n",
              "      <td>1.000000e+00</td>\n",
              "    </tr>\n",
              "    <tr>\n",
              "      <th>7</th>\n",
              "      <td>Nuclear</td>\n",
              "      <td>Middle-aged</td>\n",
              "      <td>Medium</td>\n",
              "      <td>0.000000</td>\n",
              "      <td>1.000000</td>\n",
              "      <td>0.0</td>\n",
              "      <td>1.000000e+00</td>\n",
              "    </tr>\n",
              "    <tr>\n",
              "      <th>8</th>\n",
              "      <td>Extended</td>\n",
              "      <td>Middle-aged</td>\n",
              "      <td>High</td>\n",
              "      <td>0.000000</td>\n",
              "      <td>1.000000</td>\n",
              "      <td>0.0</td>\n",
              "      <td>1.000000e+00</td>\n",
              "    </tr>\n",
              "    <tr>\n",
              "      <th>9</th>\n",
              "      <td>Single Parent</td>\n",
              "      <td>Old</td>\n",
              "      <td>Low</td>\n",
              "      <td>0.964286</td>\n",
              "      <td>0.035714</td>\n",
              "      <td>1.0</td>\n",
              "      <td>5.078957e-21</td>\n",
              "    </tr>\n",
              "  </tbody>\n",
              "</table>\n",
              "</div>"
            ],
            "text/plain": [
              "   family_struct    age_group  income   prob_no  prob_yes  prob_no_sklearn  \\\n",
              "0        Nuclear        Young     Low  0.000000  1.000000              0.0   \n",
              "1       Extended          Old     Low  0.964286  0.035714              1.0   \n",
              "2      Childless  Middle-aged     Low  0.900000  0.100000              1.0   \n",
              "3      Childless        Young  Medium  0.000000  1.000000              0.0   \n",
              "4  Single Parent  Middle-aged  Medium  0.000000  1.000000              0.0   \n",
              "5      Childless        Young     Low  0.931034  0.068966              1.0   \n",
              "6        Nuclear          Old    High  0.000000  1.000000              0.0   \n",
              "7        Nuclear  Middle-aged  Medium  0.000000  1.000000              0.0   \n",
              "8       Extended  Middle-aged    High  0.000000  1.000000              0.0   \n",
              "9  Single Parent          Old     Low  0.964286  0.035714              1.0   \n",
              "\n",
              "   prob_yes_sklearn  \n",
              "0      1.000000e+00  \n",
              "1      5.078957e-21  \n",
              "2      5.598624e-20  \n",
              "3      1.000000e+00  \n",
              "4      1.000000e+00  \n",
              "5      2.644603e-20  \n",
              "6      1.000000e+00  \n",
              "7      1.000000e+00  \n",
              "8      1.000000e+00  \n",
              "9      5.078957e-21  "
            ]
          },
          "execution_count": 244,
          "metadata": {},
          "output_type": "execute_result"
        }
      ],
      "source": [
        "# Merging result from scratch with result from Scikit-Learn\n",
        "\n",
        "df_result_sklearn = df_infer.copy()\n",
        "df_result_sklearn['prob_no_sklearn'] =  model.predict_proba(X_enc)[:,0]\n",
        "df_result_sklearn['prob_yes_sklearn'] =  model.predict_proba(X_enc)[:,1]\n",
        "df_result_sklearn "
      ]
    },
    {
      "cell_type": "code",
      "execution_count": 245,
      "metadata": {
        "colab": {
          "base_uri": "https://localhost:8080/"
        },
        "id": "K22dbl7z4uNo",
        "outputId": "1568c36f-647e-4e61-9e82-6b2395b4d3aa"
      },
      "outputs": [
        {
          "name": "stdout",
          "output_type": "stream",
          "text": [
            "New Data - Real      : \n",
            "   family_struct age_group income\n",
            "0     Childless     Young   High \n",
            "\n",
            "New Data - Encode    :  [[1. 0. 0. 0. 0. 0. 1. 1. 0. 0.]] \n",
            "\n",
            "Result - Class       :  1\n",
            "Result - Probability :  [[0. 1.]]\n"
          ]
        }
      ],
      "source": [
        "# Test A New Data\n",
        "\n",
        "new_data = {'family_struct': ['Childless'],'age_group': ['Young'],'income': ['High']} \n",
        "    \n",
        "df_new_data = pd.DataFrame(new_data)\n",
        "X_new_data = enc.transform(df_new_data).toarray()\n",
        "result_class = model.predict(X_new_data)\n",
        "result_proba = model.predict_proba(X_new_data)\n",
        "\n",
        "print('New Data - Real      : \\n', df_new_data, '\\n')\n",
        "print('New Data - Encode    : ', X_new_data, '\\n')\n",
        "print('Result - Class       : ', result_class[0])\n",
        "print('Result - Probability : ', result_proba)"
      ]
    },
    {
      "cell_type": "code",
      "execution_count": 246,
      "metadata": {
        "colab": {
          "base_uri": "https://localhost:8080/"
        },
        "id": "OsTmd89r-lvs",
        "outputId": "11547085-787a-47c0-ed8c-4dc78f5337cd"
      },
      "outputs": [
        {
          "data": {
            "text/html": [
              "<style>#sk-container-id-30 {color: black;background-color: white;}#sk-container-id-30 pre{padding: 0;}#sk-container-id-30 div.sk-toggleable {background-color: white;}#sk-container-id-30 label.sk-toggleable__label {cursor: pointer;display: block;width: 100%;margin-bottom: 0;padding: 0.3em;box-sizing: border-box;text-align: center;}#sk-container-id-30 label.sk-toggleable__label-arrow:before {content: \"▸\";float: left;margin-right: 0.25em;color: #696969;}#sk-container-id-30 label.sk-toggleable__label-arrow:hover:before {color: black;}#sk-container-id-30 div.sk-estimator:hover label.sk-toggleable__label-arrow:before {color: black;}#sk-container-id-30 div.sk-toggleable__content {max-height: 0;max-width: 0;overflow: hidden;text-align: left;background-color: #f0f8ff;}#sk-container-id-30 div.sk-toggleable__content pre {margin: 0.2em;color: black;border-radius: 0.25em;background-color: #f0f8ff;}#sk-container-id-30 input.sk-toggleable__control:checked~div.sk-toggleable__content {max-height: 200px;max-width: 100%;overflow: auto;}#sk-container-id-30 input.sk-toggleable__control:checked~label.sk-toggleable__label-arrow:before {content: \"▾\";}#sk-container-id-30 div.sk-estimator input.sk-toggleable__control:checked~label.sk-toggleable__label {background-color: #d4ebff;}#sk-container-id-30 div.sk-label input.sk-toggleable__control:checked~label.sk-toggleable__label {background-color: #d4ebff;}#sk-container-id-30 input.sk-hidden--visually {border: 0;clip: rect(1px 1px 1px 1px);clip: rect(1px, 1px, 1px, 1px);height: 1px;margin: -1px;overflow: hidden;padding: 0;position: absolute;width: 1px;}#sk-container-id-30 div.sk-estimator {font-family: monospace;background-color: #f0f8ff;border: 1px dotted black;border-radius: 0.25em;box-sizing: border-box;margin-bottom: 0.5em;}#sk-container-id-30 div.sk-estimator:hover {background-color: #d4ebff;}#sk-container-id-30 div.sk-parallel-item::after {content: \"\";width: 100%;border-bottom: 1px solid gray;flex-grow: 1;}#sk-container-id-30 div.sk-label:hover label.sk-toggleable__label {background-color: #d4ebff;}#sk-container-id-30 div.sk-serial::before {content: \"\";position: absolute;border-left: 1px solid gray;box-sizing: border-box;top: 0;bottom: 0;left: 50%;z-index: 0;}#sk-container-id-30 div.sk-serial {display: flex;flex-direction: column;align-items: center;background-color: white;padding-right: 0.2em;padding-left: 0.2em;position: relative;}#sk-container-id-30 div.sk-item {position: relative;z-index: 1;}#sk-container-id-30 div.sk-parallel {display: flex;align-items: stretch;justify-content: center;background-color: white;position: relative;}#sk-container-id-30 div.sk-item::before, #sk-container-id-30 div.sk-parallel-item::before {content: \"\";position: absolute;border-left: 1px solid gray;box-sizing: border-box;top: 0;bottom: 0;left: 50%;z-index: -1;}#sk-container-id-30 div.sk-parallel-item {display: flex;flex-direction: column;z-index: 1;position: relative;background-color: white;}#sk-container-id-30 div.sk-parallel-item:first-child::after {align-self: flex-end;width: 50%;}#sk-container-id-30 div.sk-parallel-item:last-child::after {align-self: flex-start;width: 50%;}#sk-container-id-30 div.sk-parallel-item:only-child::after {width: 0;}#sk-container-id-30 div.sk-dashed-wrapped {border: 1px dashed gray;margin: 0 0.4em 0.5em 0.4em;box-sizing: border-box;padding-bottom: 0.4em;background-color: white;}#sk-container-id-30 div.sk-label label {font-family: monospace;font-weight: bold;display: inline-block;line-height: 1.2em;}#sk-container-id-30 div.sk-label-container {text-align: center;}#sk-container-id-30 div.sk-container {/* jupyter's `normalize.less` sets `[hidden] { display: none; }` but bootstrap.min.css set `[hidden] { display: none !important; }` so we also need the `!important` here to be able to override the default hidden behavior on the sphinx rendered scikit-learn.org. See: https://github.com/scikit-learn/scikit-learn/issues/21755 */display: inline-block !important;position: relative;}#sk-container-id-30 div.sk-text-repr-fallback {display: none;}</style><div id=\"sk-container-id-30\" class=\"sk-top-container\"><div class=\"sk-text-repr-fallback\"><pre>CategoricalNB()</pre><b>In a Jupyter environment, please rerun this cell to show the HTML representation or trust the notebook. <br />On GitHub, the HTML representation is unable to render, please try loading this page with nbviewer.org.</b></div><div class=\"sk-container\" hidden><div class=\"sk-item\"><div class=\"sk-estimator sk-toggleable\"><input class=\"sk-toggleable__control sk-hidden--visually\" id=\"sk-estimator-id-30\" type=\"checkbox\" checked><label for=\"sk-estimator-id-30\" class=\"sk-toggleable__label sk-toggleable__label-arrow\">CategoricalNB</label><div class=\"sk-toggleable__content\"><pre>CategoricalNB()</pre></div></div></div></div></div>"
            ],
            "text/plain": [
              "CategoricalNB()"
            ]
          },
          "execution_count": 246,
          "metadata": {},
          "output_type": "execute_result"
        }
      ],
      "source": [
        "# Add New Naive Bayes Classifiers\n",
        "\n",
        "from sklearn.naive_bayes import BernoulliNB\n",
        "from sklearn.naive_bayes import MultinomialNB\n",
        "from sklearn.naive_bayes import CategoricalNB\n",
        "\n",
        "# Create Several Naive Bayes Classifiers\n",
        "model_bernoullinb = BernoulliNB()\n",
        "model_multinomialnb = MultinomialNB()\n",
        "model_categoricalnb = CategoricalNB()\n",
        "\n",
        "# Train the model using the training sets\n",
        "model_bernoullinb.fit(X_enc,label_encoded)\n",
        "model_multinomialnb.fit(X_enc,label_encoded)\n",
        "model_categoricalnb.fit(X_enc,label_encoded)"
      ]
    },
    {
      "cell_type": "code",
      "execution_count": 247,
      "metadata": {
        "colab": {
          "base_uri": "https://localhost:8080/"
        },
        "id": "m71Hoe7W_7BW",
        "outputId": "31f01a61-9c10-4409-8411-84861f25ae5e"
      },
      "outputs": [
        {
          "name": "stdout",
          "output_type": "stream",
          "text": [
            "New Data - Real      : \n",
            "    family_struct age_group income\n",
            "0  Single Parent     Young    Low \n",
            "\n",
            "New Data - Encode    :  [[0. 0. 0. 1. 0. 0. 1. 0. 1. 0.]] \n",
            "\n",
            "Result - Gaussian NB\n",
            "Result - Class       :  0\n",
            "Result - Probability :  [[1.00000000e+00 1.00327444e-19]] \n",
            "\n",
            "Result - Bernoulli NB\n",
            "Result - Class       :  0\n",
            "Result - Probability :  [[0.83708662 0.16291338]] \n",
            "\n",
            "Result - Multinomial NB\n",
            "Result - Class       :  0\n",
            "Result - Probability :  [[0.69611101 0.30388899]] \n",
            "\n",
            "Result - Categorical NB\n",
            "Result - Class       :  0\n",
            "Result - Probability :  [[0.83708662 0.16291338]] \n",
            "\n"
          ]
        }
      ],
      "source": [
        "# Test A New Data\n",
        "\n",
        "# new_data = {'family_struct': ['Childless'],'age_group': ['Young'],'income': ['High']} \n",
        "new_data = {'family_struct': ['Single Parent'],'age_group': ['Young'],'income': ['Low']} \n",
        "    \n",
        "df_new_data = pd.DataFrame(new_data)\n",
        "X_new_data = enc.transform(df_new_data).toarray()\n",
        "\n",
        "print('New Data - Real      : \\n', df_new_data, '\\n')\n",
        "print('New Data - Encode    : ', X_new_data, '\\n')\n",
        "\n",
        "result_class = model.predict(X_new_data)\n",
        "result_proba = model.predict_proba(X_new_data)\n",
        "print('Result - Gaussian NB')\n",
        "print('Result - Class       : ', result_class[0])\n",
        "print('Result - Probability : ', result_proba, '\\n')\n",
        "\n",
        "result_class = model_bernoullinb.predict(X_new_data)\n",
        "result_proba = model_bernoullinb.predict_proba(X_new_data)\n",
        "print('Result - Bernoulli NB')\n",
        "print('Result - Class       : ', result_class[0])\n",
        "print('Result - Probability : ', result_proba, '\\n')\n",
        "\n",
        "result_class = model_multinomialnb.predict(X_new_data)\n",
        "result_proba = model_multinomialnb.predict_proba(X_new_data)\n",
        "print('Result - Multinomial NB')\n",
        "print('Result - Class       : ', result_class[0])\n",
        "print('Result - Probability : ', result_proba, '\\n')\n",
        "\n",
        "result_class = model_categoricalnb.predict(X_new_data)\n",
        "result_proba = model_categoricalnb.predict_proba(X_new_data)\n",
        "print('Result - Categorical NB')\n",
        "print('Result - Class       : ', result_class[0])\n",
        "print('Result - Probability : ', result_proba, '\\n')\n"
      ]
    },
    {
      "cell_type": "code",
      "execution_count": 248,
      "metadata": {
        "colab": {
          "base_uri": "https://localhost:8080/"
        },
        "id": "zdQXukyaZuPz",
        "outputId": "ff991a6c-43b7-4c47-af56-6e8476a61522"
      },
      "outputs": [
        {
          "name": "stdout",
          "output_type": "stream",
          "text": [
            "  label      p_h  total_prob  norm_prob\n",
            "0    No  0.12500     0.12963   0.964286\n",
            "1   Yes  0.00463     0.12963   0.035714\n"
          ]
        }
      ],
      "source": [
        "# Let's compare it with our previous category {'family_struct': ['Single Parent'],'age_group': ['Young'],'income': ['Low']} \n",
        "\n",
        "print(df_ext)"
      ]
    }
  ],
  "metadata": {
    "colab": {
      "collapsed_sections": [],
      "name": "P1W1D4AM - KNN & Naive Bayes.ipynb",
      "provenance": []
    },
    "kernelspec": {
      "display_name": "Python 3.10.8 64-bit",
      "language": "python",
      "name": "python3"
    },
    "language_info": {
      "codemirror_mode": {
        "name": "ipython",
        "version": 3
      },
      "file_extension": ".py",
      "mimetype": "text/x-python",
      "name": "python",
      "nbconvert_exporter": "python",
      "pygments_lexer": "ipython3",
      "version": "3.10.8"
    },
    "vscode": {
      "interpreter": {
        "hash": "aee8b7b246df8f9039afb4144a1f6fd8d2ca17a180786b69acc140d282b71a49"
      }
    }
  },
  "nbformat": 4,
  "nbformat_minor": 0
}
