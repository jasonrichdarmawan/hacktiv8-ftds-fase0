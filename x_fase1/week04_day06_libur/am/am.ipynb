{
 "cells": [
  {
   "cell_type": "code",
   "execution_count": 1,
   "metadata": {},
   "outputs": [],
   "source": [
    "import pandas as pd\n",
    "import numpy as np\n",
    "from sklearn.preprocessing import FunctionTransformer\n",
    "from sklearn.impute import SimpleImputer\n",
    "from sklearn.pipeline import Pipeline\n",
    "from utils import imp\n",
    "import joblib"
   ]
  },
  {
   "cell_type": "code",
   "execution_count": 2,
   "metadata": {},
   "outputs": [],
   "source": [
    "df = pd.DataFrame(\n",
    "    data={\n",
    "        'PAYMENTS': [np.nan, 100, np.nan],\n",
    "        'MINIMUM_PAYMENTS': [100, 100, 100]\n",
    "    }\n",
    ")\n",
    "\n",
    "pipe = Pipeline(\n",
    "    steps=[\n",
    "        ('imputer', FunctionTransformer(func=imp.imp1, kw_args={'features': df.columns}, feature_names_out=imp.imp1_out))\n",
    "        # ('imputer', SimpleImputer(strategy='median'))\n",
    "    ]\n",
    ")\n",
    "\n",
    "pipe.fit_transform(X=df), pipe.get_feature_names_out()\n",
    "\n",
    "with open('./deployment/pipe.pkl', 'wb') as file_1:\n",
    "    joblib.dump(value=pipe, filename=file_1)"
   ]
  }
 ],
 "metadata": {
  "kernelspec": {
   "display_name": "Python 3.10.8 64-bit",
   "language": "python",
   "name": "python3"
  },
  "language_info": {
   "codemirror_mode": {
    "name": "ipython",
    "version": 3
   },
   "file_extension": ".py",
   "mimetype": "text/x-python",
   "name": "python",
   "nbconvert_exporter": "python",
   "pygments_lexer": "ipython3",
   "version": "3.10.8"
  },
  "orig_nbformat": 4,
  "vscode": {
   "interpreter": {
    "hash": "aee8b7b246df8f9039afb4144a1f6fd8d2ca17a180786b69acc140d282b71a49"
   }
  }
 },
 "nbformat": 4,
 "nbformat_minor": 2
}
