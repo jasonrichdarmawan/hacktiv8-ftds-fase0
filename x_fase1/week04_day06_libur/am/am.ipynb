{
 "cells": [
  {
   "cell_type": "code",
   "execution_count": 1,
   "metadata": {},
   "outputs": [],
   "source": [
    "import pandas as pd\n",
    "import numpy as np\n",
    "from sklearn.preprocessing import FunctionTransformer\n",
    "from sklearn.compose import ColumnTransformer\n",
    "from sklearn.impute import SimpleImputer\n",
    "from sklearn.pipeline import Pipeline\n",
    "\n",
    "from utils import imp\n",
    "import importlib\n",
    "importlib.reload(imp)\n",
    "\n",
    "import joblib"
   ]
  },
  {
   "cell_type": "code",
   "execution_count": 2,
   "metadata": {},
   "outputs": [],
   "source": [
    "df = pd.DataFrame(\n",
    "    data={\n",
    "        'PAYMENTS': [np.nan, 100, np.nan],\n",
    "        'MINIMUM_PAYMENTS': [100, 100, 100],\n",
    "        'AGE': [50,np.nan,60]\n",
    "    }\n",
    ")"
   ]
  },
  {
   "cell_type": "code",
   "execution_count": 3,
   "metadata": {},
   "outputs": [
    {
     "name": "stdout",
     "output_type": "stream",
     "text": [
      "   PAYMENTS  MINIMUM_PAYMENTS   AGE\n",
      "0       NaN               100  50.0\n",
      "1     100.0               100   NaN\n",
      "2       NaN               100  60.0\n",
      "[[100. 100.  50.]\n",
      " [100. 100.  55.]\n",
      " [100. 100.  60.]] ['c1__PAYMENTS' 'c1__MINIMUM_PAYMENTS' 'c1__AGE' 'c2__AGE']\n"
     ]
    }
   ],
   "source": [
    "c1 = Pipeline(\n",
    "    steps=[\n",
    "        ('imputer', FunctionTransformer(func=imp.imp1, kw_args={'features': df.columns}, feature_names_out=imp.imp1_out))\n",
    "        # ('imputer', SimpleImputer(strategy='median'))\n",
    "    ]\n",
    ")\n",
    "\n",
    "c2 = Pipeline(\n",
    "    steps=[\n",
    "        ('imputer', SimpleImputer(strategy='median'))\n",
    "    ]\n",
    ")\n",
    "\n",
    "com = ColumnTransformer(\n",
    "    transformers=[\n",
    "        ('c1', c1, ['PAYMENTS', 'MINIMUM_PAYMENTS']),\n",
    "        ('c2', c2, ['AGE'])\n",
    "    ]\n",
    ")\n",
    "\n",
    "print(df)\n",
    "\n",
    "print(com.fit_transform(X=df), com.get_feature_names_out())\n",
    "\n",
    "with open('./deployment/pipe.pkl', 'wb') as file_1:\n",
    "    joblib.dump(value=c1, filename=file_1)"
   ]
  }
 ],
 "metadata": {
  "kernelspec": {
   "display_name": "Python 3.10.8 64-bit",
   "language": "python",
   "name": "python3"
  },
  "language_info": {
   "codemirror_mode": {
    "name": "ipython",
    "version": 3
   },
   "file_extension": ".py",
   "mimetype": "text/x-python",
   "name": "python",
   "nbconvert_exporter": "python",
   "pygments_lexer": "ipython3",
   "version": "3.10.8"
  },
  "orig_nbformat": 4,
  "vscode": {
   "interpreter": {
    "hash": "aee8b7b246df8f9039afb4144a1f6fd8d2ca17a180786b69acc140d282b71a49"
   }
  }
 },
 "nbformat": 4,
 "nbformat_minor": 2
}
