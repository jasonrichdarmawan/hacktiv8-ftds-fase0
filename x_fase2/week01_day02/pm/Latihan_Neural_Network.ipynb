{
  "cells": [
    {
      "cell_type": "code",
      "execution_count": null,
      "metadata": {
        "id": "lIYdn1woOS1n"
      },
      "outputs": [],
      "source": [
        "import tensorflow as tf\n",
        "import pandas as pd\n",
        "from sklearn.preprocessing import StandardScaler\n",
        "from sklearn.model_selection import train_test_split\n",
        "import matplotlib.pyplot as plt"
      ]
    },
    {
      "cell_type": "code",
      "execution_count": null,
      "metadata": {
        "colab": {
          "base_uri": "https://localhost:8080/",
          "height": 468
        },
        "id": "EVwoS0WY5Esj",
        "outputId": "0f90bb25-7000-4b36-e67b-f303f23216dd"
      },
      "outputs": [
        {
          "output_type": "execute_result",
          "data": {
            "text/plain": [
              "     car_ID  symboling                   CarName fueltype aspiration  \\\n",
              "0         1          3        alfa-romero giulia      gas        std   \n",
              "1         2          3       alfa-romero stelvio      gas        std   \n",
              "2         3          1  alfa-romero Quadrifoglio      gas        std   \n",
              "3         4          2               audi 100 ls      gas        std   \n",
              "4         5          2                audi 100ls      gas        std   \n",
              "..      ...        ...                       ...      ...        ...   \n",
              "200     201         -1           volvo 145e (sw)      gas        std   \n",
              "201     202         -1               volvo 144ea      gas      turbo   \n",
              "202     203         -1               volvo 244dl      gas        std   \n",
              "203     204         -1                 volvo 246   diesel      turbo   \n",
              "204     205         -1               volvo 264gl      gas      turbo   \n",
              "\n",
              "    doornumber      carbody drivewheel enginelocation  wheelbase  ...  \\\n",
              "0          two  convertible        rwd          front       88.6  ...   \n",
              "1          two  convertible        rwd          front       88.6  ...   \n",
              "2          two    hatchback        rwd          front       94.5  ...   \n",
              "3         four        sedan        fwd          front       99.8  ...   \n",
              "4         four        sedan        4wd          front       99.4  ...   \n",
              "..         ...          ...        ...            ...        ...  ...   \n",
              "200       four        sedan        rwd          front      109.1  ...   \n",
              "201       four        sedan        rwd          front      109.1  ...   \n",
              "202       four        sedan        rwd          front      109.1  ...   \n",
              "203       four        sedan        rwd          front      109.1  ...   \n",
              "204       four        sedan        rwd          front      109.1  ...   \n",
              "\n",
              "     enginesize  fuelsystem  boreratio  stroke compressionratio horsepower  \\\n",
              "0           130        mpfi       3.47    2.68              9.0        111   \n",
              "1           130        mpfi       3.47    2.68              9.0        111   \n",
              "2           152        mpfi       2.68    3.47              9.0        154   \n",
              "3           109        mpfi       3.19    3.40             10.0        102   \n",
              "4           136        mpfi       3.19    3.40              8.0        115   \n",
              "..          ...         ...        ...     ...              ...        ...   \n",
              "200         141        mpfi       3.78    3.15              9.5        114   \n",
              "201         141        mpfi       3.78    3.15              8.7        160   \n",
              "202         173        mpfi       3.58    2.87              8.8        134   \n",
              "203         145         idi       3.01    3.40             23.0        106   \n",
              "204         141        mpfi       3.78    3.15              9.5        114   \n",
              "\n",
              "     peakrpm citympg  highwaympg    price  \n",
              "0       5000      21          27  13495.0  \n",
              "1       5000      21          27  16500.0  \n",
              "2       5000      19          26  16500.0  \n",
              "3       5500      24          30  13950.0  \n",
              "4       5500      18          22  17450.0  \n",
              "..       ...     ...         ...      ...  \n",
              "200     5400      23          28  16845.0  \n",
              "201     5300      19          25  19045.0  \n",
              "202     5500      18          23  21485.0  \n",
              "203     4800      26          27  22470.0  \n",
              "204     5400      19          25  22625.0  \n",
              "\n",
              "[205 rows x 26 columns]"
            ],
            "text/html": [
              "\n",
              "  <div id=\"df-a3ea8472-621c-44ed-a9e0-6686bc328c42\">\n",
              "    <div class=\"colab-df-container\">\n",
              "      <div>\n",
              "<style scoped>\n",
              "    .dataframe tbody tr th:only-of-type {\n",
              "        vertical-align: middle;\n",
              "    }\n",
              "\n",
              "    .dataframe tbody tr th {\n",
              "        vertical-align: top;\n",
              "    }\n",
              "\n",
              "    .dataframe thead th {\n",
              "        text-align: right;\n",
              "    }\n",
              "</style>\n",
              "<table border=\"1\" class=\"dataframe\">\n",
              "  <thead>\n",
              "    <tr style=\"text-align: right;\">\n",
              "      <th></th>\n",
              "      <th>car_ID</th>\n",
              "      <th>symboling</th>\n",
              "      <th>CarName</th>\n",
              "      <th>fueltype</th>\n",
              "      <th>aspiration</th>\n",
              "      <th>doornumber</th>\n",
              "      <th>carbody</th>\n",
              "      <th>drivewheel</th>\n",
              "      <th>enginelocation</th>\n",
              "      <th>wheelbase</th>\n",
              "      <th>...</th>\n",
              "      <th>enginesize</th>\n",
              "      <th>fuelsystem</th>\n",
              "      <th>boreratio</th>\n",
              "      <th>stroke</th>\n",
              "      <th>compressionratio</th>\n",
              "      <th>horsepower</th>\n",
              "      <th>peakrpm</th>\n",
              "      <th>citympg</th>\n",
              "      <th>highwaympg</th>\n",
              "      <th>price</th>\n",
              "    </tr>\n",
              "  </thead>\n",
              "  <tbody>\n",
              "    <tr>\n",
              "      <th>0</th>\n",
              "      <td>1</td>\n",
              "      <td>3</td>\n",
              "      <td>alfa-romero giulia</td>\n",
              "      <td>gas</td>\n",
              "      <td>std</td>\n",
              "      <td>two</td>\n",
              "      <td>convertible</td>\n",
              "      <td>rwd</td>\n",
              "      <td>front</td>\n",
              "      <td>88.6</td>\n",
              "      <td>...</td>\n",
              "      <td>130</td>\n",
              "      <td>mpfi</td>\n",
              "      <td>3.47</td>\n",
              "      <td>2.68</td>\n",
              "      <td>9.0</td>\n",
              "      <td>111</td>\n",
              "      <td>5000</td>\n",
              "      <td>21</td>\n",
              "      <td>27</td>\n",
              "      <td>13495.0</td>\n",
              "    </tr>\n",
              "    <tr>\n",
              "      <th>1</th>\n",
              "      <td>2</td>\n",
              "      <td>3</td>\n",
              "      <td>alfa-romero stelvio</td>\n",
              "      <td>gas</td>\n",
              "      <td>std</td>\n",
              "      <td>two</td>\n",
              "      <td>convertible</td>\n",
              "      <td>rwd</td>\n",
              "      <td>front</td>\n",
              "      <td>88.6</td>\n",
              "      <td>...</td>\n",
              "      <td>130</td>\n",
              "      <td>mpfi</td>\n",
              "      <td>3.47</td>\n",
              "      <td>2.68</td>\n",
              "      <td>9.0</td>\n",
              "      <td>111</td>\n",
              "      <td>5000</td>\n",
              "      <td>21</td>\n",
              "      <td>27</td>\n",
              "      <td>16500.0</td>\n",
              "    </tr>\n",
              "    <tr>\n",
              "      <th>2</th>\n",
              "      <td>3</td>\n",
              "      <td>1</td>\n",
              "      <td>alfa-romero Quadrifoglio</td>\n",
              "      <td>gas</td>\n",
              "      <td>std</td>\n",
              "      <td>two</td>\n",
              "      <td>hatchback</td>\n",
              "      <td>rwd</td>\n",
              "      <td>front</td>\n",
              "      <td>94.5</td>\n",
              "      <td>...</td>\n",
              "      <td>152</td>\n",
              "      <td>mpfi</td>\n",
              "      <td>2.68</td>\n",
              "      <td>3.47</td>\n",
              "      <td>9.0</td>\n",
              "      <td>154</td>\n",
              "      <td>5000</td>\n",
              "      <td>19</td>\n",
              "      <td>26</td>\n",
              "      <td>16500.0</td>\n",
              "    </tr>\n",
              "    <tr>\n",
              "      <th>3</th>\n",
              "      <td>4</td>\n",
              "      <td>2</td>\n",
              "      <td>audi 100 ls</td>\n",
              "      <td>gas</td>\n",
              "      <td>std</td>\n",
              "      <td>four</td>\n",
              "      <td>sedan</td>\n",
              "      <td>fwd</td>\n",
              "      <td>front</td>\n",
              "      <td>99.8</td>\n",
              "      <td>...</td>\n",
              "      <td>109</td>\n",
              "      <td>mpfi</td>\n",
              "      <td>3.19</td>\n",
              "      <td>3.40</td>\n",
              "      <td>10.0</td>\n",
              "      <td>102</td>\n",
              "      <td>5500</td>\n",
              "      <td>24</td>\n",
              "      <td>30</td>\n",
              "      <td>13950.0</td>\n",
              "    </tr>\n",
              "    <tr>\n",
              "      <th>4</th>\n",
              "      <td>5</td>\n",
              "      <td>2</td>\n",
              "      <td>audi 100ls</td>\n",
              "      <td>gas</td>\n",
              "      <td>std</td>\n",
              "      <td>four</td>\n",
              "      <td>sedan</td>\n",
              "      <td>4wd</td>\n",
              "      <td>front</td>\n",
              "      <td>99.4</td>\n",
              "      <td>...</td>\n",
              "      <td>136</td>\n",
              "      <td>mpfi</td>\n",
              "      <td>3.19</td>\n",
              "      <td>3.40</td>\n",
              "      <td>8.0</td>\n",
              "      <td>115</td>\n",
              "      <td>5500</td>\n",
              "      <td>18</td>\n",
              "      <td>22</td>\n",
              "      <td>17450.0</td>\n",
              "    </tr>\n",
              "    <tr>\n",
              "      <th>...</th>\n",
              "      <td>...</td>\n",
              "      <td>...</td>\n",
              "      <td>...</td>\n",
              "      <td>...</td>\n",
              "      <td>...</td>\n",
              "      <td>...</td>\n",
              "      <td>...</td>\n",
              "      <td>...</td>\n",
              "      <td>...</td>\n",
              "      <td>...</td>\n",
              "      <td>...</td>\n",
              "      <td>...</td>\n",
              "      <td>...</td>\n",
              "      <td>...</td>\n",
              "      <td>...</td>\n",
              "      <td>...</td>\n",
              "      <td>...</td>\n",
              "      <td>...</td>\n",
              "      <td>...</td>\n",
              "      <td>...</td>\n",
              "      <td>...</td>\n",
              "    </tr>\n",
              "    <tr>\n",
              "      <th>200</th>\n",
              "      <td>201</td>\n",
              "      <td>-1</td>\n",
              "      <td>volvo 145e (sw)</td>\n",
              "      <td>gas</td>\n",
              "      <td>std</td>\n",
              "      <td>four</td>\n",
              "      <td>sedan</td>\n",
              "      <td>rwd</td>\n",
              "      <td>front</td>\n",
              "      <td>109.1</td>\n",
              "      <td>...</td>\n",
              "      <td>141</td>\n",
              "      <td>mpfi</td>\n",
              "      <td>3.78</td>\n",
              "      <td>3.15</td>\n",
              "      <td>9.5</td>\n",
              "      <td>114</td>\n",
              "      <td>5400</td>\n",
              "      <td>23</td>\n",
              "      <td>28</td>\n",
              "      <td>16845.0</td>\n",
              "    </tr>\n",
              "    <tr>\n",
              "      <th>201</th>\n",
              "      <td>202</td>\n",
              "      <td>-1</td>\n",
              "      <td>volvo 144ea</td>\n",
              "      <td>gas</td>\n",
              "      <td>turbo</td>\n",
              "      <td>four</td>\n",
              "      <td>sedan</td>\n",
              "      <td>rwd</td>\n",
              "      <td>front</td>\n",
              "      <td>109.1</td>\n",
              "      <td>...</td>\n",
              "      <td>141</td>\n",
              "      <td>mpfi</td>\n",
              "      <td>3.78</td>\n",
              "      <td>3.15</td>\n",
              "      <td>8.7</td>\n",
              "      <td>160</td>\n",
              "      <td>5300</td>\n",
              "      <td>19</td>\n",
              "      <td>25</td>\n",
              "      <td>19045.0</td>\n",
              "    </tr>\n",
              "    <tr>\n",
              "      <th>202</th>\n",
              "      <td>203</td>\n",
              "      <td>-1</td>\n",
              "      <td>volvo 244dl</td>\n",
              "      <td>gas</td>\n",
              "      <td>std</td>\n",
              "      <td>four</td>\n",
              "      <td>sedan</td>\n",
              "      <td>rwd</td>\n",
              "      <td>front</td>\n",
              "      <td>109.1</td>\n",
              "      <td>...</td>\n",
              "      <td>173</td>\n",
              "      <td>mpfi</td>\n",
              "      <td>3.58</td>\n",
              "      <td>2.87</td>\n",
              "      <td>8.8</td>\n",
              "      <td>134</td>\n",
              "      <td>5500</td>\n",
              "      <td>18</td>\n",
              "      <td>23</td>\n",
              "      <td>21485.0</td>\n",
              "    </tr>\n",
              "    <tr>\n",
              "      <th>203</th>\n",
              "      <td>204</td>\n",
              "      <td>-1</td>\n",
              "      <td>volvo 246</td>\n",
              "      <td>diesel</td>\n",
              "      <td>turbo</td>\n",
              "      <td>four</td>\n",
              "      <td>sedan</td>\n",
              "      <td>rwd</td>\n",
              "      <td>front</td>\n",
              "      <td>109.1</td>\n",
              "      <td>...</td>\n",
              "      <td>145</td>\n",
              "      <td>idi</td>\n",
              "      <td>3.01</td>\n",
              "      <td>3.40</td>\n",
              "      <td>23.0</td>\n",
              "      <td>106</td>\n",
              "      <td>4800</td>\n",
              "      <td>26</td>\n",
              "      <td>27</td>\n",
              "      <td>22470.0</td>\n",
              "    </tr>\n",
              "    <tr>\n",
              "      <th>204</th>\n",
              "      <td>205</td>\n",
              "      <td>-1</td>\n",
              "      <td>volvo 264gl</td>\n",
              "      <td>gas</td>\n",
              "      <td>turbo</td>\n",
              "      <td>four</td>\n",
              "      <td>sedan</td>\n",
              "      <td>rwd</td>\n",
              "      <td>front</td>\n",
              "      <td>109.1</td>\n",
              "      <td>...</td>\n",
              "      <td>141</td>\n",
              "      <td>mpfi</td>\n",
              "      <td>3.78</td>\n",
              "      <td>3.15</td>\n",
              "      <td>9.5</td>\n",
              "      <td>114</td>\n",
              "      <td>5400</td>\n",
              "      <td>19</td>\n",
              "      <td>25</td>\n",
              "      <td>22625.0</td>\n",
              "    </tr>\n",
              "  </tbody>\n",
              "</table>\n",
              "<p>205 rows × 26 columns</p>\n",
              "</div>\n",
              "      <button class=\"colab-df-convert\" onclick=\"convertToInteractive('df-a3ea8472-621c-44ed-a9e0-6686bc328c42')\"\n",
              "              title=\"Convert this dataframe to an interactive table.\"\n",
              "              style=\"display:none;\">\n",
              "        \n",
              "  <svg xmlns=\"http://www.w3.org/2000/svg\" height=\"24px\"viewBox=\"0 0 24 24\"\n",
              "       width=\"24px\">\n",
              "    <path d=\"M0 0h24v24H0V0z\" fill=\"none\"/>\n",
              "    <path d=\"M18.56 5.44l.94 2.06.94-2.06 2.06-.94-2.06-.94-.94-2.06-.94 2.06-2.06.94zm-11 1L8.5 8.5l.94-2.06 2.06-.94-2.06-.94L8.5 2.5l-.94 2.06-2.06.94zm10 10l.94 2.06.94-2.06 2.06-.94-2.06-.94-.94-2.06-.94 2.06-2.06.94z\"/><path d=\"M17.41 7.96l-1.37-1.37c-.4-.4-.92-.59-1.43-.59-.52 0-1.04.2-1.43.59L10.3 9.45l-7.72 7.72c-.78.78-.78 2.05 0 2.83L4 21.41c.39.39.9.59 1.41.59.51 0 1.02-.2 1.41-.59l7.78-7.78 2.81-2.81c.8-.78.8-2.07 0-2.86zM5.41 20L4 18.59l7.72-7.72 1.47 1.35L5.41 20z\"/>\n",
              "  </svg>\n",
              "      </button>\n",
              "      \n",
              "  <style>\n",
              "    .colab-df-container {\n",
              "      display:flex;\n",
              "      flex-wrap:wrap;\n",
              "      gap: 12px;\n",
              "    }\n",
              "\n",
              "    .colab-df-convert {\n",
              "      background-color: #E8F0FE;\n",
              "      border: none;\n",
              "      border-radius: 50%;\n",
              "      cursor: pointer;\n",
              "      display: none;\n",
              "      fill: #1967D2;\n",
              "      height: 32px;\n",
              "      padding: 0 0 0 0;\n",
              "      width: 32px;\n",
              "    }\n",
              "\n",
              "    .colab-df-convert:hover {\n",
              "      background-color: #E2EBFA;\n",
              "      box-shadow: 0px 1px 2px rgba(60, 64, 67, 0.3), 0px 1px 3px 1px rgba(60, 64, 67, 0.15);\n",
              "      fill: #174EA6;\n",
              "    }\n",
              "\n",
              "    [theme=dark] .colab-df-convert {\n",
              "      background-color: #3B4455;\n",
              "      fill: #D2E3FC;\n",
              "    }\n",
              "\n",
              "    [theme=dark] .colab-df-convert:hover {\n",
              "      background-color: #434B5C;\n",
              "      box-shadow: 0px 1px 3px 1px rgba(0, 0, 0, 0.15);\n",
              "      filter: drop-shadow(0px 1px 2px rgba(0, 0, 0, 0.3));\n",
              "      fill: #FFFFFF;\n",
              "    }\n",
              "  </style>\n",
              "\n",
              "      <script>\n",
              "        const buttonEl =\n",
              "          document.querySelector('#df-a3ea8472-621c-44ed-a9e0-6686bc328c42 button.colab-df-convert');\n",
              "        buttonEl.style.display =\n",
              "          google.colab.kernel.accessAllowed ? 'block' : 'none';\n",
              "\n",
              "        async function convertToInteractive(key) {\n",
              "          const element = document.querySelector('#df-a3ea8472-621c-44ed-a9e0-6686bc328c42');\n",
              "          const dataTable =\n",
              "            await google.colab.kernel.invokeFunction('convertToInteractive',\n",
              "                                                     [key], {});\n",
              "          if (!dataTable) return;\n",
              "\n",
              "          const docLinkHtml = 'Like what you see? Visit the ' +\n",
              "            '<a target=\"_blank\" href=https://colab.research.google.com/notebooks/data_table.ipynb>data table notebook</a>'\n",
              "            + ' to learn more about interactive tables.';\n",
              "          element.innerHTML = '';\n",
              "          dataTable['output_type'] = 'display_data';\n",
              "          await google.colab.output.renderOutput(dataTable, element);\n",
              "          const docLink = document.createElement('div');\n",
              "          docLink.innerHTML = docLinkHtml;\n",
              "          element.appendChild(docLink);\n",
              "        }\n",
              "      </script>\n",
              "    </div>\n",
              "  </div>\n",
              "  "
            ]
          },
          "metadata": {},
          "execution_count": 2
        }
      ],
      "source": [
        "df = pd.read_csv('https://raw.githubusercontent.com/DianCA26/Dataset/main/CarPrice_Assignment.csv')\n",
        "df"
      ]
    },
    {
      "cell_type": "code",
      "execution_count": null,
      "metadata": {
        "id": "mRuqT3lm5YED"
      },
      "outputs": [],
      "source": [
        "X = df[['horsepower','wheelbase','enginesize','boreratio','compressionratio','highwaympg','citympg','curbweight','carwidth','carlength']]\n",
        "y = df['price']"
      ]
    },
    {
      "cell_type": "code",
      "execution_count": null,
      "metadata": {
        "colab": {
          "base_uri": "https://localhost:8080/"
        },
        "id": "jOtdK3rdKFiP",
        "outputId": "02869028-2717-43fc-8bbc-4b59a8758a06"
      },
      "outputs": [
        {
          "output_type": "execute_result",
          "data": {
            "text/plain": [
              "13276.710570731706"
            ]
          },
          "metadata": {},
          "execution_count": 4
        }
      ],
      "source": [
        "y.mean()"
      ]
    },
    {
      "cell_type": "code",
      "execution_count": null,
      "metadata": {
        "id": "_Nt1ZKzJ5cWD"
      },
      "outputs": [],
      "source": [
        "#Memisahkan data menjadi train, val, test\n",
        "\n",
        "X_train, X_test, y_train, y_test = train_test_split(X, y, train_size=0.9)\n",
        "\n",
        "X_train, X_val, y_train, y_val = train_test_split(X_train, y_train, train_size=0.8)"
      ]
    },
    {
      "cell_type": "code",
      "execution_count": null,
      "metadata": {
        "colab": {
          "base_uri": "https://localhost:8080/"
        },
        "id": "eo-j8ilX8Ycn",
        "outputId": "d6115de9-2491-4cdb-831d-f8c5bdb43478"
      },
      "outputs": [
        {
          "output_type": "execute_result",
          "data": {
            "text/plain": [
              "10"
            ]
          },
          "metadata": {},
          "execution_count": 6
        }
      ],
      "source": [
        "len(X.columns)"
      ]
    },
    {
      "cell_type": "code",
      "source": [
        "X.shape"
      ],
      "metadata": {
        "colab": {
          "base_uri": "https://localhost:8080/"
        },
        "id": "TX4yMQtcGOtY",
        "outputId": "5901d8bb-47af-4318-e767-aff84e4c6831"
      },
      "execution_count": null,
      "outputs": [
        {
          "output_type": "execute_result",
          "data": {
            "text/plain": [
              "(205, 10)"
            ]
          },
          "metadata": {},
          "execution_count": 7
        }
      ]
    },
    {
      "cell_type": "code",
      "source": [
        "X_train_std.shape"
      ],
      "metadata": {
        "colab": {
          "base_uri": "https://localhost:8080/"
        },
        "id": "2IL6wU-IWF5R",
        "outputId": "20ccd3b3-ee4e-4319-d6ca-02b549289960"
      },
      "execution_count": null,
      "outputs": [
        {
          "output_type": "execute_result",
          "data": {
            "text/plain": [
              "(147, 10)"
            ]
          },
          "metadata": {},
          "execution_count": 24
        }
      ]
    },
    {
      "cell_type": "code",
      "execution_count": null,
      "metadata": {
        "id": "Uo7ruhhd5mCr"
      },
      "outputs": [],
      "source": [
        "std = StandardScaler()\n",
        "X_train_std = std.fit_transform(X_train)\n",
        "X_val_std = std.transform(X_val)\n",
        "X_test_std = std.transform(X_test)"
      ]
    },
    {
      "cell_type": "code",
      "source": [
        "model = tf.keras.models.Sequential()"
      ],
      "metadata": {
        "id": "ZfFIAq90Tsht"
      },
      "execution_count": null,
      "outputs": []
    },
    {
      "cell_type": "code",
      "source": [
        "model.add(tf.keras.layers.Dense(32))"
      ],
      "metadata": {
        "id": "eiWsSroGTx5H"
      },
      "execution_count": null,
      "outputs": []
    },
    {
      "cell_type": "code",
      "source": [
        "model.add(tf.keras.layers.Dense(1, activation='linear'))"
      ],
      "metadata": {
        "id": "QclglLWkT2JF"
      },
      "execution_count": null,
      "outputs": []
    },
    {
      "cell_type": "code",
      "source": [
        "model.compile(loss='mae',\n",
        "              optimizer=tf.keras.optimizers.SGD(),\n",
        "              metrics='mae')"
      ],
      "metadata": {
        "id": "BJF8-bxET4l8"
      },
      "execution_count": null,
      "outputs": []
    },
    {
      "cell_type": "code",
      "source": [
        "model.add(tf.keras.layers.Dense(64,input_shape=[len(X.columns)],kernel_initializer=tf.keras.initializers.RandomNormal(seed=40)))"
      ],
      "metadata": {
        "id": "G41VJwCAUNWC"
      },
      "execution_count": null,
      "outputs": []
    },
    {
      "cell_type": "code",
      "source": [
        "model.summary()"
      ],
      "metadata": {
        "colab": {
          "base_uri": "https://localhost:8080/",
          "height": 287
        },
        "id": "o-N8ei5dT9Kj",
        "outputId": "d1e50763-7779-4af3-9ad8-ca4afe9c4665"
      },
      "execution_count": null,
      "outputs": [
        {
          "output_type": "error",
          "ename": "ValueError",
          "evalue": "ignored",
          "traceback": [
            "\u001b[0;31m---------------------------------------------------------------------------\u001b[0m",
            "\u001b[0;31mValueError\u001b[0m                                Traceback (most recent call last)",
            "\u001b[0;32m<ipython-input-18-5f15418b3570>\u001b[0m in \u001b[0;36m<module>\u001b[0;34m\u001b[0m\n\u001b[0;32m----> 1\u001b[0;31m \u001b[0mmodel\u001b[0m\u001b[0;34m.\u001b[0m\u001b[0msummary\u001b[0m\u001b[0;34m(\u001b[0m\u001b[0;34m)\u001b[0m\u001b[0;34m\u001b[0m\u001b[0;34m\u001b[0m\u001b[0m\n\u001b[0m",
            "\u001b[0;32m/usr/local/lib/python3.7/dist-packages/keras/engine/training.py\u001b[0m in \u001b[0;36msummary\u001b[0;34m(self, line_length, positions, print_fn, expand_nested, show_trainable)\u001b[0m\n\u001b[1;32m   2868\u001b[0m     \u001b[0;32mif\u001b[0m \u001b[0;32mnot\u001b[0m \u001b[0mself\u001b[0m\u001b[0;34m.\u001b[0m\u001b[0mbuilt\u001b[0m\u001b[0;34m:\u001b[0m\u001b[0;34m\u001b[0m\u001b[0;34m\u001b[0m\u001b[0m\n\u001b[1;32m   2869\u001b[0m       raise ValueError(\n\u001b[0;32m-> 2870\u001b[0;31m           \u001b[0;34m'This model has not yet been built. '\u001b[0m\u001b[0;34m\u001b[0m\u001b[0;34m\u001b[0m\u001b[0m\n\u001b[0m\u001b[1;32m   2871\u001b[0m           \u001b[0;34m'Build the model first by calling `build()` or by calling '\u001b[0m\u001b[0;34m\u001b[0m\u001b[0;34m\u001b[0m\u001b[0m\n\u001b[1;32m   2872\u001b[0m           'the model on a batch of data.')\n",
            "\u001b[0;31mValueError\u001b[0m: This model has not yet been built. Build the model first by calling `build()` or by calling the model on a batch of data."
          ]
        }
      ]
    },
    {
      "cell_type": "code",
      "execution_count": null,
      "metadata": {
        "id": "PVg-3eUs5ymL"
      },
      "outputs": [],
      "source": [
        "\n",
        "model.add(tf.keras.layers.Dense(32))\n",
        "model.add(tf.keras.layers.Dense(16))\n",
        "model.add(tf.keras.layers.Dense(8))\n",
        "model.add(tf.keras.layers.Dense(1, activation='linear')) #binary : sigmoid, #multiclass : softmax\n",
        "\n",
        "model.compile(loss='mae',\n",
        "              optimizer=tf.keras.optimizers.SGD(),\n",
        "              metrics='mae')\n",
        "\n",
        "model.summary()"
      ]
    },
    {
      "cell_type": "code",
      "execution_count": null,
      "metadata": {
        "colab": {
          "base_uri": "https://localhost:8080/"
        },
        "id": "Laly8Ce764KP",
        "outputId": "07c3e065-7c8e-43ed-c3de-1e5bf2289cc8"
      },
      "outputs": [
        {
          "output_type": "stream",
          "name": "stdout",
          "text": [
            "Epoch 1/10\n",
            "5/5 [==============================] - 3s 40ms/step - loss: 13179.3965 - mae: 13179.3965 - val_loss: 13398.3613 - val_mae: 13398.3613\n",
            "Epoch 2/10\n",
            "5/5 [==============================] - 0s 10ms/step - loss: 13178.9502 - mae: 13178.9502 - val_loss: 13397.9023 - val_mae: 13397.9023\n",
            "Epoch 3/10\n",
            "5/5 [==============================] - 0s 8ms/step - loss: 13178.4629 - mae: 13178.4629 - val_loss: 13397.3535 - val_mae: 13397.3535\n",
            "Epoch 4/10\n",
            "5/5 [==============================] - 0s 8ms/step - loss: 13177.8828 - mae: 13177.8828 - val_loss: 13396.6631 - val_mae: 13396.6631\n",
            "Epoch 5/10\n",
            "5/5 [==============================] - 0s 7ms/step - loss: 13177.1143 - mae: 13177.1143 - val_loss: 13395.6973 - val_mae: 13395.6973\n",
            "Epoch 6/10\n",
            "5/5 [==============================] - 0s 7ms/step - loss: 13176.0234 - mae: 13176.0234 - val_loss: 13394.2354 - val_mae: 13394.2354\n",
            "Epoch 7/10\n",
            "5/5 [==============================] - 0s 7ms/step - loss: 13174.3008 - mae: 13174.3008 - val_loss: 13391.8467 - val_mae: 13391.8467\n",
            "Epoch 8/10\n",
            "5/5 [==============================] - 0s 7ms/step - loss: 13171.3613 - mae: 13171.3613 - val_loss: 13387.2861 - val_mae: 13387.2861\n",
            "Epoch 9/10\n",
            "5/5 [==============================] - 0s 8ms/step - loss: 13165.1885 - mae: 13165.1885 - val_loss: 13376.4941 - val_mae: 13376.4941\n",
            "Epoch 10/10\n",
            "5/5 [==============================] - 0s 7ms/step - loss: 13148.6504 - mae: 13148.6504 - val_loss: 13339.7910 - val_mae: 13339.7910\n"
          ]
        }
      ],
      "source": [
        "history = model.fit(X_train_std, y_train, epochs=10, batch_size=32,\n",
        "                    validation_data=(X_val_std, y_val),verbose=1)"
      ]
    },
    {
      "cell_type": "markdown",
      "metadata": {
        "id": "3MPWg-y8GDPd"
      },
      "source": [
        "##Kernel Initializers"
      ]
    },
    {
      "cell_type": "code",
      "execution_count": null,
      "metadata": {
        "id": "hmucLqJF81HG"
      },
      "outputs": [],
      "source": [
        "model = tf.keras.models.Sequential()\n",
        "model.add(tf.keras.layers.Dense(64,input_shape=[len(X.columns)],kernel_initializer=tf.keras.initializers.RandomNormal(seed=40)))\n",
        "model.add(tf.keras.layers.Dense(32))\n",
        "model.add(tf.keras.layers.Dense(16))\n",
        "model.add(tf.keras.layers.Dense(8))\n",
        "model.add(tf.keras.layers.Dense(1, activation='linear'))\n",
        "\n",
        "model.compile(loss='mae',\n",
        "              optimizer=tf.keras.optimizers.SGD(),\n",
        "              metrics='mae')"
      ]
    },
    {
      "cell_type": "code",
      "execution_count": null,
      "metadata": {
        "colab": {
          "base_uri": "https://localhost:8080/"
        },
        "id": "q3dwPLZ3-KvH",
        "outputId": "d7586bc9-061a-41ab-b63d-bbd9cb8febf1"
      },
      "outputs": [
        {
          "output_type": "stream",
          "name": "stdout",
          "text": [
            "Epoch 1/10\n",
            "5/5 [==============================] - 3s 43ms/step - loss: 13192.2578 - mae: 13192.2578 - val_loss: 14990.9492 - val_mae: 14990.9492\n",
            "Epoch 2/10\n",
            "5/5 [==============================] - 0s 7ms/step - loss: 13192.0586 - mae: 13192.0586 - val_loss: 14990.7412 - val_mae: 14990.7412\n",
            "Epoch 3/10\n",
            "5/5 [==============================] - 0s 12ms/step - loss: 13191.8428 - mae: 13191.8428 - val_loss: 14990.5000 - val_mae: 14990.5000\n",
            "Epoch 4/10\n",
            "5/5 [==============================] - 0s 8ms/step - loss: 13191.5928 - mae: 13191.5928 - val_loss: 14990.2090 - val_mae: 14990.2090\n",
            "Epoch 5/10\n",
            "5/5 [==============================] - 0s 7ms/step - loss: 13191.2725 - mae: 13191.2725 - val_loss: 14989.8291 - val_mae: 14989.8291\n",
            "Epoch 6/10\n",
            "5/5 [==============================] - 0s 7ms/step - loss: 13190.8389 - mae: 13190.8389 - val_loss: 14989.2852 - val_mae: 14989.2852\n",
            "Epoch 7/10\n",
            "5/5 [==============================] - 0s 7ms/step - loss: 13190.1934 - mae: 13190.1934 - val_loss: 14988.4209 - val_mae: 14988.4209\n",
            "Epoch 8/10\n",
            "5/5 [==============================] - 0s 8ms/step - loss: 13189.1211 - mae: 13189.1211 - val_loss: 14986.8447 - val_mae: 14986.8447\n",
            "Epoch 9/10\n",
            "5/5 [==============================] - 0s 8ms/step - loss: 13187.0381 - mae: 13187.0381 - val_loss: 14983.3584 - val_mae: 14983.3584\n",
            "Epoch 10/10\n",
            "5/5 [==============================] - 0s 7ms/step - loss: 13181.8213 - mae: 13181.8213 - val_loss: 14972.3125 - val_mae: 14972.3125\n"
          ]
        }
      ],
      "source": [
        "history = model.fit(X_train_std, y_train, epochs=10, batch_size=32,\n",
        "                    validation_data=(X_val_std, y_val),verbose=1)"
      ]
    },
    {
      "cell_type": "code",
      "source": [
        "model.summary()"
      ],
      "metadata": {
        "colab": {
          "base_uri": "https://localhost:8080/"
        },
        "id": "AK-HnIbSUV-d",
        "outputId": "c25a1330-1005-42d3-be19-890cdb46bb05"
      },
      "execution_count": null,
      "outputs": [
        {
          "output_type": "stream",
          "name": "stdout",
          "text": [
            "Model: \"sequential_5\"\n",
            "_________________________________________________________________\n",
            " Layer (type)                Output Shape              Param #   \n",
            "=================================================================\n",
            " dense_11 (Dense)            (None, 64)                704       \n",
            "                                                                 \n",
            " dense_12 (Dense)            (None, 32)                2080      \n",
            "                                                                 \n",
            " dense_13 (Dense)            (None, 16)                528       \n",
            "                                                                 \n",
            " dense_14 (Dense)            (None, 8)                 136       \n",
            "                                                                 \n",
            " dense_15 (Dense)            (None, 1)                 9         \n",
            "                                                                 \n",
            "=================================================================\n",
            "Total params: 3,457\n",
            "Trainable params: 3,457\n",
            "Non-trainable params: 0\n",
            "_________________________________________________________________\n"
          ]
        }
      ]
    },
    {
      "cell_type": "markdown",
      "metadata": {
        "id": "WUiTDUp9GkDg"
      },
      "source": [
        "## Batch Size"
      ]
    },
    {
      "cell_type": "code",
      "execution_count": null,
      "metadata": {
        "colab": {
          "base_uri": "https://localhost:8080/"
        },
        "id": "fE1dErV--NCi",
        "outputId": "eff4a51a-e97e-4236-c408-368335485cfd"
      },
      "outputs": [
        {
          "output_type": "stream",
          "name": "stdout",
          "text": [
            "Epoch 1/10\n",
            "10/10 [==============================] - 1s 16ms/step - loss: 13191.9795 - mae: 13191.9795 - val_loss: 14990.2344 - val_mae: 14990.2344\n",
            "Epoch 2/10\n",
            "10/10 [==============================] - 0s 5ms/step - loss: 13190.8848 - mae: 13190.8848 - val_loss: 14988.5342 - val_mae: 14988.5342\n",
            "Epoch 3/10\n",
            "10/10 [==============================] - 0s 5ms/step - loss: 13188.2217 - mae: 13188.2217 - val_loss: 14982.7109 - val_mae: 14982.7109\n",
            "Epoch 4/10\n",
            "10/10 [==============================] - 0s 4ms/step - loss: 13167.1680 - mae: 13167.1680 - val_loss: 14800.1455 - val_mae: 14800.1455\n",
            "Epoch 5/10\n",
            "10/10 [==============================] - 0s 4ms/step - loss: nan - mae: nan - val_loss: nan - val_mae: nan\n",
            "Epoch 6/10\n",
            "10/10 [==============================] - 0s 4ms/step - loss: nan - mae: nan - val_loss: nan - val_mae: nan\n",
            "Epoch 7/10\n",
            "10/10 [==============================] - 0s 5ms/step - loss: nan - mae: nan - val_loss: nan - val_mae: nan\n",
            "Epoch 8/10\n",
            "10/10 [==============================] - 0s 4ms/step - loss: nan - mae: nan - val_loss: nan - val_mae: nan\n",
            "Epoch 9/10\n",
            "10/10 [==============================] - 0s 5ms/step - loss: nan - mae: nan - val_loss: nan - val_mae: nan\n",
            "Epoch 10/10\n",
            "10/10 [==============================] - 0s 4ms/step - loss: nan - mae: nan - val_loss: nan - val_mae: nan\n"
          ]
        }
      ],
      "source": [
        "model = tf.keras.models.Sequential()\n",
        "model.add(tf.keras.layers.Dense(64,input_shape=[len(X.columns)],kernel_initializer=tf.keras.initializers.RandomNormal(seed=40)))\n",
        "model.add(tf.keras.layers.Dense(32))\n",
        "model.add(tf.keras.layers.Dense(16))\n",
        "model.add(tf.keras.layers.Dense(8))\n",
        "model.add(tf.keras.layers.Dense(1, activation='linear'))\n",
        "\n",
        "model.compile(loss='mae',\n",
        "              optimizer=tf.keras.optimizers.SGD(),\n",
        "              metrics='mae')\n",
        "\n",
        "history = model.fit(X_train_std, y_train, epochs=10, batch_size=16,\n",
        "                    validation_data=(X_val_std, y_val),verbose=1)"
      ]
    },
    {
      "cell_type": "markdown",
      "metadata": {
        "id": "riG3_-hVGyea"
      },
      "source": [
        "## Activation Function"
      ]
    },
    {
      "cell_type": "code",
      "execution_count": null,
      "metadata": {
        "colab": {
          "base_uri": "https://localhost:8080/"
        },
        "id": "UPSeWFbJ-yok",
        "outputId": "aad8139d-32b2-4d94-8b4b-bb81e426c24a"
      },
      "outputs": [
        {
          "output_type": "stream",
          "name": "stdout",
          "text": [
            "Epoch 1/10\n",
            "5/5 [==============================] - 0s 34ms/step - loss: 13192.5752 - mae: 13192.5752 - val_loss: 14991.2959 - val_mae: 14991.2959\n",
            "Epoch 2/10\n",
            "5/5 [==============================] - 0s 8ms/step - loss: 13192.3457 - mae: 13192.3457 - val_loss: 14991.1094 - val_mae: 14991.1094\n",
            "Epoch 3/10\n",
            "5/5 [==============================] - 0s 8ms/step - loss: 13192.1758 - mae: 13192.1758 - val_loss: 14990.9473 - val_mae: 14990.9473\n",
            "Epoch 4/10\n",
            "5/5 [==============================] - 0s 8ms/step - loss: 13192.0186 - mae: 13192.0186 - val_loss: 14990.7891 - val_mae: 14990.7891\n",
            "Epoch 5/10\n",
            "5/5 [==============================] - 0s 8ms/step - loss: 13191.8633 - mae: 13191.8633 - val_loss: 14990.6299 - val_mae: 14990.6299\n",
            "Epoch 6/10\n",
            "5/5 [==============================] - 0s 7ms/step - loss: 13191.6973 - mae: 13191.6973 - val_loss: 14990.4492 - val_mae: 14990.4492\n",
            "Epoch 7/10\n",
            "5/5 [==============================] - 0s 12ms/step - loss: 13191.5088 - mae: 13191.5088 - val_loss: 14990.2402 - val_mae: 14990.2402\n",
            "Epoch 8/10\n",
            "5/5 [==============================] - 0s 8ms/step - loss: 13191.2803 - mae: 13191.2803 - val_loss: 14989.9766 - val_mae: 14989.9766\n",
            "Epoch 9/10\n",
            "5/5 [==============================] - 0s 8ms/step - loss: 13190.9873 - mae: 13190.9873 - val_loss: 14989.6250 - val_mae: 14989.6250\n",
            "Epoch 10/10\n",
            "5/5 [==============================] - 0s 8ms/step - loss: 13190.5879 - mae: 13190.5879 - val_loss: 14989.1338 - val_mae: 14989.1338\n"
          ]
        }
      ],
      "source": [
        "model = tf.keras.models.Sequential()\n",
        "model.add(tf.keras.layers.Dense(64,input_shape=[len(X.columns)],kernel_initializer=tf.keras.initializers.GlorotNormal(seed=40)))\n",
        "\n",
        "model.add(tf.keras.layers.Dense(32,activation='relu'))\n",
        "model.add(tf.keras.layers.Dense(16,activation='relu'))\n",
        "model.add(tf.keras.layers.Dense(8,activation='relu'))\n",
        "model.add(tf.keras.layers.Dense(1, activation='linear'))\n",
        "\n",
        "model.compile(loss='mae',\n",
        "              optimizer=tf.keras.optimizers.SGD(),\n",
        "              metrics='mae')\n",
        "\n",
        "history = model.fit(X_train_std, y_train, epochs=10, batch_size=32,\n",
        "                    validation_data=(X_val_std, y_val),verbose=1)"
      ]
    },
    {
      "cell_type": "code",
      "execution_count": null,
      "metadata": {
        "colab": {
          "base_uri": "https://localhost:8080/",
          "height": 296
        },
        "id": "BUYQxG2d_jTC",
        "outputId": "b42f35d1-7e4f-4607-df16-975280bc8437"
      },
      "outputs": [
        {
          "output_type": "execute_result",
          "data": {
            "text/plain": [
              "<matplotlib.legend.Legend at 0x7f19b97b6b90>"
            ]
          },
          "metadata": {},
          "execution_count": 28
        },
        {
          "output_type": "display_data",
          "data": {
            "text/plain": [
              "<Figure size 432x288 with 1 Axes>"
            ],
            "image/png": "[encoded data removed]"
          },
          "metadata": {
            "needs_background": "light"
          }
        }
      ],
      "source": [
        "fig, ax = plt.subplots()\n",
        "ax.plot(range(10),history.history['loss'],label='train loss')\n",
        "ax.plot(range(10),history.history['val_loss'],label='val loss')\n",
        "\n",
        "ax.set_xlabel('Epoch')\n",
        "ax.set_ylabel('Loss')\n",
        "plt.legend()"
      ]
    },
    {
      "cell_type": "markdown",
      "metadata": {
        "id": "aeaY2av6F9XF"
      },
      "source": [
        "##Batch normalization"
      ]
    },
    {
      "cell_type": "markdown",
      "metadata": {
        "id": "Z3DKHLokF7kL"
      },
      "source": [
        "struktur batch normalization yang sesuai adalah dilakukan sebelum activation function"
      ]
    },
    {
      "cell_type": "code",
      "execution_count": null,
      "metadata": {
        "colab": {
          "base_uri": "https://localhost:8080/"
        },
        "id": "QbOHJzhCBsxq",
        "outputId": "6f41f54b-a693-4135-823a-c3ce7124c3eb"
      },
      "outputs": [
        {
          "output_type": "stream",
          "name": "stdout",
          "text": [
            "Epoch 1/40\n",
            "3/3 [==============================] - 1s 93ms/step - loss: 13192.2256 - mae: 13192.2256 - val_loss: 14990.8652 - val_mae: 14990.8652\n",
            "Epoch 2/40\n",
            "3/3 [==============================] - 0s 14ms/step - loss: 13192.1533 - mae: 13192.1533 - val_loss: 14990.8154 - val_mae: 14990.8154\n",
            "Epoch 3/40\n",
            "3/3 [==============================] - 0s 15ms/step - loss: 13192.0889 - mae: 13192.0889 - val_loss: 14990.7734 - val_mae: 14990.7734\n",
            "Epoch 4/40\n",
            "3/3 [==============================] - 0s 13ms/step - loss: 13192.0166 - mae: 13192.0156 - val_loss: 14990.7295 - val_mae: 14990.7295\n",
            "Epoch 5/40\n",
            "3/3 [==============================] - 0s 13ms/step - loss: 13191.9463 - mae: 13191.9463 - val_loss: 14990.6895 - val_mae: 14990.6895\n",
            "Epoch 6/40\n",
            "3/3 [==============================] - 0s 14ms/step - loss: 13191.8662 - mae: 13191.8662 - val_loss: 14990.6387 - val_mae: 14990.6387\n",
            "Epoch 7/40\n",
            "3/3 [==============================] - 0s 13ms/step - loss: 13191.7930 - mae: 13191.7939 - val_loss: 14990.5947 - val_mae: 14990.5947\n",
            "Epoch 8/40\n",
            "3/3 [==============================] - 0s 13ms/step - loss: 13191.7158 - mae: 13191.7158 - val_loss: 14990.5439 - val_mae: 14990.5439\n",
            "Epoch 9/40\n",
            "3/3 [==============================] - 0s 13ms/step - loss: 13191.6514 - mae: 13191.6514 - val_loss: 14990.4971 - val_mae: 14990.4971\n",
            "Epoch 10/40\n",
            "3/3 [==============================] - 0s 14ms/step - loss: 13191.5762 - mae: 13191.5762 - val_loss: 14990.4375 - val_mae: 14990.4375\n",
            "Epoch 11/40\n",
            "3/3 [==============================] - 0s 13ms/step - loss: 13191.5088 - mae: 13191.5088 - val_loss: 14990.3887 - val_mae: 14990.3887\n",
            "Epoch 12/40\n",
            "3/3 [==============================] - 0s 13ms/step - loss: 13191.4258 - mae: 13191.4258 - val_loss: 14990.3281 - val_mae: 14990.3281\n",
            "Epoch 13/40\n",
            "3/3 [==============================] - 0s 14ms/step - loss: 13191.3535 - mae: 13191.3535 - val_loss: 14990.2734 - val_mae: 14990.2734\n",
            "Epoch 14/40\n",
            "3/3 [==============================] - 0s 13ms/step - loss: 13191.2734 - mae: 13191.2734 - val_loss: 14990.2266 - val_mae: 14990.2266\n",
            "Epoch 15/40\n",
            "3/3 [==============================] - 0s 16ms/step - loss: 13191.2080 - mae: 13191.2080 - val_loss: 14990.1689 - val_mae: 14990.1689\n",
            "Epoch 16/40\n",
            "3/3 [==============================] - 0s 17ms/step - loss: 13191.1240 - mae: 13191.1240 - val_loss: 14990.1523 - val_mae: 14990.1523\n",
            "Epoch 17/40\n",
            "3/3 [==============================] - 0s 14ms/step - loss: 13191.0498 - mae: 13191.0498 - val_loss: 14990.0811 - val_mae: 14990.0811\n",
            "Epoch 18/40\n",
            "3/3 [==============================] - 0s 14ms/step - loss: 13190.9854 - mae: 13190.9854 - val_loss: 14990.0342 - val_mae: 14990.0342\n",
            "Epoch 19/40\n",
            "3/3 [==============================] - 0s 14ms/step - loss: 13190.9033 - mae: 13190.9033 - val_loss: 14989.9834 - val_mae: 14989.9834\n",
            "Epoch 20/40\n",
            "3/3 [==============================] - 0s 14ms/step - loss: 13190.8145 - mae: 13190.8145 - val_loss: 14989.9287 - val_mae: 14989.9287\n",
            "Epoch 21/40\n",
            "3/3 [==============================] - 0s 13ms/step - loss: 13190.7412 - mae: 13190.7412 - val_loss: 14989.8936 - val_mae: 14989.8936\n",
            "Epoch 22/40\n",
            "3/3 [==============================] - 0s 13ms/step - loss: 13190.6416 - mae: 13190.6416 - val_loss: 14989.8398 - val_mae: 14989.8398\n",
            "Epoch 23/40\n",
            "3/3 [==============================] - 0s 17ms/step - loss: 13190.5664 - mae: 13190.5664 - val_loss: 14989.7705 - val_mae: 14989.7705\n",
            "Epoch 24/40\n",
            "3/3 [==============================] - 0s 14ms/step - loss: 13190.4814 - mae: 13190.4814 - val_loss: 14989.6855 - val_mae: 14989.6855\n",
            "Epoch 25/40\n",
            "3/3 [==============================] - 0s 15ms/step - loss: 13190.3877 - mae: 13190.3857 - val_loss: 14989.5947 - val_mae: 14989.5947\n",
            "Epoch 26/40\n",
            "3/3 [==============================] - 0s 13ms/step - loss: 13190.2930 - mae: 13190.2930 - val_loss: 14989.5322 - val_mae: 14989.5322\n",
            "Epoch 27/40\n",
            "3/3 [==============================] - 0s 13ms/step - loss: 13190.2021 - mae: 13190.2021 - val_loss: 14989.4580 - val_mae: 14989.4580\n",
            "Epoch 28/40\n",
            "3/3 [==============================] - 0s 13ms/step - loss: 13190.0957 - mae: 13190.0957 - val_loss: 14989.2988 - val_mae: 14989.2988\n",
            "Epoch 29/40\n",
            "3/3 [==============================] - 0s 14ms/step - loss: 13189.9902 - mae: 13189.9902 - val_loss: 14989.2666 - val_mae: 14989.2666\n",
            "Epoch 30/40\n",
            "3/3 [==============================] - 0s 14ms/step - loss: 13189.8984 - mae: 13189.8984 - val_loss: 14989.1436 - val_mae: 14989.1436\n",
            "Epoch 31/40\n",
            "3/3 [==============================] - 0s 14ms/step - loss: 13189.8096 - mae: 13189.8096 - val_loss: 14988.9463 - val_mae: 14988.9463\n",
            "Epoch 32/40\n",
            "3/3 [==============================] - 0s 14ms/step - loss: 13189.6895 - mae: 13189.6895 - val_loss: 14988.8662 - val_mae: 14988.8662\n",
            "Epoch 33/40\n",
            "3/3 [==============================] - 0s 16ms/step - loss: 13189.5752 - mae: 13189.5752 - val_loss: 14988.7109 - val_mae: 14988.7109\n",
            "Epoch 34/40\n",
            "3/3 [==============================] - 0s 14ms/step - loss: 13189.4629 - mae: 13189.4629 - val_loss: 14988.6221 - val_mae: 14988.6221\n",
            "Epoch 35/40\n",
            "3/3 [==============================] - 0s 15ms/step - loss: 13189.3438 - mae: 13189.3438 - val_loss: 14988.5342 - val_mae: 14988.5342\n",
            "Epoch 36/40\n",
            "3/3 [==============================] - 0s 15ms/step - loss: 13189.2285 - mae: 13189.2285 - val_loss: 14988.3633 - val_mae: 14988.3633\n",
            "Epoch 37/40\n",
            "3/3 [==============================] - 0s 14ms/step - loss: 13189.1123 - mae: 13189.1123 - val_loss: 14988.2969 - val_mae: 14988.2969\n",
            "Epoch 38/40\n",
            "3/3 [==============================] - 0s 15ms/step - loss: 13188.9658 - mae: 13188.9658 - val_loss: 14988.1299 - val_mae: 14988.1299\n",
            "Epoch 39/40\n",
            "3/3 [==============================] - 0s 14ms/step - loss: 13188.8252 - mae: 13188.8252 - val_loss: 14987.9189 - val_mae: 14987.9189\n",
            "Epoch 40/40\n",
            "3/3 [==============================] - 0s 14ms/step - loss: 13188.7139 - mae: 13188.7129 - val_loss: 14987.8408 - val_mae: 14987.8408\n"
          ]
        }
      ],
      "source": [
        "tf.random.set_seed(42) # gunakan set_seed untuk menghasilkan model yang mempunyai performa yang sama\n",
        "\n",
        "model = tf.keras.models.Sequential()\n",
        "model.add(tf.keras.layers.Dense(15,input_shape=[len(X.columns)],kernel_initializer=tf.keras.initializers.GlorotNormal(seed=40)))\n",
        "\n",
        "model.add(tf.keras.layers.Dense(14))\n",
        "model.add(tf.keras.layers.BatchNormalization())\n",
        "model.add(tf.keras.layers.Activation('relu'))\n",
        "\n",
        "model.add(tf.keras.layers.Dense(10))\n",
        "model.add(tf.keras.layers.BatchNormalization())\n",
        "model.add(tf.keras.layers.Activation('relu'))\n",
        "\n",
        "model.add(tf.keras.layers.Dense(8))\n",
        "model.add(tf.keras.layers.BatchNormalization())\n",
        "model.add(tf.keras.layers.Activation('relu'))\n",
        "\n",
        "model.add(tf.keras.layers.Dense(1, activation='linear'))\n",
        "\n",
        "model.compile(loss='mae',\n",
        "              optimizer=tf.keras.optimizers.SGD(),\n",
        "              metrics='mae')\n",
        "\n",
        "history = model.fit(X_train_std, y_train, epochs=40, batch_size=70,\n",
        "                    validation_data=(X_val_std, y_val),verbose=1)"
      ]
    },
    {
      "cell_type": "code",
      "execution_count": null,
      "metadata": {
        "colab": {
          "base_uri": "https://localhost:8080/",
          "height": 296
        },
        "id": "6gjsQy6P7WMy",
        "outputId": "ad401c90-8dba-44e0-80dc-10b7e1dcee48"
      },
      "outputs": [
        {
          "output_type": "execute_result",
          "data": {
            "text/plain": [
              "<matplotlib.legend.Legend at 0x7f19b96da9d0>"
            ]
          },
          "metadata": {},
          "execution_count": 30
        },
        {
          "output_type": "display_data",
          "data": {
            "text/plain": [
              "<Figure size 432x288 with 1 Axes>"
            ],
            "image/png": "[encoded data removed]"
          },
          "metadata": {
            "needs_background": "light"
          }
        }
      ],
      "source": [
        "fig, ax = plt.subplots()\n",
        "ax.plot(range(40),history.history['loss'],label='train loss')\n",
        "ax.plot(range(40),history.history['val_loss'],label='val loss')\n",
        "#plt.gca().set_ylim(220000, 223000)\n",
        "ax.set_xlabel('Epoch')\n",
        "ax.set_ylabel('Loss')\n",
        "plt.legend()"
      ]
    },
    {
      "cell_type": "markdown",
      "metadata": {
        "id": "ug9s_5cPJLaH"
      },
      "source": [
        "## Dropout"
      ]
    },
    {
      "cell_type": "code",
      "execution_count": null,
      "metadata": {
        "colab": {
          "base_uri": "https://localhost:8080/"
        },
        "id": "zamttmjRECw6",
        "outputId": "1a8cbbd5-c436-47e4-fccb-9f647bbd75bc"
      },
      "outputs": [
        {
          "output_type": "stream",
          "name": "stdout",
          "text": [
            "Epoch 1/40\n",
            "3/3 [==============================] - 1s 97ms/step - loss: 13192.3184 - mae: 13192.3184 - val_loss: 14990.8750 - val_mae: 14990.8750\n",
            "Epoch 2/40\n",
            "3/3 [==============================] - 0s 14ms/step - loss: 13192.3057 - mae: 13192.3057 - val_loss: 14990.8379 - val_mae: 14990.8379\n",
            "Epoch 3/40\n",
            "3/3 [==============================] - 0s 14ms/step - loss: 13192.2354 - mae: 13192.2354 - val_loss: 14990.7959 - val_mae: 14990.7959\n",
            "Epoch 4/40\n",
            "3/3 [==============================] - 0s 13ms/step - loss: 13192.1680 - mae: 13192.1680 - val_loss: 14990.7617 - val_mae: 14990.7617\n",
            "Epoch 5/40\n",
            "3/3 [==============================] - 0s 14ms/step - loss: 13192.1729 - mae: 13192.1729 - val_loss: 14990.7227 - val_mae: 14990.7227\n",
            "Epoch 6/40\n",
            "3/3 [==============================] - 0s 13ms/step - loss: 13192.0693 - mae: 13192.0693 - val_loss: 14990.6855 - val_mae: 14990.6855\n",
            "Epoch 7/40\n",
            "3/3 [==============================] - 0s 15ms/step - loss: 13191.9971 - mae: 13191.9971 - val_loss: 14990.6338 - val_mae: 14990.6338\n",
            "Epoch 8/40\n",
            "3/3 [==============================] - 0s 14ms/step - loss: 13191.9668 - mae: 13191.9668 - val_loss: 14990.5898 - val_mae: 14990.5898\n",
            "Epoch 9/40\n",
            "3/3 [==============================] - 0s 16ms/step - loss: 13191.9141 - mae: 13191.9141 - val_loss: 14990.5508 - val_mae: 14990.5508\n",
            "Epoch 10/40\n",
            "3/3 [==============================] - 0s 14ms/step - loss: 13191.8848 - mae: 13191.8848 - val_loss: 14990.5098 - val_mae: 14990.5098\n",
            "Epoch 11/40\n",
            "3/3 [==============================] - 0s 23ms/step - loss: 13191.8877 - mae: 13191.8877 - val_loss: 14990.4766 - val_mae: 14990.4766\n",
            "Epoch 12/40\n",
            "3/3 [==============================] - 0s 14ms/step - loss: 13191.8125 - mae: 13191.8125 - val_loss: 14990.4287 - val_mae: 14990.4287\n",
            "Epoch 13/40\n",
            "3/3 [==============================] - 0s 17ms/step - loss: 13191.7637 - mae: 13191.7637 - val_loss: 14990.3848 - val_mae: 14990.3848\n",
            "Epoch 14/40\n",
            "3/3 [==============================] - 0s 14ms/step - loss: 13191.6943 - mae: 13191.6943 - val_loss: 14990.3398 - val_mae: 14990.3398\n",
            "Epoch 15/40\n",
            "3/3 [==============================] - 0s 14ms/step - loss: 13191.6396 - mae: 13191.6396 - val_loss: 14990.3105 - val_mae: 14990.3105\n",
            "Epoch 16/40\n",
            "3/3 [==============================] - 0s 14ms/step - loss: 13191.5840 - mae: 13191.5840 - val_loss: 14990.2666 - val_mae: 14990.2666\n",
            "Epoch 17/40\n",
            "3/3 [==============================] - 0s 14ms/step - loss: 13191.5430 - mae: 13191.5430 - val_loss: 14990.2148 - val_mae: 14990.2148\n",
            "Epoch 18/40\n",
            "3/3 [==============================] - 0s 14ms/step - loss: 13191.4570 - mae: 13191.4570 - val_loss: 14990.1621 - val_mae: 14990.1621\n",
            "Epoch 19/40\n",
            "3/3 [==============================] - 0s 14ms/step - loss: 13191.3926 - mae: 13191.3926 - val_loss: 14990.1084 - val_mae: 14990.1084\n",
            "Epoch 20/40\n",
            "3/3 [==============================] - 0s 14ms/step - loss: 13191.3525 - mae: 13191.3525 - val_loss: 14990.0576 - val_mae: 14990.0576\n",
            "Epoch 21/40\n",
            "3/3 [==============================] - 0s 23ms/step - loss: 13191.3320 - mae: 13191.3320 - val_loss: 14989.9902 - val_mae: 14989.9902\n",
            "Epoch 22/40\n",
            "3/3 [==============================] - 0s 15ms/step - loss: 13191.2998 - mae: 13191.2998 - val_loss: 14989.9355 - val_mae: 14989.9355\n",
            "Epoch 23/40\n",
            "3/3 [==============================] - 0s 14ms/step - loss: 13191.1699 - mae: 13191.1699 - val_loss: 14989.8818 - val_mae: 14989.8818\n",
            "Epoch 24/40\n",
            "3/3 [==============================] - 0s 14ms/step - loss: 13191.1797 - mae: 13191.1797 - val_loss: 14989.8154 - val_mae: 14989.8154\n",
            "Epoch 25/40\n",
            "3/3 [==============================] - 0s 14ms/step - loss: 13190.9932 - mae: 13190.9932 - val_loss: 14989.7598 - val_mae: 14989.7598\n",
            "Epoch 26/40\n",
            "3/3 [==============================] - 0s 15ms/step - loss: 13191.0146 - mae: 13191.0146 - val_loss: 14989.6943 - val_mae: 14989.6943\n",
            "Epoch 27/40\n",
            "3/3 [==============================] - 0s 15ms/step - loss: 13190.8809 - mae: 13190.8809 - val_loss: 14989.6279 - val_mae: 14989.6279\n",
            "Epoch 28/40\n",
            "3/3 [==============================] - 0s 15ms/step - loss: 13190.7168 - mae: 13190.7168 - val_loss: 14989.5605 - val_mae: 14989.5605\n",
            "Epoch 29/40\n",
            "3/3 [==============================] - 0s 15ms/step - loss: 13190.7520 - mae: 13190.7520 - val_loss: 14989.4951 - val_mae: 14989.4951\n",
            "Epoch 30/40\n",
            "3/3 [==============================] - 0s 16ms/step - loss: 13190.7471 - mae: 13190.7471 - val_loss: 14989.4238 - val_mae: 14989.4238\n",
            "Epoch 31/40\n",
            "3/3 [==============================] - 0s 15ms/step - loss: 13190.6660 - mae: 13190.6660 - val_loss: 14989.3408 - val_mae: 14989.3408\n",
            "Epoch 32/40\n",
            "3/3 [==============================] - 0s 13ms/step - loss: 13190.5225 - mae: 13190.5225 - val_loss: 14989.2588 - val_mae: 14989.2588\n",
            "Epoch 33/40\n",
            "3/3 [==============================] - 0s 13ms/step - loss: 13190.4775 - mae: 13190.4766 - val_loss: 14989.1660 - val_mae: 14989.1660\n",
            "Epoch 34/40\n",
            "3/3 [==============================] - 0s 13ms/step - loss: 13190.3281 - mae: 13190.3281 - val_loss: 14989.0713 - val_mae: 14989.0713\n",
            "Epoch 35/40\n",
            "3/3 [==============================] - 0s 13ms/step - loss: 13190.1963 - mae: 13190.1963 - val_loss: 14988.9658 - val_mae: 14988.9658\n",
            "Epoch 36/40\n",
            "3/3 [==============================] - 0s 13ms/step - loss: 13190.1484 - mae: 13190.1484 - val_loss: 14988.8564 - val_mae: 14988.8564\n",
            "Epoch 37/40\n",
            "3/3 [==============================] - 0s 14ms/step - loss: 13189.9893 - mae: 13189.9883 - val_loss: 14988.7529 - val_mae: 14988.7529\n",
            "Epoch 38/40\n",
            "3/3 [==============================] - 0s 14ms/step - loss: 13189.9102 - mae: 13189.9102 - val_loss: 14988.6484 - val_mae: 14988.6484\n",
            "Epoch 39/40\n",
            "3/3 [==============================] - 0s 14ms/step - loss: 13189.9609 - mae: 13189.9609 - val_loss: 14988.5527 - val_mae: 14988.5527\n",
            "Epoch 40/40\n",
            "3/3 [==============================] - 0s 15ms/step - loss: 13189.8086 - mae: 13189.8086 - val_loss: 14988.4395 - val_mae: 14988.4395\n"
          ]
        }
      ],
      "source": [
        "tf.random.set_seed(42) # gunakan set_seed untuk menghasilkan model yang mempunyai performa yang sama\n",
        "\n",
        "model = tf.keras.models.Sequential()\n",
        "model.add(tf.keras.layers.Dense(15,input_shape=[len(X.columns)],kernel_initializer=tf.keras.initializers.GlorotNormal(seed=40)))\n",
        "model.add(tf.keras.layers.Dense(14))\n",
        "model.add(tf.keras.layers.Activation('relu'))\n",
        "model.add(tf.keras.layers.BatchNormalization())\n",
        "model.add(tf.keras.layers.Dropout(rate=0.2))\n",
        "model.add(tf.keras.layers.Dense(10))\n",
        "model.add(tf.keras.layers.Activation('relu'))\n",
        "model.add(tf.keras.layers.BatchNormalization())\n",
        "model.add(tf.keras.layers.Dropout(rate=0.2))\n",
        "model.add(tf.keras.layers.Dense(8))\n",
        "model.add(tf.keras.layers.Activation('relu'))\n",
        "model.add(tf.keras.layers.BatchNormalization())\n",
        "model.add(tf.keras.layers.Dropout(rate=0.2))\n",
        "model.add(tf.keras.layers.Dense(1, activation='linear'))\n",
        "\n",
        "model.compile(loss='mae',\n",
        "              optimizer=tf.keras.optimizers.SGD(),\n",
        "              metrics='mae')\n",
        "\n",
        "history = model.fit(X_train_std, y_train, epochs=40, batch_size=70,\n",
        "                    validation_data=(X_val_std, y_val),verbose=1)"
      ]
    },
    {
      "cell_type": "code",
      "execution_count": null,
      "metadata": {
        "colab": {
          "base_uri": "https://localhost:8080/",
          "height": 296
        },
        "id": "hhd8VaGMJOZU",
        "outputId": "8850f6ee-750f-45b1-d8b6-0b2e38ac00bf"
      },
      "outputs": [
        {
          "output_type": "execute_result",
          "data": {
            "text/plain": [
              "<matplotlib.legend.Legend at 0x7f19b9a938d0>"
            ]
          },
          "metadata": {},
          "execution_count": 32
        },
        {
          "output_type": "display_data",
          "data": {
            "text/plain": [
              "<Figure size 432x288 with 1 Axes>"
            ],
            "image/png": "[encoded data removed]"
          },
          "metadata": {
            "needs_background": "light"
          }
        }
      ],
      "source": [
        "fig, ax = plt.subplots()\n",
        "ax.plot(range(40),history.history['loss'],label='train loss')\n",
        "ax.plot(range(40),history.history['val_loss'],label='val loss')\n",
        "#plt.gca().set_ylim(220000, 223000)\n",
        "ax.set_xlabel('Epoch')\n",
        "ax.set_ylabel('Loss')\n",
        "plt.legend()"
      ]
    },
    {
      "cell_type": "markdown",
      "metadata": {
        "id": "VAXQmfZ1KXoc"
      },
      "source": [
        "## Lerning Rate"
      ]
    },
    {
      "cell_type": "code",
      "execution_count": null,
      "metadata": {
        "colab": {
          "base_uri": "https://localhost:8080/"
        },
        "id": "WJ5ffV6VJrUY",
        "outputId": "89f3f087-ac63-416f-e5fe-b656fca0f67e"
      },
      "outputs": [
        {
          "output_type": "stream",
          "name": "stdout",
          "text": [
            "Epoch 1/40\n",
            "3/3 [==============================] - 1s 96ms/step - loss: 13192.3262 - mae: 13192.3262 - val_loss: 14990.9238 - val_mae: 14990.9238\n",
            "Epoch 2/40\n",
            "3/3 [==============================] - 0s 14ms/step - loss: 13192.3623 - mae: 13192.3623 - val_loss: 14990.9326 - val_mae: 14990.9326\n",
            "Epoch 3/40\n",
            "3/3 [==============================] - 0s 14ms/step - loss: 13192.3340 - mae: 13192.3340 - val_loss: 14990.9395 - val_mae: 14990.9395\n",
            "Epoch 4/40\n",
            "3/3 [==============================] - 0s 14ms/step - loss: 13192.3184 - mae: 13192.3184 - val_loss: 14990.9473 - val_mae: 14990.9473\n",
            "Epoch 5/40\n",
            "3/3 [==============================] - 0s 14ms/step - loss: 13192.3535 - mae: 13192.3535 - val_loss: 14990.9561 - val_mae: 14990.9561\n",
            "Epoch 6/40\n",
            "3/3 [==============================] - 0s 14ms/step - loss: 13192.2959 - mae: 13192.2959 - val_loss: 14990.9648 - val_mae: 14990.9648\n",
            "Epoch 7/40\n",
            "3/3 [==============================] - 0s 14ms/step - loss: 13192.2939 - mae: 13192.2939 - val_loss: 14990.9697 - val_mae: 14990.9697\n",
            "Epoch 8/40\n",
            "3/3 [==============================] - 0s 13ms/step - loss: 13192.2930 - mae: 13192.2930 - val_loss: 14990.9785 - val_mae: 14990.9785\n",
            "Epoch 9/40\n",
            "3/3 [==============================] - 0s 14ms/step - loss: 13192.2920 - mae: 13192.2920 - val_loss: 14990.9883 - val_mae: 14990.9883\n",
            "Epoch 10/40\n",
            "3/3 [==============================] - 0s 13ms/step - loss: 13192.3115 - mae: 13192.3115 - val_loss: 14990.9932 - val_mae: 14990.9932\n",
            "Epoch 11/40\n",
            "3/3 [==============================] - 0s 13ms/step - loss: 13192.3818 - mae: 13192.3818 - val_loss: 14991.0000 - val_mae: 14991.0000\n",
            "Epoch 12/40\n",
            "3/3 [==============================] - 0s 13ms/step - loss: 13192.3281 - mae: 13192.3281 - val_loss: 14991.0029 - val_mae: 14991.0029\n",
            "Epoch 13/40\n",
            "3/3 [==============================] - 0s 15ms/step - loss: 13192.3193 - mae: 13192.3193 - val_loss: 14991.0088 - val_mae: 14991.0088\n",
            "Epoch 14/40\n",
            "3/3 [==============================] - 0s 14ms/step - loss: 13192.3057 - mae: 13192.3057 - val_loss: 14991.0117 - val_mae: 14991.0117\n",
            "Epoch 15/40\n",
            "3/3 [==============================] - 0s 13ms/step - loss: 13192.3018 - mae: 13192.3018 - val_loss: 14991.0205 - val_mae: 14991.0205\n",
            "Epoch 16/40\n",
            "3/3 [==============================] - 0s 18ms/step - loss: 13192.3105 - mae: 13192.3105 - val_loss: 14991.0273 - val_mae: 14991.0273\n",
            "Epoch 17/40\n",
            "3/3 [==============================] - 0s 15ms/step - loss: 13192.3125 - mae: 13192.3135 - val_loss: 14991.0303 - val_mae: 14991.0303\n",
            "Epoch 18/40\n",
            "3/3 [==============================] - 0s 13ms/step - loss: 13192.2930 - mae: 13192.2930 - val_loss: 14991.0352 - val_mae: 14991.0352\n",
            "Epoch 19/40\n",
            "3/3 [==============================] - 0s 14ms/step - loss: 13192.2852 - mae: 13192.2852 - val_loss: 14991.0439 - val_mae: 14991.0439\n",
            "Epoch 20/40\n",
            "3/3 [==============================] - 0s 23ms/step - loss: 13192.3145 - mae: 13192.3145 - val_loss: 14991.0488 - val_mae: 14991.0488\n",
            "Epoch 21/40\n",
            "3/3 [==============================] - 0s 14ms/step - loss: 13192.3340 - mae: 13192.3340 - val_loss: 14991.0557 - val_mae: 14991.0557\n",
            "Epoch 22/40\n",
            "3/3 [==============================] - 0s 14ms/step - loss: 13192.3594 - mae: 13192.3594 - val_loss: 14991.0576 - val_mae: 14991.0576\n",
            "Epoch 23/40\n",
            "3/3 [==============================] - 0s 14ms/step - loss: 13192.2910 - mae: 13192.2910 - val_loss: 14991.0645 - val_mae: 14991.0645\n",
            "Epoch 24/40\n",
            "3/3 [==============================] - 0s 14ms/step - loss: 13192.3770 - mae: 13192.3770 - val_loss: 14991.0713 - val_mae: 14991.0713\n",
            "Epoch 25/40\n",
            "3/3 [==============================] - 0s 14ms/step - loss: 13192.2803 - mae: 13192.2803 - val_loss: 14991.0742 - val_mae: 14991.0742\n",
            "Epoch 26/40\n",
            "3/3 [==============================] - 0s 14ms/step - loss: 13192.3389 - mae: 13192.3389 - val_loss: 14991.0781 - val_mae: 14991.0781\n",
            "Epoch 27/40\n",
            "3/3 [==============================] - 0s 14ms/step - loss: 13192.2939 - mae: 13192.2939 - val_loss: 14991.0811 - val_mae: 14991.0811\n",
            "Epoch 28/40\n",
            "3/3 [==============================] - 0s 14ms/step - loss: 13192.2510 - mae: 13192.2510 - val_loss: 14991.0840 - val_mae: 14991.0840\n",
            "Epoch 29/40\n",
            "3/3 [==============================] - 0s 14ms/step - loss: 13192.2939 - mae: 13192.2939 - val_loss: 14991.0879 - val_mae: 14991.0879\n",
            "Epoch 30/40\n",
            "3/3 [==============================] - 0s 15ms/step - loss: 13192.3369 - mae: 13192.3369 - val_loss: 14991.0908 - val_mae: 14991.0908\n",
            "Epoch 31/40\n",
            "3/3 [==============================] - 0s 15ms/step - loss: 13192.3447 - mae: 13192.3447 - val_loss: 14991.0908 - val_mae: 14991.0908\n",
            "Epoch 32/40\n",
            "3/3 [==============================] - 0s 14ms/step - loss: 13192.3115 - mae: 13192.3115 - val_loss: 14991.0947 - val_mae: 14991.0947\n",
            "Epoch 33/40\n",
            "3/3 [==============================] - 0s 14ms/step - loss: 13192.3174 - mae: 13192.3174 - val_loss: 14991.0967 - val_mae: 14991.0967\n",
            "Epoch 34/40\n",
            "3/3 [==============================] - 0s 14ms/step - loss: 13192.2891 - mae: 13192.2891 - val_loss: 14991.1035 - val_mae: 14991.1035\n",
            "Epoch 35/40\n",
            "3/3 [==============================] - 0s 13ms/step - loss: 13192.2744 - mae: 13192.2744 - val_loss: 14991.1016 - val_mae: 14991.1016\n",
            "Epoch 36/40\n",
            "3/3 [==============================] - 0s 14ms/step - loss: 13192.2930 - mae: 13192.2930 - val_loss: 14991.1016 - val_mae: 14991.1016\n",
            "Epoch 37/40\n",
            "3/3 [==============================] - 0s 14ms/step - loss: 13192.2920 - mae: 13192.2920 - val_loss: 14991.1084 - val_mae: 14991.1084\n",
            "Epoch 38/40\n",
            "3/3 [==============================] - 0s 13ms/step - loss: 13192.2773 - mae: 13192.2773 - val_loss: 14991.1084 - val_mae: 14991.1084\n",
            "Epoch 39/40\n",
            "3/3 [==============================] - 0s 13ms/step - loss: 13192.3535 - mae: 13192.3535 - val_loss: 14991.1094 - val_mae: 14991.1094\n",
            "Epoch 40/40\n",
            "3/3 [==============================] - 0s 13ms/step - loss: 13192.3096 - mae: 13192.3096 - val_loss: 14991.1133 - val_mae: 14991.1133\n"
          ]
        }
      ],
      "source": [
        "tf.random.set_seed(42) # gunakan set_seed untuk menghasilkan model yang mempunyai performa yang sama\n",
        "\n",
        "model = tf.keras.models.Sequential()\n",
        "model.add(tf.keras.layers.Dense(15,input_shape=[len(X.columns)],kernel_initializer=tf.keras.initializers.GlorotNormal(seed=40)))\n",
        "model.add(tf.keras.layers.Dense(14))\n",
        "model.add(tf.keras.layers.Activation('relu'))\n",
        "model.add(tf.keras.layers.BatchNormalization())\n",
        "model.add(tf.keras.layers.Dropout(rate=0.2))\n",
        "model.add(tf.keras.layers.Dense(10))\n",
        "model.add(tf.keras.layers.Activation('relu'))\n",
        "model.add(tf.keras.layers.BatchNormalization())\n",
        "model.add(tf.keras.layers.Dropout(rate=0.2))\n",
        "model.add(tf.keras.layers.Dense(8))\n",
        "model.add(tf.keras.layers.Activation('relu'))\n",
        "model.add(tf.keras.layers.BatchNormalization())\n",
        "model.add(tf.keras.layers.Dropout(rate=0.2))\n",
        "model.add(tf.keras.layers.Dense(1, activation='linear'))\n",
        "\n",
        "model.compile(loss='mae',\n",
        "              optimizer=tf.keras.optimizers.SGD(learning_rate=0.0001),\n",
        "              metrics='mae')\n",
        "\n",
        "history = model.fit(X_train_std, y_train, epochs=40, batch_size=70,\n",
        "                    validation_data=(X_val_std, y_val),verbose=1)"
      ]
    },
    {
      "cell_type": "code",
      "execution_count": null,
      "metadata": {
        "colab": {
          "base_uri": "https://localhost:8080/"
        },
        "id": "AfuzxZKVJ2q7",
        "outputId": "a358c20d-a72b-49c5-bc45-aaeede555e06"
      },
      "outputs": [
        {
          "output_type": "stream",
          "name": "stdout",
          "text": [
            "Epoch 1/40\n",
            "3/3 [==============================] - 1s 104ms/step - loss: 13192.2324 - mae: 13192.2324 - val_loss: 14990.7129 - val_mae: 14990.7129\n",
            "Epoch 2/40\n",
            "3/3 [==============================] - 0s 14ms/step - loss: 13191.5869 - mae: 13191.5869 - val_loss: 14990.0049 - val_mae: 14990.0049\n",
            "Epoch 3/40\n",
            "3/3 [==============================] - 0s 22ms/step - loss: 13190.9473 - mae: 13190.9473 - val_loss: 14989.1943 - val_mae: 14989.1943\n",
            "Epoch 4/40\n",
            "3/3 [==============================] - 0s 13ms/step - loss: 13190.0889 - mae: 13190.0889 - val_loss: 14988.0508 - val_mae: 14988.0508\n",
            "Epoch 5/40\n",
            "3/3 [==============================] - 0s 12ms/step - loss: 13188.5098 - mae: 13188.5098 - val_loss: 14986.2910 - val_mae: 14986.2910\n",
            "Epoch 6/40\n",
            "3/3 [==============================] - 0s 12ms/step - loss: 13187.0293 - mae: 13187.0293 - val_loss: 14983.9121 - val_mae: 14983.9121\n",
            "Epoch 7/40\n",
            "3/3 [==============================] - 0s 13ms/step - loss: 13184.2061 - mae: 13184.2061 - val_loss: 14980.4541 - val_mae: 14980.4541\n",
            "Epoch 8/40\n",
            "3/3 [==============================] - 0s 12ms/step - loss: 13180.1855 - mae: 13180.1855 - val_loss: 14974.9746 - val_mae: 14974.9746\n",
            "Epoch 9/40\n",
            "3/3 [==============================] - 0s 13ms/step - loss: 13174.3623 - mae: 13174.3623 - val_loss: 14965.1318 - val_mae: 14965.1318\n",
            "Epoch 10/40\n",
            "3/3 [==============================] - 0s 13ms/step - loss: 13164.8418 - mae: 13164.8418 - val_loss: 14950.4307 - val_mae: 14950.4307\n",
            "Epoch 11/40\n",
            "3/3 [==============================] - 0s 13ms/step - loss: 13149.2324 - mae: 13149.2324 - val_loss: 14924.6924 - val_mae: 14924.6924\n",
            "Epoch 12/40\n",
            "3/3 [==============================] - 0s 12ms/step - loss: 13127.0127 - mae: 13127.0127 - val_loss: 14891.3057 - val_mae: 14891.3057\n",
            "Epoch 13/40\n",
            "3/3 [==============================] - 0s 13ms/step - loss: 13087.8994 - mae: 13087.8984 - val_loss: 14837.6660 - val_mae: 14837.6660\n",
            "Epoch 14/40\n",
            "3/3 [==============================] - 0s 13ms/step - loss: 13028.2910 - mae: 13028.2910 - val_loss: 14757.2266 - val_mae: 14757.2266\n",
            "Epoch 15/40\n",
            "3/3 [==============================] - 0s 17ms/step - loss: 12927.6846 - mae: 12927.6846 - val_loss: 14626.2939 - val_mae: 14626.2939\n",
            "Epoch 16/40\n",
            "3/3 [==============================] - 0s 19ms/step - loss: 12768.2031 - mae: 12768.2031 - val_loss: 14415.0439 - val_mae: 14415.0439\n",
            "Epoch 17/40\n",
            "3/3 [==============================] - 0s 23ms/step - loss: 12570.4629 - mae: 12570.4629 - val_loss: 14101.4473 - val_mae: 14101.4473\n",
            "Epoch 18/40\n",
            "3/3 [==============================] - 0s 13ms/step - loss: 12156.9395 - mae: 12156.9395 - val_loss: 13622.0625 - val_mae: 13622.0625\n",
            "Epoch 19/40\n",
            "3/3 [==============================] - 0s 13ms/step - loss: 11531.1123 - mae: 11531.1123 - val_loss: 9955.1416 - val_mae: 9955.1416\n",
            "Epoch 20/40\n",
            "3/3 [==============================] - 0s 14ms/step - loss: 10651.7637 - mae: 10651.7637 - val_loss: 9623.7705 - val_mae: 9623.7705\n",
            "Epoch 21/40\n",
            "3/3 [==============================] - 0s 13ms/step - loss: 9138.2998 - mae: 9138.2998 - val_loss: 10740.6895 - val_mae: 10740.6895\n",
            "Epoch 22/40\n",
            "3/3 [==============================] - 0s 13ms/step - loss: 7239.7236 - mae: 7239.7236 - val_loss: 462450.6875 - val_mae: 462450.6875\n",
            "Epoch 23/40\n",
            "3/3 [==============================] - 0s 14ms/step - loss: 5918.2764 - mae: 5918.2764 - val_loss: 180411.5938 - val_mae: 180411.5938\n",
            "Epoch 24/40\n",
            "3/3 [==============================] - 0s 13ms/step - loss: 5304.7617 - mae: 5304.7617 - val_loss: 309499.8125 - val_mae: 309499.8125\n",
            "Epoch 25/40\n",
            "3/3 [==============================] - 0s 13ms/step - loss: 4782.9487 - mae: 4782.9487 - val_loss: 155427.0938 - val_mae: 155427.0938\n",
            "Epoch 26/40\n",
            "3/3 [==============================] - 0s 13ms/step - loss: 4150.2490 - mae: 4150.2490 - val_loss: 161262.4844 - val_mae: 161262.4844\n",
            "Epoch 27/40\n",
            "3/3 [==============================] - 0s 13ms/step - loss: 3987.2666 - mae: 3987.2666 - val_loss: 186070.1562 - val_mae: 186070.1562\n",
            "Epoch 28/40\n",
            "3/3 [==============================] - 0s 13ms/step - loss: 3887.9004 - mae: 3887.9004 - val_loss: 42275.2344 - val_mae: 42275.2344\n",
            "Epoch 29/40\n",
            "3/3 [==============================] - 0s 23ms/step - loss: 4977.3711 - mae: 4977.3711 - val_loss: 75772.3516 - val_mae: 75772.3516\n",
            "Epoch 30/40\n",
            "3/3 [==============================] - 0s 13ms/step - loss: 4036.4495 - mae: 4036.4495 - val_loss: 63194.9062 - val_mae: 63194.9062\n",
            "Epoch 31/40\n",
            "3/3 [==============================] - 0s 13ms/step - loss: 4049.3733 - mae: 4049.3733 - val_loss: 87910.0000 - val_mae: 87910.0000\n",
            "Epoch 32/40\n",
            "3/3 [==============================] - 0s 12ms/step - loss: 4159.6172 - mae: 4159.6172 - val_loss: 93861.2734 - val_mae: 93861.2734\n",
            "Epoch 33/40\n",
            "3/3 [==============================] - 0s 13ms/step - loss: 4189.7075 - mae: 4189.7075 - val_loss: 55674.0352 - val_mae: 55674.0352\n",
            "Epoch 34/40\n",
            "3/3 [==============================] - 0s 13ms/step - loss: 4511.1157 - mae: 4511.1157 - val_loss: 56657.0000 - val_mae: 56657.0000\n",
            "Epoch 35/40\n",
            "3/3 [==============================] - 0s 13ms/step - loss: 3576.0471 - mae: 3576.0471 - val_loss: 53477.8281 - val_mae: 53477.8281\n",
            "Epoch 36/40\n",
            "3/3 [==============================] - 0s 13ms/step - loss: 3859.0688 - mae: 3859.0688 - val_loss: 44193.3359 - val_mae: 44193.3359\n",
            "Epoch 37/40\n",
            "3/3 [==============================] - 0s 13ms/step - loss: 4040.2507 - mae: 4040.2507 - val_loss: 66518.7422 - val_mae: 66518.7422\n",
            "Epoch 38/40\n",
            "3/3 [==============================] - 0s 13ms/step - loss: 4208.6104 - mae: 4208.6104 - val_loss: 68736.4531 - val_mae: 68736.4531\n",
            "Epoch 39/40\n",
            "3/3 [==============================] - 0s 13ms/step - loss: 3795.3743 - mae: 3795.3743 - val_loss: 55789.1484 - val_mae: 55789.1484\n",
            "Epoch 40/40\n",
            "3/3 [==============================] - 0s 16ms/step - loss: 3682.8843 - mae: 3682.8843 - val_loss: 78100.5000 - val_mae: 78100.5000\n"
          ]
        }
      ],
      "source": [
        "model = tf.keras.models.Sequential()\n",
        "model.add(tf.keras.layers.Dense(15,input_shape=[len(X.columns)],kernel_initializer=tf.keras.initializers.LecunNormal(seed=40)))\n",
        "model.add(tf.keras.layers.Dense(14))\n",
        "model.add(tf.keras.layers.Activation('relu'))\n",
        "model.add(tf.keras.layers.BatchNormalization())\n",
        "model.add(tf.keras.layers.Dropout(rate=0.2))\n",
        "model.add(tf.keras.layers.Dense(10))\n",
        "model.add(tf.keras.layers.Activation('relu'))\n",
        "model.add(tf.keras.layers.BatchNormalization())\n",
        "model.add(tf.keras.layers.Dropout(rate=0.2))\n",
        "model.add(tf.keras.layers.Dense(8))\n",
        "model.add(tf.keras.layers.Activation('relu'))\n",
        "model.add(tf.keras.layers.BatchNormalization())\n",
        "model.add(tf.keras.layers.Dropout(rate=0.2))\n",
        "model.add(tf.keras.layers.Dense(1, activation='linear'))\n",
        "\n",
        "model.compile(loss='mae',\n",
        "              optimizer=tf.keras.optimizers.SGD(learning_rate=0.08),\n",
        "              metrics='mae')\n",
        "\n",
        "history = model.fit(X_train_std, y_train, epochs=40, batch_size=70,\n",
        "                    validation_data=(X_val_std, y_val),verbose=1)"
      ]
    },
    {
      "cell_type": "code",
      "execution_count": null,
      "metadata": {
        "colab": {
          "base_uri": "https://localhost:8080/",
          "height": 308
        },
        "id": "PM8PuNxxKjZ6",
        "outputId": "8c9a5c27-daf7-4319-f090-710a06c52312"
      },
      "outputs": [
        {
          "output_type": "execute_result",
          "data": {
            "text/plain": [
              "<matplotlib.legend.Legend at 0x7f3a661ba850>"
            ]
          },
          "metadata": {},
          "execution_count": 22
        },
        {
          "output_type": "display_data",
          "data": {
            "text/plain": [
              "<Figure size 432x288 with 1 Axes>"
            ],
            "image/png": "[encoded data removed]"
          },
          "metadata": {
            "needs_background": "light"
          }
        }
      ],
      "source": [
        "fig, ax = plt.subplots()\n",
        "ax.plot(range(40),history.history['loss'],label='train loss')\n",
        "ax.plot(range(40),history.history['val_loss'],label='val loss')\n",
        "#plt.gca().set_ylim(220000, 223000)\n",
        "ax.set_xlabel('Epoch')\n",
        "ax.set_ylabel('Loss')\n",
        "plt.legend()"
      ]
    },
    {
      "cell_type": "markdown",
      "metadata": {
        "id": "jtPRxa-bMd3f"
      },
      "source": [
        "## Gradient Cliping"
      ]
    },
    {
      "cell_type": "code",
      "execution_count": null,
      "metadata": {
        "colab": {
          "base_uri": "https://localhost:8080/"
        },
        "id": "d2cmB6WaKybl",
        "outputId": "1aa15abb-4146-41c4-9efb-41788832ee51"
      },
      "outputs": [
        {
          "output_type": "stream",
          "name": "stdout",
          "text": [
            "Epoch 1/40\n",
            "3/3 [==============================] - 1s 101ms/step - loss: 13192.3184 - mae: 13192.3193 - val_loss: 14990.8467 - val_mae: 14990.8467\n",
            "Epoch 2/40\n",
            "3/3 [==============================] - 0s 23ms/step - loss: 13192.3057 - mae: 13192.3057 - val_loss: 14990.8105 - val_mae: 14990.8105\n",
            "Epoch 3/40\n",
            "3/3 [==============================] - 0s 14ms/step - loss: 13192.2334 - mae: 13192.2334 - val_loss: 14990.7666 - val_mae: 14990.7666\n",
            "Epoch 4/40\n",
            "3/3 [==============================] - 0s 14ms/step - loss: 13192.1680 - mae: 13192.1680 - val_loss: 14990.7334 - val_mae: 14990.7334\n",
            "Epoch 5/40\n",
            "3/3 [==============================] - 0s 14ms/step - loss: 13192.1709 - mae: 13192.1709 - val_loss: 14990.6943 - val_mae: 14990.6943\n",
            "Epoch 6/40\n",
            "3/3 [==============================] - 0s 14ms/step - loss: 13192.0684 - mae: 13192.0684 - val_loss: 14990.6523 - val_mae: 14990.6523\n",
            "Epoch 7/40\n",
            "3/3 [==============================] - 0s 14ms/step - loss: 13191.9971 - mae: 13191.9971 - val_loss: 14990.6084 - val_mae: 14990.6084\n",
            "Epoch 8/40\n",
            "3/3 [==============================] - 0s 17ms/step - loss: 13191.9609 - mae: 13191.9609 - val_loss: 14990.5645 - val_mae: 14990.5645\n",
            "Epoch 9/40\n",
            "3/3 [==============================] - 0s 15ms/step - loss: 13191.9062 - mae: 13191.9062 - val_loss: 14990.5166 - val_mae: 14990.5166\n",
            "Epoch 10/40\n",
            "3/3 [==============================] - 0s 15ms/step - loss: 13191.8965 - mae: 13191.8965 - val_loss: 14990.4795 - val_mae: 14990.4795\n",
            "Epoch 11/40\n",
            "3/3 [==============================] - 0s 14ms/step - loss: 13191.8994 - mae: 13191.8994 - val_loss: 14990.4404 - val_mae: 14990.4404\n",
            "Epoch 12/40\n",
            "3/3 [==============================] - 0s 13ms/step - loss: 13191.8057 - mae: 13191.8057 - val_loss: 14990.3955 - val_mae: 14990.3955\n",
            "Epoch 13/40\n",
            "3/3 [==============================] - 0s 14ms/step - loss: 13191.7451 - mae: 13191.7451 - val_loss: 14990.3447 - val_mae: 14990.3447\n",
            "Epoch 14/40\n",
            "3/3 [==============================] - 0s 14ms/step - loss: 13191.6953 - mae: 13191.6953 - val_loss: 14990.3037 - val_mae: 14990.3037\n",
            "Epoch 15/40\n",
            "3/3 [==============================] - 0s 14ms/step - loss: 13191.6328 - mae: 13191.6328 - val_loss: 14990.2500 - val_mae: 14990.2500\n",
            "Epoch 16/40\n",
            "3/3 [==============================] - 0s 14ms/step - loss: 13191.5820 - mae: 13191.5820 - val_loss: 14990.2061 - val_mae: 14990.2061\n",
            "Epoch 17/40\n",
            "3/3 [==============================] - 0s 15ms/step - loss: 13191.5537 - mae: 13191.5537 - val_loss: 14990.1572 - val_mae: 14990.1572\n",
            "Epoch 18/40\n",
            "3/3 [==============================] - 0s 15ms/step - loss: 13191.4600 - mae: 13191.4600 - val_loss: 14990.1045 - val_mae: 14990.1045\n",
            "Epoch 19/40\n",
            "3/3 [==============================] - 0s 17ms/step - loss: 13191.4004 - mae: 13191.4004 - val_loss: 14990.0537 - val_mae: 14990.0537\n",
            "Epoch 20/40\n",
            "3/3 [==============================] - 0s 24ms/step - loss: 13191.3643 - mae: 13191.3643 - val_loss: 14990.0000 - val_mae: 14990.0000\n",
            "Epoch 21/40\n",
            "3/3 [==============================] - 0s 14ms/step - loss: 13191.3350 - mae: 13191.3350 - val_loss: 14989.9473 - val_mae: 14989.9473\n",
            "Epoch 22/40\n",
            "3/3 [==============================] - 0s 14ms/step - loss: 13191.2773 - mae: 13191.2773 - val_loss: 14989.8955 - val_mae: 14989.8955\n",
            "Epoch 23/40\n",
            "3/3 [==============================] - 0s 14ms/step - loss: 13191.1514 - mae: 13191.1514 - val_loss: 14989.8428 - val_mae: 14989.8428\n",
            "Epoch 24/40\n",
            "3/3 [==============================] - 0s 14ms/step - loss: 13191.2090 - mae: 13191.2090 - val_loss: 14989.7822 - val_mae: 14989.7822\n",
            "Epoch 25/40\n",
            "3/3 [==============================] - 0s 14ms/step - loss: 13191.0303 - mae: 13191.0303 - val_loss: 14989.7266 - val_mae: 14989.7266\n",
            "Epoch 26/40\n",
            "3/3 [==============================] - 0s 23ms/step - loss: 13191.0010 - mae: 13191.0010 - val_loss: 14989.6592 - val_mae: 14989.6592\n",
            "Epoch 27/40\n",
            "3/3 [==============================] - 0s 14ms/step - loss: 13190.8848 - mae: 13190.8848 - val_loss: 14989.5723 - val_mae: 14989.5723\n",
            "Epoch 28/40\n",
            "3/3 [==============================] - 0s 15ms/step - loss: 13190.7402 - mae: 13190.7402 - val_loss: 14989.4902 - val_mae: 14989.4902\n",
            "Epoch 29/40\n",
            "3/3 [==============================] - 0s 16ms/step - loss: 13190.7480 - mae: 13190.7490 - val_loss: 14989.4209 - val_mae: 14989.4209\n",
            "Epoch 30/40\n",
            "3/3 [==============================] - 0s 14ms/step - loss: 13190.7021 - mae: 13190.7021 - val_loss: 14989.3535 - val_mae: 14989.3535\n",
            "Epoch 31/40\n",
            "3/3 [==============================] - 0s 14ms/step - loss: 13190.6582 - mae: 13190.6582 - val_loss: 14989.2822 - val_mae: 14989.2822\n",
            "Epoch 32/40\n",
            "3/3 [==============================] - 0s 16ms/step - loss: 13190.4971 - mae: 13190.4971 - val_loss: 14989.1973 - val_mae: 14989.1973\n",
            "Epoch 33/40\n",
            "3/3 [==============================] - 0s 15ms/step - loss: 13190.4287 - mae: 13190.4287 - val_loss: 14989.1064 - val_mae: 14989.1064\n",
            "Epoch 34/40\n",
            "3/3 [==============================] - 0s 14ms/step - loss: 13190.3486 - mae: 13190.3486 - val_loss: 14988.9883 - val_mae: 14988.9883\n",
            "Epoch 35/40\n",
            "3/3 [==============================] - 0s 14ms/step - loss: 13190.1895 - mae: 13190.1895 - val_loss: 14988.8887 - val_mae: 14988.8887\n",
            "Epoch 36/40\n",
            "3/3 [==============================] - 0s 13ms/step - loss: 13190.1357 - mae: 13190.1357 - val_loss: 14988.7988 - val_mae: 14988.7988\n",
            "Epoch 37/40\n",
            "3/3 [==============================] - 0s 14ms/step - loss: 13190.0107 - mae: 13190.0107 - val_loss: 14988.6963 - val_mae: 14988.6963\n",
            "Epoch 38/40\n",
            "3/3 [==============================] - 0s 14ms/step - loss: 13189.9434 - mae: 13189.9434 - val_loss: 14988.5967 - val_mae: 14988.5967\n",
            "Epoch 39/40\n",
            "3/3 [==============================] - 0s 13ms/step - loss: 13189.9404 - mae: 13189.9404 - val_loss: 14988.5234 - val_mae: 14988.5234\n",
            "Epoch 40/40\n",
            "3/3 [==============================] - 0s 13ms/step - loss: 13189.7900 - mae: 13189.7900 - val_loss: 14988.4170 - val_mae: 14988.4170\n"
          ]
        }
      ],
      "source": [
        "tf.random.set_seed(42) # gunakan set_seed untuk menghasilkan model yang mempunyai performa yang sama\n",
        "\n",
        "model = tf.keras.models.Sequential()\n",
        "model.add(tf.keras.layers.Dense(15,input_shape=[len(X.columns)],kernel_initializer=tf.keras.initializers.LecunNormal(seed=40)))\n",
        "model.add(tf.keras.layers.Dense(14))\n",
        "model.add(tf.keras.layers.Activation('relu'))\n",
        "model.add(tf.keras.layers.BatchNormalization())\n",
        "model.add(tf.keras.layers.Dropout(rate=0.2))\n",
        "model.add(tf.keras.layers.Dense(10))\n",
        "model.add(tf.keras.layers.Activation('relu'))\n",
        "model.add(tf.keras.layers.BatchNormalization())\n",
        "model.add(tf.keras.layers.Dropout(rate=0.2))\n",
        "model.add(tf.keras.layers.Dense(8))\n",
        "model.add(tf.keras.layers.Activation('relu'))\n",
        "model.add(tf.keras.layers.BatchNormalization())\n",
        "model.add(tf.keras.layers.Dropout(rate=0.2))\n",
        "model.add(tf.keras.layers.Dense(1, activation='linear'))\n",
        "\n",
        "model.compile(loss='mae',\n",
        "              optimizer=tf.keras.optimizers.SGD(clipvalue=1.0),\n",
        "              metrics='mae')\n",
        "\n",
        "history = model.fit(X_train_std, y_train, epochs=40, batch_size=70,\n",
        "                    validation_data=(X_val_std, y_val),verbose=1)"
      ]
    },
    {
      "cell_type": "code",
      "execution_count": null,
      "metadata": {
        "colab": {
          "base_uri": "https://localhost:8080/",
          "height": 296
        },
        "id": "N3u0Q99LLy8e",
        "outputId": "ad22bf1b-a5e8-45da-8dd8-b70146965e9d"
      },
      "outputs": [
        {
          "output_type": "execute_result",
          "data": {
            "text/plain": [
              "<matplotlib.legend.Legend at 0x7f19b9a7f850>"
            ]
          },
          "metadata": {},
          "execution_count": 36
        },
        {
          "output_type": "display_data",
          "data": {
            "text/plain": [
              "<Figure size 432x288 with 1 Axes>"
            ],
            "image/png": "[encoded data removed]"
          },
          "metadata": {
            "needs_background": "light"
          }
        }
      ],
      "source": [
        "fig, ax = plt.subplots()\n",
        "ax.plot(range(40),history.history['loss'],label='train loss')\n",
        "ax.plot(range(40),history.history['val_loss'],label='val loss')\n",
        "#plt.gca().set_ylim(220000, 223000)\n",
        "ax.set_xlabel('Epoch')\n",
        "ax.set_ylabel('Loss')\n",
        "plt.legend()"
      ]
    },
    {
      "cell_type": "markdown",
      "metadata": {
        "id": "ZfWa-AQPNWje"
      },
      "source": [
        "## Regularisasi"
      ]
    },
    {
      "cell_type": "code",
      "execution_count": null,
      "metadata": {
        "colab": {
          "base_uri": "https://localhost:8080/"
        },
        "id": "nSuFOCGjMJeF",
        "outputId": "a6d85984-92d9-480b-e0be-68d4a400956e"
      },
      "outputs": [
        {
          "output_type": "stream",
          "name": "stdout",
          "text": [
            "Epoch 1/40\n",
            "3/3 [==============================] - 1s 111ms/step - loss: 13192.5791 - mae: 13192.2402 - val_loss: 14990.6904 - val_mae: 14990.3545\n",
            "Epoch 2/40\n",
            "3/3 [==============================] - 0s 18ms/step - loss: 13192.1123 - mae: 13191.7764 - val_loss: 14990.2148 - val_mae: 14989.8818\n",
            "Epoch 3/40\n",
            "3/3 [==============================] - 0s 13ms/step - loss: 13191.5791 - mae: 13191.2480 - val_loss: 14989.5156 - val_mae: 14989.1855\n",
            "Epoch 4/40\n",
            "3/3 [==============================] - 0s 13ms/step - loss: 13190.8184 - mae: 13190.4902 - val_loss: 14988.5098 - val_mae: 14988.1846\n",
            "Epoch 5/40\n",
            "3/3 [==============================] - 0s 13ms/step - loss: 13189.8213 - mae: 13189.4961 - val_loss: 14986.8701 - val_mae: 14986.5469\n",
            "Epoch 6/40\n",
            "3/3 [==============================] - 0s 22ms/step - loss: 13188.2021 - mae: 13187.8789 - val_loss: 14984.2842 - val_mae: 14983.9629\n",
            "Epoch 7/40\n",
            "3/3 [==============================] - 0s 13ms/step - loss: 13185.6426 - mae: 13185.3242 - val_loss: 14979.9238 - val_mae: 14979.6064\n",
            "Epoch 8/40\n",
            "3/3 [==============================] - 0s 13ms/step - loss: 13180.9502 - mae: 13180.6328 - val_loss: 14971.5098 - val_mae: 14971.1924\n",
            "Epoch 9/40\n",
            "3/3 [==============================] - 0s 24ms/step - loss: 13173.8350 - mae: 13173.5176 - val_loss: 14955.9746 - val_mae: 14955.6572\n",
            "Epoch 10/40\n",
            "3/3 [==============================] - 0s 15ms/step - loss: 13161.6631 - mae: 13161.3457 - val_loss: 14936.1045 - val_mae: 14935.7871\n",
            "Epoch 11/40\n",
            "3/3 [==============================] - 0s 13ms/step - loss: 13137.1240 - mae: 13136.8076 - val_loss: 14891.4170 - val_mae: 14891.0859\n",
            "Epoch 12/40\n",
            "3/3 [==============================] - 0s 22ms/step - loss: 13099.8877 - mae: 13099.5557 - val_loss: 14827.5342 - val_mae: 14827.1895\n",
            "Epoch 13/40\n",
            "3/3 [==============================] - 0s 13ms/step - loss: 13028.8516 - mae: 13028.5078 - val_loss: 14706.8398 - val_mae: 14706.4863\n",
            "Epoch 14/40\n",
            "3/3 [==============================] - 0s 13ms/step - loss: 12913.3799 - mae: 12913.0273 - val_loss: 14478.8398 - val_mae: 14478.1689\n",
            "Epoch 15/40\n",
            "3/3 [==============================] - 0s 14ms/step - loss: 12674.7627 - mae: 12674.0889 - val_loss: 14162.7383 - val_mae: 14161.7529\n",
            "Epoch 16/40\n",
            "3/3 [==============================] - 0s 23ms/step - loss: 12288.9941 - mae: 12288.0088 - val_loss: 13615.3262 - val_mae: 13614.2061\n",
            "Epoch 17/40\n",
            "3/3 [==============================] - 0s 24ms/step - loss: 11667.9561 - mae: 11666.8379 - val_loss: 13350.9697 - val_mae: 13349.1533\n",
            "Epoch 18/40\n",
            "3/3 [==============================] - 0s 14ms/step - loss: 10331.9492 - mae: 10330.1328 - val_loss: 10778.1094 - val_mae: 10776.2861\n",
            "Epoch 19/40\n",
            "3/3 [==============================] - 0s 14ms/step - loss: 8165.4253 - mae: 8163.5986 - val_loss: 8285.4580 - val_mae: 8283.3818\n",
            "Epoch 20/40\n",
            "3/3 [==============================] - 0s 14ms/step - loss: 5890.7427 - mae: 5888.5557 - val_loss: 620453.4375 - val_mae: 620447.3750\n",
            "Epoch 21/40\n",
            "3/3 [==============================] - 0s 13ms/step - loss: 4860.2646 - mae: 4853.4497 - val_loss: 715831.5625 - val_mae: 715821.9375\n",
            "Epoch 22/40\n",
            "3/3 [==============================] - 0s 14ms/step - loss: 4643.4390 - mae: 4632.9497 - val_loss: 211276.7031 - val_mae: 211262.3125\n",
            "Epoch 23/40\n",
            "3/3 [==============================] - 0s 21ms/step - loss: 5370.7021 - mae: 5356.1860 - val_loss: 175475.4531 - val_mae: 175457.9531\n",
            "Epoch 24/40\n",
            "3/3 [==============================] - 0s 16ms/step - loss: 4177.5200 - mae: 4159.9165 - val_loss: 112651.0312 - val_mae: 112632.2734\n",
            "Epoch 25/40\n",
            "3/3 [==============================] - 0s 22ms/step - loss: 4135.0913 - mae: 4115.8511 - val_loss: 213177.6719 - val_mae: 213147.9531\n",
            "Epoch 26/40\n",
            "3/3 [==============================] - 0s 14ms/step - loss: 4053.4426 - mae: 4023.4846 - val_loss: 321074.2188 - val_mae: 321039.3750\n",
            "Epoch 27/40\n",
            "3/3 [==============================] - 0s 14ms/step - loss: 3814.2913 - mae: 3779.4902 - val_loss: 108085.9453 - val_mae: 108050.1562\n",
            "Epoch 28/40\n",
            "3/3 [==============================] - 0s 13ms/step - loss: 3718.7356 - mae: 3682.9346 - val_loss: 153749.1562 - val_mae: 153712.2344\n",
            "Epoch 29/40\n",
            "3/3 [==============================] - 0s 13ms/step - loss: 3566.0803 - mae: 3529.1965 - val_loss: 121699.8281 - val_mae: 121662.7266\n",
            "Epoch 30/40\n",
            "3/3 [==============================] - 0s 23ms/step - loss: 3962.5247 - mae: 3925.3882 - val_loss: 101593.5469 - val_mae: 101555.2500\n",
            "Epoch 31/40\n",
            "3/3 [==============================] - 0s 14ms/step - loss: 3691.0498 - mae: 3652.7593 - val_loss: 53153.7500 - val_mae: 53115.3828\n",
            "Epoch 32/40\n",
            "3/3 [==============================] - 0s 13ms/step - loss: 4199.1660 - mae: 4160.8193 - val_loss: 46805.6797 - val_mae: 46767.4180\n",
            "Epoch 33/40\n",
            "3/3 [==============================] - 0s 13ms/step - loss: 3785.6938 - mae: 3747.4524 - val_loss: 51150.0117 - val_mae: 51110.7852\n",
            "Epoch 34/40\n",
            "3/3 [==============================] - 0s 14ms/step - loss: 3719.9507 - mae: 3680.7751 - val_loss: 30427.4316 - val_mae: 30386.9434\n",
            "Epoch 35/40\n",
            "3/3 [==============================] - 0s 13ms/step - loss: 3425.2261 - mae: 3384.7131 - val_loss: 45533.9062 - val_mae: 45492.9375\n",
            "Epoch 36/40\n",
            "3/3 [==============================] - 0s 13ms/step - loss: 4009.8167 - mae: 3968.8738 - val_loss: 27745.4961 - val_mae: 27704.0781\n",
            "Epoch 37/40\n",
            "3/3 [==============================] - 0s 13ms/step - loss: 3529.1162 - mae: 3487.3621 - val_loss: 48081.6289 - val_mae: 48039.2305\n",
            "Epoch 38/40\n",
            "3/3 [==============================] - 0s 13ms/step - loss: 4302.8838 - mae: 4260.5112 - val_loss: 44339.4180 - val_mae: 44296.9922\n",
            "Epoch 39/40\n",
            "3/3 [==============================] - 0s 13ms/step - loss: 3950.5999 - mae: 3908.1719 - val_loss: 69428.7109 - val_mae: 69383.9219\n",
            "Epoch 40/40\n",
            "3/3 [==============================] - 0s 14ms/step - loss: 4226.6484 - mae: 4181.8804 - val_loss: 61628.5938 - val_mae: 61583.1016\n"
          ]
        }
      ],
      "source": [
        "tf.random.set_seed(42) # gunakan set_seed untuk menghasilkan model yang mempunyai performa yang sama\n",
        "\n",
        "model = tf.keras.models.Sequential()\n",
        "model.add(tf.keras.layers.Dense(15,input_shape=[len(X.columns)],kernel_initializer=tf.keras.initializers.LecunNormal(seed=40)))\n",
        "\n",
        "model.add(tf.keras.layers.Dense(14,kernel_regularizer=tf.keras.regularizers.l2()))\n",
        "model.add(tf.keras.layers.Activation('relu'))\n",
        "model.add(tf.keras.layers.BatchNormalization())\n",
        "model.add(tf.keras.layers.Dropout(rate=0.2))\n",
        "\n",
        "model.add(tf.keras.layers.Dense(10,kernel_regularizer=tf.keras.regularizers.l2()))\n",
        "model.add(tf.keras.layers.Activation('relu'))\n",
        "model.add(tf.keras.layers.BatchNormalization())\n",
        "model.add(tf.keras.layers.Dropout(rate=0.2))\n",
        "\n",
        "model.add(tf.keras.layers.Dense(8,kernel_regularizer=tf.keras.regularizers.l2()))\n",
        "model.add(tf.keras.layers.Activation('relu'))\n",
        "model.add(tf.keras.layers.BatchNormalization())\n",
        "model.add(tf.keras.layers.Dropout(rate=0.2))\n",
        "model.add(tf.keras.layers.Dense(1, activation='linear'))\n",
        "\n",
        "model.compile(loss='mae',\n",
        "              optimizer=tf.keras.optimizers.SGD(learning_rate=0.1),\n",
        "              metrics='mae')\n",
        "\n",
        "history = model.fit(X_train_std, y_train, epochs=40, batch_size=70,\n",
        "                    validation_data=(X_val_std, y_val),verbose=1)"
      ]
    },
    {
      "cell_type": "code",
      "execution_count": null,
      "metadata": {
        "colab": {
          "base_uri": "https://localhost:8080/",
          "height": 296
        },
        "id": "lYMDWGENMztO",
        "outputId": "e2c069af-9cd7-49d7-8ced-2b9be2fcb77b"
      },
      "outputs": [
        {
          "output_type": "execute_result",
          "data": {
            "text/plain": [
              "<matplotlib.legend.Legend at 0x7f19ba5c0dd0>"
            ]
          },
          "metadata": {},
          "execution_count": 38
        },
        {
          "output_type": "display_data",
          "data": {
            "text/plain": [
              "<Figure size 432x288 with 1 Axes>"
            ],
            "image/png": "[encoded data removed]"
          },
          "metadata": {
            "needs_background": "light"
          }
        }
      ],
      "source": [
        "fig, ax = plt.subplots()\n",
        "ax.plot(range(40),history.history['loss'],label='train loss')\n",
        "ax.plot(range(40),history.history['val_loss'],label='val loss')\n",
        "#plt.gca().set_ylim(220000, 223000)\n",
        "ax.set_xlabel('Epoch')\n",
        "ax.set_ylabel('Loss')\n",
        "plt.legend()"
      ]
    },
    {
      "cell_type": "markdown",
      "metadata": {
        "id": "vYlFui8xNsP4"
      },
      "source": [
        "## Activation Function Elu"
      ]
    },
    {
      "cell_type": "code",
      "execution_count": null,
      "metadata": {
        "colab": {
          "base_uri": "https://localhost:8080/"
        },
        "id": "BDNc7fjINO8a",
        "outputId": "f7e47d29-1a7f-4d69-cc74-97de8923a42c"
      },
      "outputs": [
        {
          "output_type": "stream",
          "name": "stdout",
          "text": [
            "Epoch 1/40\n",
            "3/3 [==============================] - 1s 106ms/step - loss: 13192.5752 - mae: 13192.2354 - val_loss: 14990.7031 - val_mae: 14990.3662\n",
            "Epoch 2/40\n",
            "3/3 [==============================] - 0s 15ms/step - loss: 13192.1504 - mae: 13191.8154 - val_loss: 14990.1855 - val_mae: 14989.8545\n",
            "Epoch 3/40\n",
            "3/3 [==============================] - 0s 14ms/step - loss: 13191.5801 - mae: 13191.2480 - val_loss: 14989.4580 - val_mae: 14989.1279\n",
            "Epoch 4/40\n",
            "3/3 [==============================] - 0s 15ms/step - loss: 13190.8369 - mae: 13190.5088 - val_loss: 14988.3916 - val_mae: 14988.0654\n",
            "Epoch 5/40\n",
            "3/3 [==============================] - 0s 14ms/step - loss: 13189.9502 - mae: 13189.6250 - val_loss: 14987.0088 - val_mae: 14986.6855\n",
            "Epoch 6/40\n",
            "3/3 [==============================] - 0s 14ms/step - loss: 13188.3125 - mae: 13187.9912 - val_loss: 14984.2227 - val_mae: 14983.9033\n",
            "Epoch 7/40\n",
            "3/3 [==============================] - 0s 15ms/step - loss: 13185.8193 - mae: 13185.5000 - val_loss: 14980.3213 - val_mae: 14980.0049\n",
            "Epoch 8/40\n",
            "3/3 [==============================] - 0s 22ms/step - loss: 13181.4248 - mae: 13181.1094 - val_loss: 14973.6270 - val_mae: 14973.3105\n",
            "Epoch 9/40\n",
            "3/3 [==============================] - 0s 13ms/step - loss: 13174.6221 - mae: 13174.3076 - val_loss: 14958.4658 - val_mae: 14958.1484\n",
            "Epoch 10/40\n",
            "3/3 [==============================] - 0s 13ms/step - loss: 13163.2227 - mae: 13162.9053 - val_loss: 14932.9424 - val_mae: 14932.4658\n",
            "Epoch 11/40\n",
            "3/3 [==============================] - 0s 13ms/step - loss: 13139.5723 - mae: 13139.0967 - val_loss: 14894.7773 - val_mae: 14894.3008\n",
            "Epoch 12/40\n",
            "3/3 [==============================] - 0s 24ms/step - loss: 13104.1689 - mae: 13103.6934 - val_loss: 14828.5723 - val_mae: 14828.0898\n",
            "Epoch 13/40\n",
            "3/3 [==============================] - 0s 14ms/step - loss: 13035.7715 - mae: 13035.2891 - val_loss: 14712.0605 - val_mae: 14711.5723\n",
            "Epoch 14/40\n",
            "3/3 [==============================] - 0s 13ms/step - loss: 12924.8311 - mae: 12924.3428 - val_loss: 14538.8213 - val_mae: 14538.3311\n",
            "Epoch 15/40\n",
            "3/3 [==============================] - 0s 13ms/step - loss: 12695.9141 - mae: 12695.4248 - val_loss: 14191.6943 - val_mae: 14191.1924\n",
            "Epoch 16/40\n",
            "3/3 [==============================] - 0s 22ms/step - loss: 12324.8730 - mae: 12324.3662 - val_loss: 13093.3574 - val_mae: 13092.7139\n",
            "Epoch 17/40\n",
            "3/3 [==============================] - 0s 13ms/step - loss: 11727.3730 - mae: 11726.7275 - val_loss: 12076.2520 - val_mae: 12075.5928\n",
            "Epoch 18/40\n",
            "3/3 [==============================] - 0s 23ms/step - loss: 10456.0430 - mae: 10455.3770 - val_loss: 9354.1514 - val_mae: 9353.4697\n",
            "Epoch 19/40\n",
            "3/3 [==============================] - 0s 15ms/step - loss: 8357.8369 - mae: 8357.1396 - val_loss: 4673.2803 - val_mae: 4672.3252\n",
            "Epoch 20/40\n",
            "3/3 [==============================] - 0s 15ms/step - loss: 5950.1406 - mae: 5949.0225 - val_loss: 39597.2070 - val_mae: 39593.6836\n",
            "Epoch 21/40\n",
            "3/3 [==============================] - 0s 15ms/step - loss: 5547.7734 - mae: 5531.3643 - val_loss: 622806.9375 - val_mae: 622778.1875\n",
            "Epoch 22/40\n",
            "3/3 [==============================] - 0s 14ms/step - loss: 4991.2227 - mae: 4962.4243 - val_loss: 180244.7969 - val_mae: 180213.5469\n",
            "Epoch 23/40\n",
            "3/3 [==============================] - 0s 13ms/step - loss: 5308.1646 - mae: 5276.8149 - val_loss: 95340.8594 - val_mae: 95308.6328\n",
            "Epoch 24/40\n",
            "3/3 [==============================] - 0s 14ms/step - loss: 4222.6597 - mae: 4189.9556 - val_loss: 96976.8281 - val_mae: 96942.9219\n",
            "Epoch 25/40\n",
            "3/3 [==============================] - 0s 13ms/step - loss: 3917.2114 - mae: 3883.2625 - val_loss: 121246.9766 - val_mae: 121210.5781\n",
            "Epoch 26/40\n",
            "3/3 [==============================] - 0s 23ms/step - loss: 4407.2969 - mae: 4369.9678 - val_loss: 238842.4531 - val_mae: 238801.4375\n",
            "Epoch 27/40\n",
            "3/3 [==============================] - 0s 13ms/step - loss: 3614.6211 - mae: 3573.6135 - val_loss: 96553.2109 - val_mae: 96512.0000\n",
            "Epoch 28/40\n",
            "3/3 [==============================] - 0s 13ms/step - loss: 3666.1101 - mae: 3624.8035 - val_loss: 70911.7109 - val_mae: 70865.2891\n",
            "Epoch 29/40\n",
            "3/3 [==============================] - 0s 14ms/step - loss: 3768.0063 - mae: 3721.6042 - val_loss: 91554.5000 - val_mae: 91506.7891\n",
            "Epoch 30/40\n",
            "3/3 [==============================] - 0s 19ms/step - loss: 4055.0242 - mae: 4006.9368 - val_loss: 112678.5234 - val_mae: 112629.6406\n",
            "Epoch 31/40\n",
            "3/3 [==============================] - 0s 13ms/step - loss: 3756.9070 - mae: 3707.9714 - val_loss: 104269.2969 - val_mae: 104218.1328\n",
            "Epoch 32/40\n",
            "3/3 [==============================] - 0s 13ms/step - loss: 3756.0515 - mae: 3704.9231 - val_loss: 80048.7031 - val_mae: 79997.7812\n",
            "Epoch 33/40\n",
            "3/3 [==============================] - 0s 16ms/step - loss: 3587.6106 - mae: 3536.7407 - val_loss: 83270.1406 - val_mae: 83219.1328\n",
            "Epoch 34/40\n",
            "3/3 [==============================] - 0s 14ms/step - loss: 4227.6104 - mae: 4176.6279 - val_loss: 54877.1719 - val_mae: 54825.1172\n",
            "Epoch 35/40\n",
            "3/3 [==============================] - 0s 14ms/step - loss: 3609.0684 - mae: 3556.9382 - val_loss: 67826.9922 - val_mae: 67773.8750\n",
            "Epoch 36/40\n",
            "3/3 [==============================] - 0s 14ms/step - loss: 4149.4072 - mae: 4096.3174 - val_loss: 48819.6250 - val_mae: 48765.3281\n",
            "Epoch 37/40\n",
            "3/3 [==============================] - 0s 14ms/step - loss: 3440.2610 - mae: 3385.9143 - val_loss: 55056.7812 - val_mae: 55002.5352\n",
            "Epoch 38/40\n",
            "3/3 [==============================] - 0s 15ms/step - loss: 3847.2253 - mae: 3793.0549 - val_loss: 58836.7891 - val_mae: 58782.7422\n",
            "Epoch 39/40\n",
            "3/3 [==============================] - 0s 13ms/step - loss: 3659.4036 - mae: 3605.2683 - val_loss: 39038.3750 - val_mae: 38983.8516\n",
            "Epoch 40/40\n",
            "3/3 [==============================] - 0s 13ms/step - loss: 3924.3938 - mae: 3869.8101 - val_loss: 87481.7031 - val_mae: 87417.9141\n"
          ]
        }
      ],
      "source": [
        "tf.random.set_seed(42) # gunakan set_seed untuk menghasilkan model yang mempunyai performa yang sama\n",
        "\n",
        "model = tf.keras.models.Sequential()\n",
        "model.add(tf.keras.layers.Dense(15,input_shape=[len(X.columns)],kernel_initializer=tf.keras.initializers.LecunNormal(seed=40)))\n",
        "\n",
        "model.add(tf.keras.layers.Dense(14,kernel_regularizer=tf.keras.regularizers.l2()))\n",
        "model.add(tf.keras.layers.Activation('elu'))\n",
        "model.add(tf.keras.layers.BatchNormalization())\n",
        "model.add(tf.keras.layers.Dropout(rate=0.2))\n",
        "\n",
        "model.add(tf.keras.layers.Dense(10,kernel_regularizer=tf.keras.regularizers.l2()))\n",
        "model.add(tf.keras.layers.Activation('elu'))\n",
        "model.add(tf.keras.layers.BatchNormalization())\n",
        "model.add(tf.keras.layers.Dropout(rate=0.2))\n",
        "\n",
        "model.add(tf.keras.layers.Dense(8,kernel_regularizer=tf.keras.regularizers.l2()))\n",
        "model.add(tf.keras.layers.Activation('elu'))\n",
        "model.add(tf.keras.layers.BatchNormalization())\n",
        "model.add(tf.keras.layers.Dropout(rate=0.2))\n",
        "model.add(tf.keras.layers.Dense(1, activation='linear'))\n",
        "\n",
        "model.compile(loss='mae',\n",
        "              optimizer=tf.keras.optimizers.SGD(learning_rate=0.1),\n",
        "              metrics='mae')\n",
        "\n",
        "history = model.fit(X_train_std, y_train, epochs=40, batch_size=70,\n",
        "                    validation_data=(X_val_std, y_val),verbose=1)"
      ]
    },
    {
      "cell_type": "code",
      "execution_count": null,
      "metadata": {
        "colab": {
          "base_uri": "https://localhost:8080/",
          "height": 308
        },
        "id": "hyxM-tJDNpl5",
        "outputId": "d2385105-be18-45fe-8132-42c1f605b7a2"
      },
      "outputs": [
        {
          "output_type": "execute_result",
          "data": {
            "text/plain": [
              "<matplotlib.legend.Legend at 0x7f3a6652c450>"
            ]
          },
          "metadata": {},
          "execution_count": 28
        },
        {
          "output_type": "display_data",
          "data": {
            "text/plain": [
              "<Figure size 432x288 with 1 Axes>"
            ],
            "image/png": "[encoded data removed]"
          },
          "metadata": {
            "needs_background": "light"
          }
        }
      ],
      "source": [
        "fig, ax = plt.subplots()\n",
        "ax.plot(range(40),history.history['loss'],label='train loss')\n",
        "ax.plot(range(40),history.history['val_loss'],label='val loss')\n",
        "#plt.gca().set_ylim(220000, 223000)\n",
        "ax.set_xlabel('Epoch')\n",
        "ax.set_ylabel('Loss')\n",
        "plt.legend()"
      ]
    },
    {
      "cell_type": "markdown",
      "metadata": {
        "id": "L97ZRpuVOaVA"
      },
      "source": [
        "### Combination Activation Function"
      ]
    },
    {
      "cell_type": "code",
      "execution_count": null,
      "metadata": {
        "colab": {
          "base_uri": "https://localhost:8080/"
        },
        "id": "cZgslHblN34H",
        "outputId": "9011996e-5a3a-4aa8-c025-8b09a9a25d9d"
      },
      "outputs": [
        {
          "output_type": "stream",
          "name": "stdout",
          "text": [
            "Epoch 1/16\n",
            "3/3 [==============================] - 2s 139ms/step - loss: 13193.8545 - mae: 13192.2002 - val_loss: 14991.8721 - val_mae: 14990.2197\n",
            "Epoch 2/16\n",
            "3/3 [==============================] - 0s 16ms/step - loss: 13193.1543 - mae: 13191.5068 - val_loss: 14990.8223 - val_mae: 14989.1846\n",
            "Epoch 3/16\n",
            "3/3 [==============================] - 0s 16ms/step - loss: 13192.1309 - mae: 13190.4961 - val_loss: 14989.8330 - val_mae: 14988.2109\n",
            "Epoch 4/16\n",
            "3/3 [==============================] - 0s 15ms/step - loss: 13190.8057 - mae: 13189.1875 - val_loss: 14987.5723 - val_mae: 14985.9609\n",
            "Epoch 5/16\n",
            "3/3 [==============================] - 0s 25ms/step - loss: 13188.8359 - mae: 13187.2266 - val_loss: 14984.6270 - val_mae: 14983.0234\n",
            "Epoch 6/16\n",
            "3/3 [==============================] - 0s 26ms/step - loss: 13185.4863 - mae: 13183.8867 - val_loss: 14979.7148 - val_mae: 14978.1279\n",
            "Epoch 7/16\n",
            "3/3 [==============================] - 0s 25ms/step - loss: 13179.7529 - mae: 13178.1699 - val_loss: 14972.8652 - val_mae: 14971.2939\n",
            "Epoch 8/16\n",
            "3/3 [==============================] - 0s 37ms/step - loss: 13170.7754 - mae: 13169.2070 - val_loss: 14957.3428 - val_mae: 14955.7852\n",
            "Epoch 9/16\n",
            "3/3 [==============================] - 0s 39ms/step - loss: 13153.8369 - mae: 13152.2822 - val_loss: 14929.8398 - val_mae: 14928.2549\n",
            "Epoch 10/16\n",
            "3/3 [==============================] - 0s 42ms/step - loss: 13130.0938 - mae: 13128.5127 - val_loss: 14892.9795 - val_mae: 14891.3936\n",
            "Epoch 11/16\n",
            "3/3 [==============================] - 0s 29ms/step - loss: 13078.4844 - mae: 13076.9014 - val_loss: 14811.7705 - val_mae: 14810.1895\n",
            "Epoch 12/16\n",
            "3/3 [==============================] - 0s 42ms/step - loss: 12990.1299 - mae: 12988.5518 - val_loss: 14669.1406 - val_mae: 14667.5215\n",
            "Epoch 13/16\n",
            "3/3 [==============================] - 0s 73ms/step - loss: 12834.8779 - mae: 12833.2617 - val_loss: 14432.2500 - val_mae: 14430.6279\n",
            "Epoch 14/16\n",
            "3/3 [==============================] - 0s 70ms/step - loss: 12567.9043 - mae: 12566.2812 - val_loss: 13998.8320 - val_mae: 13997.1084\n",
            "Epoch 15/16\n",
            "3/3 [==============================] - 0s 31ms/step - loss: 12098.9102 - mae: 12097.1855 - val_loss: 13278.4111 - val_mae: 13276.2529\n",
            "Epoch 16/16\n",
            "3/3 [==============================] - 0s 45ms/step - loss: 11303.3428 - mae: 11301.1748 - val_loss: 12001.4902 - val_mae: 11999.2734\n"
          ]
        }
      ],
      "source": [
        "tf.random.set_seed(42) # gunakan set_seed untuk menghasilkan model yang mempunyai performa yang sama\n",
        "\n",
        "model = tf.keras.models.Sequential()\n",
        "model.add(tf.keras.layers.Dense(64,input_shape=[len(X.columns)],kernel_initializer=tf.keras.initializers.LecunNormal(seed=40)))\n",
        "\n",
        "model.add(tf.keras.layers.Dense(60,kernel_regularizer=tf.keras.regularizers.l2()))\n",
        "model.add(tf.keras.layers.Activation('elu'))\n",
        "model.add(tf.keras.layers.BatchNormalization())\n",
        "model.add(tf.keras.layers.Dropout(rate=0.2))\n",
        "\n",
        "model.add(tf.keras.layers.Dense(50,kernel_regularizer=tf.keras.regularizers.l2()))\n",
        "model.add(tf.keras.layers.Activation('selu'))\n",
        "model.add(tf.keras.layers.BatchNormalization())\n",
        "model.add(tf.keras.layers.Dropout(rate=0.2))\n",
        "\n",
        "model.add(tf.keras.layers.Dense(20,kernel_regularizer=tf.keras.regularizers.l2()))\n",
        "model.add(tf.keras.layers.Activation('relu'))\n",
        "model.add(tf.keras.layers.BatchNormalization())\n",
        "model.add(tf.keras.layers.Dropout(rate=0.2))\n",
        "model.add(tf.keras.layers.Dense(1, activation='linear'))\n",
        "\n",
        "\n",
        "model.add(tf.keras.layers.Dense(14,kernel_regularizer=tf.keras.regularizers.l2()))\n",
        "model.add(tf.keras.layers.Activation('elu'))\n",
        "model.add(tf.keras.layers.BatchNormalization())\n",
        "model.add(tf.keras.layers.Dropout(rate=0.2))\n",
        "\n",
        "model.add(tf.keras.layers.Dense(10,kernel_regularizer=tf.keras.regularizers.l2()))\n",
        "model.add(tf.keras.layers.Activation('selu'))\n",
        "model.add(tf.keras.layers.BatchNormalization())\n",
        "model.add(tf.keras.layers.Dropout(rate=0.2))\n",
        "\n",
        "model.add(tf.keras.layers.Dense(8,kernel_regularizer=tf.keras.regularizers.l2()))\n",
        "model.add(tf.keras.layers.Activation('tanh'))\n",
        "model.add(tf.keras.layers.BatchNormalization())\n",
        "model.add(tf.keras.layers.Dropout(rate=0.2))\n",
        "model.add(tf.keras.layers.Dense(1, activation='linear'))\n",
        "\n",
        "model.compile(loss='mae',\n",
        "              optimizer=tf.keras.optimizers.SGD(learning_rate=0.1),\n",
        "              metrics='mae')\n",
        "\n",
        "history = model.fit(X_train_std, y_train, epochs=16, batch_size=70,\n",
        "                    validation_data=(X_val_std, y_val),verbose=1)"
      ]
    },
    {
      "cell_type": "code",
      "execution_count": null,
      "metadata": {
        "colab": {
          "base_uri": "https://localhost:8080/",
          "height": 296
        },
        "id": "8Zq7KzzCOTO4",
        "outputId": "e309c605-5af0-4a9f-c9bb-5e09857d4f23"
      },
      "outputs": [
        {
          "output_type": "execute_result",
          "data": {
            "text/plain": [
              "<matplotlib.legend.Legend at 0x7f19b9ab0590>"
            ]
          },
          "metadata": {},
          "execution_count": 41
        },
        {
          "output_type": "display_data",
          "data": {
            "text/plain": [
              "<Figure size 432x288 with 1 Axes>"
            ],
            "image/png": "[encoded data removed]"
          },
          "metadata": {
            "needs_background": "light"
          }
        }
      ],
      "source": [
        "fig, ax = plt.subplots()\n",
        "ax.plot(range(16),history.history['loss'],label='train loss')\n",
        "ax.plot(range(16),history.history['val_loss'],label='val loss')\n",
        "#plt.gca().set_ylim(220000, 223000)\n",
        "ax.set_xlabel('Epoch')\n",
        "ax.set_ylabel('Loss')\n",
        "plt.legend()"
      ]
    },
    {
      "cell_type": "markdown",
      "metadata": {
        "id": "URxgaSRNPdQZ"
      },
      "source": [
        "### Optimaizer"
      ]
    },
    {
      "cell_type": "code",
      "execution_count": null,
      "metadata": {
        "colab": {
          "base_uri": "https://localhost:8080/"
        },
        "id": "w1SXhwmXOmX3",
        "outputId": "36bd77d2-ca49-4396-945a-fcfa7de82303"
      },
      "outputs": [
        {
          "output_type": "stream",
          "name": "stdout",
          "text": [
            "Epoch 1/40\n",
            "3/3 [==============================] - 1s 99ms/step - loss: 13192.6592 - mae: 13192.3193 - val_loss: 14991.1660 - val_mae: 14990.8281\n",
            "Epoch 2/40\n",
            "3/3 [==============================] - 0s 16ms/step - loss: 13192.6973 - mae: 13192.3604 - val_loss: 14991.1689 - val_mae: 14990.8340\n",
            "Epoch 3/40\n",
            "3/3 [==============================] - 0s 14ms/step - loss: 13192.6572 - mae: 13192.3242 - val_loss: 14991.1738 - val_mae: 14990.8428\n",
            "Epoch 4/40\n",
            "3/3 [==============================] - 0s 14ms/step - loss: 13192.6152 - mae: 13192.2852 - val_loss: 14991.1826 - val_mae: 14990.8516\n",
            "Epoch 5/40\n",
            "3/3 [==============================] - 0s 14ms/step - loss: 13192.6699 - mae: 13192.3389 - val_loss: 14991.1895 - val_mae: 14990.8594\n",
            "Epoch 6/40\n",
            "3/3 [==============================] - 0s 23ms/step - loss: 13192.5820 - mae: 13192.2539 - val_loss: 14991.1963 - val_mae: 14990.8682\n",
            "Epoch 7/40\n",
            "3/3 [==============================] - 0s 14ms/step - loss: 13192.5830 - mae: 13192.2578 - val_loss: 14991.1904 - val_mae: 14990.8662\n",
            "Epoch 8/40\n",
            "3/3 [==============================] - 0s 14ms/step - loss: 13192.5449 - mae: 13192.2197 - val_loss: 14991.1963 - val_mae: 14990.8721\n",
            "Epoch 9/40\n",
            "3/3 [==============================] - 0s 23ms/step - loss: 13192.5400 - mae: 13192.2168 - val_loss: 14991.1924 - val_mae: 14990.8701\n",
            "Epoch 10/40\n",
            "3/3 [==============================] - 0s 14ms/step - loss: 13192.5947 - mae: 13192.2734 - val_loss: 14991.1904 - val_mae: 14990.8701\n",
            "Epoch 11/40\n",
            "3/3 [==============================] - 0s 13ms/step - loss: 13192.5879 - mae: 13192.2666 - val_loss: 14991.1904 - val_mae: 14990.8721\n",
            "Epoch 12/40\n",
            "3/3 [==============================] - 0s 14ms/step - loss: 13192.5889 - mae: 13192.2705 - val_loss: 14991.1904 - val_mae: 14990.8730\n",
            "Epoch 13/40\n",
            "3/3 [==============================] - 0s 14ms/step - loss: 13192.5000 - mae: 13192.1816 - val_loss: 14991.1855 - val_mae: 14990.8682\n",
            "Epoch 14/40\n",
            "3/3 [==============================] - 0s 23ms/step - loss: 13192.5352 - mae: 13192.2188 - val_loss: 14991.1787 - val_mae: 14990.8633\n",
            "Epoch 15/40\n",
            "3/3 [==============================] - 0s 13ms/step - loss: 13192.5088 - mae: 13192.1934 - val_loss: 14991.1719 - val_mae: 14990.8584\n",
            "Epoch 16/40\n",
            "3/3 [==============================] - 0s 14ms/step - loss: 13192.4971 - mae: 13192.1826 - val_loss: 14991.1660 - val_mae: 14990.8535\n",
            "Epoch 17/40\n",
            "3/3 [==============================] - 0s 13ms/step - loss: 13192.4971 - mae: 13192.1836 - val_loss: 14991.1602 - val_mae: 14990.8496\n",
            "Epoch 18/40\n",
            "3/3 [==============================] - 0s 14ms/step - loss: 13192.4590 - mae: 13192.1484 - val_loss: 14991.1523 - val_mae: 14990.8408\n",
            "Epoch 19/40\n",
            "3/3 [==============================] - 0s 14ms/step - loss: 13192.4766 - mae: 13192.1680 - val_loss: 14991.1465 - val_mae: 14990.8379\n",
            "Epoch 20/40\n",
            "3/3 [==============================] - 0s 13ms/step - loss: 13192.4727 - mae: 13192.1650 - val_loss: 14991.1406 - val_mae: 14990.8330\n",
            "Epoch 21/40\n",
            "3/3 [==============================] - 0s 14ms/step - loss: 13192.4736 - mae: 13192.1670 - val_loss: 14991.1348 - val_mae: 14990.8291\n",
            "Epoch 22/40\n",
            "3/3 [==============================] - 0s 14ms/step - loss: 13192.4834 - mae: 13192.1787 - val_loss: 14991.1270 - val_mae: 14990.8213\n",
            "Epoch 23/40\n",
            "3/3 [==============================] - 0s 14ms/step - loss: 13192.4189 - mae: 13192.1152 - val_loss: 14991.1182 - val_mae: 14990.8145\n",
            "Epoch 24/40\n",
            "3/3 [==============================] - 0s 22ms/step - loss: 13192.4678 - mae: 13192.1641 - val_loss: 14991.1084 - val_mae: 14990.8057\n",
            "Epoch 25/40\n",
            "3/3 [==============================] - 0s 13ms/step - loss: 13192.3779 - mae: 13192.0762 - val_loss: 14991.0947 - val_mae: 14990.7939\n",
            "Epoch 26/40\n",
            "3/3 [==============================] - 0s 16ms/step - loss: 13192.4111 - mae: 13192.1113 - val_loss: 14991.0830 - val_mae: 14990.7822\n",
            "Epoch 27/40\n",
            "3/3 [==============================] - 0s 14ms/step - loss: 13192.3320 - mae: 13192.0312 - val_loss: 14991.0723 - val_mae: 14990.7734\n",
            "Epoch 28/40\n",
            "3/3 [==============================] - 0s 14ms/step - loss: 13192.3447 - mae: 13192.0459 - val_loss: 14991.0645 - val_mae: 14990.7666\n",
            "Epoch 29/40\n",
            "3/3 [==============================] - 0s 14ms/step - loss: 13192.3398 - mae: 13192.0430 - val_loss: 14991.0576 - val_mae: 14990.7617\n",
            "Epoch 30/40\n",
            "3/3 [==============================] - 0s 13ms/step - loss: 13192.3438 - mae: 13192.0479 - val_loss: 14991.0469 - val_mae: 14990.7529\n",
            "Epoch 31/40\n",
            "3/3 [==============================] - 0s 13ms/step - loss: 13192.3555 - mae: 13192.0615 - val_loss: 14991.0352 - val_mae: 14990.7412\n",
            "Epoch 32/40\n",
            "3/3 [==============================] - 0s 14ms/step - loss: 13192.2891 - mae: 13191.9961 - val_loss: 14991.0273 - val_mae: 14990.7344\n",
            "Epoch 33/40\n",
            "3/3 [==============================] - 0s 14ms/step - loss: 13192.2979 - mae: 13192.0049 - val_loss: 14991.0137 - val_mae: 14990.7227\n",
            "Epoch 34/40\n",
            "3/3 [==============================] - 0s 25ms/step - loss: 13192.2793 - mae: 13191.9883 - val_loss: 14991.0029 - val_mae: 14990.7129\n",
            "Epoch 35/40\n",
            "3/3 [==============================] - 0s 17ms/step - loss: 13192.2334 - mae: 13191.9443 - val_loss: 14990.9863 - val_mae: 14990.6973\n",
            "Epoch 36/40\n",
            "3/3 [==============================] - 0s 14ms/step - loss: 13192.2744 - mae: 13191.9854 - val_loss: 14990.9766 - val_mae: 14990.6875\n",
            "Epoch 37/40\n",
            "3/3 [==============================] - 0s 14ms/step - loss: 13192.1924 - mae: 13191.9033 - val_loss: 14990.9717 - val_mae: 14990.6846\n",
            "Epoch 38/40\n",
            "3/3 [==============================] - 0s 14ms/step - loss: 13192.2051 - mae: 13191.9180 - val_loss: 14990.9609 - val_mae: 14990.6758\n",
            "Epoch 39/40\n",
            "3/3 [==============================] - 0s 14ms/step - loss: 13192.2939 - mae: 13192.0098 - val_loss: 14990.9531 - val_mae: 14990.6689\n",
            "Epoch 40/40\n",
            "3/3 [==============================] - 0s 14ms/step - loss: 13192.2314 - mae: 13191.9463 - val_loss: 14990.9492 - val_mae: 14990.6660\n"
          ]
        }
      ],
      "source": [
        "tf.random.set_seed(42) # gunakan set_seed untuk menghasilkan model yang mempunyai performa yang sama\n",
        "model = tf.keras.models.Sequential()\n",
        "model.add(tf.keras.layers.Dense(15,input_shape=[len(X.columns)],kernel_initializer=tf.keras.initializers.LecunNormal(seed=40)))\n",
        "\n",
        "model.add(tf.keras.layers.Dense(14,kernel_regularizer=tf.keras.regularizers.l2()))\n",
        "model.add(tf.keras.layers.Activation('elu'))\n",
        "model.add(tf.keras.layers.BatchNormalization())\n",
        "model.add(tf.keras.layers.Dropout(rate=0.2))\n",
        "\n",
        "model.add(tf.keras.layers.Dense(10,kernel_regularizer=tf.keras.regularizers.l2()))\n",
        "model.add(tf.keras.layers.Activation('elu'))\n",
        "model.add(tf.keras.layers.BatchNormalization())\n",
        "model.add(tf.keras.layers.Dropout(rate=0.2))\n",
        "\n",
        "model.add(tf.keras.layers.Dense(8,kernel_regularizer=tf.keras.regularizers.l2()))\n",
        "model.add(tf.keras.layers.Activation('elu'))\n",
        "model.add(tf.keras.layers.BatchNormalization())\n",
        "model.add(tf.keras.layers.Dropout(rate=0.2))\n",
        "model.add(tf.keras.layers.Dense(1, activation='linear'))\n",
        "\n",
        "model.compile(loss='mae',\n",
        "              optimizer=tf.keras.optimizers.Adam(),\n",
        "              metrics='mae')\n",
        "\n",
        "history = model.fit(X_train_std, y_train, epochs=40, batch_size=70,\n",
        "                    validation_data=(X_val_std, y_val),verbose=1)"
      ]
    },
    {
      "cell_type": "code",
      "execution_count": null,
      "metadata": {
        "colab": {
          "base_uri": "https://localhost:8080/",
          "height": 296
        },
        "id": "hBf7UfmGO1cJ",
        "outputId": "813cbcdd-a083-4ecf-9946-752c7e9afd9b"
      },
      "outputs": [
        {
          "output_type": "execute_result",
          "data": {
            "text/plain": [
              "<matplotlib.legend.Legend at 0x7f19ba3b4150>"
            ]
          },
          "metadata": {},
          "execution_count": 43
        },
        {
          "output_type": "display_data",
          "data": {
            "text/plain": [
              "<Figure size 432x288 with 1 Axes>"
            ],
            "image/png": "[encoded data removed]"
          },
          "metadata": {
            "needs_background": "light"
          }
        }
      ],
      "source": [
        "fig, ax = plt.subplots()\n",
        "ax.plot(range(40),history.history['loss'],label='train loss')\n",
        "ax.plot(range(40),history.history['val_loss'],label='val loss')\n",
        "#plt.gca().set_ylim(220000, 223000)\n",
        "ax.set_xlabel('Epoch')\n",
        "ax.set_ylabel('Loss')\n",
        "plt.legend()"
      ]
    },
    {
      "cell_type": "code",
      "execution_count": null,
      "metadata": {
        "colab": {
          "base_uri": "https://localhost:8080/"
        },
        "id": "fKUYSEjRPDit",
        "outputId": "667176d8-6d5f-40a3-a1ea-846023345fe5"
      },
      "outputs": [
        {
          "output_type": "stream",
          "name": "stdout",
          "text": [
            "Epoch 1/40\n",
            "3/3 [==============================] - 2s 104ms/step - loss: 13192.6465 - mae: 13192.2998 - val_loss: 14991.6787 - val_mae: 14991.3340\n",
            "Epoch 2/40\n",
            "3/3 [==============================] - 0s 16ms/step - loss: 13192.6465 - mae: 13192.3018 - val_loss: 14991.6533 - val_mae: 14991.3105\n",
            "Epoch 3/40\n",
            "3/3 [==============================] - 0s 15ms/step - loss: 13192.5684 - mae: 13192.2236 - val_loss: 14991.6299 - val_mae: 14991.2871\n",
            "Epoch 4/40\n",
            "3/3 [==============================] - 0s 15ms/step - loss: 13192.6738 - mae: 13192.3311 - val_loss: 14991.6084 - val_mae: 14991.2656\n",
            "Epoch 5/40\n",
            "3/3 [==============================] - 0s 15ms/step - loss: 13192.4648 - mae: 13192.1230 - val_loss: 14991.6035 - val_mae: 14991.2617\n",
            "Epoch 6/40\n",
            "3/3 [==============================] - 0s 14ms/step - loss: 13192.6025 - mae: 13192.2627 - val_loss: 14991.5791 - val_mae: 14991.2402\n",
            "Epoch 7/40\n",
            "3/3 [==============================] - 0s 15ms/step - loss: 13192.6045 - mae: 13192.2656 - val_loss: 14991.5625 - val_mae: 14991.2246\n",
            "Epoch 8/40\n",
            "3/3 [==============================] - 0s 14ms/step - loss: 13192.5898 - mae: 13192.2529 - val_loss: 14991.5410 - val_mae: 14991.2031\n",
            "Epoch 9/40\n",
            "3/3 [==============================] - 0s 15ms/step - loss: 13192.5635 - mae: 13192.2275 - val_loss: 14991.5215 - val_mae: 14991.1855\n",
            "Epoch 10/40\n",
            "3/3 [==============================] - 0s 15ms/step - loss: 13192.5430 - mae: 13192.2070 - val_loss: 14991.5088 - val_mae: 14991.1738\n",
            "Epoch 11/40\n",
            "3/3 [==============================] - 0s 15ms/step - loss: 13192.5713 - mae: 13192.2373 - val_loss: 14991.4951 - val_mae: 14991.1602\n",
            "Epoch 12/40\n",
            "3/3 [==============================] - 0s 15ms/step - loss: 13192.4980 - mae: 13192.1660 - val_loss: 14991.4678 - val_mae: 14991.1348\n",
            "Epoch 13/40\n",
            "3/3 [==============================] - 0s 15ms/step - loss: 13192.4795 - mae: 13192.1484 - val_loss: 14991.4561 - val_mae: 14991.1250\n",
            "Epoch 14/40\n",
            "3/3 [==============================] - 0s 18ms/step - loss: 13192.5225 - mae: 13192.1904 - val_loss: 14991.4404 - val_mae: 14991.1113\n",
            "Epoch 15/40\n",
            "3/3 [==============================] - 0s 25ms/step - loss: 13192.5234 - mae: 13192.1924 - val_loss: 14991.4141 - val_mae: 14991.0840\n",
            "Epoch 16/40\n",
            "3/3 [==============================] - 0s 16ms/step - loss: 13192.4141 - mae: 13192.0859 - val_loss: 14991.3887 - val_mae: 14991.0596\n",
            "Epoch 17/40\n",
            "3/3 [==============================] - 0s 15ms/step - loss: 13192.5410 - mae: 13192.2139 - val_loss: 14991.3447 - val_mae: 14991.0166\n",
            "Epoch 18/40\n",
            "3/3 [==============================] - 0s 25ms/step - loss: 13192.4619 - mae: 13192.1348 - val_loss: 14991.3145 - val_mae: 14990.9883\n",
            "Epoch 19/40\n",
            "3/3 [==============================] - 0s 16ms/step - loss: 13192.4268 - mae: 13192.1016 - val_loss: 14991.2969 - val_mae: 14990.9717\n",
            "Epoch 20/40\n",
            "3/3 [==============================] - 0s 17ms/step - loss: 13192.3955 - mae: 13192.0713 - val_loss: 14991.2910 - val_mae: 14990.9658\n",
            "Epoch 21/40\n",
            "3/3 [==============================] - 0s 15ms/step - loss: 13192.4268 - mae: 13192.1035 - val_loss: 14991.2783 - val_mae: 14990.9561\n",
            "Epoch 22/40\n",
            "3/3 [==============================] - 0s 16ms/step - loss: 13192.3809 - mae: 13192.0576 - val_loss: 14991.2617 - val_mae: 14990.9395\n",
            "Epoch 23/40\n",
            "3/3 [==============================] - 0s 15ms/step - loss: 13192.4189 - mae: 13192.0957 - val_loss: 14991.2520 - val_mae: 14990.9307\n",
            "Epoch 24/40\n",
            "3/3 [==============================] - 0s 17ms/step - loss: 13192.2900 - mae: 13191.9688 - val_loss: 14991.2471 - val_mae: 14990.9258\n",
            "Epoch 25/40\n",
            "3/3 [==============================] - 0s 17ms/step - loss: 13192.3555 - mae: 13192.0352 - val_loss: 14991.2314 - val_mae: 14990.9121\n",
            "Epoch 26/40\n",
            "3/3 [==============================] - 0s 18ms/step - loss: 13192.3213 - mae: 13192.0029 - val_loss: 14991.2158 - val_mae: 14990.8984\n",
            "Epoch 27/40\n",
            "3/3 [==============================] - 0s 15ms/step - loss: 13192.3242 - mae: 13192.0049 - val_loss: 14991.1943 - val_mae: 14990.8770\n",
            "Epoch 28/40\n",
            "3/3 [==============================] - 0s 15ms/step - loss: 13192.3154 - mae: 13191.9980 - val_loss: 14991.1709 - val_mae: 14990.8545\n",
            "Epoch 29/40\n",
            "3/3 [==============================] - 0s 15ms/step - loss: 13192.2852 - mae: 13191.9678 - val_loss: 14991.1592 - val_mae: 14990.8428\n",
            "Epoch 30/40\n",
            "3/3 [==============================] - 0s 15ms/step - loss: 13192.3350 - mae: 13192.0195 - val_loss: 14991.1484 - val_mae: 14990.8340\n",
            "Epoch 31/40\n",
            "3/3 [==============================] - 0s 15ms/step - loss: 13192.2803 - mae: 13191.9668 - val_loss: 14991.1279 - val_mae: 14990.8154\n",
            "Epoch 32/40\n",
            "3/3 [==============================] - 0s 15ms/step - loss: 13192.2969 - mae: 13191.9834 - val_loss: 14991.1016 - val_mae: 14990.7891\n",
            "Epoch 33/40\n",
            "3/3 [==============================] - 0s 15ms/step - loss: 13192.2109 - mae: 13191.8984 - val_loss: 14991.0967 - val_mae: 14990.7852\n",
            "Epoch 34/40\n",
            "3/3 [==============================] - 0s 17ms/step - loss: 13192.1738 - mae: 13191.8623 - val_loss: 14991.0996 - val_mae: 14990.7891\n",
            "Epoch 35/40\n",
            "3/3 [==============================] - 0s 16ms/step - loss: 13192.1445 - mae: 13191.8330 - val_loss: 14991.0859 - val_mae: 14990.7773\n",
            "Epoch 36/40\n",
            "3/3 [==============================] - 0s 17ms/step - loss: 13192.1533 - mae: 13191.8428 - val_loss: 14991.0859 - val_mae: 14990.7773\n",
            "Epoch 37/40\n",
            "3/3 [==============================] - 0s 19ms/step - loss: 13192.1240 - mae: 13191.8145 - val_loss: 14991.0791 - val_mae: 14990.7705\n",
            "Epoch 38/40\n",
            "3/3 [==============================] - 0s 17ms/step - loss: 13192.0947 - mae: 13191.7861 - val_loss: 14991.0576 - val_mae: 14990.7500\n",
            "Epoch 39/40\n",
            "3/3 [==============================] - 0s 16ms/step - loss: 13192.0967 - mae: 13191.7900 - val_loss: 14991.0527 - val_mae: 14990.7451\n",
            "Epoch 40/40\n",
            "3/3 [==============================] - 0s 16ms/step - loss: 13192.1250 - mae: 13191.8184 - val_loss: 14991.0205 - val_mae: 14990.7148\n"
          ]
        }
      ],
      "source": [
        "model = tf.keras.models.Sequential()\n",
        "model.add(tf.keras.layers.Dense(15,input_shape=[len(X.columns)],kernel_initializer=tf.keras.initializers.LecunNormal(seed=40)))\n",
        "\n",
        "model.add(tf.keras.layers.Dense(14,kernel_regularizer=tf.keras.regularizers.l2()))\n",
        "model.add(tf.keras.layers.Activation('elu'))\n",
        "model.add(tf.keras.layers.BatchNormalization())\n",
        "model.add(tf.keras.layers.Dropout(rate=0.2))\n",
        "\n",
        "model.add(tf.keras.layers.Dense(10,kernel_regularizer=tf.keras.regularizers.l2()))\n",
        "model.add(tf.keras.layers.Activation('elu'))\n",
        "model.add(tf.keras.layers.BatchNormalization())\n",
        "model.add(tf.keras.layers.Dropout(rate=0.2))\n",
        "\n",
        "model.add(tf.keras.layers.Dense(8,kernel_regularizer=tf.keras.regularizers.l2()))\n",
        "model.add(tf.keras.layers.Activation('elu'))\n",
        "model.add(tf.keras.layers.BatchNormalization())\n",
        "model.add(tf.keras.layers.Dropout(rate=0.2))\n",
        "model.add(tf.keras.layers.Dense(1, activation='linear'))\n",
        "\n",
        "model.compile(loss='mae',\n",
        "              optimizer=tf.keras.optimizers.Nadam(),\n",
        "              metrics='mae')\n",
        "\n",
        "history = model.fit(X_train_std, y_train, epochs=40, batch_size=70,\n",
        "                    validation_data=(X_val_std, y_val),verbose=1)"
      ]
    },
    {
      "cell_type": "code",
      "execution_count": null,
      "metadata": {
        "colab": {
          "base_uri": "https://localhost:8080/"
        },
        "id": "3dWSa1mUPNan",
        "outputId": "22668981-b728-438b-f302-795e61db7b34"
      },
      "outputs": [
        {
          "output_type": "stream",
          "name": "stdout",
          "text": [
            "Epoch 1/40\n",
            "3/3 [==============================] - 1s 100ms/step - loss: 13192.3164 - mae: 13192.3164 - val_loss: 14991.5605 - val_mae: 14991.5605\n",
            "Epoch 2/40\n",
            "3/3 [==============================] - 0s 23ms/step - loss: 13192.2021 - mae: 13192.2021 - val_loss: 14991.6689 - val_mae: 14991.6689\n",
            "Epoch 3/40\n",
            "3/3 [==============================] - 0s 14ms/step - loss: 13192.2598 - mae: 13192.2598 - val_loss: 14991.4795 - val_mae: 14991.4795\n",
            "Epoch 4/40\n",
            "3/3 [==============================] - 0s 23ms/step - loss: 13192.2031 - mae: 13192.2031 - val_loss: 14991.3779 - val_mae: 14991.3779\n",
            "Epoch 5/40\n",
            "3/3 [==============================] - 0s 13ms/step - loss: 13192.2080 - mae: 13192.2080 - val_loss: 14991.3662 - val_mae: 14991.3662\n",
            "Epoch 6/40\n",
            "3/3 [==============================] - 0s 16ms/step - loss: 13192.2539 - mae: 13192.2539 - val_loss: 14991.2939 - val_mae: 14991.2939\n",
            "Epoch 7/40\n",
            "3/3 [==============================] - 0s 15ms/step - loss: 13192.1660 - mae: 13192.1660 - val_loss: 14991.3447 - val_mae: 14991.3447\n",
            "Epoch 8/40\n",
            "3/3 [==============================] - 0s 14ms/step - loss: 13192.0986 - mae: 13192.0986 - val_loss: 14991.3594 - val_mae: 14991.3594\n",
            "Epoch 9/40\n",
            "3/3 [==============================] - 0s 23ms/step - loss: 13192.1328 - mae: 13192.1328 - val_loss: 14991.2988 - val_mae: 14991.2988\n",
            "Epoch 10/40\n",
            "3/3 [==============================] - 0s 14ms/step - loss: 13191.9883 - mae: 13191.9883 - val_loss: 14991.1621 - val_mae: 14991.1621\n",
            "Epoch 11/40\n",
            "3/3 [==============================] - 0s 16ms/step - loss: 13191.9902 - mae: 13191.9902 - val_loss: 14991.0928 - val_mae: 14991.0928\n",
            "Epoch 12/40\n",
            "3/3 [==============================] - 0s 14ms/step - loss: 13192.0820 - mae: 13192.0820 - val_loss: 14991.0742 - val_mae: 14991.0742\n",
            "Epoch 13/40\n",
            "3/3 [==============================] - 0s 14ms/step - loss: 13192.0938 - mae: 13192.0938 - val_loss: 14991.0322 - val_mae: 14991.0322\n",
            "Epoch 14/40\n",
            "3/3 [==============================] - 0s 14ms/step - loss: 13192.0986 - mae: 13192.0986 - val_loss: 14991.0342 - val_mae: 14991.0342\n",
            "Epoch 15/40\n",
            "3/3 [==============================] - 0s 14ms/step - loss: 13191.9219 - mae: 13191.9219 - val_loss: 14990.9580 - val_mae: 14990.9580\n",
            "Epoch 16/40\n",
            "3/3 [==============================] - 0s 14ms/step - loss: 13191.9482 - mae: 13191.9482 - val_loss: 14990.8906 - val_mae: 14990.8906\n",
            "Epoch 17/40\n",
            "3/3 [==============================] - 0s 14ms/step - loss: 13191.9639 - mae: 13191.9639 - val_loss: 14990.8330 - val_mae: 14990.8330\n",
            "Epoch 18/40\n",
            "3/3 [==============================] - 0s 14ms/step - loss: 13192.0498 - mae: 13192.0498 - val_loss: 14990.8145 - val_mae: 14990.8145\n",
            "Epoch 19/40\n",
            "3/3 [==============================] - 0s 14ms/step - loss: 13192.0508 - mae: 13192.0508 - val_loss: 14990.9160 - val_mae: 14990.9160\n",
            "Epoch 20/40\n",
            "3/3 [==============================] - 0s 14ms/step - loss: 13191.9229 - mae: 13191.9229 - val_loss: 14990.7920 - val_mae: 14990.7920\n",
            "Epoch 21/40\n",
            "3/3 [==============================] - 0s 14ms/step - loss: 13191.9902 - mae: 13191.9902 - val_loss: 14990.7891 - val_mae: 14990.7891\n",
            "Epoch 22/40\n",
            "3/3 [==============================] - 0s 18ms/step - loss: 13191.9717 - mae: 13191.9717 - val_loss: 14990.7529 - val_mae: 14990.7529\n",
            "Epoch 23/40\n",
            "3/3 [==============================] - 0s 15ms/step - loss: 13191.9355 - mae: 13191.9355 - val_loss: 14990.7783 - val_mae: 14990.7783\n",
            "Epoch 24/40\n",
            "3/3 [==============================] - 0s 15ms/step - loss: 13191.8994 - mae: 13191.9004 - val_loss: 14990.7666 - val_mae: 14990.7666\n",
            "Epoch 25/40\n",
            "3/3 [==============================] - 0s 14ms/step - loss: 13191.6592 - mae: 13191.6582 - val_loss: 14990.7197 - val_mae: 14990.7197\n",
            "Epoch 26/40\n",
            "3/3 [==============================] - 0s 14ms/step - loss: 13191.7666 - mae: 13191.7666 - val_loss: 14990.6436 - val_mae: 14990.6436\n",
            "Epoch 27/40\n",
            "3/3 [==============================] - 0s 15ms/step - loss: 13191.8516 - mae: 13191.8516 - val_loss: 14990.6064 - val_mae: 14990.6064\n",
            "Epoch 28/40\n",
            "3/3 [==============================] - 0s 23ms/step - loss: 13191.7754 - mae: 13191.7744 - val_loss: 14990.5273 - val_mae: 14990.5273\n",
            "Epoch 29/40\n",
            "3/3 [==============================] - 0s 14ms/step - loss: 13191.8105 - mae: 13191.8105 - val_loss: 14990.4766 - val_mae: 14990.4766\n",
            "Epoch 30/40\n",
            "3/3 [==============================] - 0s 14ms/step - loss: 13191.7676 - mae: 13191.7676 - val_loss: 14990.4902 - val_mae: 14990.4902\n",
            "Epoch 31/40\n",
            "3/3 [==============================] - 0s 14ms/step - loss: 13191.5225 - mae: 13191.5225 - val_loss: 14990.4648 - val_mae: 14990.4648\n",
            "Epoch 32/40\n",
            "3/3 [==============================] - 0s 14ms/step - loss: 13191.6670 - mae: 13191.6670 - val_loss: 14990.4609 - val_mae: 14990.4609\n",
            "Epoch 33/40\n",
            "3/3 [==============================] - 0s 14ms/step - loss: 13191.7051 - mae: 13191.7051 - val_loss: 14990.4023 - val_mae: 14990.4023\n",
            "Epoch 34/40\n",
            "3/3 [==============================] - 0s 13ms/step - loss: 13191.5762 - mae: 13191.5762 - val_loss: 14990.4326 - val_mae: 14990.4326\n",
            "Epoch 35/40\n",
            "3/3 [==============================] - 0s 14ms/step - loss: 13191.6006 - mae: 13191.6006 - val_loss: 14990.2959 - val_mae: 14990.2959\n",
            "Epoch 36/40\n",
            "3/3 [==============================] - 0s 14ms/step - loss: 13191.5752 - mae: 13191.5752 - val_loss: 14990.3281 - val_mae: 14990.3281\n",
            "Epoch 37/40\n",
            "3/3 [==============================] - 0s 14ms/step - loss: 13191.4219 - mae: 13191.4219 - val_loss: 14990.3281 - val_mae: 14990.3281\n",
            "Epoch 38/40\n",
            "3/3 [==============================] - 0s 14ms/step - loss: 13191.5596 - mae: 13191.5596 - val_loss: 14990.2227 - val_mae: 14990.2227\n",
            "Epoch 39/40\n",
            "3/3 [==============================] - 0s 15ms/step - loss: 13191.5195 - mae: 13191.5195 - val_loss: 14990.2871 - val_mae: 14990.2871\n",
            "Epoch 40/40\n",
            "3/3 [==============================] - 0s 14ms/step - loss: 13191.5078 - mae: 13191.5078 - val_loss: 14990.2080 - val_mae: 14990.2080\n"
          ]
        }
      ],
      "source": [
        "model = tf.keras.models.Sequential()\n",
        "model.add(tf.keras.layers.Dense(64,input_shape=[len(X.columns)],kernel_initializer=tf.keras.initializers.LecunNormal(seed=40)))\n",
        "\n",
        "model.add(tf.keras.layers.Dense(32))\n",
        "model.add(tf.keras.layers.Activation('selu'))\n",
        "model.add(tf.keras.layers.BatchNormalization())\n",
        "model.add(tf.keras.layers.Dropout(rate=0.1))\n",
        "\n",
        "model.add(tf.keras.layers.Dense(16))\n",
        "model.add(tf.keras.layers.Activation('relu'))\n",
        "model.add(tf.keras.layers.BatchNormalization())\n",
        "model.add(tf.keras.layers.Dropout(rate=0.1))\n",
        "\n",
        "model.add(tf.keras.layers.Dense(8))\n",
        "model.add(tf.keras.layers.Activation('elu'))\n",
        "model.add(tf.keras.layers.BatchNormalization())\n",
        "model.add(tf.keras.layers.Dropout(rate=0.2))\n",
        "model.add(tf.keras.layers.Dense(1, activation='linear'))\n",
        "\n",
        "model.compile(loss='mae',\n",
        "              optimizer=tf.keras.optimizers.RMSprop(),\n",
        "              metrics='mae')\n",
        "\n",
        "history = model.fit(X_train_std, y_train, epochs=40, batch_size=70,\n",
        "                    validation_data=(X_val_std, y_val),verbose=1)"
      ]
    },
    {
      "cell_type": "code",
      "execution_count": null,
      "metadata": {
        "colab": {
          "base_uri": "https://localhost:8080/",
          "height": 297
        },
        "id": "RP6nV5rCPoGc",
        "outputId": "3138b683-824d-4b83-e91d-78e311a0a932"
      },
      "outputs": [
        {
          "output_type": "execute_result",
          "data": {
            "text/plain": [
              "<matplotlib.legend.Legend at 0x7f3ae7b7d750>"
            ]
          },
          "metadata": {},
          "execution_count": 35
        },
        {
          "output_type": "display_data",
          "data": {
            "text/plain": [
              "<Figure size 432x288 with 1 Axes>"
            ],
            "image/png": "[encoded data removed]"
          },
          "metadata": {
            "needs_background": "light"
          }
        }
      ],
      "source": [
        "fig, ax = plt.subplots()\n",
        "ax.plot(range(40),history.history['loss'],label='train loss')\n",
        "ax.plot(range(40),history.history['val_loss'],label='val loss')\n",
        "#plt.gca().set_ylim(220000, 223000)\n",
        "ax.set_xlabel('Epoch')\n",
        "ax.set_ylabel('Loss')\n",
        "plt.legend()"
      ]
    },
    {
      "cell_type": "markdown",
      "metadata": {
        "id": "nUgDzFTMo553"
      },
      "source": [
        "## Adamax (Gradient Vanish)"
      ]
    },
    {
      "cell_type": "code",
      "execution_count": null,
      "metadata": {
        "colab": {
          "base_uri": "https://localhost:8080/"
        },
        "id": "WUxN3IkWnCIJ",
        "outputId": "94a43bfa-9f36-400e-a8bf-b2de6ba502c4"
      },
      "outputs": [
        {
          "output_type": "stream",
          "name": "stdout",
          "text": [
            "Epoch 1/40\n",
            "3/3 [==============================] - 1s 93ms/step - loss: 13192.3252 - root_mean_squared_error: 15285.6357 - val_loss: 14990.9189 - val_root_mean_squared_error: 17624.6016\n",
            "Epoch 2/40\n",
            "3/3 [==============================] - 0s 14ms/step - loss: 13192.3545 - root_mean_squared_error: 15285.5898 - val_loss: 14990.9189 - val_root_mean_squared_error: 17624.6016\n",
            "Epoch 3/40\n",
            "3/3 [==============================] - 0s 14ms/step - loss: 13192.3184 - root_mean_squared_error: 15285.6055 - val_loss: 14990.9209 - val_root_mean_squared_error: 17624.6055\n",
            "Epoch 4/40\n",
            "3/3 [==============================] - 0s 13ms/step - loss: 13192.2930 - root_mean_squared_error: 15285.5508 - val_loss: 14990.9219 - val_root_mean_squared_error: 17624.6055\n",
            "Epoch 5/40\n",
            "3/3 [==============================] - 0s 13ms/step - loss: 13192.3271 - root_mean_squared_error: 15285.6211 - val_loss: 14990.9258 - val_root_mean_squared_error: 17624.6055\n",
            "Epoch 6/40\n",
            "3/3 [==============================] - 0s 13ms/step - loss: 13192.2607 - root_mean_squared_error: 15285.4902 - val_loss: 14990.9258 - val_root_mean_squared_error: 17624.6055\n",
            "Epoch 7/40\n",
            "3/3 [==============================] - 0s 14ms/step - loss: 13192.2393 - root_mean_squared_error: 15285.5195 - val_loss: 14990.9219 - val_root_mean_squared_error: 17624.6016\n",
            "Epoch 8/40\n",
            "3/3 [==============================] - 0s 15ms/step - loss: 13192.2480 - root_mean_squared_error: 15285.5127 - val_loss: 14990.9219 - val_root_mean_squared_error: 17624.5977\n",
            "Epoch 9/40\n",
            "3/3 [==============================] - 0s 13ms/step - loss: 13192.2334 - root_mean_squared_error: 15285.4854 - val_loss: 14990.9209 - val_root_mean_squared_error: 17624.5957\n",
            "Epoch 10/40\n",
            "3/3 [==============================] - 0s 14ms/step - loss: 13192.2402 - root_mean_squared_error: 15285.5205 - val_loss: 14990.9189 - val_root_mean_squared_error: 17624.5938\n",
            "Epoch 11/40\n",
            "3/3 [==============================] - 0s 16ms/step - loss: 13192.2949 - root_mean_squared_error: 15285.5752 - val_loss: 14990.9189 - val_root_mean_squared_error: 17624.5918\n",
            "Epoch 12/40\n",
            "3/3 [==============================] - 0s 14ms/step - loss: 13192.2432 - root_mean_squared_error: 15285.5254 - val_loss: 14990.9189 - val_root_mean_squared_error: 17624.5898\n",
            "Epoch 13/40\n",
            "3/3 [==============================] - 0s 14ms/step - loss: 13192.2393 - root_mean_squared_error: 15285.5117 - val_loss: 14990.9160 - val_root_mean_squared_error: 17624.5840\n",
            "Epoch 14/40\n",
            "3/3 [==============================] - 0s 15ms/step - loss: 13192.2148 - root_mean_squared_error: 15285.5391 - val_loss: 14990.9121 - val_root_mean_squared_error: 17624.5801\n",
            "Epoch 15/40\n",
            "3/3 [==============================] - 0s 23ms/step - loss: 13192.2090 - root_mean_squared_error: 15285.5039 - val_loss: 14990.9141 - val_root_mean_squared_error: 17624.5820\n",
            "Epoch 16/40\n",
            "3/3 [==============================] - 0s 14ms/step - loss: 13192.1992 - root_mean_squared_error: 15285.5225 - val_loss: 14990.9121 - val_root_mean_squared_error: 17624.5801\n",
            "Epoch 17/40\n",
            "3/3 [==============================] - 0s 14ms/step - loss: 13192.2002 - root_mean_squared_error: 15285.5068 - val_loss: 14990.9092 - val_root_mean_squared_error: 17624.5762\n",
            "Epoch 18/40\n",
            "3/3 [==============================] - 0s 18ms/step - loss: 13192.1689 - root_mean_squared_error: 15285.4385 - val_loss: 14990.9072 - val_root_mean_squared_error: 17624.5742\n",
            "Epoch 19/40\n",
            "3/3 [==============================] - 0s 13ms/step - loss: 13192.1562 - root_mean_squared_error: 15285.4238 - val_loss: 14990.9092 - val_root_mean_squared_error: 17624.5723\n",
            "Epoch 20/40\n",
            "3/3 [==============================] - 0s 13ms/step - loss: 13192.1738 - root_mean_squared_error: 15285.4404 - val_loss: 14990.9053 - val_root_mean_squared_error: 17624.5684\n",
            "Epoch 21/40\n",
            "3/3 [==============================] - 0s 14ms/step - loss: 13192.1914 - root_mean_squared_error: 15285.4346 - val_loss: 14990.9053 - val_root_mean_squared_error: 17624.5645\n",
            "Epoch 22/40\n",
            "3/3 [==============================] - 0s 14ms/step - loss: 13192.2051 - root_mean_squared_error: 15285.4395 - val_loss: 14990.9004 - val_root_mean_squared_error: 17624.5605\n",
            "Epoch 23/40\n",
            "3/3 [==============================] - 0s 15ms/step - loss: 13192.1309 - root_mean_squared_error: 15285.4102 - val_loss: 14990.9004 - val_root_mean_squared_error: 17624.5586\n",
            "Epoch 24/40\n",
            "3/3 [==============================] - 0s 16ms/step - loss: 13192.2080 - root_mean_squared_error: 15285.5195 - val_loss: 14990.9004 - val_root_mean_squared_error: 17624.5586\n",
            "Epoch 25/40\n",
            "3/3 [==============================] - 0s 14ms/step - loss: 13192.0986 - root_mean_squared_error: 15285.4033 - val_loss: 14990.8955 - val_root_mean_squared_error: 17624.5527\n",
            "Epoch 26/40\n",
            "3/3 [==============================] - 0s 14ms/step - loss: 13192.1533 - root_mean_squared_error: 15285.4102 - val_loss: 14990.8916 - val_root_mean_squared_error: 17624.5449\n",
            "Epoch 27/40\n",
            "3/3 [==============================] - 0s 14ms/step - loss: 13192.1055 - root_mean_squared_error: 15285.3750 - val_loss: 14990.8887 - val_root_mean_squared_error: 17624.5430\n",
            "Epoch 28/40\n",
            "3/3 [==============================] - 0s 14ms/step - loss: 13192.0479 - root_mean_squared_error: 15285.3037 - val_loss: 14990.8838 - val_root_mean_squared_error: 17624.5332\n",
            "Epoch 29/40\n",
            "3/3 [==============================] - 0s 15ms/step - loss: 13192.0957 - root_mean_squared_error: 15285.4531 - val_loss: 14990.8799 - val_root_mean_squared_error: 17624.5293\n",
            "Epoch 30/40\n",
            "3/3 [==============================] - 0s 15ms/step - loss: 13192.1211 - root_mean_squared_error: 15285.4600 - val_loss: 14990.8770 - val_root_mean_squared_error: 17624.5215\n",
            "Epoch 31/40\n",
            "3/3 [==============================] - 0s 14ms/step - loss: 13192.1201 - root_mean_squared_error: 15285.4160 - val_loss: 14990.8701 - val_root_mean_squared_error: 17624.5156\n",
            "Epoch 32/40\n",
            "3/3 [==============================] - 0s 14ms/step - loss: 13192.0781 - root_mean_squared_error: 15285.3311 - val_loss: 14990.8682 - val_root_mean_squared_error: 17624.5098\n",
            "Epoch 33/40\n",
            "3/3 [==============================] - 0s 13ms/step - loss: 13192.0811 - root_mean_squared_error: 15285.3838 - val_loss: 14990.8613 - val_root_mean_squared_error: 17624.5039\n",
            "Epoch 34/40\n",
            "3/3 [==============================] - 0s 14ms/step - loss: 13192.0381 - root_mean_squared_error: 15285.3193 - val_loss: 14990.8594 - val_root_mean_squared_error: 17624.5000\n",
            "Epoch 35/40\n",
            "3/3 [==============================] - 0s 13ms/step - loss: 13192.0322 - root_mean_squared_error: 15285.2910 - val_loss: 14990.8516 - val_root_mean_squared_error: 17624.4922\n",
            "Epoch 36/40\n",
            "3/3 [==============================] - 0s 13ms/step - loss: 13192.0342 - root_mean_squared_error: 15285.3682 - val_loss: 14990.8408 - val_root_mean_squared_error: 17624.4805\n",
            "Epoch 37/40\n",
            "3/3 [==============================] - 0s 14ms/step - loss: 13192.0205 - root_mean_squared_error: 15285.3076 - val_loss: 14990.8408 - val_root_mean_squared_error: 17624.4785\n",
            "Epoch 38/40\n",
            "3/3 [==============================] - 0s 13ms/step - loss: 13192.0186 - root_mean_squared_error: 15285.3359 - val_loss: 14990.8330 - val_root_mean_squared_error: 17624.4688\n",
            "Epoch 39/40\n",
            "3/3 [==============================] - 0s 13ms/step - loss: 13192.0771 - root_mean_squared_error: 15285.4229 - val_loss: 14990.8281 - val_root_mean_squared_error: 17624.4609\n",
            "Epoch 40/40\n",
            "3/3 [==============================] - 0s 13ms/step - loss: 13192.0273 - root_mean_squared_error: 15285.3154 - val_loss: 14990.8223 - val_root_mean_squared_error: 17624.4531\n"
          ]
        }
      ],
      "source": [
        "tf.random.set_seed(42) # gunakan set_seed untuk menghasilkan model yang mempunyai performa yang sama\n",
        "\n",
        "model = tf.keras.models.Sequential()\n",
        "model.add(tf.keras.layers.Dense(15,input_shape=[len(X.columns)],kernel_initializer=tf.keras.initializers.GlorotNormal(seed=40)))\n",
        "model.add(tf.keras.layers.Dense(14))\n",
        "model.add(tf.keras.layers.Activation('relu'))\n",
        "model.add(tf.keras.layers.BatchNormalization())\n",
        "model.add(tf.keras.layers.Dropout(rate=0.2))\n",
        "model.add(tf.keras.layers.Dense(10))\n",
        "model.add(tf.keras.layers.Activation('relu'))\n",
        "model.add(tf.keras.layers.BatchNormalization())\n",
        "model.add(tf.keras.layers.Dropout(rate=0.2))\n",
        "model.add(tf.keras.layers.Dense(8))\n",
        "model.add(tf.keras.layers.Activation('relu'))\n",
        "model.add(tf.keras.layers.BatchNormalization())\n",
        "model.add(tf.keras.layers.Dropout(rate=0.2))\n",
        "model.add(tf.keras.layers.Dense(1, activation='linear'))\n",
        "\n",
        "model.compile(loss='mae',\n",
        "              optimizer=tf.keras.optimizers.Adamax(),\n",
        "              metrics=tf.keras.metrics.RootMeanSquaredError())\n",
        "\n",
        "history = model.fit(X_train_std, y_train, epochs=40, batch_size=70,\n",
        "                    validation_data=(X_val_std, y_val),verbose=1)"
      ]
    },
    {
      "cell_type": "code",
      "execution_count": null,
      "metadata": {
        "colab": {
          "base_uri": "https://localhost:8080/",
          "height": 297
        },
        "id": "zs_CUZx2Cnhl",
        "outputId": "6209d234-3dd1-478b-8211-d1f97ef07106"
      },
      "outputs": [
        {
          "output_type": "execute_result",
          "data": {
            "text/plain": [
              "<matplotlib.legend.Legend at 0x7f3a52e7b090>"
            ]
          },
          "metadata": {},
          "execution_count": 37
        },
        {
          "output_type": "display_data",
          "data": {
            "text/plain": [
              "<Figure size 432x288 with 1 Axes>"
            ],
            "image/png": "[encoded data removed]"
          },
          "metadata": {
            "needs_background": "light"
          }
        }
      ],
      "source": [
        "fig, ax = plt.subplots()\n",
        "ax.plot(range(40),history.history['loss'],label='train loss')\n",
        "ax.plot(range(40),history.history['val_loss'],label='val loss')\n",
        "#plt.gca().set_ylim(220000, 223000)\n",
        "ax.set_xlabel('Epoch')\n",
        "ax.set_ylabel('Loss')\n",
        "plt.legend()"
      ]
    },
    {
      "cell_type": "markdown",
      "metadata": {
        "id": "HdWETpE3DGD_"
      },
      "source": [
        "## Momentum & Nesterov"
      ]
    },
    {
      "cell_type": "code",
      "execution_count": null,
      "metadata": {
        "colab": {
          "base_uri": "https://localhost:8080/"
        },
        "id": "WxgYfCPQ3wVG",
        "outputId": "b4bfac4b-bc15-42f0-8a42-a3b464863dc5"
      },
      "outputs": [
        {
          "output_type": "stream",
          "name": "stdout",
          "text": [
            "Epoch 1/100\n",
            "3/3 [==============================] - 1s 129ms/step - loss: 13192.4141 - val_loss: 14990.9277\n",
            "Epoch 2/100\n",
            "3/3 [==============================] - 0s 19ms/step - loss: 13192.2549 - val_loss: 14990.7266\n",
            "Epoch 3/100\n",
            "3/3 [==============================] - 0s 23ms/step - loss: 13192.0713 - val_loss: 14990.4375\n",
            "Epoch 4/100\n",
            "3/3 [==============================] - 0s 13ms/step - loss: 13191.7471 - val_loss: 14990.0420\n",
            "Epoch 5/100\n",
            "3/3 [==============================] - 0s 13ms/step - loss: 13191.3662 - val_loss: 14989.5557\n",
            "Epoch 6/100\n",
            "3/3 [==============================] - 0s 13ms/step - loss: 13190.9668 - val_loss: 14988.9697\n",
            "Epoch 7/100\n",
            "3/3 [==============================] - 0s 15ms/step - loss: 13190.3721 - val_loss: 14988.2295\n",
            "Epoch 8/100\n",
            "3/3 [==============================] - 0s 13ms/step - loss: 13189.7666 - val_loss: 14987.2939\n",
            "Epoch 9/100\n",
            "3/3 [==============================] - 0s 14ms/step - loss: 13188.8457 - val_loss: 14985.9766\n",
            "Epoch 10/100\n",
            "3/3 [==============================] - 0s 13ms/step - loss: 13187.8740 - val_loss: 14984.2090\n",
            "Epoch 11/100\n",
            "3/3 [==============================] - 0s 13ms/step - loss: 13186.2178 - val_loss: 14981.8447\n",
            "Epoch 12/100\n",
            "3/3 [==============================] - 0s 13ms/step - loss: 13183.8672 - val_loss: 14978.6162\n",
            "Epoch 13/100\n",
            "3/3 [==============================] - 0s 13ms/step - loss: 13180.9189 - val_loss: 14973.9219\n",
            "Epoch 14/100\n",
            "3/3 [==============================] - 0s 15ms/step - loss: 13176.6123 - val_loss: 14967.4170\n",
            "Epoch 15/100\n",
            "3/3 [==============================] - 0s 13ms/step - loss: 13170.5596 - val_loss: 14958.7568\n",
            "Epoch 16/100\n",
            "3/3 [==============================] - 0s 14ms/step - loss: 13161.2373 - val_loss: 14946.0840\n",
            "Epoch 17/100\n",
            "3/3 [==============================] - 0s 14ms/step - loss: 13148.2275 - val_loss: 14927.5156\n",
            "Epoch 18/100\n",
            "3/3 [==============================] - 0s 15ms/step - loss: 13127.5889 - val_loss: 14899.4209\n",
            "Epoch 19/100\n",
            "3/3 [==============================] - 0s 13ms/step - loss: 13100.9648 - val_loss: 14858.9609\n",
            "Epoch 20/100\n",
            "3/3 [==============================] - 0s 13ms/step - loss: 13060.1055 - val_loss: 14800.1553\n",
            "Epoch 21/100\n",
            "3/3 [==============================] - 0s 13ms/step - loss: 12998.8457 - val_loss: 14719.7285\n",
            "Epoch 22/100\n",
            "3/3 [==============================] - 0s 13ms/step - loss: 12909.2344 - val_loss: 14595.9160\n",
            "Epoch 23/100\n",
            "3/3 [==============================] - 0s 14ms/step - loss: 12764.8516 - val_loss: 14416.2637\n",
            "Epoch 24/100\n",
            "3/3 [==============================] - 0s 13ms/step - loss: 12571.9131 - val_loss: 14135.1777\n",
            "Epoch 25/100\n",
            "3/3 [==============================] - 0s 13ms/step - loss: 12257.3623 - val_loss: 13701.7158\n",
            "Epoch 26/100\n",
            "3/3 [==============================] - 0s 22ms/step - loss: 11834.5156 - val_loss: 13063.9023\n",
            "Epoch 27/100\n",
            "3/3 [==============================] - 0s 13ms/step - loss: 11131.4707 - val_loss: 12094.8779\n",
            "Epoch 28/100\n",
            "3/3 [==============================] - 0s 13ms/step - loss: 10152.4814 - val_loss: 10648.9082\n",
            "Epoch 29/100\n",
            "3/3 [==============================] - 0s 13ms/step - loss: 8671.9951 - val_loss: 8688.5273\n",
            "Epoch 30/100\n",
            "3/3 [==============================] - 0s 14ms/step - loss: 6760.2578 - val_loss: 6657.0327\n",
            "Epoch 31/100\n",
            "3/3 [==============================] - 0s 13ms/step - loss: 5815.4756 - val_loss: 6809.1675\n",
            "Epoch 32/100\n",
            "3/3 [==============================] - 0s 13ms/step - loss: 5488.6865 - val_loss: 78429.1094\n",
            "Epoch 33/100\n",
            "3/3 [==============================] - 0s 13ms/step - loss: 5771.4395 - val_loss: 320972.6875\n",
            "Epoch 34/100\n",
            "3/3 [==============================] - 0s 15ms/step - loss: 5809.5405 - val_loss: 304669.0938\n",
            "Epoch 35/100\n",
            "3/3 [==============================] - 0s 18ms/step - loss: 5715.2949 - val_loss: 203032.1875\n",
            "Epoch 36/100\n",
            "3/3 [==============================] - 0s 15ms/step - loss: 5083.1904 - val_loss: 316837.5000\n",
            "Epoch 37/100\n",
            "3/3 [==============================] - 0s 24ms/step - loss: 3983.7075 - val_loss: 287591.3438\n",
            "Epoch 38/100\n",
            "3/3 [==============================] - 0s 14ms/step - loss: 3495.8962 - val_loss: 245719.2188\n",
            "Epoch 39/100\n",
            "3/3 [==============================] - 0s 14ms/step - loss: 3366.1860 - val_loss: 222703.4219\n",
            "Epoch 40/100\n",
            "3/3 [==============================] - 0s 22ms/step - loss: 3797.0251 - val_loss: 291194.4375\n",
            "Epoch 41/100\n",
            "3/3 [==============================] - 0s 13ms/step - loss: 2835.5303 - val_loss: 277854.6562\n",
            "Epoch 42/100\n",
            "3/3 [==============================] - 0s 15ms/step - loss: 3381.4500 - val_loss: 271975.8125\n",
            "Epoch 43/100\n",
            "3/3 [==============================] - 0s 16ms/step - loss: 3522.4827 - val_loss: 220358.6875\n",
            "Epoch 44/100\n",
            "3/3 [==============================] - 0s 13ms/step - loss: 3789.0476 - val_loss: 96611.7188\n",
            "Epoch 45/100\n",
            "3/3 [==============================] - 0s 13ms/step - loss: 3579.7620 - val_loss: 162920.7188\n",
            "Epoch 46/100\n",
            "3/3 [==============================] - 0s 13ms/step - loss: 3661.9983 - val_loss: 139644.4844\n",
            "Epoch 47/100\n",
            "3/3 [==============================] - 0s 15ms/step - loss: 3321.6450 - val_loss: 117055.5781\n",
            "Epoch 48/100\n",
            "3/3 [==============================] - 0s 15ms/step - loss: 3554.9153 - val_loss: 104273.1094\n",
            "Epoch 49/100\n",
            "3/3 [==============================] - 0s 16ms/step - loss: 3401.2678 - val_loss: 97717.7578\n",
            "Epoch 50/100\n",
            "3/3 [==============================] - 0s 14ms/step - loss: 2863.0281 - val_loss: 89743.0391\n",
            "Epoch 51/100\n",
            "3/3 [==============================] - 0s 13ms/step - loss: 3227.9314 - val_loss: 79888.4922\n",
            "Epoch 52/100\n",
            "3/3 [==============================] - 0s 13ms/step - loss: 2968.6704 - val_loss: 65231.9062\n",
            "Epoch 53/100\n",
            "3/3 [==============================] - 0s 13ms/step - loss: 3219.0823 - val_loss: 51072.5586\n",
            "Epoch 54/100\n",
            "3/3 [==============================] - 0s 15ms/step - loss: 3010.4717 - val_loss: 44025.6680\n",
            "Epoch 55/100\n",
            "3/3 [==============================] - 0s 14ms/step - loss: 3178.6567 - val_loss: 41740.5820\n",
            "Epoch 56/100\n",
            "3/3 [==============================] - 0s 14ms/step - loss: 3260.8967 - val_loss: 38497.5156\n",
            "Epoch 57/100\n",
            "3/3 [==============================] - 0s 14ms/step - loss: 3413.1956 - val_loss: 37674.8789\n",
            "Epoch 58/100\n",
            "3/3 [==============================] - 0s 14ms/step - loss: 2898.9741 - val_loss: 33963.7734\n",
            "Epoch 59/100\n",
            "3/3 [==============================] - 0s 13ms/step - loss: 3178.5940 - val_loss: 30019.6211\n",
            "Epoch 60/100\n",
            "3/3 [==============================] - 0s 13ms/step - loss: 3237.5432 - val_loss: 26297.2598\n",
            "Epoch 61/100\n",
            "3/3 [==============================] - 0s 13ms/step - loss: 2872.8779 - val_loss: 24554.5508\n",
            "Epoch 62/100\n",
            "3/3 [==============================] - 0s 13ms/step - loss: 3197.4060 - val_loss: 20764.9062\n",
            "Epoch 63/100\n",
            "3/3 [==============================] - 0s 13ms/step - loss: 3356.7458 - val_loss: 17345.0957\n",
            "Epoch 64/100\n",
            "3/3 [==============================] - 0s 26ms/step - loss: 3260.5415 - val_loss: 14565.9346\n",
            "Epoch 65/100\n",
            "3/3 [==============================] - 0s 12ms/step - loss: 3251.0415 - val_loss: 13370.0332\n",
            "Epoch 66/100\n",
            "3/3 [==============================] - 0s 13ms/step - loss: 3096.0693 - val_loss: 11418.1455\n",
            "Epoch 67/100\n",
            "3/3 [==============================] - 0s 14ms/step - loss: 3269.0522 - val_loss: 10488.4326\n",
            "Epoch 68/100\n",
            "3/3 [==============================] - 0s 13ms/step - loss: 3356.1873 - val_loss: 10086.1436\n",
            "Epoch 69/100\n",
            "3/3 [==============================] - 0s 13ms/step - loss: 3355.8572 - val_loss: 10042.7549\n",
            "Epoch 70/100\n",
            "3/3 [==============================] - 0s 13ms/step - loss: 2998.4690 - val_loss: 9726.8535\n",
            "Epoch 71/100\n",
            "3/3 [==============================] - 0s 13ms/step - loss: 3029.0950 - val_loss: 9550.5693\n",
            "Epoch 72/100\n",
            "3/3 [==============================] - 0s 13ms/step - loss: 3189.5835 - val_loss: 9446.3027\n",
            "Epoch 73/100\n",
            "3/3 [==============================] - 0s 13ms/step - loss: 2694.8274 - val_loss: 9983.5625\n",
            "Epoch 74/100\n",
            "3/3 [==============================] - 0s 14ms/step - loss: 3036.5913 - val_loss: 10158.8662\n",
            "Epoch 75/100\n",
            "3/3 [==============================] - 0s 13ms/step - loss: 3303.9514 - val_loss: 10385.0176\n",
            "Epoch 76/100\n",
            "3/3 [==============================] - 0s 13ms/step - loss: 3345.0132 - val_loss: 10865.7783\n",
            "Epoch 77/100\n",
            "3/3 [==============================] - 0s 13ms/step - loss: 3201.0547 - val_loss: 11333.7217\n",
            "Epoch 78/100\n",
            "3/3 [==============================] - 0s 13ms/step - loss: 3058.8923 - val_loss: 10839.4912\n",
            "Epoch 79/100\n",
            "3/3 [==============================] - 0s 20ms/step - loss: 2827.7129 - val_loss: 9919.3857\n",
            "Epoch 80/100\n",
            "3/3 [==============================] - 0s 13ms/step - loss: 3102.8096 - val_loss: 8145.7061\n",
            "Epoch 81/100\n",
            "3/3 [==============================] - 0s 14ms/step - loss: 3042.6462 - val_loss: 6538.2505\n",
            "Epoch 82/100\n",
            "3/3 [==============================] - 0s 14ms/step - loss: 3030.5859 - val_loss: 5607.9585\n",
            "Epoch 83/100\n",
            "3/3 [==============================] - 0s 14ms/step - loss: 2858.9424 - val_loss: 5359.5396\n",
            "Epoch 84/100\n",
            "3/3 [==============================] - 0s 14ms/step - loss: 3109.8901 - val_loss: 5484.4463\n",
            "Epoch 85/100\n",
            "3/3 [==============================] - 0s 14ms/step - loss: 3235.2876 - val_loss: 5807.4277\n",
            "Epoch 86/100\n",
            "3/3 [==============================] - 0s 14ms/step - loss: 3128.0298 - val_loss: 6433.5483\n",
            "Epoch 87/100\n",
            "3/3 [==============================] - 0s 13ms/step - loss: 2905.9712 - val_loss: 6148.3867\n",
            "Epoch 88/100\n",
            "3/3 [==============================] - 0s 14ms/step - loss: 3049.6643 - val_loss: 6009.0532\n",
            "Epoch 89/100\n",
            "3/3 [==============================] - 0s 18ms/step - loss: 3076.3481 - val_loss: 5737.9165\n",
            "Epoch 90/100\n",
            "3/3 [==============================] - 0s 14ms/step - loss: 3040.9163 - val_loss: 5018.1235\n",
            "Epoch 91/100\n",
            "3/3 [==============================] - 0s 14ms/step - loss: 2547.8821 - val_loss: 4824.2881\n",
            "Epoch 92/100\n",
            "3/3 [==============================] - 0s 16ms/step - loss: 2969.2214 - val_loss: 5347.5254\n",
            "Epoch 93/100\n",
            "3/3 [==============================] - 0s 13ms/step - loss: 3292.2275 - val_loss: 5562.7524\n",
            "Epoch 94/100\n",
            "3/3 [==============================] - 0s 12ms/step - loss: 3587.1313 - val_loss: 5698.9224\n",
            "Epoch 95/100\n",
            "3/3 [==============================] - 0s 13ms/step - loss: 2952.5796 - val_loss: 6206.9307\n",
            "Epoch 96/100\n",
            "3/3 [==============================] - 0s 15ms/step - loss: 3072.2715 - val_loss: 6711.2090\n",
            "Epoch 97/100\n",
            "3/3 [==============================] - 0s 13ms/step - loss: 3123.3066 - val_loss: 6739.9238\n",
            "Epoch 98/100\n",
            "3/3 [==============================] - 0s 13ms/step - loss: 3548.3672 - val_loss: 6444.0806\n",
            "Epoch 99/100\n",
            "3/3 [==============================] - 0s 13ms/step - loss: 3246.1636 - val_loss: 6125.0366\n",
            "Epoch 100/100\n",
            "3/3 [==============================] - 0s 13ms/step - loss: 3422.3279 - val_loss: 5765.6577\n"
          ]
        }
      ],
      "source": [
        "tf.random.set_seed(42) # gunakan set_seed untuk menghasilkan model yang mempunyai performa yang sama\n",
        "\n",
        "model = tf.keras.models.Sequential()\n",
        "\n",
        "model.add(tf.keras.layers.Dense(15,input_shape=[len(X.columns)],kernel_initializer=tf.keras.initializers.GlorotNormal(seed=40)))\n",
        "\n",
        "model.add(tf.keras.layers.Dense(14))\n",
        "model.add(tf.keras.layers.Activation('relu'))\n",
        "model.add(tf.keras.layers.BatchNormalization())\n",
        "model.add(tf.keras.layers.Dropout(rate=0.2))\n",
        "\n",
        "model.add(tf.keras.layers.Dense(10,kernel_regularizer=tf.keras.regularizers.L2()))\n",
        "model.add(tf.keras.layers.Activation('relu'))\n",
        "model.add(tf.keras.layers.BatchNormalization())\n",
        "#model.add(tf.keras.layers.Dropout(rate=0.2))\n",
        "\n",
        "model.add(tf.keras.layers.Dense(8))\n",
        "model.add(tf.keras.layers.Activation('relu'))\n",
        "model.add(tf.keras.layers.BatchNormalization())\n",
        "model.add(tf.keras.layers.Dropout(rate=0.2))\n",
        "\n",
        "model.add(tf.keras.layers.Dense(1, activation='linear'))\n",
        "\n",
        "model.compile(loss='mae',\n",
        "              optimizer=tf.keras.optimizers.SGD(momentum=0.9, nesterov=True))\n",
        "\n",
        "history = model.fit(X_train_std, y_train, epochs=100, batch_size=70,\n",
        "                    validation_data=(X_val_std, y_val),verbose=1)"
      ]
    },
    {
      "cell_type": "code",
      "execution_count": null,
      "metadata": {
        "colab": {
          "base_uri": "https://localhost:8080/",
          "height": 308
        },
        "id": "rhEbIRmN4aD7",
        "outputId": "7a87a61e-656f-4fb5-eff7-90ed70d2f8e9"
      },
      "outputs": [
        {
          "output_type": "execute_result",
          "data": {
            "text/plain": [
              "<matplotlib.legend.Legend at 0x7f3a52ef8fd0>"
            ]
          },
          "metadata": {},
          "execution_count": 39
        },
        {
          "output_type": "display_data",
          "data": {
            "text/plain": [
              "<Figure size 432x288 with 1 Axes>"
            ],
            "image/png": "[encoded data removed]"
          },
          "metadata": {
            "needs_background": "light"
          }
        }
      ],
      "source": [
        "fig, ax = plt.subplots()\n",
        "ax.plot(range(100),history.history['loss'],label='train loss')\n",
        "ax.plot(range(100),history.history['val_loss'],label='val loss')\n",
        "#plt.gca().set_ylim(220000, 223000)\n",
        "ax.set_xlabel('Epoch')\n",
        "ax.set_ylabel('Loss')\n",
        "plt.legend()"
      ]
    },
    {
      "cell_type": "code",
      "execution_count": null,
      "metadata": {
        "colab": {
          "base_uri": "https://localhost:8080/"
        },
        "id": "KiBP60YaCjNr",
        "outputId": "3c7931af-fa2e-434e-c472-17470e5b6a4f"
      },
      "outputs": [
        {
          "output_type": "stream",
          "name": "stdout",
          "text": [
            "Epoch 1/40\n",
            "3/3 [==============================] - 1s 89ms/step - loss: 13192.4141 - val_loss: 14990.9277\n",
            "Epoch 2/40\n",
            "3/3 [==============================] - 0s 13ms/step - loss: 13192.2549 - val_loss: 14990.7266\n",
            "Epoch 3/40\n",
            "3/3 [==============================] - 0s 12ms/step - loss: 13192.0713 - val_loss: 14990.4375\n",
            "Epoch 4/40\n",
            "3/3 [==============================] - 0s 16ms/step - loss: 13191.7471 - val_loss: 14990.0420\n",
            "Epoch 5/40\n",
            "3/3 [==============================] - 0s 12ms/step - loss: 13191.3662 - val_loss: 14989.5557\n",
            "Epoch 6/40\n",
            "3/3 [==============================] - 0s 13ms/step - loss: 13190.9668 - val_loss: 14988.9697\n",
            "Epoch 7/40\n",
            "3/3 [==============================] - 0s 12ms/step - loss: 13190.3721 - val_loss: 14988.2295\n",
            "Epoch 8/40\n",
            "3/3 [==============================] - 0s 12ms/step - loss: 13189.7666 - val_loss: 14987.2939\n",
            "Epoch 9/40\n",
            "3/3 [==============================] - 0s 13ms/step - loss: 13188.8457 - val_loss: 14985.9766\n",
            "Epoch 10/40\n",
            "3/3 [==============================] - 0s 22ms/step - loss: 13187.8740 - val_loss: 14984.2090\n",
            "Epoch 11/40\n",
            "3/3 [==============================] - 0s 13ms/step - loss: 13186.2178 - val_loss: 14981.8447\n",
            "Epoch 12/40\n",
            "3/3 [==============================] - 0s 13ms/step - loss: 13183.8672 - val_loss: 14978.6162\n",
            "Epoch 13/40\n",
            "3/3 [==============================] - 0s 12ms/step - loss: 13180.9189 - val_loss: 14973.9219\n",
            "Epoch 14/40\n",
            "3/3 [==============================] - 0s 12ms/step - loss: 13176.6123 - val_loss: 14967.4170\n",
            "Epoch 15/40\n",
            "3/3 [==============================] - 0s 12ms/step - loss: 13170.5596 - val_loss: 14958.7568\n",
            "Epoch 16/40\n",
            "3/3 [==============================] - 0s 12ms/step - loss: 13161.2373 - val_loss: 14946.0840\n",
            "Epoch 17/40\n",
            "3/3 [==============================] - 0s 12ms/step - loss: 13148.2275 - val_loss: 14927.5156\n",
            "Epoch 18/40\n",
            "3/3 [==============================] - 0s 12ms/step - loss: 13127.5889 - val_loss: 14899.4209\n",
            "Epoch 19/40\n",
            "3/3 [==============================] - 0s 12ms/step - loss: 13100.9648 - val_loss: 14858.9609\n",
            "Epoch 20/40\n",
            "3/3 [==============================] - 0s 14ms/step - loss: 13060.1055 - val_loss: 14800.1553\n",
            "Epoch 21/40\n",
            "3/3 [==============================] - 0s 12ms/step - loss: 12998.8457 - val_loss: 14719.7285\n",
            "Epoch 22/40\n",
            "3/3 [==============================] - 0s 12ms/step - loss: 12909.2344 - val_loss: 14595.9160\n",
            "Epoch 23/40\n",
            "3/3 [==============================] - 0s 13ms/step - loss: 12764.8516 - val_loss: 14416.2617\n",
            "Epoch 24/40\n",
            "3/3 [==============================] - 0s 13ms/step - loss: 12571.9131 - val_loss: 14135.1787\n",
            "Epoch 25/40\n",
            "3/3 [==============================] - 0s 14ms/step - loss: 12257.3633 - val_loss: 13701.7139\n",
            "Epoch 26/40\n",
            "3/3 [==============================] - 0s 13ms/step - loss: 11834.5146 - val_loss: 13063.8975\n",
            "Epoch 27/40\n",
            "3/3 [==============================] - 0s 13ms/step - loss: 11131.4766 - val_loss: 12094.8613\n",
            "Epoch 28/40\n",
            "3/3 [==============================] - 0s 13ms/step - loss: 10152.4004 - val_loss: 10649.0039\n",
            "Epoch 29/40\n",
            "3/3 [==============================] - 0s 14ms/step - loss: 8672.2314 - val_loss: 8681.9580\n",
            "Epoch 30/40\n",
            "3/3 [==============================] - 0s 13ms/step - loss: 6760.8257 - val_loss: 6684.0176\n",
            "Epoch 31/40\n",
            "3/3 [==============================] - 0s 16ms/step - loss: 5809.8477 - val_loss: 7934.3726\n",
            "Epoch 32/40\n",
            "3/3 [==============================] - 0s 13ms/step - loss: 5443.8179 - val_loss: 119656.3750\n",
            "Epoch 33/40\n",
            "3/3 [==============================] - 0s 14ms/step - loss: 5714.9312 - val_loss: 153549.4219\n",
            "Epoch 34/40\n",
            "3/3 [==============================] - 0s 13ms/step - loss: 5583.1680 - val_loss: 410595.0000\n",
            "Epoch 35/40\n",
            "3/3 [==============================] - 0s 13ms/step - loss: 5558.2222 - val_loss: 301673.0312\n",
            "Epoch 36/40\n",
            "3/3 [==============================] - 0s 12ms/step - loss: 4753.9775 - val_loss: 505595.8438\n",
            "Epoch 37/40\n",
            "3/3 [==============================] - 0s 13ms/step - loss: 3861.3606 - val_loss: 532001.6875\n",
            "Epoch 38/40\n",
            "3/3 [==============================] - 0s 13ms/step - loss: 3658.3745 - val_loss: 578832.8750\n",
            "Epoch 39/40\n",
            "3/3 [==============================] - 0s 14ms/step - loss: 3759.3411 - val_loss: 678200.0625\n",
            "Epoch 40/40\n",
            "3/3 [==============================] - 0s 13ms/step - loss: 3844.5464 - val_loss: 511093.0938\n"
          ]
        }
      ],
      "source": [
        "tf.random.set_seed(42) # gunakan set_seed untuk menghasilkan model yang mempunyai performa yang sama\n",
        "\n",
        "model = tf.keras.models.Sequential()\n",
        "\n",
        "model.add(tf.keras.layers.Dense(15,input_shape=[len(X.columns)],kernel_initializer=tf.keras.initializers.GlorotNormal(seed=40)))\n",
        "\n",
        "model.add(tf.keras.layers.Dense(14))\n",
        "model.add(tf.keras.layers.Activation('relu'))\n",
        "model.add(tf.keras.layers.BatchNormalization())\n",
        "model.add(tf.keras.layers.Dropout(rate=0.2))\n",
        "\n",
        "model.add(tf.keras.layers.Dense(10,kernel_regularizer=tf.keras.regularizers.L2()))\n",
        "model.add(tf.keras.layers.Activation('relu'))\n",
        "model.add(tf.keras.layers.BatchNormalization())\n",
        "#model.add(tf.keras.layers.Dropout(rate=0.2))\n",
        "\n",
        "model.add(tf.keras.layers.Dense(8))\n",
        "model.add(tf.keras.layers.Activation('relu'))\n",
        "model.add(tf.keras.layers.BatchNormalization())\n",
        "model.add(tf.keras.layers.Dropout(rate=0.2))\n",
        "\n",
        "model.add(tf.keras.layers.Dense(1, activation='linear'))\n",
        "\n",
        "model.compile(loss='mae',\n",
        "              optimizer=tf.keras.optimizers.SGD(momentum=0.9, nesterov=True))\n",
        "\n",
        "history = model.fit(X_train_std, y_train, epochs=40, batch_size=70,\n",
        "                    validation_data=(X_val_std, y_val),verbose=1)"
      ]
    },
    {
      "cell_type": "code",
      "execution_count": null,
      "metadata": {
        "colab": {
          "base_uri": "https://localhost:8080/",
          "height": 297
        },
        "id": "-Wv8HqvioxPz",
        "outputId": "36bafd43-5e39-437d-a753-a0e763d027c7"
      },
      "outputs": [
        {
          "output_type": "execute_result",
          "data": {
            "text/plain": [
              "<matplotlib.legend.Legend at 0x7f3a52852890>"
            ]
          },
          "metadata": {},
          "execution_count": 41
        },
        {
          "output_type": "display_data",
          "data": {
            "text/plain": [
              "<Figure size 432x288 with 1 Axes>"
            ],
            "image/png": "[encoded data removed]"
          },
          "metadata": {
            "needs_background": "light"
          }
        }
      ],
      "source": [
        "fig, ax = plt.subplots()\n",
        "ax.plot(range(40),history.history['loss'],label='train loss')\n",
        "ax.plot(range(40),history.history['val_loss'],label='val loss')\n",
        "#plt.gca().set_ylim(220000, 223000)\n",
        "ax.set_xlabel('Epoch')\n",
        "ax.set_ylabel('Loss')\n",
        "plt.legend()"
      ]
    },
    {
      "cell_type": "markdown",
      "metadata": {
        "id": "VuBxm5dYQjYh"
      },
      "source": [
        "## Final Model"
      ]
    },
    {
      "cell_type": "code",
      "execution_count": null,
      "metadata": {
        "colab": {
          "base_uri": "https://localhost:8080/"
        },
        "id": "UxG3MsU2sk1f",
        "outputId": "29c70c6f-215b-416d-bf00-76cda4326f31"
      },
      "outputs": [
        {
          "output_type": "stream",
          "name": "stdout",
          "text": [
            "Epoch 1/40\n",
            "3/3 [==============================] - 1s 96ms/step - loss: 13192.2256 - mae: 13192.2256 - val_loss: 14990.8652 - val_mae: 14990.8652\n",
            "Epoch 2/40\n",
            "3/3 [==============================] - 0s 13ms/step - loss: 13192.1533 - mae: 13192.1533 - val_loss: 14990.8154 - val_mae: 14990.8154\n",
            "Epoch 3/40\n",
            "3/3 [==============================] - 0s 13ms/step - loss: 13192.0889 - mae: 13192.0889 - val_loss: 14990.7734 - val_mae: 14990.7734\n",
            "Epoch 4/40\n",
            "3/3 [==============================] - 0s 13ms/step - loss: 13192.0166 - mae: 13192.0156 - val_loss: 14990.7295 - val_mae: 14990.7295\n",
            "Epoch 5/40\n",
            "3/3 [==============================] - 0s 13ms/step - loss: 13191.9463 - mae: 13191.9463 - val_loss: 14990.6895 - val_mae: 14990.6895\n",
            "Epoch 6/40\n",
            "3/3 [==============================] - 0s 13ms/step - loss: 13191.8662 - mae: 13191.8662 - val_loss: 14990.6387 - val_mae: 14990.6387\n",
            "Epoch 7/40\n",
            "3/3 [==============================] - 0s 13ms/step - loss: 13191.7930 - mae: 13191.7939 - val_loss: 14990.5947 - val_mae: 14990.5947\n",
            "Epoch 8/40\n",
            "3/3 [==============================] - 0s 15ms/step - loss: 13191.7158 - mae: 13191.7158 - val_loss: 14990.5439 - val_mae: 14990.5439\n",
            "Epoch 9/40\n",
            "3/3 [==============================] - 0s 13ms/step - loss: 13191.6514 - mae: 13191.6514 - val_loss: 14990.4971 - val_mae: 14990.4971\n",
            "Epoch 10/40\n",
            "3/3 [==============================] - 0s 13ms/step - loss: 13191.5762 - mae: 13191.5762 - val_loss: 14990.4375 - val_mae: 14990.4375\n",
            "Epoch 11/40\n",
            "3/3 [==============================] - 0s 13ms/step - loss: 13191.5088 - mae: 13191.5088 - val_loss: 14990.3887 - val_mae: 14990.3887\n",
            "Epoch 12/40\n",
            "3/3 [==============================] - 0s 13ms/step - loss: 13191.4258 - mae: 13191.4258 - val_loss: 14990.3281 - val_mae: 14990.3281\n",
            "Epoch 13/40\n",
            "3/3 [==============================] - 0s 13ms/step - loss: 13191.3535 - mae: 13191.3535 - val_loss: 14990.2734 - val_mae: 14990.2734\n",
            "Epoch 14/40\n",
            "3/3 [==============================] - 0s 13ms/step - loss: 13191.2734 - mae: 13191.2734 - val_loss: 14990.2266 - val_mae: 14990.2266\n",
            "Epoch 15/40\n",
            "3/3 [==============================] - 0s 14ms/step - loss: 13191.2080 - mae: 13191.2080 - val_loss: 14990.1689 - val_mae: 14990.1689\n",
            "Epoch 16/40\n",
            "3/3 [==============================] - 0s 13ms/step - loss: 13191.1240 - mae: 13191.1240 - val_loss: 14990.1523 - val_mae: 14990.1523\n",
            "Epoch 17/40\n",
            "3/3 [==============================] - 0s 15ms/step - loss: 13191.0498 - mae: 13191.0498 - val_loss: 14990.0811 - val_mae: 14990.0811\n",
            "Epoch 18/40\n",
            "3/3 [==============================] - 0s 13ms/step - loss: 13190.9854 - mae: 13190.9854 - val_loss: 14990.0342 - val_mae: 14990.0342\n",
            "Epoch 19/40\n",
            "3/3 [==============================] - 0s 13ms/step - loss: 13190.9033 - mae: 13190.9033 - val_loss: 14989.9834 - val_mae: 14989.9834\n",
            "Epoch 20/40\n",
            "3/3 [==============================] - 0s 14ms/step - loss: 13190.8145 - mae: 13190.8145 - val_loss: 14989.9287 - val_mae: 14989.9287\n",
            "Epoch 21/40\n",
            "3/3 [==============================] - 0s 13ms/step - loss: 13190.7412 - mae: 13190.7412 - val_loss: 14989.8936 - val_mae: 14989.8936\n",
            "Epoch 22/40\n",
            "3/3 [==============================] - 0s 13ms/step - loss: 13190.6416 - mae: 13190.6416 - val_loss: 14989.8398 - val_mae: 14989.8398\n",
            "Epoch 23/40\n",
            "3/3 [==============================] - 0s 14ms/step - loss: 13190.5664 - mae: 13190.5664 - val_loss: 14989.7705 - val_mae: 14989.7705\n",
            "Epoch 24/40\n",
            "3/3 [==============================] - 0s 15ms/step - loss: 13190.4814 - mae: 13190.4814 - val_loss: 14989.6855 - val_mae: 14989.6855\n",
            "Epoch 25/40\n",
            "3/3 [==============================] - 0s 13ms/step - loss: 13190.3877 - mae: 13190.3857 - val_loss: 14989.5947 - val_mae: 14989.5947\n",
            "Epoch 26/40\n",
            "3/3 [==============================] - 0s 13ms/step - loss: 13190.2930 - mae: 13190.2930 - val_loss: 14989.5322 - val_mae: 14989.5322\n",
            "Epoch 27/40\n",
            "3/3 [==============================] - 0s 13ms/step - loss: 13190.2021 - mae: 13190.2021 - val_loss: 14989.4580 - val_mae: 14989.4580\n",
            "Epoch 28/40\n",
            "3/3 [==============================] - 0s 14ms/step - loss: 13190.0957 - mae: 13190.0957 - val_loss: 14989.2988 - val_mae: 14989.2988\n",
            "Epoch 29/40\n",
            "3/3 [==============================] - 0s 14ms/step - loss: 13189.9902 - mae: 13189.9902 - val_loss: 14989.2666 - val_mae: 14989.2666\n",
            "Epoch 30/40\n",
            "3/3 [==============================] - 0s 22ms/step - loss: 13189.8984 - mae: 13189.8984 - val_loss: 14989.1436 - val_mae: 14989.1436\n",
            "Epoch 31/40\n",
            "3/3 [==============================] - 0s 13ms/step - loss: 13189.8096 - mae: 13189.8096 - val_loss: 14988.9463 - val_mae: 14988.9463\n",
            "Epoch 32/40\n",
            "3/3 [==============================] - 0s 13ms/step - loss: 13189.6895 - mae: 13189.6895 - val_loss: 14988.8662 - val_mae: 14988.8662\n",
            "Epoch 33/40\n",
            "3/3 [==============================] - 0s 13ms/step - loss: 13189.5752 - mae: 13189.5752 - val_loss: 14988.7109 - val_mae: 14988.7109\n",
            "Epoch 34/40\n",
            "3/3 [==============================] - 0s 13ms/step - loss: 13189.4629 - mae: 13189.4629 - val_loss: 14988.6221 - val_mae: 14988.6221\n",
            "Epoch 35/40\n",
            "3/3 [==============================] - 0s 13ms/step - loss: 13189.3438 - mae: 13189.3438 - val_loss: 14988.5342 - val_mae: 14988.5342\n",
            "Epoch 36/40\n",
            "3/3 [==============================] - 0s 13ms/step - loss: 13189.2285 - mae: 13189.2285 - val_loss: 14988.3633 - val_mae: 14988.3633\n",
            "Epoch 37/40\n",
            "3/3 [==============================] - 0s 14ms/step - loss: 13189.1123 - mae: 13189.1123 - val_loss: 14988.2969 - val_mae: 14988.2969\n",
            "Epoch 38/40\n",
            "3/3 [==============================] - 0s 13ms/step - loss: 13188.9658 - mae: 13188.9658 - val_loss: 14988.1299 - val_mae: 14988.1299\n",
            "Epoch 39/40\n",
            "3/3 [==============================] - 0s 13ms/step - loss: 13188.8252 - mae: 13188.8252 - val_loss: 14987.9189 - val_mae: 14987.9189\n",
            "Epoch 40/40\n",
            "3/3 [==============================] - 0s 13ms/step - loss: 13188.7139 - mae: 13188.7129 - val_loss: 14987.8408 - val_mae: 14987.8408\n"
          ]
        }
      ],
      "source": [
        "tf.random.set_seed(42) # gunakan set_seed untuk menghasilkan model yang mempunyai performa yang sama\n",
        "\n",
        "model = tf.keras.models.Sequential()\n",
        "model.add(tf.keras.layers.Dense(15,input_shape=[len(X.columns)],kernel_initializer=tf.keras.initializers.GlorotNormal(seed=40)))\n",
        "model.add(tf.keras.layers.Dense(14))\n",
        "model.add(tf.keras.layers.BatchNormalization())\n",
        "model.add(tf.keras.layers.Activation('relu'))\n",
        "\n",
        "model.add(tf.keras.layers.Dense(10))\n",
        "model.add(tf.keras.layers.BatchNormalization())\n",
        "model.add(tf.keras.layers.Activation('relu'))\n",
        "\n",
        "model.add(tf.keras.layers.Dense(8))\n",
        "model.add(tf.keras.layers.BatchNormalization())\n",
        "model.add(tf.keras.layers.Activation('relu'))\n",
        "\n",
        "model.add(tf.keras.layers.Dense(1, activation='linear'))\n",
        "\n",
        "model.compile(loss='mae',\n",
        "              optimizer=tf.keras.optimizers.SGD(),\n",
        "              metrics='mae')\n",
        "\n",
        "history = model.fit(X_train_std, y_train, epochs=40, batch_size=70,\n",
        "                    validation_data=(X_val_std, y_val),verbose=1)"
      ]
    },
    {
      "cell_type": "code",
      "execution_count": null,
      "metadata": {
        "colab": {
          "base_uri": "https://localhost:8080/",
          "height": 297
        },
        "id": "kimwB4WRs8-C",
        "outputId": "737b9b37-ffef-4105-8378-5564a30c35ea"
      },
      "outputs": [
        {
          "output_type": "execute_result",
          "data": {
            "text/plain": [
              "<matplotlib.legend.Legend at 0x7f3a52724a90>"
            ]
          },
          "metadata": {},
          "execution_count": 43
        },
        {
          "output_type": "display_data",
          "data": {
            "text/plain": [
              "<Figure size 432x288 with 1 Axes>"
            ],
            "image/png": "[encoded data removed]"
          },
          "metadata": {
            "needs_background": "light"
          }
        }
      ],
      "source": [
        "fig, ax = plt.subplots()\n",
        "ax.plot(range(40),history.history['loss'],label='train loss')\n",
        "ax.plot(range(40),history.history['val_loss'],label='val loss')\n",
        "#plt.gca().set_ylim(220000, 223000)\n",
        "ax.set_xlabel('Epoch')\n",
        "ax.set_ylabel('Loss')\n",
        "plt.legend()"
      ]
    },
    {
      "cell_type": "markdown",
      "metadata": {
        "id": "yYN0zLN9TWjP"
      },
      "source": [
        "## Evaluation & Prediction"
      ]
    },
    {
      "cell_type": "code",
      "execution_count": null,
      "metadata": {
        "colab": {
          "base_uri": "https://localhost:8080/"
        },
        "id": "LIInSDLSR2nF",
        "outputId": "b3dd9164-ab4a-4343-f36e-c7204bfee3c1"
      },
      "outputs": [
        {
          "output_type": "stream",
          "name": "stdout",
          "text": [
            "1/1 [==============================] - 0s 19ms/step - loss: 10843.6729 - mae: 10843.6729\n"
          ]
        },
        {
          "output_type": "execute_result",
          "data": {
            "text/plain": [
              "[10843.6728515625, 10843.6728515625]"
            ]
          },
          "metadata": {},
          "execution_count": 50
        }
      ],
      "source": [
        "model.evaluate(X_test_std, y_test) "
      ]
    },
    {
      "cell_type": "code",
      "execution_count": null,
      "metadata": {
        "colab": {
          "base_uri": "https://localhost:8080/"
        },
        "id": "9VdElOpoPJ48",
        "outputId": "aa7c4a27-2f4c-4695-eaa4-4b6557fde311"
      },
      "outputs": [
        {
          "output_type": "execute_result",
          "data": {
            "text/plain": [
              "array([-0.58319394, -0.24429326, -0.47797525,  1.14134388, -0.16280911,\n",
              "        0.3234921 ,  0.43540411, -0.70717045, -0.24987162, -0.15567921])"
            ]
          },
          "metadata": {},
          "execution_count": 51
        }
      ],
      "source": [
        "X_test_std[1]"
      ]
    },
    {
      "cell_type": "code",
      "execution_count": null,
      "metadata": {
        "id": "sYJTr-LYSEbU"
      },
      "outputs": [],
      "source": [
        "X_new = X_test_std[1]"
      ]
    },
    {
      "cell_type": "code",
      "execution_count": null,
      "metadata": {
        "colab": {
          "base_uri": "https://localhost:8080/"
        },
        "id": "KMz5VhDkSf-r",
        "outputId": "743d0a6e-1cd4-4080-978c-6af837b67999"
      },
      "outputs": [
        {
          "output_type": "execute_result",
          "data": {
            "text/plain": [
              "(10,)"
            ]
          },
          "metadata": {},
          "execution_count": 53
        }
      ],
      "source": [
        "X_new.shape"
      ]
    },
    {
      "cell_type": "code",
      "execution_count": null,
      "metadata": {
        "id": "5aKnHHPyS32g"
      },
      "outputs": [],
      "source": [
        "X_new = X_new.reshape(1,10)"
      ]
    },
    {
      "cell_type": "code",
      "execution_count": null,
      "metadata": {
        "colab": {
          "base_uri": "https://localhost:8080/"
        },
        "id": "o0dWlayXTFGG",
        "outputId": "0804bf7c-d539-4b6f-e53c-35657d7eb7da"
      },
      "outputs": [
        {
          "output_type": "execute_result",
          "data": {
            "text/plain": [
              "(1, 10)"
            ]
          },
          "metadata": {},
          "execution_count": 55
        }
      ],
      "source": [
        "X_new.shape"
      ]
    },
    {
      "cell_type": "code",
      "execution_count": null,
      "metadata": {
        "id": "ivFo-QHuShks",
        "colab": {
          "base_uri": "https://localhost:8080/"
        },
        "outputId": "9c922c4c-c55e-4bf9-8029-342b2c6d013c"
      },
      "outputs": [
        {
          "output_type": "stream",
          "name": "stdout",
          "text": [
            "1/1 [==============================] - 0s 414ms/step\n"
          ]
        }
      ],
      "source": [
        "y_pred = model.predict(X_new)"
      ]
    },
    {
      "cell_type": "markdown",
      "metadata": {
        "id": "PQXwaGQMAq7v"
      },
      "source": [
        "hasil prediksi"
      ]
    },
    {
      "cell_type": "code",
      "execution_count": null,
      "metadata": {
        "colab": {
          "base_uri": "https://localhost:8080/"
        },
        "id": "EFeT2YlPSvBV",
        "outputId": "f1af3107-2ab3-49fc-f2f9-f57c4c50d1ab"
      },
      "outputs": [
        {
          "output_type": "execute_result",
          "data": {
            "text/plain": [
              "array([[1.4379995]], dtype=float32)"
            ]
          },
          "metadata": {},
          "execution_count": 57
        }
      ],
      "source": [
        "y_pred"
      ]
    },
    {
      "cell_type": "markdown",
      "metadata": {
        "id": "xTu8pUOYAsyb"
      },
      "source": [
        "membandingkan dengan data asli"
      ]
    },
    {
      "cell_type": "code",
      "execution_count": null,
      "metadata": {
        "colab": {
          "base_uri": "https://localhost:8080/"
        },
        "id": "V-q9g_GTAhKD",
        "outputId": "cbd9df4e-dd72-4f41-f999-8690318ccdae"
      },
      "outputs": [
        {
          "output_type": "execute_result",
          "data": {
            "text/plain": [
              "7775.0"
            ]
          },
          "metadata": {},
          "execution_count": 58
        }
      ],
      "source": [
        "y_test.iloc[1]"
      ]
    },
    {
      "cell_type": "code",
      "execution_count": null,
      "metadata": {
        "colab": {
          "base_uri": "https://localhost:8080/"
        },
        "id": "pk4CfeXeP8Ur",
        "outputId": "0470dd7e-e41d-4771-c708-d98a8251bc15"
      },
      "outputs": [
        {
          "output_type": "execute_result",
          "data": {
            "text/plain": [
              "array([[7773.562]], dtype=float32)"
            ]
          },
          "metadata": {},
          "execution_count": 59
        }
      ],
      "source": [
        "y_test.iloc[1] - y_pred"
      ]
    },
    {
      "cell_type": "markdown",
      "metadata": {
        "id": "KTgnPN6s7bo4"
      },
      "source": [
        "## Scaling Y"
      ]
    },
    {
      "cell_type": "code",
      "execution_count": null,
      "metadata": {
        "id": "16FUO1ziTTVi"
      },
      "outputs": [],
      "source": [
        "y_train_std = y_train/y_train.max()\n",
        "y_val_std = y_val/y_val.max()\n",
        "y_test_std = y_test/y_test.max()"
      ]
    },
    {
      "cell_type": "code",
      "execution_count": null,
      "metadata": {
        "colab": {
          "base_uri": "https://localhost:8080/"
        },
        "id": "1UcReJWD7Zmn",
        "outputId": "c7a35bfd-b0b5-4327-a5bb-937b4d097f31"
      },
      "outputs": [
        {
          "output_type": "stream",
          "name": "stdout",
          "text": [
            "Epoch 1/40\n",
            "3/3 [==============================] - 1s 96ms/step - loss: 0.4149 - root_mean_squared_error: 0.4659 - val_loss: 0.2289 - val_root_mean_squared_error: 0.3183\n",
            "Epoch 2/40\n",
            "3/3 [==============================] - 0s 15ms/step - loss: 0.3649 - root_mean_squared_error: 0.4160 - val_loss: 0.2229 - val_root_mean_squared_error: 0.3070\n",
            "Epoch 3/40\n",
            "3/3 [==============================] - 0s 14ms/step - loss: 0.3379 - root_mean_squared_error: 0.3885 - val_loss: 0.2205 - val_root_mean_squared_error: 0.3077\n",
            "Epoch 4/40\n",
            "3/3 [==============================] - 0s 21ms/step - loss: 0.2961 - root_mean_squared_error: 0.3315 - val_loss: 0.2060 - val_root_mean_squared_error: 0.2900\n",
            "Epoch 5/40\n",
            "3/3 [==============================] - 0s 14ms/step - loss: 0.2946 - root_mean_squared_error: 0.3462 - val_loss: 0.2024 - val_root_mean_squared_error: 0.2859\n",
            "Epoch 6/40\n",
            "3/3 [==============================] - 0s 15ms/step - loss: 0.2662 - root_mean_squared_error: 0.3106 - val_loss: 0.1974 - val_root_mean_squared_error: 0.2825\n",
            "Epoch 7/40\n",
            "3/3 [==============================] - 0s 14ms/step - loss: 0.2428 - root_mean_squared_error: 0.2873 - val_loss: 0.1861 - val_root_mean_squared_error: 0.2666\n",
            "Epoch 8/40\n",
            "3/3 [==============================] - 0s 14ms/step - loss: 0.2222 - root_mean_squared_error: 0.2765 - val_loss: 0.1759 - val_root_mean_squared_error: 0.2581\n",
            "Epoch 9/40\n",
            "3/3 [==============================] - 0s 17ms/step - loss: 0.2056 - root_mean_squared_error: 0.2636 - val_loss: 0.1656 - val_root_mean_squared_error: 0.2478\n",
            "Epoch 10/40\n",
            "3/3 [==============================] - 0s 14ms/step - loss: 0.1902 - root_mean_squared_error: 0.2397 - val_loss: 0.1583 - val_root_mean_squared_error: 0.2417\n",
            "Epoch 11/40\n",
            "3/3 [==============================] - 0s 14ms/step - loss: 0.1676 - root_mean_squared_error: 0.2191 - val_loss: 0.1537 - val_root_mean_squared_error: 0.2365\n",
            "Epoch 12/40\n",
            "3/3 [==============================] - 0s 14ms/step - loss: 0.1608 - root_mean_squared_error: 0.2146 - val_loss: 0.1474 - val_root_mean_squared_error: 0.2290\n",
            "Epoch 13/40\n",
            "3/3 [==============================] - 0s 14ms/step - loss: 0.1380 - root_mean_squared_error: 0.1889 - val_loss: 0.1397 - val_root_mean_squared_error: 0.2170\n",
            "Epoch 14/40\n",
            "3/3 [==============================] - 0s 14ms/step - loss: 0.1330 - root_mean_squared_error: 0.1911 - val_loss: 0.1340 - val_root_mean_squared_error: 0.2096\n",
            "Epoch 15/40\n",
            "3/3 [==============================] - 0s 16ms/step - loss: 0.1060 - root_mean_squared_error: 0.1624 - val_loss: 0.1330 - val_root_mean_squared_error: 0.2089\n",
            "Epoch 16/40\n",
            "3/3 [==============================] - 0s 15ms/step - loss: 0.1099 - root_mean_squared_error: 0.1723 - val_loss: 0.1297 - val_root_mean_squared_error: 0.2021\n",
            "Epoch 17/40\n",
            "3/3 [==============================] - 0s 15ms/step - loss: 0.1088 - root_mean_squared_error: 0.1580 - val_loss: 0.1289 - val_root_mean_squared_error: 0.1968\n",
            "Epoch 18/40\n",
            "3/3 [==============================] - 0s 14ms/step - loss: 0.1131 - root_mean_squared_error: 0.1702 - val_loss: 0.1285 - val_root_mean_squared_error: 0.1962\n",
            "Epoch 19/40\n",
            "3/3 [==============================] - 0s 16ms/step - loss: 0.1015 - root_mean_squared_error: 0.1532 - val_loss: 0.1262 - val_root_mean_squared_error: 0.1912\n",
            "Epoch 20/40\n",
            "3/3 [==============================] - 0s 15ms/step - loss: 0.0951 - root_mean_squared_error: 0.1466 - val_loss: 0.1246 - val_root_mean_squared_error: 0.1891\n",
            "Epoch 21/40\n",
            "3/3 [==============================] - 0s 14ms/step - loss: 0.0898 - root_mean_squared_error: 0.1388 - val_loss: 0.1272 - val_root_mean_squared_error: 0.1886\n",
            "Epoch 22/40\n",
            "3/3 [==============================] - 0s 14ms/step - loss: 0.0903 - root_mean_squared_error: 0.1354 - val_loss: 0.1253 - val_root_mean_squared_error: 0.1870\n",
            "Epoch 23/40\n",
            "3/3 [==============================] - 0s 14ms/step - loss: 0.0792 - root_mean_squared_error: 0.1203 - val_loss: 0.1230 - val_root_mean_squared_error: 0.1853\n",
            "Epoch 24/40\n",
            "3/3 [==============================] - 0s 14ms/step - loss: 0.0752 - root_mean_squared_error: 0.1144 - val_loss: 0.1233 - val_root_mean_squared_error: 0.1881\n",
            "Epoch 25/40\n",
            "3/3 [==============================] - 0s 14ms/step - loss: 0.0771 - root_mean_squared_error: 0.1153 - val_loss: 0.1236 - val_root_mean_squared_error: 0.1888\n",
            "Epoch 26/40\n",
            "3/3 [==============================] - 0s 14ms/step - loss: 0.0842 - root_mean_squared_error: 0.1339 - val_loss: 0.1251 - val_root_mean_squared_error: 0.1908\n",
            "Epoch 27/40\n",
            "3/3 [==============================] - 0s 14ms/step - loss: 0.0738 - root_mean_squared_error: 0.1109 - val_loss: 0.1268 - val_root_mean_squared_error: 0.1944\n",
            "Epoch 28/40\n",
            "3/3 [==============================] - 0s 15ms/step - loss: 0.0828 - root_mean_squared_error: 0.1196 - val_loss: 0.1283 - val_root_mean_squared_error: 0.1972\n",
            "Epoch 29/40\n",
            "3/3 [==============================] - 0s 14ms/step - loss: 0.0831 - root_mean_squared_error: 0.1233 - val_loss: 0.1248 - val_root_mean_squared_error: 0.1930\n",
            "Epoch 30/40\n",
            "3/3 [==============================] - 0s 15ms/step - loss: 0.0765 - root_mean_squared_error: 0.1104 - val_loss: 0.1253 - val_root_mean_squared_error: 0.1927\n",
            "Epoch 31/40\n",
            "3/3 [==============================] - 0s 14ms/step - loss: 0.0730 - root_mean_squared_error: 0.1029 - val_loss: 0.1319 - val_root_mean_squared_error: 0.2041\n",
            "Epoch 32/40\n",
            "3/3 [==============================] - 0s 14ms/step - loss: 0.0777 - root_mean_squared_error: 0.1119 - val_loss: 0.1288 - val_root_mean_squared_error: 0.1965\n",
            "Epoch 33/40\n",
            "3/3 [==============================] - 0s 15ms/step - loss: 0.0738 - root_mean_squared_error: 0.1122 - val_loss: 0.1305 - val_root_mean_squared_error: 0.2000\n",
            "Epoch 34/40\n",
            "3/3 [==============================] - 0s 15ms/step - loss: 0.0750 - root_mean_squared_error: 0.1124 - val_loss: 0.1297 - val_root_mean_squared_error: 0.2028\n",
            "Epoch 35/40\n",
            "3/3 [==============================] - 0s 15ms/step - loss: 0.0691 - root_mean_squared_error: 0.1011 - val_loss: 0.1293 - val_root_mean_squared_error: 0.2020\n",
            "Epoch 36/40\n",
            "3/3 [==============================] - 0s 15ms/step - loss: 0.0693 - root_mean_squared_error: 0.1011 - val_loss: 0.1274 - val_root_mean_squared_error: 0.1975\n",
            "Epoch 37/40\n",
            "3/3 [==============================] - 0s 15ms/step - loss: 0.0709 - root_mean_squared_error: 0.0998 - val_loss: 0.1249 - val_root_mean_squared_error: 0.1918\n",
            "Epoch 38/40\n",
            "3/3 [==============================] - 0s 15ms/step - loss: 0.0664 - root_mean_squared_error: 0.0963 - val_loss: 0.1264 - val_root_mean_squared_error: 0.1955\n",
            "Epoch 39/40\n",
            "3/3 [==============================] - 0s 14ms/step - loss: 0.0579 - root_mean_squared_error: 0.0817 - val_loss: 0.1313 - val_root_mean_squared_error: 0.2025\n",
            "Epoch 40/40\n",
            "3/3 [==============================] - 0s 14ms/step - loss: 0.0676 - root_mean_squared_error: 0.1027 - val_loss: 0.1304 - val_root_mean_squared_error: 0.2017\n"
          ]
        }
      ],
      "source": [
        "tf.random.set_seed(42) # gunakan set_seed untuk menghasilkan model yang mempunyai performa yang sama\n",
        "\n",
        "model = tf.keras.models.Sequential()\n",
        "model.add(tf.keras.layers.Dense(15,input_shape=[len(X.columns)],kernel_initializer=tf.keras.initializers.GlorotNormal(seed=40)))\n",
        "model.add(tf.keras.layers.Dense(14))\n",
        "model.add(tf.keras.layers.BatchNormalization())\n",
        "model.add(tf.keras.layers.Activation('relu'))\n",
        "\n",
        "model.add(tf.keras.layers.Dense(10))\n",
        "model.add(tf.keras.layers.BatchNormalization())\n",
        "model.add(tf.keras.layers.Activation('relu'))\n",
        "\n",
        "model.add(tf.keras.layers.Dense(8))\n",
        "model.add(tf.keras.layers.BatchNormalization())\n",
        "model.add(tf.keras.layers.Activation('relu'))\n",
        "\n",
        "model.add(tf.keras.layers.Dense(1, activation='linear'))\n",
        "\n",
        "model.compile(loss='mae',\n",
        "              optimizer=tf.keras.optimizers.SGD(nesterov=True),\n",
        "              metrics=tf.keras.metrics.RootMeanSquaredError())\n",
        "\n",
        "history = model.fit(X_train_std, y_train_std, epochs=40, batch_size=70,\n",
        "                    validation_data=(X_val_std, y_val_std),verbose=1)"
      ]
    },
    {
      "cell_type": "code",
      "execution_count": null,
      "metadata": {
        "colab": {
          "base_uri": "https://localhost:8080/",
          "height": 296
        },
        "id": "bydHfvxsA3Fm",
        "outputId": "486de167-2793-4bdb-c731-9d4f659aec44"
      },
      "outputs": [
        {
          "output_type": "execute_result",
          "data": {
            "text/plain": [
              "<matplotlib.legend.Legend at 0x7f19b65f5e50>"
            ]
          },
          "metadata": {},
          "execution_count": 62
        },
        {
          "output_type": "display_data",
          "data": {
            "text/plain": [
              "<Figure size 432x288 with 1 Axes>"
            ],
            "image/png": "[encoded data removed]"
          },
          "metadata": {
            "needs_background": "light"
          }
        }
      ],
      "source": [
        "fig, ax = plt.subplots()\n",
        "ax.plot(range(40),history.history['loss'],label='train loss')\n",
        "ax.plot(range(40),history.history['val_loss'],label='val loss')\n",
        "#plt.gca().set_ylim(220000, 223000)\n",
        "ax.set_xlabel('Epoch')\n",
        "ax.set_ylabel('Loss')\n",
        "plt.legend()"
      ]
    },
    {
      "cell_type": "code",
      "execution_count": null,
      "metadata": {
        "colab": {
          "base_uri": "https://localhost:8080/"
        },
        "id": "bn1QnWlFCWBq",
        "outputId": "114c7ec7-3796-4625-e302-ae0dff68e818"
      },
      "outputs": [
        {
          "output_type": "stream",
          "name": "stdout",
          "text": [
            "1/1 [==============================] - 0s 22ms/step - loss: 0.0956 - root_mean_squared_error: 0.1860\n"
          ]
        },
        {
          "output_type": "execute_result",
          "data": {
            "text/plain": [
              "[0.09557442367076874, 0.18604245781898499]"
            ]
          },
          "metadata": {},
          "execution_count": 63
        }
      ],
      "source": [
        "model.evaluate(X_test_std, y_test_std) "
      ]
    },
    {
      "cell_type": "code",
      "execution_count": null,
      "metadata": {
        "id": "0z5bLSwvQfux",
        "colab": {
          "base_uri": "https://localhost:8080/"
        },
        "outputId": "3af7e44b-7142-4008-c9b7-e731a2a6d4ee"
      },
      "outputs": [
        {
          "output_type": "stream",
          "name": "stdout",
          "text": [
            "1/1 [==============================] - 0s 93ms/step\n"
          ]
        }
      ],
      "source": [
        "X_new = X_test_std[1]\n",
        "X_new = X_new.reshape(1,10)\n",
        "y_pred = model.predict(X_new)"
      ]
    },
    {
      "cell_type": "code",
      "source": [
        "X_new"
      ],
      "metadata": {
        "colab": {
          "base_uri": "https://localhost:8080/"
        },
        "id": "vLJD9C4qHDs1",
        "outputId": "a1796d95-6cd2-4ea3-beb0-bee64573be0f"
      },
      "execution_count": null,
      "outputs": [
        {
          "output_type": "execute_result",
          "data": {
            "text/plain": [
              "array([[-0.58319394, -0.24429326, -0.47797525,  1.14134388, -0.16280911,\n",
              "         0.3234921 ,  0.43540411, -0.70717045, -0.24987162, -0.15567921]])"
            ]
          },
          "metadata": {},
          "execution_count": 65
        }
      ]
    },
    {
      "cell_type": "code",
      "source": [],
      "metadata": {
        "id": "KMw5b01eG3LV"
      },
      "execution_count": null,
      "outputs": []
    },
    {
      "cell_type": "code",
      "execution_count": null,
      "metadata": {
        "colab": {
          "base_uri": "https://localhost:8080/"
        },
        "id": "egUHaBSCRFaS",
        "outputId": "c649bc54-9e04-4e04-94b0-75dd23750053"
      },
      "outputs": [
        {
          "output_type": "execute_result",
          "data": {
            "text/plain": [
              "array([[6623.404]], dtype=float32)"
            ]
          },
          "metadata": {},
          "execution_count": 66
        }
      ],
      "source": [
        "y_pred * y_test.max()"
      ]
    },
    {
      "cell_type": "code",
      "execution_count": null,
      "metadata": {
        "colab": {
          "base_uri": "https://localhost:8080/"
        },
        "id": "LdIXVKTbRF7X",
        "outputId": "6f562b22-ce54-445d-8304-c40eba8ef376"
      },
      "outputs": [
        {
          "output_type": "execute_result",
          "data": {
            "text/plain": [
              "7775.0"
            ]
          },
          "metadata": {},
          "execution_count": 67
        }
      ],
      "source": [
        "y_test_std.iloc[1] * y_test.max()"
      ]
    },
    {
      "cell_type": "code",
      "execution_count": null,
      "metadata": {
        "colab": {
          "base_uri": "https://localhost:8080/"
        },
        "id": "m6kJdyeERNW-",
        "outputId": "b4845f5f-9619-4bd3-9634-386d0591be5c"
      },
      "outputs": [
        {
          "output_type": "execute_result",
          "data": {
            "text/plain": [
              "array([[1511.352]], dtype=float32)"
            ]
          },
          "metadata": {},
          "execution_count": 86
        }
      ],
      "source": [
        "(y_pred * y_test.max()) - (y_test_std.iloc[1] * y_test.max())"
      ]
    }
  ],
  "metadata": {
    "accelerator": "GPU",
    "colab": {
      "provenance": []
    },
    "gpuClass": "standard",
    "kernelspec": {
      "display_name": "Python 3",
      "name": "python3"
    }
  },
  "nbformat": 4,
  "nbformat_minor": 0
}