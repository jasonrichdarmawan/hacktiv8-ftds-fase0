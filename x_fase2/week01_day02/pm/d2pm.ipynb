{
  "cells": [
    {
      "cell_type": "markdown",
      "metadata": {
        "id": "x57tHTUyuZoC"
      },
      "source": [
        "# Week 1: Day 2 PM // Training Deep Neural Networks Pt.2\n"
      ]
    },
    {
      "cell_type": "markdown",
      "metadata": {
        "id": "XvjbyImEObZI"
      },
      "source": [
        "Today we will learn about:\n",
        "\n",
        "\n",
        "1. Reusing Pretrained Layers\n",
        "2. Optimizers\n",
        "\n"
      ]
    },
    {
      "cell_type": "code",
      "execution_count": 1,
      "metadata": {
        "id": "yoZXtk-qvrlG"
      },
      "outputs": [],
      "source": [
        "import tensorflow as tf\n",
        "from tensorflow import keras\n",
        "\n",
        "# Common imports\n",
        "import numpy as np\n",
        "import os\n",
        "\n",
        "# to make this notebook's output stable across runs\n",
        "np.random.seed(42)\n",
        "\n",
        "# To plot pretty figures\n",
        "%matplotlib inline\n",
        "import matplotlib as mpl\n",
        "import matplotlib.pyplot as plt"
      ]
    },
    {
      "cell_type": "markdown",
      "metadata": {
        "id": "fabrEzItvofT"
      },
      "source": [
        "## Load Dataset"
      ]
    },
    {
      "cell_type": "code",
      "execution_count": 2,
      "metadata": {
        "colab": {
          "base_uri": "https://localhost:8080/"
        },
        "id": "Y1kjwQ25vqGI",
        "outputId": "1f04f91c-820e-4fd9-ecf9-bbfe0120c588"
      },
      "outputs": [
        {
          "name": "stdout",
          "output_type": "stream",
          "text": [
            "Downloading data from https://storage.googleapis.com/tensorflow/tf-keras-datasets/train-labels-idx1-ubyte.gz\n",
            "29515/29515 [==============================] - 0s 0us/step\n",
            "Downloading data from https://storage.googleapis.com/tensorflow/tf-keras-datasets/train-images-idx3-ubyte.gz\n",
            "26421880/26421880 [==============================] - 9s 0us/step\n",
            "Downloading data from https://storage.googleapis.com/tensorflow/tf-keras-datasets/t10k-labels-idx1-ubyte.gz\n",
            "5148/5148 [==============================] - 0s 0us/step\n",
            "Downloading data from https://storage.googleapis.com/tensorflow/tf-keras-datasets/t10k-images-idx3-ubyte.gz\n",
            "4422102/4422102 [==============================] - 2s 0us/step\n"
          ]
        }
      ],
      "source": [
        "(X_train_full, y_train_full), (X_test, y_test) = keras.datasets.fashion_mnist.load_data()\n",
        "X_train_full = X_train_full / 255.0\n",
        "X_test = X_test / 255.0\n",
        "X_valid, X_train = X_train_full[:5000], X_train_full[5000:]\n",
        "y_valid, y_train = y_train_full[:5000], y_train_full[5000:]"
      ]
    },
    {
      "cell_type": "markdown",
      "metadata": {
        "id": "UGCvRD25OscR"
      },
      "source": [
        "# Reusing Pretrained Layers"
      ]
    },
    {
      "cell_type": "markdown",
      "metadata": {
        "id": "l0XB8Ob6PM0V"
      },
      "source": [
        "\n",
        "Let's split the fashion MNIST training set in two:\n",
        "\n",
        " \n",
        "\n",
        "*   X_train_A: all images of all items except for sandals and shirts (classes 5 and 6).\n",
        "*   X_train_B: a much smaller training set of just the first 200 images of sandals or shirts.\n",
        "\n",
        "\n",
        "X_train_B: a much smaller training set of just the first 200 images of sandals or shirts.\n",
        "The validation set and the test set are also split this way, but without restricting the number of images.\n",
        "\n",
        "We will train a model on set A (classification task with 8 classes), and try to reuse it to tackle set B (binary classification). We hope to transfer a little bit of knowledge from task A to task B, since classes in set A (sneakers, ankle boots, coats, t-shirts, etc.) are somewhat similar to classes in set B (sandals and shirts). However, since we are using Dense layers, only patterns that occur at the same location can be reused (in contrast, convolutional layers will transfer much better, since learned patterns can be detected anywhere on the image, as we will see in the CNN chapter)."
      ]
    },
    {
      "cell_type": "markdown",
      "metadata": {
        "id": "ztAjxnO3Qwl5"
      },
      "source": [
        "### Train Model A"
      ]
    },
    {
      "cell_type": "code",
      "execution_count": 3,
      "metadata": {
        "id": "ggmBJkFwQoqW"
      },
      "outputs": [],
      "source": [
        "def split_dataset(X, y):\n",
        "    y_5_or_6 = (y == 5) | (y == 6) # sandals or shirts\n",
        "    y_A = y[~y_5_or_6]\n",
        "    y_A[y_A > 6] -= 2 # class indices 7, 8, 9 should be moved to 5, 6, 7\n",
        "    y_B = (y[y_5_or_6] == 6).astype(np.float32) # binary classification task: is it a shirt (class 6)?\n",
        "    return ((X[~y_5_or_6], y_A),\n",
        "            (X[y_5_or_6], y_B))\n",
        "\n",
        "(X_train_A, y_train_A), (X_train_B, y_train_B) = split_dataset(X_train, y_train)\n",
        "(X_valid_A, y_valid_A), (X_valid_B, y_valid_B) = split_dataset(X_valid, y_valid)\n",
        "(X_test_A, y_test_A), (X_test_B, y_test_B) = split_dataset(X_test, y_test)\n",
        "X_train_B = X_train_B[:200]\n",
        "y_train_B = y_train_B[:200]"
      ]
    },
    {
      "cell_type": "code",
      "execution_count": 4,
      "metadata": {
        "id": "fMCzdSf5QsuP"
      },
      "outputs": [
        {
          "name": "stderr",
          "output_type": "stream",
          "text": [
            "2022-11-29 14:25:40.787414: I tensorflow/core/common_runtime/pluggable_device/pluggable_device_factory.cc:306] Could not identify NUMA node of platform GPU ID 0, defaulting to 0. Your kernel may not have been built with NUMA support.\n",
            "2022-11-29 14:25:40.787861: I tensorflow/core/common_runtime/pluggable_device/pluggable_device_factory.cc:272] Created TensorFlow device (/job:localhost/replica:0/task:0/device:GPU:0 with 0 MB memory) -> physical PluggableDevice (device: 0, name: METAL, pci bus id: <undefined>)\n"
          ]
        },
        {
          "name": "stdout",
          "output_type": "stream",
          "text": [
            "Metal device set to: Apple M1\n",
            "\n",
            "systemMemory: 16.00 GB\n",
            "maxCacheSize: 5.33 GB\n",
            "\n"
          ]
        }
      ],
      "source": [
        "model_A = keras.models.Sequential()\n",
        "model_A.add(keras.layers.Flatten(input_shape=[28, 28]))\n",
        "for n_hidden in (300, 100, 50, 50, 50):\n",
        "    model_A.add(keras.layers.Dense(n_hidden, activation=\"selu\"))\n",
        "model_A.add(keras.layers.Dense(8, activation=\"softmax\"))"
      ]
    },
    {
      "cell_type": "code",
      "execution_count": 6,
      "metadata": {
        "colab": {
          "base_uri": "https://localhost:8080/"
        },
        "id": "l8cWGGH5QuWM",
        "outputId": "b9f11049-e0d5-4ac8-f1f1-89058b9cb3b1"
      },
      "outputs": [],
      "source": [
        "model_A.compile(loss=\"sparse_categorical_crossentropy\",\n",
        "                optimizer=keras.optimizers.SGD(learning_rate=1e-3),\n",
        "                metrics=[\"accuracy\"])"
      ]
    },
    {
      "cell_type": "code",
      "execution_count": 7,
      "metadata": {
        "colab": {
          "base_uri": "https://localhost:8080/"
        },
        "id": "YQmyTRiqQv3A",
        "outputId": "61b474b7-7098-48e8-fb55-3dcc8b5dae5d"
      },
      "outputs": [
        {
          "name": "stdout",
          "output_type": "stream",
          "text": [
            "Epoch 1/20\n"
          ]
        },
        {
          "name": "stderr",
          "output_type": "stream",
          "text": [
            "2022-11-29 14:25:59.789790: W tensorflow/core/platform/profile_utils/cpu_utils.cc:128] Failed to get CPU frequency: 0 Hz\n",
            "2022-11-29 14:26:00.014191: I tensorflow/core/grappler/optimizers/custom_graph_optimizer_registry.cc:114] Plugin optimizer for device_type GPU is enabled.\n"
          ]
        },
        {
          "name": "stdout",
          "output_type": "stream",
          "text": [
            "1375/1375 [==============================] - ETA: 0s - loss: 0.5819 - accuracy: 0.8142"
          ]
        },
        {
          "name": "stderr",
          "output_type": "stream",
          "text": [
            "2022-11-29 14:26:26.057817: I tensorflow/core/grappler/optimizers/custom_graph_optimizer_registry.cc:114] Plugin optimizer for device_type GPU is enabled.\n"
          ]
        },
        {
          "name": "stdout",
          "output_type": "stream",
          "text": [
            "1375/1375 [==============================] - 28s 20ms/step - loss: 0.5819 - accuracy: 0.8142 - val_loss: 0.3925 - val_accuracy: 0.8625\n",
            "Epoch 2/20\n",
            "1375/1375 [==============================] - 27s 20ms/step - loss: 0.3499 - accuracy: 0.8809 - val_loss: 0.3274 - val_accuracy: 0.8891\n",
            "Epoch 3/20\n",
            "1375/1375 [==============================] - 27s 19ms/step - loss: 0.3126 - accuracy: 0.8924 - val_loss: 0.3028 - val_accuracy: 0.8964\n",
            "Epoch 4/20\n",
            "1375/1375 [==============================] - 26s 19ms/step - loss: 0.2937 - accuracy: 0.8988 - val_loss: 0.2883 - val_accuracy: 0.9026\n",
            "Epoch 5/20\n",
            "1375/1375 [==============================] - 26s 19ms/step - loss: 0.2809 - accuracy: 0.9036 - val_loss: 0.2824 - val_accuracy: 0.9066\n",
            "Epoch 6/20\n",
            "1375/1375 [==============================] - 26s 19ms/step - loss: 0.2709 - accuracy: 0.9073 - val_loss: 0.2784 - val_accuracy: 0.9056\n",
            "Epoch 7/20\n",
            "1375/1375 [==============================] - 27s 19ms/step - loss: 0.2635 - accuracy: 0.9098 - val_loss: 0.2677 - val_accuracy: 0.9101\n",
            "Epoch 8/20\n",
            "1375/1375 [==============================] - 25s 18ms/step - loss: 0.2577 - accuracy: 0.9121 - val_loss: 0.2636 - val_accuracy: 0.9106\n",
            "Epoch 9/20\n",
            "1375/1375 [==============================] - 25s 18ms/step - loss: 0.2521 - accuracy: 0.9140 - val_loss: 0.2616 - val_accuracy: 0.9131\n",
            "Epoch 10/20\n",
            "1375/1375 [==============================] - 25s 18ms/step - loss: 0.2474 - accuracy: 0.9157 - val_loss: 0.2835 - val_accuracy: 0.8986\n",
            "Epoch 11/20\n",
            "1375/1375 [==============================] - 24s 18ms/step - loss: 0.2438 - accuracy: 0.9174 - val_loss: 0.2544 - val_accuracy: 0.9153\n",
            "Epoch 12/20\n",
            "1375/1375 [==============================] - 27s 20ms/step - loss: 0.2401 - accuracy: 0.9181 - val_loss: 0.2518 - val_accuracy: 0.9131\n",
            "Epoch 13/20\n",
            "1375/1375 [==============================] - 33s 24ms/step - loss: 0.2365 - accuracy: 0.9191 - val_loss: 0.2485 - val_accuracy: 0.9136\n",
            "Epoch 14/20\n",
            "1375/1375 [==============================] - 29s 21ms/step - loss: 0.2334 - accuracy: 0.9201 - val_loss: 0.2468 - val_accuracy: 0.9143\n",
            "Epoch 15/20\n",
            "1375/1375 [==============================] - 26s 19ms/step - loss: 0.2302 - accuracy: 0.9217 - val_loss: 0.2432 - val_accuracy: 0.9126\n",
            "Epoch 16/20\n",
            "1375/1375 [==============================] - 29s 21ms/step - loss: 0.2274 - accuracy: 0.9232 - val_loss: 0.2417 - val_accuracy: 0.9173\n",
            "Epoch 17/20\n",
            "1375/1375 [==============================] - 27s 19ms/step - loss: 0.2252 - accuracy: 0.9233 - val_loss: 0.2426 - val_accuracy: 0.9160\n",
            "Epoch 18/20\n",
            "1375/1375 [==============================] - 30s 22ms/step - loss: 0.2228 - accuracy: 0.9237 - val_loss: 0.2423 - val_accuracy: 0.9155\n",
            "Epoch 19/20\n",
            "1375/1375 [==============================] - 26s 19ms/step - loss: 0.2201 - accuracy: 0.9247 - val_loss: 0.2377 - val_accuracy: 0.9163\n",
            "Epoch 20/20\n",
            "1375/1375 [==============================] - 26s 19ms/step - loss: 0.2180 - accuracy: 0.9258 - val_loss: 0.2380 - val_accuracy: 0.9143\n"
          ]
        }
      ],
      "source": [
        "history = model_A.fit(X_train_A, y_train_A, epochs=20,\n",
        "                    validation_data=(X_valid_A, y_valid_A))"
      ]
    },
    {
      "cell_type": "code",
      "execution_count": null,
      "metadata": {
        "id": "I7ecE7x8iAvI"
      },
      "outputs": [],
      "source": [
        "model_A.save(\"my_model_A.h5\")"
      ]
    },
    {
      "cell_type": "markdown",
      "metadata": {
        "id": "hgX_q0vLR8JO"
      },
      "source": [
        "### Train Model B"
      ]
    },
    {
      "cell_type": "markdown",
      "metadata": {
        "id": "Msbn2QetR-Su"
      },
      "source": [
        "Let's try to train Model B from scratch"
      ]
    },
    {
      "cell_type": "code",
      "execution_count": null,
      "metadata": {
        "id": "n-kXuI_UR9sn"
      },
      "outputs": [],
      "source": [
        "model_B = keras.models.Sequential()\n",
        "model_B.add(keras.layers.Flatten(input_shape=[28, 28]))\n",
        "for n_hidden in (300, 100, 50, 50, 50):\n",
        "    model_B.add(keras.layers.Dense(n_hidden, activation=\"selu\"))\n",
        "model_B.add(keras.layers.Dense(1, activation=\"sigmoid\"))"
      ]
    },
    {
      "cell_type": "code",
      "execution_count": null,
      "metadata": {
        "id": "dWIApeOPSHCR"
      },
      "outputs": [],
      "source": [
        "model_B.compile(loss=\"binary_crossentropy\",\n",
        "                optimizer=keras.optimizers.SGD(lr=1e-3),\n",
        "                metrics=[\"accuracy\"])"
      ]
    },
    {
      "cell_type": "code",
      "execution_count": null,
      "metadata": {
        "id": "FZKCuqZpSIni"
      },
      "outputs": [],
      "source": [
        "history = model_B.fit(X_train_B, y_train_B, epochs=20,\n",
        "                      validation_data=(X_valid_B, y_valid_B))"
      ]
    },
    {
      "cell_type": "markdown",
      "metadata": {
        "id": "zFbHiRUvRXt7"
      },
      "source": [
        "### Train Model B with Model A"
      ]
    },
    {
      "cell_type": "code",
      "execution_count": null,
      "metadata": {
        "id": "tRP3pE78RmWd"
      },
      "outputs": [],
      "source": [
        "model_A = keras.models.load_model(\"my_model_A.h5\")\n",
        "model_B_on_A = keras.models.Sequential(model_A.layers[:-1])\n",
        "model_B_on_A.add(keras.layers.Dense(1, activation=\"sigmoid\"))"
      ]
    },
    {
      "cell_type": "code",
      "execution_count": null,
      "metadata": {
        "id": "gsHWYfUYRoyV"
      },
      "outputs": [],
      "source": [
        "model_A_clone = keras.models.clone_model(model_A)\n",
        "model_A_clone.set_weights(model_A.get_weights())"
      ]
    },
    {
      "cell_type": "code",
      "execution_count": null,
      "metadata": {
        "id": "4my3IreaRq4L"
      },
      "outputs": [],
      "source": [
        "for layer in model_B_on_A.layers[:-1]:\n",
        "    layer.trainable = False\n",
        "\n",
        "model_B_on_A.compile(loss=\"binary_crossentropy\",\n",
        "                     optimizer=keras.optimizers.SGD(lr=1e-3),\n",
        "                     metrics=[\"accuracy\"])"
      ]
    },
    {
      "cell_type": "code",
      "execution_count": null,
      "metadata": {
        "id": "H1f9br2nRzCs"
      },
      "outputs": [],
      "source": [
        "history = model_B_on_A.fit(X_train_B, y_train_B, epochs=4,\n",
        "                           validation_data=(X_valid_B, y_valid_B))\n",
        "\n",
        "for layer in model_B_on_A.layers[:-1]:\n",
        "    layer.trainable = True\n",
        "\n",
        "model_B_on_A.compile(loss=\"binary_crossentropy\",\n",
        "                     optimizer=keras.optimizers.SGD(lr=1e-3),\n",
        "                     metrics=[\"accuracy\"])\n",
        "history = model_B_on_A.fit(X_train_B, y_train_B, epochs=16,\n",
        "                           validation_data=(X_valid_B, y_valid_B))"
      ]
    },
    {
      "cell_type": "markdown",
      "metadata": {
        "id": "3vvbuY5Tv-Qk"
      },
      "source": [
        "# Optimizers"
      ]
    },
    {
      "cell_type": "markdown",
      "metadata": {
        "id": "546yjzNF4lx0"
      },
      "source": [
        "In neural network, there are many methods to find the best parameter, but the most popular is gradient descent. Remember that in NN our objective is to minimize a cost function, thus we hypotheses that by changing the weights following the gradient of cost function with regard to the weights, we can eventually achieve weights with lowest cost value. \n",
        "\n",
        "In general, weights update can be expressed by equation. Keep in mind the implicit negative notation can be switched, either included in the update term ($\\Delta_{t}$) or outside of it.\n",
        "\n",
        "$\\theta_{t+1}=\\theta_{t}+\\Delta \\theta_{t}$"
      ]
    },
    {
      "cell_type": "markdown",
      "metadata": {
        "id": "_WpPTiyxwDEI"
      },
      "source": [
        "The standard stochastic gradient descent, usually refered as SGD, is the simplest form of gradient descent. The only parameter of this gradient descent is its learning rate.\n",
        "\n",
        "$\\Delta \\theta_{t}=-\\eta\\frac{\\delta J}{\\delta{\\theta}}$\n"
      ]
    },
    {
      "cell_type": "code",
      "execution_count": null,
      "metadata": {
        "id": "pUL2_OmgwP4O"
      },
      "outputs": [],
      "source": [
        "optim_sgd=tf.keras.optimizers.SGD(\n",
        "    learning_rate=0.01, momentum=0.0, nesterov=False, name=\"SGD\", **kwargs\n",
        ")"
      ]
    },
    {
      "cell_type": "markdown",
      "metadata": {
        "id": "UvCx22jWwQLb"
      },
      "source": [
        "SGD with Momentum: Momentum term help stabilizes the update by including a short term memory. Mathematically, this is done by including the value of previous update to current update calculation. The parameter now become 2, one is the learning rate and the other is the momentum term.\n",
        "\n",
        "$\\Delta \\theta_{t}=\\mu\\Delta \\theta_{t-1}-\\eta\\frac{\\delta J}{\\delta{\\theta}}$ "
      ]
    },
    {
      "cell_type": "code",
      "execution_count": null,
      "metadata": {
        "id": "e9Z2RgWEwh_s"
      },
      "outputs": [],
      "source": [
        "optim_sgd_mom = tf.keras.optimizers.SGD(\n",
        "    learning_rate=0.01, momentum=0.9, nesterov=False, name=\"SGD_Momentum\", **kwargs\n",
        ")"
      ]
    },
    {
      "cell_type": "markdown",
      "metadata": {
        "id": "HXqr8RqgwiOg"
      },
      "source": [
        "Nesterov Momentum: Nesterov Momentum adjust the direction of the regular momentum update."
      ]
    },
    {
      "cell_type": "markdown",
      "metadata": {
        "id": "AxGVE0iN6imb"
      },
      "source": [
        "$\\Delta \\theta_{t}=\\mu\\Delta \\theta_{t-1}-\\eta\\frac{\\delta J}{\\delta{\\theta}}(\\theta_{t}+\\mu\\Delta_{t-1})$ "
      ]
    },
    {
      "cell_type": "code",
      "execution_count": null,
      "metadata": {
        "id": "FpKI-wKLwnlS"
      },
      "outputs": [],
      "source": [
        "optim_sgd_ntv = tf.keras.optimizers.SGD(\n",
        "    learning_rate=0.01, momentum=0.9, nesterov=True, name=\"SGD_Nesterov\", **kwargs\n",
        ")"
      ]
    },
    {
      "cell_type": "markdown",
      "metadata": {
        "id": "1K2BzNbrB-TZ"
      },
      "source": [
        "Adagrad is an optimizer with parameter-specific learning rates, which are adapted relative to how frequently a parameter gets updated during training. The more updates a parameter receives, the smaller the updates.\n",
        "\n",
        "$v_t=v_{t-1}+(\\frac{\\delta J}{\\delta{\\theta}})^{2} $\n",
        "\n",
        "$\\Delta \\theta_{t}=-\\frac{\\eta}{\\sqrt{v_t+\\epsilon}}(\\frac{\\delta J}{\\delta{\\theta}})$\n",
        "\n",
        "Adagrad essentialy only need one parameter, which is the initial learning rate $\\eta$. But, on practice we can set small value $\\epsilon$ to avoid division by zero."
      ]
    },
    {
      "cell_type": "code",
      "execution_count": null,
      "metadata": {
        "id": "YVDWNlrdB-LK"
      },
      "outputs": [],
      "source": [
        "optim_adagrad = tf.keras.optimizers.Adagrad(\n",
        "    learning_rate=1,\n",
        "    epsilon=1e-07,\n",
        "    name=\"Adagrad\",\n",
        "    **kwargs\n",
        ")"
      ]
    },
    {
      "cell_type": "markdown",
      "metadata": {
        "id": "YvH0ahL3wnA4"
      },
      "source": [
        "RMSProp use moving average of squared gradients to scale the weight update. It is proposed by Geoffrey Hinton (He is one of the \"godfathers\" of deep learning) to solve the problem of diminishing learning rates on AdaGrad. For RMSProp we use moving average, instead of keeping all the average like what AdaGrad did.\n",
        "Expressing moving average of squared gradients as $v$, we can calculate the weight update as follows:\n",
        "\n",
        "$v_t=\\rho v_{t-1}+(1-\\rho)(\\frac{\\delta J}{\\delta{\\theta}})^{2} $\n",
        "\n",
        "$\\Delta \\theta_{t}=-\\frac{\\eta}{\\sqrt{v_t+\\epsilon}}(\\frac{\\delta J}{\\delta{\\theta}})$ \n",
        "\n",
        "There are two essential parameters, $\\rho$ the discounting factor and $\\eta$ the learning rate. Again, for numerical stability we add small $\\epsilon$"
      ]
    },
    {
      "cell_type": "code",
      "execution_count": null,
      "metadata": {
        "id": "UFYtfh-QCCul"
      },
      "outputs": [],
      "source": [
        "optim_rmsprop = tf.keras.optimizers.RMSprop(\n",
        "    learning_rate=0.001,\n",
        "    rho=0.9,\n",
        "    epsilon=1e-07,\n",
        "    name=\"RMSprop\"\n",
        ")"
      ]
    },
    {
      "cell_type": "markdown",
      "metadata": {
        "id": "KSRalKuttPPE"
      },
      "source": [
        "Adadelta optimization is a stochastic gradient descent method that is based on adaptive learning rate per dimension to address two drawbacks:\n",
        "The continual decay of learning rates throughout training.\n",
        "The need for a manually selected global learning rate.\n",
        "Similar to RMSProp, AdaDelta also try to solve the problem of RMSProp. It is developed independently, thus they are somehow similar. AdaDelta use another exponentially decaying average, this time not of squared gradients but of squared parameter updates.\n",
        "\n",
        "$v_t=\\rho v_{t-1}+(1-\\rho)(\\frac{\\delta J}{\\delta{\\theta}})^{2} $\n",
        "\n",
        "$x_t=\\rho x_{t-1}+(1-\\rho)(\\Delta \\theta_{t})^{2} $\n",
        "\n",
        "$\\Delta \\theta_{t}=-\\frac{\\eta\\sqrt{x_t+\\epsilon}}{\\sqrt{v_t+\\epsilon}}(\\frac{\\delta J}{\\delta{\\theta}})$ \n",
        "\n",
        "On the original paper AdaDelta do not use any learning rate parameter, but in Keras we can set it just as in other method and as written on the equation."
      ]
    },
    {
      "cell_type": "code",
      "execution_count": null,
      "metadata": {
        "id": "RjVemNh_tT_U"
      },
      "outputs": [],
      "source": [
        "optim_adadelta = tf.keras.optimizers.AdaDelta(\n",
        "    learning_rate=0.001,\n",
        "    rho=0.9,\n",
        "    epsilon=1e-07,\n",
        "    name=\"RMSprop\"\n",
        ")"
      ]
    },
    {
      "cell_type": "markdown",
      "metadata": {
        "id": "LzkXRuZotURd"
      },
      "source": [
        "Adam optimization is a stochastic gradient descent method that is based on adaptive estimation of first-order and second-order moments.ADAM is just Adadelta (which rescales gradients based on accumulated \"second-order\" information) plus momentum (which smooths gradients based on accumulated \"first-order\" information). \n",
        "\n",
        "$s_t=\\beta_{1} v_{t-1}+(1-\\beta_{1})(\\frac{\\delta J}{\\delta{\\theta}}) $\n",
        "\n",
        "$v_t=\\beta_{2} x_{t-1}+(1-\\beta_{2})(\\frac{\\delta J}{\\delta{\\theta}})^{2} $\n",
        "\n",
        "$\\Delta \\theta_{t}=-\\frac{\\eta s_t}{\\sqrt{v_t+\\epsilon}}(\\frac{\\delta J}{\\delta{\\theta}})$ \n"
      ]
    },
    {
      "cell_type": "code",
      "execution_count": null,
      "metadata": {
        "id": "Z43Rp8ciYMg5"
      },
      "outputs": [],
      "source": [
        "optim_adam = tf.keras.optimizers.Adam(\n",
        "    learning_rate=0.001,\n",
        "    rho=0.9,\n",
        "    epsilon=1e-07,\n",
        "    name=\"RMSprop\"\n",
        ")"
      ]
    },
    {
      "cell_type": "markdown",
      "metadata": {
        "id": "_sPkfXhXiroo"
      },
      "source": [
        "Generally, we prefer the adaptive learning rate or momentum method as the more epoch the learning has through, we need smaller learning rate to avoid fluctuation of the weights. However, there are some cases where the Nesterov optimizer give better performance when we hit the right parameter. "
      ]
    }
  ],
  "metadata": {
    "colab": {
      "name": "d2pm.ipynb",
      "provenance": []
    },
    "kernelspec": {
      "display_name": "Python 3.10.8 64-bit",
      "language": "python",
      "name": "python3"
    },
    "language_info": {
      "codemirror_mode": {
        "name": "ipython",
        "version": 3
      },
      "file_extension": ".py",
      "mimetype": "text/x-python",
      "name": "python",
      "nbconvert_exporter": "python",
      "pygments_lexer": "ipython3",
      "version": "3.10.8"
    },
    "orig_nbformat": 2,
    "vscode": {
      "interpreter": {
        "hash": "aee8b7b246df8f9039afb4144a1f6fd8d2ca17a180786b69acc140d282b71a49"
      }
    }
  },
  "nbformat": 4,
  "nbformat_minor": 0
}
