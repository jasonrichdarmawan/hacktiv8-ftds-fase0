{
  "cells": [
    {
      "cell_type": "markdown",
      "metadata": {
        "id": "uf5ldlW28PFv"
      },
      "source": [
        "# 1 - Perkenalan"
      ]
    },
    {
      "cell_type": "markdown",
      "metadata": {
        "id": "2zouuSOe8RWU"
      },
      "source": [
        "Nama : Danu \n",
        "\n",
        "Batch : FTDS-016-RMT\n",
        "\n",
        "Objective : Memprediksi passenger yang Survive atau Not Survive"
      ]
    },
    {
      "cell_type": "markdown",
      "metadata": {
        "id": "TyPEiuMD8fAM"
      },
      "source": [
        "# 2 - Import Libraries"
      ]
    },
    {
      "cell_type": "code",
      "execution_count": null,
      "metadata": {
        "id": "_uawHzQN8CNf"
      },
      "outputs": [],
      "source": [
        "# Import Libraries\n",
        "\n",
        "import pandas as pd\n",
        "import numpy as np\n",
        "import joblib\n",
        "\n",
        "from sklearn.model_selection import train_test_split\n",
        "from sklearn.pipeline import make_pipeline\n",
        "from sklearn.compose import ColumnTransformer\n",
        "from sklearn.impute import SimpleImputer\n",
        "from sklearn.preprocessing import StandardScaler, OneHotEncoder"
      ]
    },
    {
      "cell_type": "markdown",
      "metadata": {
        "id": "HHfxlsMr9UT-"
      },
      "source": [
        "# 3 - Data Loading"
      ]
    },
    {
      "cell_type": "code",
      "execution_count": null,
      "metadata": {
        "colab": {
          "base_uri": "https://localhost:8080/",
          "height": 468
        },
        "id": "FSG6GDFF9agt",
        "outputId": "d77a3869-215e-4b21-df2d-6b02e5976272"
      },
      "outputs": [
        {
          "data": {
            "text/html": [
              "\n",
              "  <div id=\"df-089ef3d4-4745-49ea-98f2-99a3fd2f3765\">\n",
              "    <div class=\"colab-df-container\">\n",
              "      <div>\n",
              "<style scoped>\n",
              "    .dataframe tbody tr th:only-of-type {\n",
              "        vertical-align: middle;\n",
              "    }\n",
              "\n",
              "    .dataframe tbody tr th {\n",
              "        vertical-align: top;\n",
              "    }\n",
              "\n",
              "    .dataframe thead th {\n",
              "        text-align: right;\n",
              "    }\n",
              "</style>\n",
              "<table border=\"1\" class=\"dataframe\">\n",
              "  <thead>\n",
              "    <tr style=\"text-align: right;\">\n",
              "      <th></th>\n",
              "      <th>PassengerId</th>\n",
              "      <th>Survived</th>\n",
              "      <th>Pclass</th>\n",
              "      <th>Name</th>\n",
              "      <th>Sex</th>\n",
              "      <th>Age</th>\n",
              "      <th>SibSp</th>\n",
              "      <th>Parch</th>\n",
              "      <th>Ticket</th>\n",
              "      <th>Fare</th>\n",
              "      <th>Cabin</th>\n",
              "      <th>Embarked</th>\n",
              "    </tr>\n",
              "  </thead>\n",
              "  <tbody>\n",
              "    <tr>\n",
              "      <th>0</th>\n",
              "      <td>1</td>\n",
              "      <td>0</td>\n",
              "      <td>3</td>\n",
              "      <td>Braund, Mr. Owen Harris</td>\n",
              "      <td>male</td>\n",
              "      <td>22.0</td>\n",
              "      <td>1</td>\n",
              "      <td>0</td>\n",
              "      <td>A/5 21171</td>\n",
              "      <td>7.2500</td>\n",
              "      <td>NaN</td>\n",
              "      <td>S</td>\n",
              "    </tr>\n",
              "    <tr>\n",
              "      <th>1</th>\n",
              "      <td>2</td>\n",
              "      <td>1</td>\n",
              "      <td>1</td>\n",
              "      <td>Cumings, Mrs. John Bradley (Florence Briggs Th...</td>\n",
              "      <td>female</td>\n",
              "      <td>38.0</td>\n",
              "      <td>1</td>\n",
              "      <td>0</td>\n",
              "      <td>PC 17599</td>\n",
              "      <td>71.2833</td>\n",
              "      <td>C85</td>\n",
              "      <td>C</td>\n",
              "    </tr>\n",
              "    <tr>\n",
              "      <th>2</th>\n",
              "      <td>3</td>\n",
              "      <td>1</td>\n",
              "      <td>3</td>\n",
              "      <td>Heikkinen, Miss. Laina</td>\n",
              "      <td>female</td>\n",
              "      <td>26.0</td>\n",
              "      <td>0</td>\n",
              "      <td>0</td>\n",
              "      <td>STON/O2. 3101282</td>\n",
              "      <td>7.9250</td>\n",
              "      <td>NaN</td>\n",
              "      <td>S</td>\n",
              "    </tr>\n",
              "    <tr>\n",
              "      <th>3</th>\n",
              "      <td>4</td>\n",
              "      <td>1</td>\n",
              "      <td>1</td>\n",
              "      <td>Futrelle, Mrs. Jacques Heath (Lily May Peel)</td>\n",
              "      <td>female</td>\n",
              "      <td>35.0</td>\n",
              "      <td>1</td>\n",
              "      <td>0</td>\n",
              "      <td>113803</td>\n",
              "      <td>53.1000</td>\n",
              "      <td>C123</td>\n",
              "      <td>S</td>\n",
              "    </tr>\n",
              "    <tr>\n",
              "      <th>4</th>\n",
              "      <td>5</td>\n",
              "      <td>0</td>\n",
              "      <td>3</td>\n",
              "      <td>Allen, Mr. William Henry</td>\n",
              "      <td>male</td>\n",
              "      <td>35.0</td>\n",
              "      <td>0</td>\n",
              "      <td>0</td>\n",
              "      <td>373450</td>\n",
              "      <td>8.0500</td>\n",
              "      <td>NaN</td>\n",
              "      <td>S</td>\n",
              "    </tr>\n",
              "    <tr>\n",
              "      <th>...</th>\n",
              "      <td>...</td>\n",
              "      <td>...</td>\n",
              "      <td>...</td>\n",
              "      <td>...</td>\n",
              "      <td>...</td>\n",
              "      <td>...</td>\n",
              "      <td>...</td>\n",
              "      <td>...</td>\n",
              "      <td>...</td>\n",
              "      <td>...</td>\n",
              "      <td>...</td>\n",
              "      <td>...</td>\n",
              "    </tr>\n",
              "    <tr>\n",
              "      <th>886</th>\n",
              "      <td>887</td>\n",
              "      <td>0</td>\n",
              "      <td>2</td>\n",
              "      <td>Montvila, Rev. Juozas</td>\n",
              "      <td>male</td>\n",
              "      <td>27.0</td>\n",
              "      <td>0</td>\n",
              "      <td>0</td>\n",
              "      <td>211536</td>\n",
              "      <td>13.0000</td>\n",
              "      <td>NaN</td>\n",
              "      <td>S</td>\n",
              "    </tr>\n",
              "    <tr>\n",
              "      <th>887</th>\n",
              "      <td>888</td>\n",
              "      <td>1</td>\n",
              "      <td>1</td>\n",
              "      <td>Graham, Miss. Margaret Edith</td>\n",
              "      <td>female</td>\n",
              "      <td>19.0</td>\n",
              "      <td>0</td>\n",
              "      <td>0</td>\n",
              "      <td>112053</td>\n",
              "      <td>30.0000</td>\n",
              "      <td>B42</td>\n",
              "      <td>S</td>\n",
              "    </tr>\n",
              "    <tr>\n",
              "      <th>888</th>\n",
              "      <td>889</td>\n",
              "      <td>0</td>\n",
              "      <td>3</td>\n",
              "      <td>Johnston, Miss. Catherine Helen \"Carrie\"</td>\n",
              "      <td>female</td>\n",
              "      <td>NaN</td>\n",
              "      <td>1</td>\n",
              "      <td>2</td>\n",
              "      <td>W./C. 6607</td>\n",
              "      <td>23.4500</td>\n",
              "      <td>NaN</td>\n",
              "      <td>S</td>\n",
              "    </tr>\n",
              "    <tr>\n",
              "      <th>889</th>\n",
              "      <td>890</td>\n",
              "      <td>1</td>\n",
              "      <td>1</td>\n",
              "      <td>Behr, Mr. Karl Howell</td>\n",
              "      <td>male</td>\n",
              "      <td>26.0</td>\n",
              "      <td>0</td>\n",
              "      <td>0</td>\n",
              "      <td>111369</td>\n",
              "      <td>30.0000</td>\n",
              "      <td>C148</td>\n",
              "      <td>C</td>\n",
              "    </tr>\n",
              "    <tr>\n",
              "      <th>890</th>\n",
              "      <td>891</td>\n",
              "      <td>0</td>\n",
              "      <td>3</td>\n",
              "      <td>Dooley, Mr. Patrick</td>\n",
              "      <td>male</td>\n",
              "      <td>32.0</td>\n",
              "      <td>0</td>\n",
              "      <td>0</td>\n",
              "      <td>370376</td>\n",
              "      <td>7.7500</td>\n",
              "      <td>NaN</td>\n",
              "      <td>Q</td>\n",
              "    </tr>\n",
              "  </tbody>\n",
              "</table>\n",
              "<p>891 rows × 12 columns</p>\n",
              "</div>\n",
              "      <button class=\"colab-df-convert\" onclick=\"convertToInteractive('df-089ef3d4-4745-49ea-98f2-99a3fd2f3765')\"\n",
              "              title=\"Convert this dataframe to an interactive table.\"\n",
              "              style=\"display:none;\">\n",
              "        \n",
              "  <svg xmlns=\"http://www.w3.org/2000/svg\" height=\"24px\"viewBox=\"0 0 24 24\"\n",
              "       width=\"24px\">\n",
              "    <path d=\"M0 0h24v24H0V0z\" fill=\"none\"/>\n",
              "    <path d=\"M18.56 5.44l.94 2.06.94-2.06 2.06-.94-2.06-.94-.94-2.06-.94 2.06-2.06.94zm-11 1L8.5 8.5l.94-2.06 2.06-.94-2.06-.94L8.5 2.5l-.94 2.06-2.06.94zm10 10l.94 2.06.94-2.06 2.06-.94-2.06-.94-.94-2.06-.94 2.06-2.06.94z\"/><path d=\"M17.41 7.96l-1.37-1.37c-.4-.4-.92-.59-1.43-.59-.52 0-1.04.2-1.43.59L10.3 9.45l-7.72 7.72c-.78.78-.78 2.05 0 2.83L4 21.41c.39.39.9.59 1.41.59.51 0 1.02-.2 1.41-.59l7.78-7.78 2.81-2.81c.8-.78.8-2.07 0-2.86zM5.41 20L4 18.59l7.72-7.72 1.47 1.35L5.41 20z\"/>\n",
              "  </svg>\n",
              "      </button>\n",
              "      \n",
              "  <style>\n",
              "    .colab-df-container {\n",
              "      display:flex;\n",
              "      flex-wrap:wrap;\n",
              "      gap: 12px;\n",
              "    }\n",
              "\n",
              "    .colab-df-convert {\n",
              "      background-color: #E8F0FE;\n",
              "      border: none;\n",
              "      border-radius: 50%;\n",
              "      cursor: pointer;\n",
              "      display: none;\n",
              "      fill: #1967D2;\n",
              "      height: 32px;\n",
              "      padding: 0 0 0 0;\n",
              "      width: 32px;\n",
              "    }\n",
              "\n",
              "    .colab-df-convert:hover {\n",
              "      background-color: #E2EBFA;\n",
              "      box-shadow: 0px 1px 2px rgba(60, 64, 67, 0.3), 0px 1px 3px 1px rgba(60, 64, 67, 0.15);\n",
              "      fill: #174EA6;\n",
              "    }\n",
              "\n",
              "    [theme=dark] .colab-df-convert {\n",
              "      background-color: #3B4455;\n",
              "      fill: #D2E3FC;\n",
              "    }\n",
              "\n",
              "    [theme=dark] .colab-df-convert:hover {\n",
              "      background-color: #434B5C;\n",
              "      box-shadow: 0px 1px 3px 1px rgba(0, 0, 0, 0.15);\n",
              "      filter: drop-shadow(0px 1px 2px rgba(0, 0, 0, 0.3));\n",
              "      fill: #FFFFFF;\n",
              "    }\n",
              "  </style>\n",
              "\n",
              "      <script>\n",
              "        const buttonEl =\n",
              "          document.querySelector('#df-089ef3d4-4745-49ea-98f2-99a3fd2f3765 button.colab-df-convert');\n",
              "        buttonEl.style.display =\n",
              "          google.colab.kernel.accessAllowed ? 'block' : 'none';\n",
              "\n",
              "        async function convertToInteractive(key) {\n",
              "          const element = document.querySelector('#df-089ef3d4-4745-49ea-98f2-99a3fd2f3765');\n",
              "          const dataTable =\n",
              "            await google.colab.kernel.invokeFunction('convertToInteractive',\n",
              "                                                     [key], {});\n",
              "          if (!dataTable) return;\n",
              "\n",
              "          const docLinkHtml = 'Like what you see? Visit the ' +\n",
              "            '<a target=\"_blank\" href=https://colab.research.google.com/notebooks/data_table.ipynb>data table notebook</a>'\n",
              "            + ' to learn more about interactive tables.';\n",
              "          element.innerHTML = '';\n",
              "          dataTable['output_type'] = 'display_data';\n",
              "          await google.colab.output.renderOutput(dataTable, element);\n",
              "          const docLink = document.createElement('div');\n",
              "          docLink.innerHTML = docLinkHtml;\n",
              "          element.appendChild(docLink);\n",
              "        }\n",
              "      </script>\n",
              "    </div>\n",
              "  </div>\n",
              "  "
            ],
            "text/plain": [
              "     PassengerId  Survived  Pclass  \\\n",
              "0              1         0       3   \n",
              "1              2         1       1   \n",
              "2              3         1       3   \n",
              "3              4         1       1   \n",
              "4              5         0       3   \n",
              "..           ...       ...     ...   \n",
              "886          887         0       2   \n",
              "887          888         1       1   \n",
              "888          889         0       3   \n",
              "889          890         1       1   \n",
              "890          891         0       3   \n",
              "\n",
              "                                                  Name     Sex   Age  SibSp  \\\n",
              "0                              Braund, Mr. Owen Harris    male  22.0      1   \n",
              "1    Cumings, Mrs. John Bradley (Florence Briggs Th...  female  38.0      1   \n",
              "2                               Heikkinen, Miss. Laina  female  26.0      0   \n",
              "3         Futrelle, Mrs. Jacques Heath (Lily May Peel)  female  35.0      1   \n",
              "4                             Allen, Mr. William Henry    male  35.0      0   \n",
              "..                                                 ...     ...   ...    ...   \n",
              "886                              Montvila, Rev. Juozas    male  27.0      0   \n",
              "887                       Graham, Miss. Margaret Edith  female  19.0      0   \n",
              "888           Johnston, Miss. Catherine Helen \"Carrie\"  female   NaN      1   \n",
              "889                              Behr, Mr. Karl Howell    male  26.0      0   \n",
              "890                                Dooley, Mr. Patrick    male  32.0      0   \n",
              "\n",
              "     Parch            Ticket     Fare Cabin Embarked  \n",
              "0        0         A/5 21171   7.2500   NaN        S  \n",
              "1        0          PC 17599  71.2833   C85        C  \n",
              "2        0  STON/O2. 3101282   7.9250   NaN        S  \n",
              "3        0            113803  53.1000  C123        S  \n",
              "4        0            373450   8.0500   NaN        S  \n",
              "..     ...               ...      ...   ...      ...  \n",
              "886      0            211536  13.0000   NaN        S  \n",
              "887      0            112053  30.0000   B42        S  \n",
              "888      2        W./C. 6607  23.4500   NaN        S  \n",
              "889      0            111369  30.0000  C148        C  \n",
              "890      0            370376   7.7500   NaN        Q  \n",
              "\n",
              "[891 rows x 12 columns]"
            ]
          },
          "execution_count": 2,
          "metadata": {},
          "output_type": "execute_result"
        }
      ],
      "source": [
        "# Data Loading\n",
        "\n",
        "data = pd.read_csv('https://raw.githubusercontent.com/ardhiraka/FSDS_Guidelines/master/p1/v3/w1/P1W1D2AM%20-%20Feature%20Engineering%20-%20Part%201%20-%20Titanic.csv')\n",
        "data"
      ]
    },
    {
      "cell_type": "markdown",
      "metadata": {
        "id": "sguMvieV9lha"
      },
      "source": [
        "# 4 - Data Preprocessing"
      ]
    },
    {
      "cell_type": "markdown",
      "metadata": {
        "id": "UtP2bGe19pA0"
      },
      "source": [
        "## Get Data for Model Inference"
      ]
    },
    {
      "cell_type": "code",
      "execution_count": null,
      "metadata": {
        "id": "OUE3TYKS9rqX"
      },
      "outputs": [],
      "source": [
        "# Get Data for Model Inference\n",
        "\n",
        "data_inf = data.sample(5, random_state=28)\n",
        "data_inf"
      ]
    },
    {
      "cell_type": "code",
      "execution_count": null,
      "metadata": {
        "id": "udXKLd6A92_j"
      },
      "outputs": [],
      "source": [
        "# Remove Inference Set from Dataset\n",
        "\n",
        "data_train_test = data.drop(data_inf.index)\n",
        "data_train_test"
      ]
    },
    {
      "cell_type": "code",
      "execution_count": null,
      "metadata": {
        "id": "XKRfHCUh-A04"
      },
      "outputs": [],
      "source": [
        "# Reset Index\n",
        "\n",
        "data_train_test.reset_index(drop=True, inplace=True)\n",
        "data_inf.reset_index(drop=True, inplace=True)\n",
        "data_inf"
      ]
    },
    {
      "cell_type": "markdown",
      "metadata": {
        "id": "C4MejPFU-ljZ"
      },
      "source": [
        "## Splitting between `X` and `y`"
      ]
    },
    {
      "cell_type": "code",
      "execution_count": null,
      "metadata": {
        "id": "WM22PogX-otE"
      },
      "outputs": [],
      "source": [
        "# Splitting between `X` and `y`\n",
        "\n",
        "X = data_train_test.drop('Survived', axis=1)\n",
        "y = data_train_test['Survived']"
      ]
    },
    {
      "cell_type": "code",
      "execution_count": null,
      "metadata": {
        "colab": {
          "base_uri": "https://localhost:8080/"
        },
        "id": "GV9jb3H4-0CW",
        "outputId": "d06c5e2d-2980-4e9d-aa6e-0781c16f902f"
      },
      "outputs": [
        {
          "name": "stdout",
          "output_type": "stream",
          "text": [
            "Train Size :  (640, 11)\n",
            "Val Size :  (113, 11)\n",
            "Test Size :  (133, 11)\n"
          ]
        }
      ],
      "source": [
        "# Split between Train-Set, Val-Set, and Test-Set\n",
        "\n",
        "X_train_val, X_test, y_train_val, y_test = train_test_split(X, y, test_size=0.15, random_state=28)\n",
        "X_train, X_val, y_train, y_val = train_test_split(X_train_val, y_train_val, test_size=0.15, random_state=28)\n",
        "\n",
        "print('Train Size : ', X_train.shape)\n",
        "print('Val Size : ', X_val.shape)\n",
        "print('Test Size : ', X_test.shape)"
      ]
    },
    {
      "cell_type": "markdown",
      "metadata": {
        "id": "LXbeQogbA6eR"
      },
      "source": [
        "## Handling Missing Values"
      ]
    },
    {
      "cell_type": "code",
      "execution_count": null,
      "metadata": {
        "id": "i4keG6sRA_h-"
      },
      "outputs": [],
      "source": [
        "# Check Missing Values on X_train\n",
        "\n",
        "X_train.isnull().sum()"
      ]
    },
    {
      "cell_type": "code",
      "execution_count": null,
      "metadata": {
        "id": "KS-Q2Dx3BFwj"
      },
      "outputs": [],
      "source": [
        "# Check Missing Values on X_val\n",
        "\n",
        "X_val.isnull().sum()"
      ]
    },
    {
      "cell_type": "code",
      "execution_count": null,
      "metadata": {
        "id": "gxjZ_rfmBKIy"
      },
      "outputs": [],
      "source": [
        "# Check Missing Values on X_test\n",
        "\n",
        "X_test.isnull().sum()"
      ]
    },
    {
      "cell_type": "markdown",
      "metadata": {
        "id": "dVjc4_URBTsk"
      },
      "source": [
        "## Feature Selection"
      ]
    },
    {
      "cell_type": "code",
      "execution_count": null,
      "metadata": {
        "colab": {
          "base_uri": "https://localhost:8080/",
          "height": 424
        },
        "id": "wkEXnIx4BV9Z",
        "outputId": "09d06783-1d9d-42dc-9e9f-ef07f9bda287"
      },
      "outputs": [
        {
          "data": {
            "text/html": [
              "\n",
              "  <div id=\"df-42f8184d-a793-4f87-a79f-ec656157569b\">\n",
              "    <div class=\"colab-df-container\">\n",
              "      <div>\n",
              "<style scoped>\n",
              "    .dataframe tbody tr th:only-of-type {\n",
              "        vertical-align: middle;\n",
              "    }\n",
              "\n",
              "    .dataframe tbody tr th {\n",
              "        vertical-align: top;\n",
              "    }\n",
              "\n",
              "    .dataframe thead th {\n",
              "        text-align: right;\n",
              "    }\n",
              "</style>\n",
              "<table border=\"1\" class=\"dataframe\">\n",
              "  <thead>\n",
              "    <tr style=\"text-align: right;\">\n",
              "      <th></th>\n",
              "      <th>PassengerId</th>\n",
              "      <th>Pclass</th>\n",
              "      <th>Name</th>\n",
              "      <th>Sex</th>\n",
              "      <th>Age</th>\n",
              "      <th>SibSp</th>\n",
              "      <th>Parch</th>\n",
              "      <th>Ticket</th>\n",
              "      <th>Fare</th>\n",
              "      <th>Cabin</th>\n",
              "      <th>Embarked</th>\n",
              "    </tr>\n",
              "  </thead>\n",
              "  <tbody>\n",
              "    <tr>\n",
              "      <th>786</th>\n",
              "      <td>792</td>\n",
              "      <td>2</td>\n",
              "      <td>Gaskell, Mr. Alfred</td>\n",
              "      <td>male</td>\n",
              "      <td>16.0</td>\n",
              "      <td>0</td>\n",
              "      <td>0</td>\n",
              "      <td>239865</td>\n",
              "      <td>26.0000</td>\n",
              "      <td>NaN</td>\n",
              "      <td>S</td>\n",
              "    </tr>\n",
              "    <tr>\n",
              "      <th>189</th>\n",
              "      <td>191</td>\n",
              "      <td>2</td>\n",
              "      <td>Pinsky, Mrs. (Rosa)</td>\n",
              "      <td>female</td>\n",
              "      <td>32.0</td>\n",
              "      <td>0</td>\n",
              "      <td>0</td>\n",
              "      <td>234604</td>\n",
              "      <td>13.0000</td>\n",
              "      <td>NaN</td>\n",
              "      <td>S</td>\n",
              "    </tr>\n",
              "    <tr>\n",
              "      <th>567</th>\n",
              "      <td>572</td>\n",
              "      <td>1</td>\n",
              "      <td>Appleton, Mrs. Edward Dale (Charlotte Lamson)</td>\n",
              "      <td>female</td>\n",
              "      <td>53.0</td>\n",
              "      <td>2</td>\n",
              "      <td>0</td>\n",
              "      <td>11769</td>\n",
              "      <td>51.4792</td>\n",
              "      <td>C101</td>\n",
              "      <td>S</td>\n",
              "    </tr>\n",
              "    <tr>\n",
              "      <th>500</th>\n",
              "      <td>505</td>\n",
              "      <td>1</td>\n",
              "      <td>Maioni, Miss. Roberta</td>\n",
              "      <td>female</td>\n",
              "      <td>16.0</td>\n",
              "      <td>0</td>\n",
              "      <td>0</td>\n",
              "      <td>110152</td>\n",
              "      <td>86.5000</td>\n",
              "      <td>B79</td>\n",
              "      <td>S</td>\n",
              "    </tr>\n",
              "    <tr>\n",
              "      <th>868</th>\n",
              "      <td>874</td>\n",
              "      <td>3</td>\n",
              "      <td>Vander Cruyssen, Mr. Victor</td>\n",
              "      <td>male</td>\n",
              "      <td>47.0</td>\n",
              "      <td>0</td>\n",
              "      <td>0</td>\n",
              "      <td>345765</td>\n",
              "      <td>9.0000</td>\n",
              "      <td>NaN</td>\n",
              "      <td>S</td>\n",
              "    </tr>\n",
              "    <tr>\n",
              "      <th>...</th>\n",
              "      <td>...</td>\n",
              "      <td>...</td>\n",
              "      <td>...</td>\n",
              "      <td>...</td>\n",
              "      <td>...</td>\n",
              "      <td>...</td>\n",
              "      <td>...</td>\n",
              "      <td>...</td>\n",
              "      <td>...</td>\n",
              "      <td>...</td>\n",
              "      <td>...</td>\n",
              "    </tr>\n",
              "    <tr>\n",
              "      <th>163</th>\n",
              "      <td>165</td>\n",
              "      <td>3</td>\n",
              "      <td>Panula, Master. Eino Viljami</td>\n",
              "      <td>male</td>\n",
              "      <td>1.0</td>\n",
              "      <td>4</td>\n",
              "      <td>1</td>\n",
              "      <td>3101295</td>\n",
              "      <td>39.6875</td>\n",
              "      <td>NaN</td>\n",
              "      <td>S</td>\n",
              "    </tr>\n",
              "    <tr>\n",
              "      <th>522</th>\n",
              "      <td>527</td>\n",
              "      <td>2</td>\n",
              "      <td>Ridsdale, Miss. Lucy</td>\n",
              "      <td>female</td>\n",
              "      <td>50.0</td>\n",
              "      <td>0</td>\n",
              "      <td>0</td>\n",
              "      <td>W./C. 14258</td>\n",
              "      <td>10.5000</td>\n",
              "      <td>NaN</td>\n",
              "      <td>S</td>\n",
              "    </tr>\n",
              "    <tr>\n",
              "      <th>34</th>\n",
              "      <td>35</td>\n",
              "      <td>1</td>\n",
              "      <td>Meyer, Mr. Edgar Joseph</td>\n",
              "      <td>male</td>\n",
              "      <td>28.0</td>\n",
              "      <td>1</td>\n",
              "      <td>0</td>\n",
              "      <td>PC 17604</td>\n",
              "      <td>82.1708</td>\n",
              "      <td>NaN</td>\n",
              "      <td>C</td>\n",
              "    </tr>\n",
              "    <tr>\n",
              "      <th>566</th>\n",
              "      <td>571</td>\n",
              "      <td>2</td>\n",
              "      <td>Harris, Mr. George</td>\n",
              "      <td>male</td>\n",
              "      <td>62.0</td>\n",
              "      <td>0</td>\n",
              "      <td>0</td>\n",
              "      <td>S.W./PP 752</td>\n",
              "      <td>10.5000</td>\n",
              "      <td>NaN</td>\n",
              "      <td>S</td>\n",
              "    </tr>\n",
              "    <tr>\n",
              "      <th>356</th>\n",
              "      <td>360</td>\n",
              "      <td>3</td>\n",
              "      <td>Mockler, Miss. Helen Mary \"Ellie\"</td>\n",
              "      <td>female</td>\n",
              "      <td>NaN</td>\n",
              "      <td>0</td>\n",
              "      <td>0</td>\n",
              "      <td>330980</td>\n",
              "      <td>7.8792</td>\n",
              "      <td>NaN</td>\n",
              "      <td>Q</td>\n",
              "    </tr>\n",
              "  </tbody>\n",
              "</table>\n",
              "<p>640 rows × 11 columns</p>\n",
              "</div>\n",
              "      <button class=\"colab-df-convert\" onclick=\"convertToInteractive('df-42f8184d-a793-4f87-a79f-ec656157569b')\"\n",
              "              title=\"Convert this dataframe to an interactive table.\"\n",
              "              style=\"display:none;\">\n",
              "        \n",
              "  <svg xmlns=\"http://www.w3.org/2000/svg\" height=\"24px\"viewBox=\"0 0 24 24\"\n",
              "       width=\"24px\">\n",
              "    <path d=\"M0 0h24v24H0V0z\" fill=\"none\"/>\n",
              "    <path d=\"M18.56 5.44l.94 2.06.94-2.06 2.06-.94-2.06-.94-.94-2.06-.94 2.06-2.06.94zm-11 1L8.5 8.5l.94-2.06 2.06-.94-2.06-.94L8.5 2.5l-.94 2.06-2.06.94zm10 10l.94 2.06.94-2.06 2.06-.94-2.06-.94-.94-2.06-.94 2.06-2.06.94z\"/><path d=\"M17.41 7.96l-1.37-1.37c-.4-.4-.92-.59-1.43-.59-.52 0-1.04.2-1.43.59L10.3 9.45l-7.72 7.72c-.78.78-.78 2.05 0 2.83L4 21.41c.39.39.9.59 1.41.59.51 0 1.02-.2 1.41-.59l7.78-7.78 2.81-2.81c.8-.78.8-2.07 0-2.86zM5.41 20L4 18.59l7.72-7.72 1.47 1.35L5.41 20z\"/>\n",
              "  </svg>\n",
              "      </button>\n",
              "      \n",
              "  <style>\n",
              "    .colab-df-container {\n",
              "      display:flex;\n",
              "      flex-wrap:wrap;\n",
              "      gap: 12px;\n",
              "    }\n",
              "\n",
              "    .colab-df-convert {\n",
              "      background-color: #E8F0FE;\n",
              "      border: none;\n",
              "      border-radius: 50%;\n",
              "      cursor: pointer;\n",
              "      display: none;\n",
              "      fill: #1967D2;\n",
              "      height: 32px;\n",
              "      padding: 0 0 0 0;\n",
              "      width: 32px;\n",
              "    }\n",
              "\n",
              "    .colab-df-convert:hover {\n",
              "      background-color: #E2EBFA;\n",
              "      box-shadow: 0px 1px 2px rgba(60, 64, 67, 0.3), 0px 1px 3px 1px rgba(60, 64, 67, 0.15);\n",
              "      fill: #174EA6;\n",
              "    }\n",
              "\n",
              "    [theme=dark] .colab-df-convert {\n",
              "      background-color: #3B4455;\n",
              "      fill: #D2E3FC;\n",
              "    }\n",
              "\n",
              "    [theme=dark] .colab-df-convert:hover {\n",
              "      background-color: #434B5C;\n",
              "      box-shadow: 0px 1px 3px 1px rgba(0, 0, 0, 0.15);\n",
              "      filter: drop-shadow(0px 1px 2px rgba(0, 0, 0, 0.3));\n",
              "      fill: #FFFFFF;\n",
              "    }\n",
              "  </style>\n",
              "\n",
              "      <script>\n",
              "        const buttonEl =\n",
              "          document.querySelector('#df-42f8184d-a793-4f87-a79f-ec656157569b button.colab-df-convert');\n",
              "        buttonEl.style.display =\n",
              "          google.colab.kernel.accessAllowed ? 'block' : 'none';\n",
              "\n",
              "        async function convertToInteractive(key) {\n",
              "          const element = document.querySelector('#df-42f8184d-a793-4f87-a79f-ec656157569b');\n",
              "          const dataTable =\n",
              "            await google.colab.kernel.invokeFunction('convertToInteractive',\n",
              "                                                     [key], {});\n",
              "          if (!dataTable) return;\n",
              "\n",
              "          const docLinkHtml = 'Like what you see? Visit the ' +\n",
              "            '<a target=\"_blank\" href=https://colab.research.google.com/notebooks/data_table.ipynb>data table notebook</a>'\n",
              "            + ' to learn more about interactive tables.';\n",
              "          element.innerHTML = '';\n",
              "          dataTable['output_type'] = 'display_data';\n",
              "          await google.colab.output.renderOutput(dataTable, element);\n",
              "          const docLink = document.createElement('div');\n",
              "          docLink.innerHTML = docLinkHtml;\n",
              "          element.appendChild(docLink);\n",
              "        }\n",
              "      </script>\n",
              "    </div>\n",
              "  </div>\n",
              "  "
            ],
            "text/plain": [
              "     PassengerId  Pclass                                           Name  \\\n",
              "786          792       2                            Gaskell, Mr. Alfred   \n",
              "189          191       2                            Pinsky, Mrs. (Rosa)   \n",
              "567          572       1  Appleton, Mrs. Edward Dale (Charlotte Lamson)   \n",
              "500          505       1                          Maioni, Miss. Roberta   \n",
              "868          874       3                    Vander Cruyssen, Mr. Victor   \n",
              "..           ...     ...                                            ...   \n",
              "163          165       3                   Panula, Master. Eino Viljami   \n",
              "522          527       2                           Ridsdale, Miss. Lucy   \n",
              "34            35       1                        Meyer, Mr. Edgar Joseph   \n",
              "566          571       2                             Harris, Mr. George   \n",
              "356          360       3              Mockler, Miss. Helen Mary \"Ellie\"   \n",
              "\n",
              "        Sex   Age  SibSp  Parch       Ticket     Fare Cabin Embarked  \n",
              "786    male  16.0      0      0       239865  26.0000   NaN        S  \n",
              "189  female  32.0      0      0       234604  13.0000   NaN        S  \n",
              "567  female  53.0      2      0        11769  51.4792  C101        S  \n",
              "500  female  16.0      0      0       110152  86.5000   B79        S  \n",
              "868    male  47.0      0      0       345765   9.0000   NaN        S  \n",
              "..      ...   ...    ...    ...          ...      ...   ...      ...  \n",
              "163    male   1.0      4      1      3101295  39.6875   NaN        S  \n",
              "522  female  50.0      0      0  W./C. 14258  10.5000   NaN        S  \n",
              "34     male  28.0      1      0     PC 17604  82.1708   NaN        C  \n",
              "566    male  62.0      0      0  S.W./PP 752  10.5000   NaN        S  \n",
              "356  female   NaN      0      0       330980   7.8792   NaN        Q  \n",
              "\n",
              "[640 rows x 11 columns]"
            ]
          },
          "execution_count": 11,
          "metadata": {},
          "output_type": "execute_result"
        }
      ],
      "source": [
        "# Display X_train\n",
        "\n",
        "X_train"
      ]
    },
    {
      "cell_type": "markdown",
      "metadata": {
        "id": "J0gCsxUuBoXO"
      },
      "source": [
        "Misalkan column `PassengerId`, `Cabin`, `Ticket`, `Embarked`, dan `Name` tidak memiliki korelasi yang kuat terhadap column `Survived`."
      ]
    },
    {
      "cell_type": "code",
      "execution_count": null,
      "metadata": {
        "id": "SjJWycbjB7IE"
      },
      "outputs": [],
      "source": [
        "# Drop Columns\n",
        "\n",
        "X_train.drop(['PassengerId', 'Cabin', 'Ticket', 'Embarked', 'Name'], axis=1, inplace=True)\n",
        "X_val.drop(['PassengerId', 'Cabin', 'Ticket', 'Embarked', 'Name'], axis=1, inplace=True)\n",
        "X_test.drop(['PassengerId', 'Cabin', 'Ticket', 'Embarked', 'Name'], axis=1, inplace=True)"
      ]
    },
    {
      "cell_type": "markdown",
      "metadata": {
        "id": "vtrlbiHJCWcd"
      },
      "source": [
        "## Get Numerical Columns and Categorical Columns"
      ]
    },
    {
      "cell_type": "code",
      "execution_count": null,
      "metadata": {
        "colab": {
          "base_uri": "https://localhost:8080/"
        },
        "id": "ztjm5jp3CWK8",
        "outputId": "99f0163c-074b-479c-aa83-a9cb5aefa036"
      },
      "outputs": [
        {
          "name": "stdout",
          "output_type": "stream",
          "text": [
            "Numerical Columns :  ['Pclass', 'Age', 'SibSp', 'Parch', 'Fare']\n",
            "Categorical Columns :  ['Sex']\n"
          ]
        }
      ],
      "source": [
        "# Get Numerical Columns and Categorical Columns\n",
        "\n",
        "num_columns = X_train.select_dtypes(include=np.number).columns.tolist()\n",
        "cat_columns = X_train.select_dtypes(include=['object']).columns.tolist()\n",
        "\n",
        "print('Numerical Columns : ', num_columns)\n",
        "print('Categorical Columns : ', cat_columns)"
      ]
    },
    {
      "cell_type": "markdown",
      "metadata": {
        "id": "AA2wCr8dC2pU"
      },
      "source": [
        "## Pipeline"
      ]
    },
    {
      "cell_type": "code",
      "execution_count": null,
      "metadata": {
        "id": "uOma8vtXC5af"
      },
      "outputs": [],
      "source": [
        "# Create A Pipeline\n",
        "\n",
        "num_pipeline = make_pipeline(SimpleImputer(strategy='median'),\n",
        "                             StandardScaler())\n",
        "\n",
        "cat_pipeline = make_pipeline(OneHotEncoder())\n",
        "\n",
        "final_pipeline = ColumnTransformer([\n",
        "    ('pipe_num', num_pipeline, num_columns),\n",
        "    ('pipe_cat', cat_pipeline, cat_columns)\n",
        "])"
      ]
    },
    {
      "cell_type": "code",
      "execution_count": null,
      "metadata": {
        "colab": {
          "base_uri": "https://localhost:8080/"
        },
        "id": "j-Gt0_z5DjDv",
        "outputId": "bc1e3b83-6a95-424f-e4d9-f982c06ac9c8"
      },
      "outputs": [
        {
          "data": {
            "text/plain": [
              "(640, 7)"
            ]
          },
          "execution_count": 17,
          "metadata": {},
          "output_type": "execute_result"
        }
      ],
      "source": [
        "# Fit and Transform\n",
        "\n",
        "X_train = final_pipeline.fit_transform(X_train)\n",
        "X_val = final_pipeline.transform(X_val)\n",
        "X_test = final_pipeline.transform(X_test)\n",
        "X_train.shape"
      ]
    },
    {
      "cell_type": "markdown",
      "metadata": {
        "id": "EZr1l_3NEg3J"
      },
      "source": [
        "# 5 - Sequential API"
      ]
    },
    {
      "cell_type": "markdown",
      "metadata": {
        "id": "CPeqKofcE8ov"
      },
      "source": [
        "## 5.1 - Model Definition"
      ]
    },
    {
      "cell_type": "code",
      "execution_count": null,
      "metadata": {
        "colab": {
          "base_uri": "https://localhost:8080/"
        },
        "id": "vdTvOYvfFAPH",
        "outputId": "9fd2b6d7-3eb9-4884-f91a-0b946e47b233"
      },
      "outputs": [
        {
          "name": "stdout",
          "output_type": "stream",
          "text": [
            "Model: \"sequential\"\n",
            "_________________________________________________________________\n",
            " Layer (type)                Output Shape              Param #   \n",
            "=================================================================\n",
            " dense (Dense)               (None, 16)                128       \n",
            "                                                                 \n",
            " dense_1 (Dense)             (None, 8)                 136       \n",
            "                                                                 \n",
            " dense_2 (Dense)             (None, 1)                 9         \n",
            "                                                                 \n",
            "=================================================================\n",
            "Total params: 273\n",
            "Trainable params: 273\n",
            "Non-trainable params: 0\n",
            "_________________________________________________________________\n"
          ]
        }
      ],
      "source": [
        "# Create Sequential API\n",
        "\n",
        "from tensorflow.keras.models import Sequential\n",
        "from tensorflow.keras.layers import Dense \n",
        "\n",
        "model_sequential = Sequential()\n",
        "model_sequential.add(Dense(16, activation='relu', input_shape=(7,))) # Hidden Layer 1\n",
        "model_sequential.add(Dense(8, activation='relu')) # Hidden Layer 2\n",
        "model_sequential.add(Dense(1, activation='sigmoid')) # Output Layer\n",
        "\n",
        "# Compile\n",
        "model_sequential.compile(loss='binary_crossentropy',\n",
        "                         optimizer='Adam',\n",
        "                         metrics=['accuracy'])\n",
        "\n",
        "model_sequential.summary()"
      ]
    },
    {
      "cell_type": "code",
      "execution_count": null,
      "metadata": {
        "colab": {
          "base_uri": "https://localhost:8080/",
          "height": 422
        },
        "id": "AtwUDtXUIlGL",
        "outputId": "71798541-3b6b-46cb-e4f1-0d1c0184f564"
      },
      "outputs": [
        {
          "data": {
            "image/png": "[encoded data removed]",
            "text/plain": [
              "<IPython.core.display.Image object>"
            ]
          },
          "execution_count": 20,
          "metadata": {},
          "output_type": "execute_result"
        }
      ],
      "source": [
        "# Plot Layers\n",
        "\n",
        "import tensorflow as tf\n",
        "\n",
        "tf.keras.utils.plot_model(model_sequential, show_shapes=True)"
      ]
    },
    {
      "cell_type": "markdown",
      "metadata": {
        "id": "tt7-B8dZIy3R"
      },
      "source": [
        "## 5.2 - Model Training"
      ]
    },
    {
      "cell_type": "code",
      "execution_count": null,
      "metadata": {
        "colab": {
          "base_uri": "https://localhost:8080/"
        },
        "id": "yp3N_jtOIyip",
        "outputId": "ad47a2fd-7f56-4170-f773-2c4e202fbba4"
      },
      "outputs": [
        {
          "name": "stdout",
          "output_type": "stream",
          "text": [
            "Epoch 1/20\n",
            "64/64 [==============================] - 0s 3ms/step - loss: 0.3806 - accuracy: 0.8547 - val_loss: 0.5023 - val_accuracy: 0.7434\n",
            "Epoch 2/20\n",
            "64/64 [==============================] - 0s 3ms/step - loss: 0.3795 - accuracy: 0.8578 - val_loss: 0.4968 - val_accuracy: 0.7434\n",
            "Epoch 3/20\n",
            "64/64 [==============================] - 0s 4ms/step - loss: 0.3805 - accuracy: 0.8562 - val_loss: 0.4976 - val_accuracy: 0.7434\n",
            "Epoch 4/20\n",
            "64/64 [==============================] - 0s 3ms/step - loss: 0.3786 - accuracy: 0.8578 - val_loss: 0.4902 - val_accuracy: 0.7434\n",
            "Epoch 5/20\n",
            "64/64 [==============================] - 0s 3ms/step - loss: 0.3787 - accuracy: 0.8562 - val_loss: 0.4931 - val_accuracy: 0.7434\n",
            "Epoch 6/20\n",
            "64/64 [==============================] - 0s 4ms/step - loss: 0.3785 - accuracy: 0.8578 - val_loss: 0.4881 - val_accuracy: 0.7434\n",
            "Epoch 7/20\n",
            "64/64 [==============================] - 0s 3ms/step - loss: 0.3780 - accuracy: 0.8562 - val_loss: 0.4950 - val_accuracy: 0.7434\n",
            "Epoch 8/20\n",
            "64/64 [==============================] - 0s 3ms/step - loss: 0.3782 - accuracy: 0.8562 - val_loss: 0.4888 - val_accuracy: 0.7522\n",
            "Epoch 9/20\n",
            "64/64 [==============================] - 0s 3ms/step - loss: 0.3770 - accuracy: 0.8562 - val_loss: 0.4953 - val_accuracy: 0.7434\n",
            "Epoch 10/20\n",
            "64/64 [==============================] - 0s 4ms/step - loss: 0.3770 - accuracy: 0.8594 - val_loss: 0.5016 - val_accuracy: 0.7434\n",
            "Epoch 11/20\n",
            "64/64 [==============================] - 0s 3ms/step - loss: 0.3765 - accuracy: 0.8609 - val_loss: 0.4915 - val_accuracy: 0.7522\n",
            "Epoch 12/20\n",
            "64/64 [==============================] - 0s 4ms/step - loss: 0.3767 - accuracy: 0.8562 - val_loss: 0.4982 - val_accuracy: 0.7522\n",
            "Epoch 13/20\n",
            "64/64 [==============================] - 0s 3ms/step - loss: 0.3765 - accuracy: 0.8594 - val_loss: 0.4955 - val_accuracy: 0.7522\n",
            "Epoch 14/20\n",
            "64/64 [==============================] - 0s 3ms/step - loss: 0.3754 - accuracy: 0.8594 - val_loss: 0.4938 - val_accuracy: 0.7434\n",
            "Epoch 15/20\n",
            "64/64 [==============================] - 0s 4ms/step - loss: 0.3748 - accuracy: 0.8594 - val_loss: 0.5015 - val_accuracy: 0.7434\n",
            "Epoch 16/20\n",
            "64/64 [==============================] - 0s 3ms/step - loss: 0.3756 - accuracy: 0.8562 - val_loss: 0.4983 - val_accuracy: 0.7522\n",
            "Epoch 17/20\n",
            "64/64 [==============================] - 0s 3ms/step - loss: 0.3753 - accuracy: 0.8594 - val_loss: 0.4976 - val_accuracy: 0.7522\n",
            "Epoch 18/20\n",
            "64/64 [==============================] - 0s 3ms/step - loss: 0.3754 - accuracy: 0.8547 - val_loss: 0.4949 - val_accuracy: 0.7522\n",
            "Epoch 19/20\n",
            "64/64 [==============================] - 0s 3ms/step - loss: 0.3736 - accuracy: 0.8578 - val_loss: 0.4951 - val_accuracy: 0.7522\n",
            "Epoch 20/20\n",
            "64/64 [==============================] - 0s 3ms/step - loss: 0.3743 - accuracy: 0.8578 - val_loss: 0.5009 - val_accuracy: 0.7522\n",
            "CPU times: user 4.45 s, sys: 390 ms, total: 4.84 s\n",
            "Wall time: 4.29 s\n"
          ]
        }
      ],
      "source": [
        "# Train the Model\n",
        "\n",
        "history_seq = model_sequential.fit(X_train, \n",
        "                                   y_train, \n",
        "                                   epochs=20, \n",
        "                                   validation_data=(X_val, y_val), \n",
        "                                   batch_size=10)"
      ]
    },
    {
      "cell_type": "markdown",
      "metadata": {
        "id": "E8nuiM75L0zm"
      },
      "source": [
        "## 5.3 - Model Evaluation"
      ]
    },
    {
      "cell_type": "code",
      "execution_count": null,
      "metadata": {
        "colab": {
          "base_uri": "https://localhost:8080/",
          "height": 677
        },
        "id": "m9q1AmdoL38M",
        "outputId": "ac97b897-0d16-472d-99e7-02a1a7b42dac"
      },
      "outputs": [
        {
          "data": {
            "text/html": [
              "\n",
              "  <div id=\"df-af0a7df6-8874-402c-84ee-c6190035522e\">\n",
              "    <div class=\"colab-df-container\">\n",
              "      <div>\n",
              "<style scoped>\n",
              "    .dataframe tbody tr th:only-of-type {\n",
              "        vertical-align: middle;\n",
              "    }\n",
              "\n",
              "    .dataframe tbody tr th {\n",
              "        vertical-align: top;\n",
              "    }\n",
              "\n",
              "    .dataframe thead th {\n",
              "        text-align: right;\n",
              "    }\n",
              "</style>\n",
              "<table border=\"1\" class=\"dataframe\">\n",
              "  <thead>\n",
              "    <tr style=\"text-align: right;\">\n",
              "      <th></th>\n",
              "      <th>loss</th>\n",
              "      <th>accuracy</th>\n",
              "      <th>val_loss</th>\n",
              "      <th>val_accuracy</th>\n",
              "    </tr>\n",
              "  </thead>\n",
              "  <tbody>\n",
              "    <tr>\n",
              "      <th>0</th>\n",
              "      <td>0.380593</td>\n",
              "      <td>0.854688</td>\n",
              "      <td>0.502331</td>\n",
              "      <td>0.743363</td>\n",
              "    </tr>\n",
              "    <tr>\n",
              "      <th>1</th>\n",
              "      <td>0.379505</td>\n",
              "      <td>0.857813</td>\n",
              "      <td>0.496761</td>\n",
              "      <td>0.743363</td>\n",
              "    </tr>\n",
              "    <tr>\n",
              "      <th>2</th>\n",
              "      <td>0.380507</td>\n",
              "      <td>0.856250</td>\n",
              "      <td>0.497605</td>\n",
              "      <td>0.743363</td>\n",
              "    </tr>\n",
              "    <tr>\n",
              "      <th>3</th>\n",
              "      <td>0.378593</td>\n",
              "      <td>0.857813</td>\n",
              "      <td>0.490201</td>\n",
              "      <td>0.743363</td>\n",
              "    </tr>\n",
              "    <tr>\n",
              "      <th>4</th>\n",
              "      <td>0.378654</td>\n",
              "      <td>0.856250</td>\n",
              "      <td>0.493101</td>\n",
              "      <td>0.743363</td>\n",
              "    </tr>\n",
              "    <tr>\n",
              "      <th>5</th>\n",
              "      <td>0.378479</td>\n",
              "      <td>0.857813</td>\n",
              "      <td>0.488126</td>\n",
              "      <td>0.743363</td>\n",
              "    </tr>\n",
              "    <tr>\n",
              "      <th>6</th>\n",
              "      <td>0.377990</td>\n",
              "      <td>0.856250</td>\n",
              "      <td>0.494966</td>\n",
              "      <td>0.743363</td>\n",
              "    </tr>\n",
              "    <tr>\n",
              "      <th>7</th>\n",
              "      <td>0.378190</td>\n",
              "      <td>0.856250</td>\n",
              "      <td>0.488832</td>\n",
              "      <td>0.752212</td>\n",
              "    </tr>\n",
              "    <tr>\n",
              "      <th>8</th>\n",
              "      <td>0.377046</td>\n",
              "      <td>0.856250</td>\n",
              "      <td>0.495313</td>\n",
              "      <td>0.743363</td>\n",
              "    </tr>\n",
              "    <tr>\n",
              "      <th>9</th>\n",
              "      <td>0.376977</td>\n",
              "      <td>0.859375</td>\n",
              "      <td>0.501567</td>\n",
              "      <td>0.743363</td>\n",
              "    </tr>\n",
              "    <tr>\n",
              "      <th>10</th>\n",
              "      <td>0.376528</td>\n",
              "      <td>0.860937</td>\n",
              "      <td>0.491492</td>\n",
              "      <td>0.752212</td>\n",
              "    </tr>\n",
              "    <tr>\n",
              "      <th>11</th>\n",
              "      <td>0.376699</td>\n",
              "      <td>0.856250</td>\n",
              "      <td>0.498162</td>\n",
              "      <td>0.752212</td>\n",
              "    </tr>\n",
              "    <tr>\n",
              "      <th>12</th>\n",
              "      <td>0.376451</td>\n",
              "      <td>0.859375</td>\n",
              "      <td>0.495499</td>\n",
              "      <td>0.752212</td>\n",
              "    </tr>\n",
              "    <tr>\n",
              "      <th>13</th>\n",
              "      <td>0.375415</td>\n",
              "      <td>0.859375</td>\n",
              "      <td>0.493781</td>\n",
              "      <td>0.743363</td>\n",
              "    </tr>\n",
              "    <tr>\n",
              "      <th>14</th>\n",
              "      <td>0.374756</td>\n",
              "      <td>0.859375</td>\n",
              "      <td>0.501500</td>\n",
              "      <td>0.743363</td>\n",
              "    </tr>\n",
              "    <tr>\n",
              "      <th>15</th>\n",
              "      <td>0.375620</td>\n",
              "      <td>0.856250</td>\n",
              "      <td>0.498264</td>\n",
              "      <td>0.752212</td>\n",
              "    </tr>\n",
              "    <tr>\n",
              "      <th>16</th>\n",
              "      <td>0.375265</td>\n",
              "      <td>0.859375</td>\n",
              "      <td>0.497562</td>\n",
              "      <td>0.752212</td>\n",
              "    </tr>\n",
              "    <tr>\n",
              "      <th>17</th>\n",
              "      <td>0.375421</td>\n",
              "      <td>0.854688</td>\n",
              "      <td>0.494938</td>\n",
              "      <td>0.752212</td>\n",
              "    </tr>\n",
              "    <tr>\n",
              "      <th>18</th>\n",
              "      <td>0.373633</td>\n",
              "      <td>0.857813</td>\n",
              "      <td>0.495113</td>\n",
              "      <td>0.752212</td>\n",
              "    </tr>\n",
              "    <tr>\n",
              "      <th>19</th>\n",
              "      <td>0.374261</td>\n",
              "      <td>0.857813</td>\n",
              "      <td>0.500946</td>\n",
              "      <td>0.752212</td>\n",
              "    </tr>\n",
              "  </tbody>\n",
              "</table>\n",
              "</div>\n",
              "      <button class=\"colab-df-convert\" onclick=\"convertToInteractive('df-af0a7df6-8874-402c-84ee-c6190035522e')\"\n",
              "              title=\"Convert this dataframe to an interactive table.\"\n",
              "              style=\"display:none;\">\n",
              "        \n",
              "  <svg xmlns=\"http://www.w3.org/2000/svg\" height=\"24px\"viewBox=\"0 0 24 24\"\n",
              "       width=\"24px\">\n",
              "    <path d=\"M0 0h24v24H0V0z\" fill=\"none\"/>\n",
              "    <path d=\"M18.56 5.44l.94 2.06.94-2.06 2.06-.94-2.06-.94-.94-2.06-.94 2.06-2.06.94zm-11 1L8.5 8.5l.94-2.06 2.06-.94-2.06-.94L8.5 2.5l-.94 2.06-2.06.94zm10 10l.94 2.06.94-2.06 2.06-.94-2.06-.94-.94-2.06-.94 2.06-2.06.94z\"/><path d=\"M17.41 7.96l-1.37-1.37c-.4-.4-.92-.59-1.43-.59-.52 0-1.04.2-1.43.59L10.3 9.45l-7.72 7.72c-.78.78-.78 2.05 0 2.83L4 21.41c.39.39.9.59 1.41.59.51 0 1.02-.2 1.41-.59l7.78-7.78 2.81-2.81c.8-.78.8-2.07 0-2.86zM5.41 20L4 18.59l7.72-7.72 1.47 1.35L5.41 20z\"/>\n",
              "  </svg>\n",
              "      </button>\n",
              "      \n",
              "  <style>\n",
              "    .colab-df-container {\n",
              "      display:flex;\n",
              "      flex-wrap:wrap;\n",
              "      gap: 12px;\n",
              "    }\n",
              "\n",
              "    .colab-df-convert {\n",
              "      background-color: #E8F0FE;\n",
              "      border: none;\n",
              "      border-radius: 50%;\n",
              "      cursor: pointer;\n",
              "      display: none;\n",
              "      fill: #1967D2;\n",
              "      height: 32px;\n",
              "      padding: 0 0 0 0;\n",
              "      width: 32px;\n",
              "    }\n",
              "\n",
              "    .colab-df-convert:hover {\n",
              "      background-color: #E2EBFA;\n",
              "      box-shadow: 0px 1px 2px rgba(60, 64, 67, 0.3), 0px 1px 3px 1px rgba(60, 64, 67, 0.15);\n",
              "      fill: #174EA6;\n",
              "    }\n",
              "\n",
              "    [theme=dark] .colab-df-convert {\n",
              "      background-color: #3B4455;\n",
              "      fill: #D2E3FC;\n",
              "    }\n",
              "\n",
              "    [theme=dark] .colab-df-convert:hover {\n",
              "      background-color: #434B5C;\n",
              "      box-shadow: 0px 1px 3px 1px rgba(0, 0, 0, 0.15);\n",
              "      filter: drop-shadow(0px 1px 2px rgba(0, 0, 0, 0.3));\n",
              "      fill: #FFFFFF;\n",
              "    }\n",
              "  </style>\n",
              "\n",
              "      <script>\n",
              "        const buttonEl =\n",
              "          document.querySelector('#df-af0a7df6-8874-402c-84ee-c6190035522e button.colab-df-convert');\n",
              "        buttonEl.style.display =\n",
              "          google.colab.kernel.accessAllowed ? 'block' : 'none';\n",
              "\n",
              "        async function convertToInteractive(key) {\n",
              "          const element = document.querySelector('#df-af0a7df6-8874-402c-84ee-c6190035522e');\n",
              "          const dataTable =\n",
              "            await google.colab.kernel.invokeFunction('convertToInteractive',\n",
              "                                                     [key], {});\n",
              "          if (!dataTable) return;\n",
              "\n",
              "          const docLinkHtml = 'Like what you see? Visit the ' +\n",
              "            '<a target=\"_blank\" href=https://colab.research.google.com/notebooks/data_table.ipynb>data table notebook</a>'\n",
              "            + ' to learn more about interactive tables.';\n",
              "          element.innerHTML = '';\n",
              "          dataTable['output_type'] = 'display_data';\n",
              "          await google.colab.output.renderOutput(dataTable, element);\n",
              "          const docLink = document.createElement('div');\n",
              "          docLink.innerHTML = docLinkHtml;\n",
              "          element.appendChild(docLink);\n",
              "        }\n",
              "      </script>\n",
              "    </div>\n",
              "  </div>\n",
              "  "
            ],
            "text/plain": [
              "        loss  accuracy  val_loss  val_accuracy\n",
              "0   0.380593  0.854688  0.502331      0.743363\n",
              "1   0.379505  0.857813  0.496761      0.743363\n",
              "2   0.380507  0.856250  0.497605      0.743363\n",
              "3   0.378593  0.857813  0.490201      0.743363\n",
              "4   0.378654  0.856250  0.493101      0.743363\n",
              "5   0.378479  0.857813  0.488126      0.743363\n",
              "6   0.377990  0.856250  0.494966      0.743363\n",
              "7   0.378190  0.856250  0.488832      0.752212\n",
              "8   0.377046  0.856250  0.495313      0.743363\n",
              "9   0.376977  0.859375  0.501567      0.743363\n",
              "10  0.376528  0.860937  0.491492      0.752212\n",
              "11  0.376699  0.856250  0.498162      0.752212\n",
              "12  0.376451  0.859375  0.495499      0.752212\n",
              "13  0.375415  0.859375  0.493781      0.743363\n",
              "14  0.374756  0.859375  0.501500      0.743363\n",
              "15  0.375620  0.856250  0.498264      0.752212\n",
              "16  0.375265  0.859375  0.497562      0.752212\n",
              "17  0.375421  0.854688  0.494938      0.752212\n",
              "18  0.373633  0.857813  0.495113      0.752212\n",
              "19  0.374261  0.857813  0.500946      0.752212"
            ]
          },
          "execution_count": 28,
          "metadata": {},
          "output_type": "execute_result"
        }
      ],
      "source": [
        "# Create DataFrame\n",
        "\n",
        "history_seq_df = pd.DataFrame(history_seq.history)\n",
        "history_seq_df"
      ]
    },
    {
      "cell_type": "code",
      "execution_count": null,
      "metadata": {
        "colab": {
          "base_uri": "https://localhost:8080/",
          "height": 283
        },
        "id": "0P8PKnrNMT2J",
        "outputId": "61379d2b-60a3-4e04-bc25-9ab681b960a7"
      },
      "outputs": [
        {
          "data": {
            "text/plain": [
              "<matplotlib.axes._subplots.AxesSubplot at 0x7f70ae458310>"
            ]
          },
          "execution_count": 29,
          "metadata": {},
          "output_type": "execute_result"
        },
        {
          "data": {
            "image/png": "[encoded data removed]",
            "text/plain": [
              "<Figure size 432x288 with 1 Axes>"
            ]
          },
          "metadata": {
            "needs_background": "light"
          },
          "output_type": "display_data"
        }
      ],
      "source": [
        "# Plot between accuracy and val_accuracy\n",
        "\n",
        "history_seq_df[['accuracy', 'val_accuracy']].plot()"
      ]
    },
    {
      "cell_type": "code",
      "execution_count": null,
      "metadata": {
        "colab": {
          "base_uri": "https://localhost:8080/",
          "height": 283
        },
        "id": "i8WU48EqNIO_",
        "outputId": "d294d3e0-6cfe-4b25-87bc-08181f8c0ded"
      },
      "outputs": [
        {
          "data": {
            "text/plain": [
              "<matplotlib.axes._subplots.AxesSubplot at 0x7f70ae41cf10>"
            ]
          },
          "execution_count": 30,
          "metadata": {},
          "output_type": "execute_result"
        },
        {
          "data": {
            "image/png": "[encoded data removed]",
            "text/plain": [
              "<Figure size 432x288 with 1 Axes>"
            ]
          },
          "metadata": {
            "needs_background": "light"
          },
          "output_type": "display_data"
        }
      ],
      "source": [
        "# Plot between loss and val_loss\n",
        "\n",
        "history_seq_df[['loss', 'val_loss']].plot()"
      ]
    },
    {
      "cell_type": "code",
      "execution_count": null,
      "metadata": {
        "colab": {
          "base_uri": "https://localhost:8080/"
        },
        "id": "l6G2vwQHPMJm",
        "outputId": "136d27bd-e40b-4075-db5f-f5efc7d78a1a"
      },
      "outputs": [
        {
          "name": "stdout",
          "output_type": "stream",
          "text": [
            "5/5 [==============================] - 0s 2ms/step\n",
            "              precision    recall  f1-score   support\n",
            "\n",
            "           0       0.88      0.87      0.87        84\n",
            "           1       0.78      0.80      0.79        49\n",
            "\n",
            "    accuracy                           0.84       133\n",
            "   macro avg       0.83      0.83      0.83       133\n",
            "weighted avg       0.84      0.84      0.84       133\n",
            "\n"
          ]
        }
      ],
      "source": [
        "# Model Evaluation\n",
        "\n",
        "from sklearn.metrics import classification_report \n",
        "\n",
        "y_pred_seq = model_sequential.predict(X_test)\n",
        "y_pred_seq = np.where(y_pred_seq >=0.5, 1, 0)\n",
        "\n",
        "print(classification_report(y_test, y_pred_seq))"
      ]
    },
    {
      "cell_type": "markdown",
      "metadata": {
        "id": "Txpi335vP1E9"
      },
      "source": [
        "# 6 - Functional API"
      ]
    },
    {
      "cell_type": "markdown",
      "metadata": {
        "id": "pF3xYThkQYwX"
      },
      "source": [
        "## 6.1 - Model Definition"
      ]
    },
    {
      "cell_type": "code",
      "execution_count": null,
      "metadata": {
        "id": "g8sdqVQVQJ5F"
      },
      "outputs": [],
      "source": [
        "# Create Functional Model\n",
        "\n",
        "from tensorflow.keras.layers import Input, concatenate\n",
        "from tensorflow.keras import Model\n",
        "\n",
        "input_layer = Input(shape=(7,))\n",
        "hidden1_layer = Dense(16, activation='relu')(input_layer)\n",
        "hidden2_layer = Dense(8, activation='relu')(hidden1_layer)\n",
        "\n",
        "concat_layer = concatenate([input_layer, hidden2_layer])\n",
        "output_layer = Dense(1, activation='sigmoid')(concat_layer)\n",
        "\n",
        "model_functional = Model(inputs=input_layer, outputs=output_layer)\n",
        "\n",
        "# Compile\n",
        "model_functional.compile(loss='binary_crossentropy',\n",
        "                         optimizer='Adam',\n",
        "                         metrics=['accuracy'])\n",
        "\n",
        "model_functional.summary()"
      ]
    },
    {
      "cell_type": "code",
      "execution_count": null,
      "metadata": {
        "colab": {
          "base_uri": "https://localhost:8080/",
          "height": 533
        },
        "id": "y0bR1abjRV9y",
        "outputId": "af04fec9-0949-425f-e1fd-3137f3bd21fd"
      },
      "outputs": [
        {
          "data": {
            "image/png": "[encoded data removed]",
            "text/plain": [
              "<IPython.core.display.Image object>"
            ]
          },
          "execution_count": 37,
          "metadata": {},
          "output_type": "execute_result"
        }
      ],
      "source": [
        "# Plot Layers\n",
        "\n",
        "tf.keras.utils.plot_model(model_functional, show_shapes=True)"
      ]
    },
    {
      "cell_type": "markdown",
      "metadata": {
        "id": "kZ4J59d3SNHy"
      },
      "source": [
        "## 6.2 - Model Training"
      ]
    },
    {
      "cell_type": "code",
      "execution_count": null,
      "metadata": {
        "id": "TcIS2Oy8SPFw"
      },
      "outputs": [],
      "source": [
        "# Train the Model\n",
        "\n",
        "history_func = model_functional.fit(X_train, \n",
        "                                   y_train, \n",
        "                                   epochs=20, \n",
        "                                   validation_data=(X_val, y_val), \n",
        "                                   batch_size=10)"
      ]
    },
    {
      "cell_type": "markdown",
      "metadata": {
        "id": "aWw88_LyScO4"
      },
      "source": [
        "## 6.3 - Model Evaluation"
      ]
    },
    {
      "cell_type": "code",
      "execution_count": null,
      "metadata": {
        "id": "MEsmyaWhSZXK"
      },
      "outputs": [],
      "source": [
        "# Create DataFrame\n",
        "\n",
        "history_functional_df = pd.DataFrame(history_func.history)\n",
        "history_functional_df"
      ]
    },
    {
      "cell_type": "code",
      "execution_count": null,
      "metadata": {
        "colab": {
          "base_uri": "https://localhost:8080/",
          "height": 283
        },
        "id": "4cYNlmIsSpWj",
        "outputId": "7b4434ba-3b0a-4a3d-d371-d3ea9172c0b9"
      },
      "outputs": [
        {
          "data": {
            "text/plain": [
              "<matplotlib.axes._subplots.AxesSubplot at 0x7f70b13acd90>"
            ]
          },
          "execution_count": 40,
          "metadata": {},
          "output_type": "execute_result"
        },
        {
          "data": {
            "image/png": "[encoded data removed]",
            "text/plain": [
              "<Figure size 432x288 with 1 Axes>"
            ]
          },
          "metadata": {
            "needs_background": "light"
          },
          "output_type": "display_data"
        }
      ],
      "source": [
        "# Plot between accuracy and val_accuracy\n",
        "\n",
        "history_functional_df[['accuracy', 'val_accuracy']].plot()"
      ]
    },
    {
      "cell_type": "code",
      "execution_count": null,
      "metadata": {
        "colab": {
          "base_uri": "https://localhost:8080/",
          "height": 283
        },
        "id": "tt1WPDfxS6_g",
        "outputId": "fa3e99b2-5ae1-4f40-cd36-f43ee3bf1c85"
      },
      "outputs": [
        {
          "data": {
            "text/plain": [
              "<matplotlib.axes._subplots.AxesSubplot at 0x7f70b1323350>"
            ]
          },
          "execution_count": 41,
          "metadata": {},
          "output_type": "execute_result"
        },
        {
          "data": {
            "image/png": "[encoded data removed]",
            "text/plain": [
              "<Figure size 432x288 with 1 Axes>"
            ]
          },
          "metadata": {
            "needs_background": "light"
          },
          "output_type": "display_data"
        }
      ],
      "source": [
        "# Plot between loss and val_loss\n",
        "\n",
        "history_functional_df[['loss', 'val_loss']].plot()"
      ]
    },
    {
      "cell_type": "code",
      "execution_count": null,
      "metadata": {
        "colab": {
          "base_uri": "https://localhost:8080/"
        },
        "id": "qIT8N32WTI6P",
        "outputId": "0975474b-33e1-4ebb-ab57-d916bf02e7e6"
      },
      "outputs": [
        {
          "name": "stdout",
          "output_type": "stream",
          "text": [
            "5/5 [==============================] - 0s 2ms/step\n",
            "              precision    recall  f1-score   support\n",
            "\n",
            "           0       0.89      0.83      0.86        84\n",
            "           1       0.74      0.82      0.78        49\n",
            "\n",
            "    accuracy                           0.83       133\n",
            "   macro avg       0.81      0.82      0.82       133\n",
            "weighted avg       0.83      0.83      0.83       133\n",
            "\n"
          ]
        }
      ],
      "source": [
        "# Model Evaluation\n",
        "\n",
        "from sklearn.metrics import classification_report \n",
        "\n",
        "y_pred_func = model_functional.predict(X_test)\n",
        "y_pred_func = np.where(y_pred_func >=0.5, 1, 0)\n",
        "\n",
        "print(classification_report(y_test, y_pred_func))"
      ]
    },
    {
      "cell_type": "markdown",
      "metadata": {
        "id": "uXNnhzlJTjRg"
      },
      "source": [
        "# 7 - Model Saving"
      ]
    },
    {
      "cell_type": "code",
      "execution_count": null,
      "metadata": {
        "id": "qZ-2L8d7Tlru"
      },
      "outputs": [],
      "source": [
        "# Save Pipeline\n",
        "\n",
        "with open('final_pipeline.pkl', 'wb') as file_1:\n",
        "  joblib.dump(final_pipeline, file_1)"
      ]
    },
    {
      "cell_type": "code",
      "execution_count": null,
      "metadata": {
        "id": "H6nR9KhaTuXM"
      },
      "outputs": [],
      "source": [
        "# Summary of Model Sequential\n",
        "\n",
        "model_sequential.summary()"
      ]
    },
    {
      "cell_type": "code",
      "execution_count": null,
      "metadata": {
        "id": "sHrMMiI7T3Ri"
      },
      "outputs": [],
      "source": [
        "# Freeze Model\n",
        "\n",
        "model_sequential.trainable = False\n",
        "model_sequential.summary()"
      ]
    },
    {
      "cell_type": "code",
      "execution_count": null,
      "metadata": {
        "id": "2Ch1DA3OUCB0"
      },
      "outputs": [],
      "source": [
        "# Save ANN Model\n",
        "\n",
        "model_sequential.save('titanic_model.h5')"
      ]
    },
    {
      "cell_type": "markdown",
      "metadata": {
        "id": "quORMXCxUPva"
      },
      "source": [
        "# 8 - Model Inference"
      ]
    },
    {
      "cell_type": "code",
      "execution_count": null,
      "metadata": {
        "colab": {
          "base_uri": "https://localhost:8080/"
        },
        "id": "u7AV3DWKUTIz",
        "outputId": "c2351d42-8426-4449-f5e3-bf57d50db298"
      },
      "outputs": [
        {
          "name": "stderr",
          "output_type": "stream",
          "text": [
            "WARNING:tensorflow:Error in loading the saved optimizer state. As a result, your model is starting with a freshly initialized optimizer.\n"
          ]
        }
      ],
      "source": [
        "# Load The Models\n",
        "\n",
        "with open('final_pipeline.pkl', 'rb') as file_1:\n",
        "  model_pipeline = joblib.load(file_1)\n",
        "\n",
        "from tensorflow.keras.models import load_model\n",
        "model_ann = load_model('titanic_model.h5')"
      ]
    },
    {
      "cell_type": "code",
      "execution_count": null,
      "metadata": {
        "colab": {
          "base_uri": "https://localhost:8080/"
        },
        "id": "rVPnH2hzUoFz",
        "outputId": "c750d562-66b4-49c9-a06a-0d74bf8ceec0"
      },
      "outputs": [
        {
          "data": {
            "text/plain": [
              "array([[ 0.85858734, -0.59345635, -0.48794103, -0.49246397, -0.4728609 ,\n",
              "         0.        ,  1.        ],\n",
              "       [-1.54620871,  0.88962837,  0.44984353, -0.49246397,  0.35585768,\n",
              "         0.        ,  1.        ],\n",
              "       [ 0.85858734, -0.59345635, -0.48794103, -0.49246397, -0.47471659,\n",
              "         0.        ,  1.        ],\n",
              "       [-1.54620871,  0.51885719, -0.48794103,  0.72443541, -0.06824395,\n",
              "         0.        ,  1.        ],\n",
              "       [-1.54620871,  1.5570165 , -0.48794103,  0.72443541,  0.51962175,\n",
              "         0.        ,  1.        ]])"
            ]
          },
          "execution_count": 51,
          "metadata": {},
          "output_type": "execute_result"
        }
      ],
      "source": [
        "# Transform Inference-Set \n",
        "\n",
        "data_inf_transform = model_pipeline.transform(data_inf)\n",
        "data_inf_transform"
      ]
    },
    {
      "cell_type": "code",
      "execution_count": null,
      "metadata": {
        "colab": {
          "base_uri": "https://localhost:8080/"
        },
        "id": "5Rh8vf8mU30j",
        "outputId": "fc126408-d593-446d-ab8a-b1f3fee07f9c"
      },
      "outputs": [
        {
          "name": "stdout",
          "output_type": "stream",
          "text": [
            "1/1 [==============================] - 0s 54ms/step\n"
          ]
        },
        {
          "data": {
            "text/plain": [
              "array([[0],\n",
              "       [0],\n",
              "       [0],\n",
              "       [0],\n",
              "       [0]])"
            ]
          },
          "execution_count": 53,
          "metadata": {},
          "output_type": "execute_result"
        }
      ],
      "source": [
        "# Predict using Neural Network\n",
        "\n",
        "y_pred_inf = model_ann.predict(data_inf_transform)\n",
        "y_pred_inf = np.where(y_pred_inf >= 0.5, 1, 0)\n",
        "y_pred_inf"
      ]
    }
  ],
  "metadata": {
    "accelerator": "GPU",
    "colab": {
      "collapsed_sections": [
        "dVjc4_URBTsk",
        "vtrlbiHJCWcd",
        "AA2wCr8dC2pU",
        "CPeqKofcE8ov",
        "tt7-B8dZIy3R",
        "E8nuiM75L0zm",
        "pF3xYThkQYwX",
        "kZ4J59d3SNHy",
        "aWw88_LyScO4"
      ],
      "provenance": [],
      "toc_visible": true
    },
    "gpuClass": "standard",
    "kernelspec": {
      "display_name": "Python 3.10.8 64-bit",
      "language": "python",
      "name": "python3"
    },
    "language_info": {
      "name": "python",
      "version": "3.10.8"
    },
    "vscode": {
      "interpreter": {
        "hash": "aee8b7b246df8f9039afb4144a1f6fd8d2ca17a180786b69acc140d282b71a49"
      }
    }
  },
  "nbformat": 4,
  "nbformat_minor": 0
}
