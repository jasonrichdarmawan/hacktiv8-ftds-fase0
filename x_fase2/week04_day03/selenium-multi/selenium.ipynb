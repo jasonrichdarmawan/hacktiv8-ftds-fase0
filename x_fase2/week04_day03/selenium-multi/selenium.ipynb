{
 "cells": [
  {
   "cell_type": "code",
   "execution_count": 5,
   "metadata": {},
   "outputs": [],
   "source": [
    "from selenium import webdriver\n",
    "from selenium.webdriver.chrome.service import Service as ChromeService\n",
    "from webdriver_manager.chrome import ChromeDriverManager\n",
    "from selenium.webdriver.common.desired_capabilities import DesiredCapabilities\n",
    "from selenium.webdriver.common.by import By\n",
    "from selenium.webdriver.common.keys import Keys\n",
    "from selenium.webdriver.chrome.webdriver import WebDriver\n",
    "from selenium.common.exceptions import NoSuchWindowException\n",
    "import threading\n",
    "import pandas as pd"
   ]
  },
  {
   "cell_type": "code",
   "execution_count": 6,
   "metadata": {},
   "outputs": [],
   "source": [
    "caps = DesiredCapabilities.CHROME.copy()\n",
    "caps['pageLoadStrategy'] = \"none\"\n",
    "\n",
    "drivers = {}"
   ]
  },
  {
   "cell_type": "code",
   "execution_count": 7,
   "metadata": {},
   "outputs": [],
   "source": [
    "def get_or_load_driver(symbol: str):\n",
    "    driver = drivers.get(symbol)\n",
    "    \n",
    "    if driver is None:\n",
    "        driver = webdriver.Chrome(service=ChromeService(ChromeDriverManager().install()),\n",
    "                                  desired_capabilities=caps)\n",
    "        # driver = webdriver.Remote(desired_capabilities=caps)\n",
    "    \n",
    "    url = f'https://stockbit.com/symbol/{symbol}'\n",
    "\n",
    "    if driver.current_url != url:\n",
    "        driver.get(url=url)\n",
    "    \n",
    "    drivers[symbol] = driver\n",
    "    \n",
    "    return driver"
   ]
  },
  {
   "cell_type": "code",
   "execution_count": 15,
   "metadata": {},
   "outputs": [
    {
     "data": {
      "text/plain": [
       "'Saham: ICBP - PT. Indofood CBP Sukses Makmur Tbk. | Stockbit'"
      ]
     },
     "execution_count": 15,
     "metadata": {},
     "output_type": "execute_result"
    }
   ],
   "source": [
    "driver = get_or_load_driver('ICBP')\n",
    "driver.title"
   ]
  }
 ],
 "metadata": {
  "kernelspec": {
   "display_name": "Python 3",
   "language": "python",
   "name": "python3"
  },
  "language_info": {
   "codemirror_mode": {
    "name": "ipython",
    "version": 3
   },
   "file_extension": ".py",
   "mimetype": "text/x-python",
   "name": "python",
   "nbconvert_exporter": "python",
   "pygments_lexer": "ipython3",
   "version": "3.10.8"
  },
  "orig_nbformat": 4,
  "vscode": {
   "interpreter": {
    "hash": "aee8b7b246df8f9039afb4144a1f6fd8d2ca17a180786b69acc140d282b71a49"
   }
  }
 },
 "nbformat": 4,
 "nbformat_minor": 2
}
