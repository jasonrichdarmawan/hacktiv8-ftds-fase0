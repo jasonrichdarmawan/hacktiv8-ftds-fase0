{
  "cells": [
    {
      "cell_type": "markdown",
      "metadata": {
        "id": "uf5ldlW28PFv"
      },
      "source": [
        "# 1 - Perkenalan"
      ]
    },
    {
      "cell_type": "markdown",
      "metadata": {
        "id": "2zouuSOe8RWU"
      },
      "source": [
        "Nama : Danu \n",
        "\n",
        "Batch : FTDS-016-RMT\n",
        "\n",
        "Objective : Memprediksi passenger yang Survive atau Not Survive"
      ]
    },
    {
      "cell_type": "markdown",
      "metadata": {
        "id": "TyPEiuMD8fAM"
      },
      "source": [
        "# 2 - Import Libraries"
      ]
    },
    {
      "cell_type": "code",
      "execution_count": 48,
      "metadata": {
        "id": "_uawHzQN8CNf"
      },
      "outputs": [],
      "source": [
        "# Import Libraries\n",
        "\n",
        "import pandas as pd\n",
        "import numpy as np\n",
        "import joblib\n",
        "\n",
        "from sklearn.model_selection import train_test_split\n",
        "from sklearn.pipeline import make_pipeline\n",
        "from sklearn.compose import ColumnTransformer\n",
        "from sklearn.impute import SimpleImputer\n",
        "from sklearn.preprocessing import StandardScaler, OneHotEncoder"
      ]
    },
    {
      "cell_type": "markdown",
      "metadata": {
        "id": "HHfxlsMr9UT-"
      },
      "source": [
        "# 3 - Data Loading"
      ]
    },
    {
      "cell_type": "code",
      "execution_count": 49,
      "metadata": {
        "colab": {
          "base_uri": "https://localhost:8080/",
          "height": 468
        },
        "id": "FSG6GDFF9agt",
        "outputId": "d77a3869-215e-4b21-df2d-6b02e5976272"
      },
      "outputs": [
        {
          "data": {
            "text/html": [
              "<div>\n",
              "<style scoped>\n",
              "    .dataframe tbody tr th:only-of-type {\n",
              "        vertical-align: middle;\n",
              "    }\n",
              "\n",
              "    .dataframe tbody tr th {\n",
              "        vertical-align: top;\n",
              "    }\n",
              "\n",
              "    .dataframe thead th {\n",
              "        text-align: right;\n",
              "    }\n",
              "</style>\n",
              "<table border=\"1\" class=\"dataframe\">\n",
              "  <thead>\n",
              "    <tr style=\"text-align: right;\">\n",
              "      <th></th>\n",
              "      <th>PassengerId</th>\n",
              "      <th>Survived</th>\n",
              "      <th>Pclass</th>\n",
              "      <th>Name</th>\n",
              "      <th>Sex</th>\n",
              "      <th>Age</th>\n",
              "      <th>SibSp</th>\n",
              "      <th>Parch</th>\n",
              "      <th>Ticket</th>\n",
              "      <th>Fare</th>\n",
              "      <th>Cabin</th>\n",
              "      <th>Embarked</th>\n",
              "    </tr>\n",
              "  </thead>\n",
              "  <tbody>\n",
              "    <tr>\n",
              "      <th>0</th>\n",
              "      <td>1</td>\n",
              "      <td>0</td>\n",
              "      <td>3</td>\n",
              "      <td>Braund, Mr. Owen Harris</td>\n",
              "      <td>male</td>\n",
              "      <td>22.0</td>\n",
              "      <td>1</td>\n",
              "      <td>0</td>\n",
              "      <td>A/5 21171</td>\n",
              "      <td>7.2500</td>\n",
              "      <td>NaN</td>\n",
              "      <td>S</td>\n",
              "    </tr>\n",
              "    <tr>\n",
              "      <th>1</th>\n",
              "      <td>2</td>\n",
              "      <td>1</td>\n",
              "      <td>1</td>\n",
              "      <td>Cumings, Mrs. John Bradley (Florence Briggs Th...</td>\n",
              "      <td>female</td>\n",
              "      <td>38.0</td>\n",
              "      <td>1</td>\n",
              "      <td>0</td>\n",
              "      <td>PC 17599</td>\n",
              "      <td>71.2833</td>\n",
              "      <td>C85</td>\n",
              "      <td>C</td>\n",
              "    </tr>\n",
              "    <tr>\n",
              "      <th>2</th>\n",
              "      <td>3</td>\n",
              "      <td>1</td>\n",
              "      <td>3</td>\n",
              "      <td>Heikkinen, Miss. Laina</td>\n",
              "      <td>female</td>\n",
              "      <td>26.0</td>\n",
              "      <td>0</td>\n",
              "      <td>0</td>\n",
              "      <td>STON/O2. 3101282</td>\n",
              "      <td>7.9250</td>\n",
              "      <td>NaN</td>\n",
              "      <td>S</td>\n",
              "    </tr>\n",
              "    <tr>\n",
              "      <th>3</th>\n",
              "      <td>4</td>\n",
              "      <td>1</td>\n",
              "      <td>1</td>\n",
              "      <td>Futrelle, Mrs. Jacques Heath (Lily May Peel)</td>\n",
              "      <td>female</td>\n",
              "      <td>35.0</td>\n",
              "      <td>1</td>\n",
              "      <td>0</td>\n",
              "      <td>113803</td>\n",
              "      <td>53.1000</td>\n",
              "      <td>C123</td>\n",
              "      <td>S</td>\n",
              "    </tr>\n",
              "    <tr>\n",
              "      <th>4</th>\n",
              "      <td>5</td>\n",
              "      <td>0</td>\n",
              "      <td>3</td>\n",
              "      <td>Allen, Mr. William Henry</td>\n",
              "      <td>male</td>\n",
              "      <td>35.0</td>\n",
              "      <td>0</td>\n",
              "      <td>0</td>\n",
              "      <td>373450</td>\n",
              "      <td>8.0500</td>\n",
              "      <td>NaN</td>\n",
              "      <td>S</td>\n",
              "    </tr>\n",
              "    <tr>\n",
              "      <th>...</th>\n",
              "      <td>...</td>\n",
              "      <td>...</td>\n",
              "      <td>...</td>\n",
              "      <td>...</td>\n",
              "      <td>...</td>\n",
              "      <td>...</td>\n",
              "      <td>...</td>\n",
              "      <td>...</td>\n",
              "      <td>...</td>\n",
              "      <td>...</td>\n",
              "      <td>...</td>\n",
              "      <td>...</td>\n",
              "    </tr>\n",
              "    <tr>\n",
              "      <th>886</th>\n",
              "      <td>887</td>\n",
              "      <td>0</td>\n",
              "      <td>2</td>\n",
              "      <td>Montvila, Rev. Juozas</td>\n",
              "      <td>male</td>\n",
              "      <td>27.0</td>\n",
              "      <td>0</td>\n",
              "      <td>0</td>\n",
              "      <td>211536</td>\n",
              "      <td>13.0000</td>\n",
              "      <td>NaN</td>\n",
              "      <td>S</td>\n",
              "    </tr>\n",
              "    <tr>\n",
              "      <th>887</th>\n",
              "      <td>888</td>\n",
              "      <td>1</td>\n",
              "      <td>1</td>\n",
              "      <td>Graham, Miss. Margaret Edith</td>\n",
              "      <td>female</td>\n",
              "      <td>19.0</td>\n",
              "      <td>0</td>\n",
              "      <td>0</td>\n",
              "      <td>112053</td>\n",
              "      <td>30.0000</td>\n",
              "      <td>B42</td>\n",
              "      <td>S</td>\n",
              "    </tr>\n",
              "    <tr>\n",
              "      <th>888</th>\n",
              "      <td>889</td>\n",
              "      <td>0</td>\n",
              "      <td>3</td>\n",
              "      <td>Johnston, Miss. Catherine Helen \"Carrie\"</td>\n",
              "      <td>female</td>\n",
              "      <td>NaN</td>\n",
              "      <td>1</td>\n",
              "      <td>2</td>\n",
              "      <td>W./C. 6607</td>\n",
              "      <td>23.4500</td>\n",
              "      <td>NaN</td>\n",
              "      <td>S</td>\n",
              "    </tr>\n",
              "    <tr>\n",
              "      <th>889</th>\n",
              "      <td>890</td>\n",
              "      <td>1</td>\n",
              "      <td>1</td>\n",
              "      <td>Behr, Mr. Karl Howell</td>\n",
              "      <td>male</td>\n",
              "      <td>26.0</td>\n",
              "      <td>0</td>\n",
              "      <td>0</td>\n",
              "      <td>111369</td>\n",
              "      <td>30.0000</td>\n",
              "      <td>C148</td>\n",
              "      <td>C</td>\n",
              "    </tr>\n",
              "    <tr>\n",
              "      <th>890</th>\n",
              "      <td>891</td>\n",
              "      <td>0</td>\n",
              "      <td>3</td>\n",
              "      <td>Dooley, Mr. Patrick</td>\n",
              "      <td>male</td>\n",
              "      <td>32.0</td>\n",
              "      <td>0</td>\n",
              "      <td>0</td>\n",
              "      <td>370376</td>\n",
              "      <td>7.7500</td>\n",
              "      <td>NaN</td>\n",
              "      <td>Q</td>\n",
              "    </tr>\n",
              "  </tbody>\n",
              "</table>\n",
              "<p>891 rows × 12 columns</p>\n",
              "</div>"
            ],
            "text/plain": [
              "     PassengerId  Survived  Pclass  \\\n",
              "0              1         0       3   \n",
              "1              2         1       1   \n",
              "2              3         1       3   \n",
              "3              4         1       1   \n",
              "4              5         0       3   \n",
              "..           ...       ...     ...   \n",
              "886          887         0       2   \n",
              "887          888         1       1   \n",
              "888          889         0       3   \n",
              "889          890         1       1   \n",
              "890          891         0       3   \n",
              "\n",
              "                                                  Name     Sex   Age  SibSp  \\\n",
              "0                              Braund, Mr. Owen Harris    male  22.0      1   \n",
              "1    Cumings, Mrs. John Bradley (Florence Briggs Th...  female  38.0      1   \n",
              "2                               Heikkinen, Miss. Laina  female  26.0      0   \n",
              "3         Futrelle, Mrs. Jacques Heath (Lily May Peel)  female  35.0      1   \n",
              "4                             Allen, Mr. William Henry    male  35.0      0   \n",
              "..                                                 ...     ...   ...    ...   \n",
              "886                              Montvila, Rev. Juozas    male  27.0      0   \n",
              "887                       Graham, Miss. Margaret Edith  female  19.0      0   \n",
              "888           Johnston, Miss. Catherine Helen \"Carrie\"  female   NaN      1   \n",
              "889                              Behr, Mr. Karl Howell    male  26.0      0   \n",
              "890                                Dooley, Mr. Patrick    male  32.0      0   \n",
              "\n",
              "     Parch            Ticket     Fare Cabin Embarked  \n",
              "0        0         A/5 21171   7.2500   NaN        S  \n",
              "1        0          PC 17599  71.2833   C85        C  \n",
              "2        0  STON/O2. 3101282   7.9250   NaN        S  \n",
              "3        0            113803  53.1000  C123        S  \n",
              "4        0            373450   8.0500   NaN        S  \n",
              "..     ...               ...      ...   ...      ...  \n",
              "886      0            211536  13.0000   NaN        S  \n",
              "887      0            112053  30.0000   B42        S  \n",
              "888      2        W./C. 6607  23.4500   NaN        S  \n",
              "889      0            111369  30.0000  C148        C  \n",
              "890      0            370376   7.7500   NaN        Q  \n",
              "\n",
              "[891 rows x 12 columns]"
            ]
          },
          "execution_count": 49,
          "metadata": {},
          "output_type": "execute_result"
        }
      ],
      "source": [
        "# Data Loading\n",
        "\n",
        "data = pd.read_csv('https://raw.githubusercontent.com/ardhiraka/FSDS_Guidelines/master/p1/v3/w1/P1W1D2AM%20-%20Feature%20Engineering%20-%20Part%201%20-%20Titanic.csv')\n",
        "data"
      ]
    },
    {
      "cell_type": "markdown",
      "metadata": {
        "id": "sguMvieV9lha"
      },
      "source": [
        "# 4 - Data Preprocessing"
      ]
    },
    {
      "cell_type": "markdown",
      "metadata": {
        "id": "UtP2bGe19pA0"
      },
      "source": [
        "## Get Data for Model Inference"
      ]
    },
    {
      "cell_type": "code",
      "execution_count": 50,
      "metadata": {
        "id": "OUE3TYKS9rqX"
      },
      "outputs": [
        {
          "data": {
            "text/html": [
              "<div>\n",
              "<style scoped>\n",
              "    .dataframe tbody tr th:only-of-type {\n",
              "        vertical-align: middle;\n",
              "    }\n",
              "\n",
              "    .dataframe tbody tr th {\n",
              "        vertical-align: top;\n",
              "    }\n",
              "\n",
              "    .dataframe thead th {\n",
              "        text-align: right;\n",
              "    }\n",
              "</style>\n",
              "<table border=\"1\" class=\"dataframe\">\n",
              "  <thead>\n",
              "    <tr style=\"text-align: right;\">\n",
              "      <th></th>\n",
              "      <th>PassengerId</th>\n",
              "      <th>Survived</th>\n",
              "      <th>Pclass</th>\n",
              "      <th>Name</th>\n",
              "      <th>Sex</th>\n",
              "      <th>Age</th>\n",
              "      <th>SibSp</th>\n",
              "      <th>Parch</th>\n",
              "      <th>Ticket</th>\n",
              "      <th>Fare</th>\n",
              "      <th>Cabin</th>\n",
              "      <th>Embarked</th>\n",
              "    </tr>\n",
              "  </thead>\n",
              "  <tbody>\n",
              "    <tr>\n",
              "      <th>287</th>\n",
              "      <td>288</td>\n",
              "      <td>0</td>\n",
              "      <td>3</td>\n",
              "      <td>Naidenoff, Mr. Penko</td>\n",
              "      <td>male</td>\n",
              "      <td>22.0</td>\n",
              "      <td>0</td>\n",
              "      <td>0</td>\n",
              "      <td>349206</td>\n",
              "      <td>7.8958</td>\n",
              "      <td>NaN</td>\n",
              "      <td>S</td>\n",
              "    </tr>\n",
              "    <tr>\n",
              "      <th>621</th>\n",
              "      <td>622</td>\n",
              "      <td>1</td>\n",
              "      <td>1</td>\n",
              "      <td>Kimball, Mr. Edwin Nelson Jr</td>\n",
              "      <td>male</td>\n",
              "      <td>42.0</td>\n",
              "      <td>1</td>\n",
              "      <td>0</td>\n",
              "      <td>11753</td>\n",
              "      <td>52.5542</td>\n",
              "      <td>D19</td>\n",
              "      <td>S</td>\n",
              "    </tr>\n",
              "    <tr>\n",
              "      <th>395</th>\n",
              "      <td>396</td>\n",
              "      <td>0</td>\n",
              "      <td>3</td>\n",
              "      <td>Johansson, Mr. Erik</td>\n",
              "      <td>male</td>\n",
              "      <td>22.0</td>\n",
              "      <td>0</td>\n",
              "      <td>0</td>\n",
              "      <td>350052</td>\n",
              "      <td>7.7958</td>\n",
              "      <td>NaN</td>\n",
              "      <td>S</td>\n",
              "    </tr>\n",
              "    <tr>\n",
              "      <th>273</th>\n",
              "      <td>274</td>\n",
              "      <td>0</td>\n",
              "      <td>1</td>\n",
              "      <td>Natsch, Mr. Charles H</td>\n",
              "      <td>male</td>\n",
              "      <td>37.0</td>\n",
              "      <td>0</td>\n",
              "      <td>1</td>\n",
              "      <td>PC 17596</td>\n",
              "      <td>29.7000</td>\n",
              "      <td>C118</td>\n",
              "      <td>C</td>\n",
              "    </tr>\n",
              "    <tr>\n",
              "      <th>155</th>\n",
              "      <td>156</td>\n",
              "      <td>0</td>\n",
              "      <td>1</td>\n",
              "      <td>Williams, Mr. Charles Duane</td>\n",
              "      <td>male</td>\n",
              "      <td>51.0</td>\n",
              "      <td>0</td>\n",
              "      <td>1</td>\n",
              "      <td>PC 17597</td>\n",
              "      <td>61.3792</td>\n",
              "      <td>NaN</td>\n",
              "      <td>C</td>\n",
              "    </tr>\n",
              "  </tbody>\n",
              "</table>\n",
              "</div>"
            ],
            "text/plain": [
              "     PassengerId  Survived  Pclass                          Name   Sex   Age  \\\n",
              "287          288         0       3          Naidenoff, Mr. Penko  male  22.0   \n",
              "621          622         1       1  Kimball, Mr. Edwin Nelson Jr  male  42.0   \n",
              "395          396         0       3           Johansson, Mr. Erik  male  22.0   \n",
              "273          274         0       1         Natsch, Mr. Charles H  male  37.0   \n",
              "155          156         0       1   Williams, Mr. Charles Duane  male  51.0   \n",
              "\n",
              "     SibSp  Parch    Ticket     Fare Cabin Embarked  \n",
              "287      0      0    349206   7.8958   NaN        S  \n",
              "621      1      0     11753  52.5542   D19        S  \n",
              "395      0      0    350052   7.7958   NaN        S  \n",
              "273      0      1  PC 17596  29.7000  C118        C  \n",
              "155      0      1  PC 17597  61.3792   NaN        C  "
            ]
          },
          "execution_count": 50,
          "metadata": {},
          "output_type": "execute_result"
        }
      ],
      "source": [
        "# Get Data for Model Inference\n",
        "\n",
        "data_inf = data.sample(5, random_state=28)\n",
        "data_inf"
      ]
    },
    {
      "cell_type": "code",
      "execution_count": 51,
      "metadata": {
        "id": "udXKLd6A92_j"
      },
      "outputs": [
        {
          "data": {
            "text/html": [
              "<div>\n",
              "<style scoped>\n",
              "    .dataframe tbody tr th:only-of-type {\n",
              "        vertical-align: middle;\n",
              "    }\n",
              "\n",
              "    .dataframe tbody tr th {\n",
              "        vertical-align: top;\n",
              "    }\n",
              "\n",
              "    .dataframe thead th {\n",
              "        text-align: right;\n",
              "    }\n",
              "</style>\n",
              "<table border=\"1\" class=\"dataframe\">\n",
              "  <thead>\n",
              "    <tr style=\"text-align: right;\">\n",
              "      <th></th>\n",
              "      <th>PassengerId</th>\n",
              "      <th>Survived</th>\n",
              "      <th>Pclass</th>\n",
              "      <th>Name</th>\n",
              "      <th>Sex</th>\n",
              "      <th>Age</th>\n",
              "      <th>SibSp</th>\n",
              "      <th>Parch</th>\n",
              "      <th>Ticket</th>\n",
              "      <th>Fare</th>\n",
              "      <th>Cabin</th>\n",
              "      <th>Embarked</th>\n",
              "    </tr>\n",
              "  </thead>\n",
              "  <tbody>\n",
              "    <tr>\n",
              "      <th>0</th>\n",
              "      <td>1</td>\n",
              "      <td>0</td>\n",
              "      <td>3</td>\n",
              "      <td>Braund, Mr. Owen Harris</td>\n",
              "      <td>male</td>\n",
              "      <td>22.0</td>\n",
              "      <td>1</td>\n",
              "      <td>0</td>\n",
              "      <td>A/5 21171</td>\n",
              "      <td>7.2500</td>\n",
              "      <td>NaN</td>\n",
              "      <td>S</td>\n",
              "    </tr>\n",
              "    <tr>\n",
              "      <th>1</th>\n",
              "      <td>2</td>\n",
              "      <td>1</td>\n",
              "      <td>1</td>\n",
              "      <td>Cumings, Mrs. John Bradley (Florence Briggs Th...</td>\n",
              "      <td>female</td>\n",
              "      <td>38.0</td>\n",
              "      <td>1</td>\n",
              "      <td>0</td>\n",
              "      <td>PC 17599</td>\n",
              "      <td>71.2833</td>\n",
              "      <td>C85</td>\n",
              "      <td>C</td>\n",
              "    </tr>\n",
              "    <tr>\n",
              "      <th>2</th>\n",
              "      <td>3</td>\n",
              "      <td>1</td>\n",
              "      <td>3</td>\n",
              "      <td>Heikkinen, Miss. Laina</td>\n",
              "      <td>female</td>\n",
              "      <td>26.0</td>\n",
              "      <td>0</td>\n",
              "      <td>0</td>\n",
              "      <td>STON/O2. 3101282</td>\n",
              "      <td>7.9250</td>\n",
              "      <td>NaN</td>\n",
              "      <td>S</td>\n",
              "    </tr>\n",
              "    <tr>\n",
              "      <th>3</th>\n",
              "      <td>4</td>\n",
              "      <td>1</td>\n",
              "      <td>1</td>\n",
              "      <td>Futrelle, Mrs. Jacques Heath (Lily May Peel)</td>\n",
              "      <td>female</td>\n",
              "      <td>35.0</td>\n",
              "      <td>1</td>\n",
              "      <td>0</td>\n",
              "      <td>113803</td>\n",
              "      <td>53.1000</td>\n",
              "      <td>C123</td>\n",
              "      <td>S</td>\n",
              "    </tr>\n",
              "    <tr>\n",
              "      <th>4</th>\n",
              "      <td>5</td>\n",
              "      <td>0</td>\n",
              "      <td>3</td>\n",
              "      <td>Allen, Mr. William Henry</td>\n",
              "      <td>male</td>\n",
              "      <td>35.0</td>\n",
              "      <td>0</td>\n",
              "      <td>0</td>\n",
              "      <td>373450</td>\n",
              "      <td>8.0500</td>\n",
              "      <td>NaN</td>\n",
              "      <td>S</td>\n",
              "    </tr>\n",
              "    <tr>\n",
              "      <th>...</th>\n",
              "      <td>...</td>\n",
              "      <td>...</td>\n",
              "      <td>...</td>\n",
              "      <td>...</td>\n",
              "      <td>...</td>\n",
              "      <td>...</td>\n",
              "      <td>...</td>\n",
              "      <td>...</td>\n",
              "      <td>...</td>\n",
              "      <td>...</td>\n",
              "      <td>...</td>\n",
              "      <td>...</td>\n",
              "    </tr>\n",
              "    <tr>\n",
              "      <th>886</th>\n",
              "      <td>887</td>\n",
              "      <td>0</td>\n",
              "      <td>2</td>\n",
              "      <td>Montvila, Rev. Juozas</td>\n",
              "      <td>male</td>\n",
              "      <td>27.0</td>\n",
              "      <td>0</td>\n",
              "      <td>0</td>\n",
              "      <td>211536</td>\n",
              "      <td>13.0000</td>\n",
              "      <td>NaN</td>\n",
              "      <td>S</td>\n",
              "    </tr>\n",
              "    <tr>\n",
              "      <th>887</th>\n",
              "      <td>888</td>\n",
              "      <td>1</td>\n",
              "      <td>1</td>\n",
              "      <td>Graham, Miss. Margaret Edith</td>\n",
              "      <td>female</td>\n",
              "      <td>19.0</td>\n",
              "      <td>0</td>\n",
              "      <td>0</td>\n",
              "      <td>112053</td>\n",
              "      <td>30.0000</td>\n",
              "      <td>B42</td>\n",
              "      <td>S</td>\n",
              "    </tr>\n",
              "    <tr>\n",
              "      <th>888</th>\n",
              "      <td>889</td>\n",
              "      <td>0</td>\n",
              "      <td>3</td>\n",
              "      <td>Johnston, Miss. Catherine Helen \"Carrie\"</td>\n",
              "      <td>female</td>\n",
              "      <td>NaN</td>\n",
              "      <td>1</td>\n",
              "      <td>2</td>\n",
              "      <td>W./C. 6607</td>\n",
              "      <td>23.4500</td>\n",
              "      <td>NaN</td>\n",
              "      <td>S</td>\n",
              "    </tr>\n",
              "    <tr>\n",
              "      <th>889</th>\n",
              "      <td>890</td>\n",
              "      <td>1</td>\n",
              "      <td>1</td>\n",
              "      <td>Behr, Mr. Karl Howell</td>\n",
              "      <td>male</td>\n",
              "      <td>26.0</td>\n",
              "      <td>0</td>\n",
              "      <td>0</td>\n",
              "      <td>111369</td>\n",
              "      <td>30.0000</td>\n",
              "      <td>C148</td>\n",
              "      <td>C</td>\n",
              "    </tr>\n",
              "    <tr>\n",
              "      <th>890</th>\n",
              "      <td>891</td>\n",
              "      <td>0</td>\n",
              "      <td>3</td>\n",
              "      <td>Dooley, Mr. Patrick</td>\n",
              "      <td>male</td>\n",
              "      <td>32.0</td>\n",
              "      <td>0</td>\n",
              "      <td>0</td>\n",
              "      <td>370376</td>\n",
              "      <td>7.7500</td>\n",
              "      <td>NaN</td>\n",
              "      <td>Q</td>\n",
              "    </tr>\n",
              "  </tbody>\n",
              "</table>\n",
              "<p>886 rows × 12 columns</p>\n",
              "</div>"
            ],
            "text/plain": [
              "     PassengerId  Survived  Pclass  \\\n",
              "0              1         0       3   \n",
              "1              2         1       1   \n",
              "2              3         1       3   \n",
              "3              4         1       1   \n",
              "4              5         0       3   \n",
              "..           ...       ...     ...   \n",
              "886          887         0       2   \n",
              "887          888         1       1   \n",
              "888          889         0       3   \n",
              "889          890         1       1   \n",
              "890          891         0       3   \n",
              "\n",
              "                                                  Name     Sex   Age  SibSp  \\\n",
              "0                              Braund, Mr. Owen Harris    male  22.0      1   \n",
              "1    Cumings, Mrs. John Bradley (Florence Briggs Th...  female  38.0      1   \n",
              "2                               Heikkinen, Miss. Laina  female  26.0      0   \n",
              "3         Futrelle, Mrs. Jacques Heath (Lily May Peel)  female  35.0      1   \n",
              "4                             Allen, Mr. William Henry    male  35.0      0   \n",
              "..                                                 ...     ...   ...    ...   \n",
              "886                              Montvila, Rev. Juozas    male  27.0      0   \n",
              "887                       Graham, Miss. Margaret Edith  female  19.0      0   \n",
              "888           Johnston, Miss. Catherine Helen \"Carrie\"  female   NaN      1   \n",
              "889                              Behr, Mr. Karl Howell    male  26.0      0   \n",
              "890                                Dooley, Mr. Patrick    male  32.0      0   \n",
              "\n",
              "     Parch            Ticket     Fare Cabin Embarked  \n",
              "0        0         A/5 21171   7.2500   NaN        S  \n",
              "1        0          PC 17599  71.2833   C85        C  \n",
              "2        0  STON/O2. 3101282   7.9250   NaN        S  \n",
              "3        0            113803  53.1000  C123        S  \n",
              "4        0            373450   8.0500   NaN        S  \n",
              "..     ...               ...      ...   ...      ...  \n",
              "886      0            211536  13.0000   NaN        S  \n",
              "887      0            112053  30.0000   B42        S  \n",
              "888      2        W./C. 6607  23.4500   NaN        S  \n",
              "889      0            111369  30.0000  C148        C  \n",
              "890      0            370376   7.7500   NaN        Q  \n",
              "\n",
              "[886 rows x 12 columns]"
            ]
          },
          "execution_count": 51,
          "metadata": {},
          "output_type": "execute_result"
        }
      ],
      "source": [
        "# Remove Inference Set from Dataset\n",
        "\n",
        "data_train_test = data.drop(data_inf.index)\n",
        "data_train_test"
      ]
    },
    {
      "cell_type": "code",
      "execution_count": 52,
      "metadata": {
        "id": "XKRfHCUh-A04"
      },
      "outputs": [
        {
          "data": {
            "text/html": [
              "<div>\n",
              "<style scoped>\n",
              "    .dataframe tbody tr th:only-of-type {\n",
              "        vertical-align: middle;\n",
              "    }\n",
              "\n",
              "    .dataframe tbody tr th {\n",
              "        vertical-align: top;\n",
              "    }\n",
              "\n",
              "    .dataframe thead th {\n",
              "        text-align: right;\n",
              "    }\n",
              "</style>\n",
              "<table border=\"1\" class=\"dataframe\">\n",
              "  <thead>\n",
              "    <tr style=\"text-align: right;\">\n",
              "      <th></th>\n",
              "      <th>PassengerId</th>\n",
              "      <th>Survived</th>\n",
              "      <th>Pclass</th>\n",
              "      <th>Name</th>\n",
              "      <th>Sex</th>\n",
              "      <th>Age</th>\n",
              "      <th>SibSp</th>\n",
              "      <th>Parch</th>\n",
              "      <th>Ticket</th>\n",
              "      <th>Fare</th>\n",
              "      <th>Cabin</th>\n",
              "      <th>Embarked</th>\n",
              "    </tr>\n",
              "  </thead>\n",
              "  <tbody>\n",
              "    <tr>\n",
              "      <th>0</th>\n",
              "      <td>288</td>\n",
              "      <td>0</td>\n",
              "      <td>3</td>\n",
              "      <td>Naidenoff, Mr. Penko</td>\n",
              "      <td>male</td>\n",
              "      <td>22.0</td>\n",
              "      <td>0</td>\n",
              "      <td>0</td>\n",
              "      <td>349206</td>\n",
              "      <td>7.8958</td>\n",
              "      <td>NaN</td>\n",
              "      <td>S</td>\n",
              "    </tr>\n",
              "    <tr>\n",
              "      <th>1</th>\n",
              "      <td>622</td>\n",
              "      <td>1</td>\n",
              "      <td>1</td>\n",
              "      <td>Kimball, Mr. Edwin Nelson Jr</td>\n",
              "      <td>male</td>\n",
              "      <td>42.0</td>\n",
              "      <td>1</td>\n",
              "      <td>0</td>\n",
              "      <td>11753</td>\n",
              "      <td>52.5542</td>\n",
              "      <td>D19</td>\n",
              "      <td>S</td>\n",
              "    </tr>\n",
              "    <tr>\n",
              "      <th>2</th>\n",
              "      <td>396</td>\n",
              "      <td>0</td>\n",
              "      <td>3</td>\n",
              "      <td>Johansson, Mr. Erik</td>\n",
              "      <td>male</td>\n",
              "      <td>22.0</td>\n",
              "      <td>0</td>\n",
              "      <td>0</td>\n",
              "      <td>350052</td>\n",
              "      <td>7.7958</td>\n",
              "      <td>NaN</td>\n",
              "      <td>S</td>\n",
              "    </tr>\n",
              "    <tr>\n",
              "      <th>3</th>\n",
              "      <td>274</td>\n",
              "      <td>0</td>\n",
              "      <td>1</td>\n",
              "      <td>Natsch, Mr. Charles H</td>\n",
              "      <td>male</td>\n",
              "      <td>37.0</td>\n",
              "      <td>0</td>\n",
              "      <td>1</td>\n",
              "      <td>PC 17596</td>\n",
              "      <td>29.7000</td>\n",
              "      <td>C118</td>\n",
              "      <td>C</td>\n",
              "    </tr>\n",
              "    <tr>\n",
              "      <th>4</th>\n",
              "      <td>156</td>\n",
              "      <td>0</td>\n",
              "      <td>1</td>\n",
              "      <td>Williams, Mr. Charles Duane</td>\n",
              "      <td>male</td>\n",
              "      <td>51.0</td>\n",
              "      <td>0</td>\n",
              "      <td>1</td>\n",
              "      <td>PC 17597</td>\n",
              "      <td>61.3792</td>\n",
              "      <td>NaN</td>\n",
              "      <td>C</td>\n",
              "    </tr>\n",
              "  </tbody>\n",
              "</table>\n",
              "</div>"
            ],
            "text/plain": [
              "   PassengerId  Survived  Pclass                          Name   Sex   Age  \\\n",
              "0          288         0       3          Naidenoff, Mr. Penko  male  22.0   \n",
              "1          622         1       1  Kimball, Mr. Edwin Nelson Jr  male  42.0   \n",
              "2          396         0       3           Johansson, Mr. Erik  male  22.0   \n",
              "3          274         0       1         Natsch, Mr. Charles H  male  37.0   \n",
              "4          156         0       1   Williams, Mr. Charles Duane  male  51.0   \n",
              "\n",
              "   SibSp  Parch    Ticket     Fare Cabin Embarked  \n",
              "0      0      0    349206   7.8958   NaN        S  \n",
              "1      1      0     11753  52.5542   D19        S  \n",
              "2      0      0    350052   7.7958   NaN        S  \n",
              "3      0      1  PC 17596  29.7000  C118        C  \n",
              "4      0      1  PC 17597  61.3792   NaN        C  "
            ]
          },
          "execution_count": 52,
          "metadata": {},
          "output_type": "execute_result"
        }
      ],
      "source": [
        "# Reset Index\n",
        "\n",
        "data_train_test.reset_index(drop=True, inplace=True)\n",
        "data_inf.reset_index(drop=True, inplace=True)\n",
        "data_inf"
      ]
    },
    {
      "cell_type": "markdown",
      "metadata": {
        "id": "C4MejPFU-ljZ"
      },
      "source": [
        "## Splitting between `X` and `y`"
      ]
    },
    {
      "cell_type": "code",
      "execution_count": 53,
      "metadata": {
        "id": "WM22PogX-otE"
      },
      "outputs": [],
      "source": [
        "# Splitting between `X` and `y`\n",
        "\n",
        "X = data_train_test.drop('Survived', axis=1)\n",
        "y = data_train_test['Survived']"
      ]
    },
    {
      "cell_type": "code",
      "execution_count": 54,
      "metadata": {
        "colab": {
          "base_uri": "https://localhost:8080/"
        },
        "id": "GV9jb3H4-0CW",
        "outputId": "d06c5e2d-2980-4e9d-aa6e-0781c16f902f"
      },
      "outputs": [
        {
          "name": "stdout",
          "output_type": "stream",
          "text": [
            "Train Size :  (640, 11)\n",
            "Val Size :  (113, 11)\n",
            "Test Size :  (133, 11)\n"
          ]
        }
      ],
      "source": [
        "# Split between Train-Set, Val-Set, and Test-Set\n",
        "\n",
        "X_train_val, X_test, y_train_val, y_test = train_test_split(X, y, test_size=0.15, random_state=28)\n",
        "X_train, X_val, y_train, y_val = train_test_split(X_train_val, y_train_val, test_size=0.15, random_state=28)\n",
        "\n",
        "print('Train Size : ', X_train.shape)\n",
        "print('Val Size : ', X_val.shape)\n",
        "print('Test Size : ', X_test.shape)"
      ]
    },
    {
      "cell_type": "markdown",
      "metadata": {
        "id": "LXbeQogbA6eR"
      },
      "source": [
        "## Handling Missing Values"
      ]
    },
    {
      "cell_type": "code",
      "execution_count": 55,
      "metadata": {
        "id": "i4keG6sRA_h-"
      },
      "outputs": [
        {
          "data": {
            "text/plain": [
              "PassengerId      0\n",
              "Pclass           0\n",
              "Name             0\n",
              "Sex              0\n",
              "Age            126\n",
              "SibSp            0\n",
              "Parch            0\n",
              "Ticket           0\n",
              "Fare             0\n",
              "Cabin          496\n",
              "Embarked         1\n",
              "dtype: int64"
            ]
          },
          "execution_count": 55,
          "metadata": {},
          "output_type": "execute_result"
        }
      ],
      "source": [
        "# Check Missing Values on X_train\n",
        "\n",
        "X_train.isnull().sum()"
      ]
    },
    {
      "cell_type": "code",
      "execution_count": 56,
      "metadata": {
        "id": "KS-Q2Dx3BFwj"
      },
      "outputs": [
        {
          "data": {
            "text/plain": [
              "PassengerId     0\n",
              "Pclass          0\n",
              "Name            0\n",
              "Sex             0\n",
              "Age            26\n",
              "SibSp           0\n",
              "Parch           0\n",
              "Ticket          0\n",
              "Fare            0\n",
              "Cabin          86\n",
              "Embarked        0\n",
              "dtype: int64"
            ]
          },
          "execution_count": 56,
          "metadata": {},
          "output_type": "execute_result"
        }
      ],
      "source": [
        "# Check Missing Values on X_val\n",
        "\n",
        "X_val.isnull().sum()"
      ]
    },
    {
      "cell_type": "code",
      "execution_count": 57,
      "metadata": {
        "id": "gxjZ_rfmBKIy"
      },
      "outputs": [
        {
          "data": {
            "text/plain": [
              "PassengerId      0\n",
              "Pclass           0\n",
              "Name             0\n",
              "Sex              0\n",
              "Age             25\n",
              "SibSp            0\n",
              "Parch            0\n",
              "Ticket           0\n",
              "Fare             0\n",
              "Cabin          102\n",
              "Embarked         1\n",
              "dtype: int64"
            ]
          },
          "execution_count": 57,
          "metadata": {},
          "output_type": "execute_result"
        }
      ],
      "source": [
        "# Check Missing Values on X_test\n",
        "\n",
        "X_test.isnull().sum()"
      ]
    },
    {
      "cell_type": "markdown",
      "metadata": {
        "id": "dVjc4_URBTsk"
      },
      "source": [
        "## Feature Selection"
      ]
    },
    {
      "cell_type": "code",
      "execution_count": 58,
      "metadata": {
        "colab": {
          "base_uri": "https://localhost:8080/",
          "height": 424
        },
        "id": "wkEXnIx4BV9Z",
        "outputId": "09d06783-1d9d-42dc-9e9f-ef07f9bda287"
      },
      "outputs": [
        {
          "data": {
            "text/html": [
              "<div>\n",
              "<style scoped>\n",
              "    .dataframe tbody tr th:only-of-type {\n",
              "        vertical-align: middle;\n",
              "    }\n",
              "\n",
              "    .dataframe tbody tr th {\n",
              "        vertical-align: top;\n",
              "    }\n",
              "\n",
              "    .dataframe thead th {\n",
              "        text-align: right;\n",
              "    }\n",
              "</style>\n",
              "<table border=\"1\" class=\"dataframe\">\n",
              "  <thead>\n",
              "    <tr style=\"text-align: right;\">\n",
              "      <th></th>\n",
              "      <th>PassengerId</th>\n",
              "      <th>Pclass</th>\n",
              "      <th>Name</th>\n",
              "      <th>Sex</th>\n",
              "      <th>Age</th>\n",
              "      <th>SibSp</th>\n",
              "      <th>Parch</th>\n",
              "      <th>Ticket</th>\n",
              "      <th>Fare</th>\n",
              "      <th>Cabin</th>\n",
              "      <th>Embarked</th>\n",
              "    </tr>\n",
              "  </thead>\n",
              "  <tbody>\n",
              "    <tr>\n",
              "      <th>786</th>\n",
              "      <td>792</td>\n",
              "      <td>2</td>\n",
              "      <td>Gaskell, Mr. Alfred</td>\n",
              "      <td>male</td>\n",
              "      <td>16.0</td>\n",
              "      <td>0</td>\n",
              "      <td>0</td>\n",
              "      <td>239865</td>\n",
              "      <td>26.0000</td>\n",
              "      <td>NaN</td>\n",
              "      <td>S</td>\n",
              "    </tr>\n",
              "    <tr>\n",
              "      <th>189</th>\n",
              "      <td>191</td>\n",
              "      <td>2</td>\n",
              "      <td>Pinsky, Mrs. (Rosa)</td>\n",
              "      <td>female</td>\n",
              "      <td>32.0</td>\n",
              "      <td>0</td>\n",
              "      <td>0</td>\n",
              "      <td>234604</td>\n",
              "      <td>13.0000</td>\n",
              "      <td>NaN</td>\n",
              "      <td>S</td>\n",
              "    </tr>\n",
              "    <tr>\n",
              "      <th>567</th>\n",
              "      <td>572</td>\n",
              "      <td>1</td>\n",
              "      <td>Appleton, Mrs. Edward Dale (Charlotte Lamson)</td>\n",
              "      <td>female</td>\n",
              "      <td>53.0</td>\n",
              "      <td>2</td>\n",
              "      <td>0</td>\n",
              "      <td>11769</td>\n",
              "      <td>51.4792</td>\n",
              "      <td>C101</td>\n",
              "      <td>S</td>\n",
              "    </tr>\n",
              "    <tr>\n",
              "      <th>500</th>\n",
              "      <td>505</td>\n",
              "      <td>1</td>\n",
              "      <td>Maioni, Miss. Roberta</td>\n",
              "      <td>female</td>\n",
              "      <td>16.0</td>\n",
              "      <td>0</td>\n",
              "      <td>0</td>\n",
              "      <td>110152</td>\n",
              "      <td>86.5000</td>\n",
              "      <td>B79</td>\n",
              "      <td>S</td>\n",
              "    </tr>\n",
              "    <tr>\n",
              "      <th>868</th>\n",
              "      <td>874</td>\n",
              "      <td>3</td>\n",
              "      <td>Vander Cruyssen, Mr. Victor</td>\n",
              "      <td>male</td>\n",
              "      <td>47.0</td>\n",
              "      <td>0</td>\n",
              "      <td>0</td>\n",
              "      <td>345765</td>\n",
              "      <td>9.0000</td>\n",
              "      <td>NaN</td>\n",
              "      <td>S</td>\n",
              "    </tr>\n",
              "    <tr>\n",
              "      <th>...</th>\n",
              "      <td>...</td>\n",
              "      <td>...</td>\n",
              "      <td>...</td>\n",
              "      <td>...</td>\n",
              "      <td>...</td>\n",
              "      <td>...</td>\n",
              "      <td>...</td>\n",
              "      <td>...</td>\n",
              "      <td>...</td>\n",
              "      <td>...</td>\n",
              "      <td>...</td>\n",
              "    </tr>\n",
              "    <tr>\n",
              "      <th>163</th>\n",
              "      <td>165</td>\n",
              "      <td>3</td>\n",
              "      <td>Panula, Master. Eino Viljami</td>\n",
              "      <td>male</td>\n",
              "      <td>1.0</td>\n",
              "      <td>4</td>\n",
              "      <td>1</td>\n",
              "      <td>3101295</td>\n",
              "      <td>39.6875</td>\n",
              "      <td>NaN</td>\n",
              "      <td>S</td>\n",
              "    </tr>\n",
              "    <tr>\n",
              "      <th>522</th>\n",
              "      <td>527</td>\n",
              "      <td>2</td>\n",
              "      <td>Ridsdale, Miss. Lucy</td>\n",
              "      <td>female</td>\n",
              "      <td>50.0</td>\n",
              "      <td>0</td>\n",
              "      <td>0</td>\n",
              "      <td>W./C. 14258</td>\n",
              "      <td>10.5000</td>\n",
              "      <td>NaN</td>\n",
              "      <td>S</td>\n",
              "    </tr>\n",
              "    <tr>\n",
              "      <th>34</th>\n",
              "      <td>35</td>\n",
              "      <td>1</td>\n",
              "      <td>Meyer, Mr. Edgar Joseph</td>\n",
              "      <td>male</td>\n",
              "      <td>28.0</td>\n",
              "      <td>1</td>\n",
              "      <td>0</td>\n",
              "      <td>PC 17604</td>\n",
              "      <td>82.1708</td>\n",
              "      <td>NaN</td>\n",
              "      <td>C</td>\n",
              "    </tr>\n",
              "    <tr>\n",
              "      <th>566</th>\n",
              "      <td>571</td>\n",
              "      <td>2</td>\n",
              "      <td>Harris, Mr. George</td>\n",
              "      <td>male</td>\n",
              "      <td>62.0</td>\n",
              "      <td>0</td>\n",
              "      <td>0</td>\n",
              "      <td>S.W./PP 752</td>\n",
              "      <td>10.5000</td>\n",
              "      <td>NaN</td>\n",
              "      <td>S</td>\n",
              "    </tr>\n",
              "    <tr>\n",
              "      <th>356</th>\n",
              "      <td>360</td>\n",
              "      <td>3</td>\n",
              "      <td>Mockler, Miss. Helen Mary \"Ellie\"</td>\n",
              "      <td>female</td>\n",
              "      <td>NaN</td>\n",
              "      <td>0</td>\n",
              "      <td>0</td>\n",
              "      <td>330980</td>\n",
              "      <td>7.8792</td>\n",
              "      <td>NaN</td>\n",
              "      <td>Q</td>\n",
              "    </tr>\n",
              "  </tbody>\n",
              "</table>\n",
              "<p>640 rows × 11 columns</p>\n",
              "</div>"
            ],
            "text/plain": [
              "     PassengerId  Pclass                                           Name  \\\n",
              "786          792       2                            Gaskell, Mr. Alfred   \n",
              "189          191       2                            Pinsky, Mrs. (Rosa)   \n",
              "567          572       1  Appleton, Mrs. Edward Dale (Charlotte Lamson)   \n",
              "500          505       1                          Maioni, Miss. Roberta   \n",
              "868          874       3                    Vander Cruyssen, Mr. Victor   \n",
              "..           ...     ...                                            ...   \n",
              "163          165       3                   Panula, Master. Eino Viljami   \n",
              "522          527       2                           Ridsdale, Miss. Lucy   \n",
              "34            35       1                        Meyer, Mr. Edgar Joseph   \n",
              "566          571       2                             Harris, Mr. George   \n",
              "356          360       3              Mockler, Miss. Helen Mary \"Ellie\"   \n",
              "\n",
              "        Sex   Age  SibSp  Parch       Ticket     Fare Cabin Embarked  \n",
              "786    male  16.0      0      0       239865  26.0000   NaN        S  \n",
              "189  female  32.0      0      0       234604  13.0000   NaN        S  \n",
              "567  female  53.0      2      0        11769  51.4792  C101        S  \n",
              "500  female  16.0      0      0       110152  86.5000   B79        S  \n",
              "868    male  47.0      0      0       345765   9.0000   NaN        S  \n",
              "..      ...   ...    ...    ...          ...      ...   ...      ...  \n",
              "163    male   1.0      4      1      3101295  39.6875   NaN        S  \n",
              "522  female  50.0      0      0  W./C. 14258  10.5000   NaN        S  \n",
              "34     male  28.0      1      0     PC 17604  82.1708   NaN        C  \n",
              "566    male  62.0      0      0  S.W./PP 752  10.5000   NaN        S  \n",
              "356  female   NaN      0      0       330980   7.8792   NaN        Q  \n",
              "\n",
              "[640 rows x 11 columns]"
            ]
          },
          "execution_count": 58,
          "metadata": {},
          "output_type": "execute_result"
        }
      ],
      "source": [
        "# Display X_train\n",
        "\n",
        "X_train"
      ]
    },
    {
      "cell_type": "markdown",
      "metadata": {
        "id": "J0gCsxUuBoXO"
      },
      "source": [
        "Misalkan column `PassengerId`, `Cabin`, `Ticket`, `Embarked`, dan `Name` tidak memiliki korelasi yang kuat terhadap column `Survived`."
      ]
    },
    {
      "cell_type": "code",
      "execution_count": 59,
      "metadata": {
        "id": "SjJWycbjB7IE"
      },
      "outputs": [],
      "source": [
        "# Drop Columns\n",
        "\n",
        "X_train.drop(['PassengerId', 'Cabin', 'Ticket', 'Embarked', 'Name'], axis=1, inplace=True)\n",
        "X_val.drop(['PassengerId', 'Cabin', 'Ticket', 'Embarked', 'Name'], axis=1, inplace=True)\n",
        "X_test.drop(['PassengerId', 'Cabin', 'Ticket', 'Embarked', 'Name'], axis=1, inplace=True)"
      ]
    },
    {
      "cell_type": "markdown",
      "metadata": {
        "id": "vtrlbiHJCWcd"
      },
      "source": [
        "## Get Numerical Columns and Categorical Columns"
      ]
    },
    {
      "cell_type": "code",
      "execution_count": 60,
      "metadata": {
        "colab": {
          "base_uri": "https://localhost:8080/"
        },
        "id": "ztjm5jp3CWK8",
        "outputId": "99f0163c-074b-479c-aa83-a9cb5aefa036"
      },
      "outputs": [
        {
          "name": "stdout",
          "output_type": "stream",
          "text": [
            "Numerical Columns :  ['Pclass', 'Age', 'SibSp', 'Parch', 'Fare']\n",
            "Categorical Columns :  ['Sex']\n"
          ]
        }
      ],
      "source": [
        "# Get Numerical Columns and Categorical Columns\n",
        "\n",
        "num_columns = X_train.select_dtypes(include=np.number).columns.tolist()\n",
        "cat_columns = X_train.select_dtypes(include=['object']).columns.tolist()\n",
        "\n",
        "print('Numerical Columns : ', num_columns)\n",
        "print('Categorical Columns : ', cat_columns)"
      ]
    },
    {
      "cell_type": "markdown",
      "metadata": {
        "id": "AA2wCr8dC2pU"
      },
      "source": [
        "## Pipeline"
      ]
    },
    {
      "cell_type": "code",
      "execution_count": 61,
      "metadata": {
        "id": "uOma8vtXC5af"
      },
      "outputs": [],
      "source": [
        "# Create A Pipeline\n",
        "\n",
        "num_pipeline = make_pipeline(SimpleImputer(strategy='median'),\n",
        "                             StandardScaler())\n",
        "\n",
        "cat_pipeline = make_pipeline(OneHotEncoder())\n",
        "\n",
        "final_pipeline = ColumnTransformer([\n",
        "    ('pipe_num', num_pipeline, num_columns),\n",
        "    ('pipe_cat', cat_pipeline, cat_columns)\n",
        "])"
      ]
    },
    {
      "cell_type": "code",
      "execution_count": 62,
      "metadata": {
        "colab": {
          "base_uri": "https://localhost:8080/"
        },
        "id": "j-Gt0_z5DjDv",
        "outputId": "bc1e3b83-6a95-424f-e4d9-f982c06ac9c8"
      },
      "outputs": [
        {
          "data": {
            "text/plain": [
              "(640, 7)"
            ]
          },
          "execution_count": 62,
          "metadata": {},
          "output_type": "execute_result"
        }
      ],
      "source": [
        "# Fit and Transform\n",
        "\n",
        "X_train = final_pipeline.fit_transform(X_train)\n",
        "X_val = final_pipeline.transform(X_val)\n",
        "X_test = final_pipeline.transform(X_test)\n",
        "X_train.shape"
      ]
    },
    {
      "cell_type": "markdown",
      "metadata": {
        "id": "EZr1l_3NEg3J"
      },
      "source": [
        "# 5 - Sequential API"
      ]
    },
    {
      "cell_type": "markdown",
      "metadata": {
        "id": "CPeqKofcE8ov"
      },
      "source": [
        "## 5.1 - Model Definition"
      ]
    },
    {
      "cell_type": "code",
      "execution_count": 63,
      "metadata": {
        "colab": {
          "base_uri": "https://localhost:8080/"
        },
        "id": "vdTvOYvfFAPH",
        "outputId": "9fd2b6d7-3eb9-4884-f91a-0b946e47b233"
      },
      "outputs": [
        {
          "name": "stdout",
          "output_type": "stream",
          "text": [
            "Model: \"sequential_2\"\n",
            "_________________________________________________________________\n",
            " Layer (type)                Output Shape              Param #   \n",
            "=================================================================\n",
            " dense_9 (Dense)             (None, 16)                128       \n",
            "                                                                 \n",
            " dense_10 (Dense)            (None, 8)                 136       \n",
            "                                                                 \n",
            " dense_11 (Dense)            (None, 1)                 9         \n",
            "                                                                 \n",
            "=================================================================\n",
            "Total params: 273\n",
            "Trainable params: 273\n",
            "Non-trainable params: 0\n",
            "_________________________________________________________________\n"
          ]
        }
      ],
      "source": [
        "# Create Sequential API\n",
        "\n",
        "from tensorflow.keras.models import Sequential\n",
        "from tensorflow.keras.layers import Dense \n",
        "\n",
        "model_sequential = Sequential()\n",
        "model_sequential.add(Dense(16, activation='relu', input_shape=(7,))) # Hidden Layer 1\n",
        "model_sequential.add(Dense(8, activation='relu')) # Hidden Layer 2\n",
        "model_sequential.add(Dense(1, activation='sigmoid')) # Output Layer\n",
        "\n",
        "# Compile\n",
        "model_sequential.compile(loss='binary_crossentropy',\n",
        "                         optimizer='Adam',\n",
        "                         metrics=['accuracy'])\n",
        "\n",
        "model_sequential.summary()"
      ]
    },
    {
      "cell_type": "code",
      "execution_count": 64,
      "metadata": {
        "colab": {
          "base_uri": "https://localhost:8080/",
          "height": 422
        },
        "id": "AtwUDtXUIlGL",
        "outputId": "71798541-3b6b-46cb-e4f1-0d1c0184f564"
      },
      "outputs": [
        {
          "data": {
            "image/png": "[encoded data removed]",
            "text/plain": [
              "<IPython.core.display.Image object>"
            ]
          },
          "execution_count": 64,
          "metadata": {},
          "output_type": "execute_result"
        }
      ],
      "source": [
        "# Plot Layers\n",
        "\n",
        "import tensorflow as tf\n",
        "\n",
        "tf.keras.utils.plot_model(model_sequential, show_shapes=True)"
      ]
    },
    {
      "cell_type": "markdown",
      "metadata": {
        "id": "tt7-B8dZIy3R"
      },
      "source": [
        "## 5.2 - Model Training"
      ]
    },
    {
      "cell_type": "code",
      "execution_count": 65,
      "metadata": {
        "colab": {
          "base_uri": "https://localhost:8080/"
        },
        "id": "yp3N_jtOIyip",
        "outputId": "ad47a2fd-7f56-4170-f773-2c4e202fbba4"
      },
      "outputs": [
        {
          "name": "stdout",
          "output_type": "stream",
          "text": [
            "Epoch 1/20\n",
            " 8/64 [==>...........................] - ETA: 0s - loss: 0.5921 - accuracy: 0.6375 "
          ]
        },
        {
          "name": "stderr",
          "output_type": "stream",
          "text": [
            "2022-12-01 10:08:52.228439: I tensorflow/core/grappler/optimizers/custom_graph_optimizer_registry.cc:114] Plugin optimizer for device_type GPU is enabled.\n"
          ]
        },
        {
          "name": "stdout",
          "output_type": "stream",
          "text": [
            "64/64 [==============================] - 1s 9ms/step - loss: 0.5942 - accuracy: 0.6281 - val_loss: 0.5931 - val_accuracy: 0.6106\n",
            "Epoch 2/20\n",
            "10/64 [===>..........................] - ETA: 0s - loss: 0.5721 - accuracy: 0.6200"
          ]
        },
        {
          "name": "stderr",
          "output_type": "stream",
          "text": [
            "2022-12-01 10:08:52.818294: I tensorflow/core/grappler/optimizers/custom_graph_optimizer_registry.cc:114] Plugin optimizer for device_type GPU is enabled.\n"
          ]
        },
        {
          "name": "stdout",
          "output_type": "stream",
          "text": [
            "64/64 [==============================] - 0s 7ms/step - loss: 0.5615 - accuracy: 0.6625 - val_loss: 0.5831 - val_accuracy: 0.6637\n",
            "Epoch 3/20\n",
            "64/64 [==============================] - 0s 8ms/step - loss: 0.5356 - accuracy: 0.7094 - val_loss: 0.5768 - val_accuracy: 0.7345\n",
            "Epoch 4/20\n",
            "64/64 [==============================] - 0s 7ms/step - loss: 0.5086 - accuracy: 0.7891 - val_loss: 0.5657 - val_accuracy: 0.7168\n",
            "Epoch 5/20\n",
            "64/64 [==============================] - 0s 7ms/step - loss: 0.4836 - accuracy: 0.8109 - val_loss: 0.5560 - val_accuracy: 0.7168\n",
            "Epoch 6/20\n",
            "64/64 [==============================] - 1s 9ms/step - loss: 0.4667 - accuracy: 0.8172 - val_loss: 0.5577 - val_accuracy: 0.7345\n",
            "Epoch 7/20\n",
            "64/64 [==============================] - 1s 14ms/step - loss: 0.4546 - accuracy: 0.8188 - val_loss: 0.5538 - val_accuracy: 0.7345\n",
            "Epoch 8/20\n",
            "64/64 [==============================] - 1s 16ms/step - loss: 0.4445 - accuracy: 0.8234 - val_loss: 0.5451 - val_accuracy: 0.7080\n",
            "Epoch 9/20\n",
            "64/64 [==============================] - 0s 7ms/step - loss: 0.4361 - accuracy: 0.8234 - val_loss: 0.5447 - val_accuracy: 0.7168\n",
            "Epoch 10/20\n",
            "64/64 [==============================] - 0s 7ms/step - loss: 0.4310 - accuracy: 0.8266 - val_loss: 0.5414 - val_accuracy: 0.7168\n",
            "Epoch 11/20\n",
            "64/64 [==============================] - 1s 8ms/step - loss: 0.4255 - accuracy: 0.8250 - val_loss: 0.5382 - val_accuracy: 0.7345\n",
            "Epoch 12/20\n",
            "64/64 [==============================] - 1s 10ms/step - loss: 0.4226 - accuracy: 0.8313 - val_loss: 0.5325 - val_accuracy: 0.7257\n",
            "Epoch 13/20\n",
            "64/64 [==============================] - 1s 8ms/step - loss: 0.4196 - accuracy: 0.8281 - val_loss: 0.5308 - val_accuracy: 0.7345\n",
            "Epoch 14/20\n",
            "64/64 [==============================] - 1s 8ms/step - loss: 0.4165 - accuracy: 0.8297 - val_loss: 0.5285 - val_accuracy: 0.7345\n",
            "Epoch 15/20\n",
            "64/64 [==============================] - 0s 7ms/step - loss: 0.4147 - accuracy: 0.8297 - val_loss: 0.5230 - val_accuracy: 0.7345\n",
            "Epoch 16/20\n",
            "64/64 [==============================] - 0s 8ms/step - loss: 0.4114 - accuracy: 0.8313 - val_loss: 0.5201 - val_accuracy: 0.7434\n",
            "Epoch 17/20\n",
            "64/64 [==============================] - 0s 7ms/step - loss: 0.4098 - accuracy: 0.8344 - val_loss: 0.5191 - val_accuracy: 0.7345\n",
            "Epoch 18/20\n",
            "64/64 [==============================] - 0s 7ms/step - loss: 0.4077 - accuracy: 0.8328 - val_loss: 0.5156 - val_accuracy: 0.7345\n",
            "Epoch 19/20\n",
            "64/64 [==============================] - 0s 7ms/step - loss: 0.4083 - accuracy: 0.8313 - val_loss: 0.5124 - val_accuracy: 0.7345\n",
            "Epoch 20/20\n",
            "64/64 [==============================] - 0s 7ms/step - loss: 0.4059 - accuracy: 0.8359 - val_loss: 0.5205 - val_accuracy: 0.7434\n"
          ]
        }
      ],
      "source": [
        "# Train the Model\n",
        "\n",
        "history_seq = model_sequential.fit(X_train, \n",
        "                                   y_train, \n",
        "                                   epochs=20, \n",
        "                                   validation_data=(X_val, y_val), \n",
        "                                   batch_size=10)"
      ]
    },
    {
      "cell_type": "markdown",
      "metadata": {
        "id": "E8nuiM75L0zm"
      },
      "source": [
        "## 5.3 - Model Evaluation"
      ]
    },
    {
      "cell_type": "code",
      "execution_count": 66,
      "metadata": {
        "colab": {
          "base_uri": "https://localhost:8080/",
          "height": 677
        },
        "id": "m9q1AmdoL38M",
        "outputId": "ac97b897-0d16-472d-99e7-02a1a7b42dac"
      },
      "outputs": [
        {
          "data": {
            "text/html": [
              "<div>\n",
              "<style scoped>\n",
              "    .dataframe tbody tr th:only-of-type {\n",
              "        vertical-align: middle;\n",
              "    }\n",
              "\n",
              "    .dataframe tbody tr th {\n",
              "        vertical-align: top;\n",
              "    }\n",
              "\n",
              "    .dataframe thead th {\n",
              "        text-align: right;\n",
              "    }\n",
              "</style>\n",
              "<table border=\"1\" class=\"dataframe\">\n",
              "  <thead>\n",
              "    <tr style=\"text-align: right;\">\n",
              "      <th></th>\n",
              "      <th>loss</th>\n",
              "      <th>accuracy</th>\n",
              "      <th>val_loss</th>\n",
              "      <th>val_accuracy</th>\n",
              "    </tr>\n",
              "  </thead>\n",
              "  <tbody>\n",
              "    <tr>\n",
              "      <th>0</th>\n",
              "      <td>0.594208</td>\n",
              "      <td>0.628125</td>\n",
              "      <td>0.593103</td>\n",
              "      <td>0.610619</td>\n",
              "    </tr>\n",
              "    <tr>\n",
              "      <th>1</th>\n",
              "      <td>0.561475</td>\n",
              "      <td>0.662500</td>\n",
              "      <td>0.583116</td>\n",
              "      <td>0.663717</td>\n",
              "    </tr>\n",
              "    <tr>\n",
              "      <th>2</th>\n",
              "      <td>0.535618</td>\n",
              "      <td>0.709375</td>\n",
              "      <td>0.576778</td>\n",
              "      <td>0.734513</td>\n",
              "    </tr>\n",
              "    <tr>\n",
              "      <th>3</th>\n",
              "      <td>0.508595</td>\n",
              "      <td>0.789062</td>\n",
              "      <td>0.565712</td>\n",
              "      <td>0.716814</td>\n",
              "    </tr>\n",
              "    <tr>\n",
              "      <th>4</th>\n",
              "      <td>0.483646</td>\n",
              "      <td>0.810938</td>\n",
              "      <td>0.556044</td>\n",
              "      <td>0.716814</td>\n",
              "    </tr>\n",
              "    <tr>\n",
              "      <th>5</th>\n",
              "      <td>0.466745</td>\n",
              "      <td>0.817187</td>\n",
              "      <td>0.557656</td>\n",
              "      <td>0.734513</td>\n",
              "    </tr>\n",
              "    <tr>\n",
              "      <th>6</th>\n",
              "      <td>0.454644</td>\n",
              "      <td>0.818750</td>\n",
              "      <td>0.553849</td>\n",
              "      <td>0.734513</td>\n",
              "    </tr>\n",
              "    <tr>\n",
              "      <th>7</th>\n",
              "      <td>0.444481</td>\n",
              "      <td>0.823438</td>\n",
              "      <td>0.545096</td>\n",
              "      <td>0.707965</td>\n",
              "    </tr>\n",
              "    <tr>\n",
              "      <th>8</th>\n",
              "      <td>0.436140</td>\n",
              "      <td>0.823438</td>\n",
              "      <td>0.544725</td>\n",
              "      <td>0.716814</td>\n",
              "    </tr>\n",
              "    <tr>\n",
              "      <th>9</th>\n",
              "      <td>0.431030</td>\n",
              "      <td>0.826563</td>\n",
              "      <td>0.541394</td>\n",
              "      <td>0.716814</td>\n",
              "    </tr>\n",
              "    <tr>\n",
              "      <th>10</th>\n",
              "      <td>0.425547</td>\n",
              "      <td>0.825000</td>\n",
              "      <td>0.538245</td>\n",
              "      <td>0.734513</td>\n",
              "    </tr>\n",
              "    <tr>\n",
              "      <th>11</th>\n",
              "      <td>0.422591</td>\n",
              "      <td>0.831250</td>\n",
              "      <td>0.532537</td>\n",
              "      <td>0.725664</td>\n",
              "    </tr>\n",
              "    <tr>\n",
              "      <th>12</th>\n",
              "      <td>0.419589</td>\n",
              "      <td>0.828125</td>\n",
              "      <td>0.530798</td>\n",
              "      <td>0.734513</td>\n",
              "    </tr>\n",
              "    <tr>\n",
              "      <th>13</th>\n",
              "      <td>0.416454</td>\n",
              "      <td>0.829688</td>\n",
              "      <td>0.528472</td>\n",
              "      <td>0.734513</td>\n",
              "    </tr>\n",
              "    <tr>\n",
              "      <th>14</th>\n",
              "      <td>0.414651</td>\n",
              "      <td>0.829688</td>\n",
              "      <td>0.523040</td>\n",
              "      <td>0.734513</td>\n",
              "    </tr>\n",
              "    <tr>\n",
              "      <th>15</th>\n",
              "      <td>0.411401</td>\n",
              "      <td>0.831250</td>\n",
              "      <td>0.520129</td>\n",
              "      <td>0.743363</td>\n",
              "    </tr>\n",
              "    <tr>\n",
              "      <th>16</th>\n",
              "      <td>0.409804</td>\n",
              "      <td>0.834375</td>\n",
              "      <td>0.519087</td>\n",
              "      <td>0.734513</td>\n",
              "    </tr>\n",
              "    <tr>\n",
              "      <th>17</th>\n",
              "      <td>0.407733</td>\n",
              "      <td>0.832812</td>\n",
              "      <td>0.515557</td>\n",
              "      <td>0.734513</td>\n",
              "    </tr>\n",
              "    <tr>\n",
              "      <th>18</th>\n",
              "      <td>0.408254</td>\n",
              "      <td>0.831250</td>\n",
              "      <td>0.512439</td>\n",
              "      <td>0.734513</td>\n",
              "    </tr>\n",
              "    <tr>\n",
              "      <th>19</th>\n",
              "      <td>0.405928</td>\n",
              "      <td>0.835938</td>\n",
              "      <td>0.520540</td>\n",
              "      <td>0.743363</td>\n",
              "    </tr>\n",
              "  </tbody>\n",
              "</table>\n",
              "</div>"
            ],
            "text/plain": [
              "        loss  accuracy  val_loss  val_accuracy\n",
              "0   0.594208  0.628125  0.593103      0.610619\n",
              "1   0.561475  0.662500  0.583116      0.663717\n",
              "2   0.535618  0.709375  0.576778      0.734513\n",
              "3   0.508595  0.789062  0.565712      0.716814\n",
              "4   0.483646  0.810938  0.556044      0.716814\n",
              "5   0.466745  0.817187  0.557656      0.734513\n",
              "6   0.454644  0.818750  0.553849      0.734513\n",
              "7   0.444481  0.823438  0.545096      0.707965\n",
              "8   0.436140  0.823438  0.544725      0.716814\n",
              "9   0.431030  0.826563  0.541394      0.716814\n",
              "10  0.425547  0.825000  0.538245      0.734513\n",
              "11  0.422591  0.831250  0.532537      0.725664\n",
              "12  0.419589  0.828125  0.530798      0.734513\n",
              "13  0.416454  0.829688  0.528472      0.734513\n",
              "14  0.414651  0.829688  0.523040      0.734513\n",
              "15  0.411401  0.831250  0.520129      0.743363\n",
              "16  0.409804  0.834375  0.519087      0.734513\n",
              "17  0.407733  0.832812  0.515557      0.734513\n",
              "18  0.408254  0.831250  0.512439      0.734513\n",
              "19  0.405928  0.835938  0.520540      0.743363"
            ]
          },
          "execution_count": 66,
          "metadata": {},
          "output_type": "execute_result"
        }
      ],
      "source": [
        "# Create DataFrame\n",
        "\n",
        "history_seq_df = pd.DataFrame(history_seq.history)\n",
        "history_seq_df"
      ]
    },
    {
      "cell_type": "code",
      "execution_count": 67,
      "metadata": {
        "colab": {
          "base_uri": "https://localhost:8080/",
          "height": 283
        },
        "id": "0P8PKnrNMT2J",
        "outputId": "61379d2b-60a3-4e04-bc25-9ab681b960a7"
      },
      "outputs": [
        {
          "data": {
            "text/plain": [
              "<AxesSubplot: >"
            ]
          },
          "execution_count": 67,
          "metadata": {},
          "output_type": "execute_result"
        },
        {
          "data": {
            "image/png": "[encoded data removed]",
            "text/plain": [
              "<Figure size 640x480 with 1 Axes>"
            ]
          },
          "metadata": {},
          "output_type": "display_data"
        }
      ],
      "source": [
        "# Plot between accuracy and val_accuracy\n",
        "\n",
        "history_seq_df[['accuracy', 'val_accuracy']].plot()"
      ]
    },
    {
      "cell_type": "code",
      "execution_count": 68,
      "metadata": {
        "colab": {
          "base_uri": "https://localhost:8080/",
          "height": 283
        },
        "id": "i8WU48EqNIO_",
        "outputId": "d294d3e0-6cfe-4b25-87bc-08181f8c0ded"
      },
      "outputs": [
        {
          "data": {
            "text/plain": [
              "<AxesSubplot: >"
            ]
          },
          "execution_count": 68,
          "metadata": {},
          "output_type": "execute_result"
        },
        {
          "data": {
            "image/png": "[encoded data removed]",
            "text/plain": [
              "<Figure size 640x480 with 1 Axes>"
            ]
          },
          "metadata": {},
          "output_type": "display_data"
        }
      ],
      "source": [
        "# Plot between loss and val_loss\n",
        "\n",
        "history_seq_df[['loss', 'val_loss']].plot()"
      ]
    },
    {
      "cell_type": "code",
      "execution_count": 69,
      "metadata": {
        "colab": {
          "base_uri": "https://localhost:8080/"
        },
        "id": "l6G2vwQHPMJm",
        "outputId": "136d27bd-e40b-4075-db5f-f5efc7d78a1a"
      },
      "outputs": [
        {
          "name": "stdout",
          "output_type": "stream",
          "text": [
            "5/5 [==============================] - 0s 7ms/step\n",
            "              precision    recall  f1-score   support\n",
            "\n",
            "           0       0.88      0.85      0.86        84\n",
            "           1       0.75      0.80      0.77        49\n",
            "\n",
            "    accuracy                           0.83       133\n",
            "   macro avg       0.81      0.82      0.82       133\n",
            "weighted avg       0.83      0.83      0.83       133\n",
            "\n"
          ]
        },
        {
          "name": "stderr",
          "output_type": "stream",
          "text": [
            "2022-12-01 10:09:03.798665: I tensorflow/core/grappler/optimizers/custom_graph_optimizer_registry.cc:114] Plugin optimizer for device_type GPU is enabled.\n"
          ]
        }
      ],
      "source": [
        "# Model Evaluation\n",
        "\n",
        "from sklearn.metrics import classification_report \n",
        "\n",
        "y_pred_seq = model_sequential.predict(X_test)\n",
        "y_pred_seq = np.where(y_pred_seq >=0.5, 1, 0)\n",
        "\n",
        "print(classification_report(y_test, y_pred_seq))"
      ]
    },
    {
      "cell_type": "markdown",
      "metadata": {
        "id": "Txpi335vP1E9"
      },
      "source": [
        "# 6 - Functional API"
      ]
    },
    {
      "cell_type": "markdown",
      "metadata": {
        "id": "pF3xYThkQYwX"
      },
      "source": [
        "## 6.1 - Model Definition"
      ]
    },
    {
      "cell_type": "code",
      "execution_count": 70,
      "metadata": {
        "id": "g8sdqVQVQJ5F"
      },
      "outputs": [
        {
          "name": "stdout",
          "output_type": "stream",
          "text": [
            "Model: \"model_1\"\n",
            "__________________________________________________________________________________________________\n",
            " Layer (type)                   Output Shape         Param #     Connected to                     \n",
            "==================================================================================================\n",
            " input_2 (InputLayer)           [(None, 7)]          0           []                               \n",
            "                                                                                                  \n",
            " dense_12 (Dense)               (None, 16)           128         ['input_2[0][0]']                \n",
            "                                                                                                  \n",
            " dense_13 (Dense)               (None, 8)            136         ['dense_12[0][0]']               \n",
            "                                                                                                  \n",
            " concatenate_1 (Concatenate)    (None, 15)           0           ['input_2[0][0]',                \n",
            "                                                                  'dense_13[0][0]']               \n",
            "                                                                                                  \n",
            " dense_14 (Dense)               (None, 1)            16          ['concatenate_1[0][0]']          \n",
            "                                                                                                  \n",
            "==================================================================================================\n",
            "Total params: 280\n",
            "Trainable params: 280\n",
            "Non-trainable params: 0\n",
            "__________________________________________________________________________________________________\n"
          ]
        }
      ],
      "source": [
        "# Create Functional Model\n",
        "\n",
        "from tensorflow.keras.layers import Input, concatenate\n",
        "from tensorflow.keras import Model\n",
        "\n",
        "input_layer = Input(shape=(7,))\n",
        "hidden1_layer = Dense(16, activation='relu')(input_layer)\n",
        "hidden2_layer = Dense(8, activation='relu')(hidden1_layer)\n",
        "\n",
        "concat_layer = concatenate([input_layer, hidden2_layer])\n",
        "output_layer = Dense(1, activation='sigmoid')(concat_layer)\n",
        "\n",
        "model_functional = Model(inputs=input_layer, outputs=output_layer)\n",
        "\n",
        "# Compile\n",
        "model_functional.compile(loss='binary_crossentropy',\n",
        "                         optimizer='Adam',\n",
        "                         metrics=['accuracy'])\n",
        "\n",
        "model_functional.summary()"
      ]
    },
    {
      "cell_type": "code",
      "execution_count": 71,
      "metadata": {
        "colab": {
          "base_uri": "https://localhost:8080/",
          "height": 533
        },
        "id": "y0bR1abjRV9y",
        "outputId": "af04fec9-0949-425f-e1fd-3137f3bd21fd"
      },
      "outputs": [
        {
          "data": {
            "image/png": "[encoded data removed]",
            "text/plain": [
              "<IPython.core.display.Image object>"
            ]
          },
          "execution_count": 71,
          "metadata": {},
          "output_type": "execute_result"
        }
      ],
      "source": [
        "# Plot Layers\n",
        "\n",
        "tf.keras.utils.plot_model(model_functional, show_shapes=True)"
      ]
    },
    {
      "cell_type": "markdown",
      "metadata": {
        "id": "kZ4J59d3SNHy"
      },
      "source": [
        "## 6.2 - Model Training"
      ]
    },
    {
      "cell_type": "code",
      "execution_count": 72,
      "metadata": {
        "id": "TcIS2Oy8SPFw"
      },
      "outputs": [
        {
          "name": "stdout",
          "output_type": "stream",
          "text": [
            "Epoch 1/20\n"
          ]
        },
        {
          "name": "stderr",
          "output_type": "stream",
          "text": [
            "2022-12-01 10:09:04.515176: I tensorflow/core/grappler/optimizers/custom_graph_optimizer_registry.cc:114] Plugin optimizer for device_type GPU is enabled.\n"
          ]
        },
        {
          "name": "stdout",
          "output_type": "stream",
          "text": [
            "64/64 [==============================] - 1s 10ms/step - loss: 0.8424 - accuracy: 0.3203 - val_loss: 0.7819 - val_accuracy: 0.3451\n",
            "Epoch 2/20\n",
            " 1/64 [..............................] - ETA: 0s - loss: 0.7789 - accuracy: 0.4000"
          ]
        },
        {
          "name": "stderr",
          "output_type": "stream",
          "text": [
            "2022-12-01 10:09:05.254811: I tensorflow/core/grappler/optimizers/custom_graph_optimizer_registry.cc:114] Plugin optimizer for device_type GPU is enabled.\n"
          ]
        },
        {
          "name": "stdout",
          "output_type": "stream",
          "text": [
            "64/64 [==============================] - 0s 7ms/step - loss: 0.6987 - accuracy: 0.5000 - val_loss: 0.6613 - val_accuracy: 0.6726\n",
            "Epoch 3/20\n",
            "64/64 [==============================] - 1s 8ms/step - loss: 0.5824 - accuracy: 0.7359 - val_loss: 0.5762 - val_accuracy: 0.7611\n",
            "Epoch 4/20\n",
            "64/64 [==============================] - 0s 7ms/step - loss: 0.5085 - accuracy: 0.8031 - val_loss: 0.5435 - val_accuracy: 0.7345\n",
            "Epoch 5/20\n",
            "64/64 [==============================] - 0s 8ms/step - loss: 0.4693 - accuracy: 0.8125 - val_loss: 0.5296 - val_accuracy: 0.7345\n",
            "Epoch 6/20\n",
            "64/64 [==============================] - 0s 7ms/step - loss: 0.4477 - accuracy: 0.8141 - val_loss: 0.5249 - val_accuracy: 0.7257\n",
            "Epoch 7/20\n",
            "64/64 [==============================] - 0s 7ms/step - loss: 0.4329 - accuracy: 0.8156 - val_loss: 0.5252 - val_accuracy: 0.7168\n",
            "Epoch 8/20\n",
            "64/64 [==============================] - 0s 7ms/step - loss: 0.4241 - accuracy: 0.8203 - val_loss: 0.5184 - val_accuracy: 0.7168\n",
            "Epoch 9/20\n",
            "64/64 [==============================] - 0s 7ms/step - loss: 0.4176 - accuracy: 0.8250 - val_loss: 0.5130 - val_accuracy: 0.7168\n",
            "Epoch 10/20\n",
            "64/64 [==============================] - 0s 7ms/step - loss: 0.4152 - accuracy: 0.8234 - val_loss: 0.5150 - val_accuracy: 0.7168\n",
            "Epoch 11/20\n",
            "64/64 [==============================] - 0s 7ms/step - loss: 0.4110 - accuracy: 0.8281 - val_loss: 0.5094 - val_accuracy: 0.7168\n",
            "Epoch 12/20\n",
            "64/64 [==============================] - 0s 7ms/step - loss: 0.4092 - accuracy: 0.8281 - val_loss: 0.5057 - val_accuracy: 0.7168\n",
            "Epoch 13/20\n",
            "64/64 [==============================] - 0s 7ms/step - loss: 0.4076 - accuracy: 0.8313 - val_loss: 0.5128 - val_accuracy: 0.7345\n",
            "Epoch 14/20\n",
            "64/64 [==============================] - 0s 7ms/step - loss: 0.4054 - accuracy: 0.8313 - val_loss: 0.5065 - val_accuracy: 0.7257\n",
            "Epoch 15/20\n",
            "64/64 [==============================] - 0s 7ms/step - loss: 0.4044 - accuracy: 0.8297 - val_loss: 0.5069 - val_accuracy: 0.7345\n",
            "Epoch 16/20\n",
            "64/64 [==============================] - 0s 7ms/step - loss: 0.4019 - accuracy: 0.8313 - val_loss: 0.5049 - val_accuracy: 0.7345\n",
            "Epoch 17/20\n",
            "64/64 [==============================] - 0s 7ms/step - loss: 0.4024 - accuracy: 0.8359 - val_loss: 0.5114 - val_accuracy: 0.7257\n",
            "Epoch 18/20\n",
            "64/64 [==============================] - 0s 7ms/step - loss: 0.3994 - accuracy: 0.8406 - val_loss: 0.4994 - val_accuracy: 0.7345\n",
            "Epoch 19/20\n",
            "64/64 [==============================] - 0s 7ms/step - loss: 0.3987 - accuracy: 0.8359 - val_loss: 0.4994 - val_accuracy: 0.7345\n",
            "Epoch 20/20\n",
            "64/64 [==============================] - 0s 7ms/step - loss: 0.3976 - accuracy: 0.8422 - val_loss: 0.4983 - val_accuracy: 0.7345\n"
          ]
        }
      ],
      "source": [
        "# Train the Model\n",
        "\n",
        "history_func = model_functional.fit(X_train, \n",
        "                                   y_train, \n",
        "                                   epochs=20, \n",
        "                                   validation_data=(X_val, y_val), \n",
        "                                   batch_size=10)"
      ]
    },
    {
      "cell_type": "markdown",
      "metadata": {
        "id": "aWw88_LyScO4"
      },
      "source": [
        "## 6.3 - Model Evaluation"
      ]
    },
    {
      "cell_type": "code",
      "execution_count": 73,
      "metadata": {
        "id": "MEsmyaWhSZXK"
      },
      "outputs": [
        {
          "data": {
            "text/html": [
              "<div>\n",
              "<style scoped>\n",
              "    .dataframe tbody tr th:only-of-type {\n",
              "        vertical-align: middle;\n",
              "    }\n",
              "\n",
              "    .dataframe tbody tr th {\n",
              "        vertical-align: top;\n",
              "    }\n",
              "\n",
              "    .dataframe thead th {\n",
              "        text-align: right;\n",
              "    }\n",
              "</style>\n",
              "<table border=\"1\" class=\"dataframe\">\n",
              "  <thead>\n",
              "    <tr style=\"text-align: right;\">\n",
              "      <th></th>\n",
              "      <th>loss</th>\n",
              "      <th>accuracy</th>\n",
              "      <th>val_loss</th>\n",
              "      <th>val_accuracy</th>\n",
              "    </tr>\n",
              "  </thead>\n",
              "  <tbody>\n",
              "    <tr>\n",
              "      <th>0</th>\n",
              "      <td>0.842392</td>\n",
              "      <td>0.320312</td>\n",
              "      <td>0.781918</td>\n",
              "      <td>0.345133</td>\n",
              "    </tr>\n",
              "    <tr>\n",
              "      <th>1</th>\n",
              "      <td>0.698668</td>\n",
              "      <td>0.500000</td>\n",
              "      <td>0.661345</td>\n",
              "      <td>0.672566</td>\n",
              "    </tr>\n",
              "    <tr>\n",
              "      <th>2</th>\n",
              "      <td>0.582384</td>\n",
              "      <td>0.735938</td>\n",
              "      <td>0.576247</td>\n",
              "      <td>0.761062</td>\n",
              "    </tr>\n",
              "    <tr>\n",
              "      <th>3</th>\n",
              "      <td>0.508476</td>\n",
              "      <td>0.803125</td>\n",
              "      <td>0.543458</td>\n",
              "      <td>0.734513</td>\n",
              "    </tr>\n",
              "    <tr>\n",
              "      <th>4</th>\n",
              "      <td>0.469298</td>\n",
              "      <td>0.812500</td>\n",
              "      <td>0.529555</td>\n",
              "      <td>0.734513</td>\n",
              "    </tr>\n",
              "    <tr>\n",
              "      <th>5</th>\n",
              "      <td>0.447722</td>\n",
              "      <td>0.814063</td>\n",
              "      <td>0.524911</td>\n",
              "      <td>0.725664</td>\n",
              "    </tr>\n",
              "    <tr>\n",
              "      <th>6</th>\n",
              "      <td>0.432876</td>\n",
              "      <td>0.815625</td>\n",
              "      <td>0.525168</td>\n",
              "      <td>0.716814</td>\n",
              "    </tr>\n",
              "    <tr>\n",
              "      <th>7</th>\n",
              "      <td>0.424140</td>\n",
              "      <td>0.820312</td>\n",
              "      <td>0.518359</td>\n",
              "      <td>0.716814</td>\n",
              "    </tr>\n",
              "    <tr>\n",
              "      <th>8</th>\n",
              "      <td>0.417579</td>\n",
              "      <td>0.825000</td>\n",
              "      <td>0.513045</td>\n",
              "      <td>0.716814</td>\n",
              "    </tr>\n",
              "    <tr>\n",
              "      <th>9</th>\n",
              "      <td>0.415234</td>\n",
              "      <td>0.823438</td>\n",
              "      <td>0.515050</td>\n",
              "      <td>0.716814</td>\n",
              "    </tr>\n",
              "    <tr>\n",
              "      <th>10</th>\n",
              "      <td>0.410975</td>\n",
              "      <td>0.828125</td>\n",
              "      <td>0.509432</td>\n",
              "      <td>0.716814</td>\n",
              "    </tr>\n",
              "    <tr>\n",
              "      <th>11</th>\n",
              "      <td>0.409176</td>\n",
              "      <td>0.828125</td>\n",
              "      <td>0.505715</td>\n",
              "      <td>0.716814</td>\n",
              "    </tr>\n",
              "    <tr>\n",
              "      <th>12</th>\n",
              "      <td>0.407603</td>\n",
              "      <td>0.831250</td>\n",
              "      <td>0.512811</td>\n",
              "      <td>0.734513</td>\n",
              "    </tr>\n",
              "    <tr>\n",
              "      <th>13</th>\n",
              "      <td>0.405392</td>\n",
              "      <td>0.831250</td>\n",
              "      <td>0.506543</td>\n",
              "      <td>0.725664</td>\n",
              "    </tr>\n",
              "    <tr>\n",
              "      <th>14</th>\n",
              "      <td>0.404448</td>\n",
              "      <td>0.829688</td>\n",
              "      <td>0.506937</td>\n",
              "      <td>0.734513</td>\n",
              "    </tr>\n",
              "    <tr>\n",
              "      <th>15</th>\n",
              "      <td>0.401913</td>\n",
              "      <td>0.831250</td>\n",
              "      <td>0.504915</td>\n",
              "      <td>0.734513</td>\n",
              "    </tr>\n",
              "    <tr>\n",
              "      <th>16</th>\n",
              "      <td>0.402364</td>\n",
              "      <td>0.835938</td>\n",
              "      <td>0.511368</td>\n",
              "      <td>0.725664</td>\n",
              "    </tr>\n",
              "    <tr>\n",
              "      <th>17</th>\n",
              "      <td>0.399448</td>\n",
              "      <td>0.840625</td>\n",
              "      <td>0.499363</td>\n",
              "      <td>0.734513</td>\n",
              "    </tr>\n",
              "    <tr>\n",
              "      <th>18</th>\n",
              "      <td>0.398681</td>\n",
              "      <td>0.835938</td>\n",
              "      <td>0.499442</td>\n",
              "      <td>0.734513</td>\n",
              "    </tr>\n",
              "    <tr>\n",
              "      <th>19</th>\n",
              "      <td>0.397614</td>\n",
              "      <td>0.842188</td>\n",
              "      <td>0.498293</td>\n",
              "      <td>0.734513</td>\n",
              "    </tr>\n",
              "  </tbody>\n",
              "</table>\n",
              "</div>"
            ],
            "text/plain": [
              "        loss  accuracy  val_loss  val_accuracy\n",
              "0   0.842392  0.320312  0.781918      0.345133\n",
              "1   0.698668  0.500000  0.661345      0.672566\n",
              "2   0.582384  0.735938  0.576247      0.761062\n",
              "3   0.508476  0.803125  0.543458      0.734513\n",
              "4   0.469298  0.812500  0.529555      0.734513\n",
              "5   0.447722  0.814063  0.524911      0.725664\n",
              "6   0.432876  0.815625  0.525168      0.716814\n",
              "7   0.424140  0.820312  0.518359      0.716814\n",
              "8   0.417579  0.825000  0.513045      0.716814\n",
              "9   0.415234  0.823438  0.515050      0.716814\n",
              "10  0.410975  0.828125  0.509432      0.716814\n",
              "11  0.409176  0.828125  0.505715      0.716814\n",
              "12  0.407603  0.831250  0.512811      0.734513\n",
              "13  0.405392  0.831250  0.506543      0.725664\n",
              "14  0.404448  0.829688  0.506937      0.734513\n",
              "15  0.401913  0.831250  0.504915      0.734513\n",
              "16  0.402364  0.835938  0.511368      0.725664\n",
              "17  0.399448  0.840625  0.499363      0.734513\n",
              "18  0.398681  0.835938  0.499442      0.734513\n",
              "19  0.397614  0.842188  0.498293      0.734513"
            ]
          },
          "execution_count": 73,
          "metadata": {},
          "output_type": "execute_result"
        }
      ],
      "source": [
        "# Create DataFrame\n",
        "\n",
        "history_functional_df = pd.DataFrame(history_func.history)\n",
        "history_functional_df"
      ]
    },
    {
      "cell_type": "code",
      "execution_count": 74,
      "metadata": {
        "colab": {
          "base_uri": "https://localhost:8080/",
          "height": 283
        },
        "id": "4cYNlmIsSpWj",
        "outputId": "7b4434ba-3b0a-4a3d-d371-d3ea9172c0b9"
      },
      "outputs": [
        {
          "data": {
            "text/plain": [
              "<AxesSubplot: >"
            ]
          },
          "execution_count": 74,
          "metadata": {},
          "output_type": "execute_result"
        },
        {
          "data": {
            "image/png": "[encoded data removed]",
            "text/plain": [
              "<Figure size 640x480 with 1 Axes>"
            ]
          },
          "metadata": {},
          "output_type": "display_data"
        }
      ],
      "source": [
        "# Plot between accuracy and val_accuracy\n",
        "\n",
        "history_functional_df[['accuracy', 'val_accuracy']].plot()"
      ]
    },
    {
      "cell_type": "code",
      "execution_count": 75,
      "metadata": {
        "colab": {
          "base_uri": "https://localhost:8080/",
          "height": 283
        },
        "id": "tt1WPDfxS6_g",
        "outputId": "fa3e99b2-5ae1-4f40-cd36-f43ee3bf1c85"
      },
      "outputs": [
        {
          "data": {
            "text/plain": [
              "<AxesSubplot: >"
            ]
          },
          "execution_count": 75,
          "metadata": {},
          "output_type": "execute_result"
        },
        {
          "data": {
            "image/png": "[encoded data removed]",
            "text/plain": [
              "<Figure size 640x480 with 1 Axes>"
            ]
          },
          "metadata": {},
          "output_type": "display_data"
        }
      ],
      "source": [
        "# Plot between loss and val_loss\n",
        "\n",
        "history_functional_df[['loss', 'val_loss']].plot()"
      ]
    },
    {
      "cell_type": "code",
      "execution_count": 76,
      "metadata": {
        "colab": {
          "base_uri": "https://localhost:8080/"
        },
        "id": "qIT8N32WTI6P",
        "outputId": "0975474b-33e1-4ebb-ab57-d916bf02e7e6"
      },
      "outputs": [
        {
          "name": "stdout",
          "output_type": "stream",
          "text": [
            "5/5 [==============================] - 0s 6ms/step\n",
            "              precision    recall  f1-score   support\n",
            "\n",
            "           0       0.87      0.88      0.88        84\n",
            "           1       0.79      0.78      0.78        49\n",
            "\n",
            "    accuracy                           0.84       133\n",
            "   macro avg       0.83      0.83      0.83       133\n",
            "weighted avg       0.84      0.84      0.84       133\n",
            "\n"
          ]
        },
        {
          "name": "stderr",
          "output_type": "stream",
          "text": [
            "2022-12-01 10:09:14.513548: I tensorflow/core/grappler/optimizers/custom_graph_optimizer_registry.cc:114] Plugin optimizer for device_type GPU is enabled.\n"
          ]
        }
      ],
      "source": [
        "# Model Evaluation\n",
        "\n",
        "from sklearn.metrics import classification_report \n",
        "\n",
        "y_pred_func = model_functional.predict(X_test)\n",
        "y_pred_func = np.where(y_pred_func >=0.5, 1, 0)\n",
        "\n",
        "print(classification_report(y_test, y_pred_func))"
      ]
    },
    {
      "cell_type": "markdown",
      "metadata": {
        "id": "uXNnhzlJTjRg"
      },
      "source": [
        "# 7 - Model Saving"
      ]
    },
    {
      "cell_type": "code",
      "execution_count": 77,
      "metadata": {
        "id": "qZ-2L8d7Tlru"
      },
      "outputs": [],
      "source": [
        "# Save Pipeline\n",
        "\n",
        "with open('final_pipeline.pkl', 'wb') as file_1:\n",
        "  joblib.dump(final_pipeline, file_1)"
      ]
    },
    {
      "cell_type": "code",
      "execution_count": 78,
      "metadata": {
        "id": "H6nR9KhaTuXM"
      },
      "outputs": [
        {
          "name": "stdout",
          "output_type": "stream",
          "text": [
            "Model: \"sequential_2\"\n",
            "_________________________________________________________________\n",
            " Layer (type)                Output Shape              Param #   \n",
            "=================================================================\n",
            " dense_9 (Dense)             (None, 16)                128       \n",
            "                                                                 \n",
            " dense_10 (Dense)            (None, 8)                 136       \n",
            "                                                                 \n",
            " dense_11 (Dense)            (None, 1)                 9         \n",
            "                                                                 \n",
            "=================================================================\n",
            "Total params: 273\n",
            "Trainable params: 273\n",
            "Non-trainable params: 0\n",
            "_________________________________________________________________\n"
          ]
        }
      ],
      "source": [
        "# Summary of Model Sequential\n",
        "\n",
        "model_sequential.summary()"
      ]
    },
    {
      "cell_type": "code",
      "execution_count": 79,
      "metadata": {
        "id": "sHrMMiI7T3Ri"
      },
      "outputs": [
        {
          "name": "stdout",
          "output_type": "stream",
          "text": [
            "Model: \"sequential_2\"\n",
            "_________________________________________________________________\n",
            " Layer (type)                Output Shape              Param #   \n",
            "=================================================================\n",
            " dense_9 (Dense)             (None, 16)                128       \n",
            "                                                                 \n",
            " dense_10 (Dense)            (None, 8)                 136       \n",
            "                                                                 \n",
            " dense_11 (Dense)            (None, 1)                 9         \n",
            "                                                                 \n",
            "=================================================================\n",
            "Total params: 273\n",
            "Trainable params: 0\n",
            "Non-trainable params: 273\n",
            "_________________________________________________________________\n"
          ]
        }
      ],
      "source": [
        "# Freeze Model\n",
        "\n",
        "model_sequential.trainable = False\n",
        "model_sequential.summary()"
      ]
    },
    {
      "cell_type": "code",
      "execution_count": 80,
      "metadata": {
        "id": "2Ch1DA3OUCB0"
      },
      "outputs": [],
      "source": [
        "# Save ANN Model\n",
        "\n",
        "model_sequential.save('titanic_model.h5')"
      ]
    },
    {
      "cell_type": "markdown",
      "metadata": {
        "id": "quORMXCxUPva"
      },
      "source": [
        "# 8 - Model Inference"
      ]
    },
    {
      "cell_type": "code",
      "execution_count": 81,
      "metadata": {
        "colab": {
          "base_uri": "https://localhost:8080/"
        },
        "id": "u7AV3DWKUTIz",
        "outputId": "c2351d42-8426-4449-f5e3-bf57d50db298"
      },
      "outputs": [
        {
          "name": "stdout",
          "output_type": "stream",
          "text": [
            "WARNING:tensorflow:Error in loading the saved optimizer state. As a result, your model is starting with a freshly initialized optimizer.\n"
          ]
        }
      ],
      "source": [
        "# Load The Models\n",
        "\n",
        "with open('final_pipeline.pkl', 'rb') as file_1:\n",
        "  model_pipeline = joblib.load(file_1)\n",
        "\n",
        "from tensorflow.keras.models import load_model\n",
        "model_ann = load_model('titanic_model.h5')"
      ]
    },
    {
      "cell_type": "code",
      "execution_count": 88,
      "metadata": {},
      "outputs": [
        {
          "data": {
            "text/plain": [
              "(5, 12)"
            ]
          },
          "execution_count": 88,
          "metadata": {},
          "output_type": "execute_result"
        }
      ],
      "source": [
        "data_inf.values.shape"
      ]
    },
    {
      "cell_type": "code",
      "execution_count": 82,
      "metadata": {
        "colab": {
          "base_uri": "https://localhost:8080/"
        },
        "id": "rVPnH2hzUoFz",
        "outputId": "c750d562-66b4-49c9-a06a-0d74bf8ceec0"
      },
      "outputs": [
        {
          "data": {
            "text/plain": [
              "array([[ 0.85858734, -0.59345635, -0.48794103, -0.49246397, -0.4728609 ,\n",
              "         0.        ,  1.        ],\n",
              "       [-1.54620871,  0.88962837,  0.44984353, -0.49246397,  0.35585768,\n",
              "         0.        ,  1.        ],\n",
              "       [ 0.85858734, -0.59345635, -0.48794103, -0.49246397, -0.47471659,\n",
              "         0.        ,  1.        ],\n",
              "       [-1.54620871,  0.51885719, -0.48794103,  0.72443541, -0.06824395,\n",
              "         0.        ,  1.        ],\n",
              "       [-1.54620871,  1.5570165 , -0.48794103,  0.72443541,  0.51962175,\n",
              "         0.        ,  1.        ]])"
            ]
          },
          "execution_count": 82,
          "metadata": {},
          "output_type": "execute_result"
        }
      ],
      "source": [
        "# Transform Inference-Set \n",
        "\n",
        "data_inf_transform = model_pipeline.transform(data_inf)\n",
        "data_inf_transform"
      ]
    },
    {
      "cell_type": "code",
      "execution_count": 83,
      "metadata": {
        "colab": {
          "base_uri": "https://localhost:8080/"
        },
        "id": "5Rh8vf8mU30j",
        "outputId": "fc126408-d593-446d-ab8a-b1f3fee07f9c"
      },
      "outputs": [
        {
          "name": "stdout",
          "output_type": "stream",
          "text": [
            "1/1 [==============================] - 0s 55ms/step\n"
          ]
        },
        {
          "name": "stderr",
          "output_type": "stream",
          "text": [
            "2022-12-01 10:09:15.013005: I tensorflow/core/grappler/optimizers/custom_graph_optimizer_registry.cc:114] Plugin optimizer for device_type GPU is enabled.\n"
          ]
        },
        {
          "data": {
            "text/plain": [
              "array([[0],\n",
              "       [0],\n",
              "       [0],\n",
              "       [0],\n",
              "       [0]])"
            ]
          },
          "execution_count": 83,
          "metadata": {},
          "output_type": "execute_result"
        }
      ],
      "source": [
        "# Predict using Neural Network\n",
        "\n",
        "y_pred_inf = model_ann.predict(data_inf_transform)\n",
        "y_pred_inf = np.where(y_pred_inf >= 0.5, 1, 0)\n",
        "y_pred_inf"
      ]
    }
  ],
  "metadata": {
    "accelerator": "GPU",
    "colab": {
      "collapsed_sections": [
        "dVjc4_URBTsk",
        "vtrlbiHJCWcd",
        "AA2wCr8dC2pU",
        "CPeqKofcE8ov",
        "tt7-B8dZIy3R",
        "E8nuiM75L0zm",
        "pF3xYThkQYwX",
        "kZ4J59d3SNHy",
        "aWw88_LyScO4"
      ],
      "provenance": [],
      "toc_visible": true
    },
    "gpuClass": "standard",
    "kernelspec": {
      "display_name": "Python 3.10.8 64-bit",
      "language": "python",
      "name": "python3"
    },
    "language_info": {
      "codemirror_mode": {
        "name": "ipython",
        "version": 3
      },
      "file_extension": ".py",
      "mimetype": "text/x-python",
      "name": "python",
      "nbconvert_exporter": "python",
      "pygments_lexer": "ipython3",
      "version": "3.10.8"
    },
    "vscode": {
      "interpreter": {
        "hash": "aee8b7b246df8f9039afb4144a1f6fd8d2ca17a180786b69acc140d282b71a49"
      }
    }
  },
  "nbformat": 4,
  "nbformat_minor": 0
}
