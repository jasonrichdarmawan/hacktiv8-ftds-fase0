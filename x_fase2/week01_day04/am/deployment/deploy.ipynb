{
 "cells": [
  {
   "cell_type": "code",
   "execution_count": 50,
   "metadata": {},
   "outputs": [
    {
     "data": {
      "text/plain": [
       "{'label_names': ['Not Survived'], 'result': '[[0]]'}"
      ]
     },
     "execution_count": 50,
     "metadata": {},
     "output_type": "execute_result"
    }
   ],
   "source": [
    "import requests\n",
    "\n",
    "# URL = \"http://127.0.0.1:5001/predict\"\n",
    "URL = \"https://backend-titanic-kidfrom.koyeb.app/predict\"\n",
    "new_data = {\n",
    "    \"PassengerId\": [120],\n",
    "    \"Pclass\": [0],\n",
    "    \"Name\": [\"Sherlock Holmes\"],\n",
    "    \"Sex\": [\"male\"],\n",
    "    \"Age\": [30],\n",
    "    \"Sibsp\": [0],\n",
    "    \"Parch\": [0],\n",
    "    \"Ticket\": [\"C.A.1121\"],\n",
    "    \"Fare\": [10],\n",
    "    \"Cabin\": [\"F1\"],\n",
    "    \"Embarked\": [\"C\"]\n",
    "}\n",
    "\n",
    "response = requests.post(URL, json=new_data)\n",
    "response_json = response.json()\n",
    "response_json"
   ]
  },
  {
   "cell_type": "code",
   "execution_count": 36,
   "metadata": {},
   "outputs": [
    {
     "data": {
      "text/plain": [
       "'1.1.3'"
      ]
     },
     "execution_count": 36,
     "metadata": {},
     "output_type": "execute_result"
    }
   ],
   "source": [
    "import sklearn\n",
    "\n",
    "sklearn.__version__"
   ]
  },
  {
   "cell_type": "code",
   "execution_count": 35,
   "metadata": {},
   "outputs": [
    {
     "data": {
      "text/html": [
       "<div>\n",
       "<style scoped>\n",
       "    .dataframe tbody tr th:only-of-type {\n",
       "        vertical-align: middle;\n",
       "    }\n",
       "\n",
       "    .dataframe tbody tr th {\n",
       "        vertical-align: top;\n",
       "    }\n",
       "\n",
       "    .dataframe thead th {\n",
       "        text-align: right;\n",
       "    }\n",
       "</style>\n",
       "<table border=\"1\" class=\"dataframe\">\n",
       "  <thead>\n",
       "    <tr style=\"text-align: right;\">\n",
       "      <th></th>\n",
       "      <th>PassengerId</th>\n",
       "      <th>Pclass</th>\n",
       "      <th>Name</th>\n",
       "      <th>Sex</th>\n",
       "      <th>Age</th>\n",
       "      <th>Sibsp</th>\n",
       "      <th>Parch</th>\n",
       "      <th>Ticket</th>\n",
       "      <th>Fare</th>\n",
       "      <th>Cabin</th>\n",
       "      <th>Embarked</th>\n",
       "    </tr>\n",
       "  </thead>\n",
       "  <tbody>\n",
       "    <tr>\n",
       "      <th>0</th>\n",
       "      <td>120</td>\n",
       "      <td>0</td>\n",
       "      <td>Sherlock Holmes</td>\n",
       "      <td>male</td>\n",
       "      <td>30</td>\n",
       "      <td>0</td>\n",
       "      <td>0</td>\n",
       "      <td>C.A.1121</td>\n",
       "      <td>10</td>\n",
       "      <td>F1</td>\n",
       "      <td>C</td>\n",
       "    </tr>\n",
       "  </tbody>\n",
       "</table>\n",
       "</div>"
      ],
      "text/plain": [
       "   PassengerId  Pclass             Name   Sex  Age  Sibsp  Parch    Ticket  \\\n",
       "0          120       0  Sherlock Holmes  male   30      0      0  C.A.1121   \n",
       "\n",
       "   Fare Cabin Embarked  \n",
       "0    10    F1        C  "
      ]
     },
     "execution_count": 35,
     "metadata": {},
     "output_type": "execute_result"
    }
   ],
   "source": [
    "import pandas as pd\n",
    "\n",
    "pd.DataFrame({\n",
    "    \"PassengerId\": [120],\n",
    "    \"Pclass\": [0],\n",
    "    \"Name\": [\"Sherlock Holmes\"],\n",
    "    \"Sex\": [\"male\"],\n",
    "    \"Age\": [30],\n",
    "    \"Sibsp\": [0],\n",
    "    \"Parch\": [0],\n",
    "    \"Ticket\": [\"C.A.1121\"],\n",
    "    \"Fare\": [10],\n",
    "    \"Cabin\": [\"F1\"],\n",
    "    \"Embarked\": [\"C\"]\n",
    "})"
   ]
  }
 ],
 "metadata": {
  "kernelspec": {
   "display_name": "Python 3.10.8 64-bit",
   "language": "python",
   "name": "python3"
  },
  "language_info": {
   "codemirror_mode": {
    "name": "ipython",
    "version": 3
   },
   "file_extension": ".py",
   "mimetype": "text/x-python",
   "name": "python",
   "nbconvert_exporter": "python",
   "pygments_lexer": "ipython3",
   "version": "3.10.8"
  },
  "orig_nbformat": 4,
  "vscode": {
   "interpreter": {
    "hash": "aee8b7b246df8f9039afb4144a1f6fd8d2ca17a180786b69acc140d282b71a49"
   }
  }
 },
 "nbformat": 4,
 "nbformat_minor": 2
}
